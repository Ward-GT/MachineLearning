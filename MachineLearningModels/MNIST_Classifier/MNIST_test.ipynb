{
 "cells": [
  {
   "cell_type": "code",
   "execution_count": 1,
   "id": "initial_id",
   "metadata": {
    "collapsed": true,
    "ExecuteTime": {
     "end_time": "2024-02-28T15:30:52.271872400Z",
     "start_time": "2024-02-28T15:30:48.677834500Z"
    }
   },
   "outputs": [
    {
     "name": "stdout",
     "output_type": "stream",
     "text": [
      "torch.Size([1, 1, 28, 28])\n",
      "torch.Size([1, 10])\n"
     ]
    }
   ],
   "source": [
    "# Import libraries\n",
    "import torch\n",
    "from torch import nn\n",
    "from torch import optim\n",
    "import numpy as np\n",
    "import matplotlib.pyplot as plt\n",
    "\n",
    "\n",
    "from MNIST_dataset import load_mnist_datasets\n",
    "from MNIST_model import NeuralNetwork\n",
    "from MNIST_train import train_model"
   ]
  },
  {
   "cell_type": "code",
   "execution_count": 2,
   "outputs": [],
   "source": [
    "# Load MNIST dataset\n",
    "train_data, test_data, train_dataloader, test_dataloader = load_mnist_datasets()"
   ],
   "metadata": {
    "collapsed": false,
    "ExecuteTime": {
     "end_time": "2024-02-28T15:30:52.381467Z",
     "start_time": "2024-02-28T15:30:52.269919600Z"
    }
   },
   "id": "3d05e2f378f3604b"
  },
  {
   "cell_type": "code",
   "execution_count": 3,
   "outputs": [
    {
     "data": {
      "text/plain": "<Figure size 800x800 with 9 Axes>",
      "image/png": "[encoded data removed]"
     },
     "metadata": {},
     "output_type": "display_data"
    }
   ],
   "source": [
    "# Plot dataset\n",
    "figure = plt.figure(figsize=(8, 8))\n",
    "cols, rows = 3, 3\n",
    "for i in range(1, cols * rows + 1):\n",
    "    sample_idx = torch.randint(len(train_data), size=(1,)).item()\n",
    "    img, label = train_data[sample_idx]\n",
    "    figure.add_subplot(rows, cols, i)\n",
    "    plt.title(label)\n",
    "    plt.axis(\"off\")\n",
    "    plt.imshow(img.squeeze(), cmap=\"gray\")\n",
    "plt.show()"
   ],
   "metadata": {
    "collapsed": false,
    "ExecuteTime": {
     "end_time": "2024-02-28T15:30:52.787674500Z",
     "start_time": "2024-02-28T15:30:52.383449100Z"
    }
   },
   "id": "518f7203b962d0b5"
  },
  {
   "cell_type": "code",
   "execution_count": 5,
   "outputs": [
    {
     "name": "stdout",
     "output_type": "stream",
     "text": [
      "Epoch 1\n",
      "-------------------------------\n",
      "loss: 2.307142  [    0/60000]\n",
      "loss: 0.721530  [ 6400/60000]\n",
      "loss: 0.431592  [12800/60000]\n",
      "loss: 0.417534  [19200/60000]\n",
      "loss: 0.252309  [25600/60000]\n",
      "loss: 0.188236  [32000/60000]\n",
      "loss: 0.149154  [38400/60000]\n",
      "loss: 0.476302  [44800/60000]\n",
      "loss: 0.192834  [51200/60000]\n",
      "loss: 0.254853  [57600/60000]\n",
      "Test Error: \n",
      " Accuracy: 96.4%, Avg loss: 0.121788 \n",
      "\n",
      "Epoch 2\n",
      "-------------------------------\n",
      "loss: 0.126521  [    0/60000]\n",
      "loss: 0.229882  [ 6400/60000]\n",
      "loss: 0.258457  [12800/60000]\n",
      "loss: 0.264574  [19200/60000]\n",
      "loss: 0.159013  [25600/60000]\n",
      "loss: 0.129905  [32000/60000]\n",
      "loss: 0.073752  [38400/60000]\n",
      "loss: 0.171851  [44800/60000]\n",
      "loss: 0.074603  [51200/60000]\n",
      "loss: 0.090922  [57600/60000]\n",
      "Test Error: \n",
      " Accuracy: 97.4%, Avg loss: 0.082155 \n",
      "\n",
      "Epoch 3\n",
      "-------------------------------\n",
      "loss: 0.046886  [    0/60000]\n",
      "loss: 0.089351  [ 6400/60000]\n",
      "loss: 0.153481  [12800/60000]\n",
      "loss: 0.031365  [19200/60000]\n",
      "loss: 0.059909  [25600/60000]\n",
      "loss: 0.041136  [32000/60000]\n",
      "loss: 0.136853  [38400/60000]\n",
      "loss: 0.059655  [44800/60000]\n",
      "loss: 0.139088  [51200/60000]\n",
      "loss: 0.219429  [57600/60000]\n",
      "Test Error: \n",
      " Accuracy: 98.2%, Avg loss: 0.055476 \n",
      "\n",
      "Epoch 4\n",
      "-------------------------------\n",
      "loss: 0.066554  [    0/60000]\n",
      "loss: 0.035039  [ 6400/60000]\n",
      "loss: 0.098709  [12800/60000]\n",
      "loss: 0.092262  [19200/60000]\n",
      "loss: 0.084730  [25600/60000]\n",
      "loss: 0.044024  [32000/60000]\n",
      "loss: 0.011007  [38400/60000]\n",
      "loss: 0.046990  [44800/60000]\n",
      "loss: 0.057538  [51200/60000]\n",
      "loss: 0.130768  [57600/60000]\n",
      "Test Error: \n",
      " Accuracy: 98.5%, Avg loss: 0.047812 \n",
      "\n",
      "Epoch 5\n",
      "-------------------------------\n",
      "loss: 0.107325  [    0/60000]\n",
      "loss: 0.084769  [ 6400/60000]\n",
      "loss: 0.063219  [12800/60000]\n",
      "loss: 0.079841  [19200/60000]\n",
      "loss: 0.021818  [25600/60000]\n",
      "loss: 0.034143  [32000/60000]\n",
      "loss: 0.058431  [38400/60000]\n",
      "loss: 0.047775  [44800/60000]\n",
      "loss: 0.040770  [51200/60000]\n",
      "loss: 0.128492  [57600/60000]\n",
      "Test Error: \n",
      " Accuracy: 98.6%, Avg loss: 0.046984 \n",
      "\n",
      "Epoch 6\n",
      "-------------------------------\n",
      "loss: 0.049534  [    0/60000]\n",
      "loss: 0.069709  [ 6400/60000]\n",
      "loss: 0.079807  [12800/60000]\n",
      "loss: 0.046620  [19200/60000]\n",
      "loss: 0.047548  [25600/60000]\n",
      "loss: 0.070446  [32000/60000]\n",
      "loss: 0.185466  [38400/60000]\n",
      "loss: 0.129421  [44800/60000]\n",
      "loss: 0.045964  [51200/60000]\n",
      "loss: 0.065001  [57600/60000]\n",
      "Test Error: \n",
      " Accuracy: 98.5%, Avg loss: 0.043785 \n",
      "\n",
      "Epoch 7\n",
      "-------------------------------\n",
      "loss: 0.018717  [    0/60000]\n",
      "loss: 0.037202  [ 6400/60000]\n",
      "loss: 0.097949  [12800/60000]\n",
      "loss: 0.062993  [19200/60000]\n",
      "loss: 0.151001  [25600/60000]\n",
      "loss: 0.035631  [32000/60000]\n",
      "loss: 0.052863  [38400/60000]\n",
      "loss: 0.030723  [44800/60000]\n",
      "loss: 0.043052  [51200/60000]\n",
      "loss: 0.027792  [57600/60000]\n",
      "Test Error: \n",
      " Accuracy: 98.6%, Avg loss: 0.042310 \n",
      "\n",
      "Epoch 8\n",
      "-------------------------------\n",
      "loss: 0.219342  [    0/60000]\n",
      "loss: 0.073899  [ 6400/60000]\n",
      "loss: 0.016989  [12800/60000]\n",
      "loss: 0.043795  [19200/60000]\n",
      "loss: 0.016891  [25600/60000]\n",
      "loss: 0.013722  [32000/60000]\n",
      "loss: 0.136026  [38400/60000]\n",
      "loss: 0.054219  [44800/60000]\n",
      "loss: 0.013618  [51200/60000]\n",
      "loss: 0.038737  [57600/60000]\n",
      "Test Error: \n",
      " Accuracy: 98.8%, Avg loss: 0.036136 \n",
      "\n",
      "Epoch 9\n",
      "-------------------------------\n",
      "loss: 0.021387  [    0/60000]\n",
      "loss: 0.101917  [ 6400/60000]\n",
      "loss: 0.015851  [12800/60000]\n",
      "loss: 0.047218  [19200/60000]\n",
      "loss: 0.019248  [25600/60000]\n",
      "loss: 0.104345  [32000/60000]\n",
      "loss: 0.052987  [38400/60000]\n",
      "loss: 0.024866  [44800/60000]\n",
      "loss: 0.024087  [51200/60000]\n",
      "loss: 0.060581  [57600/60000]\n",
      "Test Error: \n",
      " Accuracy: 98.8%, Avg loss: 0.034293 \n",
      "\n",
      "Epoch 10\n",
      "-------------------------------\n",
      "loss: 0.025021  [    0/60000]\n",
      "loss: 0.182683  [ 6400/60000]\n",
      "loss: 0.204156  [12800/60000]\n",
      "loss: 0.076920  [19200/60000]\n",
      "loss: 0.080228  [25600/60000]\n",
      "loss: 0.058845  [32000/60000]\n",
      "loss: 0.073589  [38400/60000]\n",
      "loss: 0.011221  [44800/60000]\n",
      "loss: 0.047914  [51200/60000]\n",
      "loss: 0.042905  [57600/60000]\n",
      "Test Error: \n",
      " Accuracy: 98.8%, Avg loss: 0.036008 \n",
      "\n",
      "Done!\n"
     ]
    }
   ],
   "source": [
    "# Create model\n",
    "model = NeuralNetwork()\n",
    "loss_fn = nn.CrossEntropyLoss()\n",
    "optimizer = optim.Adam(model.parameters(), lr=1e-3)\n",
    "\n",
    "# Train model\n",
    "train_model(model, train_dataloader, test_dataloader, loss_fn, optimizer, epochs=10)\n"
   ],
   "metadata": {
    "collapsed": false,
    "ExecuteTime": {
     "end_time": "2024-02-28T15:35:37.903725400Z",
     "start_time": "2024-02-28T15:31:48.969612700Z"
    }
   },
   "id": "51a7bb622e9329a7"
  },
  {
   "cell_type": "code",
   "execution_count": 8,
   "outputs": [
    {
     "name": "stdout",
     "output_type": "stream",
     "text": [
      "7\n",
      "7\n"
     ]
    }
   ],
   "source": [
    "image, label = test_data[0]\n",
    "\n",
    "pred_label = model(image.unsqueeze(0)).argmax(dim=1).item()\n",
    "\n",
    "print(label)\n",
    "print(pred_label)"
   ],
   "metadata": {
    "collapsed": false,
    "ExecuteTime": {
     "end_time": "2024-02-28T15:42:11.222918500Z",
     "start_time": "2024-02-28T15:42:11.209544200Z"
    }
   },
   "id": "86e190a761162098"
  },
  {
   "cell_type": "code",
   "execution_count": 9,
   "outputs": [],
   "source": [
    "torch.save(model.state_dict(), \"MNIST_model.pth\")"
   ],
   "metadata": {
    "collapsed": false,
    "ExecuteTime": {
     "end_time": "2024-02-28T15:44:56.820088500Z",
     "start_time": "2024-02-28T15:44:56.791088900Z"
    }
   },
   "id": "ad83e3417290a376"
  },
  {
   "cell_type": "code",
   "execution_count": null,
   "outputs": [],
   "source": [],
   "metadata": {
    "collapsed": false
   },
   "id": "fdf2b1e968ba2c1d"
  }
 ],
 "metadata": {
  "kernelspec": {
   "display_name": "Python 3",
   "language": "python",
   "name": "python3"
  },
  "language_info": {
   "codemirror_mode": {
    "name": "ipython",
    "version": 2
   },
   "file_extension": ".py",
   "mimetype": "text/x-python",
   "name": "python",
   "nbconvert_exporter": "python",
   "pygments_lexer": "ipython2",
   "version": "2.7.6"
  }
 },
 "nbformat": 4,
 "nbformat_minor": 5
}
