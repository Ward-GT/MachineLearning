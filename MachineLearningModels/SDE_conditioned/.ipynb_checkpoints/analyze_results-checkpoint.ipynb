{
 "cells": [
  {
   "cell_type": "code",
   "id": "initial_id",
   "metadata": {
    "collapsed": true,
    "ExecuteTime": {
     "end_time": "2025-07-11T10:18:13.777078Z",
     "start_time": "2025-07-11T10:18:08.452482Z"
    }
   },
   "source": [
    "# Import libraries and dependencies\n",
    "import matplotlib.pyplot as plt\n",
    "import numpy as np\n",
    "import pandas as pd\n",
    "import torch\n",
    "import os\n",
    "\n",
    "from torchvision.io import read_image\n",
    "from PIL import Image\n",
    "from script_util import create_model_diffusion\n",
    "\n",
    "from SDE_datareduction import get_test_data, get_data\n",
    "from main import IMAGE_DATASET_PATH, STRUCTURE_DATASET_PATH, BASE_OUTPUT\n",
    "\n",
    "from SDE_utils import *\n",
    "from SDE_test import mae, count_parameters"
   ],
   "outputs": [
    {
     "name": "stdout",
     "output_type": "stream",
     "text": [
      "Script Dir C:\\Users\\tabor\\Documents\\Programming\\MachineLearning\\MachineLearningModels\\SDE_conditioned\n"
     ]
    }
   ],
   "execution_count": 1
  },
  {
   "metadata": {},
   "cell_type": "markdown",
   "source": "Create a model and print its parameters according to config",
   "id": "bab18f72cac68ffe"
  },
  {
   "metadata": {
    "ExecuteTime": {
     "end_time": "2025-07-11T10:18:14.177841Z",
     "start_time": "2025-07-11T10:18:13.788664Z"
    }
   },
   "cell_type": "code",
   "source": [
    "# Create a model and print its parameters\n",
    "with open('config.json', \"r\", encoding=\"utf-8\") as f:\n",
    "    config = json.load(f)\n",
    "    \n",
    "model, *_ = create_model_diffusion('cpu', **config)\n",
    "\n",
    "parameters = count_parameters(model)\n",
    "\n",
    "print(f\"Parameters: {parameters}\")"
   ],
   "id": "9393afd7fdcbde47",
   "outputs": [
    {
     "ename": "ValueError",
     "evalue": "num_channels must be divisible by num_groups",
     "output_type": "error",
     "traceback": [
      "\u001B[1;31m---------------------------------------------------------------------------\u001B[0m",
      "\u001B[1;31mValueError\u001B[0m                                Traceback (most recent call last)",
      "Cell \u001B[1;32mIn[2], line 5\u001B[0m\n\u001B[0;32m      2\u001B[0m \u001B[38;5;28;01mwith\u001B[39;00m \u001B[38;5;28mopen\u001B[39m(\u001B[38;5;124m'\u001B[39m\u001B[38;5;124mconfig.json\u001B[39m\u001B[38;5;124m'\u001B[39m, \u001B[38;5;124m\"\u001B[39m\u001B[38;5;124mr\u001B[39m\u001B[38;5;124m\"\u001B[39m, encoding\u001B[38;5;241m=\u001B[39m\u001B[38;5;124m\"\u001B[39m\u001B[38;5;124mutf-8\u001B[39m\u001B[38;5;124m\"\u001B[39m) \u001B[38;5;28;01mas\u001B[39;00m f:\n\u001B[0;32m      3\u001B[0m     config \u001B[38;5;241m=\u001B[39m json\u001B[38;5;241m.\u001B[39mload(f)\n\u001B[1;32m----> 5\u001B[0m model, \u001B[38;5;241m*\u001B[39m_ \u001B[38;5;241m=\u001B[39m \u001B[43mcreate_model_diffusion\u001B[49m\u001B[43m(\u001B[49m\u001B[38;5;124;43m'\u001B[39;49m\u001B[38;5;124;43mcpu\u001B[39;49m\u001B[38;5;124;43m'\u001B[39;49m\u001B[43m,\u001B[49m\u001B[43m \u001B[49m\u001B[38;5;241;43m*\u001B[39;49m\u001B[38;5;241;43m*\u001B[39;49m\u001B[43mconfig\u001B[49m\u001B[43m)\u001B[49m\n\u001B[0;32m      7\u001B[0m parameters \u001B[38;5;241m=\u001B[39m count_parameters(model)\n\u001B[0;32m      9\u001B[0m \u001B[38;5;28mprint\u001B[39m(\u001B[38;5;124mf\u001B[39m\u001B[38;5;124m\"\u001B[39m\u001B[38;5;124mParameters: \u001B[39m\u001B[38;5;132;01m{\u001B[39;00mparameters\u001B[38;5;132;01m}\u001B[39;00m\u001B[38;5;124m\"\u001B[39m)\n",
      "File \u001B[1;32m~\\Documents\\Programming\\MachineLearning\\MachineLearningModels\\SDE_conditioned\\script_util.py:9\u001B[0m, in \u001B[0;36mcreate_model_diffusion\u001B[1;34m(device, **kwargs)\u001B[0m\n\u001B[0;32m      8\u001B[0m \u001B[38;5;28;01mdef\u001B[39;00m \u001B[38;5;21mcreate_model_diffusion\u001B[39m(device, \u001B[38;5;241m*\u001B[39m\u001B[38;5;241m*\u001B[39mkwargs):\n\u001B[1;32m----> 9\u001B[0m     model \u001B[38;5;241m=\u001B[39m \u001B[43mcreate_model\u001B[49m\u001B[43m(\u001B[49m\n\u001B[0;32m     10\u001B[0m \u001B[43m        \u001B[49m\u001B[43mmodel_name\u001B[49m\u001B[38;5;241;43m=\u001B[39;49m\u001B[43mkwargs\u001B[49m\u001B[38;5;241;43m.\u001B[39;49m\u001B[43mget\u001B[49m\u001B[43m(\u001B[49m\u001B[38;5;124;43m\"\u001B[39;49m\u001B[38;5;124;43mmodel_name\u001B[39;49m\u001B[38;5;124;43m\"\u001B[39;49m\u001B[43m)\u001B[49m\u001B[43m,\u001B[49m\n\u001B[0;32m     11\u001B[0m \u001B[43m        \u001B[49m\u001B[43mimage_size\u001B[49m\u001B[38;5;241;43m=\u001B[39;49m\u001B[43mkwargs\u001B[49m\u001B[38;5;241;43m.\u001B[39;49m\u001B[43mget\u001B[49m\u001B[43m(\u001B[49m\u001B[38;5;124;43m\"\u001B[39;49m\u001B[38;5;124;43mimage_size\u001B[39;49m\u001B[38;5;124;43m\"\u001B[39;49m\u001B[43m)\u001B[49m\u001B[43m,\u001B[49m\n\u001B[0;32m     12\u001B[0m \u001B[43m        \u001B[49m\u001B[43mlearn_sigma\u001B[49m\u001B[38;5;241;43m=\u001B[39;49m\u001B[43mkwargs\u001B[49m\u001B[38;5;241;43m.\u001B[39;49m\u001B[43mget\u001B[49m\u001B[43m(\u001B[49m\u001B[38;5;124;43m\"\u001B[39;49m\u001B[38;5;124;43mlearn_sigma\u001B[39;49m\u001B[38;5;124;43m\"\u001B[39;49m\u001B[43m)\u001B[49m\u001B[43m,\u001B[49m\n\u001B[0;32m     13\u001B[0m \u001B[43m        \u001B[49m\u001B[43mn_blocks\u001B[49m\u001B[38;5;241;43m=\u001B[39;49m\u001B[43mkwargs\u001B[49m\u001B[38;5;241;43m.\u001B[39;49m\u001B[43mget\u001B[49m\u001B[43m(\u001B[49m\u001B[38;5;124;43m\"\u001B[39;49m\u001B[38;5;124;43mn_blocks\u001B[39;49m\u001B[38;5;124;43m\"\u001B[39;49m\u001B[43m)\u001B[49m\u001B[43m,\u001B[49m\n\u001B[0;32m     14\u001B[0m \u001B[43m        \u001B[49m\u001B[43mn_heads\u001B[49m\u001B[38;5;241;43m=\u001B[39;49m\u001B[43mkwargs\u001B[49m\u001B[38;5;241;43m.\u001B[39;49m\u001B[43mget\u001B[49m\u001B[43m(\u001B[49m\u001B[38;5;124;43m\"\u001B[39;49m\u001B[38;5;124;43mn_heads\u001B[39;49m\u001B[38;5;124;43m\"\u001B[39;49m\u001B[43m)\u001B[49m\u001B[43m,\u001B[49m\n\u001B[0;32m     15\u001B[0m \u001B[43m        \u001B[49m\u001B[43mdim_head\u001B[49m\u001B[38;5;241;43m=\u001B[39;49m\u001B[43mkwargs\u001B[49m\u001B[38;5;241;43m.\u001B[39;49m\u001B[43mget\u001B[49m\u001B[43m(\u001B[49m\u001B[38;5;124;43m\"\u001B[39;49m\u001B[38;5;124;43mdim_head\u001B[39;49m\u001B[38;5;124;43m\"\u001B[39;49m\u001B[43m)\u001B[49m\u001B[43m,\u001B[49m\n\u001B[0;32m     16\u001B[0m \u001B[43m        \u001B[49m\u001B[43mn_channels\u001B[49m\u001B[38;5;241;43m=\u001B[39;49m\u001B[43mkwargs\u001B[49m\u001B[38;5;241;43m.\u001B[39;49m\u001B[43mget\u001B[49m\u001B[43m(\u001B[49m\u001B[38;5;124;43m\"\u001B[39;49m\u001B[38;5;124;43mn_channels\u001B[39;49m\u001B[38;5;124;43m\"\u001B[39;49m\u001B[43m)\u001B[49m\u001B[43m,\u001B[49m\n\u001B[0;32m     17\u001B[0m \u001B[43m        \u001B[49m\u001B[43mattention_resolutions\u001B[49m\u001B[38;5;241;43m=\u001B[39;49m\u001B[43mkwargs\u001B[49m\u001B[38;5;241;43m.\u001B[39;49m\u001B[43mget\u001B[49m\u001B[43m(\u001B[49m\u001B[38;5;124;43m\"\u001B[39;49m\u001B[38;5;124;43mattention_resolutions\u001B[39;49m\u001B[38;5;124;43m\"\u001B[39;49m\u001B[43m)\u001B[49m\u001B[43m,\u001B[49m\n\u001B[0;32m     18\u001B[0m \u001B[43m        \u001B[49m\u001B[43mdevice\u001B[49m\u001B[38;5;241;43m=\u001B[39;49m\u001B[43mdevice\u001B[49m\n\u001B[0;32m     19\u001B[0m \u001B[43m    \u001B[49m\u001B[43m)\u001B[49m\n\u001B[0;32m     21\u001B[0m     diffusion \u001B[38;5;241m=\u001B[39m create_diffusion(\n\u001B[0;32m     22\u001B[0m         noise_steps\u001B[38;5;241m=\u001B[39mkwargs\u001B[38;5;241m.\u001B[39mget(\u001B[38;5;124m\"\u001B[39m\u001B[38;5;124mnoise_steps\u001B[39m\u001B[38;5;124m\"\u001B[39m),\n\u001B[0;32m     23\u001B[0m         image_size\u001B[38;5;241m=\u001B[39mkwargs\u001B[38;5;241m.\u001B[39mget(\u001B[38;5;124m\"\u001B[39m\u001B[38;5;124mimage_size\u001B[39m\u001B[38;5;124m\"\u001B[39m),\n\u001B[1;32m   (...)\u001B[0m\n\u001B[0;32m     26\u001B[0m         vector_conditioning\u001B[38;5;241m=\u001B[39mkwargs\u001B[38;5;241m.\u001B[39mget(\u001B[38;5;124m\"\u001B[39m\u001B[38;5;124mvector_conditioning\u001B[39m\u001B[38;5;124m\"\u001B[39m)\n\u001B[0;32m     27\u001B[0m     )\n\u001B[0;32m     29\u001B[0m     \u001B[38;5;28;01mreturn\u001B[39;00m model, diffusion\n",
      "File \u001B[1;32m~\\Documents\\Programming\\MachineLearning\\MachineLearningModels\\SDE_conditioned\\script_util.py:44\u001B[0m, in \u001B[0;36mcreate_model\u001B[1;34m(model_name, image_size, learn_sigma, n_blocks, n_heads, dim_head, n_channels, attention_resolutions, device)\u001B[0m\n\u001B[0;32m     31\u001B[0m \u001B[38;5;28;01mdef\u001B[39;00m \u001B[38;5;21mcreate_model\u001B[39m(\n\u001B[0;32m     32\u001B[0m         model_name,\n\u001B[0;32m     33\u001B[0m         image_size,\n\u001B[1;32m   (...)\u001B[0m\n\u001B[0;32m     40\u001B[0m         device\n\u001B[0;32m     41\u001B[0m ):\n\u001B[0;32m     43\u001B[0m     \u001B[38;5;28;01mif\u001B[39;00m model_name \u001B[38;5;241m==\u001B[39m \u001B[38;5;124m\"\u001B[39m\u001B[38;5;124mFastGAN\u001B[39m\u001B[38;5;124m\"\u001B[39m:\n\u001B[1;32m---> 44\u001B[0m         \u001B[38;5;28;01mreturn\u001B[39;00m \u001B[43mFG_UNet\u001B[49m\u001B[43m(\u001B[49m\n\u001B[0;32m     45\u001B[0m \u001B[43m                \u001B[49m\u001B[43minput_channels\u001B[49m\u001B[38;5;241;43m=\u001B[39;49m\u001B[38;5;241;43m6\u001B[39;49m\u001B[43m,\u001B[49m\n\u001B[0;32m     46\u001B[0m \u001B[43m                \u001B[49m\u001B[43moutput_channels\u001B[49m\u001B[38;5;241;43m=\u001B[39;49m\u001B[43m(\u001B[49m\u001B[38;5;241;43m3\u001B[39;49m\u001B[43m \u001B[49m\u001B[38;5;28;43;01mif\u001B[39;49;00m\u001B[43m \u001B[49m\u001B[38;5;129;43;01mnot\u001B[39;49;00m\u001B[43m \u001B[49m\u001B[43mlearn_sigma\u001B[49m\u001B[43m \u001B[49m\u001B[38;5;28;43;01melse\u001B[39;49;00m\u001B[43m \u001B[49m\u001B[38;5;241;43m6\u001B[39;49m\u001B[43m)\u001B[49m\u001B[43m,\u001B[49m\n\u001B[0;32m     47\u001B[0m \u001B[43m                \u001B[49m\u001B[43mn_channels\u001B[49m\u001B[38;5;241;43m=\u001B[39;49m\u001B[38;5;241;43m16\u001B[39;49m\u001B[43m,\u001B[49m\n\u001B[0;32m     48\u001B[0m \u001B[43m                \u001B[49m\u001B[43mch_mults\u001B[49m\u001B[38;5;241;43m=\u001B[39;49m\u001B[43m[\u001B[49m\u001B[38;5;241;43m1\u001B[39;49m\u001B[43m,\u001B[49m\u001B[43m \u001B[49m\u001B[38;5;241;43m2\u001B[39;49m\u001B[43m,\u001B[49m\u001B[43m \u001B[49m\u001B[38;5;241;43m2\u001B[39;49m\u001B[43m,\u001B[49m\u001B[43m \u001B[49m\u001B[38;5;241;43m2\u001B[39;49m\u001B[43m,\u001B[49m\u001B[43m \u001B[49m\u001B[38;5;241;43m2\u001B[39;49m\u001B[43m,\u001B[49m\u001B[43m \u001B[49m\u001B[38;5;241;43m2\u001B[39;49m\u001B[43m]\u001B[49m\u001B[43m,\u001B[49m\n\u001B[0;32m     49\u001B[0m \u001B[43m                \u001B[49m\u001B[43mn_blocks\u001B[49m\u001B[38;5;241;43m=\u001B[39;49m\u001B[38;5;241;43m1\u001B[39;49m\n\u001B[0;32m     50\u001B[0m \u001B[43m            \u001B[49m\u001B[43m)\u001B[49m\u001B[38;5;241m.\u001B[39mto(device)\n\u001B[0;32m     52\u001B[0m     \u001B[38;5;66;03m# Get appropriate channel multipliers dependend on image size\u001B[39;00m\n\u001B[0;32m     53\u001B[0m     \u001B[38;5;28;01melif\u001B[39;00m model_name \u001B[38;5;241m==\u001B[39m \u001B[38;5;124m\"\u001B[39m\u001B[38;5;124mUNet\u001B[39m\u001B[38;5;124m\"\u001B[39m \u001B[38;5;129;01mor\u001B[39;00m model_name \u001B[38;5;241m==\u001B[39m \u001B[38;5;124m\"\u001B[39m\u001B[38;5;124mSmallUNet\u001B[39m\u001B[38;5;124m\"\u001B[39m:\n",
      "File \u001B[1;32m~\\Documents\\Programming\\MachineLearning\\MachineLearningModels\\SDE_conditioned\\models\\FastGAN_UNet.py:124\u001B[0m, in \u001B[0;36mUNet.__init__\u001B[1;34m(self, input_channels, output_channels, n_channels, ch_mults, n_blocks)\u001B[0m\n\u001B[0;32m    121\u001B[0m out_channels \u001B[38;5;241m=\u001B[39m in_channels \u001B[38;5;241m*\u001B[39m ch_mults[i]\n\u001B[0;32m    123\u001B[0m \u001B[38;5;28;01mfor\u001B[39;00m _ \u001B[38;5;129;01min\u001B[39;00m \u001B[38;5;28mrange\u001B[39m(n_blocks):\n\u001B[1;32m--> 124\u001B[0m     \u001B[38;5;28mself\u001B[39m\u001B[38;5;241m.\u001B[39mdown_blocks\u001B[38;5;241m.\u001B[39mappend(\u001B[43mDownBlock\u001B[49m\u001B[43m(\u001B[49m\u001B[43min_channels\u001B[49m\u001B[43m,\u001B[49m\u001B[43m \u001B[49m\u001B[43mout_channels\u001B[49m\u001B[43m,\u001B[49m\u001B[43m \u001B[49m\u001B[43mn_channels\u001B[49m\u001B[38;5;241;43m*\u001B[39;49m\u001B[38;5;241;43m4\u001B[39;49m\u001B[43m)\u001B[49m)\n\u001B[0;32m    125\u001B[0m     in_channels \u001B[38;5;241m=\u001B[39m out_channels\n\u001B[0;32m    127\u001B[0m \u001B[38;5;28;01mif\u001B[39;00m i \u001B[38;5;241m<\u001B[39m n_resolutions \u001B[38;5;241m-\u001B[39m \u001B[38;5;241m1\u001B[39m:\n",
      "File \u001B[1;32m~\\Documents\\Programming\\MachineLearning\\MachineLearningModels\\SDE_conditioned\\models\\FastGAN_UNet.py:59\u001B[0m, in \u001B[0;36mDownBlock.__init__\u001B[1;34m(self, in_channels, out_channels, time_channels)\u001B[0m\n\u001B[0;32m     56\u001B[0m \u001B[38;5;28;01mdef\u001B[39;00m \u001B[38;5;21m__init__\u001B[39m(\u001B[38;5;28mself\u001B[39m, in_channels: \u001B[38;5;28mint\u001B[39m, out_channels: \u001B[38;5;28mint\u001B[39m, time_channels: \u001B[38;5;28mint\u001B[39m):\n\u001B[0;32m     57\u001B[0m     \u001B[38;5;28msuper\u001B[39m()\u001B[38;5;241m.\u001B[39m\u001B[38;5;21m__init__\u001B[39m()\n\u001B[1;32m---> 59\u001B[0m     \u001B[38;5;28mself\u001B[39m\u001B[38;5;241m.\u001B[39mres \u001B[38;5;241m=\u001B[39m \u001B[43mResidualBlock\u001B[49m\u001B[43m(\u001B[49m\u001B[43min_channels\u001B[49m\u001B[43m,\u001B[49m\u001B[43m \u001B[49m\u001B[43mout_channels\u001B[49m\u001B[43m,\u001B[49m\u001B[43m \u001B[49m\u001B[43mtime_channels\u001B[49m\u001B[43m)\u001B[49m\n",
      "File \u001B[1;32m~\\Documents\\Programming\\MachineLearning\\MachineLearningModels\\SDE_conditioned\\models\\FastGAN_UNet.py:33\u001B[0m, in \u001B[0;36mResidualBlock.__init__\u001B[1;34m(self, in_channels, out_channels, time_channels, n_groups, dropout)\u001B[0m\n\u001B[0;32m     31\u001B[0m \u001B[38;5;28;01mdef\u001B[39;00m \u001B[38;5;21m__init__\u001B[39m(\u001B[38;5;28mself\u001B[39m, in_channels: \u001B[38;5;28mint\u001B[39m, out_channels: \u001B[38;5;28mint\u001B[39m, time_channels: \u001B[38;5;28mint\u001B[39m, n_groups: \u001B[38;5;28mint\u001B[39m \u001B[38;5;241m=\u001B[39m \u001B[38;5;241m32\u001B[39m, dropout: \u001B[38;5;28mfloat\u001B[39m \u001B[38;5;241m=\u001B[39m \u001B[38;5;241m0.1\u001B[39m):\n\u001B[0;32m     32\u001B[0m     \u001B[38;5;28msuper\u001B[39m()\u001B[38;5;241m.\u001B[39m\u001B[38;5;21m__init__\u001B[39m()\n\u001B[1;32m---> 33\u001B[0m     \u001B[38;5;28mself\u001B[39m\u001B[38;5;241m.\u001B[39mnorm1 \u001B[38;5;241m=\u001B[39m \u001B[43mnn\u001B[49m\u001B[38;5;241;43m.\u001B[39;49m\u001B[43mGroupNorm\u001B[49m\u001B[43m(\u001B[49m\u001B[43mn_groups\u001B[49m\u001B[43m,\u001B[49m\u001B[43m \u001B[49m\u001B[43min_channels\u001B[49m\u001B[43m)\u001B[49m\n\u001B[0;32m     34\u001B[0m     \u001B[38;5;28mself\u001B[39m\u001B[38;5;241m.\u001B[39mact1 \u001B[38;5;241m=\u001B[39m Swish()\n\u001B[0;32m     35\u001B[0m     \u001B[38;5;28mself\u001B[39m\u001B[38;5;241m.\u001B[39mconv1 \u001B[38;5;241m=\u001B[39m nn\u001B[38;5;241m.\u001B[39mConv2d(in_channels, out_channels, kernel_size\u001B[38;5;241m=\u001B[39m(\u001B[38;5;241m3\u001B[39m,\u001B[38;5;241m3\u001B[39m), padding\u001B[38;5;241m=\u001B[39m(\u001B[38;5;241m1\u001B[39m,\u001B[38;5;241m1\u001B[39m))\n",
      "File \u001B[1;32m~\\Documents\\Programming\\MachineLearning\\venv\\Lib\\site-packages\\torch\\nn\\modules\\normalization.py:267\u001B[0m, in \u001B[0;36mGroupNorm.__init__\u001B[1;34m(self, num_groups, num_channels, eps, affine, device, dtype)\u001B[0m\n\u001B[0;32m    265\u001B[0m \u001B[38;5;28msuper\u001B[39m()\u001B[38;5;241m.\u001B[39m\u001B[38;5;21m__init__\u001B[39m()\n\u001B[0;32m    266\u001B[0m \u001B[38;5;28;01mif\u001B[39;00m num_channels \u001B[38;5;241m%\u001B[39m num_groups \u001B[38;5;241m!=\u001B[39m \u001B[38;5;241m0\u001B[39m:\n\u001B[1;32m--> 267\u001B[0m     \u001B[38;5;28;01mraise\u001B[39;00m \u001B[38;5;167;01mValueError\u001B[39;00m(\u001B[38;5;124m'\u001B[39m\u001B[38;5;124mnum_channels must be divisible by num_groups\u001B[39m\u001B[38;5;124m'\u001B[39m)\n\u001B[0;32m    269\u001B[0m \u001B[38;5;28mself\u001B[39m\u001B[38;5;241m.\u001B[39mnum_groups \u001B[38;5;241m=\u001B[39m num_groups\n\u001B[0;32m    270\u001B[0m \u001B[38;5;28mself\u001B[39m\u001B[38;5;241m.\u001B[39mnum_channels \u001B[38;5;241m=\u001B[39m num_channels\n",
      "\u001B[1;31mValueError\u001B[0m: num_channels must be divisible by num_groups"
     ]
    }
   ],
   "execution_count": 2
  },
  {
   "metadata": {},
   "cell_type": "markdown",
   "source": "Create a Comparison Plot from the results excel MAE vs Train Split",
   "id": "7f2b7dfa3738f6c5"
  },
  {
   "metadata": {},
   "cell_type": "code",
   "outputs": [],
   "execution_count": null,
   "source": [
    "# --- Configuration ---\n",
    "# IMPORTANT: Replace this with the actual path to your Excel file\n",
    "file_path = r\"C:\\Users\\tabor\\Documents\\Studie\\Bachelor\\Jaar 4\\BEP\\Results\\Results_journal_comparison.xlsx\"\n",
    "sheet_name = \"Good Val\"\n",
    "output_filename = 'unet_mae_distribution_plot.png' # Name for the saved plot image\n",
    "\n",
    "# --- Load Data ---\n",
    "try:\n",
    "    df = pd.read_excel(file_path, sheet_name=sheet_name)\n",
    "    print(f\"Successfully loaded data from '{file_path}', sheet '{sheet_name}'.\")\n",
    "except FileNotFoundError:\n",
    "    print(f\"Error: File not found at '{file_path}'. Please check the path.\")\n",
    "    # Exit the script if the file isn't found\n",
    "    exit()\n",
    "except Exception as e:\n",
    "    print(f\"An error occurred while reading the Excel file: {e}\")\n",
    "    exit()"
   ],
   "id": "4037934660ccfc02"
  },
  {
   "metadata": {},
   "cell_type": "code",
   "outputs": [],
   "execution_count": null,
   "source": [
    "# --- Data Cleaning and Preparation ---\n",
    "# Remove rows where 'Job ID' is missing (adjust column name if different)\n",
    "if 'Job ID' in df.columns:\n",
    "    df = df.dropna(subset=['Job ID'])\n",
    "else:\n",
    "    print(\"Warning: 'Job ID' column not found. Skipping dropna based on it.\")\n",
    "\n",
    "# Check if required columns exist\n",
    "required_columns = ['Model', 'Attention Split', 'Train Split', 'MAE']\n",
    "missing_cols = [col for col in required_columns if col not in df.columns]\n",
    "if missing_cols:\n",
    "    print(f\"Error: Missing required columns: {', '.join(missing_cols)}. Cannot proceed.\")\n",
    "    exit()\n",
    "\n",
    "# Filter data for the 'UNet' model\n",
    "# Using .copy() to avoid potential SettingWithCopyWarning later\n",
    "unet_data = df[df['Model'] == 'UNet'].copy()\n",
    "\n",
    "if unet_data.empty:\n",
    "    print(\"No data found for Model = 'UNet'. Cannot generate plot.\")\n",
    "    exit()"
   ],
   "id": "7ed2ab17cced6bbc"
  },
  {
   "metadata": {},
   "cell_type": "code",
   "outputs": [],
   "execution_count": null,
   "source": [
    "# --- Plotting ---\n",
    "print(\"Generating plot...\")\n",
    "\n",
    "# Create a figure and a single axes object\n",
    "fig, ax = plt.subplots(figsize=(12, 7)) # Single plot\n",
    "\n",
    "# Get unique attention splits and assign colors\n",
    "unique_attention_splits = sorted(unet_data['Attention Split'].unique())\n",
    "color_map = {unique_attention_splits[0]: 'blue', unique_attention_splits[1]: 'orange'}\n",
    "\n",
    "# --- Plot data for each Attention Split group ---\n",
    "for attention_split in unique_attention_splits:\n",
    "    group = unet_data[unet_data['Attention Split'] == attention_split]\n",
    "    label = f\"Attention Split = {attention_split}\"\n",
    "    current_color = color_map[attention_split]\n",
    "\n",
    "    # 1. Plot all individual MAE points as scatter plot\n",
    "    ax.scatter(\n",
    "        group['Train Split'],\n",
    "        group['MAE'],\n",
    "        marker='x',\n",
    "        alpha=0.3,  # Transparency to show density\n",
    "        s=25,       # Marker size\n",
    "        color=current_color,\n",
    "        label='_nolegend_' # Hide scatter points from the legend\n",
    "    )\n",
    "\n",
    "    # 2. Calculate and plot the average MAE line\n",
    "    average_mae = group.groupby('Train Split')['MAE'].mean().reset_index()\n",
    "    # Sort by 'Train Split' in descending order for plotting with inverted axis\n",
    "    average_mae = average_mae.sort_values('Train Split', ascending=False)\n",
    "\n",
    "    ax.plot(\n",
    "        average_mae['Train Split'],\n",
    "        average_mae['MAE'],\n",
    "        marker='o',        # Marker style\n",
    "        linestyle='-',     # Line style\n",
    "        linewidth=2.5,     # Line thickness\n",
    "        markersize=6,      # Marker size for average points\n",
    "        color=current_color,\n",
    "        label=label        # Label for the legend (only for the average line)\n",
    "    )\n",
    "\n",
    "# --- Customize Plot ---\n",
    "ax.set_title('UNet: MAE vs Train Size (Average and Distribution)', fontsize=16, pad=15)\n",
    "ax.set_xlabel('Train Size (% of total dataset)', fontsize=12)\n",
    "ax.set_ylabel('MAE (Mean Absolute Error)', fontsize=12)\n",
    "\n",
    "# Invert the x-axis (Train Size)\n",
    "ax.invert_xaxis()\n",
    "\n",
    "# Add grid lines for better readability\n",
    "ax.grid(True, which='major', linestyle='--', linewidth=0.5, alpha=0.7)\n",
    "ax.grid(True, which='minor', linestyle=':', linewidth=0.5, alpha=0.5)\n",
    "ax.minorticks_on() # Enable minor ticks\n",
    "\n",
    "# Add legend for the average lines\n",
    "ax.legend(title=\"Average MAE per Attention Split\", fontsize=10, title_fontsize=11)\n",
    "\n",
    "# Adjust layout to prevent labels from overlapping\n",
    "plt.tight_layout()"
   ],
   "id": "7a0b0eebd47a35dc"
  },
  {
   "metadata": {},
   "cell_type": "code",
   "outputs": [],
   "execution_count": null,
   "source": [
    "# --- Save and Show Plot ---\n",
    "try:\n",
    "    plt.savefig(output_filename, dpi=300, bbox_inches='tight')\n",
    "    print(f\"Plot saved successfully as '{output_filename}'.\")\n",
    "except Exception as e:\n",
    "    print(f\"Error saving plot: {e}\")\n",
    "\n",
    "# Display the plot\n",
    "plt.show()"
   ],
   "id": "d569fbdbae93a41d"
  },
  {
   "metadata": {},
   "cell_type": "markdown",
   "source": "Sample Images using an Existing Model",
   "id": "18e7e2cf717b744d"
  },
  {
   "metadata": {
    "ExecuteTime": {
     "end_time": "2025-07-11T11:19:47.494870Z",
     "start_time": "2025-07-11T11:19:47.460171Z"
    }
   },
   "cell_type": "code",
   "source": [
    "# Load config and establish paths for testing an existing model\n",
    "folder_path0 = r\"C:\\Users\\tabor\\Documents\\Studie\\Bachelor\\Jaar 4\\BEP\\Results\\Results_journal\\results\\UNet_nblocks_2_noisesteps_250_smartsplit_False_8907\"\n",
    "folder_path1 = r\"C:\\Users\\tabor\\Documents\\Studie\\Bachelor\\Jaar 4\\BEP\\Results\\Results_journal\\results\\SmallUNet_nblocks_2_noisesteps_250_smartsplit_False_9013\"\n",
    "folder_path2 = r\"C:\\Users\\tabor\\Documents\\Studie\\Bachelor\\Jaar 4\\BEP\\Results\\Results_journal\\results\\LargeUNet_nblocks_2_noisesteps_250_smartsplit_False_2120\"\n",
    "\n",
    "folder_paths = [folder_path0, folder_path1, folder_path2]\n",
    "model_paths = []\n",
    "configs = []\n",
    "for folder_path in folder_paths:\n",
    "    model_paths.append(os.path.join(folder_path, r\"models\\best_model.pth\"))\n",
    "    with open(os.path.join(folder_path, \"config.json\"), \"r\", encoding=\"utf-8\") as f:\n",
    "        config = json.load(f)\n",
    "        configs.append(config)"
   ],
   "id": "cbbb4e455d5a417f",
   "outputs": [],
   "execution_count": 3
  },
  {
   "metadata": {
    "ExecuteTime": {
     "end_time": "2025-07-11T11:19:50.230853Z",
     "start_time": "2025-07-11T11:19:50.036388Z"
    }
   },
   "cell_type": "code",
   "source": [
    "# Get dataloaders, model and diffusiontools\n",
    "# Get dataloaders with the first config file so that we can take the same sample for all models\n",
    "config = configs[0]\n",
    "train_dataloader, val_dataloader, test_dataloader, train_dataset, val_dataset, test_dataset = get_data(image_dataset_path=IMAGE_DATASET_PATH, structure_dataset_path=STRUCTURE_DATASET_PATH, **config)"
   ],
   "id": "5fef11c1a1b30986",
   "outputs": [
    {
     "name": "stdout",
     "output_type": "stream",
     "text": [
      "Operating System: Windows. Number of DataLoader workers set to: 0\n",
      "Loading dataset from: Images='C:\\Users\\tabor\\Documents\\Programming\\MachineLearning\\MachineLearningModels\\data\\figure_B_maxrange_5000\\Output', Structures='C:\\Users\\tabor\\Documents\\Programming\\MachineLearning\\MachineLearningModels\\data\\figure_B_maxrange_5000\\Structure'\n",
      "Total dataset size: 5000 items.\n",
      "Validation set size: 500\n",
      "Using random split for train/test...\n",
      "Train set size: 4000\n",
      "Test set size: 500\n"
     ]
    }
   ],
   "execution_count": 4
  },
  {
   "metadata": {
    "ExecuteTime": {
     "end_time": "2025-06-24T11:55:25.393623Z",
     "start_time": "2025-06-24T11:55:06.588678Z"
    }
   },
   "cell_type": "code",
   "source": [
    "# Get a batch and sample images with all models to test speed for each\n",
    "input_images, label_images, *_ = next(iter(test_dataloader))\n",
    "sample_count = 1 # Max value equal to value of batchsize\n",
    "\n",
    "for model_path, config in zip(model_paths, configs):\n",
    "    print(f\"Sampling for model {model_path}\")\n",
    "    model, diffusion = create_model_diffusion('cuda', **config)\n",
    "    model.load_state_dict(torch.load(model_path, weights_only=True))\n",
    "    samples = diffusion.p_sample_loop(model, sample_count, label_images)"
   ],
   "id": "62c5bdf6d05edd9c",
   "outputs": [
    {
     "name": "stdout",
     "output_type": "stream",
     "text": [
      "Sampling for model C:\\Users\\tabor\\Documents\\Studie\\Bachelor\\Jaar 4\\BEP\\Results\\Results_journal\\SmallUNet_nblocks_2_noisesteps_250_smartsplit_False_3906\\models\\best_model.pth\n"
     ]
    },
    {
     "name": "stderr",
     "output_type": "stream",
     "text": [
      "01:55:09 - INFO: Sampling 1 images\n",
      "249it [00:06, 35.80it/s]\n"
     ]
    },
    {
     "name": "stdout",
     "output_type": "stream",
     "text": [
      "Sampling for model C:\\Users\\tabor\\Documents\\Studie\\Bachelor\\Jaar 4\\BEP\\Results\\Results_journal\\results\\UNet_nblocks_2_noisesteps_250_smartsplit_False_2077\\models\\best_model.pth\n"
     ]
    },
    {
     "name": "stderr",
     "output_type": "stream",
     "text": [
      "01:55:17 - INFO: Sampling 1 images\n",
      "249it [00:08, 31.04it/s]\n"
     ]
    }
   ],
   "execution_count": 5
  },
  {
   "metadata": {},
   "cell_type": "code",
   "outputs": [],
   "execution_count": null,
   "source": [
    "# Noise an image for a set amount of steps\n",
    "target_image, label_image = test_dataset[11]\n",
    "t = torch.tensor([50])\n",
    "x_start = target_image.to('cuda')\n",
    "print(x_start.shape)\n",
    "noisy_image, *_ = diffusion.noise_images(x_start, t)\n",
    "\n",
    "noisy_image = tensor_to_PIL(noisy_image)\n",
    "target_image = tensor_to_PIL(target_image.unsqueeze(0))\n",
    "label_image = tensor_to_PIL(label_image.unsqueeze(0))\n",
    "\n",
    "print(target_image[0].size)\n",
    "noisy_image[0].save(os.path.join(\"results\", \"noisy_image.png\"))\n",
    "target_image[0].save(os.path.join(\"results\",\"target_image.png\"))\n",
    "label_image[0].save(os.path.join(\"results\", \"label_image.png\"))\n"
   ],
   "id": "9aaa85d8f1d704bd"
  },
  {
   "metadata": {
    "ExecuteTime": {
     "end_time": "2025-07-11T12:01:37.296559Z",
     "start_time": "2025-07-11T12:01:37.258339Z"
    }
   },
   "cell_type": "code",
   "source": [
    "# Get structure image from val dataset that we will use to sample results\n",
    "baseline_image, label_image, *_ = val_dataset[100]\n",
    "\n",
    "label_image_tens = label_image.unsqueeze(0)\n",
    "baseline_image_tens = baseline_image.unsqueeze(0)\n",
    "\n",
    "label_image_PIL = tensor_to_PIL(label_image_tens)[0]\n",
    "baseline_image_PIL = tensor_to_PIL(baseline_image_tens)[0]\n",
    "\n",
    "label_image_PIL.show()"
   ],
   "id": "b57f57b799e5a0f3",
   "outputs": [],
   "execution_count": 28
  },
  {
   "metadata": {
    "ExecuteTime": {
     "end_time": "2025-07-11T11:20:17.182153Z",
     "start_time": "2025-07-11T11:20:17.078515Z"
    }
   },
   "cell_type": "code",
   "outputs": [
    {
     "data": {
      "text/plain": [
       "tensor([[[1., 1., 1.,  ..., 1., 1., 1.],\n",
       "         [1., 1., 1.,  ..., 1., 1., 1.],\n",
       "         [1., 1., 1.,  ..., 1., 1., 1.],\n",
       "         ...,\n",
       "         [1., 1., 1.,  ..., 1., 1., 1.],\n",
       "         [1., 1., 1.,  ..., 1., 1., 1.],\n",
       "         [1., 1., 1.,  ..., 1., 1., 1.]],\n",
       "\n",
       "        [[1., 1., 1.,  ..., 1., 1., 1.],\n",
       "         [1., 1., 1.,  ..., 1., 1., 1.],\n",
       "         [1., 1., 1.,  ..., 1., 1., 1.],\n",
       "         ...,\n",
       "         [1., 1., 1.,  ..., 1., 1., 1.],\n",
       "         [1., 1., 1.,  ..., 1., 1., 1.],\n",
       "         [1., 1., 1.,  ..., 1., 1., 1.]],\n",
       "\n",
       "        [[1., 1., 1.,  ..., 1., 1., 1.],\n",
       "         [1., 1., 1.,  ..., 1., 1., 1.],\n",
       "         [1., 1., 1.,  ..., 1., 1., 1.],\n",
       "         ...,\n",
       "         [1., 1., 1.,  ..., 1., 1., 1.],\n",
       "         [1., 1., 1.,  ..., 1., 1., 1.],\n",
       "         [1., 1., 1.,  ..., 1., 1., 1.]]])"
      ]
     },
     "execution_count": 5,
     "metadata": {},
     "output_type": "execute_result"
    }
   ],
   "execution_count": 5,
   "source": [
    "# Sample an image for each model\n",
    "sampled_images = []\n",
    "\n",
    "for model_path, config in zip(model_paths, configs):\n",
    "    print(f\"Sampling for model {model_path}\")\n",
    "    model, diffusion = create_model_diffusion('cuda', **config)\n",
    "    model.load_state_dict(torch.load(model_path, weights_only=True))\n",
    "    sampled_images.append(diffusion.p_sample_loop(model, sample_count, label_images))\n"
   ],
   "id": "880dc4d8c26c12a4"
  },
  {
   "metadata": {},
   "cell_type": "code",
   "outputs": [],
   "execution_count": null,
   "source": "",
   "id": "5369489c690e9268"
  }
 ],
 "metadata": {
  "kernelspec": {
   "display_name": "Python 3",
   "language": "python",
   "name": "python3"
  },
  "language_info": {
   "codemirror_mode": {
    "name": "ipython",
    "version": 2
   },
   "file_extension": ".py",
   "mimetype": "text/x-python",
   "name": "python",
   "nbconvert_exporter": "python",
   "pygments_lexer": "ipython2",
   "version": "2.7.6"
  }
 },
 "nbformat": 4,
 "nbformat_minor": 5
}
