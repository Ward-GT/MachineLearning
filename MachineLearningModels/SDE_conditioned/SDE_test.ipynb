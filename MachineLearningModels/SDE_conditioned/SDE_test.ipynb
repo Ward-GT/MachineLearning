{
 "cells": [
  {
   "cell_type": "code",
   "execution_count": 1,
   "id": "initial_id",
   "metadata": {
    "collapsed": true,
    "ExecuteTime": {
     "end_time": "2024-04-01T18:27:49.505471Z",
     "start_time": "2024-04-01T18:27:45.441056Z"
    }
   },
   "outputs": [],
   "source": [
    "import numpy as np\n",
    "from SDE_tools import DiffusionTools\n",
    "from SDE_dataclass import LabeledDataset\n",
    "from SDE_model import UNet\n",
    "from SDE_utils import *"
   ]
  },
  {
   "cell_type": "code",
   "outputs": [
    {
     "data": {
      "text/plain": "UNet(\n  (time_mlp): Sequential(\n    (0): SinusoidalPositionEmbeddings()\n    (1): Linear(in_features=128, out_features=128, bias=True)\n    (2): ReLU()\n  )\n  (conv0): Conv2d(6, 64, kernel_size=(3, 3), stride=(1, 1), padding=(1, 1))\n  (downs): ModuleList(\n    (0): Block(\n      (time_mlp): Linear(in_features=128, out_features=128, bias=True)\n      (conv1): Conv2d(64, 128, kernel_size=(4, 4), stride=(1, 1), padding=(1, 1))\n      (transform): Conv2d(128, 128, kernel_size=(3, 3), stride=(2, 2), padding=(1, 1))\n      (conv2): Conv2d(128, 128, kernel_size=(3, 3), stride=(1, 1), padding=(1, 1))\n      (bnorm1): BatchNorm2d(128, eps=1e-05, momentum=0.1, affine=True, track_running_stats=True)\n      (bnorm2): BatchNorm2d(128, eps=1e-05, momentum=0.1, affine=True, track_running_stats=True)\n      (relu): ReLU()\n    )\n    (1): Block(\n      (time_mlp): Linear(in_features=128, out_features=256, bias=True)\n      (conv1): Conv2d(128, 256, kernel_size=(4, 4), stride=(1, 1), padding=(1, 1))\n      (transform): Conv2d(256, 256, kernel_size=(3, 3), stride=(2, 2), padding=(1, 1))\n      (conv2): Conv2d(256, 256, kernel_size=(3, 3), stride=(1, 1), padding=(1, 1))\n      (bnorm1): BatchNorm2d(256, eps=1e-05, momentum=0.1, affine=True, track_running_stats=True)\n      (bnorm2): BatchNorm2d(256, eps=1e-05, momentum=0.1, affine=True, track_running_stats=True)\n      (relu): ReLU()\n    )\n    (2): Block(\n      (time_mlp): Linear(in_features=128, out_features=512, bias=True)\n      (conv1): Conv2d(256, 512, kernel_size=(4, 4), stride=(1, 1), padding=(1, 1))\n      (transform): Conv2d(512, 512, kernel_size=(3, 3), stride=(2, 2), padding=(1, 1))\n      (conv2): Conv2d(512, 512, kernel_size=(3, 3), stride=(1, 1), padding=(1, 1))\n      (bnorm1): BatchNorm2d(512, eps=1e-05, momentum=0.1, affine=True, track_running_stats=True)\n      (bnorm2): BatchNorm2d(512, eps=1e-05, momentum=0.1, affine=True, track_running_stats=True)\n      (relu): ReLU()\n    )\n    (3): Block(\n      (time_mlp): Linear(in_features=128, out_features=1024, bias=True)\n      (conv1): Conv2d(512, 1024, kernel_size=(4, 4), stride=(1, 1), padding=(1, 1))\n      (transform): Conv2d(1024, 1024, kernel_size=(3, 3), stride=(2, 2), padding=(1, 1))\n      (conv2): Conv2d(1024, 1024, kernel_size=(3, 3), stride=(1, 1), padding=(1, 1))\n      (bnorm1): BatchNorm2d(1024, eps=1e-05, momentum=0.1, affine=True, track_running_stats=True)\n      (bnorm2): BatchNorm2d(1024, eps=1e-05, momentum=0.1, affine=True, track_running_stats=True)\n      (relu): ReLU()\n    )\n  )\n  (ups): ModuleList(\n    (0): Block(\n      (time_mlp): Linear(in_features=128, out_features=512, bias=True)\n      (conv1): Conv2d(2048, 512, kernel_size=(3, 3), stride=(1, 1), padding=(1, 1))\n      (transform): ConvTranspose2d(512, 512, kernel_size=(4, 4), stride=(2, 2), padding=(1, 1))\n      (conv2): Conv2d(512, 512, kernel_size=(3, 3), stride=(1, 1), padding=(1, 1))\n      (bnorm1): BatchNorm2d(512, eps=1e-05, momentum=0.1, affine=True, track_running_stats=True)\n      (bnorm2): BatchNorm2d(512, eps=1e-05, momentum=0.1, affine=True, track_running_stats=True)\n      (relu): ReLU()\n    )\n    (1): Block(\n      (time_mlp): Linear(in_features=128, out_features=256, bias=True)\n      (conv1): Conv2d(1024, 256, kernel_size=(3, 3), stride=(1, 1), padding=(1, 1))\n      (transform): ConvTranspose2d(256, 256, kernel_size=(4, 4), stride=(2, 2), padding=(1, 1))\n      (conv2): Conv2d(256, 256, kernel_size=(3, 3), stride=(1, 1), padding=(1, 1))\n      (bnorm1): BatchNorm2d(256, eps=1e-05, momentum=0.1, affine=True, track_running_stats=True)\n      (bnorm2): BatchNorm2d(256, eps=1e-05, momentum=0.1, affine=True, track_running_stats=True)\n      (relu): ReLU()\n    )\n    (2): Block(\n      (time_mlp): Linear(in_features=128, out_features=128, bias=True)\n      (conv1): Conv2d(512, 128, kernel_size=(3, 3), stride=(1, 1), padding=(1, 1))\n      (transform): ConvTranspose2d(128, 128, kernel_size=(4, 4), stride=(2, 2), padding=(1, 1))\n      (conv2): Conv2d(128, 128, kernel_size=(3, 3), stride=(1, 1), padding=(1, 1))\n      (bnorm1): BatchNorm2d(128, eps=1e-05, momentum=0.1, affine=True, track_running_stats=True)\n      (bnorm2): BatchNorm2d(128, eps=1e-05, momentum=0.1, affine=True, track_running_stats=True)\n      (relu): ReLU()\n    )\n    (3): Block(\n      (time_mlp): Linear(in_features=128, out_features=64, bias=True)\n      (conv1): Conv2d(256, 64, kernel_size=(3, 3), stride=(1, 1), padding=(1, 1))\n      (transform): ConvTranspose2d(64, 64, kernel_size=(4, 4), stride=(2, 2), padding=(1, 1))\n      (conv2): Conv2d(64, 64, kernel_size=(3, 3), stride=(1, 1), padding=(1, 1))\n      (bnorm1): BatchNorm2d(64, eps=1e-05, momentum=0.1, affine=True, track_running_stats=True)\n      (bnorm2): BatchNorm2d(64, eps=1e-05, momentum=0.1, affine=True, track_running_stats=True)\n      (relu): ReLU()\n    )\n  )\n  (output): Conv2d(64, 3, kernel_size=(1, 1), stride=(1, 1))\n)"
     },
     "execution_count": 2,
     "metadata": {},
     "output_type": "execute_result"
    }
   ],
   "source": [
    "model = UNet()\n",
    "model.load_state_dict(torch.load(r\"C:\\Users\\20202137\\OneDrive - TU Eindhoven\\Programming\\Python\\MachineLearning\\MachineLearningModels\\SDE_conditioned\\results\\SDE_ConditionedwTest_128_500\\models\\SDE_ConditionedwTest_128_500_final.pth\"))\n",
    "model.eval()"
   ],
   "metadata": {
    "collapsed": false,
    "ExecuteTime": {
     "end_time": "2024-04-01T18:27:50.324648Z",
     "start_time": "2024-04-01T18:27:49.507772Z"
    }
   },
   "id": "6c6ce8fec50121c4",
   "execution_count": 2
  },
  {
   "cell_type": "code",
   "outputs": [
    {
     "name": "stdout",
     "output_type": "stream",
     "text": [
      "Using test data\n",
      "Loaded 100 test indices\n"
     ]
    },
    {
     "name": "stderr",
     "output_type": "stream",
     "text": [
      "999it [03:23,  4.90it/s]\n"
     ]
    },
    {
     "name": "stdout",
     "output_type": "stream",
     "text": [
      "Reference: 5, Generated: 5, Structures: 5\n"
     ]
    },
    {
     "name": "stderr",
     "output_type": "stream",
     "text": [
      "999it [03:34,  4.66it/s]\n"
     ]
    },
    {
     "name": "stdout",
     "output_type": "stream",
     "text": [
      "Reference: 10, Generated: 10, Structures: 10\n"
     ]
    },
    {
     "name": "stderr",
     "output_type": "stream",
     "text": [
      "999it [03:33,  4.67it/s]\n"
     ]
    },
    {
     "name": "stdout",
     "output_type": "stream",
     "text": [
      "Reference: 15, Generated: 15, Structures: 15\n"
     ]
    },
    {
     "name": "stderr",
     "output_type": "stream",
     "text": [
      "999it [03:33,  4.68it/s]\n"
     ]
    },
    {
     "name": "stdout",
     "output_type": "stream",
     "text": [
      "Reference: 20, Generated: 20, Structures: 20\n"
     ]
    },
    {
     "name": "stderr",
     "output_type": "stream",
     "text": [
      "999it [03:34,  4.67it/s]\n"
     ]
    },
    {
     "name": "stdout",
     "output_type": "stream",
     "text": [
      "Reference: 25, Generated: 25, Structures: 25\n"
     ]
    },
    {
     "name": "stderr",
     "output_type": "stream",
     "text": [
      "999it [03:34,  4.67it/s]\n"
     ]
    },
    {
     "name": "stdout",
     "output_type": "stream",
     "text": [
      "Reference: 30, Generated: 30, Structures: 30\n"
     ]
    },
    {
     "name": "stderr",
     "output_type": "stream",
     "text": [
      "999it [03:33,  4.67it/s]\n"
     ]
    },
    {
     "name": "stdout",
     "output_type": "stream",
     "text": [
      "Reference: 35, Generated: 35, Structures: 35\n"
     ]
    },
    {
     "name": "stderr",
     "output_type": "stream",
     "text": [
      "999it [03:33,  4.67it/s]\n"
     ]
    },
    {
     "name": "stdout",
     "output_type": "stream",
     "text": [
      "Reference: 40, Generated: 40, Structures: 40\n"
     ]
    },
    {
     "name": "stderr",
     "output_type": "stream",
     "text": [
      "999it [03:33,  4.68it/s]\n"
     ]
    },
    {
     "name": "stdout",
     "output_type": "stream",
     "text": [
      "Reference: 45, Generated: 45, Structures: 45\n"
     ]
    },
    {
     "name": "stderr",
     "output_type": "stream",
     "text": [
      "999it [03:33,  4.67it/s]\n"
     ]
    },
    {
     "name": "stdout",
     "output_type": "stream",
     "text": [
      "Reference: 50, Generated: 50, Structures: 50\n"
     ]
    },
    {
     "name": "stderr",
     "output_type": "stream",
     "text": [
      "999it [03:33,  4.68it/s]\n"
     ]
    },
    {
     "name": "stdout",
     "output_type": "stream",
     "text": [
      "Reference: 55, Generated: 55, Structures: 55\n"
     ]
    },
    {
     "name": "stderr",
     "output_type": "stream",
     "text": [
      "999it [03:33,  4.67it/s]\n"
     ]
    },
    {
     "name": "stdout",
     "output_type": "stream",
     "text": [
      "Reference: 60, Generated: 60, Structures: 60\n"
     ]
    },
    {
     "name": "stderr",
     "output_type": "stream",
     "text": [
      "999it [03:33,  4.68it/s]\n"
     ]
    },
    {
     "name": "stdout",
     "output_type": "stream",
     "text": [
      "Reference: 65, Generated: 65, Structures: 65\n"
     ]
    },
    {
     "name": "stderr",
     "output_type": "stream",
     "text": [
      "999it [03:33,  4.67it/s]\n"
     ]
    },
    {
     "name": "stdout",
     "output_type": "stream",
     "text": [
      "Reference: 70, Generated: 70, Structures: 70\n"
     ]
    },
    {
     "name": "stderr",
     "output_type": "stream",
     "text": [
      "999it [03:33,  4.68it/s]\n"
     ]
    },
    {
     "name": "stdout",
     "output_type": "stream",
     "text": [
      "Reference: 75, Generated: 75, Structures: 75\n"
     ]
    },
    {
     "name": "stderr",
     "output_type": "stream",
     "text": [
      "999it [03:33,  4.67it/s]\n"
     ]
    },
    {
     "name": "stdout",
     "output_type": "stream",
     "text": [
      "Reference: 80, Generated: 80, Structures: 80\n"
     ]
    },
    {
     "name": "stderr",
     "output_type": "stream",
     "text": [
      "999it [03:33,  4.68it/s]\n"
     ]
    },
    {
     "name": "stdout",
     "output_type": "stream",
     "text": [
      "Reference: 85, Generated: 85, Structures: 85\n"
     ]
    },
    {
     "name": "stderr",
     "output_type": "stream",
     "text": [
      "999it [03:33,  4.68it/s]\n"
     ]
    },
    {
     "name": "stdout",
     "output_type": "stream",
     "text": [
      "Reference: 90, Generated: 90, Structures: 90\n"
     ]
    },
    {
     "name": "stderr",
     "output_type": "stream",
     "text": [
      "999it [03:33,  4.68it/s]\n"
     ]
    },
    {
     "name": "stdout",
     "output_type": "stream",
     "text": [
      "Reference: 95, Generated: 95, Structures: 95\n"
     ]
    },
    {
     "name": "stderr",
     "output_type": "stream",
     "text": [
      "999it [03:33,  4.68it/s]\n"
     ]
    },
    {
     "name": "stdout",
     "output_type": "stream",
     "text": [
      "Reference: 100, Generated: 100, Structures: 100\n"
     ]
    }
   ],
   "source": [
    "sampler = DiffusionTools()\n",
    "references, generated, structure = sample_model_output(model, sampler,n=100, batch_size=5, test_path=r\"C:\\Users\\20202137\\OneDrive - TU Eindhoven\\Programming\\Python\\MachineLearning\\MachineLearningModels\\SDE_conditioned\\results\\SDE_ConditionedwTest_128_500\\test_indices.pth\")"
   ],
   "metadata": {
    "collapsed": false,
    "ExecuteTime": {
     "end_time": "2024-04-01T19:39:04.546149Z",
     "start_time": "2024-04-01T18:27:50.325751Z"
    }
   },
   "id": "da754fd7b23f6e87",
   "execution_count": 3
  },
  {
   "cell_type": "code",
   "outputs": [],
   "source": [
    "ssim, psnr, mse_mean, mse_max = calculate_metrics(references, generated)"
   ],
   "metadata": {
    "collapsed": false,
    "ExecuteTime": {
     "end_time": "2024-04-01T19:39:05.342580Z",
     "start_time": "2024-04-01T19:39:04.548300Z"
    }
   },
   "id": "54f36a67ad29202a",
   "execution_count": 4
  },
  {
   "cell_type": "code",
   "outputs": [
    {
     "name": "stdout",
     "output_type": "stream",
     "text": [
      "0.9742165011930295 35.310670420640854 0.012047913865143695 0.05954613930769753\n"
     ]
    }
   ],
   "source": [
    "print(np.mean(ssim), np.mean(psnr), np.mean(mse_mean), np.mean(mse_max))"
   ],
   "metadata": {
    "collapsed": false,
    "ExecuteTime": {
     "end_time": "2024-04-01T19:39:05.351967Z",
     "start_time": "2024-04-01T19:39:05.344877Z"
    }
   },
   "id": "fc1ab0dbc8f10018",
   "execution_count": 5
  },
  {
   "cell_type": "code",
   "outputs": [],
   "source": [
    "sample_path = r\"C:\\Users\\20202137\\OneDrive - TU Eindhoven\\Programming\\Python\\MachineLearning\\MachineLearningModels\\SDE_conditioned\\results\\SDE_ConditionedwTest_128_500\\images\\Samples\"\n",
    "if not os.path.exists(sample_path):\n",
    "    os.makedirs(sample_path)\n",
    "reference_path = r\"C:\\Users\\20202137\\OneDrive - TU Eindhoven\\Programming\\Python\\MachineLearning\\MachineLearningModels\\SDE_conditioned\\results\\SDE_ConditionedwTest_128_500\\images\\References\"\n",
    "if not os.path.exists(reference_path):\n",
    "    os.makedirs(reference_path)\n",
    "\n",
    "save_image_list(references, reference_path)\n",
    "save_image_list(generated, sample_path)"
   ],
   "metadata": {
    "collapsed": false,
    "ExecuteTime": {
     "end_time": "2024-04-01T19:39:05.647733Z",
     "start_time": "2024-04-01T19:39:05.354280Z"
    }
   },
   "id": "3728152e90a0ec4c",
   "execution_count": 6
  },
  {
   "cell_type": "code",
   "outputs": [
    {
     "name": "stdout",
     "output_type": "stream",
     "text": [
      "57858307\n"
     ]
    }
   ],
   "source": [
    "print(count_parameters(model))"
   ],
   "metadata": {
    "collapsed": false,
    "ExecuteTime": {
     "end_time": "2024-04-01T19:39:05.658257Z",
     "start_time": "2024-04-01T19:39:05.650752Z"
    }
   },
   "id": "16680ea81bf1931d",
   "execution_count": 7
  },
  {
   "cell_type": "code",
   "outputs": [],
   "source": [],
   "metadata": {
    "collapsed": false,
    "ExecuteTime": {
     "end_time": "2024-04-01T19:39:05.665403Z",
     "start_time": "2024-04-01T19:39:05.660596Z"
    }
   },
   "id": "9092cbb0427421d5",
   "execution_count": 7
  }
 ],
 "metadata": {
  "kernelspec": {
   "display_name": "Python 3",
   "language": "python",
   "name": "python3"
  },
  "language_info": {
   "codemirror_mode": {
    "name": "ipython",
    "version": 2
   },
   "file_extension": ".py",
   "mimetype": "text/x-python",
   "name": "python",
   "nbconvert_exporter": "python",
   "pygments_lexer": "ipython2",
   "version": "2.7.6"
  }
 },
 "nbformat": 4,
 "nbformat_minor": 5
}
