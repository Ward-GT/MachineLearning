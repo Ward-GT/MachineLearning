{
 "cells": [
  {
   "cell_type": "code",
   "execution_count": 1,
   "id": "initial_id",
   "metadata": {
    "collapsed": true,
    "ExecuteTime": {
     "end_time": "2024-03-27T09:28:16.220122Z",
     "start_time": "2024-03-27T09:28:10.867727Z"
    }
   },
   "outputs": [],
   "source": [
    "import numpy as np\n",
    "\n",
    "from SDE_tools import DiffusionTools\n",
    "from SDE_dataclass import LabeledDataset\n",
    "from SDE_model import UNet\n",
    "from SDE_utils import *"
   ]
  },
  {
   "cell_type": "code",
   "outputs": [
    {
     "data": {
      "text/plain": "UNet(\n  (time_mlp): Sequential(\n    (0): SinusoidalPositionEmbeddings()\n    (1): Linear(in_features=128, out_features=128, bias=True)\n    (2): ReLU()\n  )\n  (conv0): Conv2d(6, 64, kernel_size=(3, 3), stride=(1, 1), padding=(1, 1))\n  (downs): ModuleList(\n    (0): Block(\n      (time_mlp): Linear(in_features=128, out_features=128, bias=True)\n      (conv1): Conv2d(64, 128, kernel_size=(4, 4), stride=(1, 1), padding=(1, 1))\n      (transform): Conv2d(128, 128, kernel_size=(3, 3), stride=(2, 2), padding=(1, 1))\n      (conv2): Conv2d(128, 128, kernel_size=(3, 3), stride=(1, 1), padding=(1, 1))\n      (bnorm1): BatchNorm2d(128, eps=1e-05, momentum=0.1, affine=True, track_running_stats=True)\n      (bnorm2): BatchNorm2d(128, eps=1e-05, momentum=0.1, affine=True, track_running_stats=True)\n      (relu): ReLU()\n    )\n    (1): Block(\n      (time_mlp): Linear(in_features=128, out_features=256, bias=True)\n      (conv1): Conv2d(128, 256, kernel_size=(4, 4), stride=(1, 1), padding=(1, 1))\n      (transform): Conv2d(256, 256, kernel_size=(3, 3), stride=(2, 2), padding=(1, 1))\n      (conv2): Conv2d(256, 256, kernel_size=(3, 3), stride=(1, 1), padding=(1, 1))\n      (bnorm1): BatchNorm2d(256, eps=1e-05, momentum=0.1, affine=True, track_running_stats=True)\n      (bnorm2): BatchNorm2d(256, eps=1e-05, momentum=0.1, affine=True, track_running_stats=True)\n      (relu): ReLU()\n    )\n    (2): Block(\n      (time_mlp): Linear(in_features=128, out_features=512, bias=True)\n      (conv1): Conv2d(256, 512, kernel_size=(4, 4), stride=(1, 1), padding=(1, 1))\n      (transform): Conv2d(512, 512, kernel_size=(3, 3), stride=(2, 2), padding=(1, 1))\n      (conv2): Conv2d(512, 512, kernel_size=(3, 3), stride=(1, 1), padding=(1, 1))\n      (bnorm1): BatchNorm2d(512, eps=1e-05, momentum=0.1, affine=True, track_running_stats=True)\n      (bnorm2): BatchNorm2d(512, eps=1e-05, momentum=0.1, affine=True, track_running_stats=True)\n      (relu): ReLU()\n    )\n    (3): Block(\n      (time_mlp): Linear(in_features=128, out_features=1024, bias=True)\n      (conv1): Conv2d(512, 1024, kernel_size=(4, 4), stride=(1, 1), padding=(1, 1))\n      (transform): Conv2d(1024, 1024, kernel_size=(3, 3), stride=(2, 2), padding=(1, 1))\n      (conv2): Conv2d(1024, 1024, kernel_size=(3, 3), stride=(1, 1), padding=(1, 1))\n      (bnorm1): BatchNorm2d(1024, eps=1e-05, momentum=0.1, affine=True, track_running_stats=True)\n      (bnorm2): BatchNorm2d(1024, eps=1e-05, momentum=0.1, affine=True, track_running_stats=True)\n      (relu): ReLU()\n    )\n  )\n  (ups): ModuleList(\n    (0): Block(\n      (time_mlp): Linear(in_features=128, out_features=512, bias=True)\n      (conv1): Conv2d(2048, 512, kernel_size=(3, 3), stride=(1, 1), padding=(1, 1))\n      (transform): ConvTranspose2d(512, 512, kernel_size=(4, 4), stride=(2, 2), padding=(1, 1))\n      (conv2): Conv2d(512, 512, kernel_size=(3, 3), stride=(1, 1), padding=(1, 1))\n      (bnorm1): BatchNorm2d(512, eps=1e-05, momentum=0.1, affine=True, track_running_stats=True)\n      (bnorm2): BatchNorm2d(512, eps=1e-05, momentum=0.1, affine=True, track_running_stats=True)\n      (relu): ReLU()\n    )\n    (1): Block(\n      (time_mlp): Linear(in_features=128, out_features=256, bias=True)\n      (conv1): Conv2d(1024, 256, kernel_size=(3, 3), stride=(1, 1), padding=(1, 1))\n      (transform): ConvTranspose2d(256, 256, kernel_size=(4, 4), stride=(2, 2), padding=(1, 1))\n      (conv2): Conv2d(256, 256, kernel_size=(3, 3), stride=(1, 1), padding=(1, 1))\n      (bnorm1): BatchNorm2d(256, eps=1e-05, momentum=0.1, affine=True, track_running_stats=True)\n      (bnorm2): BatchNorm2d(256, eps=1e-05, momentum=0.1, affine=True, track_running_stats=True)\n      (relu): ReLU()\n    )\n    (2): Block(\n      (time_mlp): Linear(in_features=128, out_features=128, bias=True)\n      (conv1): Conv2d(512, 128, kernel_size=(3, 3), stride=(1, 1), padding=(1, 1))\n      (transform): ConvTranspose2d(128, 128, kernel_size=(4, 4), stride=(2, 2), padding=(1, 1))\n      (conv2): Conv2d(128, 128, kernel_size=(3, 3), stride=(1, 1), padding=(1, 1))\n      (bnorm1): BatchNorm2d(128, eps=1e-05, momentum=0.1, affine=True, track_running_stats=True)\n      (bnorm2): BatchNorm2d(128, eps=1e-05, momentum=0.1, affine=True, track_running_stats=True)\n      (relu): ReLU()\n    )\n    (3): Block(\n      (time_mlp): Linear(in_features=128, out_features=64, bias=True)\n      (conv1): Conv2d(256, 64, kernel_size=(3, 3), stride=(1, 1), padding=(1, 1))\n      (transform): ConvTranspose2d(64, 64, kernel_size=(4, 4), stride=(2, 2), padding=(1, 1))\n      (conv2): Conv2d(64, 64, kernel_size=(3, 3), stride=(1, 1), padding=(1, 1))\n      (bnorm1): BatchNorm2d(64, eps=1e-05, momentum=0.1, affine=True, track_running_stats=True)\n      (bnorm2): BatchNorm2d(64, eps=1e-05, momentum=0.1, affine=True, track_running_stats=True)\n      (relu): ReLU()\n    )\n  )\n  (output): Conv2d(64, 3, kernel_size=(1, 1), stride=(1, 1))\n)"
     },
     "execution_count": 2,
     "metadata": {},
     "output_type": "execute_result"
    }
   ],
   "source": [
    "model = UNet()\n",
    "model.load_state_dict(torch.load(r\"C:\\Users\\20202137\\OneDrive - TU Eindhoven\\Programming\\Python\\MachineLearning\\MachineLearningModels\\SDE_conditioned\\results\\SDE_ConditionedwTest_128_500\\models\\SDE_ConditionedwTest_128_500_final.pth\"))\n",
    "model.eval()"
   ],
   "metadata": {
    "collapsed": false,
    "ExecuteTime": {
     "end_time": "2024-03-27T08:51:32.730247Z",
     "start_time": "2024-03-27T08:51:31.902539Z"
    }
   },
   "id": "6c6ce8fec50121c4",
   "execution_count": 2
  },
  {
   "cell_type": "code",
   "outputs": [
    {
     "name": "stdout",
     "output_type": "stream",
     "text": [
      "Using test data\n",
      "Loaded 100 test indices\n"
     ]
    },
    {
     "name": "stderr",
     "output_type": "stream",
     "text": [
      "999it [16:10,  1.03it/s]\n"
     ]
    }
   ],
   "source": [
    "sampler = DiffusionTools()\n",
    "path = os.path.join(r\"C:\\Users\\20202137\\OneDrive - TU Eindhoven\\Programming\\Python\\MachineLearning\\MachineLearningModels\\SDE_conditioned\\results\\images\", \"Samples\")\n",
    "if not os.path.exists(path):\n",
    "    os.makedirs(path)\n",
    "references, generated, structure = sample_model_output(model, sampler,n=20, test_path=r\"C:\\Users\\20202137\\OneDrive - TU Eindhoven\\Programming\\Python\\MachineLearning\\MachineLearningModels\\SDE_conditioned\\results\\SDE_ConditionedwTest_128_500\\test_indices.pth\", path=path)"
   ],
   "metadata": {
    "collapsed": false,
    "ExecuteTime": {
     "end_time": "2024-03-27T09:07:44.767405Z",
     "start_time": "2024-03-27T08:51:32.730247Z"
    }
   },
   "id": "da754fd7b23f6e87",
   "execution_count": 3
  },
  {
   "cell_type": "code",
   "outputs": [],
   "source": [
    "gen_path=r\"C:\\Users\\20202137\\OneDrive - TU Eindhoven\\Programming\\Python\\MachineLearning\\MachineLearningModels\\SDE_conditioned\\results\\SDE_ConditionedwTest_128_500\\images\\Samples\"\n",
    "ref_path=r\"C:\\Users\\20202137\\OneDrive - TU Eindhoven\\Programming\\Python\\MachineLearning\\MachineLearningModels\\SDE_conditioned\\results\\SDE_ConditionedwTest_128_500\\images\\References\"\n",
    "generated = load_images(gen_path)\n",
    "references = load_images(ref_path)\n"
   ],
   "metadata": {
    "collapsed": false,
    "ExecuteTime": {
     "end_time": "2024-03-27T09:28:16.453973Z",
     "start_time": "2024-03-27T09:28:16.436719Z"
    }
   },
   "id": "3f3c25b58360b926",
   "execution_count": 2
  },
  {
   "cell_type": "code",
   "outputs": [],
   "source": [
    "ssim, psnr, mse = calculate_metrics(references, generated)"
   ],
   "metadata": {
    "collapsed": false,
    "ExecuteTime": {
     "end_time": "2024-03-27T09:28:18.738728Z",
     "start_time": "2024-03-27T09:28:18.641080Z"
    }
   },
   "id": "54f36a67ad29202a",
   "execution_count": 3
  },
  {
   "cell_type": "code",
   "outputs": [
    {
     "name": "stdout",
     "output_type": "stream",
     "text": [
      "0.9624387923385822 33.84743918795353 0.013759044282582253\n"
     ]
    }
   ],
   "source": [
    "print(np.mean(ssim), np.mean(psnr), np.mean(mse))"
   ],
   "metadata": {
    "collapsed": false,
    "ExecuteTime": {
     "end_time": "2024-03-27T09:28:19.869336Z",
     "start_time": "2024-03-27T09:28:19.857730Z"
    }
   },
   "id": "fc1ab0dbc8f10018",
   "execution_count": 4
  },
  {
   "cell_type": "code",
   "outputs": [
    {
     "name": "stdout",
     "output_type": "stream",
     "text": [
      "[array([0.04705882, 0.04313725, 0.        , ..., 0.01568627, 0.01176471,\n",
      "       0.03921569]), array([0.02745098, 0.02352941, 0.        , ..., 0.01568627, 0.00392157,\n",
      "       0.02352941]), array([0.04018412, 0.01616904, 0.03529412, ..., 0.05098039, 0.03233808,\n",
      "       0.05098039]), array([0.02352941, 0.00392157, 0.        , ..., 0.04705882, 0.01568627,\n",
      "       0.        ]), array([0.04705882, 0.0316167 , 0.05921439, ..., 0.05776831, 0.01568627,\n",
      "       0.00392157]), array([0.01568627, 0.02352941, 0.        , ..., 0.00392157, 0.00392157,\n",
      "       0.        ]), array([0.04018412, 0.01960784, 0.        , ..., 0.0225277 , 0.04705882,\n",
      "       0.        ]), array([0.05022058, 0.03137255, 0.00784314, ..., 0.05490196, 0.04705882,\n",
      "       0.        ]), array([0.        , 0.01960784, 0.        , ..., 0.04313725, 0.03921569,\n",
      "       0.        ]), array([0.04705882, 0.04705882, 0.        , ..., 0.0225277 , 0.03529412,\n",
      "       0.        ]), array([0.00784314, 0.01960784, 0.00784314, ..., 0.03137255, 0.        ,\n",
      "       0.        ]), array([0.02745098, 0.01568627, 0.01176471, ..., 0.01960784, 0.00784314,\n",
      "       0.        ]), array([0.05882353, 0.03529412, 0.        , ..., 0.00784314, 0.02745098,\n",
      "       0.        ]), array([0.03529412, 0.01960784, 0.        , ..., 0.05776831, 0.04168685,\n",
      "       0.05490196]), array([0.        , 0.03921569, 0.        , ..., 0.03137255, 0.01616904,\n",
      "       0.        ]), array([0.05490196, 0.04313725, 0.        , ..., 0.        , 0.01568627,\n",
      "       0.00392157]), array([0.05098039, 0.04168685, 0.        , ..., 0.01568627, 0.00784314,\n",
      "       0.05490196]), array([0.05559783, 0.00784314, 0.        , ..., 0.00392157, 0.00784314,\n",
      "       0.        ]), array([0.01176471, 0.01568627, 0.        , ..., 0.00784314, 0.01176471,\n",
      "       0.        ]), array([0.05882353, 0.05217308, 0.02745098, ..., 0.01960784, 0.01176471,\n",
      "       0.        ])]\n"
     ]
    }
   ],
   "source": [
    "print(mse)"
   ],
   "metadata": {
    "collapsed": false,
    "ExecuteTime": {
     "end_time": "2024-03-27T09:28:25.512501Z",
     "start_time": "2024-03-27T09:28:25.504886Z"
    }
   },
   "id": "941dd9aec3ec352a",
   "execution_count": 5
  },
  {
   "cell_type": "code",
   "outputs": [],
   "source": [],
   "metadata": {
    "collapsed": false
   },
   "id": "6a54da4d9c153867"
  }
 ],
 "metadata": {
  "kernelspec": {
   "display_name": "Python 3",
   "language": "python",
   "name": "python3"
  },
  "language_info": {
   "codemirror_mode": {
    "name": "ipython",
    "version": 2
   },
   "file_extension": ".py",
   "mimetype": "text/x-python",
   "name": "python",
   "nbconvert_exporter": "python",
   "pygments_lexer": "ipython2",
   "version": "2.7.6"
  }
 },
 "nbformat": 4,
 "nbformat_minor": 5
}
