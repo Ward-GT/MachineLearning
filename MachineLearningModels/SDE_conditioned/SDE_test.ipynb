{
 "cells": [
  {
   "cell_type": "code",
   "execution_count": 1,
   "id": "initial_id",
   "metadata": {
    "collapsed": true,
    "ExecuteTime": {
     "end_time": "2024-03-23T10:52:08.372228Z",
     "start_time": "2024-03-23T10:52:03.436335Z"
    }
   },
   "outputs": [],
   "source": [
    "from SDE_tools import DiffusionTools\n",
    "from SDE_dataclass import LabeledDataset\n",
    "from SDE_utils import *"
   ]
  },
  {
   "cell_type": "code",
   "outputs": [
    {
     "data": {
      "text/plain": "torch.Size([10, 3, 128, 128])"
     },
     "execution_count": 2,
     "metadata": {},
     "output_type": "execute_result"
    }
   ],
   "source": [
    "dataloader = get_data()\n",
    "\n",
    "images, labels = next(iter(dataloader))\n",
    "images.shape"
   ],
   "metadata": {
    "collapsed": false,
    "ExecuteTime": {
     "end_time": "2024-03-23T10:52:08.842690Z",
     "start_time": "2024-03-23T10:52:08.373318Z"
    }
   },
   "id": "b686637970b1fb3e",
   "execution_count": 2
  },
  {
   "cell_type": "code",
   "outputs": [
    {
     "data": {
      "text/plain": "torch.Size([10, 6, 128, 128])"
     },
     "execution_count": 3,
     "metadata": {},
     "output_type": "execute_result"
    }
   ],
   "source": [
    "concatenated_images = concatenate_images(images, labels)\n",
    "concatenated_images.shape"
   ],
   "metadata": {
    "collapsed": false,
    "ExecuteTime": {
     "end_time": "2024-03-23T10:52:08.850745Z",
     "start_time": "2024-03-23T10:52:08.843701Z"
    }
   },
   "id": "b9e890c629560f3e",
   "execution_count": 3
  },
  {
   "cell_type": "code",
   "outputs": [
    {
     "data": {
      "text/plain": "torch.Size([5, 3, 128, 128])"
     },
     "execution_count": 4,
     "metadata": {},
     "output_type": "execute_result"
    }
   ],
   "source": [
    "structures = concat_to_batchsize(images, 5)\n",
    "structures.shape"
   ],
   "metadata": {
    "collapsed": false,
    "ExecuteTime": {
     "end_time": "2024-03-23T10:52:08.861756Z",
     "start_time": "2024-03-23T10:52:08.852831Z"
    }
   },
   "id": "238e850331243789",
   "execution_count": 4
  },
  {
   "cell_type": "code",
   "outputs": [
    {
     "data": {
      "text/plain": "(torch.Size([10, 3, 128, 128]), torch.Size([10, 3, 128, 128]))"
     },
     "execution_count": 5,
     "metadata": {},
     "output_type": "execute_result"
    }
   ],
   "source": [
    "image, label = split_images(concatenated_images)\n",
    "image.shape, label.shape"
   ],
   "metadata": {
    "collapsed": false,
    "ExecuteTime": {
     "end_time": "2024-03-23T10:52:08.870679Z",
     "start_time": "2024-03-23T10:52:08.863888Z"
    }
   },
   "id": "ddbc20fc6043c554",
   "execution_count": 5
  },
  {
   "cell_type": "code",
   "outputs": [
    {
     "data": {
      "text/plain": "torch.Size([3, 128, 128])"
     },
     "execution_count": 6,
     "metadata": {},
     "output_type": "execute_result"
    }
   ],
   "source": [
    "image[0].shape"
   ],
   "metadata": {
    "collapsed": false,
    "ExecuteTime": {
     "end_time": "2024-03-23T10:52:08.879799Z",
     "start_time": "2024-03-23T10:52:08.872877Z"
    }
   },
   "id": "344b0a892f762adc",
   "execution_count": 6
  },
  {
   "cell_type": "code",
   "outputs": [],
   "source": [],
   "metadata": {
    "collapsed": false,
    "ExecuteTime": {
     "end_time": "2024-03-23T10:52:08.885303Z",
     "start_time": "2024-03-23T10:52:08.882404Z"
    }
   },
   "id": "cff4448a0c4594db",
   "execution_count": 6
  }
 ],
 "metadata": {
  "kernelspec": {
   "display_name": "Python 3",
   "language": "python",
   "name": "python3"
  },
  "language_info": {
   "codemirror_mode": {
    "name": "ipython",
    "version": 2
   },
   "file_extension": ".py",
   "mimetype": "text/x-python",
   "name": "python",
   "nbconvert_exporter": "python",
   "pygments_lexer": "ipython2",
   "version": "2.7.6"
  }
 },
 "nbformat": 4,
 "nbformat_minor": 5
}
