{
 "cells": [
  {
   "cell_type": "code",
   "id": "initial_id",
   "metadata": {
    "collapsed": true,
    "ExecuteTime": {
     "end_time": "2025-06-27T12:03:35.002880Z",
     "start_time": "2025-06-27T12:03:32.238665Z"
    }
   },
   "source": [
    "# Import libraries and dependencies\n",
    "import matplotlib.pyplot as plt\n",
    "import numpy as np\n",
    "import pandas as pd\n",
    "import torch\n",
    "import os\n",
    "\n",
    "from torchvision.io import read_image\n",
    "from PIL import Image\n",
    "from script_util import create_model_diffusion\n",
    "\n",
    "from SDE_datareduction import get_test_data, get_data\n",
    "from main import IMAGE_DATASET_PATH, STRUCTURE_DATASET_PATH, BASE_OUTPUT\n",
    "\n",
    "from SDE_utils import *\n",
    "from SDE_test import mae, count_parameters"
   ],
   "outputs": [
    {
     "name": "stdout",
     "output_type": "stream",
     "text": [
      "Script Dir C:\\Users\\tabor\\Documents\\Programming\\MachineLearning\\MachineLearningModels\\SDE_conditioned\n"
     ]
    }
   ],
   "execution_count": 1
  },
  {
   "metadata": {},
   "cell_type": "markdown",
   "source": "Create a model and print its parameters according to config",
   "id": "bab18f72cac68ffe"
  },
  {
   "metadata": {
    "ExecuteTime": {
     "end_time": "2025-06-27T12:03:39.610121Z",
     "start_time": "2025-06-27T12:03:37.971747Z"
    }
   },
   "cell_type": "code",
   "source": [
    "# Create a model and print its parameters\n",
    "with open('config.json', \"r\", encoding=\"utf-8\") as f:\n",
    "    config = json.load(f)\n",
    "    \n",
    "model, *_ = create_model_diffusion('cpu', **config)\n",
    "\n",
    "parameters = count_parameters(model)\n",
    "\n",
    "print(f\"Parameters: {parameters}\")"
   ],
   "id": "9393afd7fdcbde47",
   "outputs": [
    {
     "name": "stdout",
     "output_type": "stream",
     "text": [
      "Parameters: 581958406\n"
     ]
    }
   ],
   "execution_count": 2
  },
  {
   "metadata": {},
   "cell_type": "markdown",
   "source": "Create a Comparison Plot from the results excel MAE vs Train Split",
   "id": "7f2b7dfa3738f6c5"
  },
  {
   "metadata": {},
   "cell_type": "code",
   "outputs": [],
   "execution_count": null,
   "source": [
    "# --- Configuration ---\n",
    "# IMPORTANT: Replace this with the actual path to your Excel file\n",
    "file_path = r\"C:\\Users\\tabor\\Documents\\Studie\\Bachelor\\Jaar 4\\BEP\\Results\\Results_journal_comparison.xlsx\"\n",
    "sheet_name = \"Good Val\"\n",
    "output_filename = 'unet_mae_distribution_plot.png' # Name for the saved plot image\n",
    "\n",
    "# --- Load Data ---\n",
    "try:\n",
    "    df = pd.read_excel(file_path, sheet_name=sheet_name)\n",
    "    print(f\"Successfully loaded data from '{file_path}', sheet '{sheet_name}'.\")\n",
    "except FileNotFoundError:\n",
    "    print(f\"Error: File not found at '{file_path}'. Please check the path.\")\n",
    "    # Exit the script if the file isn't found\n",
    "    exit()\n",
    "except Exception as e:\n",
    "    print(f\"An error occurred while reading the Excel file: {e}\")\n",
    "    exit()"
   ],
   "id": "4037934660ccfc02"
  },
  {
   "metadata": {},
   "cell_type": "code",
   "outputs": [],
   "execution_count": null,
   "source": [
    "# --- Data Cleaning and Preparation ---\n",
    "# Remove rows where 'Job ID' is missing (adjust column name if different)\n",
    "if 'Job ID' in df.columns:\n",
    "    df = df.dropna(subset=['Job ID'])\n",
    "else:\n",
    "    print(\"Warning: 'Job ID' column not found. Skipping dropna based on it.\")\n",
    "\n",
    "# Check if required columns exist\n",
    "required_columns = ['Model', 'Attention Split', 'Train Split', 'MAE']\n",
    "missing_cols = [col for col in required_columns if col not in df.columns]\n",
    "if missing_cols:\n",
    "    print(f\"Error: Missing required columns: {', '.join(missing_cols)}. Cannot proceed.\")\n",
    "    exit()\n",
    "\n",
    "# Filter data for the 'UNet' model\n",
    "# Using .copy() to avoid potential SettingWithCopyWarning later\n",
    "unet_data = df[df['Model'] == 'UNet'].copy()\n",
    "\n",
    "if unet_data.empty:\n",
    "    print(\"No data found for Model = 'UNet'. Cannot generate plot.\")\n",
    "    exit()"
   ],
   "id": "7ed2ab17cced6bbc"
  },
  {
   "metadata": {},
   "cell_type": "code",
   "outputs": [],
   "execution_count": null,
   "source": [
    "# --- Plotting ---\n",
    "print(\"Generating plot...\")\n",
    "\n",
    "# Create a figure and a single axes object\n",
    "fig, ax = plt.subplots(figsize=(12, 7)) # Single plot\n",
    "\n",
    "# Get unique attention splits and assign colors\n",
    "unique_attention_splits = sorted(unet_data['Attention Split'].unique())\n",
    "color_map = {unique_attention_splits[0]: 'blue', unique_attention_splits[1]: 'orange'}\n",
    "\n",
    "# --- Plot data for each Attention Split group ---\n",
    "for attention_split in unique_attention_splits:\n",
    "    group = unet_data[unet_data['Attention Split'] == attention_split]\n",
    "    label = f\"Attention Split = {attention_split}\"\n",
    "    current_color = color_map[attention_split]\n",
    "\n",
    "    # 1. Plot all individual MAE points as scatter plot\n",
    "    ax.scatter(\n",
    "        group['Train Split'],\n",
    "        group['MAE'],\n",
    "        marker='x',\n",
    "        alpha=0.3,  # Transparency to show density\n",
    "        s=25,       # Marker size\n",
    "        color=current_color,\n",
    "        label='_nolegend_' # Hide scatter points from the legend\n",
    "    )\n",
    "\n",
    "    # 2. Calculate and plot the average MAE line\n",
    "    average_mae = group.groupby('Train Split')['MAE'].mean().reset_index()\n",
    "    # Sort by 'Train Split' in descending order for plotting with inverted axis\n",
    "    average_mae = average_mae.sort_values('Train Split', ascending=False)\n",
    "\n",
    "    ax.plot(\n",
    "        average_mae['Train Split'],\n",
    "        average_mae['MAE'],\n",
    "        marker='o',        # Marker style\n",
    "        linestyle='-',     # Line style\n",
    "        linewidth=2.5,     # Line thickness\n",
    "        markersize=6,      # Marker size for average points\n",
    "        color=current_color,\n",
    "        label=label        # Label for the legend (only for the average line)\n",
    "    )\n",
    "\n",
    "# --- Customize Plot ---\n",
    "ax.set_title('UNet: MAE vs Train Size (Average and Distribution)', fontsize=16, pad=15)\n",
    "ax.set_xlabel('Train Size (% of total dataset)', fontsize=12)\n",
    "ax.set_ylabel('MAE (Mean Absolute Error)', fontsize=12)\n",
    "\n",
    "# Invert the x-axis (Train Size)\n",
    "ax.invert_xaxis()\n",
    "\n",
    "# Add grid lines for better readability\n",
    "ax.grid(True, which='major', linestyle='--', linewidth=0.5, alpha=0.7)\n",
    "ax.grid(True, which='minor', linestyle=':', linewidth=0.5, alpha=0.5)\n",
    "ax.minorticks_on() # Enable minor ticks\n",
    "\n",
    "# Add legend for the average lines\n",
    "ax.legend(title=\"Average MAE per Attention Split\", fontsize=10, title_fontsize=11)\n",
    "\n",
    "# Adjust layout to prevent labels from overlapping\n",
    "plt.tight_layout()"
   ],
   "id": "7a0b0eebd47a35dc"
  },
  {
   "metadata": {},
   "cell_type": "code",
   "outputs": [],
   "execution_count": null,
   "source": [
    "# --- Save and Show Plot ---\n",
    "try:\n",
    "    plt.savefig(output_filename, dpi=300, bbox_inches='tight')\n",
    "    print(f\"Plot saved successfully as '{output_filename}'.\")\n",
    "except Exception as e:\n",
    "    print(f\"Error saving plot: {e}\")\n",
    "\n",
    "# Display the plot\n",
    "plt.show()"
   ],
   "id": "d569fbdbae93a41d"
  },
  {
   "metadata": {},
   "cell_type": "markdown",
   "source": "Sample Images using an Existing Model",
   "id": "18e7e2cf717b744d"
  },
  {
   "metadata": {
    "ExecuteTime": {
     "end_time": "2025-06-24T11:54:10.546874Z",
     "start_time": "2025-06-24T11:54:10.541869Z"
    }
   },
   "cell_type": "code",
   "source": [
    "# Load config and establish paths for testing an existing model\n",
    "folder_path0 = r\"C:\\Users\\tabor\\Documents\\Studie\\Bachelor\\Jaar 4\\BEP\\Results\\Results_journal\\SmallUNet_nblocks_2_noisesteps_250_smartsplit_False_3906\"\n",
    "folder_path1 = r\"C:\\Users\\tabor\\Documents\\Studie\\Bachelor\\Jaar 4\\BEP\\Results\\Results_journal\\results\\UNet_nblocks_2_noisesteps_250_smartsplit_False_2077\"\n",
    "folder_paths = [folder_path0, folder_path1]\n",
    "model_paths = []\n",
    "configs = []\n",
    "for folder_path in folder_paths:\n",
    "    model_paths.append(os.path.join(folder_path, r\"models\\best_model.pth\"))\n",
    "    with open(os.path.join(folder_path, \"config.json\"), \"r\", encoding=\"utf-8\") as f:\n",
    "        config = json.load(f)\n",
    "        configs.append(config)"
   ],
   "id": "cbbb4e455d5a417f",
   "outputs": [],
   "execution_count": 2
  },
  {
   "metadata": {
    "ExecuteTime": {
     "end_time": "2025-06-24T11:54:55.724769Z",
     "start_time": "2025-06-24T11:54:55.688919Z"
    }
   },
   "cell_type": "code",
   "source": [
    "# Get dataloaders, model and diffusiontools\n",
    "# Get dataloaders with the first config file so that we can take the same sample for all models\n",
    "config = configs[0]\n",
    "train_dataloader, val_dataloader, test_dataloader, train_dataset, val_dataset, test_dataset = get_data(image_dataset_path=IMAGE_DATASET_PATH, structure_dataset_path=STRUCTURE_DATASET_PATH, **config)"
   ],
   "id": "5fef11c1a1b30986",
   "outputs": [
    {
     "name": "stdout",
     "output_type": "stream",
     "text": [
      "Operating System: Windows. Number of DataLoader workers set to: 0\n",
      "Loading dataset from: Images='C:\\Users\\tabor\\Documents\\Programming\\MachineLearning\\MachineLearningModels\\data\\figure_B_maxrange_5000\\Output', Structures='C:\\Users\\tabor\\Documents\\Programming\\MachineLearning\\MachineLearningModels\\data\\figure_B_maxrange_5000\\Structure'\n",
      "Total dataset size: 5000 items.\n",
      "Validation set size: 500\n",
      "Using random split for train/test...\n",
      "Train set size: 3500\n",
      "Test set size: 1000\n"
     ]
    }
   ],
   "execution_count": 4
  },
  {
   "metadata": {
    "ExecuteTime": {
     "end_time": "2025-06-24T11:55:25.393623Z",
     "start_time": "2025-06-24T11:55:06.588678Z"
    }
   },
   "cell_type": "code",
   "source": [
    "# Get a batch and sample images with all models to test speed for each\n",
    "input_images, label_images, *_ = next(iter(test_dataloader))\n",
    "sample_count = 1 # Max value equal to value of batchsize\n",
    "\n",
    "for model_path, config in zip(model_paths, configs):\n",
    "    print(f\"Sampling for model {model_path}\")\n",
    "    model, diffusion = create_model_diffusion('cuda', **config)\n",
    "    model.load_state_dict(torch.load(model_path, weights_only=True))\n",
    "    samples = diffusion.p_sample_loop(model, sample_count, label_images)"
   ],
   "id": "62c5bdf6d05edd9c",
   "outputs": [
    {
     "name": "stdout",
     "output_type": "stream",
     "text": [
      "Sampling for model C:\\Users\\tabor\\Documents\\Studie\\Bachelor\\Jaar 4\\BEP\\Results\\Results_journal\\SmallUNet_nblocks_2_noisesteps_250_smartsplit_False_3906\\models\\best_model.pth\n"
     ]
    },
    {
     "name": "stderr",
     "output_type": "stream",
     "text": [
      "01:55:09 - INFO: Sampling 1 images\n",
      "249it [00:06, 35.80it/s]\n"
     ]
    },
    {
     "name": "stdout",
     "output_type": "stream",
     "text": [
      "Sampling for model C:\\Users\\tabor\\Documents\\Studie\\Bachelor\\Jaar 4\\BEP\\Results\\Results_journal\\results\\UNet_nblocks_2_noisesteps_250_smartsplit_False_2077\\models\\best_model.pth\n"
     ]
    },
    {
     "name": "stderr",
     "output_type": "stream",
     "text": [
      "01:55:17 - INFO: Sampling 1 images\n",
      "249it [00:08, 31.04it/s]\n"
     ]
    }
   ],
   "execution_count": 5
  },
  {
   "metadata": {},
   "cell_type": "code",
   "outputs": [],
   "execution_count": null,
   "source": [
    "# Noise an image for a set amount of steps\n",
    "target_image, label_image = test_dataset[11]\n",
    "t = torch.tensor([50])\n",
    "x_start = target_image.to('cuda')\n",
    "print(x_start.shape)\n",
    "noisy_image, *_ = diffusion.noise_images(x_start, t)\n",
    "\n",
    "noisy_image = tensor_to_PIL(noisy_image)\n",
    "target_image = tensor_to_PIL(target_image.unsqueeze(0))\n",
    "label_image = tensor_to_PIL(label_image.unsqueeze(0))\n",
    "\n",
    "print(target_image[0].size)\n",
    "noisy_image[0].save(os.path.join(\"results\", \"noisy_image.png\"))\n",
    "target_image[0].save(os.path.join(\"results\",\"target_image.png\"))\n",
    "label_image[0].save(os.path.join(\"results\", \"label_image.png\"))\n"
   ],
   "id": "9aaa85d8f1d704bd"
  }
 ],
 "metadata": {
  "kernelspec": {
   "display_name": "Python 3",
   "language": "python",
   "name": "python3"
  },
  "language_info": {
   "codemirror_mode": {
    "name": "ipython",
    "version": 2
   },
   "file_extension": ".py",
   "mimetype": "text/x-python",
   "name": "python",
   "nbconvert_exporter": "python",
   "pygments_lexer": "ipython2",
   "version": "2.7.6"
  }
 },
 "nbformat": 4,
 "nbformat_minor": 5
}
