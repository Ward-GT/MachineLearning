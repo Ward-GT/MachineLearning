{
 "cells": [
  {
   "cell_type": "code",
   "id": "initial_id",
   "metadata": {
    "collapsed": true,
    "ExecuteTime": {
     "end_time": "2025-06-17T13:32:36.486723Z",
     "start_time": "2025-06-17T13:32:36.483721Z"
    }
   },
   "source": [
    "import os\n",
    "\n",
    "from torchvision.io import read_image\n",
    "from PIL import Image\n",
    "from script_util import create_model_diffusion\n",
    "\n",
    "from SDE_datareduction import get_test_data, get_data\n",
    "from main import IMAGE_DATASET_PATH, STRUCTURE_DATASET_PATH, BASE_OUTPUT\n",
    "\n",
    "from SDE_utils import *\n",
    "from SDE_test import mae, count_parameters"
   ],
   "outputs": [],
   "execution_count": 13
  },
  {
   "metadata": {
    "ExecuteTime": {
     "end_time": "2025-06-17T13:50:04.883572Z",
     "start_time": "2025-06-17T13:50:04.879766Z"
    }
   },
   "cell_type": "code",
   "source": [
    "# Load config and establish paths for testing an existing model\n",
    "folder_path = r\"C:\\Users\\tabor\\Documents\\Studie\\Bachelor\\Jaar 4\\BEP\\Results\\Results_journal\\SmallUNet_nblocks_2_noisesteps_250_smartsplit_False_3906\"\n",
    "model_path = os.path.join(folder_path, r\"models\\best_model.pth\")\n",
    "with open(os.path.join(folder_path, \"config.json\"), \"r\", encoding=\"utf-8\") as f:\n",
    "    config = json.load(f)"
   ],
   "id": "b7b5ac032c05f091",
   "outputs": [],
   "execution_count": 32
  },
  {
   "metadata": {
    "ExecuteTime": {
     "end_time": "2025-06-17T14:19:47.438868Z",
     "start_time": "2025-06-17T14:19:46.327283Z"
    }
   },
   "cell_type": "code",
   "source": [
    "# Get dataloaders, model and diffusiontools\n",
    "train_dataloader, val_dataloader, test_dataloader, train_dataset, val_dataset, test_dataset = get_data(image_dataset_path=IMAGE_DATASET_PATH,\n",
    "                                                                      structure_dataset_path=STRUCTURE_DATASET_PATH, **config)\n",
    "\n",
    "input_images, label_images, *_ = next(iter(test_dataloader))\n",
    "\n",
    "model, diffusion = create_model_diffusion('cuda', **config)"
   ],
   "id": "1c1cc0eec1527e57",
   "outputs": [
    {
     "name": "stdout",
     "output_type": "stream",
     "text": [
      "Operating System: Windows. Number of DataLoader workers set to: 0\n",
      "Loading dataset from: Images='C:\\Users\\tabor\\Documents\\Programming\\MachineLearning\\MachineLearningModels\\data\\figure_B_maxrange_5000\\Output', Structures='C:\\Users\\tabor\\Documents\\Programming\\MachineLearning\\MachineLearningModels\\data\\figure_B_maxrange_5000\\Structure'\n",
      "Total dataset size: 5000 items.\n",
      "Validation set size: 500\n",
      "Using random split for train/test...\n",
      "Train set size: 3500\n",
      "Test set size: 1000\n"
     ]
    },
    {
     "ename": "ValueError",
     "evalue": "Unsupported image size: 512",
     "output_type": "error",
     "traceback": [
      "\u001B[1;31m---------------------------------------------------------------------------\u001B[0m",
      "\u001B[1;31mValueError\u001B[0m                                Traceback (most recent call last)",
      "Cell \u001B[1;32mIn[35], line 7\u001B[0m\n\u001B[0;32m      2\u001B[0m train_dataloader, val_dataloader, test_dataloader, train_dataset, val_dataset, test_dataset \u001B[38;5;241m=\u001B[39m get_data(image_dataset_path\u001B[38;5;241m=\u001B[39mIMAGE_DATASET_PATH,\n\u001B[0;32m      3\u001B[0m                                                                       structure_dataset_path\u001B[38;5;241m=\u001B[39mSTRUCTURE_DATASET_PATH, \u001B[38;5;241m*\u001B[39m\u001B[38;5;241m*\u001B[39mconfig)\n\u001B[0;32m      5\u001B[0m input_images, label_images, \u001B[38;5;241m*\u001B[39m_ \u001B[38;5;241m=\u001B[39m \u001B[38;5;28mnext\u001B[39m(\u001B[38;5;28miter\u001B[39m(test_dataloader))\n\u001B[1;32m----> 7\u001B[0m model, diffusion \u001B[38;5;241m=\u001B[39m \u001B[43mcreate_model_diffusion\u001B[49m\u001B[43m(\u001B[49m\u001B[38;5;124;43m'\u001B[39;49m\u001B[38;5;124;43mcuda\u001B[39;49m\u001B[38;5;124;43m'\u001B[39;49m\u001B[43m,\u001B[49m\u001B[43m \u001B[49m\u001B[38;5;241;43m*\u001B[39;49m\u001B[38;5;241;43m*\u001B[39;49m\u001B[43mconfig\u001B[49m\u001B[43m)\u001B[49m\n",
      "File \u001B[1;32m~\\Documents\\Programming\\MachineLearning\\MachineLearningModels\\SDE_conditioned\\script_util.py:8\u001B[0m, in \u001B[0;36mcreate_model_diffusion\u001B[1;34m(device, **kwargs)\u001B[0m\n\u001B[0;32m      7\u001B[0m \u001B[38;5;28;01mdef\u001B[39;00m \u001B[38;5;21mcreate_model_diffusion\u001B[39m(device, \u001B[38;5;241m*\u001B[39m\u001B[38;5;241m*\u001B[39mkwargs):\n\u001B[1;32m----> 8\u001B[0m     model \u001B[38;5;241m=\u001B[39m \u001B[43mcreate_model\u001B[49m\u001B[43m(\u001B[49m\n\u001B[0;32m      9\u001B[0m \u001B[43m        \u001B[49m\u001B[43mmodel_name\u001B[49m\u001B[38;5;241;43m=\u001B[39;49m\u001B[43mkwargs\u001B[49m\u001B[38;5;241;43m.\u001B[39;49m\u001B[43mget\u001B[49m\u001B[43m(\u001B[49m\u001B[38;5;124;43m\"\u001B[39;49m\u001B[38;5;124;43mmodel_name\u001B[39;49m\u001B[38;5;124;43m\"\u001B[39;49m\u001B[43m)\u001B[49m\u001B[43m,\u001B[49m\n\u001B[0;32m     10\u001B[0m \u001B[43m        \u001B[49m\u001B[43mimage_size\u001B[49m\u001B[38;5;241;43m=\u001B[39;49m\u001B[43mkwargs\u001B[49m\u001B[38;5;241;43m.\u001B[39;49m\u001B[43mget\u001B[49m\u001B[43m(\u001B[49m\u001B[38;5;124;43m\"\u001B[39;49m\u001B[38;5;124;43mimage_size\u001B[39;49m\u001B[38;5;124;43m\"\u001B[39;49m\u001B[43m)\u001B[49m\u001B[43m,\u001B[49m\n\u001B[0;32m     11\u001B[0m \u001B[43m        \u001B[49m\u001B[43mlearn_sigma\u001B[49m\u001B[38;5;241;43m=\u001B[39;49m\u001B[43mkwargs\u001B[49m\u001B[38;5;241;43m.\u001B[39;49m\u001B[43mget\u001B[49m\u001B[43m(\u001B[49m\u001B[38;5;124;43m\"\u001B[39;49m\u001B[38;5;124;43mlearn_sigma\u001B[39;49m\u001B[38;5;124;43m\"\u001B[39;49m\u001B[43m)\u001B[49m\u001B[43m,\u001B[49m\n\u001B[0;32m     12\u001B[0m \u001B[43m        \u001B[49m\u001B[43mn_blocks\u001B[49m\u001B[38;5;241;43m=\u001B[39;49m\u001B[43mkwargs\u001B[49m\u001B[38;5;241;43m.\u001B[39;49m\u001B[43mget\u001B[49m\u001B[43m(\u001B[49m\u001B[38;5;124;43m\"\u001B[39;49m\u001B[38;5;124;43mn_blocks\u001B[39;49m\u001B[38;5;124;43m\"\u001B[39;49m\u001B[43m)\u001B[49m\u001B[43m,\u001B[49m\n\u001B[0;32m     13\u001B[0m \u001B[43m        \u001B[49m\u001B[43mn_heads\u001B[49m\u001B[38;5;241;43m=\u001B[39;49m\u001B[43mkwargs\u001B[49m\u001B[38;5;241;43m.\u001B[39;49m\u001B[43mget\u001B[49m\u001B[43m(\u001B[49m\u001B[38;5;124;43m\"\u001B[39;49m\u001B[38;5;124;43mn_heads\u001B[39;49m\u001B[38;5;124;43m\"\u001B[39;49m\u001B[43m)\u001B[49m\u001B[43m,\u001B[49m\n\u001B[0;32m     14\u001B[0m \u001B[43m        \u001B[49m\u001B[43mdim_head\u001B[49m\u001B[38;5;241;43m=\u001B[39;49m\u001B[43mkwargs\u001B[49m\u001B[38;5;241;43m.\u001B[39;49m\u001B[43mget\u001B[49m\u001B[43m(\u001B[49m\u001B[38;5;124;43m\"\u001B[39;49m\u001B[38;5;124;43mdim_head\u001B[39;49m\u001B[38;5;124;43m\"\u001B[39;49m\u001B[43m)\u001B[49m\u001B[43m,\u001B[49m\n\u001B[0;32m     15\u001B[0m \u001B[43m        \u001B[49m\u001B[43mn_channels\u001B[49m\u001B[38;5;241;43m=\u001B[39;49m\u001B[43mkwargs\u001B[49m\u001B[38;5;241;43m.\u001B[39;49m\u001B[43mget\u001B[49m\u001B[43m(\u001B[49m\u001B[38;5;124;43m\"\u001B[39;49m\u001B[38;5;124;43mn_channels\u001B[39;49m\u001B[38;5;124;43m\"\u001B[39;49m\u001B[43m)\u001B[49m\u001B[43m,\u001B[49m\n\u001B[0;32m     16\u001B[0m \u001B[43m        \u001B[49m\u001B[43mattention_resolutions\u001B[49m\u001B[38;5;241;43m=\u001B[39;49m\u001B[43mkwargs\u001B[49m\u001B[38;5;241;43m.\u001B[39;49m\u001B[43mget\u001B[49m\u001B[43m(\u001B[49m\u001B[38;5;124;43m\"\u001B[39;49m\u001B[38;5;124;43mattention_resolutions\u001B[39;49m\u001B[38;5;124;43m\"\u001B[39;49m\u001B[43m)\u001B[49m\u001B[43m,\u001B[49m\n\u001B[0;32m     17\u001B[0m \u001B[43m        \u001B[49m\u001B[43mdevice\u001B[49m\u001B[38;5;241;43m=\u001B[39;49m\u001B[43mdevice\u001B[49m\n\u001B[0;32m     18\u001B[0m \u001B[43m    \u001B[49m\u001B[43m)\u001B[49m\n\u001B[0;32m     20\u001B[0m     diffusion \u001B[38;5;241m=\u001B[39m create_diffusion(\n\u001B[0;32m     21\u001B[0m         noise_steps\u001B[38;5;241m=\u001B[39mkwargs\u001B[38;5;241m.\u001B[39mget(\u001B[38;5;124m\"\u001B[39m\u001B[38;5;124mnoise_steps\u001B[39m\u001B[38;5;124m\"\u001B[39m),\n\u001B[0;32m     22\u001B[0m         image_size\u001B[38;5;241m=\u001B[39mkwargs\u001B[38;5;241m.\u001B[39mget(\u001B[38;5;124m\"\u001B[39m\u001B[38;5;124mimage_size\u001B[39m\u001B[38;5;124m\"\u001B[39m),\n\u001B[1;32m   (...)\u001B[0m\n\u001B[0;32m     25\u001B[0m         vector_conditioning\u001B[38;5;241m=\u001B[39mkwargs\u001B[38;5;241m.\u001B[39mget(\u001B[38;5;124m\"\u001B[39m\u001B[38;5;124mvector_conditioning\u001B[39m\u001B[38;5;124m\"\u001B[39m)\n\u001B[0;32m     26\u001B[0m     )\n\u001B[0;32m     28\u001B[0m     \u001B[38;5;28;01mreturn\u001B[39;00m model, diffusion\n",
      "File \u001B[1;32m~\\Documents\\Programming\\MachineLearning\\MachineLearningModels\\SDE_conditioned\\script_util.py:60\u001B[0m, in \u001B[0;36mcreate_model\u001B[1;34m(model_name, image_size, learn_sigma, n_blocks, n_heads, dim_head, n_channels, attention_resolutions, device)\u001B[0m\n\u001B[0;32m     58\u001B[0m     channel_mult \u001B[38;5;241m=\u001B[39m [\u001B[38;5;241m1\u001B[39m, \u001B[38;5;241m2\u001B[39m, \u001B[38;5;241m2\u001B[39m, \u001B[38;5;241m4\u001B[39m]\n\u001B[0;32m     59\u001B[0m \u001B[38;5;28;01melse\u001B[39;00m:\n\u001B[1;32m---> 60\u001B[0m     \u001B[38;5;28;01mraise\u001B[39;00m \u001B[38;5;167;01mValueError\u001B[39;00m(\u001B[38;5;124mf\u001B[39m\u001B[38;5;124m\"\u001B[39m\u001B[38;5;124mUnsupported image size: \u001B[39m\u001B[38;5;132;01m{\u001B[39;00mimage_size\u001B[38;5;132;01m}\u001B[39;00m\u001B[38;5;124m\"\u001B[39m)\n\u001B[0;32m     62\u001B[0m attention_ds \u001B[38;5;241m=\u001B[39m []\n\u001B[0;32m     63\u001B[0m \u001B[38;5;66;03m# Get places for attention layers\u001B[39;00m\n",
      "\u001B[1;31mValueError\u001B[0m: Unsupported image size: 512"
     ]
    }
   ],
   "execution_count": 35
  },
  {
   "metadata": {
    "ExecuteTime": {
     "end_time": "2025-06-17T13:32:37.966803Z",
     "start_time": "2025-06-17T13:32:37.962789Z"
    }
   },
   "cell_type": "code",
   "source": [
    "# Get the parameter count of the model and print\n",
    "parameters = count_parameters(model)\n",
    "\n",
    "print(parameters)"
   ],
   "id": "e89bd8dd9920080c",
   "outputs": [
    {
     "name": "stdout",
     "output_type": "stream",
     "text": [
      "115181894\n"
     ]
    }
   ],
   "execution_count": 16
  },
  {
   "metadata": {
    "ExecuteTime": {
     "end_time": "2025-06-17T13:32:40.535441Z",
     "start_time": "2025-06-17T13:32:38.039503Z"
    }
   },
   "cell_type": "code",
   "source": [
    "# Get a batch and sample images with this model\n",
    "sample_count = 32 # Max value equal to value of batchsize\n",
    "input_images, label_images, *_ = next(iter(test_dataloader))\n",
    "\n",
    "model.load_state_dict(torch.load(model_path, weights_only=True))\n",
    "\n",
    "samples = diffusion.p_sample_loop(model, sample_count, label_images)"
   ],
   "id": "217cbd6b25e05a78",
   "outputs": [
    {
     "name": "stderr",
     "output_type": "stream",
     "text": [
      "03:32:39 - INFO: Sampling 32 images\n",
      "2it [00:01,  1.36it/s]\n"
     ]
    },
    {
     "ename": "KeyboardInterrupt",
     "evalue": "",
     "output_type": "error",
     "traceback": [
      "\u001B[1;31m---------------------------------------------------------------------------\u001B[0m",
      "\u001B[1;31mKeyboardInterrupt\u001B[0m                         Traceback (most recent call last)",
      "Cell \u001B[1;32mIn[17], line 7\u001B[0m\n\u001B[0;32m      3\u001B[0m input_images, label_images, \u001B[38;5;241m*\u001B[39m_ \u001B[38;5;241m=\u001B[39m \u001B[38;5;28mnext\u001B[39m(\u001B[38;5;28miter\u001B[39m(test_dataloader))\n\u001B[0;32m      5\u001B[0m model\u001B[38;5;241m.\u001B[39mload_state_dict(torch\u001B[38;5;241m.\u001B[39mload(model_path, weights_only\u001B[38;5;241m=\u001B[39m\u001B[38;5;28;01mTrue\u001B[39;00m))\n\u001B[1;32m----> 7\u001B[0m samples \u001B[38;5;241m=\u001B[39m \u001B[43mdiffusion\u001B[49m\u001B[38;5;241;43m.\u001B[39;49m\u001B[43mp_sample_loop\u001B[49m\u001B[43m(\u001B[49m\u001B[43mmodel\u001B[49m\u001B[43m,\u001B[49m\u001B[43m \u001B[49m\u001B[43msample_count\u001B[49m\u001B[43m,\u001B[49m\u001B[43m \u001B[49m\u001B[43mlabel_images\u001B[49m\u001B[43m)\u001B[49m\n",
      "File \u001B[1;32m~\\Documents\\Programming\\MachineLearning\\MachineLearningModels\\SDE_conditioned\\SDE_tools.py:80\u001B[0m, in \u001B[0;36mDiffusionTools.p_sample_loop\u001B[1;34m(self, model, n, y)\u001B[0m\n\u001B[0;32m     78\u001B[0m y \u001B[38;5;241m=\u001B[39m y\u001B[38;5;241m.\u001B[39mto(\u001B[38;5;28mself\u001B[39m\u001B[38;5;241m.\u001B[39mdevice)\n\u001B[0;32m     79\u001B[0m \u001B[38;5;28;01mfor\u001B[39;00m i \u001B[38;5;129;01min\u001B[39;00m tqdm(\u001B[38;5;28mreversed\u001B[39m(\u001B[38;5;28mrange\u001B[39m(\u001B[38;5;241m1\u001B[39m, \u001B[38;5;28mself\u001B[39m\u001B[38;5;241m.\u001B[39mnoise_steps)), position\u001B[38;5;241m=\u001B[39m\u001B[38;5;241m0\u001B[39m):\n\u001B[1;32m---> 80\u001B[0m     t \u001B[38;5;241m=\u001B[39m \u001B[43m(\u001B[49m\u001B[43mtorch\u001B[49m\u001B[38;5;241;43m.\u001B[39;49m\u001B[43mones\u001B[49m\u001B[43m(\u001B[49m\u001B[43mn\u001B[49m\u001B[43m)\u001B[49m\u001B[43m \u001B[49m\u001B[38;5;241;43m*\u001B[39;49m\u001B[43m \u001B[49m\u001B[43mi\u001B[49m\u001B[43m)\u001B[49m\u001B[38;5;241;43m.\u001B[39;49m\u001B[43mlong\u001B[49m\u001B[43m(\u001B[49m\u001B[43m)\u001B[49m\u001B[38;5;241;43m.\u001B[39;49m\u001B[43mto\u001B[49m\u001B[43m(\u001B[49m\u001B[38;5;28;43mself\u001B[39;49m\u001B[38;5;241;43m.\u001B[39;49m\u001B[43mdevice\u001B[49m\u001B[43m)\u001B[49m\n\u001B[0;32m     81\u001B[0m     out \u001B[38;5;241m=\u001B[39m \u001B[38;5;28mself\u001B[39m\u001B[38;5;241m.\u001B[39mp_mean_variance(model, x, y, t)\n\u001B[0;32m     83\u001B[0m     \u001B[38;5;28;01mif\u001B[39;00m i \u001B[38;5;241m>\u001B[39m \u001B[38;5;241m1\u001B[39m:\n",
      "\u001B[1;31mKeyboardInterrupt\u001B[0m: "
     ]
    }
   ],
   "execution_count": 17
  },
  {
   "metadata": {
    "ExecuteTime": {
     "end_time": "2025-06-17T14:19:56.201840Z",
     "start_time": "2025-06-17T14:19:56.054403Z"
    }
   },
   "cell_type": "code",
   "source": [
    "# Noise an image for a set amount of steps\n",
    "image_path = r\"C:\\Users\\tabor\\Documents\\Programming\\MachineLearning\\MachineLearningModels\\data\\ppt_image_noisy.png\"\n",
    "t = torch.tensor([50])\n",
    "target_image, label_image, *_ = test_dataset[10]\n",
    "x_start = target_image.to('cuda')\n",
    "print(x_start.shape)\n",
    "noisy_image, *_ = diffusion.noise_images(x_start, t)\n",
    "\n",
    "noisy_image = tensor_to_PIL(noisy_image)\n",
    "target_image = tensor_to_PIL(target_image.unsqueeze(0))\n",
    "label_image = tensor_to_PIL(label_image.unsqueeze(0))\n",
    "\n",
    "print(target_image[0].size)\n",
    "noisy_image[0].save(os.path.join(\"results\", \"noisy_image.png\"))\n",
    "target_image[0].save(os.path.join(\"results\",\"target_image.png\"))\n",
    "label_image[0].save(os.path.join(\"results\", \"label_image.png\"))\n"
   ],
   "id": "b87617ae280521b6",
   "outputs": [
    {
     "name": "stdout",
     "output_type": "stream",
     "text": [
      "torch.Size([3, 512, 512])\n",
      "(512, 512)\n"
     ]
    }
   ],
   "execution_count": 36
  },
  {
   "metadata": {
    "ExecuteTime": {
     "end_time": "2025-06-17T13:49:56.806062Z",
     "start_time": "2025-06-17T13:49:56.803083Z"
    }
   },
   "cell_type": "code",
   "source": "",
   "id": "e83001821c8894c8",
   "outputs": [],
   "execution_count": null
  },
  {
   "metadata": {},
   "cell_type": "code",
   "outputs": [],
   "execution_count": null,
   "source": "",
   "id": "ef9bec8919a04b1c"
  }
 ],
 "metadata": {
  "kernelspec": {
   "display_name": "Python 3",
   "language": "python",
   "name": "python3"
  },
  "language_info": {
   "codemirror_mode": {
    "name": "ipython",
    "version": 2
   },
   "file_extension": ".py",
   "mimetype": "text/x-python",
   "name": "python",
   "nbconvert_exporter": "python",
   "pygments_lexer": "ipython2",
   "version": "2.7.6"
  }
 },
 "nbformat": 4,
 "nbformat_minor": 5
}
