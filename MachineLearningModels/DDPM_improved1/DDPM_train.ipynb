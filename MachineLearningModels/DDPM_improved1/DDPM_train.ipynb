{
 "cells": [
  {
   "cell_type": "code",
   "execution_count": 2,
   "id": "initial_id",
   "metadata": {
    "collapsed": true,
    "ExecuteTime": {
     "end_time": "2024-03-14T08:21:29.035185Z",
     "start_time": "2024-03-14T08:21:16.443325Z"
    }
   },
   "outputs": [],
   "source": [
    "from DDPM_tools import train, DiffusionTools\n",
    "from types import SimpleNamespace\n",
    "from DDPM_model import UNet, SimpleUnet\n",
    "import torch\n",
    "from DDPM_utils import save_images\n",
    "from torchvision import transforms\n",
    "import matplotlib.pyplot as plt\n",
    "import PIL"
   ]
  },
  {
   "cell_type": "code",
   "outputs": [
    {
     "name": "stdout",
     "output_type": "stream",
     "text": [
      "namespace(run_name='DDPM_Unconditional_64', epochs=100, batch_size=10, image_size=64, dataset_path='C:\\\\Users\\\\20202137\\\\OneDrive - TU Eindhoven\\\\Programming\\\\Python\\\\MachineLearning\\\\MachineLearningModels\\\\data\\\\figure_B\\\\Output', result_path='results', model_path='C:\\\\Users\\\\20202137\\\\OneDrive - TU Eindhoven\\\\Programming\\\\Python\\\\MachineLearning\\\\MachineLearningModels\\\\saved_models', device='cuda', lr=0.0003)\n"
     ]
    }
   ],
   "source": [
    "args = SimpleNamespace(\n",
    "    run_name=\"DDPM_Unconditional_64\",\n",
    "    epochs = 100,\n",
    "    batch_size=10,\n",
    "    image_size=64,\n",
    "    dataset_path=r\"C:\\Users\\20202137\\OneDrive - TU Eindhoven\\Programming\\Python\\MachineLearning\\MachineLearningModels\\data\\figure_B\\Output\",\n",
    "    result_path=\"results\",\n",
    "    model_path=r\"C:\\Users\\20202137\\OneDrive - TU Eindhoven\\Programming\\Python\\MachineLearning\\MachineLearningModels\\saved_models\",\n",
    "    device=\"cuda\",\n",
    "    lr=3e-4\n",
    ")\n",
    "print(args)"
   ],
   "metadata": {
    "collapsed": false,
    "ExecuteTime": {
     "end_time": "2024-03-13T17:19:32.560279Z",
     "start_time": "2024-03-13T17:19:32.551933Z"
    }
   },
   "id": "675537cea3664644",
   "execution_count": 2
  },
  {
   "cell_type": "code",
   "outputs": [
    {
     "name": "stdout",
     "output_type": "stream",
     "text": [
      "Num params:  23332739\n"
     ]
    },
    {
     "data": {
      "text/plain": "UNet(\n  (inc): DoubleConv(\n    (double_conv): Sequential(\n      (0): Conv2d(3, 64, kernel_size=(3, 3), stride=(1, 1), padding=(1, 1), bias=False)\n      (1): GroupNorm(1, 64, eps=1e-05, affine=True)\n      (2): GELU(approximate='none')\n      (3): Conv2d(64, 64, kernel_size=(3, 3), stride=(1, 1), padding=(1, 1), bias=False)\n      (4): GroupNorm(1, 64, eps=1e-05, affine=True)\n    )\n  )\n  (down1): Down(\n    (maxpool_conv): Sequential(\n      (0): MaxPool2d(kernel_size=2, stride=2, padding=0, dilation=1, ceil_mode=False)\n      (1): DoubleConv(\n        (double_conv): Sequential(\n          (0): Conv2d(64, 64, kernel_size=(3, 3), stride=(1, 1), padding=(1, 1), bias=False)\n          (1): GroupNorm(1, 64, eps=1e-05, affine=True)\n          (2): GELU(approximate='none')\n          (3): Conv2d(64, 64, kernel_size=(3, 3), stride=(1, 1), padding=(1, 1), bias=False)\n          (4): GroupNorm(1, 64, eps=1e-05, affine=True)\n        )\n      )\n      (2): DoubleConv(\n        (double_conv): Sequential(\n          (0): Conv2d(64, 128, kernel_size=(3, 3), stride=(1, 1), padding=(1, 1), bias=False)\n          (1): GroupNorm(1, 128, eps=1e-05, affine=True)\n          (2): GELU(approximate='none')\n          (3): Conv2d(128, 128, kernel_size=(3, 3), stride=(1, 1), padding=(1, 1), bias=False)\n          (4): GroupNorm(1, 128, eps=1e-05, affine=True)\n        )\n      )\n    )\n    (emb_layer): Sequential(\n      (0): SiLU()\n      (1): Linear(in_features=256, out_features=128, bias=True)\n    )\n  )\n  (sa1): SelfAttention(\n    (mha): MultiheadAttention(\n      (out_proj): NonDynamicallyQuantizableLinear(in_features=128, out_features=128, bias=True)\n    )\n    (ln): LayerNorm((128,), eps=1e-05, elementwise_affine=True)\n    (ff_self): Sequential(\n      (0): LayerNorm((128,), eps=1e-05, elementwise_affine=True)\n      (1): Linear(in_features=128, out_features=128, bias=True)\n      (2): GELU(approximate='none')\n      (3): Linear(in_features=128, out_features=128, bias=True)\n    )\n  )\n  (down2): Down(\n    (maxpool_conv): Sequential(\n      (0): MaxPool2d(kernel_size=2, stride=2, padding=0, dilation=1, ceil_mode=False)\n      (1): DoubleConv(\n        (double_conv): Sequential(\n          (0): Conv2d(128, 128, kernel_size=(3, 3), stride=(1, 1), padding=(1, 1), bias=False)\n          (1): GroupNorm(1, 128, eps=1e-05, affine=True)\n          (2): GELU(approximate='none')\n          (3): Conv2d(128, 128, kernel_size=(3, 3), stride=(1, 1), padding=(1, 1), bias=False)\n          (4): GroupNorm(1, 128, eps=1e-05, affine=True)\n        )\n      )\n      (2): DoubleConv(\n        (double_conv): Sequential(\n          (0): Conv2d(128, 256, kernel_size=(3, 3), stride=(1, 1), padding=(1, 1), bias=False)\n          (1): GroupNorm(1, 256, eps=1e-05, affine=True)\n          (2): GELU(approximate='none')\n          (3): Conv2d(256, 256, kernel_size=(3, 3), stride=(1, 1), padding=(1, 1), bias=False)\n          (4): GroupNorm(1, 256, eps=1e-05, affine=True)\n        )\n      )\n    )\n    (emb_layer): Sequential(\n      (0): SiLU()\n      (1): Linear(in_features=256, out_features=256, bias=True)\n    )\n  )\n  (sa2): SelfAttention(\n    (mha): MultiheadAttention(\n      (out_proj): NonDynamicallyQuantizableLinear(in_features=256, out_features=256, bias=True)\n    )\n    (ln): LayerNorm((256,), eps=1e-05, elementwise_affine=True)\n    (ff_self): Sequential(\n      (0): LayerNorm((256,), eps=1e-05, elementwise_affine=True)\n      (1): Linear(in_features=256, out_features=256, bias=True)\n      (2): GELU(approximate='none')\n      (3): Linear(in_features=256, out_features=256, bias=True)\n    )\n  )\n  (down3): Down(\n    (maxpool_conv): Sequential(\n      (0): MaxPool2d(kernel_size=2, stride=2, padding=0, dilation=1, ceil_mode=False)\n      (1): DoubleConv(\n        (double_conv): Sequential(\n          (0): Conv2d(256, 256, kernel_size=(3, 3), stride=(1, 1), padding=(1, 1), bias=False)\n          (1): GroupNorm(1, 256, eps=1e-05, affine=True)\n          (2): GELU(approximate='none')\n          (3): Conv2d(256, 256, kernel_size=(3, 3), stride=(1, 1), padding=(1, 1), bias=False)\n          (4): GroupNorm(1, 256, eps=1e-05, affine=True)\n        )\n      )\n      (2): DoubleConv(\n        (double_conv): Sequential(\n          (0): Conv2d(256, 256, kernel_size=(3, 3), stride=(1, 1), padding=(1, 1), bias=False)\n          (1): GroupNorm(1, 256, eps=1e-05, affine=True)\n          (2): GELU(approximate='none')\n          (3): Conv2d(256, 256, kernel_size=(3, 3), stride=(1, 1), padding=(1, 1), bias=False)\n          (4): GroupNorm(1, 256, eps=1e-05, affine=True)\n        )\n      )\n    )\n    (emb_layer): Sequential(\n      (0): SiLU()\n      (1): Linear(in_features=256, out_features=256, bias=True)\n    )\n  )\n  (sa3): SelfAttention(\n    (mha): MultiheadAttention(\n      (out_proj): NonDynamicallyQuantizableLinear(in_features=256, out_features=256, bias=True)\n    )\n    (ln): LayerNorm((256,), eps=1e-05, elementwise_affine=True)\n    (ff_self): Sequential(\n      (0): LayerNorm((256,), eps=1e-05, elementwise_affine=True)\n      (1): Linear(in_features=256, out_features=256, bias=True)\n      (2): GELU(approximate='none')\n      (3): Linear(in_features=256, out_features=256, bias=True)\n    )\n  )\n  (bot1): DoubleConv(\n    (double_conv): Sequential(\n      (0): Conv2d(256, 512, kernel_size=(3, 3), stride=(1, 1), padding=(1, 1), bias=False)\n      (1): GroupNorm(1, 512, eps=1e-05, affine=True)\n      (2): GELU(approximate='none')\n      (3): Conv2d(512, 512, kernel_size=(3, 3), stride=(1, 1), padding=(1, 1), bias=False)\n      (4): GroupNorm(1, 512, eps=1e-05, affine=True)\n    )\n  )\n  (bot2): DoubleConv(\n    (double_conv): Sequential(\n      (0): Conv2d(512, 512, kernel_size=(3, 3), stride=(1, 1), padding=(1, 1), bias=False)\n      (1): GroupNorm(1, 512, eps=1e-05, affine=True)\n      (2): GELU(approximate='none')\n      (3): Conv2d(512, 512, kernel_size=(3, 3), stride=(1, 1), padding=(1, 1), bias=False)\n      (4): GroupNorm(1, 512, eps=1e-05, affine=True)\n    )\n  )\n  (bot3): DoubleConv(\n    (double_conv): Sequential(\n      (0): Conv2d(512, 256, kernel_size=(3, 3), stride=(1, 1), padding=(1, 1), bias=False)\n      (1): GroupNorm(1, 256, eps=1e-05, affine=True)\n      (2): GELU(approximate='none')\n      (3): Conv2d(256, 256, kernel_size=(3, 3), stride=(1, 1), padding=(1, 1), bias=False)\n      (4): GroupNorm(1, 256, eps=1e-05, affine=True)\n    )\n  )\n  (up1): Up(\n    (up): Upsample(scale_factor=2.0, mode='bilinear')\n    (conv): Sequential(\n      (0): DoubleConv(\n        (double_conv): Sequential(\n          (0): Conv2d(512, 512, kernel_size=(3, 3), stride=(1, 1), padding=(1, 1), bias=False)\n          (1): GroupNorm(1, 512, eps=1e-05, affine=True)\n          (2): GELU(approximate='none')\n          (3): Conv2d(512, 512, kernel_size=(3, 3), stride=(1, 1), padding=(1, 1), bias=False)\n          (4): GroupNorm(1, 512, eps=1e-05, affine=True)\n        )\n      )\n      (1): DoubleConv(\n        (double_conv): Sequential(\n          (0): Conv2d(512, 256, kernel_size=(3, 3), stride=(1, 1), padding=(1, 1), bias=False)\n          (1): GroupNorm(1, 256, eps=1e-05, affine=True)\n          (2): GELU(approximate='none')\n          (3): Conv2d(256, 128, kernel_size=(3, 3), stride=(1, 1), padding=(1, 1), bias=False)\n          (4): GroupNorm(1, 128, eps=1e-05, affine=True)\n        )\n      )\n    )\n    (emb_layer): Sequential(\n      (0): SiLU()\n      (1): Linear(in_features=256, out_features=128, bias=True)\n    )\n  )\n  (sa4): SelfAttention(\n    (mha): MultiheadAttention(\n      (out_proj): NonDynamicallyQuantizableLinear(in_features=128, out_features=128, bias=True)\n    )\n    (ln): LayerNorm((128,), eps=1e-05, elementwise_affine=True)\n    (ff_self): Sequential(\n      (0): LayerNorm((128,), eps=1e-05, elementwise_affine=True)\n      (1): Linear(in_features=128, out_features=128, bias=True)\n      (2): GELU(approximate='none')\n      (3): Linear(in_features=128, out_features=128, bias=True)\n    )\n  )\n  (up2): Up(\n    (up): Upsample(scale_factor=2.0, mode='bilinear')\n    (conv): Sequential(\n      (0): DoubleConv(\n        (double_conv): Sequential(\n          (0): Conv2d(256, 256, kernel_size=(3, 3), stride=(1, 1), padding=(1, 1), bias=False)\n          (1): GroupNorm(1, 256, eps=1e-05, affine=True)\n          (2): GELU(approximate='none')\n          (3): Conv2d(256, 256, kernel_size=(3, 3), stride=(1, 1), padding=(1, 1), bias=False)\n          (4): GroupNorm(1, 256, eps=1e-05, affine=True)\n        )\n      )\n      (1): DoubleConv(\n        (double_conv): Sequential(\n          (0): Conv2d(256, 128, kernel_size=(3, 3), stride=(1, 1), padding=(1, 1), bias=False)\n          (1): GroupNorm(1, 128, eps=1e-05, affine=True)\n          (2): GELU(approximate='none')\n          (3): Conv2d(128, 64, kernel_size=(3, 3), stride=(1, 1), padding=(1, 1), bias=False)\n          (4): GroupNorm(1, 64, eps=1e-05, affine=True)\n        )\n      )\n    )\n    (emb_layer): Sequential(\n      (0): SiLU()\n      (1): Linear(in_features=256, out_features=64, bias=True)\n    )\n  )\n  (sa5): SelfAttention(\n    (mha): MultiheadAttention(\n      (out_proj): NonDynamicallyQuantizableLinear(in_features=64, out_features=64, bias=True)\n    )\n    (ln): LayerNorm((64,), eps=1e-05, elementwise_affine=True)\n    (ff_self): Sequential(\n      (0): LayerNorm((64,), eps=1e-05, elementwise_affine=True)\n      (1): Linear(in_features=64, out_features=64, bias=True)\n      (2): GELU(approximate='none')\n      (3): Linear(in_features=64, out_features=64, bias=True)\n    )\n  )\n  (up3): Up(\n    (up): Upsample(scale_factor=2.0, mode='bilinear')\n    (conv): Sequential(\n      (0): DoubleConv(\n        (double_conv): Sequential(\n          (0): Conv2d(128, 128, kernel_size=(3, 3), stride=(1, 1), padding=(1, 1), bias=False)\n          (1): GroupNorm(1, 128, eps=1e-05, affine=True)\n          (2): GELU(approximate='none')\n          (3): Conv2d(128, 128, kernel_size=(3, 3), stride=(1, 1), padding=(1, 1), bias=False)\n          (4): GroupNorm(1, 128, eps=1e-05, affine=True)\n        )\n      )\n      (1): DoubleConv(\n        (double_conv): Sequential(\n          (0): Conv2d(128, 64, kernel_size=(3, 3), stride=(1, 1), padding=(1, 1), bias=False)\n          (1): GroupNorm(1, 64, eps=1e-05, affine=True)\n          (2): GELU(approximate='none')\n          (3): Conv2d(64, 64, kernel_size=(3, 3), stride=(1, 1), padding=(1, 1), bias=False)\n          (4): GroupNorm(1, 64, eps=1e-05, affine=True)\n        )\n      )\n    )\n    (emb_layer): Sequential(\n      (0): SiLU()\n      (1): Linear(in_features=256, out_features=64, bias=True)\n    )\n  )\n  (sa6): SelfAttention(\n    (mha): MultiheadAttention(\n      (out_proj): NonDynamicallyQuantizableLinear(in_features=64, out_features=64, bias=True)\n    )\n    (ln): LayerNorm((64,), eps=1e-05, elementwise_affine=True)\n    (ff_self): Sequential(\n      (0): LayerNorm((64,), eps=1e-05, elementwise_affine=True)\n      (1): Linear(in_features=64, out_features=64, bias=True)\n      (2): GELU(approximate='none')\n      (3): Linear(in_features=64, out_features=64, bias=True)\n    )\n  )\n  (outc): Conv2d(64, 3, kernel_size=(1, 1), stride=(1, 1))\n)"
     },
     "execution_count": 3,
     "metadata": {},
     "output_type": "execute_result"
    }
   ],
   "source": [
    "model = UNet()\n",
    "print(\"Num params: \", sum(p.numel() for p in model.parameters()))\n",
    "model"
   ],
   "metadata": {
    "collapsed": false,
    "ExecuteTime": {
     "end_time": "2024-03-14T08:21:32.548083Z",
     "start_time": "2024-03-14T08:21:32.257619Z"
    }
   },
   "id": "d5afe37124f65448",
   "execution_count": 3
  },
  {
   "cell_type": "code",
   "outputs": [
    {
     "name": "stderr",
     "output_type": "stream",
     "text": [
      "06:19:33 - INFO: Starting epoch 0:\n",
      "100%|██████████| 100/100 [00:54<00:00,  1.82it/s, MSE=0.0875]\n",
      "06:20:28 - INFO: Sampling 10 images\n",
      "999it [01:56,  8.61it/s]\n",
      "06:22:24 - INFO: Starting epoch 1:\n",
      "100%|██████████| 100/100 [01:00<00:00,  1.65it/s, MSE=0.0506]\n",
      "06:23:25 - INFO: Sampling 10 images\n",
      "999it [01:57,  8.49it/s]\n",
      "06:25:23 - INFO: Starting epoch 2:\n",
      "100%|██████████| 100/100 [01:09<00:00,  1.44it/s, MSE=0.0349]\n",
      "06:26:32 - INFO: Sampling 10 images\n",
      "999it [01:59,  8.36it/s]\n",
      "06:28:32 - INFO: Starting epoch 3:\n",
      "100%|██████████| 100/100 [01:07<00:00,  1.47it/s, MSE=0.019]\n",
      "06:29:39 - INFO: Sampling 10 images\n",
      "999it [01:57,  8.48it/s]\n",
      "06:31:37 - INFO: Starting epoch 4:\n",
      "100%|██████████| 100/100 [01:05<00:00,  1.52it/s, MSE=0.0399]\n",
      "06:32:43 - INFO: Sampling 10 images\n",
      "999it [01:56,  8.60it/s]\n",
      "06:34:39 - INFO: Starting epoch 5:\n",
      "100%|██████████| 100/100 [01:03<00:00,  1.58it/s, MSE=0.0233]\n",
      "06:35:43 - INFO: Sampling 10 images\n",
      "999it [01:57,  8.50it/s]\n",
      "06:37:41 - INFO: Starting epoch 6:\n",
      "100%|██████████| 100/100 [01:02<00:00,  1.59it/s, MSE=0.0181]\n",
      "06:38:44 - INFO: Sampling 10 images\n",
      "999it [01:57,  8.53it/s]\n",
      "06:40:41 - INFO: Starting epoch 7:\n",
      "100%|██████████| 100/100 [01:05<00:00,  1.52it/s, MSE=0.0128]\n",
      "06:41:46 - INFO: Sampling 10 images\n",
      "999it [01:57,  8.49it/s]\n",
      "06:43:44 - INFO: Starting epoch 8:\n",
      "100%|██████████| 100/100 [01:03<00:00,  1.57it/s, MSE=0.0163]\n",
      "06:44:48 - INFO: Sampling 10 images\n",
      "999it [01:57,  8.49it/s]\n",
      "06:46:46 - INFO: Starting epoch 9:\n",
      "100%|██████████| 100/100 [01:06<00:00,  1.49it/s, MSE=0.0138]\n",
      "06:47:53 - INFO: Sampling 10 images\n",
      "999it [01:56,  8.55it/s]\n",
      "06:49:50 - INFO: Starting epoch 10:\n",
      "100%|██████████| 100/100 [01:04<00:00,  1.55it/s, MSE=0.017] \n",
      "06:50:54 - INFO: Sampling 10 images\n",
      "999it [01:57,  8.49it/s]\n",
      "06:52:52 - INFO: Starting epoch 11:\n",
      "100%|██████████| 100/100 [01:04<00:00,  1.56it/s, MSE=0.016] \n",
      "06:53:56 - INFO: Sampling 10 images\n",
      "999it [01:56,  8.58it/s]\n",
      "06:55:53 - INFO: Starting epoch 12:\n",
      "100%|██████████| 100/100 [01:05<00:00,  1.53it/s, MSE=0.00948]\n",
      "06:56:58 - INFO: Sampling 10 images\n",
      "999it [01:55,  8.61it/s]\n",
      "06:58:54 - INFO: Starting epoch 13:\n",
      "100%|██████████| 100/100 [01:05<00:00,  1.52it/s, MSE=0.0265]\n",
      "07:00:00 - INFO: Sampling 10 images\n",
      "999it [01:56,  8.61it/s]\n",
      "07:01:56 - INFO: Starting epoch 14:\n",
      "100%|██████████| 100/100 [01:06<00:00,  1.50it/s, MSE=0.0492]\n",
      "07:03:03 - INFO: Sampling 10 images\n",
      "999it [01:56,  8.59it/s]\n",
      "07:04:59 - INFO: Starting epoch 15:\n",
      "100%|██████████| 100/100 [01:06<00:00,  1.50it/s, MSE=0.0145]\n",
      "07:06:06 - INFO: Sampling 10 images\n",
      "999it [01:56,  8.55it/s]\n",
      "07:08:02 - INFO: Starting epoch 16:\n",
      "100%|██████████| 100/100 [01:01<00:00,  1.64it/s, MSE=0.0135]\n",
      "07:09:04 - INFO: Sampling 10 images\n",
      "999it [01:57,  8.50it/s]\n",
      "07:11:01 - INFO: Starting epoch 17:\n",
      "100%|██████████| 100/100 [01:00<00:00,  1.65it/s, MSE=0.0108]\n",
      "07:12:02 - INFO: Sampling 10 images\n",
      "999it [01:55,  8.66it/s]\n",
      "07:13:58 - INFO: Starting epoch 18:\n",
      "100%|██████████| 100/100 [01:01<00:00,  1.63it/s, MSE=0.0148]\n",
      "07:14:59 - INFO: Sampling 10 images\n",
      "999it [01:56,  8.55it/s]\n",
      "07:16:56 - INFO: Starting epoch 19:\n",
      "100%|██████████| 100/100 [01:00<00:00,  1.66it/s, MSE=0.0195]\n",
      "07:17:56 - INFO: Sampling 10 images\n",
      "999it [01:57,  8.52it/s]\n",
      "07:19:53 - INFO: Starting epoch 20:\n",
      "100%|██████████| 100/100 [01:09<00:00,  1.43it/s, MSE=0.0132]\n",
      "07:21:03 - INFO: Sampling 10 images\n",
      "999it [01:57,  8.51it/s]\n",
      "07:23:01 - INFO: Starting epoch 21:\n",
      "100%|██████████| 100/100 [01:01<00:00,  1.63it/s, MSE=0.00664]\n",
      "07:24:02 - INFO: Sampling 10 images\n",
      "999it [01:55,  8.66it/s]\n",
      "07:25:58 - INFO: Starting epoch 22:\n",
      "100%|██████████| 100/100 [01:00<00:00,  1.65it/s, MSE=0.00725]\n",
      "07:26:58 - INFO: Sampling 10 images\n",
      "999it [01:55,  8.65it/s]\n",
      "07:28:54 - INFO: Starting epoch 23:\n",
      "100%|██████████| 100/100 [01:01<00:00,  1.62it/s, MSE=0.0101]\n",
      "07:29:56 - INFO: Sampling 10 images\n",
      "999it [01:55,  8.61it/s]\n",
      "07:31:52 - INFO: Starting epoch 24:\n",
      "100%|██████████| 100/100 [00:59<00:00,  1.67it/s, MSE=0.00731]\n",
      "07:32:52 - INFO: Sampling 10 images\n",
      "999it [01:57,  8.53it/s]\n",
      "07:34:49 - INFO: Starting epoch 25:\n",
      "100%|██████████| 100/100 [01:00<00:00,  1.67it/s, MSE=0.0092]\n",
      "07:35:49 - INFO: Sampling 10 images\n",
      "999it [01:57,  8.52it/s]\n",
      "07:37:46 - INFO: Starting epoch 26:\n",
      "100%|██████████| 100/100 [00:59<00:00,  1.67it/s, MSE=0.00463]\n",
      "07:38:46 - INFO: Sampling 10 images\n",
      "999it [01:57,  8.53it/s]\n",
      "07:40:44 - INFO: Starting epoch 27:\n",
      "100%|██████████| 100/100 [01:00<00:00,  1.66it/s, MSE=0.00708]\n",
      "07:41:44 - INFO: Sampling 10 images\n",
      "999it [01:57,  8.54it/s]\n",
      "07:43:41 - INFO: Starting epoch 28:\n",
      "100%|██████████| 100/100 [00:59<00:00,  1.68it/s, MSE=0.0102]\n",
      "07:44:40 - INFO: Sampling 10 images\n",
      "999it [01:57,  8.52it/s]\n",
      "07:46:38 - INFO: Starting epoch 29:\n",
      "100%|██████████| 100/100 [01:01<00:00,  1.63it/s, MSE=0.0253]\n",
      "07:47:39 - INFO: Sampling 10 images\n",
      "999it [01:55,  8.62it/s]\n",
      "07:49:35 - INFO: Starting epoch 30:\n",
      "100%|██████████| 100/100 [01:01<00:00,  1.64it/s, MSE=0.00845]\n",
      "07:50:36 - INFO: Sampling 10 images\n",
      "999it [01:55,  8.68it/s]\n",
      "07:52:32 - INFO: Starting epoch 31:\n",
      "100%|██████████| 100/100 [01:01<00:00,  1.63it/s, MSE=0.0269]\n",
      "07:53:33 - INFO: Sampling 10 images\n",
      "999it [01:55,  8.65it/s]\n",
      "07:55:29 - INFO: Starting epoch 32:\n",
      "100%|██████████| 100/100 [01:02<00:00,  1.60it/s, MSE=0.00833]\n",
      "07:56:31 - INFO: Sampling 10 images\n",
      "999it [01:56,  8.61it/s]\n",
      "07:58:27 - INFO: Starting epoch 33:\n",
      "100%|██████████| 100/100 [01:00<00:00,  1.64it/s, MSE=0.00411]\n",
      "07:59:28 - INFO: Sampling 10 images\n",
      "999it [01:56,  8.58it/s]\n",
      "08:01:25 - INFO: Starting epoch 34:\n",
      "100%|██████████| 100/100 [00:59<00:00,  1.68it/s, MSE=0.0122]\n",
      "08:02:24 - INFO: Sampling 10 images\n",
      "999it [01:57,  8.53it/s]\n",
      "08:04:22 - INFO: Starting epoch 35:\n",
      "100%|██████████| 100/100 [00:59<00:00,  1.67it/s, MSE=0.0142]\n",
      "08:05:21 - INFO: Sampling 10 images\n",
      "999it [01:56,  8.54it/s]\n",
      "08:07:19 - INFO: Starting epoch 36:\n",
      "100%|██████████| 100/100 [01:00<00:00,  1.66it/s, MSE=0.0126]\n",
      "08:08:19 - INFO: Sampling 10 images\n",
      "999it [01:57,  8.52it/s]\n",
      "08:10:16 - INFO: Starting epoch 37:\n",
      "100%|██████████| 100/100 [00:59<00:00,  1.67it/s, MSE=0.0165]\n",
      "08:11:16 - INFO: Sampling 10 images\n",
      "999it [01:57,  8.52it/s]\n",
      "08:13:13 - INFO: Starting epoch 38:\n",
      "100%|██████████| 100/100 [01:00<00:00,  1.65it/s, MSE=0.00671]\n",
      "08:14:14 - INFO: Sampling 10 images\n",
      "999it [01:55,  8.62it/s]\n",
      "08:16:10 - INFO: Starting epoch 39:\n",
      "100%|██████████| 100/100 [01:00<00:00,  1.65it/s, MSE=0.014] \n",
      "08:17:10 - INFO: Sampling 10 images\n",
      "999it [01:56,  8.60it/s]\n",
      "08:19:07 - INFO: Starting epoch 40:\n",
      "100%|██████████| 100/100 [01:00<00:00,  1.65it/s, MSE=0.00519]\n",
      "08:20:07 - INFO: Sampling 10 images\n",
      "999it [01:57,  8.52it/s]\n",
      "08:22:05 - INFO: Starting epoch 41:\n",
      "100%|██████████| 100/100 [01:00<00:00,  1.65it/s, MSE=0.0124]\n",
      "08:23:05 - INFO: Sampling 10 images\n",
      "999it [01:56,  8.54it/s]\n",
      "08:25:02 - INFO: Starting epoch 42:\n",
      "100%|██████████| 100/100 [01:00<00:00,  1.65it/s, MSE=0.00729]\n",
      "08:26:03 - INFO: Sampling 10 images\n",
      "999it [01:57,  8.53it/s]\n",
      "08:28:00 - INFO: Starting epoch 43:\n",
      "100%|██████████| 100/100 [01:01<00:00,  1.63it/s, MSE=0.0345]\n",
      "08:29:02 - INFO: Sampling 10 images\n",
      "999it [01:55,  8.63it/s]\n",
      "08:30:58 - INFO: Starting epoch 44:\n",
      "100%|██████████| 100/100 [01:01<00:00,  1.63it/s, MSE=0.00882]\n",
      "08:31:59 - INFO: Sampling 10 images\n",
      "999it [01:56,  8.60it/s]\n",
      "08:33:55 - INFO: Starting epoch 45:\n",
      "100%|██████████| 100/100 [01:02<00:00,  1.60it/s, MSE=0.00437]\n",
      "08:34:58 - INFO: Sampling 10 images\n",
      "999it [01:55,  8.64it/s]\n",
      "08:36:53 - INFO: Starting epoch 46:\n",
      "100%|██████████| 100/100 [01:03<00:00,  1.58it/s, MSE=0.00694]\n",
      "08:37:56 - INFO: Sampling 10 images\n",
      "999it [01:55,  8.67it/s]\n",
      "08:39:52 - INFO: Starting epoch 47:\n",
      "100%|██████████| 100/100 [01:03<00:00,  1.57it/s, MSE=0.021] \n",
      "08:40:56 - INFO: Sampling 10 images\n",
      "999it [01:57,  8.53it/s]\n",
      "08:42:53 - INFO: Starting epoch 48:\n",
      "100%|██████████| 100/100 [01:03<00:00,  1.58it/s, MSE=0.00455]\n",
      "08:43:56 - INFO: Sampling 10 images\n",
      "999it [01:56,  8.60it/s]\n",
      "08:45:52 - INFO: Starting epoch 49:\n",
      "100%|██████████| 100/100 [01:02<00:00,  1.61it/s, MSE=0.0112]\n",
      "08:46:55 - INFO: Sampling 10 images\n",
      "999it [01:57,  8.52it/s]\n",
      "08:48:52 - INFO: Starting epoch 50:\n",
      "100%|██████████| 100/100 [01:02<00:00,  1.60it/s, MSE=0.00558]\n",
      "08:49:54 - INFO: Sampling 10 images\n",
      "999it [01:57,  8.52it/s]\n",
      "08:51:52 - INFO: Starting epoch 51:\n",
      "100%|██████████| 100/100 [01:03<00:00,  1.58it/s, MSE=0.00703]\n",
      "08:52:55 - INFO: Sampling 10 images\n",
      "999it [01:56,  8.61it/s]\n",
      "08:54:51 - INFO: Starting epoch 52:\n",
      "100%|██████████| 100/100 [01:04<00:00,  1.56it/s, MSE=0.0211]\n",
      "08:55:56 - INFO: Sampling 10 images\n",
      "999it [01:57,  8.54it/s]\n",
      "08:57:53 - INFO: Starting epoch 53:\n",
      "100%|██████████| 100/100 [01:04<00:00,  1.56it/s, MSE=0.00479]\n",
      "08:58:57 - INFO: Sampling 10 images\n",
      "999it [01:57,  8.52it/s]\n",
      "09:00:54 - INFO: Starting epoch 54:\n",
      "100%|██████████| 100/100 [01:02<00:00,  1.61it/s, MSE=0.0102]\n",
      "09:01:56 - INFO: Sampling 10 images\n",
      "999it [01:57,  8.52it/s]\n",
      "09:03:54 - INFO: Starting epoch 55:\n",
      "100%|██████████| 100/100 [01:03<00:00,  1.58it/s, MSE=0.00432]\n",
      "09:04:57 - INFO: Sampling 10 images\n",
      "999it [01:55,  8.66it/s]\n",
      "09:06:53 - INFO: Starting epoch 56:\n",
      "100%|██████████| 100/100 [01:04<00:00,  1.55it/s, MSE=0.00382]\n",
      "09:07:57 - INFO: Sampling 10 images\n",
      "999it [01:55,  8.68it/s]\n",
      "09:09:53 - INFO: Starting epoch 57:\n",
      "100%|██████████| 100/100 [01:04<00:00,  1.54it/s, MSE=0.00493]\n",
      "09:10:57 - INFO: Sampling 10 images\n",
      "999it [01:56,  8.60it/s]\n",
      "09:12:54 - INFO: Starting epoch 58:\n",
      "100%|██████████| 100/100 [01:05<00:00,  1.53it/s, MSE=0.0126]\n",
      "09:13:59 - INFO: Sampling 10 images\n",
      "999it [01:56,  8.59it/s]\n",
      "09:15:55 - INFO: Starting epoch 59:\n",
      "100%|██████████| 100/100 [01:03<00:00,  1.57it/s, MSE=0.00398]\n",
      "09:16:59 - INFO: Sampling 10 images\n",
      "999it [01:55,  8.62it/s]\n",
      "09:18:55 - INFO: Starting epoch 60:\n",
      "100%|██████████| 100/100 [01:04<00:00,  1.55it/s, MSE=0.00522]\n",
      "09:20:00 - INFO: Sampling 10 images\n",
      "999it [01:55,  8.63it/s]\n",
      "09:21:55 - INFO: Starting epoch 61:\n",
      "100%|██████████| 100/100 [01:05<00:00,  1.54it/s, MSE=0.00402]\n",
      "09:23:00 - INFO: Sampling 10 images\n",
      "999it [01:55,  8.64it/s]\n",
      "09:24:56 - INFO: Starting epoch 62:\n",
      "100%|██████████| 100/100 [01:04<00:00,  1.55it/s, MSE=0.0115]\n",
      "09:26:01 - INFO: Sampling 10 images\n",
      "999it [01:55,  8.65it/s]\n",
      "09:27:56 - INFO: Starting epoch 63:\n",
      "100%|██████████| 100/100 [01:03<00:00,  1.57it/s, MSE=0.00334]\n",
      "09:29:00 - INFO: Sampling 10 images\n",
      "999it [01:56,  8.59it/s]\n",
      "09:30:56 - INFO: Starting epoch 64:\n",
      "100%|██████████| 100/100 [01:02<00:00,  1.60it/s, MSE=0.00346]\n",
      "09:31:59 - INFO: Sampling 10 images\n",
      "999it [01:55,  8.63it/s]\n",
      "09:33:55 - INFO: Starting epoch 65:\n",
      "100%|██████████| 100/100 [01:03<00:00,  1.58it/s, MSE=0.0097]\n",
      "09:34:58 - INFO: Sampling 10 images\n",
      "999it [01:55,  8.66it/s]\n",
      "09:36:54 - INFO: Starting epoch 66:\n",
      "100%|██████████| 100/100 [01:04<00:00,  1.55it/s, MSE=0.00723]\n",
      "09:37:58 - INFO: Sampling 10 images\n",
      "999it [01:55,  8.68it/s]\n",
      "09:39:54 - INFO: Starting epoch 67:\n",
      "100%|██████████| 100/100 [01:03<00:00,  1.58it/s, MSE=0.0191]\n",
      "09:40:57 - INFO: Sampling 10 images\n",
      "999it [01:55,  8.63it/s]\n",
      "09:42:53 - INFO: Starting epoch 68:\n",
      "100%|██████████| 100/100 [01:02<00:00,  1.60it/s, MSE=0.00586]\n",
      "09:43:55 - INFO: Sampling 10 images\n",
      "999it [01:56,  8.57it/s]\n",
      "09:45:52 - INFO: Starting epoch 69:\n",
      "100%|██████████| 100/100 [01:00<00:00,  1.64it/s, MSE=0.00288]\n",
      "09:46:53 - INFO: Sampling 10 images\n",
      "999it [01:56,  8.61it/s]\n",
      "09:48:49 - INFO: Starting epoch 70:\n",
      "100%|██████████| 100/100 [01:00<00:00,  1.65it/s, MSE=0.00294]\n",
      "09:49:50 - INFO: Sampling 10 images\n",
      "999it [01:56,  8.61it/s]\n",
      "09:51:46 - INFO: Starting epoch 71:\n",
      "100%|██████████| 100/100 [01:02<00:00,  1.60it/s, MSE=0.00376]\n",
      "09:52:48 - INFO: Sampling 10 images\n",
      "999it [01:55,  8.65it/s]\n",
      "09:54:44 - INFO: Starting epoch 72:\n",
      "100%|██████████| 100/100 [01:02<00:00,  1.60it/s, MSE=0.00407]\n",
      "09:55:46 - INFO: Sampling 10 images\n",
      "999it [01:55,  8.61it/s]\n",
      "09:57:42 - INFO: Starting epoch 73:\n",
      "100%|██████████| 100/100 [01:03<00:00,  1.57it/s, MSE=0.0087]\n",
      "09:58:46 - INFO: Sampling 10 images\n",
      "999it [01:55,  8.65it/s]\n",
      "10:00:42 - INFO: Starting epoch 74:\n",
      "100%|██████████| 100/100 [01:03<00:00,  1.58it/s, MSE=0.00308]\n",
      "10:01:45 - INFO: Sampling 10 images\n",
      "999it [01:55,  8.67it/s]\n",
      "10:03:40 - INFO: Starting epoch 75:\n",
      "100%|██████████| 100/100 [01:03<00:00,  1.57it/s, MSE=0.004] \n",
      "10:04:44 - INFO: Sampling 10 images\n",
      "999it [01:55,  8.62it/s]\n",
      "10:06:40 - INFO: Starting epoch 76:\n",
      "100%|██████████| 100/100 [01:02<00:00,  1.60it/s, MSE=0.00965]\n",
      "10:07:43 - INFO: Sampling 10 images\n",
      "999it [01:55,  8.66it/s]\n",
      "10:09:38 - INFO: Starting epoch 77:\n",
      "100%|██████████| 100/100 [01:04<00:00,  1.56it/s, MSE=0.0036]\n",
      "10:10:42 - INFO: Sampling 10 images\n",
      "999it [01:54,  8.69it/s]\n",
      "10:12:37 - INFO: Starting epoch 78:\n",
      "100%|██████████| 100/100 [01:04<00:00,  1.56it/s, MSE=0.00571]\n",
      "10:13:41 - INFO: Sampling 10 images\n",
      "999it [01:55,  8.64it/s]\n",
      "10:15:37 - INFO: Starting epoch 79:\n",
      "100%|██████████| 100/100 [01:02<00:00,  1.59it/s, MSE=0.0123]\n",
      "10:16:40 - INFO: Sampling 10 images\n",
      "999it [01:55,  8.68it/s]\n",
      "10:18:35 - INFO: Starting epoch 80:\n",
      "100%|██████████| 100/100 [01:03<00:00,  1.57it/s, MSE=0.00653]\n",
      "10:19:39 - INFO: Sampling 10 images\n",
      "999it [01:54,  8.72it/s]\n",
      "10:21:34 - INFO: Starting epoch 81:\n",
      "100%|██████████| 100/100 [01:03<00:00,  1.57it/s, MSE=0.0557]\n",
      "10:22:37 - INFO: Sampling 10 images\n",
      "999it [01:55,  8.67it/s]\n",
      "10:24:33 - INFO: Starting epoch 82:\n",
      "100%|██████████| 100/100 [01:03<00:00,  1.57it/s, MSE=0.00689]\n",
      "10:25:36 - INFO: Sampling 10 images\n",
      "999it [01:54,  8.70it/s]\n",
      "10:27:31 - INFO: Starting epoch 83:\n",
      "100%|██████████| 100/100 [01:04<00:00,  1.56it/s, MSE=0.00644]\n",
      "10:28:35 - INFO: Sampling 10 images\n",
      "999it [01:54,  8.74it/s]\n",
      "10:30:30 - INFO: Starting epoch 84:\n",
      "100%|██████████| 100/100 [01:02<00:00,  1.59it/s, MSE=0.00466]\n",
      "10:31:33 - INFO: Sampling 10 images\n",
      "999it [01:54,  8.71it/s]\n",
      "10:33:27 - INFO: Starting epoch 85:\n",
      "100%|██████████| 100/100 [01:04<00:00,  1.55it/s, MSE=0.0039]\n",
      "10:34:32 - INFO: Sampling 10 images\n",
      "999it [01:54,  8.74it/s]\n",
      "10:36:26 - INFO: Starting epoch 86:\n",
      "100%|██████████| 100/100 [01:02<00:00,  1.59it/s, MSE=0.0168]\n",
      "10:37:29 - INFO: Sampling 10 images\n",
      "999it [01:54,  8.71it/s]\n",
      "10:39:24 - INFO: Starting epoch 87:\n",
      "100%|██████████| 100/100 [01:02<00:00,  1.60it/s, MSE=0.00455]\n",
      "10:40:27 - INFO: Sampling 10 images\n",
      "999it [01:55,  8.67it/s]\n",
      "10:42:22 - INFO: Starting epoch 88:\n",
      "100%|██████████| 100/100 [01:01<00:00,  1.63it/s, MSE=0.0107]\n",
      "10:43:24 - INFO: Sampling 10 images\n",
      "999it [01:55,  8.66it/s]\n",
      "10:45:19 - INFO: Starting epoch 89:\n",
      "100%|██████████| 100/100 [01:02<00:00,  1.59it/s, MSE=0.00948]\n",
      "10:46:22 - INFO: Sampling 10 images\n",
      "999it [01:54,  8.70it/s]\n",
      "10:48:17 - INFO: Starting epoch 90:\n",
      "100%|██████████| 100/100 [01:05<00:00,  1.54it/s, MSE=0.00932]\n",
      "10:49:22 - INFO: Sampling 10 images\n",
      "999it [01:54,  8.70it/s]\n",
      "10:51:17 - INFO: Starting epoch 91:\n",
      "100%|██████████| 100/100 [01:03<00:00,  1.59it/s, MSE=0.00776]\n",
      "10:52:20 - INFO: Sampling 10 images\n",
      "999it [01:56,  8.59it/s]\n",
      "10:54:16 - INFO: Starting epoch 92:\n",
      "100%|██████████| 100/100 [01:04<00:00,  1.56it/s, MSE=0.00525]\n",
      "10:55:21 - INFO: Sampling 10 images\n",
      "999it [01:54,  8.69it/s]\n",
      "10:57:16 - INFO: Starting epoch 93:\n",
      "100%|██████████| 100/100 [01:07<00:00,  1.49it/s, MSE=0.00334]\n",
      "10:58:23 - INFO: Sampling 10 images\n",
      "999it [01:55,  8.68it/s]\n",
      "11:00:18 - INFO: Starting epoch 94:\n",
      "100%|██████████| 100/100 [01:06<00:00,  1.50it/s, MSE=0.00867]\n",
      "11:01:25 - INFO: Sampling 10 images\n",
      "999it [01:55,  8.67it/s]\n",
      "11:03:20 - INFO: Starting epoch 95:\n",
      "100%|██████████| 100/100 [01:05<00:00,  1.53it/s, MSE=0.00281]\n",
      "11:04:26 - INFO: Sampling 10 images\n",
      "999it [01:57,  8.49it/s]\n",
      "11:06:23 - INFO: Starting epoch 96:\n",
      "100%|██████████| 100/100 [01:02<00:00,  1.60it/s, MSE=0.0031]\n",
      "11:07:26 - INFO: Sampling 10 images\n",
      "999it [01:55,  8.62it/s]\n",
      "11:09:22 - INFO: Starting epoch 97:\n",
      "100%|██████████| 100/100 [01:05<00:00,  1.53it/s, MSE=0.0164]\n",
      "11:10:27 - INFO: Sampling 10 images\n",
      "999it [01:55,  8.63it/s]\n",
      "11:12:23 - INFO: Starting epoch 98:\n",
      "100%|██████████| 100/100 [01:06<00:00,  1.50it/s, MSE=0.00373]\n",
      "11:13:30 - INFO: Sampling 10 images\n",
      "999it [01:56,  8.55it/s]\n",
      "11:15:27 - INFO: Starting epoch 99:\n",
      "100%|██████████| 100/100 [01:05<00:00,  1.52it/s, MSE=0.00363]\n",
      "11:16:33 - INFO: Sampling 10 images\n",
      "999it [01:58,  8.46it/s]\n"
     ]
    }
   ],
   "source": [
    "train(args)"
   ],
   "metadata": {
    "collapsed": false,
    "ExecuteTime": {
     "end_time": "2024-03-13T22:18:32.334234Z",
     "start_time": "2024-03-13T17:19:32.746857Z"
    }
   },
   "id": "4621ba6bb03abf82",
   "execution_count": 4
  },
  {
   "cell_type": "code",
   "outputs": [
    {
     "data": {
      "text/plain": "SimpleUnet(\n  (time_mlp): Sequential(\n    (0): SinusoidalPositionEmbeddings()\n    (1): Linear(in_features=32, out_features=32, bias=True)\n    (2): ReLU()\n  )\n  (conv0): Conv2d(3, 64, kernel_size=(3, 3), stride=(1, 1), padding=(1, 1))\n  (downs): ModuleList(\n    (0): Block(\n      (time_mlp): Linear(in_features=32, out_features=128, bias=True)\n      (conv1): Conv2d(64, 128, kernel_size=(3, 3), stride=(1, 1), padding=(1, 1))\n      (transform): Conv2d(128, 128, kernel_size=(4, 4), stride=(2, 2), padding=(1, 1))\n      (conv2): Conv2d(128, 128, kernel_size=(3, 3), stride=(1, 1), padding=(1, 1))\n      (bnorm1): BatchNorm2d(128, eps=1e-05, momentum=0.1, affine=True, track_running_stats=True)\n      (bnorm2): BatchNorm2d(128, eps=1e-05, momentum=0.1, affine=True, track_running_stats=True)\n      (relu): ReLU()\n    )\n    (1): Block(\n      (time_mlp): Linear(in_features=32, out_features=256, bias=True)\n      (conv1): Conv2d(128, 256, kernel_size=(3, 3), stride=(1, 1), padding=(1, 1))\n      (transform): Conv2d(256, 256, kernel_size=(4, 4), stride=(2, 2), padding=(1, 1))\n      (conv2): Conv2d(256, 256, kernel_size=(3, 3), stride=(1, 1), padding=(1, 1))\n      (bnorm1): BatchNorm2d(256, eps=1e-05, momentum=0.1, affine=True, track_running_stats=True)\n      (bnorm2): BatchNorm2d(256, eps=1e-05, momentum=0.1, affine=True, track_running_stats=True)\n      (relu): ReLU()\n    )\n    (2): Block(\n      (time_mlp): Linear(in_features=32, out_features=512, bias=True)\n      (conv1): Conv2d(256, 512, kernel_size=(3, 3), stride=(1, 1), padding=(1, 1))\n      (transform): Conv2d(512, 512, kernel_size=(4, 4), stride=(2, 2), padding=(1, 1))\n      (conv2): Conv2d(512, 512, kernel_size=(3, 3), stride=(1, 1), padding=(1, 1))\n      (bnorm1): BatchNorm2d(512, eps=1e-05, momentum=0.1, affine=True, track_running_stats=True)\n      (bnorm2): BatchNorm2d(512, eps=1e-05, momentum=0.1, affine=True, track_running_stats=True)\n      (relu): ReLU()\n    )\n    (3): Block(\n      (time_mlp): Linear(in_features=32, out_features=1024, bias=True)\n      (conv1): Conv2d(512, 1024, kernel_size=(3, 3), stride=(1, 1), padding=(1, 1))\n      (transform): Conv2d(1024, 1024, kernel_size=(4, 4), stride=(2, 2), padding=(1, 1))\n      (conv2): Conv2d(1024, 1024, kernel_size=(3, 3), stride=(1, 1), padding=(1, 1))\n      (bnorm1): BatchNorm2d(1024, eps=1e-05, momentum=0.1, affine=True, track_running_stats=True)\n      (bnorm2): BatchNorm2d(1024, eps=1e-05, momentum=0.1, affine=True, track_running_stats=True)\n      (relu): ReLU()\n    )\n  )\n  (ups): ModuleList(\n    (0): Block(\n      (time_mlp): Linear(in_features=32, out_features=512, bias=True)\n      (conv1): Conv2d(2048, 512, kernel_size=(3, 3), stride=(1, 1), padding=(1, 1))\n      (transform): ConvTranspose2d(512, 512, kernel_size=(4, 4), stride=(2, 2), padding=(1, 1))\n      (conv2): Conv2d(512, 512, kernel_size=(3, 3), stride=(1, 1), padding=(1, 1))\n      (bnorm1): BatchNorm2d(512, eps=1e-05, momentum=0.1, affine=True, track_running_stats=True)\n      (bnorm2): BatchNorm2d(512, eps=1e-05, momentum=0.1, affine=True, track_running_stats=True)\n      (relu): ReLU()\n    )\n    (1): Block(\n      (time_mlp): Linear(in_features=32, out_features=256, bias=True)\n      (conv1): Conv2d(1024, 256, kernel_size=(3, 3), stride=(1, 1), padding=(1, 1))\n      (transform): ConvTranspose2d(256, 256, kernel_size=(4, 4), stride=(2, 2), padding=(1, 1))\n      (conv2): Conv2d(256, 256, kernel_size=(3, 3), stride=(1, 1), padding=(1, 1))\n      (bnorm1): BatchNorm2d(256, eps=1e-05, momentum=0.1, affine=True, track_running_stats=True)\n      (bnorm2): BatchNorm2d(256, eps=1e-05, momentum=0.1, affine=True, track_running_stats=True)\n      (relu): ReLU()\n    )\n    (2): Block(\n      (time_mlp): Linear(in_features=32, out_features=128, bias=True)\n      (conv1): Conv2d(512, 128, kernel_size=(3, 3), stride=(1, 1), padding=(1, 1))\n      (transform): ConvTranspose2d(128, 128, kernel_size=(4, 4), stride=(2, 2), padding=(1, 1))\n      (conv2): Conv2d(128, 128, kernel_size=(3, 3), stride=(1, 1), padding=(1, 1))\n      (bnorm1): BatchNorm2d(128, eps=1e-05, momentum=0.1, affine=True, track_running_stats=True)\n      (bnorm2): BatchNorm2d(128, eps=1e-05, momentum=0.1, affine=True, track_running_stats=True)\n      (relu): ReLU()\n    )\n    (3): Block(\n      (time_mlp): Linear(in_features=32, out_features=64, bias=True)\n      (conv1): Conv2d(256, 64, kernel_size=(3, 3), stride=(1, 1), padding=(1, 1))\n      (transform): ConvTranspose2d(64, 64, kernel_size=(4, 4), stride=(2, 2), padding=(1, 1))\n      (conv2): Conv2d(64, 64, kernel_size=(3, 3), stride=(1, 1), padding=(1, 1))\n      (bnorm1): BatchNorm2d(64, eps=1e-05, momentum=0.1, affine=True, track_running_stats=True)\n      (bnorm2): BatchNorm2d(64, eps=1e-05, momentum=0.1, affine=True, track_running_stats=True)\n      (relu): ReLU()\n    )\n  )\n  (output): Conv2d(64, 3, kernel_size=(1, 1), stride=(1, 1))\n)"
     },
     "execution_count": 4,
     "metadata": {},
     "output_type": "execute_result"
    }
   ],
   "source": [
    "model = SimpleUnet()\n",
    "model.load_state_dict(torch.load(r\"C:\\Users\\20202137\\OneDrive - TU Eindhoven\\Programming\\Python\\MachineLearning\\MachineLearningModels\\saved_models\\DDPM_Unconditional_64.pth\"))\n",
    "model.eval()"
   ],
   "metadata": {
    "collapsed": false,
    "ExecuteTime": {
     "end_time": "2024-03-14T08:21:37.690310Z",
     "start_time": "2024-03-14T08:21:36.115829Z"
    }
   },
   "id": "4a2597f6947d19b9",
   "execution_count": 4
  },
  {
   "cell_type": "code",
   "outputs": [
    {
     "name": "stderr",
     "output_type": "stream",
     "text": [
      "09:38:35 - INFO: Sampling 1 images\n",
      "999it [00:24, 41.08it/s]\n"
     ]
    }
   ],
   "source": [
    "model.to(\"cuda\")\n",
    "diffusion = DiffusionTools()\n",
    "image = diffusion.sample(model, 1)"
   ],
   "metadata": {
    "collapsed": false,
    "ExecuteTime": {
     "end_time": "2024-03-14T08:38:59.737076Z",
     "start_time": "2024-03-14T08:38:35.403712Z"
    }
   },
   "id": "c1e7defec30982cd",
   "execution_count": 8
  },
  {
   "cell_type": "code",
   "outputs": [],
   "source": [
    "save_images(image, r\"C:\\Users\\20202137\\OneDrive - TU Eindhoven\\Programming\\Python\\MachineLearning\\MachineLearningModels\\DDPM_improved1\\results\\DDPM_Unconditional_64\\result.png\")"
   ],
   "metadata": {
    "collapsed": false,
    "ExecuteTime": {
     "end_time": "2024-03-13T22:35:05.229925Z",
     "start_time": "2024-03-13T22:35:05.219089Z"
    }
   },
   "id": "f221c3e5b50acb44",
   "execution_count": 20
  },
  {
   "cell_type": "code",
   "outputs": [
    {
     "data": {
      "text/plain": "<matplotlib.image.AxesImage at 0x21395e118b0>"
     },
     "execution_count": 9,
     "metadata": {},
     "output_type": "execute_result"
    },
    {
     "data": {
      "text/plain": "<Figure size 640x480 with 1 Axes>",
      "image/png": "[encoded data removed]"
     },
     "metadata": {},
     "output_type": "display_data"
    }
   ],
   "source": [
    "image = transforms.ToPILImage()(image[0])\n",
    "plt.imshow(image)"
   ],
   "metadata": {
    "collapsed": false,
    "ExecuteTime": {
     "end_time": "2024-03-14T08:39:10.509905Z",
     "start_time": "2024-03-14T08:39:10.020092Z"
    }
   },
   "id": "405fdb482087f2d9",
   "execution_count": 9
  },
  {
   "cell_type": "code",
   "outputs": [],
   "source": [
    "image.save(r\"C:\\Users\\20202137\\OneDrive - TU Eindhoven\\Programming\\Python\\MachineLearning\\MachineLearningModels\\DDPM_improved1\\results\\DDPM_Unconditional_64\\result2.png\")"
   ],
   "metadata": {
    "collapsed": false,
    "ExecuteTime": {
     "end_time": "2024-03-14T08:23:33.591555Z",
     "start_time": "2024-03-14T08:23:33.584948Z"
    }
   },
   "id": "a231f574a619c9f1",
   "execution_count": 7
  },
  {
   "cell_type": "code",
   "outputs": [],
   "source": [],
   "metadata": {
    "collapsed": false
   },
   "id": "1bafcf7439fe98ac"
  }
 ],
 "metadata": {
  "kernelspec": {
   "display_name": "Python 3",
   "language": "python",
   "name": "python3"
  },
  "language_info": {
   "codemirror_mode": {
    "name": "ipython",
    "version": 2
   },
   "file_extension": ".py",
   "mimetype": "text/x-python",
   "name": "python",
   "nbconvert_exporter": "python",
   "pygments_lexer": "ipython2",
   "version": "2.7.6"
  }
 },
 "nbformat": 4,
 "nbformat_minor": 5
}
