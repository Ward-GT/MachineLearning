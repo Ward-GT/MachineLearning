{
 "cells": [
  {
   "cell_type": "code",
   "execution_count": 1,
   "id": "initial_id",
   "metadata": {
    "collapsed": true,
    "ExecuteTime": {
     "end_time": "2024-03-15T20:59:16.749042Z",
     "start_time": "2024-03-15T20:59:13.020564Z"
    }
   },
   "outputs": [],
   "source": [
    "from DDPM_tools import train, DiffusionTools\n",
    "from DDPM_model import UNet, SimpleUnet\n",
    "import torch\n",
    "from DDPM_utils import save_images\n",
    "from torchvision import transforms\n",
    "import matplotlib.pyplot as plt\n",
    "from config import *\n",
    "import PIL"
   ]
  },
  {
   "cell_type": "code",
   "outputs": [
    {
     "data": {
      "text/plain": "UNet(\n  (inc): DoubleConv(\n    (double_conv): Sequential(\n      (0): Conv2d(3, 64, kernel_size=(3, 3), stride=(1, 1), padding=(1, 1), bias=False)\n      (1): GroupNorm(1, 64, eps=1e-05, affine=True)\n      (2): GELU(approximate='none')\n      (3): Conv2d(64, 64, kernel_size=(3, 3), stride=(1, 1), padding=(1, 1), bias=False)\n      (4): GroupNorm(1, 64, eps=1e-05, affine=True)\n    )\n  )\n  (down1): Down(\n    (maxpool_conv): Sequential(\n      (0): MaxPool2d(kernel_size=2, stride=2, padding=0, dilation=1, ceil_mode=False)\n      (1): DoubleConv(\n        (double_conv): Sequential(\n          (0): Conv2d(64, 64, kernel_size=(3, 3), stride=(1, 1), padding=(1, 1), bias=False)\n          (1): GroupNorm(1, 64, eps=1e-05, affine=True)\n          (2): GELU(approximate='none')\n          (3): Conv2d(64, 64, kernel_size=(3, 3), stride=(1, 1), padding=(1, 1), bias=False)\n          (4): GroupNorm(1, 64, eps=1e-05, affine=True)\n        )\n      )\n      (2): DoubleConv(\n        (double_conv): Sequential(\n          (0): Conv2d(64, 128, kernel_size=(3, 3), stride=(1, 1), padding=(1, 1), bias=False)\n          (1): GroupNorm(1, 128, eps=1e-05, affine=True)\n          (2): GELU(approximate='none')\n          (3): Conv2d(128, 128, kernel_size=(3, 3), stride=(1, 1), padding=(1, 1), bias=False)\n          (4): GroupNorm(1, 128, eps=1e-05, affine=True)\n        )\n      )\n    )\n    (emb_layer): Sequential(\n      (0): SiLU()\n      (1): Linear(in_features=128, out_features=128, bias=True)\n    )\n  )\n  (sa1): SelfAttention(\n    (mha): MultiheadAttention(\n      (out_proj): NonDynamicallyQuantizableLinear(in_features=128, out_features=128, bias=True)\n    )\n    (ln): LayerNorm((128,), eps=1e-05, elementwise_affine=True)\n    (ff_self): Sequential(\n      (0): LayerNorm((128,), eps=1e-05, elementwise_affine=True)\n      (1): Linear(in_features=128, out_features=128, bias=True)\n      (2): GELU(approximate='none')\n      (3): Linear(in_features=128, out_features=128, bias=True)\n    )\n  )\n  (down2): Down(\n    (maxpool_conv): Sequential(\n      (0): MaxPool2d(kernel_size=2, stride=2, padding=0, dilation=1, ceil_mode=False)\n      (1): DoubleConv(\n        (double_conv): Sequential(\n          (0): Conv2d(128, 128, kernel_size=(3, 3), stride=(1, 1), padding=(1, 1), bias=False)\n          (1): GroupNorm(1, 128, eps=1e-05, affine=True)\n          (2): GELU(approximate='none')\n          (3): Conv2d(128, 128, kernel_size=(3, 3), stride=(1, 1), padding=(1, 1), bias=False)\n          (4): GroupNorm(1, 128, eps=1e-05, affine=True)\n        )\n      )\n      (2): DoubleConv(\n        (double_conv): Sequential(\n          (0): Conv2d(128, 256, kernel_size=(3, 3), stride=(1, 1), padding=(1, 1), bias=False)\n          (1): GroupNorm(1, 256, eps=1e-05, affine=True)\n          (2): GELU(approximate='none')\n          (3): Conv2d(256, 256, kernel_size=(3, 3), stride=(1, 1), padding=(1, 1), bias=False)\n          (4): GroupNorm(1, 256, eps=1e-05, affine=True)\n        )\n      )\n    )\n    (emb_layer): Sequential(\n      (0): SiLU()\n      (1): Linear(in_features=128, out_features=256, bias=True)\n    )\n  )\n  (sa2): SelfAttention(\n    (mha): MultiheadAttention(\n      (out_proj): NonDynamicallyQuantizableLinear(in_features=256, out_features=256, bias=True)\n    )\n    (ln): LayerNorm((256,), eps=1e-05, elementwise_affine=True)\n    (ff_self): Sequential(\n      (0): LayerNorm((256,), eps=1e-05, elementwise_affine=True)\n      (1): Linear(in_features=256, out_features=256, bias=True)\n      (2): GELU(approximate='none')\n      (3): Linear(in_features=256, out_features=256, bias=True)\n    )\n  )\n  (down3): Down(\n    (maxpool_conv): Sequential(\n      (0): MaxPool2d(kernel_size=2, stride=2, padding=0, dilation=1, ceil_mode=False)\n      (1): DoubleConv(\n        (double_conv): Sequential(\n          (0): Conv2d(256, 256, kernel_size=(3, 3), stride=(1, 1), padding=(1, 1), bias=False)\n          (1): GroupNorm(1, 256, eps=1e-05, affine=True)\n          (2): GELU(approximate='none')\n          (3): Conv2d(256, 256, kernel_size=(3, 3), stride=(1, 1), padding=(1, 1), bias=False)\n          (4): GroupNorm(1, 256, eps=1e-05, affine=True)\n        )\n      )\n      (2): DoubleConv(\n        (double_conv): Sequential(\n          (0): Conv2d(256, 256, kernel_size=(3, 3), stride=(1, 1), padding=(1, 1), bias=False)\n          (1): GroupNorm(1, 256, eps=1e-05, affine=True)\n          (2): GELU(approximate='none')\n          (3): Conv2d(256, 256, kernel_size=(3, 3), stride=(1, 1), padding=(1, 1), bias=False)\n          (4): GroupNorm(1, 256, eps=1e-05, affine=True)\n        )\n      )\n    )\n    (emb_layer): Sequential(\n      (0): SiLU()\n      (1): Linear(in_features=128, out_features=256, bias=True)\n    )\n  )\n  (sa3): SelfAttention(\n    (mha): MultiheadAttention(\n      (out_proj): NonDynamicallyQuantizableLinear(in_features=256, out_features=256, bias=True)\n    )\n    (ln): LayerNorm((256,), eps=1e-05, elementwise_affine=True)\n    (ff_self): Sequential(\n      (0): LayerNorm((256,), eps=1e-05, elementwise_affine=True)\n      (1): Linear(in_features=256, out_features=256, bias=True)\n      (2): GELU(approximate='none')\n      (3): Linear(in_features=256, out_features=256, bias=True)\n    )\n  )\n  (bot1): DoubleConv(\n    (double_conv): Sequential(\n      (0): Conv2d(256, 512, kernel_size=(3, 3), stride=(1, 1), padding=(1, 1), bias=False)\n      (1): GroupNorm(1, 512, eps=1e-05, affine=True)\n      (2): GELU(approximate='none')\n      (3): Conv2d(512, 512, kernel_size=(3, 3), stride=(1, 1), padding=(1, 1), bias=False)\n      (4): GroupNorm(1, 512, eps=1e-05, affine=True)\n    )\n  )\n  (bot2): DoubleConv(\n    (double_conv): Sequential(\n      (0): Conv2d(512, 512, kernel_size=(3, 3), stride=(1, 1), padding=(1, 1), bias=False)\n      (1): GroupNorm(1, 512, eps=1e-05, affine=True)\n      (2): GELU(approximate='none')\n      (3): Conv2d(512, 512, kernel_size=(3, 3), stride=(1, 1), padding=(1, 1), bias=False)\n      (4): GroupNorm(1, 512, eps=1e-05, affine=True)\n    )\n  )\n  (bot3): DoubleConv(\n    (double_conv): Sequential(\n      (0): Conv2d(512, 256, kernel_size=(3, 3), stride=(1, 1), padding=(1, 1), bias=False)\n      (1): GroupNorm(1, 256, eps=1e-05, affine=True)\n      (2): GELU(approximate='none')\n      (3): Conv2d(256, 256, kernel_size=(3, 3), stride=(1, 1), padding=(1, 1), bias=False)\n      (4): GroupNorm(1, 256, eps=1e-05, affine=True)\n    )\n  )\n  (up1): Up(\n    (up): Upsample(scale_factor=2.0, mode='bilinear')\n    (conv): Sequential(\n      (0): DoubleConv(\n        (double_conv): Sequential(\n          (0): Conv2d(512, 512, kernel_size=(3, 3), stride=(1, 1), padding=(1, 1), bias=False)\n          (1): GroupNorm(1, 512, eps=1e-05, affine=True)\n          (2): GELU(approximate='none')\n          (3): Conv2d(512, 512, kernel_size=(3, 3), stride=(1, 1), padding=(1, 1), bias=False)\n          (4): GroupNorm(1, 512, eps=1e-05, affine=True)\n        )\n      )\n      (1): DoubleConv(\n        (double_conv): Sequential(\n          (0): Conv2d(512, 256, kernel_size=(3, 3), stride=(1, 1), padding=(1, 1), bias=False)\n          (1): GroupNorm(1, 256, eps=1e-05, affine=True)\n          (2): GELU(approximate='none')\n          (3): Conv2d(256, 128, kernel_size=(3, 3), stride=(1, 1), padding=(1, 1), bias=False)\n          (4): GroupNorm(1, 128, eps=1e-05, affine=True)\n        )\n      )\n    )\n    (emb_layer): Sequential(\n      (0): SiLU()\n      (1): Linear(in_features=128, out_features=128, bias=True)\n    )\n  )\n  (sa4): SelfAttention(\n    (mha): MultiheadAttention(\n      (out_proj): NonDynamicallyQuantizableLinear(in_features=128, out_features=128, bias=True)\n    )\n    (ln): LayerNorm((128,), eps=1e-05, elementwise_affine=True)\n    (ff_self): Sequential(\n      (0): LayerNorm((128,), eps=1e-05, elementwise_affine=True)\n      (1): Linear(in_features=128, out_features=128, bias=True)\n      (2): GELU(approximate='none')\n      (3): Linear(in_features=128, out_features=128, bias=True)\n    )\n  )\n  (up2): Up(\n    (up): Upsample(scale_factor=2.0, mode='bilinear')\n    (conv): Sequential(\n      (0): DoubleConv(\n        (double_conv): Sequential(\n          (0): Conv2d(256, 256, kernel_size=(3, 3), stride=(1, 1), padding=(1, 1), bias=False)\n          (1): GroupNorm(1, 256, eps=1e-05, affine=True)\n          (2): GELU(approximate='none')\n          (3): Conv2d(256, 256, kernel_size=(3, 3), stride=(1, 1), padding=(1, 1), bias=False)\n          (4): GroupNorm(1, 256, eps=1e-05, affine=True)\n        )\n      )\n      (1): DoubleConv(\n        (double_conv): Sequential(\n          (0): Conv2d(256, 128, kernel_size=(3, 3), stride=(1, 1), padding=(1, 1), bias=False)\n          (1): GroupNorm(1, 128, eps=1e-05, affine=True)\n          (2): GELU(approximate='none')\n          (3): Conv2d(128, 64, kernel_size=(3, 3), stride=(1, 1), padding=(1, 1), bias=False)\n          (4): GroupNorm(1, 64, eps=1e-05, affine=True)\n        )\n      )\n    )\n    (emb_layer): Sequential(\n      (0): SiLU()\n      (1): Linear(in_features=128, out_features=64, bias=True)\n    )\n  )\n  (sa5): SelfAttention(\n    (mha): MultiheadAttention(\n      (out_proj): NonDynamicallyQuantizableLinear(in_features=64, out_features=64, bias=True)\n    )\n    (ln): LayerNorm((64,), eps=1e-05, elementwise_affine=True)\n    (ff_self): Sequential(\n      (0): LayerNorm((64,), eps=1e-05, elementwise_affine=True)\n      (1): Linear(in_features=64, out_features=64, bias=True)\n      (2): GELU(approximate='none')\n      (3): Linear(in_features=64, out_features=64, bias=True)\n    )\n  )\n  (up3): Up(\n    (up): Upsample(scale_factor=2.0, mode='bilinear')\n    (conv): Sequential(\n      (0): DoubleConv(\n        (double_conv): Sequential(\n          (0): Conv2d(128, 128, kernel_size=(3, 3), stride=(1, 1), padding=(1, 1), bias=False)\n          (1): GroupNorm(1, 128, eps=1e-05, affine=True)\n          (2): GELU(approximate='none')\n          (3): Conv2d(128, 128, kernel_size=(3, 3), stride=(1, 1), padding=(1, 1), bias=False)\n          (4): GroupNorm(1, 128, eps=1e-05, affine=True)\n        )\n      )\n      (1): DoubleConv(\n        (double_conv): Sequential(\n          (0): Conv2d(128, 64, kernel_size=(3, 3), stride=(1, 1), padding=(1, 1), bias=False)\n          (1): GroupNorm(1, 64, eps=1e-05, affine=True)\n          (2): GELU(approximate='none')\n          (3): Conv2d(64, 64, kernel_size=(3, 3), stride=(1, 1), padding=(1, 1), bias=False)\n          (4): GroupNorm(1, 64, eps=1e-05, affine=True)\n        )\n      )\n    )\n    (emb_layer): Sequential(\n      (0): SiLU()\n      (1): Linear(in_features=128, out_features=64, bias=True)\n    )\n  )\n  (sa6): SelfAttention(\n    (mha): MultiheadAttention(\n      (out_proj): NonDynamicallyQuantizableLinear(in_features=64, out_features=64, bias=True)\n    )\n    (ln): LayerNorm((64,), eps=1e-05, elementwise_affine=True)\n    (ff_self): Sequential(\n      (0): LayerNorm((64,), eps=1e-05, elementwise_affine=True)\n      (1): Linear(in_features=64, out_features=64, bias=True)\n      (2): GELU(approximate='none')\n      (3): Linear(in_features=64, out_features=64, bias=True)\n    )\n  )\n  (outc): Conv2d(64, 3, kernel_size=(1, 1), stride=(1, 1))\n)"
     },
     "execution_count": 2,
     "metadata": {},
     "output_type": "execute_result"
    }
   ],
   "source": [
    "model = UNet()\n",
    "model.load_state_dict(torch.load(r\"C:\\Users\\20202137\\OneDrive - TU Eindhoven\\Programming\\Python\\MachineLearning\\MachineLearningModels\\DDPM_improved1\\models\\DDPM_Unconditional_128.pth\"))\n",
    "model.eval()"
   ],
   "metadata": {
    "collapsed": false,
    "ExecuteTime": {
     "end_time": "2024-03-15T20:59:17.086987Z",
     "start_time": "2024-03-15T20:59:16.750170Z"
    }
   },
   "id": "4a2597f6947d19b9",
   "execution_count": 2
  },
  {
   "cell_type": "code",
   "outputs": [
    {
     "name": "stderr",
     "output_type": "stream",
     "text": [
      "09:59:17 - INFO: Sampling 1 images\n",
      "1it [00:00,  1.97it/s]"
     ]
    },
    {
     "name": "stdout",
     "output_type": "stream",
     "text": [
      "Down: x.shape: torch.Size([1, 128, 32, 32]), emb.shape: torch.Size([1, 128, 32, 32])\n",
      "Down: x.shape: torch.Size([1, 256, 16, 16]), emb.shape: torch.Size([1, 256, 16, 16])\n",
      "Down: x.shape: torch.Size([1, 256, 8, 8]), emb.shape: torch.Size([1, 256, 8, 8])\n",
      "Down: x.shape: torch.Size([1, 128, 16, 16]), emb.shape: torch.Size([1, 128, 16, 16])\n",
      "Down: x.shape: torch.Size([1, 64, 32, 32]), emb.shape: torch.Size([1, 64, 32, 32])\n",
      "Down: x.shape: torch.Size([1, 64, 64, 64]), emb.shape: torch.Size([1, 64, 64, 64])\n",
      "Down: x.shape: torch.Size([1, 128, 32, 32]), emb.shape: torch.Size([1, 128, 32, 32])\n",
      "Down: x.shape: torch.Size([1, 256, 16, 16]), emb.shape: torch.Size([1, 256, 16, 16])\n",
      "Down: x.shape: torch.Size([1, 256, 8, 8]), emb.shape: torch.Size([1, 256, 8, 8])\n",
      "Down: x.shape: torch.Size([1, 128, 16, 16]), emb.shape: torch.Size([1, 128, 16, 16])\n",
      "Down: x.shape: torch.Size([1, 64, 32, 32]), emb.shape: torch.Size([1, 64, 32, 32])\n",
      "Down: x.shape: torch.Size([1, 64, 64, 64]), emb.shape: torch.Size([1, 64, 64, 64])\n"
     ]
    },
    {
     "name": "stderr",
     "output_type": "stream",
     "text": [
      "7it [00:00, 12.07it/s]"
     ]
    },
    {
     "name": "stdout",
     "output_type": "stream",
     "text": [
      "Down: x.shape: torch.Size([1, 128, 32, 32]), emb.shape: torch.Size([1, 128, 32, 32])\n",
      "Down: x.shape: torch.Size([1, 256, 16, 16]), emb.shape: torch.Size([1, 256, 16, 16])\n",
      "Down: x.shape: torch.Size([1, 256, 8, 8]), emb.shape: torch.Size([1, 256, 8, 8])\n",
      "Down: x.shape: torch.Size([1, 128, 16, 16]), emb.shape: torch.Size([1, 128, 16, 16])\n",
      "Down: x.shape: torch.Size([1, 64, 32, 32]), emb.shape: torch.Size([1, 64, 32, 32])\n",
      "Down: x.shape: torch.Size([1, 64, 64, 64]), emb.shape: torch.Size([1, 64, 64, 64])\n",
      "Down: x.shape: torch.Size([1, 128, 32, 32]), emb.shape: torch.Size([1, 128, 32, 32])\n",
      "Down: x.shape: torch.Size([1, 256, 16, 16]), emb.shape: torch.Size([1, 256, 16, 16])\n",
      "Down: x.shape: torch.Size([1, 256, 8, 8]), emb.shape: torch.Size([1, 256, 8, 8])\n",
      "Down: x.shape: torch.Size([1, 128, 16, 16]), emb.shape: torch.Size([1, 128, 16, 16])\n",
      "Down: x.shape: torch.Size([1, 64, 32, 32]), emb.shape: torch.Size([1, 64, 32, 32])\n",
      "Down: x.shape: torch.Size([1, 64, 64, 64]), emb.shape: torch.Size([1, 64, 64, 64])\n",
      "Down: x.shape: torch.Size([1, 128, 32, 32]), emb.shape: torch.Size([1, 128, 32, 32])\n",
      "Down: x.shape: torch.Size([1, 256, 16, 16]), emb.shape: torch.Size([1, 256, 16, 16])\n",
      "Down: x.shape: torch.Size([1, 256, 8, 8]), emb.shape: torch.Size([1, 256, 8, 8])\n",
      "Down: x.shape: torch.Size([1, 128, 16, 16]), emb.shape: torch.Size([1, 128, 16, 16])\n",
      "Down: x.shape: torch.Size([1, 64, 32, 32]), emb.shape: torch.Size([1, 64, 32, 32])\n",
      "Down: x.shape: torch.Size([1, 64, 64, 64]), emb.shape: torch.Size([1, 64, 64, 64])\n",
      "Down: x.shape: torch.Size([1, 128, 32, 32]), emb.shape: torch.Size([1, 128, 32, 32])\n",
      "Down: x.shape: torch.Size([1, 256, 16, 16]), emb.shape: torch.Size([1, 256, 16, 16])\n",
      "Down: x.shape: torch.Size([1, 256, 8, 8]), emb.shape: torch.Size([1, 256, 8, 8])\n",
      "Down: x.shape: torch.Size([1, 128, 16, 16]), emb.shape: torch.Size([1, 128, 16, 16])\n",
      "Down: x.shape: torch.Size([1, 64, 32, 32]), emb.shape: torch.Size([1, 64, 32, 32])\n",
      "Down: x.shape: torch.Size([1, 64, 64, 64]), emb.shape: torch.Size([1, 64, 64, 64])\n",
      "Down: x.shape: torch.Size([1, 128, 32, 32]), emb.shape: torch.Size([1, 128, 32, 32])\n",
      "Down: x.shape: torch.Size([1, 256, 16, 16]), emb.shape: torch.Size([1, 256, 16, 16])\n",
      "Down: x.shape: torch.Size([1, 256, 8, 8]), emb.shape: torch.Size([1, 256, 8, 8])\n",
      "Down: x.shape: torch.Size([1, 128, 16, 16]), emb.shape: torch.Size([1, 128, 16, 16])\n",
      "Down: x.shape: torch.Size([1, 64, 32, 32]), emb.shape: torch.Size([1, 64, 32, 32])\n",
      "Down: x.shape: torch.Size([1, 64, 64, 64]), emb.shape: torch.Size([1, 64, 64, 64])\n"
     ]
    },
    {
     "name": "stderr",
     "output_type": "stream",
     "text": [
      "10it [00:00, 14.83it/s]"
     ]
    },
    {
     "name": "stdout",
     "output_type": "stream",
     "text": [
      "Down: x.shape: torch.Size([1, 128, 32, 32]), emb.shape: torch.Size([1, 128, 32, 32])\n",
      "Down: x.shape: torch.Size([1, 256, 16, 16]), emb.shape: torch.Size([1, 256, 16, 16])\n",
      "Down: x.shape: torch.Size([1, 256, 8, 8]), emb.shape: torch.Size([1, 256, 8, 8])\n",
      "Down: x.shape: torch.Size([1, 128, 16, 16]), emb.shape: torch.Size([1, 128, 16, 16])\n",
      "Down: x.shape: torch.Size([1, 64, 32, 32]), emb.shape: torch.Size([1, 64, 32, 32])\n",
      "Down: x.shape: torch.Size([1, 64, 64, 64]), emb.shape: torch.Size([1, 64, 64, 64])\n",
      "Down: x.shape: torch.Size([1, 128, 32, 32]), emb.shape: torch.Size([1, 128, 32, 32])\n",
      "Down: x.shape: torch.Size([1, 256, 16, 16]), emb.shape: torch.Size([1, 256, 16, 16])\n",
      "Down: x.shape: torch.Size([1, 256, 8, 8]), emb.shape: torch.Size([1, 256, 8, 8])\n",
      "Down: x.shape: torch.Size([1, 128, 16, 16]), emb.shape: torch.Size([1, 128, 16, 16])\n",
      "Down: x.shape: torch.Size([1, 64, 32, 32]), emb.shape: torch.Size([1, 64, 32, 32])\n",
      "Down: x.shape: torch.Size([1, 64, 64, 64]), emb.shape: torch.Size([1, 64, 64, 64])\n",
      "Down: x.shape: torch.Size([1, 128, 32, 32]), emb.shape: torch.Size([1, 128, 32, 32])\n",
      "Down: x.shape: torch.Size([1, 256, 16, 16]), emb.shape: torch.Size([1, 256, 16, 16])\n",
      "Down: x.shape: torch.Size([1, 256, 8, 8]), emb.shape: torch.Size([1, 256, 8, 8])\n",
      "Down: x.shape: torch.Size([1, 128, 16, 16]), emb.shape: torch.Size([1, 128, 16, 16])\n",
      "Down: x.shape: torch.Size([1, 64, 32, 32]), emb.shape: torch.Size([1, 64, 32, 32])\n",
      "Down: x.shape: torch.Size([1, 64, 64, 64]), emb.shape: torch.Size([1, 64, 64, 64])\n",
      "Down: x.shape: torch.Size([1, 128, 32, 32]), emb.shape: torch.Size([1, 128, 32, 32])\n",
      "Down: x.shape: torch.Size([1, 256, 16, 16]), emb.shape: torch.Size([1, 256, 16, 16])\n",
      "Down: x.shape: torch.Size([1, 256, 8, 8]), emb.shape: torch.Size([1, 256, 8, 8])\n",
      "Down: x.shape: torch.Size([1, 128, 16, 16]), emb.shape: torch.Size([1, 128, 16, 16])\n",
      "Down: x.shape: torch.Size([1, 64, 32, 32]), emb.shape: torch.Size([1, 64, 32, 32])\n",
      "Down: x.shape: torch.Size([1, 64, 64, 64]), emb.shape: torch.Size([1, 64, 64, 64])\n",
      "Down: x.shape: torch.Size([1, 128, 32, 32]), emb.shape: torch.Size([1, 128, 32, 32])\n",
      "Down: x.shape: torch.Size([1, 256, 16, 16]), emb.shape: torch.Size([1, 256, 16, 16])\n",
      "Down: x.shape: torch.Size([1, 256, 8, 8]), emb.shape: torch.Size([1, 256, 8, 8])\n",
      "Down: x.shape: torch.Size([1, 128, 16, 16]), emb.shape: torch.Size([1, 128, 16, 16])\n",
      "Down: x.shape: torch.Size([1, 64, 32, 32]), emb.shape: torch.Size([1, 64, 32, 32])\n",
      "Down: x.shape: torch.Size([1, 64, 64, 64]), emb.shape: torch.Size([1, 64, 64, 64])\n"
     ]
    },
    {
     "name": "stderr",
     "output_type": "stream",
     "text": [
      "16it [00:01, 18.62it/s]"
     ]
    },
    {
     "name": "stdout",
     "output_type": "stream",
     "text": [
      "Down: x.shape: torch.Size([1, 128, 32, 32]), emb.shape: torch.Size([1, 128, 32, 32])\n",
      "Down: x.shape: torch.Size([1, 256, 16, 16]), emb.shape: torch.Size([1, 256, 16, 16])\n",
      "Down: x.shape: torch.Size([1, 256, 8, 8]), emb.shape: torch.Size([1, 256, 8, 8])\n",
      "Down: x.shape: torch.Size([1, 128, 16, 16]), emb.shape: torch.Size([1, 128, 16, 16])\n",
      "Down: x.shape: torch.Size([1, 64, 32, 32]), emb.shape: torch.Size([1, 64, 32, 32])\n",
      "Down: x.shape: torch.Size([1, 64, 64, 64]), emb.shape: torch.Size([1, 64, 64, 64])\n",
      "Down: x.shape: torch.Size([1, 128, 32, 32]), emb.shape: torch.Size([1, 128, 32, 32])\n",
      "Down: x.shape: torch.Size([1, 256, 16, 16]), emb.shape: torch.Size([1, 256, 16, 16])\n",
      "Down: x.shape: torch.Size([1, 256, 8, 8]), emb.shape: torch.Size([1, 256, 8, 8])\n",
      "Down: x.shape: torch.Size([1, 128, 16, 16]), emb.shape: torch.Size([1, 128, 16, 16])\n",
      "Down: x.shape: torch.Size([1, 64, 32, 32]), emb.shape: torch.Size([1, 64, 32, 32])\n",
      "Down: x.shape: torch.Size([1, 64, 64, 64]), emb.shape: torch.Size([1, 64, 64, 64])\n",
      "Down: x.shape: torch.Size([1, 128, 32, 32]), emb.shape: torch.Size([1, 128, 32, 32])\n",
      "Down: x.shape: torch.Size([1, 256, 16, 16]), emb.shape: torch.Size([1, 256, 16, 16])\n",
      "Down: x.shape: torch.Size([1, 256, 8, 8]), emb.shape: torch.Size([1, 256, 8, 8])\n",
      "Down: x.shape: torch.Size([1, 128, 16, 16]), emb.shape: torch.Size([1, 128, 16, 16])\n",
      "Down: x.shape: torch.Size([1, 64, 32, 32]), emb.shape: torch.Size([1, 64, 32, 32])\n",
      "Down: x.shape: torch.Size([1, 64, 64, 64]), emb.shape: torch.Size([1, 64, 64, 64])\n",
      "Down: x.shape: torch.Size([1, 128, 32, 32]), emb.shape: torch.Size([1, 128, 32, 32])\n",
      "Down: x.shape: torch.Size([1, 256, 16, 16]), emb.shape: torch.Size([1, 256, 16, 16])\n",
      "Down: x.shape: torch.Size([1, 256, 8, 8]), emb.shape: torch.Size([1, 256, 8, 8])\n",
      "Down: x.shape: torch.Size([1, 128, 16, 16]), emb.shape: torch.Size([1, 128, 16, 16])\n",
      "Down: x.shape: torch.Size([1, 64, 32, 32]), emb.shape: torch.Size([1, 64, 32, 32])\n",
      "Down: x.shape: torch.Size([1, 64, 64, 64]), emb.shape: torch.Size([1, 64, 64, 64])\n",
      "Down: x.shape: torch.Size([1, 128, 32, 32]), emb.shape: torch.Size([1, 128, 32, 32])\n",
      "Down: x.shape: torch.Size([1, 256, 16, 16]), emb.shape: torch.Size([1, 256, 16, 16])\n",
      "Down: x.shape: torch.Size([1, 256, 8, 8]), emb.shape: torch.Size([1, 256, 8, 8])\n",
      "Down: x.shape: torch.Size([1, 128, 16, 16]), emb.shape: torch.Size([1, 128, 16, 16])\n",
      "Down: x.shape: torch.Size([1, 64, 32, 32]), emb.shape: torch.Size([1, 64, 32, 32])\n",
      "Down: x.shape: torch.Size([1, 64, 64, 64]), emb.shape: torch.Size([1, 64, 64, 64])\n"
     ]
    },
    {
     "name": "stderr",
     "output_type": "stream",
     "text": [
      "22it [00:01, 20.35it/s]"
     ]
    },
    {
     "name": "stdout",
     "output_type": "stream",
     "text": [
      "Down: x.shape: torch.Size([1, 128, 32, 32]), emb.shape: torch.Size([1, 128, 32, 32])\n",
      "Down: x.shape: torch.Size([1, 256, 16, 16]), emb.shape: torch.Size([1, 256, 16, 16])\n",
      "Down: x.shape: torch.Size([1, 256, 8, 8]), emb.shape: torch.Size([1, 256, 8, 8])\n",
      "Down: x.shape: torch.Size([1, 128, 16, 16]), emb.shape: torch.Size([1, 128, 16, 16])\n",
      "Down: x.shape: torch.Size([1, 64, 32, 32]), emb.shape: torch.Size([1, 64, 32, 32])\n",
      "Down: x.shape: torch.Size([1, 64, 64, 64]), emb.shape: torch.Size([1, 64, 64, 64])\n",
      "Down: x.shape: torch.Size([1, 128, 32, 32]), emb.shape: torch.Size([1, 128, 32, 32])\n",
      "Down: x.shape: torch.Size([1, 256, 16, 16]), emb.shape: torch.Size([1, 256, 16, 16])\n",
      "Down: x.shape: torch.Size([1, 256, 8, 8]), emb.shape: torch.Size([1, 256, 8, 8])\n",
      "Down: x.shape: torch.Size([1, 128, 16, 16]), emb.shape: torch.Size([1, 128, 16, 16])\n",
      "Down: x.shape: torch.Size([1, 64, 32, 32]), emb.shape: torch.Size([1, 64, 32, 32])\n",
      "Down: x.shape: torch.Size([1, 64, 64, 64]), emb.shape: torch.Size([1, 64, 64, 64])\n",
      "Down: x.shape: torch.Size([1, 128, 32, 32]), emb.shape: torch.Size([1, 128, 32, 32])\n",
      "Down: x.shape: torch.Size([1, 256, 16, 16]), emb.shape: torch.Size([1, 256, 16, 16])\n",
      "Down: x.shape: torch.Size([1, 256, 8, 8]), emb.shape: torch.Size([1, 256, 8, 8])\n",
      "Down: x.shape: torch.Size([1, 128, 16, 16]), emb.shape: torch.Size([1, 128, 16, 16])\n",
      "Down: x.shape: torch.Size([1, 64, 32, 32]), emb.shape: torch.Size([1, 64, 32, 32])\n",
      "Down: x.shape: torch.Size([1, 64, 64, 64]), emb.shape: torch.Size([1, 64, 64, 64])\n",
      "Down: x.shape: torch.Size([1, 128, 32, 32]), emb.shape: torch.Size([1, 128, 32, 32])\n",
      "Down: x.shape: torch.Size([1, 256, 16, 16]), emb.shape: torch.Size([1, 256, 16, 16])\n",
      "Down: x.shape: torch.Size([1, 256, 8, 8]), emb.shape: torch.Size([1, 256, 8, 8])\n",
      "Down: x.shape: torch.Size([1, 128, 16, 16]), emb.shape: torch.Size([1, 128, 16, 16])\n",
      "Down: x.shape: torch.Size([1, 64, 32, 32]), emb.shape: torch.Size([1, 64, 32, 32])\n",
      "Down: x.shape: torch.Size([1, 64, 64, 64]), emb.shape: torch.Size([1, 64, 64, 64])\n",
      "Down: x.shape: torch.Size([1, 128, 32, 32]), emb.shape: torch.Size([1, 128, 32, 32])\n",
      "Down: x.shape: torch.Size([1, 256, 16, 16]), emb.shape: torch.Size([1, 256, 16, 16])\n",
      "Down: x.shape: torch.Size([1, 256, 8, 8]), emb.shape: torch.Size([1, 256, 8, 8])\n",
      "Down: x.shape: torch.Size([1, 128, 16, 16]), emb.shape: torch.Size([1, 128, 16, 16])\n",
      "Down: x.shape: torch.Size([1, 64, 32, 32]), emb.shape: torch.Size([1, 64, 32, 32])\n",
      "Down: x.shape: torch.Size([1, 64, 64, 64]), emb.shape: torch.Size([1, 64, 64, 64])\n"
     ]
    },
    {
     "name": "stderr",
     "output_type": "stream",
     "text": [
      "25it [00:01, 20.98it/s]"
     ]
    },
    {
     "name": "stdout",
     "output_type": "stream",
     "text": [
      "Down: x.shape: torch.Size([1, 128, 32, 32]), emb.shape: torch.Size([1, 128, 32, 32])\n",
      "Down: x.shape: torch.Size([1, 256, 16, 16]), emb.shape: torch.Size([1, 256, 16, 16])\n",
      "Down: x.shape: torch.Size([1, 256, 8, 8]), emb.shape: torch.Size([1, 256, 8, 8])\n",
      "Down: x.shape: torch.Size([1, 128, 16, 16]), emb.shape: torch.Size([1, 128, 16, 16])\n",
      "Down: x.shape: torch.Size([1, 64, 32, 32]), emb.shape: torch.Size([1, 64, 32, 32])\n",
      "Down: x.shape: torch.Size([1, 64, 64, 64]), emb.shape: torch.Size([1, 64, 64, 64])\n",
      "Down: x.shape: torch.Size([1, 128, 32, 32]), emb.shape: torch.Size([1, 128, 32, 32])\n",
      "Down: x.shape: torch.Size([1, 256, 16, 16]), emb.shape: torch.Size([1, 256, 16, 16])\n",
      "Down: x.shape: torch.Size([1, 256, 8, 8]), emb.shape: torch.Size([1, 256, 8, 8])\n",
      "Down: x.shape: torch.Size([1, 128, 16, 16]), emb.shape: torch.Size([1, 128, 16, 16])\n",
      "Down: x.shape: torch.Size([1, 64, 32, 32]), emb.shape: torch.Size([1, 64, 32, 32])\n",
      "Down: x.shape: torch.Size([1, 64, 64, 64]), emb.shape: torch.Size([1, 64, 64, 64])\n",
      "Down: x.shape: torch.Size([1, 128, 32, 32]), emb.shape: torch.Size([1, 128, 32, 32])\n",
      "Down: x.shape: torch.Size([1, 256, 16, 16]), emb.shape: torch.Size([1, 256, 16, 16])\n",
      "Down: x.shape: torch.Size([1, 256, 8, 8]), emb.shape: torch.Size([1, 256, 8, 8])\n",
      "Down: x.shape: torch.Size([1, 128, 16, 16]), emb.shape: torch.Size([1, 128, 16, 16])\n",
      "Down: x.shape: torch.Size([1, 64, 32, 32]), emb.shape: torch.Size([1, 64, 32, 32])\n",
      "Down: x.shape: torch.Size([1, 64, 64, 64]), emb.shape: torch.Size([1, 64, 64, 64])\n",
      "Down: x.shape: torch.Size([1, 128, 32, 32]), emb.shape: torch.Size([1, 128, 32, 32])\n",
      "Down: x.shape: torch.Size([1, 256, 16, 16]), emb.shape: torch.Size([1, 256, 16, 16])\n",
      "Down: x.shape: torch.Size([1, 256, 8, 8]), emb.shape: torch.Size([1, 256, 8, 8])\n",
      "Down: x.shape: torch.Size([1, 128, 16, 16]), emb.shape: torch.Size([1, 128, 16, 16])\n",
      "Down: x.shape: torch.Size([1, 64, 32, 32]), emb.shape: torch.Size([1, 64, 32, 32])\n",
      "Down: x.shape: torch.Size([1, 64, 64, 64]), emb.shape: torch.Size([1, 64, 64, 64])\n"
     ]
    },
    {
     "name": "stderr",
     "output_type": "stream",
     "text": [
      "31it [00:01, 21.50it/s]"
     ]
    },
    {
     "name": "stdout",
     "output_type": "stream",
     "text": [
      "Down: x.shape: torch.Size([1, 128, 32, 32]), emb.shape: torch.Size([1, 128, 32, 32])\n",
      "Down: x.shape: torch.Size([1, 256, 16, 16]), emb.shape: torch.Size([1, 256, 16, 16])\n",
      "Down: x.shape: torch.Size([1, 256, 8, 8]), emb.shape: torch.Size([1, 256, 8, 8])\n",
      "Down: x.shape: torch.Size([1, 128, 16, 16]), emb.shape: torch.Size([1, 128, 16, 16])\n",
      "Down: x.shape: torch.Size([1, 64, 32, 32]), emb.shape: torch.Size([1, 64, 32, 32])\n",
      "Down: x.shape: torch.Size([1, 64, 64, 64]), emb.shape: torch.Size([1, 64, 64, 64])\n",
      "Down: x.shape: torch.Size([1, 128, 32, 32]), emb.shape: torch.Size([1, 128, 32, 32])\n",
      "Down: x.shape: torch.Size([1, 256, 16, 16]), emb.shape: torch.Size([1, 256, 16, 16])\n",
      "Down: x.shape: torch.Size([1, 256, 8, 8]), emb.shape: torch.Size([1, 256, 8, 8])\n",
      "Down: x.shape: torch.Size([1, 128, 16, 16]), emb.shape: torch.Size([1, 128, 16, 16])\n",
      "Down: x.shape: torch.Size([1, 64, 32, 32]), emb.shape: torch.Size([1, 64, 32, 32])\n",
      "Down: x.shape: torch.Size([1, 64, 64, 64]), emb.shape: torch.Size([1, 64, 64, 64])\n",
      "Down: x.shape: torch.Size([1, 128, 32, 32]), emb.shape: torch.Size([1, 128, 32, 32])\n",
      "Down: x.shape: torch.Size([1, 256, 16, 16]), emb.shape: torch.Size([1, 256, 16, 16])\n",
      "Down: x.shape: torch.Size([1, 256, 8, 8]), emb.shape: torch.Size([1, 256, 8, 8])\n",
      "Down: x.shape: torch.Size([1, 128, 16, 16]), emb.shape: torch.Size([1, 128, 16, 16])\n",
      "Down: x.shape: torch.Size([1, 64, 32, 32]), emb.shape: torch.Size([1, 64, 32, 32])\n",
      "Down: x.shape: torch.Size([1, 64, 64, 64]), emb.shape: torch.Size([1, 64, 64, 64])\n",
      "Down: x.shape: torch.Size([1, 128, 32, 32]), emb.shape: torch.Size([1, 128, 32, 32])\n",
      "Down: x.shape: torch.Size([1, 256, 16, 16]), emb.shape: torch.Size([1, 256, 16, 16])\n",
      "Down: x.shape: torch.Size([1, 256, 8, 8]), emb.shape: torch.Size([1, 256, 8, 8])\n",
      "Down: x.shape: torch.Size([1, 128, 16, 16]), emb.shape: torch.Size([1, 128, 16, 16])\n",
      "Down: x.shape: torch.Size([1, 64, 32, 32]), emb.shape: torch.Size([1, 64, 32, 32])\n",
      "Down: x.shape: torch.Size([1, 64, 64, 64]), emb.shape: torch.Size([1, 64, 64, 64])\n",
      "Down: x.shape: torch.Size([1, 128, 32, 32]), emb.shape: torch.Size([1, 128, 32, 32])\n",
      "Down: x.shape: torch.Size([1, 256, 16, 16]), emb.shape: torch.Size([1, 256, 16, 16])\n",
      "Down: x.shape: torch.Size([1, 256, 8, 8]), emb.shape: torch.Size([1, 256, 8, 8])\n",
      "Down: x.shape: torch.Size([1, 128, 16, 16]), emb.shape: torch.Size([1, 128, 16, 16])\n",
      "Down: x.shape: torch.Size([1, 64, 32, 32]), emb.shape: torch.Size([1, 64, 32, 32])\n",
      "Down: x.shape: torch.Size([1, 64, 64, 64]), emb.shape: torch.Size([1, 64, 64, 64])\n"
     ]
    },
    {
     "name": "stderr",
     "output_type": "stream",
     "text": [
      "34it [00:01, 21.60it/s]"
     ]
    },
    {
     "name": "stdout",
     "output_type": "stream",
     "text": [
      "Down: x.shape: torch.Size([1, 128, 32, 32]), emb.shape: torch.Size([1, 128, 32, 32])\n",
      "Down: x.shape: torch.Size([1, 256, 16, 16]), emb.shape: torch.Size([1, 256, 16, 16])\n",
      "Down: x.shape: torch.Size([1, 256, 8, 8]), emb.shape: torch.Size([1, 256, 8, 8])\n",
      "Down: x.shape: torch.Size([1, 128, 16, 16]), emb.shape: torch.Size([1, 128, 16, 16])\n",
      "Down: x.shape: torch.Size([1, 64, 32, 32]), emb.shape: torch.Size([1, 64, 32, 32])\n",
      "Down: x.shape: torch.Size([1, 64, 64, 64]), emb.shape: torch.Size([1, 64, 64, 64])\n",
      "Down: x.shape: torch.Size([1, 128, 32, 32]), emb.shape: torch.Size([1, 128, 32, 32])\n",
      "Down: x.shape: torch.Size([1, 256, 16, 16]), emb.shape: torch.Size([1, 256, 16, 16])\n",
      "Down: x.shape: torch.Size([1, 256, 8, 8]), emb.shape: torch.Size([1, 256, 8, 8])\n",
      "Down: x.shape: torch.Size([1, 128, 16, 16]), emb.shape: torch.Size([1, 128, 16, 16])\n",
      "Down: x.shape: torch.Size([1, 64, 32, 32]), emb.shape: torch.Size([1, 64, 32, 32])\n",
      "Down: x.shape: torch.Size([1, 64, 64, 64]), emb.shape: torch.Size([1, 64, 64, 64])\n",
      "Down: x.shape: torch.Size([1, 128, 32, 32]), emb.shape: torch.Size([1, 128, 32, 32])\n",
      "Down: x.shape: torch.Size([1, 256, 16, 16]), emb.shape: torch.Size([1, 256, 16, 16])\n",
      "Down: x.shape: torch.Size([1, 256, 8, 8]), emb.shape: torch.Size([1, 256, 8, 8])\n",
      "Down: x.shape: torch.Size([1, 128, 16, 16]), emb.shape: torch.Size([1, 128, 16, 16])\n",
      "Down: x.shape: torch.Size([1, 64, 32, 32]), emb.shape: torch.Size([1, 64, 32, 32])\n",
      "Down: x.shape: torch.Size([1, 64, 64, 64]), emb.shape: torch.Size([1, 64, 64, 64])\n",
      "Down: x.shape: torch.Size([1, 128, 32, 32]), emb.shape: torch.Size([1, 128, 32, 32])\n",
      "Down: x.shape: torch.Size([1, 256, 16, 16]), emb.shape: torch.Size([1, 256, 16, 16])\n",
      "Down: x.shape: torch.Size([1, 256, 8, 8]), emb.shape: torch.Size([1, 256, 8, 8])\n",
      "Down: x.shape: torch.Size([1, 128, 16, 16]), emb.shape: torch.Size([1, 128, 16, 16])\n",
      "Down: x.shape: torch.Size([1, 64, 32, 32]), emb.shape: torch.Size([1, 64, 32, 32])\n",
      "Down: x.shape: torch.Size([1, 64, 64, 64]), emb.shape: torch.Size([1, 64, 64, 64])\n",
      "Down: x.shape: torch.Size([1, 128, 32, 32]), emb.shape: torch.Size([1, 128, 32, 32])\n",
      "Down: x.shape: torch.Size([1, 256, 16, 16]), emb.shape: torch.Size([1, 256, 16, 16])\n",
      "Down: x.shape: torch.Size([1, 256, 8, 8]), emb.shape: torch.Size([1, 256, 8, 8])\n",
      "Down: x.shape: torch.Size([1, 128, 16, 16]), emb.shape: torch.Size([1, 128, 16, 16])\n",
      "Down: x.shape: torch.Size([1, 64, 32, 32]), emb.shape: torch.Size([1, 64, 32, 32])\n",
      "Down: x.shape: torch.Size([1, 64, 64, 64]), emb.shape: torch.Size([1, 64, 64, 64])\n"
     ]
    },
    {
     "name": "stderr",
     "output_type": "stream",
     "text": [
      "40it [00:02, 21.58it/s]"
     ]
    },
    {
     "name": "stdout",
     "output_type": "stream",
     "text": [
      "Down: x.shape: torch.Size([1, 128, 32, 32]), emb.shape: torch.Size([1, 128, 32, 32])\n",
      "Down: x.shape: torch.Size([1, 256, 16, 16]), emb.shape: torch.Size([1, 256, 16, 16])\n",
      "Down: x.shape: torch.Size([1, 256, 8, 8]), emb.shape: torch.Size([1, 256, 8, 8])\n",
      "Down: x.shape: torch.Size([1, 128, 16, 16]), emb.shape: torch.Size([1, 128, 16, 16])\n",
      "Down: x.shape: torch.Size([1, 64, 32, 32]), emb.shape: torch.Size([1, 64, 32, 32])\n",
      "Down: x.shape: torch.Size([1, 64, 64, 64]), emb.shape: torch.Size([1, 64, 64, 64])\n",
      "Down: x.shape: torch.Size([1, 128, 32, 32]), emb.shape: torch.Size([1, 128, 32, 32])\n",
      "Down: x.shape: torch.Size([1, 256, 16, 16]), emb.shape: torch.Size([1, 256, 16, 16])\n",
      "Down: x.shape: torch.Size([1, 256, 8, 8]), emb.shape: torch.Size([1, 256, 8, 8])\n",
      "Down: x.shape: torch.Size([1, 128, 16, 16]), emb.shape: torch.Size([1, 128, 16, 16])\n",
      "Down: x.shape: torch.Size([1, 64, 32, 32]), emb.shape: torch.Size([1, 64, 32, 32])\n",
      "Down: x.shape: torch.Size([1, 64, 64, 64]), emb.shape: torch.Size([1, 64, 64, 64])\n",
      "Down: x.shape: torch.Size([1, 128, 32, 32]), emb.shape: torch.Size([1, 128, 32, 32])\n",
      "Down: x.shape: torch.Size([1, 256, 16, 16]), emb.shape: torch.Size([1, 256, 16, 16])\n",
      "Down: x.shape: torch.Size([1, 256, 8, 8]), emb.shape: torch.Size([1, 256, 8, 8])\n",
      "Down: x.shape: torch.Size([1, 128, 16, 16]), emb.shape: torch.Size([1, 128, 16, 16])\n",
      "Down: x.shape: torch.Size([1, 64, 32, 32]), emb.shape: torch.Size([1, 64, 32, 32])\n",
      "Down: x.shape: torch.Size([1, 64, 64, 64]), emb.shape: torch.Size([1, 64, 64, 64])\n",
      "Down: x.shape: torch.Size([1, 128, 32, 32]), emb.shape: torch.Size([1, 128, 32, 32])\n",
      "Down: x.shape: torch.Size([1, 256, 16, 16]), emb.shape: torch.Size([1, 256, 16, 16])\n",
      "Down: x.shape: torch.Size([1, 256, 8, 8]), emb.shape: torch.Size([1, 256, 8, 8])\n",
      "Down: x.shape: torch.Size([1, 128, 16, 16]), emb.shape: torch.Size([1, 128, 16, 16])\n",
      "Down: x.shape: torch.Size([1, 64, 32, 32]), emb.shape: torch.Size([1, 64, 32, 32])\n",
      "Down: x.shape: torch.Size([1, 64, 64, 64]), emb.shape: torch.Size([1, 64, 64, 64])\n",
      "Down: x.shape: torch.Size([1, 128, 32, 32]), emb.shape: torch.Size([1, 128, 32, 32])\n",
      "Down: x.shape: torch.Size([1, 256, 16, 16]), emb.shape: torch.Size([1, 256, 16, 16])\n",
      "Down: x.shape: torch.Size([1, 256, 8, 8]), emb.shape: torch.Size([1, 256, 8, 8])\n",
      "Down: x.shape: torch.Size([1, 128, 16, 16]), emb.shape: torch.Size([1, 128, 16, 16])\n",
      "Down: x.shape: torch.Size([1, 64, 32, 32]), emb.shape: torch.Size([1, 64, 32, 32])\n",
      "Down: x.shape: torch.Size([1, 64, 64, 64]), emb.shape: torch.Size([1, 64, 64, 64])\n"
     ]
    },
    {
     "name": "stderr",
     "output_type": "stream",
     "text": [
      "46it [00:02, 21.98it/s]"
     ]
    },
    {
     "name": "stdout",
     "output_type": "stream",
     "text": [
      "Down: x.shape: torch.Size([1, 128, 32, 32]), emb.shape: torch.Size([1, 128, 32, 32])\n",
      "Down: x.shape: torch.Size([1, 256, 16, 16]), emb.shape: torch.Size([1, 256, 16, 16])\n",
      "Down: x.shape: torch.Size([1, 256, 8, 8]), emb.shape: torch.Size([1, 256, 8, 8])\n",
      "Down: x.shape: torch.Size([1, 128, 16, 16]), emb.shape: torch.Size([1, 128, 16, 16])\n",
      "Down: x.shape: torch.Size([1, 64, 32, 32]), emb.shape: torch.Size([1, 64, 32, 32])\n",
      "Down: x.shape: torch.Size([1, 64, 64, 64]), emb.shape: torch.Size([1, 64, 64, 64])\n",
      "Down: x.shape: torch.Size([1, 128, 32, 32]), emb.shape: torch.Size([1, 128, 32, 32])\n",
      "Down: x.shape: torch.Size([1, 256, 16, 16]), emb.shape: torch.Size([1, 256, 16, 16])\n",
      "Down: x.shape: torch.Size([1, 256, 8, 8]), emb.shape: torch.Size([1, 256, 8, 8])\n",
      "Down: x.shape: torch.Size([1, 128, 16, 16]), emb.shape: torch.Size([1, 128, 16, 16])\n",
      "Down: x.shape: torch.Size([1, 64, 32, 32]), emb.shape: torch.Size([1, 64, 32, 32])\n",
      "Down: x.shape: torch.Size([1, 64, 64, 64]), emb.shape: torch.Size([1, 64, 64, 64])\n",
      "Down: x.shape: torch.Size([1, 128, 32, 32]), emb.shape: torch.Size([1, 128, 32, 32])\n",
      "Down: x.shape: torch.Size([1, 256, 16, 16]), emb.shape: torch.Size([1, 256, 16, 16])\n",
      "Down: x.shape: torch.Size([1, 256, 8, 8]), emb.shape: torch.Size([1, 256, 8, 8])\n",
      "Down: x.shape: torch.Size([1, 128, 16, 16]), emb.shape: torch.Size([1, 128, 16, 16])\n",
      "Down: x.shape: torch.Size([1, 64, 32, 32]), emb.shape: torch.Size([1, 64, 32, 32])\n",
      "Down: x.shape: torch.Size([1, 64, 64, 64]), emb.shape: torch.Size([1, 64, 64, 64])\n",
      "Down: x.shape: torch.Size([1, 128, 32, 32]), emb.shape: torch.Size([1, 128, 32, 32])\n",
      "Down: x.shape: torch.Size([1, 256, 16, 16]), emb.shape: torch.Size([1, 256, 16, 16])\n",
      "Down: x.shape: torch.Size([1, 256, 8, 8]), emb.shape: torch.Size([1, 256, 8, 8])\n",
      "Down: x.shape: torch.Size([1, 128, 16, 16]), emb.shape: torch.Size([1, 128, 16, 16])\n",
      "Down: x.shape: torch.Size([1, 64, 32, 32]), emb.shape: torch.Size([1, 64, 32, 32])\n",
      "Down: x.shape: torch.Size([1, 64, 64, 64]), emb.shape: torch.Size([1, 64, 64, 64])\n",
      "Down: x.shape: torch.Size([1, 128, 32, 32]), emb.shape: torch.Size([1, 128, 32, 32])\n",
      "Down: x.shape: torch.Size([1, 256, 16, 16]), emb.shape: torch.Size([1, 256, 16, 16])\n",
      "Down: x.shape: torch.Size([1, 256, 8, 8]), emb.shape: torch.Size([1, 256, 8, 8])\n",
      "Down: x.shape: torch.Size([1, 128, 16, 16]), emb.shape: torch.Size([1, 128, 16, 16])\n",
      "Down: x.shape: torch.Size([1, 64, 32, 32]), emb.shape: torch.Size([1, 64, 32, 32])\n",
      "Down: x.shape: torch.Size([1, 64, 64, 64]), emb.shape: torch.Size([1, 64, 64, 64])\n"
     ]
    },
    {
     "name": "stderr",
     "output_type": "stream",
     "text": [
      "49it [00:02, 22.07it/s]"
     ]
    },
    {
     "name": "stdout",
     "output_type": "stream",
     "text": [
      "Down: x.shape: torch.Size([1, 128, 32, 32]), emb.shape: torch.Size([1, 128, 32, 32])\n",
      "Down: x.shape: torch.Size([1, 256, 16, 16]), emb.shape: torch.Size([1, 256, 16, 16])\n",
      "Down: x.shape: torch.Size([1, 256, 8, 8]), emb.shape: torch.Size([1, 256, 8, 8])\n",
      "Down: x.shape: torch.Size([1, 128, 16, 16]), emb.shape: torch.Size([1, 128, 16, 16])\n",
      "Down: x.shape: torch.Size([1, 64, 32, 32]), emb.shape: torch.Size([1, 64, 32, 32])\n",
      "Down: x.shape: torch.Size([1, 64, 64, 64]), emb.shape: torch.Size([1, 64, 64, 64])\n",
      "Down: x.shape: torch.Size([1, 128, 32, 32]), emb.shape: torch.Size([1, 128, 32, 32])\n",
      "Down: x.shape: torch.Size([1, 256, 16, 16]), emb.shape: torch.Size([1, 256, 16, 16])\n",
      "Down: x.shape: torch.Size([1, 256, 8, 8]), emb.shape: torch.Size([1, 256, 8, 8])\n",
      "Down: x.shape: torch.Size([1, 128, 16, 16]), emb.shape: torch.Size([1, 128, 16, 16])\n",
      "Down: x.shape: torch.Size([1, 64, 32, 32]), emb.shape: torch.Size([1, 64, 32, 32])\n",
      "Down: x.shape: torch.Size([1, 64, 64, 64]), emb.shape: torch.Size([1, 64, 64, 64])\n",
      "Down: x.shape: torch.Size([1, 128, 32, 32]), emb.shape: torch.Size([1, 128, 32, 32])\n",
      "Down: x.shape: torch.Size([1, 256, 16, 16]), emb.shape: torch.Size([1, 256, 16, 16])\n",
      "Down: x.shape: torch.Size([1, 256, 8, 8]), emb.shape: torch.Size([1, 256, 8, 8])\n",
      "Down: x.shape: torch.Size([1, 128, 16, 16]), emb.shape: torch.Size([1, 128, 16, 16])\n",
      "Down: x.shape: torch.Size([1, 64, 32, 32]), emb.shape: torch.Size([1, 64, 32, 32])\n",
      "Down: x.shape: torch.Size([1, 64, 64, 64]), emb.shape: torch.Size([1, 64, 64, 64])\n",
      "Down: x.shape: torch.Size([1, 128, 32, 32]), emb.shape: torch.Size([1, 128, 32, 32])\n",
      "Down: x.shape: torch.Size([1, 256, 16, 16]), emb.shape: torch.Size([1, 256, 16, 16])\n",
      "Down: x.shape: torch.Size([1, 256, 8, 8]), emb.shape: torch.Size([1, 256, 8, 8])\n",
      "Down: x.shape: torch.Size([1, 128, 16, 16]), emb.shape: torch.Size([1, 128, 16, 16])\n",
      "Down: x.shape: torch.Size([1, 64, 32, 32]), emb.shape: torch.Size([1, 64, 32, 32])\n",
      "Down: x.shape: torch.Size([1, 64, 64, 64]), emb.shape: torch.Size([1, 64, 64, 64])\n",
      "Down: x.shape: torch.Size([1, 128, 32, 32]), emb.shape: torch.Size([1, 128, 32, 32])\n",
      "Down: x.shape: torch.Size([1, 256, 16, 16]), emb.shape: torch.Size([1, 256, 16, 16])\n",
      "Down: x.shape: torch.Size([1, 256, 8, 8]), emb.shape: torch.Size([1, 256, 8, 8])\n",
      "Down: x.shape: torch.Size([1, 128, 16, 16]), emb.shape: torch.Size([1, 128, 16, 16])\n",
      "Down: x.shape: torch.Size([1, 64, 32, 32]), emb.shape: torch.Size([1, 64, 32, 32])\n",
      "Down: x.shape: torch.Size([1, 64, 64, 64]), emb.shape: torch.Size([1, 64, 64, 64])\n"
     ]
    },
    {
     "name": "stderr",
     "output_type": "stream",
     "text": [
      "55it [00:02, 21.91it/s]"
     ]
    },
    {
     "name": "stdout",
     "output_type": "stream",
     "text": [
      "Down: x.shape: torch.Size([1, 128, 32, 32]), emb.shape: torch.Size([1, 128, 32, 32])\n",
      "Down: x.shape: torch.Size([1, 256, 16, 16]), emb.shape: torch.Size([1, 256, 16, 16])\n",
      "Down: x.shape: torch.Size([1, 256, 8, 8]), emb.shape: torch.Size([1, 256, 8, 8])\n",
      "Down: x.shape: torch.Size([1, 128, 16, 16]), emb.shape: torch.Size([1, 128, 16, 16])\n",
      "Down: x.shape: torch.Size([1, 64, 32, 32]), emb.shape: torch.Size([1, 64, 32, 32])\n",
      "Down: x.shape: torch.Size([1, 64, 64, 64]), emb.shape: torch.Size([1, 64, 64, 64])\n",
      "Down: x.shape: torch.Size([1, 128, 32, 32]), emb.shape: torch.Size([1, 128, 32, 32])\n",
      "Down: x.shape: torch.Size([1, 256, 16, 16]), emb.shape: torch.Size([1, 256, 16, 16])\n",
      "Down: x.shape: torch.Size([1, 256, 8, 8]), emb.shape: torch.Size([1, 256, 8, 8])\n",
      "Down: x.shape: torch.Size([1, 128, 16, 16]), emb.shape: torch.Size([1, 128, 16, 16])\n",
      "Down: x.shape: torch.Size([1, 64, 32, 32]), emb.shape: torch.Size([1, 64, 32, 32])\n",
      "Down: x.shape: torch.Size([1, 64, 64, 64]), emb.shape: torch.Size([1, 64, 64, 64])\n",
      "Down: x.shape: torch.Size([1, 128, 32, 32]), emb.shape: torch.Size([1, 128, 32, 32])\n",
      "Down: x.shape: torch.Size([1, 256, 16, 16]), emb.shape: torch.Size([1, 256, 16, 16])\n",
      "Down: x.shape: torch.Size([1, 256, 8, 8]), emb.shape: torch.Size([1, 256, 8, 8])\n",
      "Down: x.shape: torch.Size([1, 128, 16, 16]), emb.shape: torch.Size([1, 128, 16, 16])\n",
      "Down: x.shape: torch.Size([1, 64, 32, 32]), emb.shape: torch.Size([1, 64, 32, 32])\n",
      "Down: x.shape: torch.Size([1, 64, 64, 64]), emb.shape: torch.Size([1, 64, 64, 64])\n",
      "Down: x.shape: torch.Size([1, 128, 32, 32]), emb.shape: torch.Size([1, 128, 32, 32])\n",
      "Down: x.shape: torch.Size([1, 256, 16, 16]), emb.shape: torch.Size([1, 256, 16, 16])\n",
      "Down: x.shape: torch.Size([1, 256, 8, 8]), emb.shape: torch.Size([1, 256, 8, 8])\n",
      "Down: x.shape: torch.Size([1, 128, 16, 16]), emb.shape: torch.Size([1, 128, 16, 16])\n",
      "Down: x.shape: torch.Size([1, 64, 32, 32]), emb.shape: torch.Size([1, 64, 32, 32])\n",
      "Down: x.shape: torch.Size([1, 64, 64, 64]), emb.shape: torch.Size([1, 64, 64, 64])\n",
      "Down: x.shape: torch.Size([1, 128, 32, 32]), emb.shape: torch.Size([1, 128, 32, 32])\n",
      "Down: x.shape: torch.Size([1, 256, 16, 16]), emb.shape: torch.Size([1, 256, 16, 16])\n",
      "Down: x.shape: torch.Size([1, 256, 8, 8]), emb.shape: torch.Size([1, 256, 8, 8])\n",
      "Down: x.shape: torch.Size([1, 128, 16, 16]), emb.shape: torch.Size([1, 128, 16, 16])\n",
      "Down: x.shape: torch.Size([1, 64, 32, 32]), emb.shape: torch.Size([1, 64, 32, 32])\n",
      "Down: x.shape: torch.Size([1, 64, 64, 64]), emb.shape: torch.Size([1, 64, 64, 64])\n"
     ]
    },
    {
     "name": "stderr",
     "output_type": "stream",
     "text": [
      "61it [00:03, 21.99it/s]"
     ]
    },
    {
     "name": "stdout",
     "output_type": "stream",
     "text": [
      "Down: x.shape: torch.Size([1, 128, 32, 32]), emb.shape: torch.Size([1, 128, 32, 32])\n",
      "Down: x.shape: torch.Size([1, 256, 16, 16]), emb.shape: torch.Size([1, 256, 16, 16])\n",
      "Down: x.shape: torch.Size([1, 256, 8, 8]), emb.shape: torch.Size([1, 256, 8, 8])\n",
      "Down: x.shape: torch.Size([1, 128, 16, 16]), emb.shape: torch.Size([1, 128, 16, 16])\n",
      "Down: x.shape: torch.Size([1, 64, 32, 32]), emb.shape: torch.Size([1, 64, 32, 32])\n",
      "Down: x.shape: torch.Size([1, 64, 64, 64]), emb.shape: torch.Size([1, 64, 64, 64])\n",
      "Down: x.shape: torch.Size([1, 128, 32, 32]), emb.shape: torch.Size([1, 128, 32, 32])\n",
      "Down: x.shape: torch.Size([1, 256, 16, 16]), emb.shape: torch.Size([1, 256, 16, 16])\n",
      "Down: x.shape: torch.Size([1, 256, 8, 8]), emb.shape: torch.Size([1, 256, 8, 8])\n",
      "Down: x.shape: torch.Size([1, 128, 16, 16]), emb.shape: torch.Size([1, 128, 16, 16])\n",
      "Down: x.shape: torch.Size([1, 64, 32, 32]), emb.shape: torch.Size([1, 64, 32, 32])\n",
      "Down: x.shape: torch.Size([1, 64, 64, 64]), emb.shape: torch.Size([1, 64, 64, 64])\n",
      "Down: x.shape: torch.Size([1, 128, 32, 32]), emb.shape: torch.Size([1, 128, 32, 32])\n",
      "Down: x.shape: torch.Size([1, 256, 16, 16]), emb.shape: torch.Size([1, 256, 16, 16])\n",
      "Down: x.shape: torch.Size([1, 256, 8, 8]), emb.shape: torch.Size([1, 256, 8, 8])\n",
      "Down: x.shape: torch.Size([1, 128, 16, 16]), emb.shape: torch.Size([1, 128, 16, 16])\n",
      "Down: x.shape: torch.Size([1, 64, 32, 32]), emb.shape: torch.Size([1, 64, 32, 32])\n",
      "Down: x.shape: torch.Size([1, 64, 64, 64]), emb.shape: torch.Size([1, 64, 64, 64])\n",
      "Down: x.shape: torch.Size([1, 128, 32, 32]), emb.shape: torch.Size([1, 128, 32, 32])\n",
      "Down: x.shape: torch.Size([1, 256, 16, 16]), emb.shape: torch.Size([1, 256, 16, 16])\n",
      "Down: x.shape: torch.Size([1, 256, 8, 8]), emb.shape: torch.Size([1, 256, 8, 8])\n",
      "Down: x.shape: torch.Size([1, 128, 16, 16]), emb.shape: torch.Size([1, 128, 16, 16])\n",
      "Down: x.shape: torch.Size([1, 64, 32, 32]), emb.shape: torch.Size([1, 64, 32, 32])\n",
      "Down: x.shape: torch.Size([1, 64, 64, 64]), emb.shape: torch.Size([1, 64, 64, 64])\n",
      "Down: x.shape: torch.Size([1, 128, 32, 32]), emb.shape: torch.Size([1, 128, 32, 32])\n",
      "Down: x.shape: torch.Size([1, 256, 16, 16]), emb.shape: torch.Size([1, 256, 16, 16])\n",
      "Down: x.shape: torch.Size([1, 256, 8, 8]), emb.shape: torch.Size([1, 256, 8, 8])\n",
      "Down: x.shape: torch.Size([1, 128, 16, 16]), emb.shape: torch.Size([1, 128, 16, 16])\n",
      "Down: x.shape: torch.Size([1, 64, 32, 32]), emb.shape: torch.Size([1, 64, 32, 32])\n",
      "Down: x.shape: torch.Size([1, 64, 64, 64]), emb.shape: torch.Size([1, 64, 64, 64])\n"
     ]
    },
    {
     "name": "stderr",
     "output_type": "stream",
     "text": [
      "64it [00:03, 22.13it/s]"
     ]
    },
    {
     "name": "stdout",
     "output_type": "stream",
     "text": [
      "Down: x.shape: torch.Size([1, 128, 32, 32]), emb.shape: torch.Size([1, 128, 32, 32])\n",
      "Down: x.shape: torch.Size([1, 256, 16, 16]), emb.shape: torch.Size([1, 256, 16, 16])\n",
      "Down: x.shape: torch.Size([1, 256, 8, 8]), emb.shape: torch.Size([1, 256, 8, 8])\n",
      "Down: x.shape: torch.Size([1, 128, 16, 16]), emb.shape: torch.Size([1, 128, 16, 16])\n",
      "Down: x.shape: torch.Size([1, 64, 32, 32]), emb.shape: torch.Size([1, 64, 32, 32])\n",
      "Down: x.shape: torch.Size([1, 64, 64, 64]), emb.shape: torch.Size([1, 64, 64, 64])\n",
      "Down: x.shape: torch.Size([1, 128, 32, 32]), emb.shape: torch.Size([1, 128, 32, 32])\n",
      "Down: x.shape: torch.Size([1, 256, 16, 16]), emb.shape: torch.Size([1, 256, 16, 16])\n",
      "Down: x.shape: torch.Size([1, 256, 8, 8]), emb.shape: torch.Size([1, 256, 8, 8])\n",
      "Down: x.shape: torch.Size([1, 128, 16, 16]), emb.shape: torch.Size([1, 128, 16, 16])\n",
      "Down: x.shape: torch.Size([1, 64, 32, 32]), emb.shape: torch.Size([1, 64, 32, 32])\n",
      "Down: x.shape: torch.Size([1, 64, 64, 64]), emb.shape: torch.Size([1, 64, 64, 64])\n",
      "Down: x.shape: torch.Size([1, 128, 32, 32]), emb.shape: torch.Size([1, 128, 32, 32])\n",
      "Down: x.shape: torch.Size([1, 256, 16, 16]), emb.shape: torch.Size([1, 256, 16, 16])\n",
      "Down: x.shape: torch.Size([1, 256, 8, 8]), emb.shape: torch.Size([1, 256, 8, 8])\n",
      "Down: x.shape: torch.Size([1, 128, 16, 16]), emb.shape: torch.Size([1, 128, 16, 16])\n",
      "Down: x.shape: torch.Size([1, 64, 32, 32]), emb.shape: torch.Size([1, 64, 32, 32])\n",
      "Down: x.shape: torch.Size([1, 64, 64, 64]), emb.shape: torch.Size([1, 64, 64, 64])\n",
      "Down: x.shape: torch.Size([1, 128, 32, 32]), emb.shape: torch.Size([1, 128, 32, 32])\n",
      "Down: x.shape: torch.Size([1, 256, 16, 16]), emb.shape: torch.Size([1, 256, 16, 16])\n",
      "Down: x.shape: torch.Size([1, 256, 8, 8]), emb.shape: torch.Size([1, 256, 8, 8])\n",
      "Down: x.shape: torch.Size([1, 128, 16, 16]), emb.shape: torch.Size([1, 128, 16, 16])\n",
      "Down: x.shape: torch.Size([1, 64, 32, 32]), emb.shape: torch.Size([1, 64, 32, 32])\n",
      "Down: x.shape: torch.Size([1, 64, 64, 64]), emb.shape: torch.Size([1, 64, 64, 64])\n",
      "Down: x.shape: torch.Size([1, 128, 32, 32]), emb.shape: torch.Size([1, 128, 32, 32])\n",
      "Down: x.shape: torch.Size([1, 256, 16, 16]), emb.shape: torch.Size([1, 256, 16, 16])\n",
      "Down: x.shape: torch.Size([1, 256, 8, 8]), emb.shape: torch.Size([1, 256, 8, 8])\n",
      "Down: x.shape: torch.Size([1, 128, 16, 16]), emb.shape: torch.Size([1, 128, 16, 16])\n",
      "Down: x.shape: torch.Size([1, 64, 32, 32]), emb.shape: torch.Size([1, 64, 32, 32])\n",
      "Down: x.shape: torch.Size([1, 64, 64, 64]), emb.shape: torch.Size([1, 64, 64, 64])\n"
     ]
    },
    {
     "name": "stderr",
     "output_type": "stream",
     "text": [
      "70it [00:03, 21.95it/s]"
     ]
    },
    {
     "name": "stdout",
     "output_type": "stream",
     "text": [
      "Down: x.shape: torch.Size([1, 128, 32, 32]), emb.shape: torch.Size([1, 128, 32, 32])\n",
      "Down: x.shape: torch.Size([1, 256, 16, 16]), emb.shape: torch.Size([1, 256, 16, 16])\n",
      "Down: x.shape: torch.Size([1, 256, 8, 8]), emb.shape: torch.Size([1, 256, 8, 8])\n",
      "Down: x.shape: torch.Size([1, 128, 16, 16]), emb.shape: torch.Size([1, 128, 16, 16])\n",
      "Down: x.shape: torch.Size([1, 64, 32, 32]), emb.shape: torch.Size([1, 64, 32, 32])\n",
      "Down: x.shape: torch.Size([1, 64, 64, 64]), emb.shape: torch.Size([1, 64, 64, 64])\n",
      "Down: x.shape: torch.Size([1, 128, 32, 32]), emb.shape: torch.Size([1, 128, 32, 32])\n",
      "Down: x.shape: torch.Size([1, 256, 16, 16]), emb.shape: torch.Size([1, 256, 16, 16])\n",
      "Down: x.shape: torch.Size([1, 256, 8, 8]), emb.shape: torch.Size([1, 256, 8, 8])\n",
      "Down: x.shape: torch.Size([1, 128, 16, 16]), emb.shape: torch.Size([1, 128, 16, 16])\n",
      "Down: x.shape: torch.Size([1, 64, 32, 32]), emb.shape: torch.Size([1, 64, 32, 32])\n",
      "Down: x.shape: torch.Size([1, 64, 64, 64]), emb.shape: torch.Size([1, 64, 64, 64])\n",
      "Down: x.shape: torch.Size([1, 128, 32, 32]), emb.shape: torch.Size([1, 128, 32, 32])\n",
      "Down: x.shape: torch.Size([1, 256, 16, 16]), emb.shape: torch.Size([1, 256, 16, 16])\n",
      "Down: x.shape: torch.Size([1, 256, 8, 8]), emb.shape: torch.Size([1, 256, 8, 8])\n",
      "Down: x.shape: torch.Size([1, 128, 16, 16]), emb.shape: torch.Size([1, 128, 16, 16])\n",
      "Down: x.shape: torch.Size([1, 64, 32, 32]), emb.shape: torch.Size([1, 64, 32, 32])\n",
      "Down: x.shape: torch.Size([1, 64, 64, 64]), emb.shape: torch.Size([1, 64, 64, 64])\n",
      "Down: x.shape: torch.Size([1, 128, 32, 32]), emb.shape: torch.Size([1, 128, 32, 32])\n",
      "Down: x.shape: torch.Size([1, 256, 16, 16]), emb.shape: torch.Size([1, 256, 16, 16])\n",
      "Down: x.shape: torch.Size([1, 256, 8, 8]), emb.shape: torch.Size([1, 256, 8, 8])\n",
      "Down: x.shape: torch.Size([1, 128, 16, 16]), emb.shape: torch.Size([1, 128, 16, 16])\n",
      "Down: x.shape: torch.Size([1, 64, 32, 32]), emb.shape: torch.Size([1, 64, 32, 32])\n",
      "Down: x.shape: torch.Size([1, 64, 64, 64]), emb.shape: torch.Size([1, 64, 64, 64])\n",
      "Down: x.shape: torch.Size([1, 128, 32, 32]), emb.shape: torch.Size([1, 128, 32, 32])\n",
      "Down: x.shape: torch.Size([1, 256, 16, 16]), emb.shape: torch.Size([1, 256, 16, 16])\n",
      "Down: x.shape: torch.Size([1, 256, 8, 8]), emb.shape: torch.Size([1, 256, 8, 8])\n",
      "Down: x.shape: torch.Size([1, 128, 16, 16]), emb.shape: torch.Size([1, 128, 16, 16])\n",
      "Down: x.shape: torch.Size([1, 64, 32, 32]), emb.shape: torch.Size([1, 64, 32, 32])\n",
      "Down: x.shape: torch.Size([1, 64, 64, 64]), emb.shape: torch.Size([1, 64, 64, 64])\n"
     ]
    },
    {
     "name": "stderr",
     "output_type": "stream",
     "text": [
      "73it [00:03, 21.75it/s]"
     ]
    },
    {
     "name": "stdout",
     "output_type": "stream",
     "text": [
      "Down: x.shape: torch.Size([1, 128, 32, 32]), emb.shape: torch.Size([1, 128, 32, 32])\n",
      "Down: x.shape: torch.Size([1, 256, 16, 16]), emb.shape: torch.Size([1, 256, 16, 16])\n",
      "Down: x.shape: torch.Size([1, 256, 8, 8]), emb.shape: torch.Size([1, 256, 8, 8])\n",
      "Down: x.shape: torch.Size([1, 128, 16, 16]), emb.shape: torch.Size([1, 128, 16, 16])\n",
      "Down: x.shape: torch.Size([1, 64, 32, 32]), emb.shape: torch.Size([1, 64, 32, 32])\n",
      "Down: x.shape: torch.Size([1, 64, 64, 64]), emb.shape: torch.Size([1, 64, 64, 64])\n",
      "Down: x.shape: torch.Size([1, 128, 32, 32]), emb.shape: torch.Size([1, 128, 32, 32])\n",
      "Down: x.shape: torch.Size([1, 256, 16, 16]), emb.shape: torch.Size([1, 256, 16, 16])\n",
      "Down: x.shape: torch.Size([1, 256, 8, 8]), emb.shape: torch.Size([1, 256, 8, 8])\n",
      "Down: x.shape: torch.Size([1, 128, 16, 16]), emb.shape: torch.Size([1, 128, 16, 16])\n",
      "Down: x.shape: torch.Size([1, 64, 32, 32]), emb.shape: torch.Size([1, 64, 32, 32])\n",
      "Down: x.shape: torch.Size([1, 64, 64, 64]), emb.shape: torch.Size([1, 64, 64, 64])\n",
      "Down: x.shape: torch.Size([1, 128, 32, 32]), emb.shape: torch.Size([1, 128, 32, 32])\n",
      "Down: x.shape: torch.Size([1, 256, 16, 16]), emb.shape: torch.Size([1, 256, 16, 16])\n",
      "Down: x.shape: torch.Size([1, 256, 8, 8]), emb.shape: torch.Size([1, 256, 8, 8])\n",
      "Down: x.shape: torch.Size([1, 128, 16, 16]), emb.shape: torch.Size([1, 128, 16, 16])\n",
      "Down: x.shape: torch.Size([1, 64, 32, 32]), emb.shape: torch.Size([1, 64, 32, 32])\n",
      "Down: x.shape: torch.Size([1, 64, 64, 64]), emb.shape: torch.Size([1, 64, 64, 64])\n",
      "Down: x.shape: torch.Size([1, 128, 32, 32]), emb.shape: torch.Size([1, 128, 32, 32])\n",
      "Down: x.shape: torch.Size([1, 256, 16, 16]), emb.shape: torch.Size([1, 256, 16, 16])\n",
      "Down: x.shape: torch.Size([1, 256, 8, 8]), emb.shape: torch.Size([1, 256, 8, 8])\n",
      "Down: x.shape: torch.Size([1, 128, 16, 16]), emb.shape: torch.Size([1, 128, 16, 16])\n",
      "Down: x.shape: torch.Size([1, 64, 32, 32]), emb.shape: torch.Size([1, 64, 32, 32])\n",
      "Down: x.shape: torch.Size([1, 64, 64, 64]), emb.shape: torch.Size([1, 64, 64, 64])\n",
      "Down: x.shape: torch.Size([1, 128, 32, 32]), emb.shape: torch.Size([1, 128, 32, 32])\n",
      "Down: x.shape: torch.Size([1, 256, 16, 16]), emb.shape: torch.Size([1, 256, 16, 16])\n",
      "Down: x.shape: torch.Size([1, 256, 8, 8]), emb.shape: torch.Size([1, 256, 8, 8])\n",
      "Down: x.shape: torch.Size([1, 128, 16, 16]), emb.shape: torch.Size([1, 128, 16, 16])\n",
      "Down: x.shape: torch.Size([1, 64, 32, 32]), emb.shape: torch.Size([1, 64, 32, 32])\n",
      "Down: x.shape: torch.Size([1, 64, 64, 64]), emb.shape: torch.Size([1, 64, 64, 64])\n"
     ]
    },
    {
     "name": "stderr",
     "output_type": "stream",
     "text": [
      "79it [00:04, 21.91it/s]"
     ]
    },
    {
     "name": "stdout",
     "output_type": "stream",
     "text": [
      "Down: x.shape: torch.Size([1, 128, 32, 32]), emb.shape: torch.Size([1, 128, 32, 32])\n",
      "Down: x.shape: torch.Size([1, 256, 16, 16]), emb.shape: torch.Size([1, 256, 16, 16])\n",
      "Down: x.shape: torch.Size([1, 256, 8, 8]), emb.shape: torch.Size([1, 256, 8, 8])\n",
      "Down: x.shape: torch.Size([1, 128, 16, 16]), emb.shape: torch.Size([1, 128, 16, 16])\n",
      "Down: x.shape: torch.Size([1, 64, 32, 32]), emb.shape: torch.Size([1, 64, 32, 32])\n",
      "Down: x.shape: torch.Size([1, 64, 64, 64]), emb.shape: torch.Size([1, 64, 64, 64])\n",
      "Down: x.shape: torch.Size([1, 128, 32, 32]), emb.shape: torch.Size([1, 128, 32, 32])\n",
      "Down: x.shape: torch.Size([1, 256, 16, 16]), emb.shape: torch.Size([1, 256, 16, 16])\n",
      "Down: x.shape: torch.Size([1, 256, 8, 8]), emb.shape: torch.Size([1, 256, 8, 8])\n",
      "Down: x.shape: torch.Size([1, 128, 16, 16]), emb.shape: torch.Size([1, 128, 16, 16])\n",
      "Down: x.shape: torch.Size([1, 64, 32, 32]), emb.shape: torch.Size([1, 64, 32, 32])\n",
      "Down: x.shape: torch.Size([1, 64, 64, 64]), emb.shape: torch.Size([1, 64, 64, 64])\n",
      "Down: x.shape: torch.Size([1, 128, 32, 32]), emb.shape: torch.Size([1, 128, 32, 32])\n",
      "Down: x.shape: torch.Size([1, 256, 16, 16]), emb.shape: torch.Size([1, 256, 16, 16])\n",
      "Down: x.shape: torch.Size([1, 256, 8, 8]), emb.shape: torch.Size([1, 256, 8, 8])\n",
      "Down: x.shape: torch.Size([1, 128, 16, 16]), emb.shape: torch.Size([1, 128, 16, 16])\n",
      "Down: x.shape: torch.Size([1, 64, 32, 32]), emb.shape: torch.Size([1, 64, 32, 32])\n",
      "Down: x.shape: torch.Size([1, 64, 64, 64]), emb.shape: torch.Size([1, 64, 64, 64])\n",
      "Down: x.shape: torch.Size([1, 128, 32, 32]), emb.shape: torch.Size([1, 128, 32, 32])\n",
      "Down: x.shape: torch.Size([1, 256, 16, 16]), emb.shape: torch.Size([1, 256, 16, 16])\n",
      "Down: x.shape: torch.Size([1, 256, 8, 8]), emb.shape: torch.Size([1, 256, 8, 8])\n",
      "Down: x.shape: torch.Size([1, 128, 16, 16]), emb.shape: torch.Size([1, 128, 16, 16])\n",
      "Down: x.shape: torch.Size([1, 64, 32, 32]), emb.shape: torch.Size([1, 64, 32, 32])\n",
      "Down: x.shape: torch.Size([1, 64, 64, 64]), emb.shape: torch.Size([1, 64, 64, 64])\n",
      "Down: x.shape: torch.Size([1, 128, 32, 32]), emb.shape: torch.Size([1, 128, 32, 32])\n",
      "Down: x.shape: torch.Size([1, 256, 16, 16]), emb.shape: torch.Size([1, 256, 16, 16])\n",
      "Down: x.shape: torch.Size([1, 256, 8, 8]), emb.shape: torch.Size([1, 256, 8, 8])\n",
      "Down: x.shape: torch.Size([1, 128, 16, 16]), emb.shape: torch.Size([1, 128, 16, 16])\n",
      "Down: x.shape: torch.Size([1, 64, 32, 32]), emb.shape: torch.Size([1, 64, 32, 32])\n",
      "Down: x.shape: torch.Size([1, 64, 64, 64]), emb.shape: torch.Size([1, 64, 64, 64])\n"
     ]
    },
    {
     "name": "stderr",
     "output_type": "stream",
     "text": [
      "85it [00:04, 21.91it/s]"
     ]
    },
    {
     "name": "stdout",
     "output_type": "stream",
     "text": [
      "Down: x.shape: torch.Size([1, 128, 32, 32]), emb.shape: torch.Size([1, 128, 32, 32])\n",
      "Down: x.shape: torch.Size([1, 256, 16, 16]), emb.shape: torch.Size([1, 256, 16, 16])\n",
      "Down: x.shape: torch.Size([1, 256, 8, 8]), emb.shape: torch.Size([1, 256, 8, 8])\n",
      "Down: x.shape: torch.Size([1, 128, 16, 16]), emb.shape: torch.Size([1, 128, 16, 16])\n",
      "Down: x.shape: torch.Size([1, 64, 32, 32]), emb.shape: torch.Size([1, 64, 32, 32])\n",
      "Down: x.shape: torch.Size([1, 64, 64, 64]), emb.shape: torch.Size([1, 64, 64, 64])\n",
      "Down: x.shape: torch.Size([1, 128, 32, 32]), emb.shape: torch.Size([1, 128, 32, 32])\n",
      "Down: x.shape: torch.Size([1, 256, 16, 16]), emb.shape: torch.Size([1, 256, 16, 16])\n",
      "Down: x.shape: torch.Size([1, 256, 8, 8]), emb.shape: torch.Size([1, 256, 8, 8])\n",
      "Down: x.shape: torch.Size([1, 128, 16, 16]), emb.shape: torch.Size([1, 128, 16, 16])\n",
      "Down: x.shape: torch.Size([1, 64, 32, 32]), emb.shape: torch.Size([1, 64, 32, 32])\n",
      "Down: x.shape: torch.Size([1, 64, 64, 64]), emb.shape: torch.Size([1, 64, 64, 64])\n",
      "Down: x.shape: torch.Size([1, 128, 32, 32]), emb.shape: torch.Size([1, 128, 32, 32])\n",
      "Down: x.shape: torch.Size([1, 256, 16, 16]), emb.shape: torch.Size([1, 256, 16, 16])\n",
      "Down: x.shape: torch.Size([1, 256, 8, 8]), emb.shape: torch.Size([1, 256, 8, 8])\n",
      "Down: x.shape: torch.Size([1, 128, 16, 16]), emb.shape: torch.Size([1, 128, 16, 16])\n",
      "Down: x.shape: torch.Size([1, 64, 32, 32]), emb.shape: torch.Size([1, 64, 32, 32])\n",
      "Down: x.shape: torch.Size([1, 64, 64, 64]), emb.shape: torch.Size([1, 64, 64, 64])\n",
      "Down: x.shape: torch.Size([1, 128, 32, 32]), emb.shape: torch.Size([1, 128, 32, 32])\n",
      "Down: x.shape: torch.Size([1, 256, 16, 16]), emb.shape: torch.Size([1, 256, 16, 16])\n",
      "Down: x.shape: torch.Size([1, 256, 8, 8]), emb.shape: torch.Size([1, 256, 8, 8])\n",
      "Down: x.shape: torch.Size([1, 128, 16, 16]), emb.shape: torch.Size([1, 128, 16, 16])\n",
      "Down: x.shape: torch.Size([1, 64, 32, 32]), emb.shape: torch.Size([1, 64, 32, 32])\n",
      "Down: x.shape: torch.Size([1, 64, 64, 64]), emb.shape: torch.Size([1, 64, 64, 64])\n",
      "Down: x.shape: torch.Size([1, 128, 32, 32]), emb.shape: torch.Size([1, 128, 32, 32])\n",
      "Down: x.shape: torch.Size([1, 256, 16, 16]), emb.shape: torch.Size([1, 256, 16, 16])\n",
      "Down: x.shape: torch.Size([1, 256, 8, 8]), emb.shape: torch.Size([1, 256, 8, 8])\n",
      "Down: x.shape: torch.Size([1, 128, 16, 16]), emb.shape: torch.Size([1, 128, 16, 16])\n",
      "Down: x.shape: torch.Size([1, 64, 32, 32]), emb.shape: torch.Size([1, 64, 32, 32])\n",
      "Down: x.shape: torch.Size([1, 64, 64, 64]), emb.shape: torch.Size([1, 64, 64, 64])\n"
     ]
    },
    {
     "name": "stderr",
     "output_type": "stream",
     "text": [
      "88it [00:04, 21.79it/s]"
     ]
    },
    {
     "name": "stdout",
     "output_type": "stream",
     "text": [
      "Down: x.shape: torch.Size([1, 128, 32, 32]), emb.shape: torch.Size([1, 128, 32, 32])\n",
      "Down: x.shape: torch.Size([1, 256, 16, 16]), emb.shape: torch.Size([1, 256, 16, 16])\n",
      "Down: x.shape: torch.Size([1, 256, 8, 8]), emb.shape: torch.Size([1, 256, 8, 8])\n",
      "Down: x.shape: torch.Size([1, 128, 16, 16]), emb.shape: torch.Size([1, 128, 16, 16])\n",
      "Down: x.shape: torch.Size([1, 64, 32, 32]), emb.shape: torch.Size([1, 64, 32, 32])\n",
      "Down: x.shape: torch.Size([1, 64, 64, 64]), emb.shape: torch.Size([1, 64, 64, 64])\n",
      "Down: x.shape: torch.Size([1, 128, 32, 32]), emb.shape: torch.Size([1, 128, 32, 32])\n",
      "Down: x.shape: torch.Size([1, 256, 16, 16]), emb.shape: torch.Size([1, 256, 16, 16])\n",
      "Down: x.shape: torch.Size([1, 256, 8, 8]), emb.shape: torch.Size([1, 256, 8, 8])\n",
      "Down: x.shape: torch.Size([1, 128, 16, 16]), emb.shape: torch.Size([1, 128, 16, 16])\n",
      "Down: x.shape: torch.Size([1, 64, 32, 32]), emb.shape: torch.Size([1, 64, 32, 32])\n",
      "Down: x.shape: torch.Size([1, 64, 64, 64]), emb.shape: torch.Size([1, 64, 64, 64])\n",
      "Down: x.shape: torch.Size([1, 128, 32, 32]), emb.shape: torch.Size([1, 128, 32, 32])\n",
      "Down: x.shape: torch.Size([1, 256, 16, 16]), emb.shape: torch.Size([1, 256, 16, 16])\n",
      "Down: x.shape: torch.Size([1, 256, 8, 8]), emb.shape: torch.Size([1, 256, 8, 8])\n",
      "Down: x.shape: torch.Size([1, 128, 16, 16]), emb.shape: torch.Size([1, 128, 16, 16])\n",
      "Down: x.shape: torch.Size([1, 64, 32, 32]), emb.shape: torch.Size([1, 64, 32, 32])\n",
      "Down: x.shape: torch.Size([1, 64, 64, 64]), emb.shape: torch.Size([1, 64, 64, 64])\n",
      "Down: x.shape: torch.Size([1, 128, 32, 32]), emb.shape: torch.Size([1, 128, 32, 32])\n",
      "Down: x.shape: torch.Size([1, 256, 16, 16]), emb.shape: torch.Size([1, 256, 16, 16])\n",
      "Down: x.shape: torch.Size([1, 256, 8, 8]), emb.shape: torch.Size([1, 256, 8, 8])\n",
      "Down: x.shape: torch.Size([1, 128, 16, 16]), emb.shape: torch.Size([1, 128, 16, 16])\n",
      "Down: x.shape: torch.Size([1, 64, 32, 32]), emb.shape: torch.Size([1, 64, 32, 32])\n",
      "Down: x.shape: torch.Size([1, 64, 64, 64]), emb.shape: torch.Size([1, 64, 64, 64])\n",
      "Down: x.shape: torch.Size([1, 128, 32, 32]), emb.shape: torch.Size([1, 128, 32, 32])\n",
      "Down: x.shape: torch.Size([1, 256, 16, 16]), emb.shape: torch.Size([1, 256, 16, 16])\n",
      "Down: x.shape: torch.Size([1, 256, 8, 8]), emb.shape: torch.Size([1, 256, 8, 8])\n"
     ]
    },
    {
     "name": "stderr",
     "output_type": "stream",
     "text": [
      "94it [00:04, 21.95it/s]"
     ]
    },
    {
     "name": "stdout",
     "output_type": "stream",
     "text": [
      "Down: x.shape: torch.Size([1, 128, 16, 16]), emb.shape: torch.Size([1, 128, 16, 16])\n",
      "Down: x.shape: torch.Size([1, 64, 32, 32]), emb.shape: torch.Size([1, 64, 32, 32])\n",
      "Down: x.shape: torch.Size([1, 64, 64, 64]), emb.shape: torch.Size([1, 64, 64, 64])\n",
      "Down: x.shape: torch.Size([1, 128, 32, 32]), emb.shape: torch.Size([1, 128, 32, 32])\n",
      "Down: x.shape: torch.Size([1, 256, 16, 16]), emb.shape: torch.Size([1, 256, 16, 16])\n",
      "Down: x.shape: torch.Size([1, 256, 8, 8]), emb.shape: torch.Size([1, 256, 8, 8])\n",
      "Down: x.shape: torch.Size([1, 128, 16, 16]), emb.shape: torch.Size([1, 128, 16, 16])\n",
      "Down: x.shape: torch.Size([1, 64, 32, 32]), emb.shape: torch.Size([1, 64, 32, 32])\n",
      "Down: x.shape: torch.Size([1, 64, 64, 64]), emb.shape: torch.Size([1, 64, 64, 64])\n",
      "Down: x.shape: torch.Size([1, 128, 32, 32]), emb.shape: torch.Size([1, 128, 32, 32])\n",
      "Down: x.shape: torch.Size([1, 256, 16, 16]), emb.shape: torch.Size([1, 256, 16, 16])\n",
      "Down: x.shape: torch.Size([1, 256, 8, 8]), emb.shape: torch.Size([1, 256, 8, 8])\n",
      "Down: x.shape: torch.Size([1, 128, 16, 16]), emb.shape: torch.Size([1, 128, 16, 16])\n",
      "Down: x.shape: torch.Size([1, 64, 32, 32]), emb.shape: torch.Size([1, 64, 32, 32])\n",
      "Down: x.shape: torch.Size([1, 64, 64, 64]), emb.shape: torch.Size([1, 64, 64, 64])\n",
      "Down: x.shape: torch.Size([1, 128, 32, 32]), emb.shape: torch.Size([1, 128, 32, 32])\n",
      "Down: x.shape: torch.Size([1, 256, 16, 16]), emb.shape: torch.Size([1, 256, 16, 16])\n",
      "Down: x.shape: torch.Size([1, 256, 8, 8]), emb.shape: torch.Size([1, 256, 8, 8])\n",
      "Down: x.shape: torch.Size([1, 128, 16, 16]), emb.shape: torch.Size([1, 128, 16, 16])\n",
      "Down: x.shape: torch.Size([1, 64, 32, 32]), emb.shape: torch.Size([1, 64, 32, 32])\n",
      "Down: x.shape: torch.Size([1, 64, 64, 64]), emb.shape: torch.Size([1, 64, 64, 64])\n",
      "Down: x.shape: torch.Size([1, 128, 32, 32]), emb.shape: torch.Size([1, 128, 32, 32])\n",
      "Down: x.shape: torch.Size([1, 256, 16, 16]), emb.shape: torch.Size([1, 256, 16, 16])\n",
      "Down: x.shape: torch.Size([1, 256, 8, 8]), emb.shape: torch.Size([1, 256, 8, 8])\n",
      "Down: x.shape: torch.Size([1, 128, 16, 16]), emb.shape: torch.Size([1, 128, 16, 16])\n",
      "Down: x.shape: torch.Size([1, 64, 32, 32]), emb.shape: torch.Size([1, 64, 32, 32])\n",
      "Down: x.shape: torch.Size([1, 64, 64, 64]), emb.shape: torch.Size([1, 64, 64, 64])\n"
     ]
    },
    {
     "name": "stderr",
     "output_type": "stream",
     "text": [
      "100it [00:04, 21.99it/s]"
     ]
    },
    {
     "name": "stdout",
     "output_type": "stream",
     "text": [
      "Down: x.shape: torch.Size([1, 128, 32, 32]), emb.shape: torch.Size([1, 128, 32, 32])\n",
      "Down: x.shape: torch.Size([1, 256, 16, 16]), emb.shape: torch.Size([1, 256, 16, 16])\n",
      "Down: x.shape: torch.Size([1, 256, 8, 8]), emb.shape: torch.Size([1, 256, 8, 8])\n",
      "Down: x.shape: torch.Size([1, 128, 16, 16]), emb.shape: torch.Size([1, 128, 16, 16])\n",
      "Down: x.shape: torch.Size([1, 64, 32, 32]), emb.shape: torch.Size([1, 64, 32, 32])\n",
      "Down: x.shape: torch.Size([1, 64, 64, 64]), emb.shape: torch.Size([1, 64, 64, 64])\n",
      "Down: x.shape: torch.Size([1, 128, 32, 32]), emb.shape: torch.Size([1, 128, 32, 32])\n",
      "Down: x.shape: torch.Size([1, 256, 16, 16]), emb.shape: torch.Size([1, 256, 16, 16])\n",
      "Down: x.shape: torch.Size([1, 256, 8, 8]), emb.shape: torch.Size([1, 256, 8, 8])\n",
      "Down: x.shape: torch.Size([1, 128, 16, 16]), emb.shape: torch.Size([1, 128, 16, 16])\n",
      "Down: x.shape: torch.Size([1, 64, 32, 32]), emb.shape: torch.Size([1, 64, 32, 32])\n",
      "Down: x.shape: torch.Size([1, 64, 64, 64]), emb.shape: torch.Size([1, 64, 64, 64])\n",
      "Down: x.shape: torch.Size([1, 128, 32, 32]), emb.shape: torch.Size([1, 128, 32, 32])\n",
      "Down: x.shape: torch.Size([1, 256, 16, 16]), emb.shape: torch.Size([1, 256, 16, 16])\n",
      "Down: x.shape: torch.Size([1, 256, 8, 8]), emb.shape: torch.Size([1, 256, 8, 8])\n",
      "Down: x.shape: torch.Size([1, 128, 16, 16]), emb.shape: torch.Size([1, 128, 16, 16])\n",
      "Down: x.shape: torch.Size([1, 64, 32, 32]), emb.shape: torch.Size([1, 64, 32, 32])\n",
      "Down: x.shape: torch.Size([1, 64, 64, 64]), emb.shape: torch.Size([1, 64, 64, 64])\n",
      "Down: x.shape: torch.Size([1, 128, 32, 32]), emb.shape: torch.Size([1, 128, 32, 32])\n",
      "Down: x.shape: torch.Size([1, 256, 16, 16]), emb.shape: torch.Size([1, 256, 16, 16])\n",
      "Down: x.shape: torch.Size([1, 256, 8, 8]), emb.shape: torch.Size([1, 256, 8, 8])\n",
      "Down: x.shape: torch.Size([1, 128, 16, 16]), emb.shape: torch.Size([1, 128, 16, 16])\n",
      "Down: x.shape: torch.Size([1, 64, 32, 32]), emb.shape: torch.Size([1, 64, 32, 32])\n",
      "Down: x.shape: torch.Size([1, 64, 64, 64]), emb.shape: torch.Size([1, 64, 64, 64])\n",
      "Down: x.shape: torch.Size([1, 128, 32, 32]), emb.shape: torch.Size([1, 128, 32, 32])\n",
      "Down: x.shape: torch.Size([1, 256, 16, 16]), emb.shape: torch.Size([1, 256, 16, 16])\n",
      "Down: x.shape: torch.Size([1, 256, 8, 8]), emb.shape: torch.Size([1, 256, 8, 8])\n",
      "Down: x.shape: torch.Size([1, 128, 16, 16]), emb.shape: torch.Size([1, 128, 16, 16])\n",
      "Down: x.shape: torch.Size([1, 64, 32, 32]), emb.shape: torch.Size([1, 64, 32, 32])\n",
      "Down: x.shape: torch.Size([1, 64, 64, 64]), emb.shape: torch.Size([1, 64, 64, 64])\n"
     ]
    },
    {
     "name": "stderr",
     "output_type": "stream",
     "text": [
      "103it [00:05, 22.10it/s]"
     ]
    },
    {
     "name": "stdout",
     "output_type": "stream",
     "text": [
      "Down: x.shape: torch.Size([1, 128, 32, 32]), emb.shape: torch.Size([1, 128, 32, 32])\n",
      "Down: x.shape: torch.Size([1, 256, 16, 16]), emb.shape: torch.Size([1, 256, 16, 16])\n",
      "Down: x.shape: torch.Size([1, 256, 8, 8]), emb.shape: torch.Size([1, 256, 8, 8])\n",
      "Down: x.shape: torch.Size([1, 128, 16, 16]), emb.shape: torch.Size([1, 128, 16, 16])\n",
      "Down: x.shape: torch.Size([1, 64, 32, 32]), emb.shape: torch.Size([1, 64, 32, 32])\n",
      "Down: x.shape: torch.Size([1, 64, 64, 64]), emb.shape: torch.Size([1, 64, 64, 64])\n",
      "Down: x.shape: torch.Size([1, 128, 32, 32]), emb.shape: torch.Size([1, 128, 32, 32])\n",
      "Down: x.shape: torch.Size([1, 256, 16, 16]), emb.shape: torch.Size([1, 256, 16, 16])\n",
      "Down: x.shape: torch.Size([1, 256, 8, 8]), emb.shape: torch.Size([1, 256, 8, 8])\n",
      "Down: x.shape: torch.Size([1, 128, 16, 16]), emb.shape: torch.Size([1, 128, 16, 16])\n",
      "Down: x.shape: torch.Size([1, 64, 32, 32]), emb.shape: torch.Size([1, 64, 32, 32])\n",
      "Down: x.shape: torch.Size([1, 64, 64, 64]), emb.shape: torch.Size([1, 64, 64, 64])\n",
      "Down: x.shape: torch.Size([1, 128, 32, 32]), emb.shape: torch.Size([1, 128, 32, 32])\n",
      "Down: x.shape: torch.Size([1, 256, 16, 16]), emb.shape: torch.Size([1, 256, 16, 16])\n",
      "Down: x.shape: torch.Size([1, 256, 8, 8]), emb.shape: torch.Size([1, 256, 8, 8])\n",
      "Down: x.shape: torch.Size([1, 128, 16, 16]), emb.shape: torch.Size([1, 128, 16, 16])\n",
      "Down: x.shape: torch.Size([1, 64, 32, 32]), emb.shape: torch.Size([1, 64, 32, 32])\n",
      "Down: x.shape: torch.Size([1, 64, 64, 64]), emb.shape: torch.Size([1, 64, 64, 64])\n",
      "Down: x.shape: torch.Size([1, 128, 32, 32]), emb.shape: torch.Size([1, 128, 32, 32])\n",
      "Down: x.shape: torch.Size([1, 256, 16, 16]), emb.shape: torch.Size([1, 256, 16, 16])\n",
      "Down: x.shape: torch.Size([1, 256, 8, 8]), emb.shape: torch.Size([1, 256, 8, 8])\n",
      "Down: x.shape: torch.Size([1, 128, 16, 16]), emb.shape: torch.Size([1, 128, 16, 16])\n",
      "Down: x.shape: torch.Size([1, 64, 32, 32]), emb.shape: torch.Size([1, 64, 32, 32])\n",
      "Down: x.shape: torch.Size([1, 64, 64, 64]), emb.shape: torch.Size([1, 64, 64, 64])\n",
      "Down: x.shape: torch.Size([1, 128, 32, 32]), emb.shape: torch.Size([1, 128, 32, 32])\n",
      "Down: x.shape: torch.Size([1, 256, 16, 16]), emb.shape: torch.Size([1, 256, 16, 16])\n",
      "Down: x.shape: torch.Size([1, 256, 8, 8]), emb.shape: torch.Size([1, 256, 8, 8])\n",
      "Down: x.shape: torch.Size([1, 128, 16, 16]), emb.shape: torch.Size([1, 128, 16, 16])\n",
      "Down: x.shape: torch.Size([1, 64, 32, 32]), emb.shape: torch.Size([1, 64, 32, 32])\n",
      "Down: x.shape: torch.Size([1, 64, 64, 64]), emb.shape: torch.Size([1, 64, 64, 64])\n"
     ]
    },
    {
     "name": "stderr",
     "output_type": "stream",
     "text": [
      "109it [00:05, 21.86it/s]"
     ]
    },
    {
     "name": "stdout",
     "output_type": "stream",
     "text": [
      "Down: x.shape: torch.Size([1, 128, 32, 32]), emb.shape: torch.Size([1, 128, 32, 32])\n",
      "Down: x.shape: torch.Size([1, 256, 16, 16]), emb.shape: torch.Size([1, 256, 16, 16])\n",
      "Down: x.shape: torch.Size([1, 256, 8, 8]), emb.shape: torch.Size([1, 256, 8, 8])\n",
      "Down: x.shape: torch.Size([1, 128, 16, 16]), emb.shape: torch.Size([1, 128, 16, 16])\n",
      "Down: x.shape: torch.Size([1, 64, 32, 32]), emb.shape: torch.Size([1, 64, 32, 32])\n",
      "Down: x.shape: torch.Size([1, 64, 64, 64]), emb.shape: torch.Size([1, 64, 64, 64])\n",
      "Down: x.shape: torch.Size([1, 128, 32, 32]), emb.shape: torch.Size([1, 128, 32, 32])\n",
      "Down: x.shape: torch.Size([1, 256, 16, 16]), emb.shape: torch.Size([1, 256, 16, 16])\n",
      "Down: x.shape: torch.Size([1, 256, 8, 8]), emb.shape: torch.Size([1, 256, 8, 8])\n",
      "Down: x.shape: torch.Size([1, 128, 16, 16]), emb.shape: torch.Size([1, 128, 16, 16])\n",
      "Down: x.shape: torch.Size([1, 64, 32, 32]), emb.shape: torch.Size([1, 64, 32, 32])\n",
      "Down: x.shape: torch.Size([1, 64, 64, 64]), emb.shape: torch.Size([1, 64, 64, 64])\n",
      "Down: x.shape: torch.Size([1, 128, 32, 32]), emb.shape: torch.Size([1, 128, 32, 32])\n",
      "Down: x.shape: torch.Size([1, 256, 16, 16]), emb.shape: torch.Size([1, 256, 16, 16])\n",
      "Down: x.shape: torch.Size([1, 256, 8, 8]), emb.shape: torch.Size([1, 256, 8, 8])\n",
      "Down: x.shape: torch.Size([1, 128, 16, 16]), emb.shape: torch.Size([1, 128, 16, 16])\n",
      "Down: x.shape: torch.Size([1, 64, 32, 32]), emb.shape: torch.Size([1, 64, 32, 32])\n",
      "Down: x.shape: torch.Size([1, 64, 64, 64]), emb.shape: torch.Size([1, 64, 64, 64])\n",
      "Down: x.shape: torch.Size([1, 128, 32, 32]), emb.shape: torch.Size([1, 128, 32, 32])\n",
      "Down: x.shape: torch.Size([1, 256, 16, 16]), emb.shape: torch.Size([1, 256, 16, 16])\n",
      "Down: x.shape: torch.Size([1, 256, 8, 8]), emb.shape: torch.Size([1, 256, 8, 8])\n",
      "Down: x.shape: torch.Size([1, 128, 16, 16]), emb.shape: torch.Size([1, 128, 16, 16])\n",
      "Down: x.shape: torch.Size([1, 64, 32, 32]), emb.shape: torch.Size([1, 64, 32, 32])\n",
      "Down: x.shape: torch.Size([1, 64, 64, 64]), emb.shape: torch.Size([1, 64, 64, 64])\n",
      "Down: x.shape: torch.Size([1, 128, 32, 32]), emb.shape: torch.Size([1, 128, 32, 32])\n",
      "Down: x.shape: torch.Size([1, 256, 16, 16]), emb.shape: torch.Size([1, 256, 16, 16])\n",
      "Down: x.shape: torch.Size([1, 256, 8, 8]), emb.shape: torch.Size([1, 256, 8, 8])\n",
      "Down: x.shape: torch.Size([1, 128, 16, 16]), emb.shape: torch.Size([1, 128, 16, 16])\n",
      "Down: x.shape: torch.Size([1, 64, 32, 32]), emb.shape: torch.Size([1, 64, 32, 32])\n",
      "Down: x.shape: torch.Size([1, 64, 64, 64]), emb.shape: torch.Size([1, 64, 64, 64])\n"
     ]
    },
    {
     "name": "stderr",
     "output_type": "stream",
     "text": [
      "115it [00:05, 21.84it/s]"
     ]
    },
    {
     "name": "stdout",
     "output_type": "stream",
     "text": [
      "Down: x.shape: torch.Size([1, 128, 32, 32]), emb.shape: torch.Size([1, 128, 32, 32])\n",
      "Down: x.shape: torch.Size([1, 256, 16, 16]), emb.shape: torch.Size([1, 256, 16, 16])\n",
      "Down: x.shape: torch.Size([1, 256, 8, 8]), emb.shape: torch.Size([1, 256, 8, 8])\n",
      "Down: x.shape: torch.Size([1, 128, 16, 16]), emb.shape: torch.Size([1, 128, 16, 16])\n",
      "Down: x.shape: torch.Size([1, 64, 32, 32]), emb.shape: torch.Size([1, 64, 32, 32])\n",
      "Down: x.shape: torch.Size([1, 64, 64, 64]), emb.shape: torch.Size([1, 64, 64, 64])\n",
      "Down: x.shape: torch.Size([1, 128, 32, 32]), emb.shape: torch.Size([1, 128, 32, 32])\n",
      "Down: x.shape: torch.Size([1, 256, 16, 16]), emb.shape: torch.Size([1, 256, 16, 16])\n",
      "Down: x.shape: torch.Size([1, 256, 8, 8]), emb.shape: torch.Size([1, 256, 8, 8])\n",
      "Down: x.shape: torch.Size([1, 128, 16, 16]), emb.shape: torch.Size([1, 128, 16, 16])\n",
      "Down: x.shape: torch.Size([1, 64, 32, 32]), emb.shape: torch.Size([1, 64, 32, 32])\n",
      "Down: x.shape: torch.Size([1, 64, 64, 64]), emb.shape: torch.Size([1, 64, 64, 64])\n",
      "Down: x.shape: torch.Size([1, 128, 32, 32]), emb.shape: torch.Size([1, 128, 32, 32])\n",
      "Down: x.shape: torch.Size([1, 256, 16, 16]), emb.shape: torch.Size([1, 256, 16, 16])\n",
      "Down: x.shape: torch.Size([1, 256, 8, 8]), emb.shape: torch.Size([1, 256, 8, 8])\n",
      "Down: x.shape: torch.Size([1, 128, 16, 16]), emb.shape: torch.Size([1, 128, 16, 16])\n",
      "Down: x.shape: torch.Size([1, 64, 32, 32]), emb.shape: torch.Size([1, 64, 32, 32])\n",
      "Down: x.shape: torch.Size([1, 64, 64, 64]), emb.shape: torch.Size([1, 64, 64, 64])\n",
      "Down: x.shape: torch.Size([1, 128, 32, 32]), emb.shape: torch.Size([1, 128, 32, 32])\n",
      "Down: x.shape: torch.Size([1, 256, 16, 16]), emb.shape: torch.Size([1, 256, 16, 16])\n",
      "Down: x.shape: torch.Size([1, 256, 8, 8]), emb.shape: torch.Size([1, 256, 8, 8])\n",
      "Down: x.shape: torch.Size([1, 128, 16, 16]), emb.shape: torch.Size([1, 128, 16, 16])\n",
      "Down: x.shape: torch.Size([1, 64, 32, 32]), emb.shape: torch.Size([1, 64, 32, 32])\n",
      "Down: x.shape: torch.Size([1, 64, 64, 64]), emb.shape: torch.Size([1, 64, 64, 64])\n",
      "Down: x.shape: torch.Size([1, 128, 32, 32]), emb.shape: torch.Size([1, 128, 32, 32])\n",
      "Down: x.shape: torch.Size([1, 256, 16, 16]), emb.shape: torch.Size([1, 256, 16, 16])\n",
      "Down: x.shape: torch.Size([1, 256, 8, 8]), emb.shape: torch.Size([1, 256, 8, 8])\n",
      "Down: x.shape: torch.Size([1, 128, 16, 16]), emb.shape: torch.Size([1, 128, 16, 16])\n",
      "Down: x.shape: torch.Size([1, 64, 32, 32]), emb.shape: torch.Size([1, 64, 32, 32])\n",
      "Down: x.shape: torch.Size([1, 64, 64, 64]), emb.shape: torch.Size([1, 64, 64, 64])\n"
     ]
    },
    {
     "name": "stderr",
     "output_type": "stream",
     "text": [
      "118it [00:05, 21.78it/s]"
     ]
    },
    {
     "name": "stdout",
     "output_type": "stream",
     "text": [
      "Down: x.shape: torch.Size([1, 128, 32, 32]), emb.shape: torch.Size([1, 128, 32, 32])\n",
      "Down: x.shape: torch.Size([1, 256, 16, 16]), emb.shape: torch.Size([1, 256, 16, 16])\n",
      "Down: x.shape: torch.Size([1, 256, 8, 8]), emb.shape: torch.Size([1, 256, 8, 8])\n",
      "Down: x.shape: torch.Size([1, 128, 16, 16]), emb.shape: torch.Size([1, 128, 16, 16])\n",
      "Down: x.shape: torch.Size([1, 64, 32, 32]), emb.shape: torch.Size([1, 64, 32, 32])\n",
      "Down: x.shape: torch.Size([1, 64, 64, 64]), emb.shape: torch.Size([1, 64, 64, 64])\n",
      "Down: x.shape: torch.Size([1, 128, 32, 32]), emb.shape: torch.Size([1, 128, 32, 32])\n",
      "Down: x.shape: torch.Size([1, 256, 16, 16]), emb.shape: torch.Size([1, 256, 16, 16])\n",
      "Down: x.shape: torch.Size([1, 256, 8, 8]), emb.shape: torch.Size([1, 256, 8, 8])\n",
      "Down: x.shape: torch.Size([1, 128, 16, 16]), emb.shape: torch.Size([1, 128, 16, 16])\n",
      "Down: x.shape: torch.Size([1, 64, 32, 32]), emb.shape: torch.Size([1, 64, 32, 32])\n",
      "Down: x.shape: torch.Size([1, 64, 64, 64]), emb.shape: torch.Size([1, 64, 64, 64])\n",
      "Down: x.shape: torch.Size([1, 128, 32, 32]), emb.shape: torch.Size([1, 128, 32, 32])\n",
      "Down: x.shape: torch.Size([1, 256, 16, 16]), emb.shape: torch.Size([1, 256, 16, 16])\n",
      "Down: x.shape: torch.Size([1, 256, 8, 8]), emb.shape: torch.Size([1, 256, 8, 8])\n",
      "Down: x.shape: torch.Size([1, 128, 16, 16]), emb.shape: torch.Size([1, 128, 16, 16])\n",
      "Down: x.shape: torch.Size([1, 64, 32, 32]), emb.shape: torch.Size([1, 64, 32, 32])\n",
      "Down: x.shape: torch.Size([1, 64, 64, 64]), emb.shape: torch.Size([1, 64, 64, 64])\n",
      "Down: x.shape: torch.Size([1, 128, 32, 32]), emb.shape: torch.Size([1, 128, 32, 32])\n",
      "Down: x.shape: torch.Size([1, 256, 16, 16]), emb.shape: torch.Size([1, 256, 16, 16])\n",
      "Down: x.shape: torch.Size([1, 256, 8, 8]), emb.shape: torch.Size([1, 256, 8, 8])\n",
      "Down: x.shape: torch.Size([1, 128, 16, 16]), emb.shape: torch.Size([1, 128, 16, 16])\n",
      "Down: x.shape: torch.Size([1, 64, 32, 32]), emb.shape: torch.Size([1, 64, 32, 32])\n",
      "Down: x.shape: torch.Size([1, 64, 64, 64]), emb.shape: torch.Size([1, 64, 64, 64])\n",
      "Down: x.shape: torch.Size([1, 128, 32, 32]), emb.shape: torch.Size([1, 128, 32, 32])\n",
      "Down: x.shape: torch.Size([1, 256, 16, 16]), emb.shape: torch.Size([1, 256, 16, 16])\n",
      "Down: x.shape: torch.Size([1, 256, 8, 8]), emb.shape: torch.Size([1, 256, 8, 8])\n",
      "Down: x.shape: torch.Size([1, 128, 16, 16]), emb.shape: torch.Size([1, 128, 16, 16])\n",
      "Down: x.shape: torch.Size([1, 64, 32, 32]), emb.shape: torch.Size([1, 64, 32, 32])\n",
      "Down: x.shape: torch.Size([1, 64, 64, 64]), emb.shape: torch.Size([1, 64, 64, 64])\n"
     ]
    },
    {
     "name": "stderr",
     "output_type": "stream",
     "text": [
      "124it [00:06, 21.93it/s]"
     ]
    },
    {
     "name": "stdout",
     "output_type": "stream",
     "text": [
      "Down: x.shape: torch.Size([1, 128, 32, 32]), emb.shape: torch.Size([1, 128, 32, 32])\n",
      "Down: x.shape: torch.Size([1, 256, 16, 16]), emb.shape: torch.Size([1, 256, 16, 16])\n",
      "Down: x.shape: torch.Size([1, 256, 8, 8]), emb.shape: torch.Size([1, 256, 8, 8])\n",
      "Down: x.shape: torch.Size([1, 128, 16, 16]), emb.shape: torch.Size([1, 128, 16, 16])\n",
      "Down: x.shape: torch.Size([1, 64, 32, 32]), emb.shape: torch.Size([1, 64, 32, 32])\n",
      "Down: x.shape: torch.Size([1, 64, 64, 64]), emb.shape: torch.Size([1, 64, 64, 64])\n",
      "Down: x.shape: torch.Size([1, 128, 32, 32]), emb.shape: torch.Size([1, 128, 32, 32])\n",
      "Down: x.shape: torch.Size([1, 256, 16, 16]), emb.shape: torch.Size([1, 256, 16, 16])\n",
      "Down: x.shape: torch.Size([1, 256, 8, 8]), emb.shape: torch.Size([1, 256, 8, 8])\n",
      "Down: x.shape: torch.Size([1, 128, 16, 16]), emb.shape: torch.Size([1, 128, 16, 16])\n",
      "Down: x.shape: torch.Size([1, 64, 32, 32]), emb.shape: torch.Size([1, 64, 32, 32])\n",
      "Down: x.shape: torch.Size([1, 64, 64, 64]), emb.shape: torch.Size([1, 64, 64, 64])\n",
      "Down: x.shape: torch.Size([1, 128, 32, 32]), emb.shape: torch.Size([1, 128, 32, 32])\n",
      "Down: x.shape: torch.Size([1, 256, 16, 16]), emb.shape: torch.Size([1, 256, 16, 16])\n",
      "Down: x.shape: torch.Size([1, 256, 8, 8]), emb.shape: torch.Size([1, 256, 8, 8])\n",
      "Down: x.shape: torch.Size([1, 128, 16, 16]), emb.shape: torch.Size([1, 128, 16, 16])\n",
      "Down: x.shape: torch.Size([1, 64, 32, 32]), emb.shape: torch.Size([1, 64, 32, 32])\n",
      "Down: x.shape: torch.Size([1, 64, 64, 64]), emb.shape: torch.Size([1, 64, 64, 64])\n",
      "Down: x.shape: torch.Size([1, 128, 32, 32]), emb.shape: torch.Size([1, 128, 32, 32])\n",
      "Down: x.shape: torch.Size([1, 256, 16, 16]), emb.shape: torch.Size([1, 256, 16, 16])\n",
      "Down: x.shape: torch.Size([1, 256, 8, 8]), emb.shape: torch.Size([1, 256, 8, 8])\n",
      "Down: x.shape: torch.Size([1, 128, 16, 16]), emb.shape: torch.Size([1, 128, 16, 16])\n",
      "Down: x.shape: torch.Size([1, 64, 32, 32]), emb.shape: torch.Size([1, 64, 32, 32])\n",
      "Down: x.shape: torch.Size([1, 64, 64, 64]), emb.shape: torch.Size([1, 64, 64, 64])\n",
      "Down: x.shape: torch.Size([1, 128, 32, 32]), emb.shape: torch.Size([1, 128, 32, 32])\n",
      "Down: x.shape: torch.Size([1, 256, 16, 16]), emb.shape: torch.Size([1, 256, 16, 16])\n",
      "Down: x.shape: torch.Size([1, 256, 8, 8]), emb.shape: torch.Size([1, 256, 8, 8])\n",
      "Down: x.shape: torch.Size([1, 128, 16, 16]), emb.shape: torch.Size([1, 128, 16, 16])\n"
     ]
    },
    {
     "name": "stderr",
     "output_type": "stream",
     "text": [
      "127it [00:06, 21.74it/s]"
     ]
    },
    {
     "name": "stdout",
     "output_type": "stream",
     "text": [
      "Down: x.shape: torch.Size([1, 64, 32, 32]), emb.shape: torch.Size([1, 64, 32, 32])\n",
      "Down: x.shape: torch.Size([1, 64, 64, 64]), emb.shape: torch.Size([1, 64, 64, 64])\n",
      "Down: x.shape: torch.Size([1, 128, 32, 32]), emb.shape: torch.Size([1, 128, 32, 32])\n",
      "Down: x.shape: torch.Size([1, 256, 16, 16]), emb.shape: torch.Size([1, 256, 16, 16])\n",
      "Down: x.shape: torch.Size([1, 256, 8, 8]), emb.shape: torch.Size([1, 256, 8, 8])\n",
      "Down: x.shape: torch.Size([1, 128, 16, 16]), emb.shape: torch.Size([1, 128, 16, 16])\n",
      "Down: x.shape: torch.Size([1, 64, 32, 32]), emb.shape: torch.Size([1, 64, 32, 32])\n",
      "Down: x.shape: torch.Size([1, 64, 64, 64]), emb.shape: torch.Size([1, 64, 64, 64])\n",
      "Down: x.shape: torch.Size([1, 128, 32, 32]), emb.shape: torch.Size([1, 128, 32, 32])\n",
      "Down: x.shape: torch.Size([1, 256, 16, 16]), emb.shape: torch.Size([1, 256, 16, 16])\n",
      "Down: x.shape: torch.Size([1, 256, 8, 8]), emb.shape: torch.Size([1, 256, 8, 8])\n",
      "Down: x.shape: torch.Size([1, 128, 16, 16]), emb.shape: torch.Size([1, 128, 16, 16])\n",
      "Down: x.shape: torch.Size([1, 64, 32, 32]), emb.shape: torch.Size([1, 64, 32, 32])\n",
      "Down: x.shape: torch.Size([1, 64, 64, 64]), emb.shape: torch.Size([1, 64, 64, 64])\n",
      "Down: x.shape: torch.Size([1, 128, 32, 32]), emb.shape: torch.Size([1, 128, 32, 32])\n",
      "Down: x.shape: torch.Size([1, 256, 16, 16]), emb.shape: torch.Size([1, 256, 16, 16])\n",
      "Down: x.shape: torch.Size([1, 256, 8, 8]), emb.shape: torch.Size([1, 256, 8, 8])\n",
      "Down: x.shape: torch.Size([1, 128, 16, 16]), emb.shape: torch.Size([1, 128, 16, 16])\n",
      "Down: x.shape: torch.Size([1, 64, 32, 32]), emb.shape: torch.Size([1, 64, 32, 32])\n",
      "Down: x.shape: torch.Size([1, 64, 64, 64]), emb.shape: torch.Size([1, 64, 64, 64])\n",
      "Down: x.shape: torch.Size([1, 128, 32, 32]), emb.shape: torch.Size([1, 128, 32, 32])\n",
      "Down: x.shape: torch.Size([1, 256, 16, 16]), emb.shape: torch.Size([1, 256, 16, 16])\n",
      "Down: x.shape: torch.Size([1, 256, 8, 8]), emb.shape: torch.Size([1, 256, 8, 8])\n",
      "Down: x.shape: torch.Size([1, 128, 16, 16]), emb.shape: torch.Size([1, 128, 16, 16])\n",
      "Down: x.shape: torch.Size([1, 64, 32, 32]), emb.shape: torch.Size([1, 64, 32, 32])\n",
      "Down: x.shape: torch.Size([1, 64, 64, 64]), emb.shape: torch.Size([1, 64, 64, 64])\n"
     ]
    },
    {
     "name": "stderr",
     "output_type": "stream",
     "text": [
      "133it [00:06, 22.04it/s]"
     ]
    },
    {
     "name": "stdout",
     "output_type": "stream",
     "text": [
      "Down: x.shape: torch.Size([1, 128, 32, 32]), emb.shape: torch.Size([1, 128, 32, 32])\n",
      "Down: x.shape: torch.Size([1, 256, 16, 16]), emb.shape: torch.Size([1, 256, 16, 16])\n",
      "Down: x.shape: torch.Size([1, 256, 8, 8]), emb.shape: torch.Size([1, 256, 8, 8])\n",
      "Down: x.shape: torch.Size([1, 128, 16, 16]), emb.shape: torch.Size([1, 128, 16, 16])\n",
      "Down: x.shape: torch.Size([1, 64, 32, 32]), emb.shape: torch.Size([1, 64, 32, 32])\n",
      "Down: x.shape: torch.Size([1, 64, 64, 64]), emb.shape: torch.Size([1, 64, 64, 64])\n",
      "Down: x.shape: torch.Size([1, 128, 32, 32]), emb.shape: torch.Size([1, 128, 32, 32])\n",
      "Down: x.shape: torch.Size([1, 256, 16, 16]), emb.shape: torch.Size([1, 256, 16, 16])\n",
      "Down: x.shape: torch.Size([1, 256, 8, 8]), emb.shape: torch.Size([1, 256, 8, 8])\n",
      "Down: x.shape: torch.Size([1, 128, 16, 16]), emb.shape: torch.Size([1, 128, 16, 16])\n",
      "Down: x.shape: torch.Size([1, 64, 32, 32]), emb.shape: torch.Size([1, 64, 32, 32])\n",
      "Down: x.shape: torch.Size([1, 64, 64, 64]), emb.shape: torch.Size([1, 64, 64, 64])\n",
      "Down: x.shape: torch.Size([1, 128, 32, 32]), emb.shape: torch.Size([1, 128, 32, 32])\n",
      "Down: x.shape: torch.Size([1, 256, 16, 16]), emb.shape: torch.Size([1, 256, 16, 16])\n",
      "Down: x.shape: torch.Size([1, 256, 8, 8]), emb.shape: torch.Size([1, 256, 8, 8])\n",
      "Down: x.shape: torch.Size([1, 128, 16, 16]), emb.shape: torch.Size([1, 128, 16, 16])\n",
      "Down: x.shape: torch.Size([1, 64, 32, 32]), emb.shape: torch.Size([1, 64, 32, 32])\n",
      "Down: x.shape: torch.Size([1, 64, 64, 64]), emb.shape: torch.Size([1, 64, 64, 64])\n",
      "Down: x.shape: torch.Size([1, 128, 32, 32]), emb.shape: torch.Size([1, 128, 32, 32])\n",
      "Down: x.shape: torch.Size([1, 256, 16, 16]), emb.shape: torch.Size([1, 256, 16, 16])\n",
      "Down: x.shape: torch.Size([1, 256, 8, 8]), emb.shape: torch.Size([1, 256, 8, 8])\n",
      "Down: x.shape: torch.Size([1, 128, 16, 16]), emb.shape: torch.Size([1, 128, 16, 16])\n",
      "Down: x.shape: torch.Size([1, 64, 32, 32]), emb.shape: torch.Size([1, 64, 32, 32])\n",
      "Down: x.shape: torch.Size([1, 64, 64, 64]), emb.shape: torch.Size([1, 64, 64, 64])\n",
      "Down: x.shape: torch.Size([1, 128, 32, 32]), emb.shape: torch.Size([1, 128, 32, 32])\n",
      "Down: x.shape: torch.Size([1, 256, 16, 16]), emb.shape: torch.Size([1, 256, 16, 16])\n",
      "Down: x.shape: torch.Size([1, 256, 8, 8]), emb.shape: torch.Size([1, 256, 8, 8])\n",
      "Down: x.shape: torch.Size([1, 128, 16, 16]), emb.shape: torch.Size([1, 128, 16, 16])\n",
      "Down: x.shape: torch.Size([1, 64, 32, 32]), emb.shape: torch.Size([1, 64, 32, 32])\n",
      "Down: x.shape: torch.Size([1, 64, 64, 64]), emb.shape: torch.Size([1, 64, 64, 64])\n"
     ]
    },
    {
     "name": "stderr",
     "output_type": "stream",
     "text": [
      "136it [00:06, 21.96it/s]"
     ]
    },
    {
     "name": "stdout",
     "output_type": "stream",
     "text": [
      "Down: x.shape: torch.Size([1, 128, 32, 32]), emb.shape: torch.Size([1, 128, 32, 32])\n",
      "Down: x.shape: torch.Size([1, 256, 16, 16]), emb.shape: torch.Size([1, 256, 16, 16])\n",
      "Down: x.shape: torch.Size([1, 256, 8, 8]), emb.shape: torch.Size([1, 256, 8, 8])\n",
      "Down: x.shape: torch.Size([1, 128, 16, 16]), emb.shape: torch.Size([1, 128, 16, 16])\n",
      "Down: x.shape: torch.Size([1, 64, 32, 32]), emb.shape: torch.Size([1, 64, 32, 32])\n",
      "Down: x.shape: torch.Size([1, 64, 64, 64]), emb.shape: torch.Size([1, 64, 64, 64])\n",
      "Down: x.shape: torch.Size([1, 128, 32, 32]), emb.shape: torch.Size([1, 128, 32, 32])\n",
      "Down: x.shape: torch.Size([1, 256, 16, 16]), emb.shape: torch.Size([1, 256, 16, 16])\n",
      "Down: x.shape: torch.Size([1, 256, 8, 8]), emb.shape: torch.Size([1, 256, 8, 8])\n",
      "Down: x.shape: torch.Size([1, 128, 16, 16]), emb.shape: torch.Size([1, 128, 16, 16])\n",
      "Down: x.shape: torch.Size([1, 64, 32, 32]), emb.shape: torch.Size([1, 64, 32, 32])\n",
      "Down: x.shape: torch.Size([1, 64, 64, 64]), emb.shape: torch.Size([1, 64, 64, 64])\n",
      "Down: x.shape: torch.Size([1, 128, 32, 32]), emb.shape: torch.Size([1, 128, 32, 32])\n",
      "Down: x.shape: torch.Size([1, 256, 16, 16]), emb.shape: torch.Size([1, 256, 16, 16])\n",
      "Down: x.shape: torch.Size([1, 256, 8, 8]), emb.shape: torch.Size([1, 256, 8, 8])\n",
      "Down: x.shape: torch.Size([1, 128, 16, 16]), emb.shape: torch.Size([1, 128, 16, 16])\n",
      "Down: x.shape: torch.Size([1, 64, 32, 32]), emb.shape: torch.Size([1, 64, 32, 32])\n",
      "Down: x.shape: torch.Size([1, 64, 64, 64]), emb.shape: torch.Size([1, 64, 64, 64])\n",
      "Down: x.shape: torch.Size([1, 128, 32, 32]), emb.shape: torch.Size([1, 128, 32, 32])\n",
      "Down: x.shape: torch.Size([1, 256, 16, 16]), emb.shape: torch.Size([1, 256, 16, 16])\n",
      "Down: x.shape: torch.Size([1, 256, 8, 8]), emb.shape: torch.Size([1, 256, 8, 8])\n",
      "Down: x.shape: torch.Size([1, 128, 16, 16]), emb.shape: torch.Size([1, 128, 16, 16])\n",
      "Down: x.shape: torch.Size([1, 64, 32, 32]), emb.shape: torch.Size([1, 64, 32, 32])\n",
      "Down: x.shape: torch.Size([1, 64, 64, 64]), emb.shape: torch.Size([1, 64, 64, 64])\n",
      "Down: x.shape: torch.Size([1, 128, 32, 32]), emb.shape: torch.Size([1, 128, 32, 32])\n",
      "Down: x.shape: torch.Size([1, 256, 16, 16]), emb.shape: torch.Size([1, 256, 16, 16])\n",
      "Down: x.shape: torch.Size([1, 256, 8, 8]), emb.shape: torch.Size([1, 256, 8, 8])\n",
      "Down: x.shape: torch.Size([1, 128, 16, 16]), emb.shape: torch.Size([1, 128, 16, 16])\n",
      "Down: x.shape: torch.Size([1, 64, 32, 32]), emb.shape: torch.Size([1, 64, 32, 32])\n",
      "Down: x.shape: torch.Size([1, 64, 64, 64]), emb.shape: torch.Size([1, 64, 64, 64])\n"
     ]
    },
    {
     "name": "stderr",
     "output_type": "stream",
     "text": [
      "142it [00:06, 22.18it/s]"
     ]
    },
    {
     "name": "stdout",
     "output_type": "stream",
     "text": [
      "Down: x.shape: torch.Size([1, 128, 32, 32]), emb.shape: torch.Size([1, 128, 32, 32])\n",
      "Down: x.shape: torch.Size([1, 256, 16, 16]), emb.shape: torch.Size([1, 256, 16, 16])\n",
      "Down: x.shape: torch.Size([1, 256, 8, 8]), emb.shape: torch.Size([1, 256, 8, 8])\n",
      "Down: x.shape: torch.Size([1, 128, 16, 16]), emb.shape: torch.Size([1, 128, 16, 16])\n",
      "Down: x.shape: torch.Size([1, 64, 32, 32]), emb.shape: torch.Size([1, 64, 32, 32])\n",
      "Down: x.shape: torch.Size([1, 64, 64, 64]), emb.shape: torch.Size([1, 64, 64, 64])\n",
      "Down: x.shape: torch.Size([1, 128, 32, 32]), emb.shape: torch.Size([1, 128, 32, 32])\n",
      "Down: x.shape: torch.Size([1, 256, 16, 16]), emb.shape: torch.Size([1, 256, 16, 16])\n",
      "Down: x.shape: torch.Size([1, 256, 8, 8]), emb.shape: torch.Size([1, 256, 8, 8])\n",
      "Down: x.shape: torch.Size([1, 128, 16, 16]), emb.shape: torch.Size([1, 128, 16, 16])\n",
      "Down: x.shape: torch.Size([1, 64, 32, 32]), emb.shape: torch.Size([1, 64, 32, 32])\n",
      "Down: x.shape: torch.Size([1, 64, 64, 64]), emb.shape: torch.Size([1, 64, 64, 64])\n",
      "Down: x.shape: torch.Size([1, 128, 32, 32]), emb.shape: torch.Size([1, 128, 32, 32])\n",
      "Down: x.shape: torch.Size([1, 256, 16, 16]), emb.shape: torch.Size([1, 256, 16, 16])\n",
      "Down: x.shape: torch.Size([1, 256, 8, 8]), emb.shape: torch.Size([1, 256, 8, 8])\n",
      "Down: x.shape: torch.Size([1, 128, 16, 16]), emb.shape: torch.Size([1, 128, 16, 16])\n",
      "Down: x.shape: torch.Size([1, 64, 32, 32]), emb.shape: torch.Size([1, 64, 32, 32])\n",
      "Down: x.shape: torch.Size([1, 64, 64, 64]), emb.shape: torch.Size([1, 64, 64, 64])\n",
      "Down: x.shape: torch.Size([1, 128, 32, 32]), emb.shape: torch.Size([1, 128, 32, 32])\n",
      "Down: x.shape: torch.Size([1, 256, 16, 16]), emb.shape: torch.Size([1, 256, 16, 16])\n",
      "Down: x.shape: torch.Size([1, 256, 8, 8]), emb.shape: torch.Size([1, 256, 8, 8])\n",
      "Down: x.shape: torch.Size([1, 128, 16, 16]), emb.shape: torch.Size([1, 128, 16, 16])\n",
      "Down: x.shape: torch.Size([1, 64, 32, 32]), emb.shape: torch.Size([1, 64, 32, 32])\n",
      "Down: x.shape: torch.Size([1, 64, 64, 64]), emb.shape: torch.Size([1, 64, 64, 64])\n",
      "Down: x.shape: torch.Size([1, 128, 32, 32]), emb.shape: torch.Size([1, 128, 32, 32])\n",
      "Down: x.shape: torch.Size([1, 256, 16, 16]), emb.shape: torch.Size([1, 256, 16, 16])\n",
      "Down: x.shape: torch.Size([1, 256, 8, 8]), emb.shape: torch.Size([1, 256, 8, 8])\n",
      "Down: x.shape: torch.Size([1, 128, 16, 16]), emb.shape: torch.Size([1, 128, 16, 16])\n",
      "Down: x.shape: torch.Size([1, 64, 32, 32]), emb.shape: torch.Size([1, 64, 32, 32])\n",
      "Down: x.shape: torch.Size([1, 64, 64, 64]), emb.shape: torch.Size([1, 64, 64, 64])\n"
     ]
    },
    {
     "name": "stderr",
     "output_type": "stream",
     "text": [
      "148it [00:07, 21.88it/s]"
     ]
    },
    {
     "name": "stdout",
     "output_type": "stream",
     "text": [
      "Down: x.shape: torch.Size([1, 128, 32, 32]), emb.shape: torch.Size([1, 128, 32, 32])\n",
      "Down: x.shape: torch.Size([1, 256, 16, 16]), emb.shape: torch.Size([1, 256, 16, 16])\n",
      "Down: x.shape: torch.Size([1, 256, 8, 8]), emb.shape: torch.Size([1, 256, 8, 8])\n",
      "Down: x.shape: torch.Size([1, 128, 16, 16]), emb.shape: torch.Size([1, 128, 16, 16])\n",
      "Down: x.shape: torch.Size([1, 64, 32, 32]), emb.shape: torch.Size([1, 64, 32, 32])\n",
      "Down: x.shape: torch.Size([1, 64, 64, 64]), emb.shape: torch.Size([1, 64, 64, 64])\n",
      "Down: x.shape: torch.Size([1, 128, 32, 32]), emb.shape: torch.Size([1, 128, 32, 32])\n",
      "Down: x.shape: torch.Size([1, 256, 16, 16]), emb.shape: torch.Size([1, 256, 16, 16])\n",
      "Down: x.shape: torch.Size([1, 256, 8, 8]), emb.shape: torch.Size([1, 256, 8, 8])\n",
      "Down: x.shape: torch.Size([1, 128, 16, 16]), emb.shape: torch.Size([1, 128, 16, 16])\n",
      "Down: x.shape: torch.Size([1, 64, 32, 32]), emb.shape: torch.Size([1, 64, 32, 32])\n",
      "Down: x.shape: torch.Size([1, 64, 64, 64]), emb.shape: torch.Size([1, 64, 64, 64])\n",
      "Down: x.shape: torch.Size([1, 128, 32, 32]), emb.shape: torch.Size([1, 128, 32, 32])\n",
      "Down: x.shape: torch.Size([1, 256, 16, 16]), emb.shape: torch.Size([1, 256, 16, 16])\n",
      "Down: x.shape: torch.Size([1, 256, 8, 8]), emb.shape: torch.Size([1, 256, 8, 8])\n",
      "Down: x.shape: torch.Size([1, 128, 16, 16]), emb.shape: torch.Size([1, 128, 16, 16])\n",
      "Down: x.shape: torch.Size([1, 64, 32, 32]), emb.shape: torch.Size([1, 64, 32, 32])\n",
      "Down: x.shape: torch.Size([1, 64, 64, 64]), emb.shape: torch.Size([1, 64, 64, 64])\n",
      "Down: x.shape: torch.Size([1, 128, 32, 32]), emb.shape: torch.Size([1, 128, 32, 32])\n",
      "Down: x.shape: torch.Size([1, 256, 16, 16]), emb.shape: torch.Size([1, 256, 16, 16])\n",
      "Down: x.shape: torch.Size([1, 256, 8, 8]), emb.shape: torch.Size([1, 256, 8, 8])\n",
      "Down: x.shape: torch.Size([1, 128, 16, 16]), emb.shape: torch.Size([1, 128, 16, 16])\n",
      "Down: x.shape: torch.Size([1, 64, 32, 32]), emb.shape: torch.Size([1, 64, 32, 32])\n",
      "Down: x.shape: torch.Size([1, 64, 64, 64]), emb.shape: torch.Size([1, 64, 64, 64])\n",
      "Down: x.shape: torch.Size([1, 128, 32, 32]), emb.shape: torch.Size([1, 128, 32, 32])\n",
      "Down: x.shape: torch.Size([1, 256, 16, 16]), emb.shape: torch.Size([1, 256, 16, 16])\n",
      "Down: x.shape: torch.Size([1, 256, 8, 8]), emb.shape: torch.Size([1, 256, 8, 8])\n",
      "Down: x.shape: torch.Size([1, 128, 16, 16]), emb.shape: torch.Size([1, 128, 16, 16])\n",
      "Down: x.shape: torch.Size([1, 64, 32, 32]), emb.shape: torch.Size([1, 64, 32, 32])\n",
      "Down: x.shape: torch.Size([1, 64, 64, 64]), emb.shape: torch.Size([1, 64, 64, 64])\n"
     ]
    },
    {
     "name": "stderr",
     "output_type": "stream",
     "text": [
      "151it [00:07, 21.93it/s]"
     ]
    },
    {
     "name": "stdout",
     "output_type": "stream",
     "text": [
      "Down: x.shape: torch.Size([1, 128, 32, 32]), emb.shape: torch.Size([1, 128, 32, 32])\n",
      "Down: x.shape: torch.Size([1, 256, 16, 16]), emb.shape: torch.Size([1, 256, 16, 16])\n",
      "Down: x.shape: torch.Size([1, 256, 8, 8]), emb.shape: torch.Size([1, 256, 8, 8])\n",
      "Down: x.shape: torch.Size([1, 128, 16, 16]), emb.shape: torch.Size([1, 128, 16, 16])\n",
      "Down: x.shape: torch.Size([1, 64, 32, 32]), emb.shape: torch.Size([1, 64, 32, 32])\n",
      "Down: x.shape: torch.Size([1, 64, 64, 64]), emb.shape: torch.Size([1, 64, 64, 64])\n",
      "Down: x.shape: torch.Size([1, 128, 32, 32]), emb.shape: torch.Size([1, 128, 32, 32])\n",
      "Down: x.shape: torch.Size([1, 256, 16, 16]), emb.shape: torch.Size([1, 256, 16, 16])\n",
      "Down: x.shape: torch.Size([1, 256, 8, 8]), emb.shape: torch.Size([1, 256, 8, 8])\n",
      "Down: x.shape: torch.Size([1, 128, 16, 16]), emb.shape: torch.Size([1, 128, 16, 16])\n",
      "Down: x.shape: torch.Size([1, 64, 32, 32]), emb.shape: torch.Size([1, 64, 32, 32])\n",
      "Down: x.shape: torch.Size([1, 64, 64, 64]), emb.shape: torch.Size([1, 64, 64, 64])\n",
      "Down: x.shape: torch.Size([1, 128, 32, 32]), emb.shape: torch.Size([1, 128, 32, 32])\n",
      "Down: x.shape: torch.Size([1, 256, 16, 16]), emb.shape: torch.Size([1, 256, 16, 16])\n",
      "Down: x.shape: torch.Size([1, 256, 8, 8]), emb.shape: torch.Size([1, 256, 8, 8])\n",
      "Down: x.shape: torch.Size([1, 128, 16, 16]), emb.shape: torch.Size([1, 128, 16, 16])\n",
      "Down: x.shape: torch.Size([1, 64, 32, 32]), emb.shape: torch.Size([1, 64, 32, 32])\n",
      "Down: x.shape: torch.Size([1, 64, 64, 64]), emb.shape: torch.Size([1, 64, 64, 64])\n",
      "Down: x.shape: torch.Size([1, 128, 32, 32]), emb.shape: torch.Size([1, 128, 32, 32])\n",
      "Down: x.shape: torch.Size([1, 256, 16, 16]), emb.shape: torch.Size([1, 256, 16, 16])\n",
      "Down: x.shape: torch.Size([1, 256, 8, 8]), emb.shape: torch.Size([1, 256, 8, 8])\n",
      "Down: x.shape: torch.Size([1, 128, 16, 16]), emb.shape: torch.Size([1, 128, 16, 16])\n",
      "Down: x.shape: torch.Size([1, 64, 32, 32]), emb.shape: torch.Size([1, 64, 32, 32])\n",
      "Down: x.shape: torch.Size([1, 64, 64, 64]), emb.shape: torch.Size([1, 64, 64, 64])\n"
     ]
    },
    {
     "name": "stderr",
     "output_type": "stream",
     "text": [
      "157it [00:07, 21.44it/s]"
     ]
    },
    {
     "name": "stdout",
     "output_type": "stream",
     "text": [
      "Down: x.shape: torch.Size([1, 128, 32, 32]), emb.shape: torch.Size([1, 128, 32, 32])\n",
      "Down: x.shape: torch.Size([1, 256, 16, 16]), emb.shape: torch.Size([1, 256, 16, 16])\n",
      "Down: x.shape: torch.Size([1, 256, 8, 8]), emb.shape: torch.Size([1, 256, 8, 8])\n",
      "Down: x.shape: torch.Size([1, 128, 16, 16]), emb.shape: torch.Size([1, 128, 16, 16])\n",
      "Down: x.shape: torch.Size([1, 64, 32, 32]), emb.shape: torch.Size([1, 64, 32, 32])\n",
      "Down: x.shape: torch.Size([1, 64, 64, 64]), emb.shape: torch.Size([1, 64, 64, 64])\n",
      "Down: x.shape: torch.Size([1, 128, 32, 32]), emb.shape: torch.Size([1, 128, 32, 32])\n",
      "Down: x.shape: torch.Size([1, 256, 16, 16]), emb.shape: torch.Size([1, 256, 16, 16])\n",
      "Down: x.shape: torch.Size([1, 256, 8, 8]), emb.shape: torch.Size([1, 256, 8, 8])\n",
      "Down: x.shape: torch.Size([1, 128, 16, 16]), emb.shape: torch.Size([1, 128, 16, 16])\n",
      "Down: x.shape: torch.Size([1, 64, 32, 32]), emb.shape: torch.Size([1, 64, 32, 32])\n",
      "Down: x.shape: torch.Size([1, 64, 64, 64]), emb.shape: torch.Size([1, 64, 64, 64])\n",
      "Down: x.shape: torch.Size([1, 128, 32, 32]), emb.shape: torch.Size([1, 128, 32, 32])\n",
      "Down: x.shape: torch.Size([1, 256, 16, 16]), emb.shape: torch.Size([1, 256, 16, 16])\n",
      "Down: x.shape: torch.Size([1, 256, 8, 8]), emb.shape: torch.Size([1, 256, 8, 8])\n",
      "Down: x.shape: torch.Size([1, 128, 16, 16]), emb.shape: torch.Size([1, 128, 16, 16])\n",
      "Down: x.shape: torch.Size([1, 64, 32, 32]), emb.shape: torch.Size([1, 64, 32, 32])\n",
      "Down: x.shape: torch.Size([1, 64, 64, 64]), emb.shape: torch.Size([1, 64, 64, 64])\n",
      "Down: x.shape: torch.Size([1, 128, 32, 32]), emb.shape: torch.Size([1, 128, 32, 32])\n",
      "Down: x.shape: torch.Size([1, 256, 16, 16]), emb.shape: torch.Size([1, 256, 16, 16])\n",
      "Down: x.shape: torch.Size([1, 256, 8, 8]), emb.shape: torch.Size([1, 256, 8, 8])\n",
      "Down: x.shape: torch.Size([1, 128, 16, 16]), emb.shape: torch.Size([1, 128, 16, 16])\n",
      "Down: x.shape: torch.Size([1, 64, 32, 32]), emb.shape: torch.Size([1, 64, 32, 32])\n",
      "Down: x.shape: torch.Size([1, 64, 64, 64]), emb.shape: torch.Size([1, 64, 64, 64])\n",
      "Down: x.shape: torch.Size([1, 128, 32, 32]), emb.shape: torch.Size([1, 128, 32, 32])\n",
      "Down: x.shape: torch.Size([1, 256, 16, 16]), emb.shape: torch.Size([1, 256, 16, 16])\n",
      "Down: x.shape: torch.Size([1, 256, 8, 8]), emb.shape: torch.Size([1, 256, 8, 8])\n",
      "Down: x.shape: torch.Size([1, 128, 16, 16]), emb.shape: torch.Size([1, 128, 16, 16])\n",
      "Down: x.shape: torch.Size([1, 64, 32, 32]), emb.shape: torch.Size([1, 64, 32, 32])\n",
      "Down: x.shape: torch.Size([1, 64, 64, 64]), emb.shape: torch.Size([1, 64, 64, 64])\n"
     ]
    },
    {
     "name": "stderr",
     "output_type": "stream",
     "text": [
      "163it [00:07, 21.67it/s]"
     ]
    },
    {
     "name": "stdout",
     "output_type": "stream",
     "text": [
      "Down: x.shape: torch.Size([1, 128, 32, 32]), emb.shape: torch.Size([1, 128, 32, 32])\n",
      "Down: x.shape: torch.Size([1, 256, 16, 16]), emb.shape: torch.Size([1, 256, 16, 16])\n",
      "Down: x.shape: torch.Size([1, 256, 8, 8]), emb.shape: torch.Size([1, 256, 8, 8])\n",
      "Down: x.shape: torch.Size([1, 128, 16, 16]), emb.shape: torch.Size([1, 128, 16, 16])\n",
      "Down: x.shape: torch.Size([1, 64, 32, 32]), emb.shape: torch.Size([1, 64, 32, 32])\n",
      "Down: x.shape: torch.Size([1, 64, 64, 64]), emb.shape: torch.Size([1, 64, 64, 64])\n",
      "Down: x.shape: torch.Size([1, 128, 32, 32]), emb.shape: torch.Size([1, 128, 32, 32])\n",
      "Down: x.shape: torch.Size([1, 256, 16, 16]), emb.shape: torch.Size([1, 256, 16, 16])\n",
      "Down: x.shape: torch.Size([1, 256, 8, 8]), emb.shape: torch.Size([1, 256, 8, 8])\n",
      "Down: x.shape: torch.Size([1, 128, 16, 16]), emb.shape: torch.Size([1, 128, 16, 16])\n",
      "Down: x.shape: torch.Size([1, 64, 32, 32]), emb.shape: torch.Size([1, 64, 32, 32])\n",
      "Down: x.shape: torch.Size([1, 64, 64, 64]), emb.shape: torch.Size([1, 64, 64, 64])\n",
      "Down: x.shape: torch.Size([1, 128, 32, 32]), emb.shape: torch.Size([1, 128, 32, 32])\n",
      "Down: x.shape: torch.Size([1, 256, 16, 16]), emb.shape: torch.Size([1, 256, 16, 16])\n",
      "Down: x.shape: torch.Size([1, 256, 8, 8]), emb.shape: torch.Size([1, 256, 8, 8])\n",
      "Down: x.shape: torch.Size([1, 128, 16, 16]), emb.shape: torch.Size([1, 128, 16, 16])\n",
      "Down: x.shape: torch.Size([1, 64, 32, 32]), emb.shape: torch.Size([1, 64, 32, 32])\n",
      "Down: x.shape: torch.Size([1, 64, 64, 64]), emb.shape: torch.Size([1, 64, 64, 64])\n",
      "Down: x.shape: torch.Size([1, 128, 32, 32]), emb.shape: torch.Size([1, 128, 32, 32])\n",
      "Down: x.shape: torch.Size([1, 256, 16, 16]), emb.shape: torch.Size([1, 256, 16, 16])\n",
      "Down: x.shape: torch.Size([1, 256, 8, 8]), emb.shape: torch.Size([1, 256, 8, 8])\n",
      "Down: x.shape: torch.Size([1, 128, 16, 16]), emb.shape: torch.Size([1, 128, 16, 16])\n",
      "Down: x.shape: torch.Size([1, 64, 32, 32]), emb.shape: torch.Size([1, 64, 32, 32])\n",
      "Down: x.shape: torch.Size([1, 64, 64, 64]), emb.shape: torch.Size([1, 64, 64, 64])\n",
      "Down: x.shape: torch.Size([1, 128, 32, 32]), emb.shape: torch.Size([1, 128, 32, 32])\n",
      "Down: x.shape: torch.Size([1, 256, 16, 16]), emb.shape: torch.Size([1, 256, 16, 16])\n",
      "Down: x.shape: torch.Size([1, 256, 8, 8]), emb.shape: torch.Size([1, 256, 8, 8])\n",
      "Down: x.shape: torch.Size([1, 128, 16, 16]), emb.shape: torch.Size([1, 128, 16, 16])\n",
      "Down: x.shape: torch.Size([1, 64, 32, 32]), emb.shape: torch.Size([1, 64, 32, 32])\n",
      "Down: x.shape: torch.Size([1, 64, 64, 64]), emb.shape: torch.Size([1, 64, 64, 64])\n"
     ]
    },
    {
     "name": "stderr",
     "output_type": "stream",
     "text": [
      "166it [00:08, 21.76it/s]"
     ]
    },
    {
     "name": "stdout",
     "output_type": "stream",
     "text": [
      "Down: x.shape: torch.Size([1, 128, 32, 32]), emb.shape: torch.Size([1, 128, 32, 32])\n",
      "Down: x.shape: torch.Size([1, 256, 16, 16]), emb.shape: torch.Size([1, 256, 16, 16])\n",
      "Down: x.shape: torch.Size([1, 256, 8, 8]), emb.shape: torch.Size([1, 256, 8, 8])\n",
      "Down: x.shape: torch.Size([1, 128, 16, 16]), emb.shape: torch.Size([1, 128, 16, 16])\n",
      "Down: x.shape: torch.Size([1, 64, 32, 32]), emb.shape: torch.Size([1, 64, 32, 32])\n",
      "Down: x.shape: torch.Size([1, 64, 64, 64]), emb.shape: torch.Size([1, 64, 64, 64])\n",
      "Down: x.shape: torch.Size([1, 128, 32, 32]), emb.shape: torch.Size([1, 128, 32, 32])\n",
      "Down: x.shape: torch.Size([1, 256, 16, 16]), emb.shape: torch.Size([1, 256, 16, 16])\n",
      "Down: x.shape: torch.Size([1, 256, 8, 8]), emb.shape: torch.Size([1, 256, 8, 8])\n",
      "Down: x.shape: torch.Size([1, 128, 16, 16]), emb.shape: torch.Size([1, 128, 16, 16])\n",
      "Down: x.shape: torch.Size([1, 64, 32, 32]), emb.shape: torch.Size([1, 64, 32, 32])\n",
      "Down: x.shape: torch.Size([1, 64, 64, 64]), emb.shape: torch.Size([1, 64, 64, 64])\n",
      "Down: x.shape: torch.Size([1, 128, 32, 32]), emb.shape: torch.Size([1, 128, 32, 32])\n",
      "Down: x.shape: torch.Size([1, 256, 16, 16]), emb.shape: torch.Size([1, 256, 16, 16])\n",
      "Down: x.shape: torch.Size([1, 256, 8, 8]), emb.shape: torch.Size([1, 256, 8, 8])\n",
      "Down: x.shape: torch.Size([1, 128, 16, 16]), emb.shape: torch.Size([1, 128, 16, 16])\n",
      "Down: x.shape: torch.Size([1, 64, 32, 32]), emb.shape: torch.Size([1, 64, 32, 32])\n",
      "Down: x.shape: torch.Size([1, 64, 64, 64]), emb.shape: torch.Size([1, 64, 64, 64])\n",
      "Down: x.shape: torch.Size([1, 128, 32, 32]), emb.shape: torch.Size([1, 128, 32, 32])\n",
      "Down: x.shape: torch.Size([1, 256, 16, 16]), emb.shape: torch.Size([1, 256, 16, 16])\n",
      "Down: x.shape: torch.Size([1, 256, 8, 8]), emb.shape: torch.Size([1, 256, 8, 8])\n",
      "Down: x.shape: torch.Size([1, 128, 16, 16]), emb.shape: torch.Size([1, 128, 16, 16])\n",
      "Down: x.shape: torch.Size([1, 64, 32, 32]), emb.shape: torch.Size([1, 64, 32, 32])\n",
      "Down: x.shape: torch.Size([1, 64, 64, 64]), emb.shape: torch.Size([1, 64, 64, 64])\n",
      "Down: x.shape: torch.Size([1, 128, 32, 32]), emb.shape: torch.Size([1, 128, 32, 32])\n",
      "Down: x.shape: torch.Size([1, 256, 16, 16]), emb.shape: torch.Size([1, 256, 16, 16])\n",
      "Down: x.shape: torch.Size([1, 256, 8, 8]), emb.shape: torch.Size([1, 256, 8, 8])\n",
      "Down: x.shape: torch.Size([1, 128, 16, 16]), emb.shape: torch.Size([1, 128, 16, 16])\n",
      "Down: x.shape: torch.Size([1, 64, 32, 32]), emb.shape: torch.Size([1, 64, 32, 32])\n",
      "Down: x.shape: torch.Size([1, 64, 64, 64]), emb.shape: torch.Size([1, 64, 64, 64])\n"
     ]
    },
    {
     "name": "stderr",
     "output_type": "stream",
     "text": [
      "172it [00:08, 21.79it/s]"
     ]
    },
    {
     "name": "stdout",
     "output_type": "stream",
     "text": [
      "Down: x.shape: torch.Size([1, 128, 32, 32]), emb.shape: torch.Size([1, 128, 32, 32])\n",
      "Down: x.shape: torch.Size([1, 256, 16, 16]), emb.shape: torch.Size([1, 256, 16, 16])\n",
      "Down: x.shape: torch.Size([1, 256, 8, 8]), emb.shape: torch.Size([1, 256, 8, 8])\n",
      "Down: x.shape: torch.Size([1, 128, 16, 16]), emb.shape: torch.Size([1, 128, 16, 16])\n",
      "Down: x.shape: torch.Size([1, 64, 32, 32]), emb.shape: torch.Size([1, 64, 32, 32])\n",
      "Down: x.shape: torch.Size([1, 64, 64, 64]), emb.shape: torch.Size([1, 64, 64, 64])\n",
      "Down: x.shape: torch.Size([1, 128, 32, 32]), emb.shape: torch.Size([1, 128, 32, 32])\n",
      "Down: x.shape: torch.Size([1, 256, 16, 16]), emb.shape: torch.Size([1, 256, 16, 16])\n",
      "Down: x.shape: torch.Size([1, 256, 8, 8]), emb.shape: torch.Size([1, 256, 8, 8])\n",
      "Down: x.shape: torch.Size([1, 128, 16, 16]), emb.shape: torch.Size([1, 128, 16, 16])\n",
      "Down: x.shape: torch.Size([1, 64, 32, 32]), emb.shape: torch.Size([1, 64, 32, 32])\n",
      "Down: x.shape: torch.Size([1, 64, 64, 64]), emb.shape: torch.Size([1, 64, 64, 64])\n",
      "Down: x.shape: torch.Size([1, 128, 32, 32]), emb.shape: torch.Size([1, 128, 32, 32])\n",
      "Down: x.shape: torch.Size([1, 256, 16, 16]), emb.shape: torch.Size([1, 256, 16, 16])\n",
      "Down: x.shape: torch.Size([1, 256, 8, 8]), emb.shape: torch.Size([1, 256, 8, 8])\n",
      "Down: x.shape: torch.Size([1, 128, 16, 16]), emb.shape: torch.Size([1, 128, 16, 16])\n",
      "Down: x.shape: torch.Size([1, 64, 32, 32]), emb.shape: torch.Size([1, 64, 32, 32])\n",
      "Down: x.shape: torch.Size([1, 64, 64, 64]), emb.shape: torch.Size([1, 64, 64, 64])\n",
      "Down: x.shape: torch.Size([1, 128, 32, 32]), emb.shape: torch.Size([1, 128, 32, 32])\n",
      "Down: x.shape: torch.Size([1, 256, 16, 16]), emb.shape: torch.Size([1, 256, 16, 16])\n",
      "Down: x.shape: torch.Size([1, 256, 8, 8]), emb.shape: torch.Size([1, 256, 8, 8])\n",
      "Down: x.shape: torch.Size([1, 128, 16, 16]), emb.shape: torch.Size([1, 128, 16, 16])\n",
      "Down: x.shape: torch.Size([1, 64, 32, 32]), emb.shape: torch.Size([1, 64, 32, 32])\n",
      "Down: x.shape: torch.Size([1, 64, 64, 64]), emb.shape: torch.Size([1, 64, 64, 64])\n",
      "Down: x.shape: torch.Size([1, 128, 32, 32]), emb.shape: torch.Size([1, 128, 32, 32])\n",
      "Down: x.shape: torch.Size([1, 256, 16, 16]), emb.shape: torch.Size([1, 256, 16, 16])\n",
      "Down: x.shape: torch.Size([1, 256, 8, 8]), emb.shape: torch.Size([1, 256, 8, 8])\n",
      "Down: x.shape: torch.Size([1, 128, 16, 16]), emb.shape: torch.Size([1, 128, 16, 16])\n",
      "Down: x.shape: torch.Size([1, 64, 32, 32]), emb.shape: torch.Size([1, 64, 32, 32])\n",
      "Down: x.shape: torch.Size([1, 64, 64, 64]), emb.shape: torch.Size([1, 64, 64, 64])\n"
     ]
    },
    {
     "name": "stderr",
     "output_type": "stream",
     "text": [
      "178it [00:08, 22.00it/s]"
     ]
    },
    {
     "name": "stdout",
     "output_type": "stream",
     "text": [
      "Down: x.shape: torch.Size([1, 128, 32, 32]), emb.shape: torch.Size([1, 128, 32, 32])\n",
      "Down: x.shape: torch.Size([1, 256, 16, 16]), emb.shape: torch.Size([1, 256, 16, 16])\n",
      "Down: x.shape: torch.Size([1, 256, 8, 8]), emb.shape: torch.Size([1, 256, 8, 8])\n",
      "Down: x.shape: torch.Size([1, 128, 16, 16]), emb.shape: torch.Size([1, 128, 16, 16])\n",
      "Down: x.shape: torch.Size([1, 64, 32, 32]), emb.shape: torch.Size([1, 64, 32, 32])\n",
      "Down: x.shape: torch.Size([1, 64, 64, 64]), emb.shape: torch.Size([1, 64, 64, 64])\n",
      "Down: x.shape: torch.Size([1, 128, 32, 32]), emb.shape: torch.Size([1, 128, 32, 32])\n",
      "Down: x.shape: torch.Size([1, 256, 16, 16]), emb.shape: torch.Size([1, 256, 16, 16])\n",
      "Down: x.shape: torch.Size([1, 256, 8, 8]), emb.shape: torch.Size([1, 256, 8, 8])\n",
      "Down: x.shape: torch.Size([1, 128, 16, 16]), emb.shape: torch.Size([1, 128, 16, 16])\n",
      "Down: x.shape: torch.Size([1, 64, 32, 32]), emb.shape: torch.Size([1, 64, 32, 32])\n",
      "Down: x.shape: torch.Size([1, 64, 64, 64]), emb.shape: torch.Size([1, 64, 64, 64])\n",
      "Down: x.shape: torch.Size([1, 128, 32, 32]), emb.shape: torch.Size([1, 128, 32, 32])\n",
      "Down: x.shape: torch.Size([1, 256, 16, 16]), emb.shape: torch.Size([1, 256, 16, 16])\n",
      "Down: x.shape: torch.Size([1, 256, 8, 8]), emb.shape: torch.Size([1, 256, 8, 8])\n",
      "Down: x.shape: torch.Size([1, 128, 16, 16]), emb.shape: torch.Size([1, 128, 16, 16])\n",
      "Down: x.shape: torch.Size([1, 64, 32, 32]), emb.shape: torch.Size([1, 64, 32, 32])\n",
      "Down: x.shape: torch.Size([1, 64, 64, 64]), emb.shape: torch.Size([1, 64, 64, 64])\n",
      "Down: x.shape: torch.Size([1, 128, 32, 32]), emb.shape: torch.Size([1, 128, 32, 32])\n",
      "Down: x.shape: torch.Size([1, 256, 16, 16]), emb.shape: torch.Size([1, 256, 16, 16])\n",
      "Down: x.shape: torch.Size([1, 256, 8, 8]), emb.shape: torch.Size([1, 256, 8, 8])\n",
      "Down: x.shape: torch.Size([1, 128, 16, 16]), emb.shape: torch.Size([1, 128, 16, 16])\n",
      "Down: x.shape: torch.Size([1, 64, 32, 32]), emb.shape: torch.Size([1, 64, 32, 32])\n",
      "Down: x.shape: torch.Size([1, 64, 64, 64]), emb.shape: torch.Size([1, 64, 64, 64])\n",
      "Down: x.shape: torch.Size([1, 128, 32, 32]), emb.shape: torch.Size([1, 128, 32, 32])\n",
      "Down: x.shape: torch.Size([1, 256, 16, 16]), emb.shape: torch.Size([1, 256, 16, 16])\n",
      "Down: x.shape: torch.Size([1, 256, 8, 8]), emb.shape: torch.Size([1, 256, 8, 8])\n",
      "Down: x.shape: torch.Size([1, 128, 16, 16]), emb.shape: torch.Size([1, 128, 16, 16])\n",
      "Down: x.shape: torch.Size([1, 64, 32, 32]), emb.shape: torch.Size([1, 64, 32, 32])\n",
      "Down: x.shape: torch.Size([1, 64, 64, 64]), emb.shape: torch.Size([1, 64, 64, 64])\n"
     ]
    },
    {
     "name": "stderr",
     "output_type": "stream",
     "text": [
      "181it [00:08, 21.91it/s]"
     ]
    },
    {
     "name": "stdout",
     "output_type": "stream",
     "text": [
      "Down: x.shape: torch.Size([1, 128, 32, 32]), emb.shape: torch.Size([1, 128, 32, 32])\n",
      "Down: x.shape: torch.Size([1, 256, 16, 16]), emb.shape: torch.Size([1, 256, 16, 16])\n",
      "Down: x.shape: torch.Size([1, 256, 8, 8]), emb.shape: torch.Size([1, 256, 8, 8])\n",
      "Down: x.shape: torch.Size([1, 128, 16, 16]), emb.shape: torch.Size([1, 128, 16, 16])\n",
      "Down: x.shape: torch.Size([1, 64, 32, 32]), emb.shape: torch.Size([1, 64, 32, 32])\n",
      "Down: x.shape: torch.Size([1, 64, 64, 64]), emb.shape: torch.Size([1, 64, 64, 64])\n",
      "Down: x.shape: torch.Size([1, 128, 32, 32]), emb.shape: torch.Size([1, 128, 32, 32])\n",
      "Down: x.shape: torch.Size([1, 256, 16, 16]), emb.shape: torch.Size([1, 256, 16, 16])\n",
      "Down: x.shape: torch.Size([1, 256, 8, 8]), emb.shape: torch.Size([1, 256, 8, 8])\n",
      "Down: x.shape: torch.Size([1, 128, 16, 16]), emb.shape: torch.Size([1, 128, 16, 16])\n",
      "Down: x.shape: torch.Size([1, 64, 32, 32]), emb.shape: torch.Size([1, 64, 32, 32])\n",
      "Down: x.shape: torch.Size([1, 64, 64, 64]), emb.shape: torch.Size([1, 64, 64, 64])\n",
      "Down: x.shape: torch.Size([1, 128, 32, 32]), emb.shape: torch.Size([1, 128, 32, 32])\n",
      "Down: x.shape: torch.Size([1, 256, 16, 16]), emb.shape: torch.Size([1, 256, 16, 16])\n",
      "Down: x.shape: torch.Size([1, 256, 8, 8]), emb.shape: torch.Size([1, 256, 8, 8])\n",
      "Down: x.shape: torch.Size([1, 128, 16, 16]), emb.shape: torch.Size([1, 128, 16, 16])\n",
      "Down: x.shape: torch.Size([1, 64, 32, 32]), emb.shape: torch.Size([1, 64, 32, 32])\n",
      "Down: x.shape: torch.Size([1, 64, 64, 64]), emb.shape: torch.Size([1, 64, 64, 64])\n",
      "Down: x.shape: torch.Size([1, 128, 32, 32]), emb.shape: torch.Size([1, 128, 32, 32])\n",
      "Down: x.shape: torch.Size([1, 256, 16, 16]), emb.shape: torch.Size([1, 256, 16, 16])\n",
      "Down: x.shape: torch.Size([1, 256, 8, 8]), emb.shape: torch.Size([1, 256, 8, 8])\n",
      "Down: x.shape: torch.Size([1, 128, 16, 16]), emb.shape: torch.Size([1, 128, 16, 16])\n",
      "Down: x.shape: torch.Size([1, 64, 32, 32]), emb.shape: torch.Size([1, 64, 32, 32])\n",
      "Down: x.shape: torch.Size([1, 64, 64, 64]), emb.shape: torch.Size([1, 64, 64, 64])\n",
      "Down: x.shape: torch.Size([1, 128, 32, 32]), emb.shape: torch.Size([1, 128, 32, 32])\n",
      "Down: x.shape: torch.Size([1, 256, 16, 16]), emb.shape: torch.Size([1, 256, 16, 16])\n",
      "Down: x.shape: torch.Size([1, 256, 8, 8]), emb.shape: torch.Size([1, 256, 8, 8])\n",
      "Down: x.shape: torch.Size([1, 128, 16, 16]), emb.shape: torch.Size([1, 128, 16, 16])\n",
      "Down: x.shape: torch.Size([1, 64, 32, 32]), emb.shape: torch.Size([1, 64, 32, 32])\n",
      "Down: x.shape: torch.Size([1, 64, 64, 64]), emb.shape: torch.Size([1, 64, 64, 64])\n"
     ]
    },
    {
     "name": "stderr",
     "output_type": "stream",
     "text": [
      "187it [00:08, 21.75it/s]"
     ]
    },
    {
     "name": "stdout",
     "output_type": "stream",
     "text": [
      "Down: x.shape: torch.Size([1, 128, 32, 32]), emb.shape: torch.Size([1, 128, 32, 32])\n",
      "Down: x.shape: torch.Size([1, 256, 16, 16]), emb.shape: torch.Size([1, 256, 16, 16])\n",
      "Down: x.shape: torch.Size([1, 256, 8, 8]), emb.shape: torch.Size([1, 256, 8, 8])\n",
      "Down: x.shape: torch.Size([1, 128, 16, 16]), emb.shape: torch.Size([1, 128, 16, 16])\n",
      "Down: x.shape: torch.Size([1, 64, 32, 32]), emb.shape: torch.Size([1, 64, 32, 32])\n",
      "Down: x.shape: torch.Size([1, 64, 64, 64]), emb.shape: torch.Size([1, 64, 64, 64])\n",
      "Down: x.shape: torch.Size([1, 128, 32, 32]), emb.shape: torch.Size([1, 128, 32, 32])\n",
      "Down: x.shape: torch.Size([1, 256, 16, 16]), emb.shape: torch.Size([1, 256, 16, 16])\n",
      "Down: x.shape: torch.Size([1, 256, 8, 8]), emb.shape: torch.Size([1, 256, 8, 8])\n",
      "Down: x.shape: torch.Size([1, 128, 16, 16]), emb.shape: torch.Size([1, 128, 16, 16])\n",
      "Down: x.shape: torch.Size([1, 64, 32, 32]), emb.shape: torch.Size([1, 64, 32, 32])\n",
      "Down: x.shape: torch.Size([1, 64, 64, 64]), emb.shape: torch.Size([1, 64, 64, 64])\n",
      "Down: x.shape: torch.Size([1, 128, 32, 32]), emb.shape: torch.Size([1, 128, 32, 32])\n",
      "Down: x.shape: torch.Size([1, 256, 16, 16]), emb.shape: torch.Size([1, 256, 16, 16])\n",
      "Down: x.shape: torch.Size([1, 256, 8, 8]), emb.shape: torch.Size([1, 256, 8, 8])\n",
      "Down: x.shape: torch.Size([1, 128, 16, 16]), emb.shape: torch.Size([1, 128, 16, 16])\n",
      "Down: x.shape: torch.Size([1, 64, 32, 32]), emb.shape: torch.Size([1, 64, 32, 32])\n",
      "Down: x.shape: torch.Size([1, 64, 64, 64]), emb.shape: torch.Size([1, 64, 64, 64])\n",
      "Down: x.shape: torch.Size([1, 128, 32, 32]), emb.shape: torch.Size([1, 128, 32, 32])\n",
      "Down: x.shape: torch.Size([1, 256, 16, 16]), emb.shape: torch.Size([1, 256, 16, 16])\n",
      "Down: x.shape: torch.Size([1, 256, 8, 8]), emb.shape: torch.Size([1, 256, 8, 8])\n",
      "Down: x.shape: torch.Size([1, 128, 16, 16]), emb.shape: torch.Size([1, 128, 16, 16])\n",
      "Down: x.shape: torch.Size([1, 64, 32, 32]), emb.shape: torch.Size([1, 64, 32, 32])\n",
      "Down: x.shape: torch.Size([1, 64, 64, 64]), emb.shape: torch.Size([1, 64, 64, 64])\n",
      "Down: x.shape: torch.Size([1, 128, 32, 32]), emb.shape: torch.Size([1, 128, 32, 32])\n",
      "Down: x.shape: torch.Size([1, 256, 16, 16]), emb.shape: torch.Size([1, 256, 16, 16])\n",
      "Down: x.shape: torch.Size([1, 256, 8, 8]), emb.shape: torch.Size([1, 256, 8, 8])\n"
     ]
    },
    {
     "name": "stderr",
     "output_type": "stream",
     "text": [
      "190it [00:09, 21.72it/s]"
     ]
    },
    {
     "name": "stdout",
     "output_type": "stream",
     "text": [
      "Down: x.shape: torch.Size([1, 128, 16, 16]), emb.shape: torch.Size([1, 128, 16, 16])\n",
      "Down: x.shape: torch.Size([1, 64, 32, 32]), emb.shape: torch.Size([1, 64, 32, 32])\n",
      "Down: x.shape: torch.Size([1, 64, 64, 64]), emb.shape: torch.Size([1, 64, 64, 64])\n",
      "Down: x.shape: torch.Size([1, 128, 32, 32]), emb.shape: torch.Size([1, 128, 32, 32])\n",
      "Down: x.shape: torch.Size([1, 256, 16, 16]), emb.shape: torch.Size([1, 256, 16, 16])\n",
      "Down: x.shape: torch.Size([1, 256, 8, 8]), emb.shape: torch.Size([1, 256, 8, 8])\n",
      "Down: x.shape: torch.Size([1, 128, 16, 16]), emb.shape: torch.Size([1, 128, 16, 16])\n",
      "Down: x.shape: torch.Size([1, 64, 32, 32]), emb.shape: torch.Size([1, 64, 32, 32])\n",
      "Down: x.shape: torch.Size([1, 64, 64, 64]), emb.shape: torch.Size([1, 64, 64, 64])\n",
      "Down: x.shape: torch.Size([1, 128, 32, 32]), emb.shape: torch.Size([1, 128, 32, 32])\n",
      "Down: x.shape: torch.Size([1, 256, 16, 16]), emb.shape: torch.Size([1, 256, 16, 16])\n",
      "Down: x.shape: torch.Size([1, 256, 8, 8]), emb.shape: torch.Size([1, 256, 8, 8])\n",
      "Down: x.shape: torch.Size([1, 128, 16, 16]), emb.shape: torch.Size([1, 128, 16, 16])\n",
      "Down: x.shape: torch.Size([1, 64, 32, 32]), emb.shape: torch.Size([1, 64, 32, 32])\n",
      "Down: x.shape: torch.Size([1, 64, 64, 64]), emb.shape: torch.Size([1, 64, 64, 64])\n",
      "Down: x.shape: torch.Size([1, 128, 32, 32]), emb.shape: torch.Size([1, 128, 32, 32])\n",
      "Down: x.shape: torch.Size([1, 256, 16, 16]), emb.shape: torch.Size([1, 256, 16, 16])\n",
      "Down: x.shape: torch.Size([1, 256, 8, 8]), emb.shape: torch.Size([1, 256, 8, 8])\n",
      "Down: x.shape: torch.Size([1, 128, 16, 16]), emb.shape: torch.Size([1, 128, 16, 16])\n",
      "Down: x.shape: torch.Size([1, 64, 32, 32]), emb.shape: torch.Size([1, 64, 32, 32])\n",
      "Down: x.shape: torch.Size([1, 64, 64, 64]), emb.shape: torch.Size([1, 64, 64, 64])\n",
      "Down: x.shape: torch.Size([1, 128, 32, 32]), emb.shape: torch.Size([1, 128, 32, 32])\n",
      "Down: x.shape: torch.Size([1, 256, 16, 16]), emb.shape: torch.Size([1, 256, 16, 16])\n",
      "Down: x.shape: torch.Size([1, 256, 8, 8]), emb.shape: torch.Size([1, 256, 8, 8])\n",
      "Down: x.shape: torch.Size([1, 128, 16, 16]), emb.shape: torch.Size([1, 128, 16, 16])\n",
      "Down: x.shape: torch.Size([1, 64, 32, 32]), emb.shape: torch.Size([1, 64, 32, 32])\n",
      "Down: x.shape: torch.Size([1, 64, 64, 64]), emb.shape: torch.Size([1, 64, 64, 64])\n"
     ]
    },
    {
     "name": "stderr",
     "output_type": "stream",
     "text": [
      "196it [00:09, 21.95it/s]"
     ]
    },
    {
     "name": "stdout",
     "output_type": "stream",
     "text": [
      "Down: x.shape: torch.Size([1, 128, 32, 32]), emb.shape: torch.Size([1, 128, 32, 32])\n",
      "Down: x.shape: torch.Size([1, 256, 16, 16]), emb.shape: torch.Size([1, 256, 16, 16])\n",
      "Down: x.shape: torch.Size([1, 256, 8, 8]), emb.shape: torch.Size([1, 256, 8, 8])\n",
      "Down: x.shape: torch.Size([1, 128, 16, 16]), emb.shape: torch.Size([1, 128, 16, 16])\n",
      "Down: x.shape: torch.Size([1, 64, 32, 32]), emb.shape: torch.Size([1, 64, 32, 32])\n",
      "Down: x.shape: torch.Size([1, 64, 64, 64]), emb.shape: torch.Size([1, 64, 64, 64])\n",
      "Down: x.shape: torch.Size([1, 128, 32, 32]), emb.shape: torch.Size([1, 128, 32, 32])\n",
      "Down: x.shape: torch.Size([1, 256, 16, 16]), emb.shape: torch.Size([1, 256, 16, 16])\n",
      "Down: x.shape: torch.Size([1, 256, 8, 8]), emb.shape: torch.Size([1, 256, 8, 8])\n",
      "Down: x.shape: torch.Size([1, 128, 16, 16]), emb.shape: torch.Size([1, 128, 16, 16])\n",
      "Down: x.shape: torch.Size([1, 64, 32, 32]), emb.shape: torch.Size([1, 64, 32, 32])\n",
      "Down: x.shape: torch.Size([1, 64, 64, 64]), emb.shape: torch.Size([1, 64, 64, 64])\n",
      "Down: x.shape: torch.Size([1, 128, 32, 32]), emb.shape: torch.Size([1, 128, 32, 32])\n",
      "Down: x.shape: torch.Size([1, 256, 16, 16]), emb.shape: torch.Size([1, 256, 16, 16])\n",
      "Down: x.shape: torch.Size([1, 256, 8, 8]), emb.shape: torch.Size([1, 256, 8, 8])\n",
      "Down: x.shape: torch.Size([1, 128, 16, 16]), emb.shape: torch.Size([1, 128, 16, 16])\n",
      "Down: x.shape: torch.Size([1, 64, 32, 32]), emb.shape: torch.Size([1, 64, 32, 32])\n",
      "Down: x.shape: torch.Size([1, 64, 64, 64]), emb.shape: torch.Size([1, 64, 64, 64])\n",
      "Down: x.shape: torch.Size([1, 128, 32, 32]), emb.shape: torch.Size([1, 128, 32, 32])\n",
      "Down: x.shape: torch.Size([1, 256, 16, 16]), emb.shape: torch.Size([1, 256, 16, 16])\n",
      "Down: x.shape: torch.Size([1, 256, 8, 8]), emb.shape: torch.Size([1, 256, 8, 8])\n",
      "Down: x.shape: torch.Size([1, 128, 16, 16]), emb.shape: torch.Size([1, 128, 16, 16])\n",
      "Down: x.shape: torch.Size([1, 64, 32, 32]), emb.shape: torch.Size([1, 64, 32, 32])\n",
      "Down: x.shape: torch.Size([1, 64, 64, 64]), emb.shape: torch.Size([1, 64, 64, 64])\n",
      "Down: x.shape: torch.Size([1, 128, 32, 32]), emb.shape: torch.Size([1, 128, 32, 32])\n",
      "Down: x.shape: torch.Size([1, 256, 16, 16]), emb.shape: torch.Size([1, 256, 16, 16])\n",
      "Down: x.shape: torch.Size([1, 256, 8, 8]), emb.shape: torch.Size([1, 256, 8, 8])\n",
      "Down: x.shape: torch.Size([1, 128, 16, 16]), emb.shape: torch.Size([1, 128, 16, 16])\n",
      "Down: x.shape: torch.Size([1, 64, 32, 32]), emb.shape: torch.Size([1, 64, 32, 32])\n",
      "Down: x.shape: torch.Size([1, 64, 64, 64]), emb.shape: torch.Size([1, 64, 64, 64])\n"
     ]
    },
    {
     "name": "stderr",
     "output_type": "stream",
     "text": [
      "202it [00:09, 21.99it/s]"
     ]
    },
    {
     "name": "stdout",
     "output_type": "stream",
     "text": [
      "Down: x.shape: torch.Size([1, 128, 32, 32]), emb.shape: torch.Size([1, 128, 32, 32])\n",
      "Down: x.shape: torch.Size([1, 256, 16, 16]), emb.shape: torch.Size([1, 256, 16, 16])\n",
      "Down: x.shape: torch.Size([1, 256, 8, 8]), emb.shape: torch.Size([1, 256, 8, 8])\n",
      "Down: x.shape: torch.Size([1, 128, 16, 16]), emb.shape: torch.Size([1, 128, 16, 16])\n",
      "Down: x.shape: torch.Size([1, 64, 32, 32]), emb.shape: torch.Size([1, 64, 32, 32])\n",
      "Down: x.shape: torch.Size([1, 64, 64, 64]), emb.shape: torch.Size([1, 64, 64, 64])\n",
      "Down: x.shape: torch.Size([1, 128, 32, 32]), emb.shape: torch.Size([1, 128, 32, 32])\n",
      "Down: x.shape: torch.Size([1, 256, 16, 16]), emb.shape: torch.Size([1, 256, 16, 16])\n",
      "Down: x.shape: torch.Size([1, 256, 8, 8]), emb.shape: torch.Size([1, 256, 8, 8])\n",
      "Down: x.shape: torch.Size([1, 128, 16, 16]), emb.shape: torch.Size([1, 128, 16, 16])\n",
      "Down: x.shape: torch.Size([1, 64, 32, 32]), emb.shape: torch.Size([1, 64, 32, 32])\n",
      "Down: x.shape: torch.Size([1, 64, 64, 64]), emb.shape: torch.Size([1, 64, 64, 64])\n",
      "Down: x.shape: torch.Size([1, 128, 32, 32]), emb.shape: torch.Size([1, 128, 32, 32])\n",
      "Down: x.shape: torch.Size([1, 256, 16, 16]), emb.shape: torch.Size([1, 256, 16, 16])\n",
      "Down: x.shape: torch.Size([1, 256, 8, 8]), emb.shape: torch.Size([1, 256, 8, 8])\n",
      "Down: x.shape: torch.Size([1, 128, 16, 16]), emb.shape: torch.Size([1, 128, 16, 16])\n",
      "Down: x.shape: torch.Size([1, 64, 32, 32]), emb.shape: torch.Size([1, 64, 32, 32])\n",
      "Down: x.shape: torch.Size([1, 64, 64, 64]), emb.shape: torch.Size([1, 64, 64, 64])\n",
      "Down: x.shape: torch.Size([1, 128, 32, 32]), emb.shape: torch.Size([1, 128, 32, 32])\n",
      "Down: x.shape: torch.Size([1, 256, 16, 16]), emb.shape: torch.Size([1, 256, 16, 16])\n",
      "Down: x.shape: torch.Size([1, 256, 8, 8]), emb.shape: torch.Size([1, 256, 8, 8])\n",
      "Down: x.shape: torch.Size([1, 128, 16, 16]), emb.shape: torch.Size([1, 128, 16, 16])\n",
      "Down: x.shape: torch.Size([1, 64, 32, 32]), emb.shape: torch.Size([1, 64, 32, 32])\n",
      "Down: x.shape: torch.Size([1, 64, 64, 64]), emb.shape: torch.Size([1, 64, 64, 64])\n",
      "Down: x.shape: torch.Size([1, 128, 32, 32]), emb.shape: torch.Size([1, 128, 32, 32])\n",
      "Down: x.shape: torch.Size([1, 256, 16, 16]), emb.shape: torch.Size([1, 256, 16, 16])\n",
      "Down: x.shape: torch.Size([1, 256, 8, 8]), emb.shape: torch.Size([1, 256, 8, 8])\n",
      "Down: x.shape: torch.Size([1, 128, 16, 16]), emb.shape: torch.Size([1, 128, 16, 16])\n",
      "Down: x.shape: torch.Size([1, 64, 32, 32]), emb.shape: torch.Size([1, 64, 32, 32])\n",
      "Down: x.shape: torch.Size([1, 64, 64, 64]), emb.shape: torch.Size([1, 64, 64, 64])\n"
     ]
    },
    {
     "name": "stderr",
     "output_type": "stream",
     "text": [
      "205it [00:09, 21.85it/s]"
     ]
    },
    {
     "name": "stdout",
     "output_type": "stream",
     "text": [
      "Down: x.shape: torch.Size([1, 128, 32, 32]), emb.shape: torch.Size([1, 128, 32, 32])\n",
      "Down: x.shape: torch.Size([1, 256, 16, 16]), emb.shape: torch.Size([1, 256, 16, 16])\n",
      "Down: x.shape: torch.Size([1, 256, 8, 8]), emb.shape: torch.Size([1, 256, 8, 8])\n",
      "Down: x.shape: torch.Size([1, 128, 16, 16]), emb.shape: torch.Size([1, 128, 16, 16])\n",
      "Down: x.shape: torch.Size([1, 64, 32, 32]), emb.shape: torch.Size([1, 64, 32, 32])\n",
      "Down: x.shape: torch.Size([1, 64, 64, 64]), emb.shape: torch.Size([1, 64, 64, 64])\n",
      "Down: x.shape: torch.Size([1, 128, 32, 32]), emb.shape: torch.Size([1, 128, 32, 32])\n",
      "Down: x.shape: torch.Size([1, 256, 16, 16]), emb.shape: torch.Size([1, 256, 16, 16])\n",
      "Down: x.shape: torch.Size([1, 256, 8, 8]), emb.shape: torch.Size([1, 256, 8, 8])\n",
      "Down: x.shape: torch.Size([1, 128, 16, 16]), emb.shape: torch.Size([1, 128, 16, 16])\n",
      "Down: x.shape: torch.Size([1, 64, 32, 32]), emb.shape: torch.Size([1, 64, 32, 32])\n",
      "Down: x.shape: torch.Size([1, 64, 64, 64]), emb.shape: torch.Size([1, 64, 64, 64])\n",
      "Down: x.shape: torch.Size([1, 128, 32, 32]), emb.shape: torch.Size([1, 128, 32, 32])\n",
      "Down: x.shape: torch.Size([1, 256, 16, 16]), emb.shape: torch.Size([1, 256, 16, 16])\n",
      "Down: x.shape: torch.Size([1, 256, 8, 8]), emb.shape: torch.Size([1, 256, 8, 8])\n",
      "Down: x.shape: torch.Size([1, 128, 16, 16]), emb.shape: torch.Size([1, 128, 16, 16])\n",
      "Down: x.shape: torch.Size([1, 64, 32, 32]), emb.shape: torch.Size([1, 64, 32, 32])\n",
      "Down: x.shape: torch.Size([1, 64, 64, 64]), emb.shape: torch.Size([1, 64, 64, 64])\n",
      "Down: x.shape: torch.Size([1, 128, 32, 32]), emb.shape: torch.Size([1, 128, 32, 32])\n",
      "Down: x.shape: torch.Size([1, 256, 16, 16]), emb.shape: torch.Size([1, 256, 16, 16])\n",
      "Down: x.shape: torch.Size([1, 256, 8, 8]), emb.shape: torch.Size([1, 256, 8, 8])\n",
      "Down: x.shape: torch.Size([1, 128, 16, 16]), emb.shape: torch.Size([1, 128, 16, 16])\n",
      "Down: x.shape: torch.Size([1, 64, 32, 32]), emb.shape: torch.Size([1, 64, 32, 32])\n",
      "Down: x.shape: torch.Size([1, 64, 64, 64]), emb.shape: torch.Size([1, 64, 64, 64])\n",
      "Down: x.shape: torch.Size([1, 128, 32, 32]), emb.shape: torch.Size([1, 128, 32, 32])\n",
      "Down: x.shape: torch.Size([1, 256, 16, 16]), emb.shape: torch.Size([1, 256, 16, 16])\n",
      "Down: x.shape: torch.Size([1, 256, 8, 8]), emb.shape: torch.Size([1, 256, 8, 8])\n",
      "Down: x.shape: torch.Size([1, 128, 16, 16]), emb.shape: torch.Size([1, 128, 16, 16])\n",
      "Down: x.shape: torch.Size([1, 64, 32, 32]), emb.shape: torch.Size([1, 64, 32, 32])\n",
      "Down: x.shape: torch.Size([1, 64, 64, 64]), emb.shape: torch.Size([1, 64, 64, 64])\n"
     ]
    },
    {
     "name": "stderr",
     "output_type": "stream",
     "text": [
      "211it [00:10, 21.81it/s]"
     ]
    },
    {
     "name": "stdout",
     "output_type": "stream",
     "text": [
      "Down: x.shape: torch.Size([1, 128, 32, 32]), emb.shape: torch.Size([1, 128, 32, 32])\n",
      "Down: x.shape: torch.Size([1, 256, 16, 16]), emb.shape: torch.Size([1, 256, 16, 16])\n",
      "Down: x.shape: torch.Size([1, 256, 8, 8]), emb.shape: torch.Size([1, 256, 8, 8])\n",
      "Down: x.shape: torch.Size([1, 128, 16, 16]), emb.shape: torch.Size([1, 128, 16, 16])\n",
      "Down: x.shape: torch.Size([1, 64, 32, 32]), emb.shape: torch.Size([1, 64, 32, 32])\n",
      "Down: x.shape: torch.Size([1, 64, 64, 64]), emb.shape: torch.Size([1, 64, 64, 64])\n",
      "Down: x.shape: torch.Size([1, 128, 32, 32]), emb.shape: torch.Size([1, 128, 32, 32])\n",
      "Down: x.shape: torch.Size([1, 256, 16, 16]), emb.shape: torch.Size([1, 256, 16, 16])\n",
      "Down: x.shape: torch.Size([1, 256, 8, 8]), emb.shape: torch.Size([1, 256, 8, 8])\n",
      "Down: x.shape: torch.Size([1, 128, 16, 16]), emb.shape: torch.Size([1, 128, 16, 16])\n",
      "Down: x.shape: torch.Size([1, 64, 32, 32]), emb.shape: torch.Size([1, 64, 32, 32])\n",
      "Down: x.shape: torch.Size([1, 64, 64, 64]), emb.shape: torch.Size([1, 64, 64, 64])\n",
      "Down: x.shape: torch.Size([1, 128, 32, 32]), emb.shape: torch.Size([1, 128, 32, 32])\n",
      "Down: x.shape: torch.Size([1, 256, 16, 16]), emb.shape: torch.Size([1, 256, 16, 16])\n",
      "Down: x.shape: torch.Size([1, 256, 8, 8]), emb.shape: torch.Size([1, 256, 8, 8])\n",
      "Down: x.shape: torch.Size([1, 128, 16, 16]), emb.shape: torch.Size([1, 128, 16, 16])\n",
      "Down: x.shape: torch.Size([1, 64, 32, 32]), emb.shape: torch.Size([1, 64, 32, 32])\n",
      "Down: x.shape: torch.Size([1, 64, 64, 64]), emb.shape: torch.Size([1, 64, 64, 64])\n",
      "Down: x.shape: torch.Size([1, 128, 32, 32]), emb.shape: torch.Size([1, 128, 32, 32])\n",
      "Down: x.shape: torch.Size([1, 256, 16, 16]), emb.shape: torch.Size([1, 256, 16, 16])\n",
      "Down: x.shape: torch.Size([1, 256, 8, 8]), emb.shape: torch.Size([1, 256, 8, 8])\n",
      "Down: x.shape: torch.Size([1, 128, 16, 16]), emb.shape: torch.Size([1, 128, 16, 16])\n",
      "Down: x.shape: torch.Size([1, 64, 32, 32]), emb.shape: torch.Size([1, 64, 32, 32])\n",
      "Down: x.shape: torch.Size([1, 64, 64, 64]), emb.shape: torch.Size([1, 64, 64, 64])\n",
      "Down: x.shape: torch.Size([1, 128, 32, 32]), emb.shape: torch.Size([1, 128, 32, 32])\n",
      "Down: x.shape: torch.Size([1, 256, 16, 16]), emb.shape: torch.Size([1, 256, 16, 16])\n",
      "Down: x.shape: torch.Size([1, 256, 8, 8]), emb.shape: torch.Size([1, 256, 8, 8])\n",
      "Down: x.shape: torch.Size([1, 128, 16, 16]), emb.shape: torch.Size([1, 128, 16, 16])\n",
      "Down: x.shape: torch.Size([1, 64, 32, 32]), emb.shape: torch.Size([1, 64, 32, 32])\n",
      "Down: x.shape: torch.Size([1, 64, 64, 64]), emb.shape: torch.Size([1, 64, 64, 64])\n"
     ]
    },
    {
     "name": "stderr",
     "output_type": "stream",
     "text": [
      "214it [00:10, 21.77it/s]"
     ]
    },
    {
     "name": "stdout",
     "output_type": "stream",
     "text": [
      "Down: x.shape: torch.Size([1, 128, 32, 32]), emb.shape: torch.Size([1, 128, 32, 32])\n",
      "Down: x.shape: torch.Size([1, 256, 16, 16]), emb.shape: torch.Size([1, 256, 16, 16])\n",
      "Down: x.shape: torch.Size([1, 256, 8, 8]), emb.shape: torch.Size([1, 256, 8, 8])\n",
      "Down: x.shape: torch.Size([1, 128, 16, 16]), emb.shape: torch.Size([1, 128, 16, 16])\n",
      "Down: x.shape: torch.Size([1, 64, 32, 32]), emb.shape: torch.Size([1, 64, 32, 32])\n",
      "Down: x.shape: torch.Size([1, 64, 64, 64]), emb.shape: torch.Size([1, 64, 64, 64])\n",
      "Down: x.shape: torch.Size([1, 128, 32, 32]), emb.shape: torch.Size([1, 128, 32, 32])\n",
      "Down: x.shape: torch.Size([1, 256, 16, 16]), emb.shape: torch.Size([1, 256, 16, 16])\n",
      "Down: x.shape: torch.Size([1, 256, 8, 8]), emb.shape: torch.Size([1, 256, 8, 8])\n",
      "Down: x.shape: torch.Size([1, 128, 16, 16]), emb.shape: torch.Size([1, 128, 16, 16])\n",
      "Down: x.shape: torch.Size([1, 64, 32, 32]), emb.shape: torch.Size([1, 64, 32, 32])\n",
      "Down: x.shape: torch.Size([1, 64, 64, 64]), emb.shape: torch.Size([1, 64, 64, 64])\n",
      "Down: x.shape: torch.Size([1, 128, 32, 32]), emb.shape: torch.Size([1, 128, 32, 32])\n",
      "Down: x.shape: torch.Size([1, 256, 16, 16]), emb.shape: torch.Size([1, 256, 16, 16])\n",
      "Down: x.shape: torch.Size([1, 256, 8, 8]), emb.shape: torch.Size([1, 256, 8, 8])\n",
      "Down: x.shape: torch.Size([1, 128, 16, 16]), emb.shape: torch.Size([1, 128, 16, 16])\n",
      "Down: x.shape: torch.Size([1, 64, 32, 32]), emb.shape: torch.Size([1, 64, 32, 32])\n",
      "Down: x.shape: torch.Size([1, 64, 64, 64]), emb.shape: torch.Size([1, 64, 64, 64])\n",
      "Down: x.shape: torch.Size([1, 128, 32, 32]), emb.shape: torch.Size([1, 128, 32, 32])\n",
      "Down: x.shape: torch.Size([1, 256, 16, 16]), emb.shape: torch.Size([1, 256, 16, 16])\n",
      "Down: x.shape: torch.Size([1, 256, 8, 8]), emb.shape: torch.Size([1, 256, 8, 8])\n",
      "Down: x.shape: torch.Size([1, 128, 16, 16]), emb.shape: torch.Size([1, 128, 16, 16])\n",
      "Down: x.shape: torch.Size([1, 64, 32, 32]), emb.shape: torch.Size([1, 64, 32, 32])\n",
      "Down: x.shape: torch.Size([1, 64, 64, 64]), emb.shape: torch.Size([1, 64, 64, 64])\n",
      "Down: x.shape: torch.Size([1, 128, 32, 32]), emb.shape: torch.Size([1, 128, 32, 32])\n",
      "Down: x.shape: torch.Size([1, 256, 16, 16]), emb.shape: torch.Size([1, 256, 16, 16])\n",
      "Down: x.shape: torch.Size([1, 256, 8, 8]), emb.shape: torch.Size([1, 256, 8, 8])\n",
      "Down: x.shape: torch.Size([1, 128, 16, 16]), emb.shape: torch.Size([1, 128, 16, 16])\n",
      "Down: x.shape: torch.Size([1, 64, 32, 32]), emb.shape: torch.Size([1, 64, 32, 32])\n"
     ]
    },
    {
     "name": "stderr",
     "output_type": "stream",
     "text": [
      "220it [00:10, 21.46it/s]"
     ]
    },
    {
     "name": "stdout",
     "output_type": "stream",
     "text": [
      "Down: x.shape: torch.Size([1, 64, 64, 64]), emb.shape: torch.Size([1, 64, 64, 64])\n",
      "Down: x.shape: torch.Size([1, 128, 32, 32]), emb.shape: torch.Size([1, 128, 32, 32])\n",
      "Down: x.shape: torch.Size([1, 256, 16, 16]), emb.shape: torch.Size([1, 256, 16, 16])\n",
      "Down: x.shape: torch.Size([1, 256, 8, 8]), emb.shape: torch.Size([1, 256, 8, 8])\n",
      "Down: x.shape: torch.Size([1, 128, 16, 16]), emb.shape: torch.Size([1, 128, 16, 16])\n",
      "Down: x.shape: torch.Size([1, 64, 32, 32]), emb.shape: torch.Size([1, 64, 32, 32])\n",
      "Down: x.shape: torch.Size([1, 64, 64, 64]), emb.shape: torch.Size([1, 64, 64, 64])\n",
      "Down: x.shape: torch.Size([1, 128, 32, 32]), emb.shape: torch.Size([1, 128, 32, 32])\n",
      "Down: x.shape: torch.Size([1, 256, 16, 16]), emb.shape: torch.Size([1, 256, 16, 16])\n",
      "Down: x.shape: torch.Size([1, 256, 8, 8]), emb.shape: torch.Size([1, 256, 8, 8])\n",
      "Down: x.shape: torch.Size([1, 128, 16, 16]), emb.shape: torch.Size([1, 128, 16, 16])\n",
      "Down: x.shape: torch.Size([1, 64, 32, 32]), emb.shape: torch.Size([1, 64, 32, 32])\n",
      "Down: x.shape: torch.Size([1, 64, 64, 64]), emb.shape: torch.Size([1, 64, 64, 64])\n",
      "Down: x.shape: torch.Size([1, 128, 32, 32]), emb.shape: torch.Size([1, 128, 32, 32])\n",
      "Down: x.shape: torch.Size([1, 256, 16, 16]), emb.shape: torch.Size([1, 256, 16, 16])\n",
      "Down: x.shape: torch.Size([1, 256, 8, 8]), emb.shape: torch.Size([1, 256, 8, 8])\n",
      "Down: x.shape: torch.Size([1, 128, 16, 16]), emb.shape: torch.Size([1, 128, 16, 16])\n",
      "Down: x.shape: torch.Size([1, 64, 32, 32]), emb.shape: torch.Size([1, 64, 32, 32])\n",
      "Down: x.shape: torch.Size([1, 64, 64, 64]), emb.shape: torch.Size([1, 64, 64, 64])\n",
      "Down: x.shape: torch.Size([1, 128, 32, 32]), emb.shape: torch.Size([1, 128, 32, 32])\n",
      "Down: x.shape: torch.Size([1, 256, 16, 16]), emb.shape: torch.Size([1, 256, 16, 16])\n",
      "Down: x.shape: torch.Size([1, 256, 8, 8]), emb.shape: torch.Size([1, 256, 8, 8])\n",
      "Down: x.shape: torch.Size([1, 128, 16, 16]), emb.shape: torch.Size([1, 128, 16, 16])\n",
      "Down: x.shape: torch.Size([1, 64, 32, 32]), emb.shape: torch.Size([1, 64, 32, 32])\n",
      "Down: x.shape: torch.Size([1, 64, 64, 64]), emb.shape: torch.Size([1, 64, 64, 64])\n"
     ]
    },
    {
     "name": "stderr",
     "output_type": "stream",
     "text": [
      "226it [00:10, 21.89it/s]"
     ]
    },
    {
     "name": "stdout",
     "output_type": "stream",
     "text": [
      "Down: x.shape: torch.Size([1, 128, 32, 32]), emb.shape: torch.Size([1, 128, 32, 32])\n",
      "Down: x.shape: torch.Size([1, 256, 16, 16]), emb.shape: torch.Size([1, 256, 16, 16])\n",
      "Down: x.shape: torch.Size([1, 256, 8, 8]), emb.shape: torch.Size([1, 256, 8, 8])\n",
      "Down: x.shape: torch.Size([1, 128, 16, 16]), emb.shape: torch.Size([1, 128, 16, 16])\n",
      "Down: x.shape: torch.Size([1, 64, 32, 32]), emb.shape: torch.Size([1, 64, 32, 32])\n",
      "Down: x.shape: torch.Size([1, 64, 64, 64]), emb.shape: torch.Size([1, 64, 64, 64])\n",
      "Down: x.shape: torch.Size([1, 128, 32, 32]), emb.shape: torch.Size([1, 128, 32, 32])\n",
      "Down: x.shape: torch.Size([1, 256, 16, 16]), emb.shape: torch.Size([1, 256, 16, 16])\n",
      "Down: x.shape: torch.Size([1, 256, 8, 8]), emb.shape: torch.Size([1, 256, 8, 8])\n",
      "Down: x.shape: torch.Size([1, 128, 16, 16]), emb.shape: torch.Size([1, 128, 16, 16])\n",
      "Down: x.shape: torch.Size([1, 64, 32, 32]), emb.shape: torch.Size([1, 64, 32, 32])\n",
      "Down: x.shape: torch.Size([1, 64, 64, 64]), emb.shape: torch.Size([1, 64, 64, 64])\n",
      "Down: x.shape: torch.Size([1, 128, 32, 32]), emb.shape: torch.Size([1, 128, 32, 32])\n",
      "Down: x.shape: torch.Size([1, 256, 16, 16]), emb.shape: torch.Size([1, 256, 16, 16])\n",
      "Down: x.shape: torch.Size([1, 256, 8, 8]), emb.shape: torch.Size([1, 256, 8, 8])\n",
      "Down: x.shape: torch.Size([1, 128, 16, 16]), emb.shape: torch.Size([1, 128, 16, 16])\n",
      "Down: x.shape: torch.Size([1, 64, 32, 32]), emb.shape: torch.Size([1, 64, 32, 32])\n",
      "Down: x.shape: torch.Size([1, 64, 64, 64]), emb.shape: torch.Size([1, 64, 64, 64])\n",
      "Down: x.shape: torch.Size([1, 128, 32, 32]), emb.shape: torch.Size([1, 128, 32, 32])\n",
      "Down: x.shape: torch.Size([1, 256, 16, 16]), emb.shape: torch.Size([1, 256, 16, 16])\n",
      "Down: x.shape: torch.Size([1, 256, 8, 8]), emb.shape: torch.Size([1, 256, 8, 8])\n",
      "Down: x.shape: torch.Size([1, 128, 16, 16]), emb.shape: torch.Size([1, 128, 16, 16])\n",
      "Down: x.shape: torch.Size([1, 64, 32, 32]), emb.shape: torch.Size([1, 64, 32, 32])\n",
      "Down: x.shape: torch.Size([1, 64, 64, 64]), emb.shape: torch.Size([1, 64, 64, 64])\n",
      "Down: x.shape: torch.Size([1, 128, 32, 32]), emb.shape: torch.Size([1, 128, 32, 32])\n",
      "Down: x.shape: torch.Size([1, 256, 16, 16]), emb.shape: torch.Size([1, 256, 16, 16])\n",
      "Down: x.shape: torch.Size([1, 256, 8, 8]), emb.shape: torch.Size([1, 256, 8, 8])\n",
      "Down: x.shape: torch.Size([1, 128, 16, 16]), emb.shape: torch.Size([1, 128, 16, 16])\n",
      "Down: x.shape: torch.Size([1, 64, 32, 32]), emb.shape: torch.Size([1, 64, 32, 32])\n",
      "Down: x.shape: torch.Size([1, 64, 64, 64]), emb.shape: torch.Size([1, 64, 64, 64])\n"
     ]
    },
    {
     "name": "stderr",
     "output_type": "stream",
     "text": [
      "229it [00:10, 21.86it/s]"
     ]
    },
    {
     "name": "stdout",
     "output_type": "stream",
     "text": [
      "Down: x.shape: torch.Size([1, 128, 32, 32]), emb.shape: torch.Size([1, 128, 32, 32])\n",
      "Down: x.shape: torch.Size([1, 256, 16, 16]), emb.shape: torch.Size([1, 256, 16, 16])\n",
      "Down: x.shape: torch.Size([1, 256, 8, 8]), emb.shape: torch.Size([1, 256, 8, 8])\n",
      "Down: x.shape: torch.Size([1, 128, 16, 16]), emb.shape: torch.Size([1, 128, 16, 16])\n",
      "Down: x.shape: torch.Size([1, 64, 32, 32]), emb.shape: torch.Size([1, 64, 32, 32])\n",
      "Down: x.shape: torch.Size([1, 64, 64, 64]), emb.shape: torch.Size([1, 64, 64, 64])\n",
      "Down: x.shape: torch.Size([1, 128, 32, 32]), emb.shape: torch.Size([1, 128, 32, 32])\n",
      "Down: x.shape: torch.Size([1, 256, 16, 16]), emb.shape: torch.Size([1, 256, 16, 16])\n",
      "Down: x.shape: torch.Size([1, 256, 8, 8]), emb.shape: torch.Size([1, 256, 8, 8])\n",
      "Down: x.shape: torch.Size([1, 128, 16, 16]), emb.shape: torch.Size([1, 128, 16, 16])\n",
      "Down: x.shape: torch.Size([1, 64, 32, 32]), emb.shape: torch.Size([1, 64, 32, 32])\n",
      "Down: x.shape: torch.Size([1, 64, 64, 64]), emb.shape: torch.Size([1, 64, 64, 64])\n",
      "Down: x.shape: torch.Size([1, 128, 32, 32]), emb.shape: torch.Size([1, 128, 32, 32])\n",
      "Down: x.shape: torch.Size([1, 256, 16, 16]), emb.shape: torch.Size([1, 256, 16, 16])\n",
      "Down: x.shape: torch.Size([1, 256, 8, 8]), emb.shape: torch.Size([1, 256, 8, 8])\n",
      "Down: x.shape: torch.Size([1, 128, 16, 16]), emb.shape: torch.Size([1, 128, 16, 16])\n",
      "Down: x.shape: torch.Size([1, 64, 32, 32]), emb.shape: torch.Size([1, 64, 32, 32])\n",
      "Down: x.shape: torch.Size([1, 64, 64, 64]), emb.shape: torch.Size([1, 64, 64, 64])\n",
      "Down: x.shape: torch.Size([1, 128, 32, 32]), emb.shape: torch.Size([1, 128, 32, 32])\n",
      "Down: x.shape: torch.Size([1, 256, 16, 16]), emb.shape: torch.Size([1, 256, 16, 16])\n",
      "Down: x.shape: torch.Size([1, 256, 8, 8]), emb.shape: torch.Size([1, 256, 8, 8])\n",
      "Down: x.shape: torch.Size([1, 128, 16, 16]), emb.shape: torch.Size([1, 128, 16, 16])\n",
      "Down: x.shape: torch.Size([1, 64, 32, 32]), emb.shape: torch.Size([1, 64, 32, 32])\n",
      "Down: x.shape: torch.Size([1, 64, 64, 64]), emb.shape: torch.Size([1, 64, 64, 64])\n",
      "Down: x.shape: torch.Size([1, 128, 32, 32]), emb.shape: torch.Size([1, 128, 32, 32])\n",
      "Down: x.shape: torch.Size([1, 256, 16, 16]), emb.shape: torch.Size([1, 256, 16, 16])\n",
      "Down: x.shape: torch.Size([1, 256, 8, 8]), emb.shape: torch.Size([1, 256, 8, 8])\n",
      "Down: x.shape: torch.Size([1, 128, 16, 16]), emb.shape: torch.Size([1, 128, 16, 16])\n",
      "Down: x.shape: torch.Size([1, 64, 32, 32]), emb.shape: torch.Size([1, 64, 32, 32])\n",
      "Down: x.shape: torch.Size([1, 64, 64, 64]), emb.shape: torch.Size([1, 64, 64, 64])\n"
     ]
    },
    {
     "name": "stderr",
     "output_type": "stream",
     "text": [
      "235it [00:11, 21.65it/s]"
     ]
    },
    {
     "name": "stdout",
     "output_type": "stream",
     "text": [
      "Down: x.shape: torch.Size([1, 128, 32, 32]), emb.shape: torch.Size([1, 128, 32, 32])\n",
      "Down: x.shape: torch.Size([1, 256, 16, 16]), emb.shape: torch.Size([1, 256, 16, 16])\n",
      "Down: x.shape: torch.Size([1, 256, 8, 8]), emb.shape: torch.Size([1, 256, 8, 8])\n",
      "Down: x.shape: torch.Size([1, 128, 16, 16]), emb.shape: torch.Size([1, 128, 16, 16])\n",
      "Down: x.shape: torch.Size([1, 64, 32, 32]), emb.shape: torch.Size([1, 64, 32, 32])\n",
      "Down: x.shape: torch.Size([1, 64, 64, 64]), emb.shape: torch.Size([1, 64, 64, 64])\n",
      "Down: x.shape: torch.Size([1, 128, 32, 32]), emb.shape: torch.Size([1, 128, 32, 32])\n",
      "Down: x.shape: torch.Size([1, 256, 16, 16]), emb.shape: torch.Size([1, 256, 16, 16])\n",
      "Down: x.shape: torch.Size([1, 256, 8, 8]), emb.shape: torch.Size([1, 256, 8, 8])\n",
      "Down: x.shape: torch.Size([1, 128, 16, 16]), emb.shape: torch.Size([1, 128, 16, 16])\n",
      "Down: x.shape: torch.Size([1, 64, 32, 32]), emb.shape: torch.Size([1, 64, 32, 32])\n",
      "Down: x.shape: torch.Size([1, 64, 64, 64]), emb.shape: torch.Size([1, 64, 64, 64])\n",
      "Down: x.shape: torch.Size([1, 128, 32, 32]), emb.shape: torch.Size([1, 128, 32, 32])\n",
      "Down: x.shape: torch.Size([1, 256, 16, 16]), emb.shape: torch.Size([1, 256, 16, 16])\n",
      "Down: x.shape: torch.Size([1, 256, 8, 8]), emb.shape: torch.Size([1, 256, 8, 8])\n",
      "Down: x.shape: torch.Size([1, 128, 16, 16]), emb.shape: torch.Size([1, 128, 16, 16])\n",
      "Down: x.shape: torch.Size([1, 64, 32, 32]), emb.shape: torch.Size([1, 64, 32, 32])\n",
      "Down: x.shape: torch.Size([1, 64, 64, 64]), emb.shape: torch.Size([1, 64, 64, 64])\n",
      "Down: x.shape: torch.Size([1, 128, 32, 32]), emb.shape: torch.Size([1, 128, 32, 32])\n",
      "Down: x.shape: torch.Size([1, 256, 16, 16]), emb.shape: torch.Size([1, 256, 16, 16])\n",
      "Down: x.shape: torch.Size([1, 256, 8, 8]), emb.shape: torch.Size([1, 256, 8, 8])\n",
      "Down: x.shape: torch.Size([1, 128, 16, 16]), emb.shape: torch.Size([1, 128, 16, 16])\n",
      "Down: x.shape: torch.Size([1, 64, 32, 32]), emb.shape: torch.Size([1, 64, 32, 32])\n",
      "Down: x.shape: torch.Size([1, 64, 64, 64]), emb.shape: torch.Size([1, 64, 64, 64])\n",
      "Down: x.shape: torch.Size([1, 128, 32, 32]), emb.shape: torch.Size([1, 128, 32, 32])\n",
      "Down: x.shape: torch.Size([1, 256, 16, 16]), emb.shape: torch.Size([1, 256, 16, 16])\n",
      "Down: x.shape: torch.Size([1, 256, 8, 8]), emb.shape: torch.Size([1, 256, 8, 8])\n",
      "Down: x.shape: torch.Size([1, 128, 16, 16]), emb.shape: torch.Size([1, 128, 16, 16])\n",
      "Down: x.shape: torch.Size([1, 64, 32, 32]), emb.shape: torch.Size([1, 64, 32, 32])\n",
      "Down: x.shape: torch.Size([1, 64, 64, 64]), emb.shape: torch.Size([1, 64, 64, 64])\n"
     ]
    },
    {
     "name": "stderr",
     "output_type": "stream",
     "text": [
      "241it [00:11, 21.98it/s]"
     ]
    },
    {
     "name": "stdout",
     "output_type": "stream",
     "text": [
      "Down: x.shape: torch.Size([1, 128, 32, 32]), emb.shape: torch.Size([1, 128, 32, 32])\n",
      "Down: x.shape: torch.Size([1, 256, 16, 16]), emb.shape: torch.Size([1, 256, 16, 16])\n",
      "Down: x.shape: torch.Size([1, 256, 8, 8]), emb.shape: torch.Size([1, 256, 8, 8])\n",
      "Down: x.shape: torch.Size([1, 128, 16, 16]), emb.shape: torch.Size([1, 128, 16, 16])\n",
      "Down: x.shape: torch.Size([1, 64, 32, 32]), emb.shape: torch.Size([1, 64, 32, 32])\n",
      "Down: x.shape: torch.Size([1, 64, 64, 64]), emb.shape: torch.Size([1, 64, 64, 64])\n",
      "Down: x.shape: torch.Size([1, 128, 32, 32]), emb.shape: torch.Size([1, 128, 32, 32])\n",
      "Down: x.shape: torch.Size([1, 256, 16, 16]), emb.shape: torch.Size([1, 256, 16, 16])\n",
      "Down: x.shape: torch.Size([1, 256, 8, 8]), emb.shape: torch.Size([1, 256, 8, 8])\n",
      "Down: x.shape: torch.Size([1, 128, 16, 16]), emb.shape: torch.Size([1, 128, 16, 16])\n",
      "Down: x.shape: torch.Size([1, 64, 32, 32]), emb.shape: torch.Size([1, 64, 32, 32])\n",
      "Down: x.shape: torch.Size([1, 64, 64, 64]), emb.shape: torch.Size([1, 64, 64, 64])\n",
      "Down: x.shape: torch.Size([1, 128, 32, 32]), emb.shape: torch.Size([1, 128, 32, 32])\n",
      "Down: x.shape: torch.Size([1, 256, 16, 16]), emb.shape: torch.Size([1, 256, 16, 16])\n",
      "Down: x.shape: torch.Size([1, 256, 8, 8]), emb.shape: torch.Size([1, 256, 8, 8])\n",
      "Down: x.shape: torch.Size([1, 128, 16, 16]), emb.shape: torch.Size([1, 128, 16, 16])\n",
      "Down: x.shape: torch.Size([1, 64, 32, 32]), emb.shape: torch.Size([1, 64, 32, 32])\n",
      "Down: x.shape: torch.Size([1, 64, 64, 64]), emb.shape: torch.Size([1, 64, 64, 64])\n",
      "Down: x.shape: torch.Size([1, 128, 32, 32]), emb.shape: torch.Size([1, 128, 32, 32])\n",
      "Down: x.shape: torch.Size([1, 256, 16, 16]), emb.shape: torch.Size([1, 256, 16, 16])\n",
      "Down: x.shape: torch.Size([1, 256, 8, 8]), emb.shape: torch.Size([1, 256, 8, 8])\n",
      "Down: x.shape: torch.Size([1, 128, 16, 16]), emb.shape: torch.Size([1, 128, 16, 16])\n",
      "Down: x.shape: torch.Size([1, 64, 32, 32]), emb.shape: torch.Size([1, 64, 32, 32])\n",
      "Down: x.shape: torch.Size([1, 64, 64, 64]), emb.shape: torch.Size([1, 64, 64, 64])\n",
      "Down: x.shape: torch.Size([1, 128, 32, 32]), emb.shape: torch.Size([1, 128, 32, 32])\n",
      "Down: x.shape: torch.Size([1, 256, 16, 16]), emb.shape: torch.Size([1, 256, 16, 16])\n",
      "Down: x.shape: torch.Size([1, 256, 8, 8]), emb.shape: torch.Size([1, 256, 8, 8])\n",
      "Down: x.shape: torch.Size([1, 128, 16, 16]), emb.shape: torch.Size([1, 128, 16, 16])\n",
      "Down: x.shape: torch.Size([1, 64, 32, 32]), emb.shape: torch.Size([1, 64, 32, 32])\n",
      "Down: x.shape: torch.Size([1, 64, 64, 64]), emb.shape: torch.Size([1, 64, 64, 64])\n"
     ]
    },
    {
     "name": "stderr",
     "output_type": "stream",
     "text": [
      "244it [00:11, 21.70it/s]"
     ]
    },
    {
     "name": "stdout",
     "output_type": "stream",
     "text": [
      "Down: x.shape: torch.Size([1, 128, 32, 32]), emb.shape: torch.Size([1, 128, 32, 32])\n",
      "Down: x.shape: torch.Size([1, 256, 16, 16]), emb.shape: torch.Size([1, 256, 16, 16])\n",
      "Down: x.shape: torch.Size([1, 256, 8, 8]), emb.shape: torch.Size([1, 256, 8, 8])\n",
      "Down: x.shape: torch.Size([1, 128, 16, 16]), emb.shape: torch.Size([1, 128, 16, 16])\n",
      "Down: x.shape: torch.Size([1, 64, 32, 32]), emb.shape: torch.Size([1, 64, 32, 32])\n",
      "Down: x.shape: torch.Size([1, 64, 64, 64]), emb.shape: torch.Size([1, 64, 64, 64])\n",
      "Down: x.shape: torch.Size([1, 128, 32, 32]), emb.shape: torch.Size([1, 128, 32, 32])\n",
      "Down: x.shape: torch.Size([1, 256, 16, 16]), emb.shape: torch.Size([1, 256, 16, 16])\n",
      "Down: x.shape: torch.Size([1, 256, 8, 8]), emb.shape: torch.Size([1, 256, 8, 8])\n",
      "Down: x.shape: torch.Size([1, 128, 16, 16]), emb.shape: torch.Size([1, 128, 16, 16])\n",
      "Down: x.shape: torch.Size([1, 64, 32, 32]), emb.shape: torch.Size([1, 64, 32, 32])\n",
      "Down: x.shape: torch.Size([1, 64, 64, 64]), emb.shape: torch.Size([1, 64, 64, 64])\n",
      "Down: x.shape: torch.Size([1, 128, 32, 32]), emb.shape: torch.Size([1, 128, 32, 32])\n",
      "Down: x.shape: torch.Size([1, 256, 16, 16]), emb.shape: torch.Size([1, 256, 16, 16])\n",
      "Down: x.shape: torch.Size([1, 256, 8, 8]), emb.shape: torch.Size([1, 256, 8, 8])\n",
      "Down: x.shape: torch.Size([1, 128, 16, 16]), emb.shape: torch.Size([1, 128, 16, 16])\n",
      "Down: x.shape: torch.Size([1, 64, 32, 32]), emb.shape: torch.Size([1, 64, 32, 32])\n",
      "Down: x.shape: torch.Size([1, 64, 64, 64]), emb.shape: torch.Size([1, 64, 64, 64])\n",
      "Down: x.shape: torch.Size([1, 128, 32, 32]), emb.shape: torch.Size([1, 128, 32, 32])\n",
      "Down: x.shape: torch.Size([1, 256, 16, 16]), emb.shape: torch.Size([1, 256, 16, 16])\n",
      "Down: x.shape: torch.Size([1, 256, 8, 8]), emb.shape: torch.Size([1, 256, 8, 8])\n",
      "Down: x.shape: torch.Size([1, 128, 16, 16]), emb.shape: torch.Size([1, 128, 16, 16])\n",
      "Down: x.shape: torch.Size([1, 64, 32, 32]), emb.shape: torch.Size([1, 64, 32, 32])\n",
      "Down: x.shape: torch.Size([1, 64, 64, 64]), emb.shape: torch.Size([1, 64, 64, 64])\n"
     ]
    },
    {
     "name": "stderr",
     "output_type": "stream",
     "text": [
      "250it [00:11, 21.93it/s]"
     ]
    },
    {
     "name": "stdout",
     "output_type": "stream",
     "text": [
      "Down: x.shape: torch.Size([1, 128, 32, 32]), emb.shape: torch.Size([1, 128, 32, 32])\n",
      "Down: x.shape: torch.Size([1, 256, 16, 16]), emb.shape: torch.Size([1, 256, 16, 16])\n",
      "Down: x.shape: torch.Size([1, 256, 8, 8]), emb.shape: torch.Size([1, 256, 8, 8])\n",
      "Down: x.shape: torch.Size([1, 128, 16, 16]), emb.shape: torch.Size([1, 128, 16, 16])\n",
      "Down: x.shape: torch.Size([1, 64, 32, 32]), emb.shape: torch.Size([1, 64, 32, 32])\n",
      "Down: x.shape: torch.Size([1, 64, 64, 64]), emb.shape: torch.Size([1, 64, 64, 64])\n",
      "Down: x.shape: torch.Size([1, 128, 32, 32]), emb.shape: torch.Size([1, 128, 32, 32])\n",
      "Down: x.shape: torch.Size([1, 256, 16, 16]), emb.shape: torch.Size([1, 256, 16, 16])\n",
      "Down: x.shape: torch.Size([1, 256, 8, 8]), emb.shape: torch.Size([1, 256, 8, 8])\n",
      "Down: x.shape: torch.Size([1, 128, 16, 16]), emb.shape: torch.Size([1, 128, 16, 16])\n",
      "Down: x.shape: torch.Size([1, 64, 32, 32]), emb.shape: torch.Size([1, 64, 32, 32])\n",
      "Down: x.shape: torch.Size([1, 64, 64, 64]), emb.shape: torch.Size([1, 64, 64, 64])\n",
      "Down: x.shape: torch.Size([1, 128, 32, 32]), emb.shape: torch.Size([1, 128, 32, 32])\n",
      "Down: x.shape: torch.Size([1, 256, 16, 16]), emb.shape: torch.Size([1, 256, 16, 16])\n",
      "Down: x.shape: torch.Size([1, 256, 8, 8]), emb.shape: torch.Size([1, 256, 8, 8])\n",
      "Down: x.shape: torch.Size([1, 128, 16, 16]), emb.shape: torch.Size([1, 128, 16, 16])\n",
      "Down: x.shape: torch.Size([1, 64, 32, 32]), emb.shape: torch.Size([1, 64, 32, 32])\n",
      "Down: x.shape: torch.Size([1, 64, 64, 64]), emb.shape: torch.Size([1, 64, 64, 64])\n",
      "Down: x.shape: torch.Size([1, 128, 32, 32]), emb.shape: torch.Size([1, 128, 32, 32])\n",
      "Down: x.shape: torch.Size([1, 256, 16, 16]), emb.shape: torch.Size([1, 256, 16, 16])\n",
      "Down: x.shape: torch.Size([1, 256, 8, 8]), emb.shape: torch.Size([1, 256, 8, 8])\n",
      "Down: x.shape: torch.Size([1, 128, 16, 16]), emb.shape: torch.Size([1, 128, 16, 16])\n",
      "Down: x.shape: torch.Size([1, 64, 32, 32]), emb.shape: torch.Size([1, 64, 32, 32])\n",
      "Down: x.shape: torch.Size([1, 64, 64, 64]), emb.shape: torch.Size([1, 64, 64, 64])\n",
      "Down: x.shape: torch.Size([1, 128, 32, 32]), emb.shape: torch.Size([1, 128, 32, 32])\n",
      "Down: x.shape: torch.Size([1, 256, 16, 16]), emb.shape: torch.Size([1, 256, 16, 16])\n",
      "Down: x.shape: torch.Size([1, 256, 8, 8]), emb.shape: torch.Size([1, 256, 8, 8])\n",
      "Down: x.shape: torch.Size([1, 128, 16, 16]), emb.shape: torch.Size([1, 128, 16, 16])\n",
      "Down: x.shape: torch.Size([1, 64, 32, 32]), emb.shape: torch.Size([1, 64, 32, 32])\n",
      "Down: x.shape: torch.Size([1, 64, 64, 64]), emb.shape: torch.Size([1, 64, 64, 64])\n"
     ]
    },
    {
     "name": "stderr",
     "output_type": "stream",
     "text": [
      "253it [00:12, 21.80it/s]"
     ]
    },
    {
     "name": "stdout",
     "output_type": "stream",
     "text": [
      "Down: x.shape: torch.Size([1, 128, 32, 32]), emb.shape: torch.Size([1, 128, 32, 32])\n",
      "Down: x.shape: torch.Size([1, 256, 16, 16]), emb.shape: torch.Size([1, 256, 16, 16])\n",
      "Down: x.shape: torch.Size([1, 256, 8, 8]), emb.shape: torch.Size([1, 256, 8, 8])\n",
      "Down: x.shape: torch.Size([1, 128, 16, 16]), emb.shape: torch.Size([1, 128, 16, 16])\n",
      "Down: x.shape: torch.Size([1, 64, 32, 32]), emb.shape: torch.Size([1, 64, 32, 32])\n",
      "Down: x.shape: torch.Size([1, 64, 64, 64]), emb.shape: torch.Size([1, 64, 64, 64])\n",
      "Down: x.shape: torch.Size([1, 128, 32, 32]), emb.shape: torch.Size([1, 128, 32, 32])\n",
      "Down: x.shape: torch.Size([1, 256, 16, 16]), emb.shape: torch.Size([1, 256, 16, 16])\n",
      "Down: x.shape: torch.Size([1, 256, 8, 8]), emb.shape: torch.Size([1, 256, 8, 8])\n",
      "Down: x.shape: torch.Size([1, 128, 16, 16]), emb.shape: torch.Size([1, 128, 16, 16])\n",
      "Down: x.shape: torch.Size([1, 64, 32, 32]), emb.shape: torch.Size([1, 64, 32, 32])\n",
      "Down: x.shape: torch.Size([1, 64, 64, 64]), emb.shape: torch.Size([1, 64, 64, 64])\n",
      "Down: x.shape: torch.Size([1, 128, 32, 32]), emb.shape: torch.Size([1, 128, 32, 32])\n",
      "Down: x.shape: torch.Size([1, 256, 16, 16]), emb.shape: torch.Size([1, 256, 16, 16])\n",
      "Down: x.shape: torch.Size([1, 256, 8, 8]), emb.shape: torch.Size([1, 256, 8, 8])\n",
      "Down: x.shape: torch.Size([1, 128, 16, 16]), emb.shape: torch.Size([1, 128, 16, 16])\n",
      "Down: x.shape: torch.Size([1, 64, 32, 32]), emb.shape: torch.Size([1, 64, 32, 32])\n",
      "Down: x.shape: torch.Size([1, 64, 64, 64]), emb.shape: torch.Size([1, 64, 64, 64])\n",
      "Down: x.shape: torch.Size([1, 128, 32, 32]), emb.shape: torch.Size([1, 128, 32, 32])\n",
      "Down: x.shape: torch.Size([1, 256, 16, 16]), emb.shape: torch.Size([1, 256, 16, 16])\n",
      "Down: x.shape: torch.Size([1, 256, 8, 8]), emb.shape: torch.Size([1, 256, 8, 8])\n",
      "Down: x.shape: torch.Size([1, 128, 16, 16]), emb.shape: torch.Size([1, 128, 16, 16])\n",
      "Down: x.shape: torch.Size([1, 64, 32, 32]), emb.shape: torch.Size([1, 64, 32, 32])\n",
      "Down: x.shape: torch.Size([1, 64, 64, 64]), emb.shape: torch.Size([1, 64, 64, 64])\n",
      "Down: x.shape: torch.Size([1, 128, 32, 32]), emb.shape: torch.Size([1, 128, 32, 32])\n",
      "Down: x.shape: torch.Size([1, 256, 16, 16]), emb.shape: torch.Size([1, 256, 16, 16])\n",
      "Down: x.shape: torch.Size([1, 256, 8, 8]), emb.shape: torch.Size([1, 256, 8, 8])\n",
      "Down: x.shape: torch.Size([1, 128, 16, 16]), emb.shape: torch.Size([1, 128, 16, 16])\n",
      "Down: x.shape: torch.Size([1, 64, 32, 32]), emb.shape: torch.Size([1, 64, 32, 32])\n",
      "Down: x.shape: torch.Size([1, 64, 64, 64]), emb.shape: torch.Size([1, 64, 64, 64])\n"
     ]
    },
    {
     "name": "stderr",
     "output_type": "stream",
     "text": [
      "259it [00:12, 21.59it/s]"
     ]
    },
    {
     "name": "stdout",
     "output_type": "stream",
     "text": [
      "Down: x.shape: torch.Size([1, 128, 32, 32]), emb.shape: torch.Size([1, 128, 32, 32])\n",
      "Down: x.shape: torch.Size([1, 256, 16, 16]), emb.shape: torch.Size([1, 256, 16, 16])\n",
      "Down: x.shape: torch.Size([1, 256, 8, 8]), emb.shape: torch.Size([1, 256, 8, 8])\n",
      "Down: x.shape: torch.Size([1, 128, 16, 16]), emb.shape: torch.Size([1, 128, 16, 16])\n",
      "Down: x.shape: torch.Size([1, 64, 32, 32]), emb.shape: torch.Size([1, 64, 32, 32])\n",
      "Down: x.shape: torch.Size([1, 64, 64, 64]), emb.shape: torch.Size([1, 64, 64, 64])\n",
      "Down: x.shape: torch.Size([1, 128, 32, 32]), emb.shape: torch.Size([1, 128, 32, 32])\n",
      "Down: x.shape: torch.Size([1, 256, 16, 16]), emb.shape: torch.Size([1, 256, 16, 16])\n",
      "Down: x.shape: torch.Size([1, 256, 8, 8]), emb.shape: torch.Size([1, 256, 8, 8])\n",
      "Down: x.shape: torch.Size([1, 128, 16, 16]), emb.shape: torch.Size([1, 128, 16, 16])\n",
      "Down: x.shape: torch.Size([1, 64, 32, 32]), emb.shape: torch.Size([1, 64, 32, 32])\n",
      "Down: x.shape: torch.Size([1, 64, 64, 64]), emb.shape: torch.Size([1, 64, 64, 64])\n",
      "Down: x.shape: torch.Size([1, 128, 32, 32]), emb.shape: torch.Size([1, 128, 32, 32])\n",
      "Down: x.shape: torch.Size([1, 256, 16, 16]), emb.shape: torch.Size([1, 256, 16, 16])\n",
      "Down: x.shape: torch.Size([1, 256, 8, 8]), emb.shape: torch.Size([1, 256, 8, 8])\n",
      "Down: x.shape: torch.Size([1, 128, 16, 16]), emb.shape: torch.Size([1, 128, 16, 16])\n",
      "Down: x.shape: torch.Size([1, 64, 32, 32]), emb.shape: torch.Size([1, 64, 32, 32])\n",
      "Down: x.shape: torch.Size([1, 64, 64, 64]), emb.shape: torch.Size([1, 64, 64, 64])\n",
      "Down: x.shape: torch.Size([1, 128, 32, 32]), emb.shape: torch.Size([1, 128, 32, 32])\n",
      "Down: x.shape: torch.Size([1, 256, 16, 16]), emb.shape: torch.Size([1, 256, 16, 16])\n",
      "Down: x.shape: torch.Size([1, 256, 8, 8]), emb.shape: torch.Size([1, 256, 8, 8])\n",
      "Down: x.shape: torch.Size([1, 128, 16, 16]), emb.shape: torch.Size([1, 128, 16, 16])\n",
      "Down: x.shape: torch.Size([1, 64, 32, 32]), emb.shape: torch.Size([1, 64, 32, 32])\n",
      "Down: x.shape: torch.Size([1, 64, 64, 64]), emb.shape: torch.Size([1, 64, 64, 64])\n",
      "Down: x.shape: torch.Size([1, 128, 32, 32]), emb.shape: torch.Size([1, 128, 32, 32])\n",
      "Down: x.shape: torch.Size([1, 256, 16, 16]), emb.shape: torch.Size([1, 256, 16, 16])\n",
      "Down: x.shape: torch.Size([1, 256, 8, 8]), emb.shape: torch.Size([1, 256, 8, 8])\n",
      "Down: x.shape: torch.Size([1, 128, 16, 16]), emb.shape: torch.Size([1, 128, 16, 16])\n",
      "Down: x.shape: torch.Size([1, 64, 32, 32]), emb.shape: torch.Size([1, 64, 32, 32])\n",
      "Down: x.shape: torch.Size([1, 64, 64, 64]), emb.shape: torch.Size([1, 64, 64, 64])\n"
     ]
    },
    {
     "name": "stderr",
     "output_type": "stream",
     "text": [
      "262it [00:12, 21.56it/s]"
     ]
    },
    {
     "name": "stdout",
     "output_type": "stream",
     "text": [
      "Down: x.shape: torch.Size([1, 128, 32, 32]), emb.shape: torch.Size([1, 128, 32, 32])\n",
      "Down: x.shape: torch.Size([1, 256, 16, 16]), emb.shape: torch.Size([1, 256, 16, 16])\n",
      "Down: x.shape: torch.Size([1, 256, 8, 8]), emb.shape: torch.Size([1, 256, 8, 8])\n",
      "Down: x.shape: torch.Size([1, 128, 16, 16]), emb.shape: torch.Size([1, 128, 16, 16])\n",
      "Down: x.shape: torch.Size([1, 64, 32, 32]), emb.shape: torch.Size([1, 64, 32, 32])\n",
      "Down: x.shape: torch.Size([1, 64, 64, 64]), emb.shape: torch.Size([1, 64, 64, 64])\n",
      "Down: x.shape: torch.Size([1, 128, 32, 32]), emb.shape: torch.Size([1, 128, 32, 32])\n",
      "Down: x.shape: torch.Size([1, 256, 16, 16]), emb.shape: torch.Size([1, 256, 16, 16])\n",
      "Down: x.shape: torch.Size([1, 256, 8, 8]), emb.shape: torch.Size([1, 256, 8, 8])\n",
      "Down: x.shape: torch.Size([1, 128, 16, 16]), emb.shape: torch.Size([1, 128, 16, 16])\n",
      "Down: x.shape: torch.Size([1, 64, 32, 32]), emb.shape: torch.Size([1, 64, 32, 32])\n",
      "Down: x.shape: torch.Size([1, 64, 64, 64]), emb.shape: torch.Size([1, 64, 64, 64])\n",
      "Down: x.shape: torch.Size([1, 128, 32, 32]), emb.shape: torch.Size([1, 128, 32, 32])\n",
      "Down: x.shape: torch.Size([1, 256, 16, 16]), emb.shape: torch.Size([1, 256, 16, 16])\n",
      "Down: x.shape: torch.Size([1, 256, 8, 8]), emb.shape: torch.Size([1, 256, 8, 8])\n",
      "Down: x.shape: torch.Size([1, 128, 16, 16]), emb.shape: torch.Size([1, 128, 16, 16])\n",
      "Down: x.shape: torch.Size([1, 64, 32, 32]), emb.shape: torch.Size([1, 64, 32, 32])\n",
      "Down: x.shape: torch.Size([1, 64, 64, 64]), emb.shape: torch.Size([1, 64, 64, 64])\n",
      "Down: x.shape: torch.Size([1, 128, 32, 32]), emb.shape: torch.Size([1, 128, 32, 32])\n",
      "Down: x.shape: torch.Size([1, 256, 16, 16]), emb.shape: torch.Size([1, 256, 16, 16])\n",
      "Down: x.shape: torch.Size([1, 256, 8, 8]), emb.shape: torch.Size([1, 256, 8, 8])\n",
      "Down: x.shape: torch.Size([1, 128, 16, 16]), emb.shape: torch.Size([1, 128, 16, 16])\n",
      "Down: x.shape: torch.Size([1, 64, 32, 32]), emb.shape: torch.Size([1, 64, 32, 32])\n",
      "Down: x.shape: torch.Size([1, 64, 64, 64]), emb.shape: torch.Size([1, 64, 64, 64])\n",
      "Down: x.shape: torch.Size([1, 128, 32, 32]), emb.shape: torch.Size([1, 128, 32, 32])\n",
      "Down: x.shape: torch.Size([1, 256, 16, 16]), emb.shape: torch.Size([1, 256, 16, 16])\n",
      "Down: x.shape: torch.Size([1, 256, 8, 8]), emb.shape: torch.Size([1, 256, 8, 8])\n",
      "Down: x.shape: torch.Size([1, 128, 16, 16]), emb.shape: torch.Size([1, 128, 16, 16])\n"
     ]
    },
    {
     "name": "stderr",
     "output_type": "stream",
     "text": [
      "268it [00:12, 21.44it/s]"
     ]
    },
    {
     "name": "stdout",
     "output_type": "stream",
     "text": [
      "Down: x.shape: torch.Size([1, 64, 32, 32]), emb.shape: torch.Size([1, 64, 32, 32])\n",
      "Down: x.shape: torch.Size([1, 64, 64, 64]), emb.shape: torch.Size([1, 64, 64, 64])\n",
      "Down: x.shape: torch.Size([1, 128, 32, 32]), emb.shape: torch.Size([1, 128, 32, 32])\n",
      "Down: x.shape: torch.Size([1, 256, 16, 16]), emb.shape: torch.Size([1, 256, 16, 16])\n",
      "Down: x.shape: torch.Size([1, 256, 8, 8]), emb.shape: torch.Size([1, 256, 8, 8])\n",
      "Down: x.shape: torch.Size([1, 128, 16, 16]), emb.shape: torch.Size([1, 128, 16, 16])\n",
      "Down: x.shape: torch.Size([1, 64, 32, 32]), emb.shape: torch.Size([1, 64, 32, 32])\n",
      "Down: x.shape: torch.Size([1, 64, 64, 64]), emb.shape: torch.Size([1, 64, 64, 64])\n",
      "Down: x.shape: torch.Size([1, 128, 32, 32]), emb.shape: torch.Size([1, 128, 32, 32])\n",
      "Down: x.shape: torch.Size([1, 256, 16, 16]), emb.shape: torch.Size([1, 256, 16, 16])\n",
      "Down: x.shape: torch.Size([1, 256, 8, 8]), emb.shape: torch.Size([1, 256, 8, 8])\n",
      "Down: x.shape: torch.Size([1, 128, 16, 16]), emb.shape: torch.Size([1, 128, 16, 16])\n",
      "Down: x.shape: torch.Size([1, 64, 32, 32]), emb.shape: torch.Size([1, 64, 32, 32])\n",
      "Down: x.shape: torch.Size([1, 64, 64, 64]), emb.shape: torch.Size([1, 64, 64, 64])\n",
      "Down: x.shape: torch.Size([1, 128, 32, 32]), emb.shape: torch.Size([1, 128, 32, 32])\n",
      "Down: x.shape: torch.Size([1, 256, 16, 16]), emb.shape: torch.Size([1, 256, 16, 16])\n",
      "Down: x.shape: torch.Size([1, 256, 8, 8]), emb.shape: torch.Size([1, 256, 8, 8])\n",
      "Down: x.shape: torch.Size([1, 128, 16, 16]), emb.shape: torch.Size([1, 128, 16, 16])\n",
      "Down: x.shape: torch.Size([1, 64, 32, 32]), emb.shape: torch.Size([1, 64, 32, 32])\n",
      "Down: x.shape: torch.Size([1, 64, 64, 64]), emb.shape: torch.Size([1, 64, 64, 64])\n",
      "Down: x.shape: torch.Size([1, 128, 32, 32]), emb.shape: torch.Size([1, 128, 32, 32])\n",
      "Down: x.shape: torch.Size([1, 256, 16, 16]), emb.shape: torch.Size([1, 256, 16, 16])\n",
      "Down: x.shape: torch.Size([1, 256, 8, 8]), emb.shape: torch.Size([1, 256, 8, 8])\n",
      "Down: x.shape: torch.Size([1, 128, 16, 16]), emb.shape: torch.Size([1, 128, 16, 16])\n",
      "Down: x.shape: torch.Size([1, 64, 32, 32]), emb.shape: torch.Size([1, 64, 32, 32])\n",
      "Down: x.shape: torch.Size([1, 64, 64, 64]), emb.shape: torch.Size([1, 64, 64, 64])\n"
     ]
    },
    {
     "name": "stderr",
     "output_type": "stream",
     "text": [
      "274it [00:12, 21.56it/s]"
     ]
    },
    {
     "name": "stdout",
     "output_type": "stream",
     "text": [
      "Down: x.shape: torch.Size([1, 128, 32, 32]), emb.shape: torch.Size([1, 128, 32, 32])\n",
      "Down: x.shape: torch.Size([1, 256, 16, 16]), emb.shape: torch.Size([1, 256, 16, 16])\n",
      "Down: x.shape: torch.Size([1, 256, 8, 8]), emb.shape: torch.Size([1, 256, 8, 8])\n",
      "Down: x.shape: torch.Size([1, 128, 16, 16]), emb.shape: torch.Size([1, 128, 16, 16])\n",
      "Down: x.shape: torch.Size([1, 64, 32, 32]), emb.shape: torch.Size([1, 64, 32, 32])\n",
      "Down: x.shape: torch.Size([1, 64, 64, 64]), emb.shape: torch.Size([1, 64, 64, 64])\n",
      "Down: x.shape: torch.Size([1, 128, 32, 32]), emb.shape: torch.Size([1, 128, 32, 32])\n",
      "Down: x.shape: torch.Size([1, 256, 16, 16]), emb.shape: torch.Size([1, 256, 16, 16])\n",
      "Down: x.shape: torch.Size([1, 256, 8, 8]), emb.shape: torch.Size([1, 256, 8, 8])\n",
      "Down: x.shape: torch.Size([1, 128, 16, 16]), emb.shape: torch.Size([1, 128, 16, 16])\n",
      "Down: x.shape: torch.Size([1, 64, 32, 32]), emb.shape: torch.Size([1, 64, 32, 32])\n",
      "Down: x.shape: torch.Size([1, 64, 64, 64]), emb.shape: torch.Size([1, 64, 64, 64])\n",
      "Down: x.shape: torch.Size([1, 128, 32, 32]), emb.shape: torch.Size([1, 128, 32, 32])\n",
      "Down: x.shape: torch.Size([1, 256, 16, 16]), emb.shape: torch.Size([1, 256, 16, 16])\n",
      "Down: x.shape: torch.Size([1, 256, 8, 8]), emb.shape: torch.Size([1, 256, 8, 8])\n",
      "Down: x.shape: torch.Size([1, 128, 16, 16]), emb.shape: torch.Size([1, 128, 16, 16])\n",
      "Down: x.shape: torch.Size([1, 64, 32, 32]), emb.shape: torch.Size([1, 64, 32, 32])\n",
      "Down: x.shape: torch.Size([1, 64, 64, 64]), emb.shape: torch.Size([1, 64, 64, 64])\n",
      "Down: x.shape: torch.Size([1, 128, 32, 32]), emb.shape: torch.Size([1, 128, 32, 32])\n",
      "Down: x.shape: torch.Size([1, 256, 16, 16]), emb.shape: torch.Size([1, 256, 16, 16])\n",
      "Down: x.shape: torch.Size([1, 256, 8, 8]), emb.shape: torch.Size([1, 256, 8, 8])\n",
      "Down: x.shape: torch.Size([1, 128, 16, 16]), emb.shape: torch.Size([1, 128, 16, 16])\n",
      "Down: x.shape: torch.Size([1, 64, 32, 32]), emb.shape: torch.Size([1, 64, 32, 32])\n",
      "Down: x.shape: torch.Size([1, 64, 64, 64]), emb.shape: torch.Size([1, 64, 64, 64])\n",
      "Down: x.shape: torch.Size([1, 128, 32, 32]), emb.shape: torch.Size([1, 128, 32, 32])\n",
      "Down: x.shape: torch.Size([1, 256, 16, 16]), emb.shape: torch.Size([1, 256, 16, 16])\n",
      "Down: x.shape: torch.Size([1, 256, 8, 8]), emb.shape: torch.Size([1, 256, 8, 8])\n",
      "Down: x.shape: torch.Size([1, 128, 16, 16]), emb.shape: torch.Size([1, 128, 16, 16])\n",
      "Down: x.shape: torch.Size([1, 64, 32, 32]), emb.shape: torch.Size([1, 64, 32, 32])\n",
      "Down: x.shape: torch.Size([1, 64, 64, 64]), emb.shape: torch.Size([1, 64, 64, 64])\n"
     ]
    },
    {
     "name": "stderr",
     "output_type": "stream",
     "text": [
      "277it [00:13, 21.72it/s]"
     ]
    },
    {
     "name": "stdout",
     "output_type": "stream",
     "text": [
      "Down: x.shape: torch.Size([1, 128, 32, 32]), emb.shape: torch.Size([1, 128, 32, 32])\n",
      "Down: x.shape: torch.Size([1, 256, 16, 16]), emb.shape: torch.Size([1, 256, 16, 16])\n",
      "Down: x.shape: torch.Size([1, 256, 8, 8]), emb.shape: torch.Size([1, 256, 8, 8])\n",
      "Down: x.shape: torch.Size([1, 128, 16, 16]), emb.shape: torch.Size([1, 128, 16, 16])\n",
      "Down: x.shape: torch.Size([1, 64, 32, 32]), emb.shape: torch.Size([1, 64, 32, 32])\n",
      "Down: x.shape: torch.Size([1, 64, 64, 64]), emb.shape: torch.Size([1, 64, 64, 64])\n",
      "Down: x.shape: torch.Size([1, 128, 32, 32]), emb.shape: torch.Size([1, 128, 32, 32])\n",
      "Down: x.shape: torch.Size([1, 256, 16, 16]), emb.shape: torch.Size([1, 256, 16, 16])\n",
      "Down: x.shape: torch.Size([1, 256, 8, 8]), emb.shape: torch.Size([1, 256, 8, 8])\n",
      "Down: x.shape: torch.Size([1, 128, 16, 16]), emb.shape: torch.Size([1, 128, 16, 16])\n",
      "Down: x.shape: torch.Size([1, 64, 32, 32]), emb.shape: torch.Size([1, 64, 32, 32])\n",
      "Down: x.shape: torch.Size([1, 64, 64, 64]), emb.shape: torch.Size([1, 64, 64, 64])\n",
      "Down: x.shape: torch.Size([1, 128, 32, 32]), emb.shape: torch.Size([1, 128, 32, 32])\n",
      "Down: x.shape: torch.Size([1, 256, 16, 16]), emb.shape: torch.Size([1, 256, 16, 16])\n",
      "Down: x.shape: torch.Size([1, 256, 8, 8]), emb.shape: torch.Size([1, 256, 8, 8])\n",
      "Down: x.shape: torch.Size([1, 128, 16, 16]), emb.shape: torch.Size([1, 128, 16, 16])\n",
      "Down: x.shape: torch.Size([1, 64, 32, 32]), emb.shape: torch.Size([1, 64, 32, 32])\n",
      "Down: x.shape: torch.Size([1, 64, 64, 64]), emb.shape: torch.Size([1, 64, 64, 64])\n",
      "Down: x.shape: torch.Size([1, 128, 32, 32]), emb.shape: torch.Size([1, 128, 32, 32])\n",
      "Down: x.shape: torch.Size([1, 256, 16, 16]), emb.shape: torch.Size([1, 256, 16, 16])\n",
      "Down: x.shape: torch.Size([1, 256, 8, 8]), emb.shape: torch.Size([1, 256, 8, 8])\n",
      "Down: x.shape: torch.Size([1, 128, 16, 16]), emb.shape: torch.Size([1, 128, 16, 16])\n",
      "Down: x.shape: torch.Size([1, 64, 32, 32]), emb.shape: torch.Size([1, 64, 32, 32])\n",
      "Down: x.shape: torch.Size([1, 64, 64, 64]), emb.shape: torch.Size([1, 64, 64, 64])\n",
      "Down: x.shape: torch.Size([1, 128, 32, 32]), emb.shape: torch.Size([1, 128, 32, 32])\n",
      "Down: x.shape: torch.Size([1, 256, 16, 16]), emb.shape: torch.Size([1, 256, 16, 16])\n",
      "Down: x.shape: torch.Size([1, 256, 8, 8]), emb.shape: torch.Size([1, 256, 8, 8])\n",
      "Down: x.shape: torch.Size([1, 128, 16, 16]), emb.shape: torch.Size([1, 128, 16, 16])\n",
      "Down: x.shape: torch.Size([1, 64, 32, 32]), emb.shape: torch.Size([1, 64, 32, 32])\n",
      "Down: x.shape: torch.Size([1, 64, 64, 64]), emb.shape: torch.Size([1, 64, 64, 64])\n"
     ]
    },
    {
     "name": "stderr",
     "output_type": "stream",
     "text": [
      "283it [00:13, 21.96it/s]"
     ]
    },
    {
     "name": "stdout",
     "output_type": "stream",
     "text": [
      "Down: x.shape: torch.Size([1, 128, 32, 32]), emb.shape: torch.Size([1, 128, 32, 32])\n",
      "Down: x.shape: torch.Size([1, 256, 16, 16]), emb.shape: torch.Size([1, 256, 16, 16])\n",
      "Down: x.shape: torch.Size([1, 256, 8, 8]), emb.shape: torch.Size([1, 256, 8, 8])\n",
      "Down: x.shape: torch.Size([1, 128, 16, 16]), emb.shape: torch.Size([1, 128, 16, 16])\n",
      "Down: x.shape: torch.Size([1, 64, 32, 32]), emb.shape: torch.Size([1, 64, 32, 32])\n",
      "Down: x.shape: torch.Size([1, 64, 64, 64]), emb.shape: torch.Size([1, 64, 64, 64])\n",
      "Down: x.shape: torch.Size([1, 128, 32, 32]), emb.shape: torch.Size([1, 128, 32, 32])\n",
      "Down: x.shape: torch.Size([1, 256, 16, 16]), emb.shape: torch.Size([1, 256, 16, 16])\n",
      "Down: x.shape: torch.Size([1, 256, 8, 8]), emb.shape: torch.Size([1, 256, 8, 8])\n",
      "Down: x.shape: torch.Size([1, 128, 16, 16]), emb.shape: torch.Size([1, 128, 16, 16])\n",
      "Down: x.shape: torch.Size([1, 64, 32, 32]), emb.shape: torch.Size([1, 64, 32, 32])\n",
      "Down: x.shape: torch.Size([1, 64, 64, 64]), emb.shape: torch.Size([1, 64, 64, 64])\n",
      "Down: x.shape: torch.Size([1, 128, 32, 32]), emb.shape: torch.Size([1, 128, 32, 32])\n",
      "Down: x.shape: torch.Size([1, 256, 16, 16]), emb.shape: torch.Size([1, 256, 16, 16])\n",
      "Down: x.shape: torch.Size([1, 256, 8, 8]), emb.shape: torch.Size([1, 256, 8, 8])\n",
      "Down: x.shape: torch.Size([1, 128, 16, 16]), emb.shape: torch.Size([1, 128, 16, 16])\n",
      "Down: x.shape: torch.Size([1, 64, 32, 32]), emb.shape: torch.Size([1, 64, 32, 32])\n",
      "Down: x.shape: torch.Size([1, 64, 64, 64]), emb.shape: torch.Size([1, 64, 64, 64])\n",
      "Down: x.shape: torch.Size([1, 128, 32, 32]), emb.shape: torch.Size([1, 128, 32, 32])\n",
      "Down: x.shape: torch.Size([1, 256, 16, 16]), emb.shape: torch.Size([1, 256, 16, 16])\n",
      "Down: x.shape: torch.Size([1, 256, 8, 8]), emb.shape: torch.Size([1, 256, 8, 8])\n",
      "Down: x.shape: torch.Size([1, 128, 16, 16]), emb.shape: torch.Size([1, 128, 16, 16])\n",
      "Down: x.shape: torch.Size([1, 64, 32, 32]), emb.shape: torch.Size([1, 64, 32, 32])\n",
      "Down: x.shape: torch.Size([1, 64, 64, 64]), emb.shape: torch.Size([1, 64, 64, 64])\n",
      "Down: x.shape: torch.Size([1, 128, 32, 32]), emb.shape: torch.Size([1, 128, 32, 32])\n",
      "Down: x.shape: torch.Size([1, 256, 16, 16]), emb.shape: torch.Size([1, 256, 16, 16])\n",
      "Down: x.shape: torch.Size([1, 256, 8, 8]), emb.shape: torch.Size([1, 256, 8, 8])\n",
      "Down: x.shape: torch.Size([1, 128, 16, 16]), emb.shape: torch.Size([1, 128, 16, 16])\n",
      "Down: x.shape: torch.Size([1, 64, 32, 32]), emb.shape: torch.Size([1, 64, 32, 32])\n",
      "Down: x.shape: torch.Size([1, 64, 64, 64]), emb.shape: torch.Size([1, 64, 64, 64])\n"
     ]
    },
    {
     "name": "stderr",
     "output_type": "stream",
     "text": [
      "289it [00:13, 21.66it/s]"
     ]
    },
    {
     "name": "stdout",
     "output_type": "stream",
     "text": [
      "Down: x.shape: torch.Size([1, 128, 32, 32]), emb.shape: torch.Size([1, 128, 32, 32])\n",
      "Down: x.shape: torch.Size([1, 256, 16, 16]), emb.shape: torch.Size([1, 256, 16, 16])\n",
      "Down: x.shape: torch.Size([1, 256, 8, 8]), emb.shape: torch.Size([1, 256, 8, 8])\n",
      "Down: x.shape: torch.Size([1, 128, 16, 16]), emb.shape: torch.Size([1, 128, 16, 16])\n",
      "Down: x.shape: torch.Size([1, 64, 32, 32]), emb.shape: torch.Size([1, 64, 32, 32])\n",
      "Down: x.shape: torch.Size([1, 64, 64, 64]), emb.shape: torch.Size([1, 64, 64, 64])\n",
      "Down: x.shape: torch.Size([1, 128, 32, 32]), emb.shape: torch.Size([1, 128, 32, 32])\n",
      "Down: x.shape: torch.Size([1, 256, 16, 16]), emb.shape: torch.Size([1, 256, 16, 16])\n",
      "Down: x.shape: torch.Size([1, 256, 8, 8]), emb.shape: torch.Size([1, 256, 8, 8])\n",
      "Down: x.shape: torch.Size([1, 128, 16, 16]), emb.shape: torch.Size([1, 128, 16, 16])\n",
      "Down: x.shape: torch.Size([1, 64, 32, 32]), emb.shape: torch.Size([1, 64, 32, 32])\n",
      "Down: x.shape: torch.Size([1, 64, 64, 64]), emb.shape: torch.Size([1, 64, 64, 64])\n",
      "Down: x.shape: torch.Size([1, 128, 32, 32]), emb.shape: torch.Size([1, 128, 32, 32])\n",
      "Down: x.shape: torch.Size([1, 256, 16, 16]), emb.shape: torch.Size([1, 256, 16, 16])\n",
      "Down: x.shape: torch.Size([1, 256, 8, 8]), emb.shape: torch.Size([1, 256, 8, 8])\n",
      "Down: x.shape: torch.Size([1, 128, 16, 16]), emb.shape: torch.Size([1, 128, 16, 16])\n",
      "Down: x.shape: torch.Size([1, 64, 32, 32]), emb.shape: torch.Size([1, 64, 32, 32])\n",
      "Down: x.shape: torch.Size([1, 64, 64, 64]), emb.shape: torch.Size([1, 64, 64, 64])\n",
      "Down: x.shape: torch.Size([1, 128, 32, 32]), emb.shape: torch.Size([1, 128, 32, 32])\n",
      "Down: x.shape: torch.Size([1, 256, 16, 16]), emb.shape: torch.Size([1, 256, 16, 16])\n",
      "Down: x.shape: torch.Size([1, 256, 8, 8]), emb.shape: torch.Size([1, 256, 8, 8])\n",
      "Down: x.shape: torch.Size([1, 128, 16, 16]), emb.shape: torch.Size([1, 128, 16, 16])\n",
      "Down: x.shape: torch.Size([1, 64, 32, 32]), emb.shape: torch.Size([1, 64, 32, 32])\n",
      "Down: x.shape: torch.Size([1, 64, 64, 64]), emb.shape: torch.Size([1, 64, 64, 64])\n",
      "Down: x.shape: torch.Size([1, 128, 32, 32]), emb.shape: torch.Size([1, 128, 32, 32])\n",
      "Down: x.shape: torch.Size([1, 256, 16, 16]), emb.shape: torch.Size([1, 256, 16, 16])\n",
      "Down: x.shape: torch.Size([1, 256, 8, 8]), emb.shape: torch.Size([1, 256, 8, 8])\n",
      "Down: x.shape: torch.Size([1, 128, 16, 16]), emb.shape: torch.Size([1, 128, 16, 16])\n",
      "Down: x.shape: torch.Size([1, 64, 32, 32]), emb.shape: torch.Size([1, 64, 32, 32])\n",
      "Down: x.shape: torch.Size([1, 64, 64, 64]), emb.shape: torch.Size([1, 64, 64, 64])\n"
     ]
    },
    {
     "name": "stderr",
     "output_type": "stream",
     "text": [
      "292it [00:13, 21.81it/s]"
     ]
    },
    {
     "name": "stdout",
     "output_type": "stream",
     "text": [
      "Down: x.shape: torch.Size([1, 128, 32, 32]), emb.shape: torch.Size([1, 128, 32, 32])\n",
      "Down: x.shape: torch.Size([1, 256, 16, 16]), emb.shape: torch.Size([1, 256, 16, 16])\n",
      "Down: x.shape: torch.Size([1, 256, 8, 8]), emb.shape: torch.Size([1, 256, 8, 8])\n",
      "Down: x.shape: torch.Size([1, 128, 16, 16]), emb.shape: torch.Size([1, 128, 16, 16])\n",
      "Down: x.shape: torch.Size([1, 64, 32, 32]), emb.shape: torch.Size([1, 64, 32, 32])\n",
      "Down: x.shape: torch.Size([1, 64, 64, 64]), emb.shape: torch.Size([1, 64, 64, 64])\n",
      "Down: x.shape: torch.Size([1, 128, 32, 32]), emb.shape: torch.Size([1, 128, 32, 32])\n",
      "Down: x.shape: torch.Size([1, 256, 16, 16]), emb.shape: torch.Size([1, 256, 16, 16])\n",
      "Down: x.shape: torch.Size([1, 256, 8, 8]), emb.shape: torch.Size([1, 256, 8, 8])\n",
      "Down: x.shape: torch.Size([1, 128, 16, 16]), emb.shape: torch.Size([1, 128, 16, 16])\n",
      "Down: x.shape: torch.Size([1, 64, 32, 32]), emb.shape: torch.Size([1, 64, 32, 32])\n",
      "Down: x.shape: torch.Size([1, 64, 64, 64]), emb.shape: torch.Size([1, 64, 64, 64])\n",
      "Down: x.shape: torch.Size([1, 128, 32, 32]), emb.shape: torch.Size([1, 128, 32, 32])\n",
      "Down: x.shape: torch.Size([1, 256, 16, 16]), emb.shape: torch.Size([1, 256, 16, 16])\n",
      "Down: x.shape: torch.Size([1, 256, 8, 8]), emb.shape: torch.Size([1, 256, 8, 8])\n",
      "Down: x.shape: torch.Size([1, 128, 16, 16]), emb.shape: torch.Size([1, 128, 16, 16])\n",
      "Down: x.shape: torch.Size([1, 64, 32, 32]), emb.shape: torch.Size([1, 64, 32, 32])\n",
      "Down: x.shape: torch.Size([1, 64, 64, 64]), emb.shape: torch.Size([1, 64, 64, 64])\n",
      "Down: x.shape: torch.Size([1, 128, 32, 32]), emb.shape: torch.Size([1, 128, 32, 32])\n",
      "Down: x.shape: torch.Size([1, 256, 16, 16]), emb.shape: torch.Size([1, 256, 16, 16])\n",
      "Down: x.shape: torch.Size([1, 256, 8, 8]), emb.shape: torch.Size([1, 256, 8, 8])\n",
      "Down: x.shape: torch.Size([1, 128, 16, 16]), emb.shape: torch.Size([1, 128, 16, 16])\n",
      "Down: x.shape: torch.Size([1, 64, 32, 32]), emb.shape: torch.Size([1, 64, 32, 32])\n",
      "Down: x.shape: torch.Size([1, 64, 64, 64]), emb.shape: torch.Size([1, 64, 64, 64])\n"
     ]
    },
    {
     "name": "stderr",
     "output_type": "stream",
     "text": [
      "295it [00:13, 21.49it/s]"
     ]
    },
    {
     "name": "stdout",
     "output_type": "stream",
     "text": [
      "Down: x.shape: torch.Size([1, 128, 32, 32]), emb.shape: torch.Size([1, 128, 32, 32])\n",
      "Down: x.shape: torch.Size([1, 256, 16, 16]), emb.shape: torch.Size([1, 256, 16, 16])\n",
      "Down: x.shape: torch.Size([1, 256, 8, 8]), emb.shape: torch.Size([1, 256, 8, 8])\n",
      "Down: x.shape: torch.Size([1, 128, 16, 16]), emb.shape: torch.Size([1, 128, 16, 16])\n",
      "Down: x.shape: torch.Size([1, 64, 32, 32]), emb.shape: torch.Size([1, 64, 32, 32])\n",
      "Down: x.shape: torch.Size([1, 64, 64, 64]), emb.shape: torch.Size([1, 64, 64, 64])\n",
      "Down: x.shape: torch.Size([1, 128, 32, 32]), emb.shape: torch.Size([1, 128, 32, 32])\n",
      "Down: x.shape: torch.Size([1, 256, 16, 16]), emb.shape: torch.Size([1, 256, 16, 16])\n",
      "Down: x.shape: torch.Size([1, 256, 8, 8]), emb.shape: torch.Size([1, 256, 8, 8])\n",
      "Down: x.shape: torch.Size([1, 128, 16, 16]), emb.shape: torch.Size([1, 128, 16, 16])\n",
      "Down: x.shape: torch.Size([1, 64, 32, 32]), emb.shape: torch.Size([1, 64, 32, 32])\n",
      "Down: x.shape: torch.Size([1, 64, 64, 64]), emb.shape: torch.Size([1, 64, 64, 64])\n",
      "Down: x.shape: torch.Size([1, 128, 32, 32]), emb.shape: torch.Size([1, 128, 32, 32])\n",
      "Down: x.shape: torch.Size([1, 256, 16, 16]), emb.shape: torch.Size([1, 256, 16, 16])\n",
      "Down: x.shape: torch.Size([1, 256, 8, 8]), emb.shape: torch.Size([1, 256, 8, 8])\n",
      "Down: x.shape: torch.Size([1, 128, 16, 16]), emb.shape: torch.Size([1, 128, 16, 16])\n",
      "Down: x.shape: torch.Size([1, 64, 32, 32]), emb.shape: torch.Size([1, 64, 32, 32])\n",
      "Down: x.shape: torch.Size([1, 64, 64, 64]), emb.shape: torch.Size([1, 64, 64, 64])\n",
      "Down: x.shape: torch.Size([1, 128, 32, 32]), emb.shape: torch.Size([1, 128, 32, 32])\n",
      "Down: x.shape: torch.Size([1, 256, 16, 16]), emb.shape: torch.Size([1, 256, 16, 16])\n",
      "Down: x.shape: torch.Size([1, 256, 8, 8]), emb.shape: torch.Size([1, 256, 8, 8])\n",
      "Down: x.shape: torch.Size([1, 128, 16, 16]), emb.shape: torch.Size([1, 128, 16, 16])\n",
      "Down: x.shape: torch.Size([1, 64, 32, 32]), emb.shape: torch.Size([1, 64, 32, 32])\n",
      "Down: x.shape: torch.Size([1, 64, 64, 64]), emb.shape: torch.Size([1, 64, 64, 64])\n",
      "Down: x.shape: torch.Size([1, 128, 32, 32]), emb.shape: torch.Size([1, 128, 32, 32])\n",
      "Down: x.shape: torch.Size([1, 256, 16, 16]), emb.shape: torch.Size([1, 256, 16, 16])\n",
      "Down: x.shape: torch.Size([1, 256, 8, 8]), emb.shape: torch.Size([1, 256, 8, 8])\n",
      "Down: x.shape: torch.Size([1, 128, 16, 16]), emb.shape: torch.Size([1, 128, 16, 16])\n",
      "Down: x.shape: torch.Size([1, 64, 32, 32]), emb.shape: torch.Size([1, 64, 32, 32])\n"
     ]
    },
    {
     "name": "stderr",
     "output_type": "stream",
     "text": [
      "301it [00:14, 21.93it/s]"
     ]
    },
    {
     "name": "stdout",
     "output_type": "stream",
     "text": [
      "Down: x.shape: torch.Size([1, 64, 64, 64]), emb.shape: torch.Size([1, 64, 64, 64])\n",
      "Down: x.shape: torch.Size([1, 128, 32, 32]), emb.shape: torch.Size([1, 128, 32, 32])\n",
      "Down: x.shape: torch.Size([1, 256, 16, 16]), emb.shape: torch.Size([1, 256, 16, 16])\n",
      "Down: x.shape: torch.Size([1, 256, 8, 8]), emb.shape: torch.Size([1, 256, 8, 8])\n",
      "Down: x.shape: torch.Size([1, 128, 16, 16]), emb.shape: torch.Size([1, 128, 16, 16])\n",
      "Down: x.shape: torch.Size([1, 64, 32, 32]), emb.shape: torch.Size([1, 64, 32, 32])\n",
      "Down: x.shape: torch.Size([1, 64, 64, 64]), emb.shape: torch.Size([1, 64, 64, 64])\n",
      "Down: x.shape: torch.Size([1, 128, 32, 32]), emb.shape: torch.Size([1, 128, 32, 32])\n",
      "Down: x.shape: torch.Size([1, 256, 16, 16]), emb.shape: torch.Size([1, 256, 16, 16])\n",
      "Down: x.shape: torch.Size([1, 256, 8, 8]), emb.shape: torch.Size([1, 256, 8, 8])\n",
      "Down: x.shape: torch.Size([1, 128, 16, 16]), emb.shape: torch.Size([1, 128, 16, 16])\n",
      "Down: x.shape: torch.Size([1, 64, 32, 32]), emb.shape: torch.Size([1, 64, 32, 32])\n",
      "Down: x.shape: torch.Size([1, 64, 64, 64]), emb.shape: torch.Size([1, 64, 64, 64])\n",
      "Down: x.shape: torch.Size([1, 128, 32, 32]), emb.shape: torch.Size([1, 128, 32, 32])\n",
      "Down: x.shape: torch.Size([1, 256, 16, 16]), emb.shape: torch.Size([1, 256, 16, 16])\n",
      "Down: x.shape: torch.Size([1, 256, 8, 8]), emb.shape: torch.Size([1, 256, 8, 8])\n",
      "Down: x.shape: torch.Size([1, 128, 16, 16]), emb.shape: torch.Size([1, 128, 16, 16])\n",
      "Down: x.shape: torch.Size([1, 64, 32, 32]), emb.shape: torch.Size([1, 64, 32, 32])\n",
      "Down: x.shape: torch.Size([1, 64, 64, 64]), emb.shape: torch.Size([1, 64, 64, 64])\n",
      "Down: x.shape: torch.Size([1, 128, 32, 32]), emb.shape: torch.Size([1, 128, 32, 32])\n",
      "Down: x.shape: torch.Size([1, 256, 16, 16]), emb.shape: torch.Size([1, 256, 16, 16])\n",
      "Down: x.shape: torch.Size([1, 256, 8, 8]), emb.shape: torch.Size([1, 256, 8, 8])\n",
      "Down: x.shape: torch.Size([1, 128, 16, 16]), emb.shape: torch.Size([1, 128, 16, 16])\n",
      "Down: x.shape: torch.Size([1, 64, 32, 32]), emb.shape: torch.Size([1, 64, 32, 32])\n",
      "Down: x.shape: torch.Size([1, 64, 64, 64]), emb.shape: torch.Size([1, 64, 64, 64])\n"
     ]
    },
    {
     "name": "stderr",
     "output_type": "stream",
     "text": [
      "307it [00:14, 22.00it/s]"
     ]
    },
    {
     "name": "stdout",
     "output_type": "stream",
     "text": [
      "Down: x.shape: torch.Size([1, 128, 32, 32]), emb.shape: torch.Size([1, 128, 32, 32])\n",
      "Down: x.shape: torch.Size([1, 256, 16, 16]), emb.shape: torch.Size([1, 256, 16, 16])\n",
      "Down: x.shape: torch.Size([1, 256, 8, 8]), emb.shape: torch.Size([1, 256, 8, 8])\n",
      "Down: x.shape: torch.Size([1, 128, 16, 16]), emb.shape: torch.Size([1, 128, 16, 16])\n",
      "Down: x.shape: torch.Size([1, 64, 32, 32]), emb.shape: torch.Size([1, 64, 32, 32])\n",
      "Down: x.shape: torch.Size([1, 64, 64, 64]), emb.shape: torch.Size([1, 64, 64, 64])\n",
      "Down: x.shape: torch.Size([1, 128, 32, 32]), emb.shape: torch.Size([1, 128, 32, 32])\n",
      "Down: x.shape: torch.Size([1, 256, 16, 16]), emb.shape: torch.Size([1, 256, 16, 16])\n",
      "Down: x.shape: torch.Size([1, 256, 8, 8]), emb.shape: torch.Size([1, 256, 8, 8])\n",
      "Down: x.shape: torch.Size([1, 128, 16, 16]), emb.shape: torch.Size([1, 128, 16, 16])\n",
      "Down: x.shape: torch.Size([1, 64, 32, 32]), emb.shape: torch.Size([1, 64, 32, 32])\n",
      "Down: x.shape: torch.Size([1, 64, 64, 64]), emb.shape: torch.Size([1, 64, 64, 64])\n",
      "Down: x.shape: torch.Size([1, 128, 32, 32]), emb.shape: torch.Size([1, 128, 32, 32])\n",
      "Down: x.shape: torch.Size([1, 256, 16, 16]), emb.shape: torch.Size([1, 256, 16, 16])\n",
      "Down: x.shape: torch.Size([1, 256, 8, 8]), emb.shape: torch.Size([1, 256, 8, 8])\n",
      "Down: x.shape: torch.Size([1, 128, 16, 16]), emb.shape: torch.Size([1, 128, 16, 16])\n",
      "Down: x.shape: torch.Size([1, 64, 32, 32]), emb.shape: torch.Size([1, 64, 32, 32])\n",
      "Down: x.shape: torch.Size([1, 64, 64, 64]), emb.shape: torch.Size([1, 64, 64, 64])\n",
      "Down: x.shape: torch.Size([1, 128, 32, 32]), emb.shape: torch.Size([1, 128, 32, 32])\n",
      "Down: x.shape: torch.Size([1, 256, 16, 16]), emb.shape: torch.Size([1, 256, 16, 16])\n",
      "Down: x.shape: torch.Size([1, 256, 8, 8]), emb.shape: torch.Size([1, 256, 8, 8])\n",
      "Down: x.shape: torch.Size([1, 128, 16, 16]), emb.shape: torch.Size([1, 128, 16, 16])\n",
      "Down: x.shape: torch.Size([1, 64, 32, 32]), emb.shape: torch.Size([1, 64, 32, 32])\n",
      "Down: x.shape: torch.Size([1, 64, 64, 64]), emb.shape: torch.Size([1, 64, 64, 64])\n",
      "Down: x.shape: torch.Size([1, 128, 32, 32]), emb.shape: torch.Size([1, 128, 32, 32])\n",
      "Down: x.shape: torch.Size([1, 256, 16, 16]), emb.shape: torch.Size([1, 256, 16, 16])\n",
      "Down: x.shape: torch.Size([1, 256, 8, 8]), emb.shape: torch.Size([1, 256, 8, 8])\n",
      "Down: x.shape: torch.Size([1, 128, 16, 16]), emb.shape: torch.Size([1, 128, 16, 16])\n",
      "Down: x.shape: torch.Size([1, 64, 32, 32]), emb.shape: torch.Size([1, 64, 32, 32])\n",
      "Down: x.shape: torch.Size([1, 64, 64, 64]), emb.shape: torch.Size([1, 64, 64, 64])\n"
     ]
    },
    {
     "name": "stderr",
     "output_type": "stream",
     "text": [
      "310it [00:14, 21.91it/s]"
     ]
    },
    {
     "name": "stdout",
     "output_type": "stream",
     "text": [
      "Down: x.shape: torch.Size([1, 128, 32, 32]), emb.shape: torch.Size([1, 128, 32, 32])\n",
      "Down: x.shape: torch.Size([1, 256, 16, 16]), emb.shape: torch.Size([1, 256, 16, 16])\n",
      "Down: x.shape: torch.Size([1, 256, 8, 8]), emb.shape: torch.Size([1, 256, 8, 8])\n",
      "Down: x.shape: torch.Size([1, 128, 16, 16]), emb.shape: torch.Size([1, 128, 16, 16])\n",
      "Down: x.shape: torch.Size([1, 64, 32, 32]), emb.shape: torch.Size([1, 64, 32, 32])\n",
      "Down: x.shape: torch.Size([1, 64, 64, 64]), emb.shape: torch.Size([1, 64, 64, 64])\n",
      "Down: x.shape: torch.Size([1, 128, 32, 32]), emb.shape: torch.Size([1, 128, 32, 32])\n",
      "Down: x.shape: torch.Size([1, 256, 16, 16]), emb.shape: torch.Size([1, 256, 16, 16])\n",
      "Down: x.shape: torch.Size([1, 256, 8, 8]), emb.shape: torch.Size([1, 256, 8, 8])\n",
      "Down: x.shape: torch.Size([1, 128, 16, 16]), emb.shape: torch.Size([1, 128, 16, 16])\n",
      "Down: x.shape: torch.Size([1, 64, 32, 32]), emb.shape: torch.Size([1, 64, 32, 32])\n",
      "Down: x.shape: torch.Size([1, 64, 64, 64]), emb.shape: torch.Size([1, 64, 64, 64])\n",
      "Down: x.shape: torch.Size([1, 128, 32, 32]), emb.shape: torch.Size([1, 128, 32, 32])\n",
      "Down: x.shape: torch.Size([1, 256, 16, 16]), emb.shape: torch.Size([1, 256, 16, 16])\n",
      "Down: x.shape: torch.Size([1, 256, 8, 8]), emb.shape: torch.Size([1, 256, 8, 8])\n",
      "Down: x.shape: torch.Size([1, 128, 16, 16]), emb.shape: torch.Size([1, 128, 16, 16])\n",
      "Down: x.shape: torch.Size([1, 64, 32, 32]), emb.shape: torch.Size([1, 64, 32, 32])\n",
      "Down: x.shape: torch.Size([1, 64, 64, 64]), emb.shape: torch.Size([1, 64, 64, 64])\n",
      "Down: x.shape: torch.Size([1, 128, 32, 32]), emb.shape: torch.Size([1, 128, 32, 32])\n",
      "Down: x.shape: torch.Size([1, 256, 16, 16]), emb.shape: torch.Size([1, 256, 16, 16])\n",
      "Down: x.shape: torch.Size([1, 256, 8, 8]), emb.shape: torch.Size([1, 256, 8, 8])\n",
      "Down: x.shape: torch.Size([1, 128, 16, 16]), emb.shape: torch.Size([1, 128, 16, 16])\n",
      "Down: x.shape: torch.Size([1, 64, 32, 32]), emb.shape: torch.Size([1, 64, 32, 32])\n",
      "Down: x.shape: torch.Size([1, 64, 64, 64]), emb.shape: torch.Size([1, 64, 64, 64])\n",
      "Down: x.shape: torch.Size([1, 128, 32, 32]), emb.shape: torch.Size([1, 128, 32, 32])\n",
      "Down: x.shape: torch.Size([1, 256, 16, 16]), emb.shape: torch.Size([1, 256, 16, 16])\n",
      "Down: x.shape: torch.Size([1, 256, 8, 8]), emb.shape: torch.Size([1, 256, 8, 8])\n",
      "Down: x.shape: torch.Size([1, 128, 16, 16]), emb.shape: torch.Size([1, 128, 16, 16])\n",
      "Down: x.shape: torch.Size([1, 64, 32, 32]), emb.shape: torch.Size([1, 64, 32, 32])\n",
      "Down: x.shape: torch.Size([1, 64, 64, 64]), emb.shape: torch.Size([1, 64, 64, 64])\n"
     ]
    },
    {
     "name": "stderr",
     "output_type": "stream",
     "text": [
      "316it [00:14, 22.05it/s]"
     ]
    },
    {
     "name": "stdout",
     "output_type": "stream",
     "text": [
      "Down: x.shape: torch.Size([1, 128, 32, 32]), emb.shape: torch.Size([1, 128, 32, 32])\n",
      "Down: x.shape: torch.Size([1, 256, 16, 16]), emb.shape: torch.Size([1, 256, 16, 16])\n",
      "Down: x.shape: torch.Size([1, 256, 8, 8]), emb.shape: torch.Size([1, 256, 8, 8])\n",
      "Down: x.shape: torch.Size([1, 128, 16, 16]), emb.shape: torch.Size([1, 128, 16, 16])\n",
      "Down: x.shape: torch.Size([1, 64, 32, 32]), emb.shape: torch.Size([1, 64, 32, 32])\n",
      "Down: x.shape: torch.Size([1, 64, 64, 64]), emb.shape: torch.Size([1, 64, 64, 64])\n",
      "Down: x.shape: torch.Size([1, 128, 32, 32]), emb.shape: torch.Size([1, 128, 32, 32])\n",
      "Down: x.shape: torch.Size([1, 256, 16, 16]), emb.shape: torch.Size([1, 256, 16, 16])\n",
      "Down: x.shape: torch.Size([1, 256, 8, 8]), emb.shape: torch.Size([1, 256, 8, 8])\n",
      "Down: x.shape: torch.Size([1, 128, 16, 16]), emb.shape: torch.Size([1, 128, 16, 16])\n",
      "Down: x.shape: torch.Size([1, 64, 32, 32]), emb.shape: torch.Size([1, 64, 32, 32])\n",
      "Down: x.shape: torch.Size([1, 64, 64, 64]), emb.shape: torch.Size([1, 64, 64, 64])\n",
      "Down: x.shape: torch.Size([1, 128, 32, 32]), emb.shape: torch.Size([1, 128, 32, 32])\n",
      "Down: x.shape: torch.Size([1, 256, 16, 16]), emb.shape: torch.Size([1, 256, 16, 16])\n",
      "Down: x.shape: torch.Size([1, 256, 8, 8]), emb.shape: torch.Size([1, 256, 8, 8])\n",
      "Down: x.shape: torch.Size([1, 128, 16, 16]), emb.shape: torch.Size([1, 128, 16, 16])\n",
      "Down: x.shape: torch.Size([1, 64, 32, 32]), emb.shape: torch.Size([1, 64, 32, 32])\n",
      "Down: x.shape: torch.Size([1, 64, 64, 64]), emb.shape: torch.Size([1, 64, 64, 64])\n",
      "Down: x.shape: torch.Size([1, 128, 32, 32]), emb.shape: torch.Size([1, 128, 32, 32])\n",
      "Down: x.shape: torch.Size([1, 256, 16, 16]), emb.shape: torch.Size([1, 256, 16, 16])\n",
      "Down: x.shape: torch.Size([1, 256, 8, 8]), emb.shape: torch.Size([1, 256, 8, 8])\n",
      "Down: x.shape: torch.Size([1, 128, 16, 16]), emb.shape: torch.Size([1, 128, 16, 16])\n",
      "Down: x.shape: torch.Size([1, 64, 32, 32]), emb.shape: torch.Size([1, 64, 32, 32])\n",
      "Down: x.shape: torch.Size([1, 64, 64, 64]), emb.shape: torch.Size([1, 64, 64, 64])\n",
      "Down: x.shape: torch.Size([1, 128, 32, 32]), emb.shape: torch.Size([1, 128, 32, 32])\n",
      "Down: x.shape: torch.Size([1, 256, 16, 16]), emb.shape: torch.Size([1, 256, 16, 16])\n",
      "Down: x.shape: torch.Size([1, 256, 8, 8]), emb.shape: torch.Size([1, 256, 8, 8])\n",
      "Down: x.shape: torch.Size([1, 128, 16, 16]), emb.shape: torch.Size([1, 128, 16, 16])\n",
      "Down: x.shape: torch.Size([1, 64, 32, 32]), emb.shape: torch.Size([1, 64, 32, 32])\n",
      "Down: x.shape: torch.Size([1, 64, 64, 64]), emb.shape: torch.Size([1, 64, 64, 64])\n"
     ]
    },
    {
     "name": "stderr",
     "output_type": "stream",
     "text": [
      "322it [00:15, 21.98it/s]"
     ]
    },
    {
     "name": "stdout",
     "output_type": "stream",
     "text": [
      "Down: x.shape: torch.Size([1, 128, 32, 32]), emb.shape: torch.Size([1, 128, 32, 32])\n",
      "Down: x.shape: torch.Size([1, 256, 16, 16]), emb.shape: torch.Size([1, 256, 16, 16])\n",
      "Down: x.shape: torch.Size([1, 256, 8, 8]), emb.shape: torch.Size([1, 256, 8, 8])\n",
      "Down: x.shape: torch.Size([1, 128, 16, 16]), emb.shape: torch.Size([1, 128, 16, 16])\n",
      "Down: x.shape: torch.Size([1, 64, 32, 32]), emb.shape: torch.Size([1, 64, 32, 32])\n",
      "Down: x.shape: torch.Size([1, 64, 64, 64]), emb.shape: torch.Size([1, 64, 64, 64])\n",
      "Down: x.shape: torch.Size([1, 128, 32, 32]), emb.shape: torch.Size([1, 128, 32, 32])\n",
      "Down: x.shape: torch.Size([1, 256, 16, 16]), emb.shape: torch.Size([1, 256, 16, 16])\n",
      "Down: x.shape: torch.Size([1, 256, 8, 8]), emb.shape: torch.Size([1, 256, 8, 8])\n",
      "Down: x.shape: torch.Size([1, 128, 16, 16]), emb.shape: torch.Size([1, 128, 16, 16])\n",
      "Down: x.shape: torch.Size([1, 64, 32, 32]), emb.shape: torch.Size([1, 64, 32, 32])\n",
      "Down: x.shape: torch.Size([1, 64, 64, 64]), emb.shape: torch.Size([1, 64, 64, 64])\n",
      "Down: x.shape: torch.Size([1, 128, 32, 32]), emb.shape: torch.Size([1, 128, 32, 32])\n",
      "Down: x.shape: torch.Size([1, 256, 16, 16]), emb.shape: torch.Size([1, 256, 16, 16])\n",
      "Down: x.shape: torch.Size([1, 256, 8, 8]), emb.shape: torch.Size([1, 256, 8, 8])\n",
      "Down: x.shape: torch.Size([1, 128, 16, 16]), emb.shape: torch.Size([1, 128, 16, 16])\n",
      "Down: x.shape: torch.Size([1, 64, 32, 32]), emb.shape: torch.Size([1, 64, 32, 32])\n",
      "Down: x.shape: torch.Size([1, 64, 64, 64]), emb.shape: torch.Size([1, 64, 64, 64])\n",
      "Down: x.shape: torch.Size([1, 128, 32, 32]), emb.shape: torch.Size([1, 128, 32, 32])\n",
      "Down: x.shape: torch.Size([1, 256, 16, 16]), emb.shape: torch.Size([1, 256, 16, 16])\n",
      "Down: x.shape: torch.Size([1, 256, 8, 8]), emb.shape: torch.Size([1, 256, 8, 8])\n",
      "Down: x.shape: torch.Size([1, 128, 16, 16]), emb.shape: torch.Size([1, 128, 16, 16])\n",
      "Down: x.shape: torch.Size([1, 64, 32, 32]), emb.shape: torch.Size([1, 64, 32, 32])\n",
      "Down: x.shape: torch.Size([1, 64, 64, 64]), emb.shape: torch.Size([1, 64, 64, 64])\n",
      "Down: x.shape: torch.Size([1, 128, 32, 32]), emb.shape: torch.Size([1, 128, 32, 32])\n",
      "Down: x.shape: torch.Size([1, 256, 16, 16]), emb.shape: torch.Size([1, 256, 16, 16])\n",
      "Down: x.shape: torch.Size([1, 256, 8, 8]), emb.shape: torch.Size([1, 256, 8, 8])\n",
      "Down: x.shape: torch.Size([1, 128, 16, 16]), emb.shape: torch.Size([1, 128, 16, 16])\n",
      "Down: x.shape: torch.Size([1, 64, 32, 32]), emb.shape: torch.Size([1, 64, 32, 32])\n",
      "Down: x.shape: torch.Size([1, 64, 64, 64]), emb.shape: torch.Size([1, 64, 64, 64])\n"
     ]
    },
    {
     "name": "stderr",
     "output_type": "stream",
     "text": [
      "325it [00:15, 22.05it/s]"
     ]
    },
    {
     "name": "stdout",
     "output_type": "stream",
     "text": [
      "Down: x.shape: torch.Size([1, 128, 32, 32]), emb.shape: torch.Size([1, 128, 32, 32])\n",
      "Down: x.shape: torch.Size([1, 256, 16, 16]), emb.shape: torch.Size([1, 256, 16, 16])\n",
      "Down: x.shape: torch.Size([1, 256, 8, 8]), emb.shape: torch.Size([1, 256, 8, 8])\n",
      "Down: x.shape: torch.Size([1, 128, 16, 16]), emb.shape: torch.Size([1, 128, 16, 16])\n",
      "Down: x.shape: torch.Size([1, 64, 32, 32]), emb.shape: torch.Size([1, 64, 32, 32])\n",
      "Down: x.shape: torch.Size([1, 64, 64, 64]), emb.shape: torch.Size([1, 64, 64, 64])\n",
      "Down: x.shape: torch.Size([1, 128, 32, 32]), emb.shape: torch.Size([1, 128, 32, 32])\n",
      "Down: x.shape: torch.Size([1, 256, 16, 16]), emb.shape: torch.Size([1, 256, 16, 16])\n",
      "Down: x.shape: torch.Size([1, 256, 8, 8]), emb.shape: torch.Size([1, 256, 8, 8])\n",
      "Down: x.shape: torch.Size([1, 128, 16, 16]), emb.shape: torch.Size([1, 128, 16, 16])\n",
      "Down: x.shape: torch.Size([1, 64, 32, 32]), emb.shape: torch.Size([1, 64, 32, 32])\n",
      "Down: x.shape: torch.Size([1, 64, 64, 64]), emb.shape: torch.Size([1, 64, 64, 64])\n",
      "Down: x.shape: torch.Size([1, 128, 32, 32]), emb.shape: torch.Size([1, 128, 32, 32])\n",
      "Down: x.shape: torch.Size([1, 256, 16, 16]), emb.shape: torch.Size([1, 256, 16, 16])\n",
      "Down: x.shape: torch.Size([1, 256, 8, 8]), emb.shape: torch.Size([1, 256, 8, 8])\n",
      "Down: x.shape: torch.Size([1, 128, 16, 16]), emb.shape: torch.Size([1, 128, 16, 16])\n",
      "Down: x.shape: torch.Size([1, 64, 32, 32]), emb.shape: torch.Size([1, 64, 32, 32])\n",
      "Down: x.shape: torch.Size([1, 64, 64, 64]), emb.shape: torch.Size([1, 64, 64, 64])\n",
      "Down: x.shape: torch.Size([1, 128, 32, 32]), emb.shape: torch.Size([1, 128, 32, 32])\n",
      "Down: x.shape: torch.Size([1, 256, 16, 16]), emb.shape: torch.Size([1, 256, 16, 16])\n",
      "Down: x.shape: torch.Size([1, 256, 8, 8]), emb.shape: torch.Size([1, 256, 8, 8])\n",
      "Down: x.shape: torch.Size([1, 128, 16, 16]), emb.shape: torch.Size([1, 128, 16, 16])\n",
      "Down: x.shape: torch.Size([1, 64, 32, 32]), emb.shape: torch.Size([1, 64, 32, 32])\n",
      "Down: x.shape: torch.Size([1, 64, 64, 64]), emb.shape: torch.Size([1, 64, 64, 64])\n",
      "Down: x.shape: torch.Size([1, 128, 32, 32]), emb.shape: torch.Size([1, 128, 32, 32])\n",
      "Down: x.shape: torch.Size([1, 256, 16, 16]), emb.shape: torch.Size([1, 256, 16, 16])\n",
      "Down: x.shape: torch.Size([1, 256, 8, 8]), emb.shape: torch.Size([1, 256, 8, 8])\n",
      "Down: x.shape: torch.Size([1, 128, 16, 16]), emb.shape: torch.Size([1, 128, 16, 16])\n",
      "Down: x.shape: torch.Size([1, 64, 32, 32]), emb.shape: torch.Size([1, 64, 32, 32])\n",
      "Down: x.shape: torch.Size([1, 64, 64, 64]), emb.shape: torch.Size([1, 64, 64, 64])\n"
     ]
    },
    {
     "name": "stderr",
     "output_type": "stream",
     "text": [
      "331it [00:15, 22.20it/s]"
     ]
    },
    {
     "name": "stdout",
     "output_type": "stream",
     "text": [
      "Down: x.shape: torch.Size([1, 128, 32, 32]), emb.shape: torch.Size([1, 128, 32, 32])\n",
      "Down: x.shape: torch.Size([1, 256, 16, 16]), emb.shape: torch.Size([1, 256, 16, 16])\n",
      "Down: x.shape: torch.Size([1, 256, 8, 8]), emb.shape: torch.Size([1, 256, 8, 8])\n",
      "Down: x.shape: torch.Size([1, 128, 16, 16]), emb.shape: torch.Size([1, 128, 16, 16])\n",
      "Down: x.shape: torch.Size([1, 64, 32, 32]), emb.shape: torch.Size([1, 64, 32, 32])\n",
      "Down: x.shape: torch.Size([1, 64, 64, 64]), emb.shape: torch.Size([1, 64, 64, 64])\n",
      "Down: x.shape: torch.Size([1, 128, 32, 32]), emb.shape: torch.Size([1, 128, 32, 32])\n",
      "Down: x.shape: torch.Size([1, 256, 16, 16]), emb.shape: torch.Size([1, 256, 16, 16])\n",
      "Down: x.shape: torch.Size([1, 256, 8, 8]), emb.shape: torch.Size([1, 256, 8, 8])\n",
      "Down: x.shape: torch.Size([1, 128, 16, 16]), emb.shape: torch.Size([1, 128, 16, 16])\n",
      "Down: x.shape: torch.Size([1, 64, 32, 32]), emb.shape: torch.Size([1, 64, 32, 32])\n",
      "Down: x.shape: torch.Size([1, 64, 64, 64]), emb.shape: torch.Size([1, 64, 64, 64])\n",
      "Down: x.shape: torch.Size([1, 128, 32, 32]), emb.shape: torch.Size([1, 128, 32, 32])\n",
      "Down: x.shape: torch.Size([1, 256, 16, 16]), emb.shape: torch.Size([1, 256, 16, 16])\n",
      "Down: x.shape: torch.Size([1, 256, 8, 8]), emb.shape: torch.Size([1, 256, 8, 8])\n",
      "Down: x.shape: torch.Size([1, 128, 16, 16]), emb.shape: torch.Size([1, 128, 16, 16])\n",
      "Down: x.shape: torch.Size([1, 64, 32, 32]), emb.shape: torch.Size([1, 64, 32, 32])\n",
      "Down: x.shape: torch.Size([1, 64, 64, 64]), emb.shape: torch.Size([1, 64, 64, 64])\n",
      "Down: x.shape: torch.Size([1, 128, 32, 32]), emb.shape: torch.Size([1, 128, 32, 32])\n",
      "Down: x.shape: torch.Size([1, 256, 16, 16]), emb.shape: torch.Size([1, 256, 16, 16])\n",
      "Down: x.shape: torch.Size([1, 256, 8, 8]), emb.shape: torch.Size([1, 256, 8, 8])\n",
      "Down: x.shape: torch.Size([1, 128, 16, 16]), emb.shape: torch.Size([1, 128, 16, 16])\n",
      "Down: x.shape: torch.Size([1, 64, 32, 32]), emb.shape: torch.Size([1, 64, 32, 32])\n",
      "Down: x.shape: torch.Size([1, 64, 64, 64]), emb.shape: torch.Size([1, 64, 64, 64])\n",
      "Down: x.shape: torch.Size([1, 128, 32, 32]), emb.shape: torch.Size([1, 128, 32, 32])\n",
      "Down: x.shape: torch.Size([1, 256, 16, 16]), emb.shape: torch.Size([1, 256, 16, 16])\n",
      "Down: x.shape: torch.Size([1, 256, 8, 8]), emb.shape: torch.Size([1, 256, 8, 8])\n",
      "Down: x.shape: torch.Size([1, 128, 16, 16]), emb.shape: torch.Size([1, 128, 16, 16])\n",
      "Down: x.shape: torch.Size([1, 64, 32, 32]), emb.shape: torch.Size([1, 64, 32, 32])\n",
      "Down: x.shape: torch.Size([1, 64, 64, 64]), emb.shape: torch.Size([1, 64, 64, 64])\n"
     ]
    },
    {
     "name": "stderr",
     "output_type": "stream",
     "text": [
      "337it [00:15, 22.20it/s]"
     ]
    },
    {
     "name": "stdout",
     "output_type": "stream",
     "text": [
      "Down: x.shape: torch.Size([1, 128, 32, 32]), emb.shape: torch.Size([1, 128, 32, 32])\n",
      "Down: x.shape: torch.Size([1, 256, 16, 16]), emb.shape: torch.Size([1, 256, 16, 16])\n",
      "Down: x.shape: torch.Size([1, 256, 8, 8]), emb.shape: torch.Size([1, 256, 8, 8])\n",
      "Down: x.shape: torch.Size([1, 128, 16, 16]), emb.shape: torch.Size([1, 128, 16, 16])\n",
      "Down: x.shape: torch.Size([1, 64, 32, 32]), emb.shape: torch.Size([1, 64, 32, 32])\n",
      "Down: x.shape: torch.Size([1, 64, 64, 64]), emb.shape: torch.Size([1, 64, 64, 64])\n",
      "Down: x.shape: torch.Size([1, 128, 32, 32]), emb.shape: torch.Size([1, 128, 32, 32])\n",
      "Down: x.shape: torch.Size([1, 256, 16, 16]), emb.shape: torch.Size([1, 256, 16, 16])\n",
      "Down: x.shape: torch.Size([1, 256, 8, 8]), emb.shape: torch.Size([1, 256, 8, 8])\n",
      "Down: x.shape: torch.Size([1, 128, 16, 16]), emb.shape: torch.Size([1, 128, 16, 16])\n",
      "Down: x.shape: torch.Size([1, 64, 32, 32]), emb.shape: torch.Size([1, 64, 32, 32])\n",
      "Down: x.shape: torch.Size([1, 64, 64, 64]), emb.shape: torch.Size([1, 64, 64, 64])\n",
      "Down: x.shape: torch.Size([1, 128, 32, 32]), emb.shape: torch.Size([1, 128, 32, 32])\n",
      "Down: x.shape: torch.Size([1, 256, 16, 16]), emb.shape: torch.Size([1, 256, 16, 16])\n",
      "Down: x.shape: torch.Size([1, 256, 8, 8]), emb.shape: torch.Size([1, 256, 8, 8])\n",
      "Down: x.shape: torch.Size([1, 128, 16, 16]), emb.shape: torch.Size([1, 128, 16, 16])\n",
      "Down: x.shape: torch.Size([1, 64, 32, 32]), emb.shape: torch.Size([1, 64, 32, 32])\n",
      "Down: x.shape: torch.Size([1, 64, 64, 64]), emb.shape: torch.Size([1, 64, 64, 64])\n",
      "Down: x.shape: torch.Size([1, 128, 32, 32]), emb.shape: torch.Size([1, 128, 32, 32])\n",
      "Down: x.shape: torch.Size([1, 256, 16, 16]), emb.shape: torch.Size([1, 256, 16, 16])\n",
      "Down: x.shape: torch.Size([1, 256, 8, 8]), emb.shape: torch.Size([1, 256, 8, 8])\n",
      "Down: x.shape: torch.Size([1, 128, 16, 16]), emb.shape: torch.Size([1, 128, 16, 16])\n",
      "Down: x.shape: torch.Size([1, 64, 32, 32]), emb.shape: torch.Size([1, 64, 32, 32])\n",
      "Down: x.shape: torch.Size([1, 64, 64, 64]), emb.shape: torch.Size([1, 64, 64, 64])\n",
      "Down: x.shape: torch.Size([1, 128, 32, 32]), emb.shape: torch.Size([1, 128, 32, 32])\n",
      "Down: x.shape: torch.Size([1, 256, 16, 16]), emb.shape: torch.Size([1, 256, 16, 16])\n",
      "Down: x.shape: torch.Size([1, 256, 8, 8]), emb.shape: torch.Size([1, 256, 8, 8])\n",
      "Down: x.shape: torch.Size([1, 128, 16, 16]), emb.shape: torch.Size([1, 128, 16, 16])\n",
      "Down: x.shape: torch.Size([1, 64, 32, 32]), emb.shape: torch.Size([1, 64, 32, 32])\n",
      "Down: x.shape: torch.Size([1, 64, 64, 64]), emb.shape: torch.Size([1, 64, 64, 64])\n"
     ]
    },
    {
     "name": "stderr",
     "output_type": "stream",
     "text": [
      "340it [00:16, 22.22it/s]"
     ]
    },
    {
     "name": "stdout",
     "output_type": "stream",
     "text": [
      "Down: x.shape: torch.Size([1, 128, 32, 32]), emb.shape: torch.Size([1, 128, 32, 32])\n",
      "Down: x.shape: torch.Size([1, 256, 16, 16]), emb.shape: torch.Size([1, 256, 16, 16])\n",
      "Down: x.shape: torch.Size([1, 256, 8, 8]), emb.shape: torch.Size([1, 256, 8, 8])\n",
      "Down: x.shape: torch.Size([1, 128, 16, 16]), emb.shape: torch.Size([1, 128, 16, 16])\n",
      "Down: x.shape: torch.Size([1, 64, 32, 32]), emb.shape: torch.Size([1, 64, 32, 32])\n",
      "Down: x.shape: torch.Size([1, 64, 64, 64]), emb.shape: torch.Size([1, 64, 64, 64])\n",
      "Down: x.shape: torch.Size([1, 128, 32, 32]), emb.shape: torch.Size([1, 128, 32, 32])\n",
      "Down: x.shape: torch.Size([1, 256, 16, 16]), emb.shape: torch.Size([1, 256, 16, 16])\n",
      "Down: x.shape: torch.Size([1, 256, 8, 8]), emb.shape: torch.Size([1, 256, 8, 8])\n",
      "Down: x.shape: torch.Size([1, 128, 16, 16]), emb.shape: torch.Size([1, 128, 16, 16])\n",
      "Down: x.shape: torch.Size([1, 64, 32, 32]), emb.shape: torch.Size([1, 64, 32, 32])\n",
      "Down: x.shape: torch.Size([1, 64, 64, 64]), emb.shape: torch.Size([1, 64, 64, 64])\n",
      "Down: x.shape: torch.Size([1, 128, 32, 32]), emb.shape: torch.Size([1, 128, 32, 32])\n",
      "Down: x.shape: torch.Size([1, 256, 16, 16]), emb.shape: torch.Size([1, 256, 16, 16])\n",
      "Down: x.shape: torch.Size([1, 256, 8, 8]), emb.shape: torch.Size([1, 256, 8, 8])\n",
      "Down: x.shape: torch.Size([1, 128, 16, 16]), emb.shape: torch.Size([1, 128, 16, 16])\n",
      "Down: x.shape: torch.Size([1, 64, 32, 32]), emb.shape: torch.Size([1, 64, 32, 32])\n",
      "Down: x.shape: torch.Size([1, 64, 64, 64]), emb.shape: torch.Size([1, 64, 64, 64])\n",
      "Down: x.shape: torch.Size([1, 128, 32, 32]), emb.shape: torch.Size([1, 128, 32, 32])\n",
      "Down: x.shape: torch.Size([1, 256, 16, 16]), emb.shape: torch.Size([1, 256, 16, 16])\n",
      "Down: x.shape: torch.Size([1, 256, 8, 8]), emb.shape: torch.Size([1, 256, 8, 8])\n",
      "Down: x.shape: torch.Size([1, 128, 16, 16]), emb.shape: torch.Size([1, 128, 16, 16])\n",
      "Down: x.shape: torch.Size([1, 64, 32, 32]), emb.shape: torch.Size([1, 64, 32, 32])\n",
      "Down: x.shape: torch.Size([1, 64, 64, 64]), emb.shape: torch.Size([1, 64, 64, 64])\n",
      "Down: x.shape: torch.Size([1, 128, 32, 32]), emb.shape: torch.Size([1, 128, 32, 32])\n",
      "Down: x.shape: torch.Size([1, 256, 16, 16]), emb.shape: torch.Size([1, 256, 16, 16])\n",
      "Down: x.shape: torch.Size([1, 256, 8, 8]), emb.shape: torch.Size([1, 256, 8, 8])\n",
      "Down: x.shape: torch.Size([1, 128, 16, 16]), emb.shape: torch.Size([1, 128, 16, 16])\n",
      "Down: x.shape: torch.Size([1, 64, 32, 32]), emb.shape: torch.Size([1, 64, 32, 32])\n",
      "Down: x.shape: torch.Size([1, 64, 64, 64]), emb.shape: torch.Size([1, 64, 64, 64])\n"
     ]
    },
    {
     "name": "stderr",
     "output_type": "stream",
     "text": [
      "346it [00:16, 22.02it/s]"
     ]
    },
    {
     "name": "stdout",
     "output_type": "stream",
     "text": [
      "Down: x.shape: torch.Size([1, 128, 32, 32]), emb.shape: torch.Size([1, 128, 32, 32])\n",
      "Down: x.shape: torch.Size([1, 256, 16, 16]), emb.shape: torch.Size([1, 256, 16, 16])\n",
      "Down: x.shape: torch.Size([1, 256, 8, 8]), emb.shape: torch.Size([1, 256, 8, 8])\n",
      "Down: x.shape: torch.Size([1, 128, 16, 16]), emb.shape: torch.Size([1, 128, 16, 16])\n",
      "Down: x.shape: torch.Size([1, 64, 32, 32]), emb.shape: torch.Size([1, 64, 32, 32])\n",
      "Down: x.shape: torch.Size([1, 64, 64, 64]), emb.shape: torch.Size([1, 64, 64, 64])\n",
      "Down: x.shape: torch.Size([1, 128, 32, 32]), emb.shape: torch.Size([1, 128, 32, 32])\n",
      "Down: x.shape: torch.Size([1, 256, 16, 16]), emb.shape: torch.Size([1, 256, 16, 16])\n",
      "Down: x.shape: torch.Size([1, 256, 8, 8]), emb.shape: torch.Size([1, 256, 8, 8])\n",
      "Down: x.shape: torch.Size([1, 128, 16, 16]), emb.shape: torch.Size([1, 128, 16, 16])\n",
      "Down: x.shape: torch.Size([1, 64, 32, 32]), emb.shape: torch.Size([1, 64, 32, 32])\n",
      "Down: x.shape: torch.Size([1, 64, 64, 64]), emb.shape: torch.Size([1, 64, 64, 64])\n",
      "Down: x.shape: torch.Size([1, 128, 32, 32]), emb.shape: torch.Size([1, 128, 32, 32])\n",
      "Down: x.shape: torch.Size([1, 256, 16, 16]), emb.shape: torch.Size([1, 256, 16, 16])\n",
      "Down: x.shape: torch.Size([1, 256, 8, 8]), emb.shape: torch.Size([1, 256, 8, 8])\n",
      "Down: x.shape: torch.Size([1, 128, 16, 16]), emb.shape: torch.Size([1, 128, 16, 16])\n",
      "Down: x.shape: torch.Size([1, 64, 32, 32]), emb.shape: torch.Size([1, 64, 32, 32])\n",
      "Down: x.shape: torch.Size([1, 64, 64, 64]), emb.shape: torch.Size([1, 64, 64, 64])\n",
      "Down: x.shape: torch.Size([1, 128, 32, 32]), emb.shape: torch.Size([1, 128, 32, 32])\n",
      "Down: x.shape: torch.Size([1, 256, 16, 16]), emb.shape: torch.Size([1, 256, 16, 16])\n",
      "Down: x.shape: torch.Size([1, 256, 8, 8]), emb.shape: torch.Size([1, 256, 8, 8])\n",
      "Down: x.shape: torch.Size([1, 128, 16, 16]), emb.shape: torch.Size([1, 128, 16, 16])\n",
      "Down: x.shape: torch.Size([1, 64, 32, 32]), emb.shape: torch.Size([1, 64, 32, 32])\n",
      "Down: x.shape: torch.Size([1, 64, 64, 64]), emb.shape: torch.Size([1, 64, 64, 64])\n",
      "Down: x.shape: torch.Size([1, 128, 32, 32]), emb.shape: torch.Size([1, 128, 32, 32])\n",
      "Down: x.shape: torch.Size([1, 256, 16, 16]), emb.shape: torch.Size([1, 256, 16, 16])\n",
      "Down: x.shape: torch.Size([1, 256, 8, 8]), emb.shape: torch.Size([1, 256, 8, 8])\n",
      "Down: x.shape: torch.Size([1, 128, 16, 16]), emb.shape: torch.Size([1, 128, 16, 16])\n",
      "Down: x.shape: torch.Size([1, 64, 32, 32]), emb.shape: torch.Size([1, 64, 32, 32])\n",
      "Down: x.shape: torch.Size([1, 64, 64, 64]), emb.shape: torch.Size([1, 64, 64, 64])\n"
     ]
    },
    {
     "name": "stderr",
     "output_type": "stream",
     "text": [
      "349it [00:16, 21.80it/s]"
     ]
    },
    {
     "name": "stdout",
     "output_type": "stream",
     "text": [
      "Down: x.shape: torch.Size([1, 128, 32, 32]), emb.shape: torch.Size([1, 128, 32, 32])\n",
      "Down: x.shape: torch.Size([1, 256, 16, 16]), emb.shape: torch.Size([1, 256, 16, 16])\n",
      "Down: x.shape: torch.Size([1, 256, 8, 8]), emb.shape: torch.Size([1, 256, 8, 8])\n",
      "Down: x.shape: torch.Size([1, 128, 16, 16]), emb.shape: torch.Size([1, 128, 16, 16])\n",
      "Down: x.shape: torch.Size([1, 64, 32, 32]), emb.shape: torch.Size([1, 64, 32, 32])\n",
      "Down: x.shape: torch.Size([1, 64, 64, 64]), emb.shape: torch.Size([1, 64, 64, 64])\n",
      "Down: x.shape: torch.Size([1, 128, 32, 32]), emb.shape: torch.Size([1, 128, 32, 32])\n",
      "Down: x.shape: torch.Size([1, 256, 16, 16]), emb.shape: torch.Size([1, 256, 16, 16])\n",
      "Down: x.shape: torch.Size([1, 256, 8, 8]), emb.shape: torch.Size([1, 256, 8, 8])\n",
      "Down: x.shape: torch.Size([1, 128, 16, 16]), emb.shape: torch.Size([1, 128, 16, 16])\n",
      "Down: x.shape: torch.Size([1, 64, 32, 32]), emb.shape: torch.Size([1, 64, 32, 32])\n",
      "Down: x.shape: torch.Size([1, 64, 64, 64]), emb.shape: torch.Size([1, 64, 64, 64])\n",
      "Down: x.shape: torch.Size([1, 128, 32, 32]), emb.shape: torch.Size([1, 128, 32, 32])\n",
      "Down: x.shape: torch.Size([1, 256, 16, 16]), emb.shape: torch.Size([1, 256, 16, 16])\n",
      "Down: x.shape: torch.Size([1, 256, 8, 8]), emb.shape: torch.Size([1, 256, 8, 8])\n",
      "Down: x.shape: torch.Size([1, 128, 16, 16]), emb.shape: torch.Size([1, 128, 16, 16])\n",
      "Down: x.shape: torch.Size([1, 64, 32, 32]), emb.shape: torch.Size([1, 64, 32, 32])\n",
      "Down: x.shape: torch.Size([1, 64, 64, 64]), emb.shape: torch.Size([1, 64, 64, 64])\n",
      "Down: x.shape: torch.Size([1, 128, 32, 32]), emb.shape: torch.Size([1, 128, 32, 32])\n",
      "Down: x.shape: torch.Size([1, 256, 16, 16]), emb.shape: torch.Size([1, 256, 16, 16])\n",
      "Down: x.shape: torch.Size([1, 256, 8, 8]), emb.shape: torch.Size([1, 256, 8, 8])\n",
      "Down: x.shape: torch.Size([1, 128, 16, 16]), emb.shape: torch.Size([1, 128, 16, 16])\n",
      "Down: x.shape: torch.Size([1, 64, 32, 32]), emb.shape: torch.Size([1, 64, 32, 32])\n",
      "Down: x.shape: torch.Size([1, 64, 64, 64]), emb.shape: torch.Size([1, 64, 64, 64])\n",
      "Down: x.shape: torch.Size([1, 128, 32, 32]), emb.shape: torch.Size([1, 128, 32, 32])\n",
      "Down: x.shape: torch.Size([1, 256, 16, 16]), emb.shape: torch.Size([1, 256, 16, 16])\n",
      "Down: x.shape: torch.Size([1, 256, 8, 8]), emb.shape: torch.Size([1, 256, 8, 8])\n",
      "Down: x.shape: torch.Size([1, 128, 16, 16]), emb.shape: torch.Size([1, 128, 16, 16])\n",
      "Down: x.shape: torch.Size([1, 64, 32, 32]), emb.shape: torch.Size([1, 64, 32, 32])\n",
      "Down: x.shape: torch.Size([1, 64, 64, 64]), emb.shape: torch.Size([1, 64, 64, 64])\n"
     ]
    },
    {
     "name": "stderr",
     "output_type": "stream",
     "text": [
      "355it [00:16, 21.86it/s]"
     ]
    },
    {
     "name": "stdout",
     "output_type": "stream",
     "text": [
      "Down: x.shape: torch.Size([1, 128, 32, 32]), emb.shape: torch.Size([1, 128, 32, 32])\n",
      "Down: x.shape: torch.Size([1, 256, 16, 16]), emb.shape: torch.Size([1, 256, 16, 16])\n",
      "Down: x.shape: torch.Size([1, 256, 8, 8]), emb.shape: torch.Size([1, 256, 8, 8])\n",
      "Down: x.shape: torch.Size([1, 128, 16, 16]), emb.shape: torch.Size([1, 128, 16, 16])\n",
      "Down: x.shape: torch.Size([1, 64, 32, 32]), emb.shape: torch.Size([1, 64, 32, 32])\n",
      "Down: x.shape: torch.Size([1, 64, 64, 64]), emb.shape: torch.Size([1, 64, 64, 64])\n",
      "Down: x.shape: torch.Size([1, 128, 32, 32]), emb.shape: torch.Size([1, 128, 32, 32])\n",
      "Down: x.shape: torch.Size([1, 256, 16, 16]), emb.shape: torch.Size([1, 256, 16, 16])\n",
      "Down: x.shape: torch.Size([1, 256, 8, 8]), emb.shape: torch.Size([1, 256, 8, 8])\n",
      "Down: x.shape: torch.Size([1, 128, 16, 16]), emb.shape: torch.Size([1, 128, 16, 16])\n",
      "Down: x.shape: torch.Size([1, 64, 32, 32]), emb.shape: torch.Size([1, 64, 32, 32])\n",
      "Down: x.shape: torch.Size([1, 64, 64, 64]), emb.shape: torch.Size([1, 64, 64, 64])\n",
      "Down: x.shape: torch.Size([1, 128, 32, 32]), emb.shape: torch.Size([1, 128, 32, 32])\n",
      "Down: x.shape: torch.Size([1, 256, 16, 16]), emb.shape: torch.Size([1, 256, 16, 16])\n",
      "Down: x.shape: torch.Size([1, 256, 8, 8]), emb.shape: torch.Size([1, 256, 8, 8])\n",
      "Down: x.shape: torch.Size([1, 128, 16, 16]), emb.shape: torch.Size([1, 128, 16, 16])\n",
      "Down: x.shape: torch.Size([1, 64, 32, 32]), emb.shape: torch.Size([1, 64, 32, 32])\n",
      "Down: x.shape: torch.Size([1, 64, 64, 64]), emb.shape: torch.Size([1, 64, 64, 64])\n",
      "Down: x.shape: torch.Size([1, 128, 32, 32]), emb.shape: torch.Size([1, 128, 32, 32])\n",
      "Down: x.shape: torch.Size([1, 256, 16, 16]), emb.shape: torch.Size([1, 256, 16, 16])\n",
      "Down: x.shape: torch.Size([1, 256, 8, 8]), emb.shape: torch.Size([1, 256, 8, 8])\n",
      "Down: x.shape: torch.Size([1, 128, 16, 16]), emb.shape: torch.Size([1, 128, 16, 16])\n",
      "Down: x.shape: torch.Size([1, 64, 32, 32]), emb.shape: torch.Size([1, 64, 32, 32])\n",
      "Down: x.shape: torch.Size([1, 64, 64, 64]), emb.shape: torch.Size([1, 64, 64, 64])\n",
      "Down: x.shape: torch.Size([1, 128, 32, 32]), emb.shape: torch.Size([1, 128, 32, 32])\n",
      "Down: x.shape: torch.Size([1, 256, 16, 16]), emb.shape: torch.Size([1, 256, 16, 16])\n",
      "Down: x.shape: torch.Size([1, 256, 8, 8]), emb.shape: torch.Size([1, 256, 8, 8])\n",
      "Down: x.shape: torch.Size([1, 128, 16, 16]), emb.shape: torch.Size([1, 128, 16, 16])\n",
      "Down: x.shape: torch.Size([1, 64, 32, 32]), emb.shape: torch.Size([1, 64, 32, 32])\n",
      "Down: x.shape: torch.Size([1, 64, 64, 64]), emb.shape: torch.Size([1, 64, 64, 64])\n"
     ]
    },
    {
     "name": "stderr",
     "output_type": "stream",
     "text": [
      "361it [00:16, 21.96it/s]"
     ]
    },
    {
     "name": "stdout",
     "output_type": "stream",
     "text": [
      "Down: x.shape: torch.Size([1, 128, 32, 32]), emb.shape: torch.Size([1, 128, 32, 32])\n",
      "Down: x.shape: torch.Size([1, 256, 16, 16]), emb.shape: torch.Size([1, 256, 16, 16])\n",
      "Down: x.shape: torch.Size([1, 256, 8, 8]), emb.shape: torch.Size([1, 256, 8, 8])\n",
      "Down: x.shape: torch.Size([1, 128, 16, 16]), emb.shape: torch.Size([1, 128, 16, 16])\n",
      "Down: x.shape: torch.Size([1, 64, 32, 32]), emb.shape: torch.Size([1, 64, 32, 32])\n",
      "Down: x.shape: torch.Size([1, 64, 64, 64]), emb.shape: torch.Size([1, 64, 64, 64])\n",
      "Down: x.shape: torch.Size([1, 128, 32, 32]), emb.shape: torch.Size([1, 128, 32, 32])\n",
      "Down: x.shape: torch.Size([1, 256, 16, 16]), emb.shape: torch.Size([1, 256, 16, 16])\n",
      "Down: x.shape: torch.Size([1, 256, 8, 8]), emb.shape: torch.Size([1, 256, 8, 8])\n",
      "Down: x.shape: torch.Size([1, 128, 16, 16]), emb.shape: torch.Size([1, 128, 16, 16])\n",
      "Down: x.shape: torch.Size([1, 64, 32, 32]), emb.shape: torch.Size([1, 64, 32, 32])\n",
      "Down: x.shape: torch.Size([1, 64, 64, 64]), emb.shape: torch.Size([1, 64, 64, 64])\n",
      "Down: x.shape: torch.Size([1, 128, 32, 32]), emb.shape: torch.Size([1, 128, 32, 32])\n",
      "Down: x.shape: torch.Size([1, 256, 16, 16]), emb.shape: torch.Size([1, 256, 16, 16])\n",
      "Down: x.shape: torch.Size([1, 256, 8, 8]), emb.shape: torch.Size([1, 256, 8, 8])\n",
      "Down: x.shape: torch.Size([1, 128, 16, 16]), emb.shape: torch.Size([1, 128, 16, 16])\n",
      "Down: x.shape: torch.Size([1, 64, 32, 32]), emb.shape: torch.Size([1, 64, 32, 32])\n",
      "Down: x.shape: torch.Size([1, 64, 64, 64]), emb.shape: torch.Size([1, 64, 64, 64])\n",
      "Down: x.shape: torch.Size([1, 128, 32, 32]), emb.shape: torch.Size([1, 128, 32, 32])\n",
      "Down: x.shape: torch.Size([1, 256, 16, 16]), emb.shape: torch.Size([1, 256, 16, 16])\n",
      "Down: x.shape: torch.Size([1, 256, 8, 8]), emb.shape: torch.Size([1, 256, 8, 8])\n",
      "Down: x.shape: torch.Size([1, 128, 16, 16]), emb.shape: torch.Size([1, 128, 16, 16])\n",
      "Down: x.shape: torch.Size([1, 64, 32, 32]), emb.shape: torch.Size([1, 64, 32, 32])\n",
      "Down: x.shape: torch.Size([1, 64, 64, 64]), emb.shape: torch.Size([1, 64, 64, 64])\n",
      "Down: x.shape: torch.Size([1, 128, 32, 32]), emb.shape: torch.Size([1, 128, 32, 32])\n",
      "Down: x.shape: torch.Size([1, 256, 16, 16]), emb.shape: torch.Size([1, 256, 16, 16])\n",
      "Down: x.shape: torch.Size([1, 256, 8, 8]), emb.shape: torch.Size([1, 256, 8, 8])\n",
      "Down: x.shape: torch.Size([1, 128, 16, 16]), emb.shape: torch.Size([1, 128, 16, 16])\n",
      "Down: x.shape: torch.Size([1, 64, 32, 32]), emb.shape: torch.Size([1, 64, 32, 32])\n",
      "Down: x.shape: torch.Size([1, 64, 64, 64]), emb.shape: torch.Size([1, 64, 64, 64])\n"
     ]
    },
    {
     "name": "stderr",
     "output_type": "stream",
     "text": [
      "364it [00:17, 22.05it/s]"
     ]
    },
    {
     "name": "stdout",
     "output_type": "stream",
     "text": [
      "Down: x.shape: torch.Size([1, 128, 32, 32]), emb.shape: torch.Size([1, 128, 32, 32])\n",
      "Down: x.shape: torch.Size([1, 256, 16, 16]), emb.shape: torch.Size([1, 256, 16, 16])\n",
      "Down: x.shape: torch.Size([1, 256, 8, 8]), emb.shape: torch.Size([1, 256, 8, 8])\n",
      "Down: x.shape: torch.Size([1, 128, 16, 16]), emb.shape: torch.Size([1, 128, 16, 16])\n",
      "Down: x.shape: torch.Size([1, 64, 32, 32]), emb.shape: torch.Size([1, 64, 32, 32])\n",
      "Down: x.shape: torch.Size([1, 64, 64, 64]), emb.shape: torch.Size([1, 64, 64, 64])\n",
      "Down: x.shape: torch.Size([1, 128, 32, 32]), emb.shape: torch.Size([1, 128, 32, 32])\n",
      "Down: x.shape: torch.Size([1, 256, 16, 16]), emb.shape: torch.Size([1, 256, 16, 16])\n",
      "Down: x.shape: torch.Size([1, 256, 8, 8]), emb.shape: torch.Size([1, 256, 8, 8])\n",
      "Down: x.shape: torch.Size([1, 128, 16, 16]), emb.shape: torch.Size([1, 128, 16, 16])\n",
      "Down: x.shape: torch.Size([1, 64, 32, 32]), emb.shape: torch.Size([1, 64, 32, 32])\n",
      "Down: x.shape: torch.Size([1, 64, 64, 64]), emb.shape: torch.Size([1, 64, 64, 64])\n",
      "Down: x.shape: torch.Size([1, 128, 32, 32]), emb.shape: torch.Size([1, 128, 32, 32])\n",
      "Down: x.shape: torch.Size([1, 256, 16, 16]), emb.shape: torch.Size([1, 256, 16, 16])\n",
      "Down: x.shape: torch.Size([1, 256, 8, 8]), emb.shape: torch.Size([1, 256, 8, 8])\n",
      "Down: x.shape: torch.Size([1, 128, 16, 16]), emb.shape: torch.Size([1, 128, 16, 16])\n",
      "Down: x.shape: torch.Size([1, 64, 32, 32]), emb.shape: torch.Size([1, 64, 32, 32])\n",
      "Down: x.shape: torch.Size([1, 64, 64, 64]), emb.shape: torch.Size([1, 64, 64, 64])\n",
      "Down: x.shape: torch.Size([1, 128, 32, 32]), emb.shape: torch.Size([1, 128, 32, 32])\n",
      "Down: x.shape: torch.Size([1, 256, 16, 16]), emb.shape: torch.Size([1, 256, 16, 16])\n",
      "Down: x.shape: torch.Size([1, 256, 8, 8]), emb.shape: torch.Size([1, 256, 8, 8])\n",
      "Down: x.shape: torch.Size([1, 128, 16, 16]), emb.shape: torch.Size([1, 128, 16, 16])\n",
      "Down: x.shape: torch.Size([1, 64, 32, 32]), emb.shape: torch.Size([1, 64, 32, 32])\n",
      "Down: x.shape: torch.Size([1, 64, 64, 64]), emb.shape: torch.Size([1, 64, 64, 64])\n",
      "Down: x.shape: torch.Size([1, 128, 32, 32]), emb.shape: torch.Size([1, 128, 32, 32])\n",
      "Down: x.shape: torch.Size([1, 256, 16, 16]), emb.shape: torch.Size([1, 256, 16, 16])\n",
      "Down: x.shape: torch.Size([1, 256, 8, 8]), emb.shape: torch.Size([1, 256, 8, 8])\n",
      "Down: x.shape: torch.Size([1, 128, 16, 16]), emb.shape: torch.Size([1, 128, 16, 16])\n",
      "Down: x.shape: torch.Size([1, 64, 32, 32]), emb.shape: torch.Size([1, 64, 32, 32])\n",
      "Down: x.shape: torch.Size([1, 64, 64, 64]), emb.shape: torch.Size([1, 64, 64, 64])\n"
     ]
    },
    {
     "name": "stderr",
     "output_type": "stream",
     "text": [
      "370it [00:17, 21.97it/s]"
     ]
    },
    {
     "name": "stdout",
     "output_type": "stream",
     "text": [
      "Down: x.shape: torch.Size([1, 128, 32, 32]), emb.shape: torch.Size([1, 128, 32, 32])\n",
      "Down: x.shape: torch.Size([1, 256, 16, 16]), emb.shape: torch.Size([1, 256, 16, 16])\n",
      "Down: x.shape: torch.Size([1, 256, 8, 8]), emb.shape: torch.Size([1, 256, 8, 8])\n",
      "Down: x.shape: torch.Size([1, 128, 16, 16]), emb.shape: torch.Size([1, 128, 16, 16])\n",
      "Down: x.shape: torch.Size([1, 64, 32, 32]), emb.shape: torch.Size([1, 64, 32, 32])\n",
      "Down: x.shape: torch.Size([1, 64, 64, 64]), emb.shape: torch.Size([1, 64, 64, 64])\n",
      "Down: x.shape: torch.Size([1, 128, 32, 32]), emb.shape: torch.Size([1, 128, 32, 32])\n",
      "Down: x.shape: torch.Size([1, 256, 16, 16]), emb.shape: torch.Size([1, 256, 16, 16])\n",
      "Down: x.shape: torch.Size([1, 256, 8, 8]), emb.shape: torch.Size([1, 256, 8, 8])\n",
      "Down: x.shape: torch.Size([1, 128, 16, 16]), emb.shape: torch.Size([1, 128, 16, 16])\n",
      "Down: x.shape: torch.Size([1, 64, 32, 32]), emb.shape: torch.Size([1, 64, 32, 32])\n",
      "Down: x.shape: torch.Size([1, 64, 64, 64]), emb.shape: torch.Size([1, 64, 64, 64])\n",
      "Down: x.shape: torch.Size([1, 128, 32, 32]), emb.shape: torch.Size([1, 128, 32, 32])\n",
      "Down: x.shape: torch.Size([1, 256, 16, 16]), emb.shape: torch.Size([1, 256, 16, 16])\n",
      "Down: x.shape: torch.Size([1, 256, 8, 8]), emb.shape: torch.Size([1, 256, 8, 8])\n",
      "Down: x.shape: torch.Size([1, 128, 16, 16]), emb.shape: torch.Size([1, 128, 16, 16])\n",
      "Down: x.shape: torch.Size([1, 64, 32, 32]), emb.shape: torch.Size([1, 64, 32, 32])\n",
      "Down: x.shape: torch.Size([1, 64, 64, 64]), emb.shape: torch.Size([1, 64, 64, 64])\n",
      "Down: x.shape: torch.Size([1, 128, 32, 32]), emb.shape: torch.Size([1, 128, 32, 32])\n",
      "Down: x.shape: torch.Size([1, 256, 16, 16]), emb.shape: torch.Size([1, 256, 16, 16])\n",
      "Down: x.shape: torch.Size([1, 256, 8, 8]), emb.shape: torch.Size([1, 256, 8, 8])\n",
      "Down: x.shape: torch.Size([1, 128, 16, 16]), emb.shape: torch.Size([1, 128, 16, 16])\n",
      "Down: x.shape: torch.Size([1, 64, 32, 32]), emb.shape: torch.Size([1, 64, 32, 32])\n",
      "Down: x.shape: torch.Size([1, 64, 64, 64]), emb.shape: torch.Size([1, 64, 64, 64])\n",
      "Down: x.shape: torch.Size([1, 128, 32, 32]), emb.shape: torch.Size([1, 128, 32, 32])\n",
      "Down: x.shape: torch.Size([1, 256, 16, 16]), emb.shape: torch.Size([1, 256, 16, 16])\n",
      "Down: x.shape: torch.Size([1, 256, 8, 8]), emb.shape: torch.Size([1, 256, 8, 8])\n",
      "Down: x.shape: torch.Size([1, 128, 16, 16]), emb.shape: torch.Size([1, 128, 16, 16])\n",
      "Down: x.shape: torch.Size([1, 64, 32, 32]), emb.shape: torch.Size([1, 64, 32, 32])\n",
      "Down: x.shape: torch.Size([1, 64, 64, 64]), emb.shape: torch.Size([1, 64, 64, 64])\n"
     ]
    },
    {
     "name": "stderr",
     "output_type": "stream",
     "text": [
      "376it [00:17, 22.16it/s]"
     ]
    },
    {
     "name": "stdout",
     "output_type": "stream",
     "text": [
      "Down: x.shape: torch.Size([1, 128, 32, 32]), emb.shape: torch.Size([1, 128, 32, 32])\n",
      "Down: x.shape: torch.Size([1, 256, 16, 16]), emb.shape: torch.Size([1, 256, 16, 16])\n",
      "Down: x.shape: torch.Size([1, 256, 8, 8]), emb.shape: torch.Size([1, 256, 8, 8])\n",
      "Down: x.shape: torch.Size([1, 128, 16, 16]), emb.shape: torch.Size([1, 128, 16, 16])\n",
      "Down: x.shape: torch.Size([1, 64, 32, 32]), emb.shape: torch.Size([1, 64, 32, 32])\n",
      "Down: x.shape: torch.Size([1, 64, 64, 64]), emb.shape: torch.Size([1, 64, 64, 64])\n",
      "Down: x.shape: torch.Size([1, 128, 32, 32]), emb.shape: torch.Size([1, 128, 32, 32])\n",
      "Down: x.shape: torch.Size([1, 256, 16, 16]), emb.shape: torch.Size([1, 256, 16, 16])\n",
      "Down: x.shape: torch.Size([1, 256, 8, 8]), emb.shape: torch.Size([1, 256, 8, 8])\n",
      "Down: x.shape: torch.Size([1, 128, 16, 16]), emb.shape: torch.Size([1, 128, 16, 16])\n",
      "Down: x.shape: torch.Size([1, 64, 32, 32]), emb.shape: torch.Size([1, 64, 32, 32])\n",
      "Down: x.shape: torch.Size([1, 64, 64, 64]), emb.shape: torch.Size([1, 64, 64, 64])\n",
      "Down: x.shape: torch.Size([1, 128, 32, 32]), emb.shape: torch.Size([1, 128, 32, 32])\n",
      "Down: x.shape: torch.Size([1, 256, 16, 16]), emb.shape: torch.Size([1, 256, 16, 16])\n",
      "Down: x.shape: torch.Size([1, 256, 8, 8]), emb.shape: torch.Size([1, 256, 8, 8])\n",
      "Down: x.shape: torch.Size([1, 128, 16, 16]), emb.shape: torch.Size([1, 128, 16, 16])\n",
      "Down: x.shape: torch.Size([1, 64, 32, 32]), emb.shape: torch.Size([1, 64, 32, 32])\n",
      "Down: x.shape: torch.Size([1, 64, 64, 64]), emb.shape: torch.Size([1, 64, 64, 64])\n",
      "Down: x.shape: torch.Size([1, 128, 32, 32]), emb.shape: torch.Size([1, 128, 32, 32])\n",
      "Down: x.shape: torch.Size([1, 256, 16, 16]), emb.shape: torch.Size([1, 256, 16, 16])\n",
      "Down: x.shape: torch.Size([1, 256, 8, 8]), emb.shape: torch.Size([1, 256, 8, 8])\n",
      "Down: x.shape: torch.Size([1, 128, 16, 16]), emb.shape: torch.Size([1, 128, 16, 16])\n",
      "Down: x.shape: torch.Size([1, 64, 32, 32]), emb.shape: torch.Size([1, 64, 32, 32])\n",
      "Down: x.shape: torch.Size([1, 64, 64, 64]), emb.shape: torch.Size([1, 64, 64, 64])\n",
      "Down: x.shape: torch.Size([1, 128, 32, 32]), emb.shape: torch.Size([1, 128, 32, 32])\n",
      "Down: x.shape: torch.Size([1, 256, 16, 16]), emb.shape: torch.Size([1, 256, 16, 16])\n",
      "Down: x.shape: torch.Size([1, 256, 8, 8]), emb.shape: torch.Size([1, 256, 8, 8])\n",
      "Down: x.shape: torch.Size([1, 128, 16, 16]), emb.shape: torch.Size([1, 128, 16, 16])\n",
      "Down: x.shape: torch.Size([1, 64, 32, 32]), emb.shape: torch.Size([1, 64, 32, 32])\n",
      "Down: x.shape: torch.Size([1, 64, 64, 64]), emb.shape: torch.Size([1, 64, 64, 64])\n"
     ]
    },
    {
     "name": "stderr",
     "output_type": "stream",
     "text": [
      "382it [00:17, 22.18it/s]"
     ]
    },
    {
     "name": "stdout",
     "output_type": "stream",
     "text": [
      "Down: x.shape: torch.Size([1, 128, 32, 32]), emb.shape: torch.Size([1, 128, 32, 32])\n",
      "Down: x.shape: torch.Size([1, 256, 16, 16]), emb.shape: torch.Size([1, 256, 16, 16])\n",
      "Down: x.shape: torch.Size([1, 256, 8, 8]), emb.shape: torch.Size([1, 256, 8, 8])\n",
      "Down: x.shape: torch.Size([1, 128, 16, 16]), emb.shape: torch.Size([1, 128, 16, 16])\n",
      "Down: x.shape: torch.Size([1, 64, 32, 32]), emb.shape: torch.Size([1, 64, 32, 32])\n",
      "Down: x.shape: torch.Size([1, 64, 64, 64]), emb.shape: torch.Size([1, 64, 64, 64])\n",
      "Down: x.shape: torch.Size([1, 128, 32, 32]), emb.shape: torch.Size([1, 128, 32, 32])\n",
      "Down: x.shape: torch.Size([1, 256, 16, 16]), emb.shape: torch.Size([1, 256, 16, 16])\n",
      "Down: x.shape: torch.Size([1, 256, 8, 8]), emb.shape: torch.Size([1, 256, 8, 8])\n",
      "Down: x.shape: torch.Size([1, 128, 16, 16]), emb.shape: torch.Size([1, 128, 16, 16])\n",
      "Down: x.shape: torch.Size([1, 64, 32, 32]), emb.shape: torch.Size([1, 64, 32, 32])\n",
      "Down: x.shape: torch.Size([1, 64, 64, 64]), emb.shape: torch.Size([1, 64, 64, 64])\n",
      "Down: x.shape: torch.Size([1, 128, 32, 32]), emb.shape: torch.Size([1, 128, 32, 32])\n",
      "Down: x.shape: torch.Size([1, 256, 16, 16]), emb.shape: torch.Size([1, 256, 16, 16])\n",
      "Down: x.shape: torch.Size([1, 256, 8, 8]), emb.shape: torch.Size([1, 256, 8, 8])\n",
      "Down: x.shape: torch.Size([1, 128, 16, 16]), emb.shape: torch.Size([1, 128, 16, 16])\n",
      "Down: x.shape: torch.Size([1, 64, 32, 32]), emb.shape: torch.Size([1, 64, 32, 32])\n",
      "Down: x.shape: torch.Size([1, 64, 64, 64]), emb.shape: torch.Size([1, 64, 64, 64])\n",
      "Down: x.shape: torch.Size([1, 128, 32, 32]), emb.shape: torch.Size([1, 128, 32, 32])\n",
      "Down: x.shape: torch.Size([1, 256, 16, 16]), emb.shape: torch.Size([1, 256, 16, 16])\n",
      "Down: x.shape: torch.Size([1, 256, 8, 8]), emb.shape: torch.Size([1, 256, 8, 8])\n",
      "Down: x.shape: torch.Size([1, 128, 16, 16]), emb.shape: torch.Size([1, 128, 16, 16])\n",
      "Down: x.shape: torch.Size([1, 64, 32, 32]), emb.shape: torch.Size([1, 64, 32, 32])\n",
      "Down: x.shape: torch.Size([1, 64, 64, 64]), emb.shape: torch.Size([1, 64, 64, 64])\n",
      "Down: x.shape: torch.Size([1, 128, 32, 32]), emb.shape: torch.Size([1, 128, 32, 32])\n",
      "Down: x.shape: torch.Size([1, 256, 16, 16]), emb.shape: torch.Size([1, 256, 16, 16])\n",
      "Down: x.shape: torch.Size([1, 256, 8, 8]), emb.shape: torch.Size([1, 256, 8, 8])\n",
      "Down: x.shape: torch.Size([1, 128, 16, 16]), emb.shape: torch.Size([1, 128, 16, 16])\n",
      "Down: x.shape: torch.Size([1, 64, 32, 32]), emb.shape: torch.Size([1, 64, 32, 32])\n",
      "Down: x.shape: torch.Size([1, 64, 64, 64]), emb.shape: torch.Size([1, 64, 64, 64])\n"
     ]
    },
    {
     "name": "stderr",
     "output_type": "stream",
     "text": [
      "385it [00:18, 22.06it/s]"
     ]
    },
    {
     "name": "stdout",
     "output_type": "stream",
     "text": [
      "Down: x.shape: torch.Size([1, 128, 32, 32]), emb.shape: torch.Size([1, 128, 32, 32])\n",
      "Down: x.shape: torch.Size([1, 256, 16, 16]), emb.shape: torch.Size([1, 256, 16, 16])\n",
      "Down: x.shape: torch.Size([1, 256, 8, 8]), emb.shape: torch.Size([1, 256, 8, 8])\n",
      "Down: x.shape: torch.Size([1, 128, 16, 16]), emb.shape: torch.Size([1, 128, 16, 16])\n",
      "Down: x.shape: torch.Size([1, 64, 32, 32]), emb.shape: torch.Size([1, 64, 32, 32])\n",
      "Down: x.shape: torch.Size([1, 64, 64, 64]), emb.shape: torch.Size([1, 64, 64, 64])\n",
      "Down: x.shape: torch.Size([1, 128, 32, 32]), emb.shape: torch.Size([1, 128, 32, 32])\n",
      "Down: x.shape: torch.Size([1, 256, 16, 16]), emb.shape: torch.Size([1, 256, 16, 16])\n",
      "Down: x.shape: torch.Size([1, 256, 8, 8]), emb.shape: torch.Size([1, 256, 8, 8])\n",
      "Down: x.shape: torch.Size([1, 128, 16, 16]), emb.shape: torch.Size([1, 128, 16, 16])\n",
      "Down: x.shape: torch.Size([1, 64, 32, 32]), emb.shape: torch.Size([1, 64, 32, 32])\n",
      "Down: x.shape: torch.Size([1, 64, 64, 64]), emb.shape: torch.Size([1, 64, 64, 64])\n",
      "Down: x.shape: torch.Size([1, 128, 32, 32]), emb.shape: torch.Size([1, 128, 32, 32])\n",
      "Down: x.shape: torch.Size([1, 256, 16, 16]), emb.shape: torch.Size([1, 256, 16, 16])\n",
      "Down: x.shape: torch.Size([1, 256, 8, 8]), emb.shape: torch.Size([1, 256, 8, 8])\n",
      "Down: x.shape: torch.Size([1, 128, 16, 16]), emb.shape: torch.Size([1, 128, 16, 16])\n",
      "Down: x.shape: torch.Size([1, 64, 32, 32]), emb.shape: torch.Size([1, 64, 32, 32])\n",
      "Down: x.shape: torch.Size([1, 64, 64, 64]), emb.shape: torch.Size([1, 64, 64, 64])\n",
      "Down: x.shape: torch.Size([1, 128, 32, 32]), emb.shape: torch.Size([1, 128, 32, 32])\n",
      "Down: x.shape: torch.Size([1, 256, 16, 16]), emb.shape: torch.Size([1, 256, 16, 16])\n",
      "Down: x.shape: torch.Size([1, 256, 8, 8]), emb.shape: torch.Size([1, 256, 8, 8])\n",
      "Down: x.shape: torch.Size([1, 128, 16, 16]), emb.shape: torch.Size([1, 128, 16, 16])\n",
      "Down: x.shape: torch.Size([1, 64, 32, 32]), emb.shape: torch.Size([1, 64, 32, 32])\n",
      "Down: x.shape: torch.Size([1, 64, 64, 64]), emb.shape: torch.Size([1, 64, 64, 64])\n",
      "Down: x.shape: torch.Size([1, 128, 32, 32]), emb.shape: torch.Size([1, 128, 32, 32])\n",
      "Down: x.shape: torch.Size([1, 256, 16, 16]), emb.shape: torch.Size([1, 256, 16, 16])\n",
      "Down: x.shape: torch.Size([1, 256, 8, 8]), emb.shape: torch.Size([1, 256, 8, 8])\n",
      "Down: x.shape: torch.Size([1, 128, 16, 16]), emb.shape: torch.Size([1, 128, 16, 16])\n",
      "Down: x.shape: torch.Size([1, 64, 32, 32]), emb.shape: torch.Size([1, 64, 32, 32])\n",
      "Down: x.shape: torch.Size([1, 64, 64, 64]), emb.shape: torch.Size([1, 64, 64, 64])\n"
     ]
    },
    {
     "name": "stderr",
     "output_type": "stream",
     "text": [
      "391it [00:18, 22.20it/s]"
     ]
    },
    {
     "name": "stdout",
     "output_type": "stream",
     "text": [
      "Down: x.shape: torch.Size([1, 128, 32, 32]), emb.shape: torch.Size([1, 128, 32, 32])\n",
      "Down: x.shape: torch.Size([1, 256, 16, 16]), emb.shape: torch.Size([1, 256, 16, 16])\n",
      "Down: x.shape: torch.Size([1, 256, 8, 8]), emb.shape: torch.Size([1, 256, 8, 8])\n",
      "Down: x.shape: torch.Size([1, 128, 16, 16]), emb.shape: torch.Size([1, 128, 16, 16])\n",
      "Down: x.shape: torch.Size([1, 64, 32, 32]), emb.shape: torch.Size([1, 64, 32, 32])\n",
      "Down: x.shape: torch.Size([1, 64, 64, 64]), emb.shape: torch.Size([1, 64, 64, 64])\n",
      "Down: x.shape: torch.Size([1, 128, 32, 32]), emb.shape: torch.Size([1, 128, 32, 32])\n",
      "Down: x.shape: torch.Size([1, 256, 16, 16]), emb.shape: torch.Size([1, 256, 16, 16])\n",
      "Down: x.shape: torch.Size([1, 256, 8, 8]), emb.shape: torch.Size([1, 256, 8, 8])\n",
      "Down: x.shape: torch.Size([1, 128, 16, 16]), emb.shape: torch.Size([1, 128, 16, 16])\n",
      "Down: x.shape: torch.Size([1, 64, 32, 32]), emb.shape: torch.Size([1, 64, 32, 32])\n",
      "Down: x.shape: torch.Size([1, 64, 64, 64]), emb.shape: torch.Size([1, 64, 64, 64])\n",
      "Down: x.shape: torch.Size([1, 128, 32, 32]), emb.shape: torch.Size([1, 128, 32, 32])\n",
      "Down: x.shape: torch.Size([1, 256, 16, 16]), emb.shape: torch.Size([1, 256, 16, 16])\n",
      "Down: x.shape: torch.Size([1, 256, 8, 8]), emb.shape: torch.Size([1, 256, 8, 8])\n",
      "Down: x.shape: torch.Size([1, 128, 16, 16]), emb.shape: torch.Size([1, 128, 16, 16])\n",
      "Down: x.shape: torch.Size([1, 64, 32, 32]), emb.shape: torch.Size([1, 64, 32, 32])\n",
      "Down: x.shape: torch.Size([1, 64, 64, 64]), emb.shape: torch.Size([1, 64, 64, 64])\n",
      "Down: x.shape: torch.Size([1, 128, 32, 32]), emb.shape: torch.Size([1, 128, 32, 32])\n",
      "Down: x.shape: torch.Size([1, 256, 16, 16]), emb.shape: torch.Size([1, 256, 16, 16])\n",
      "Down: x.shape: torch.Size([1, 256, 8, 8]), emb.shape: torch.Size([1, 256, 8, 8])\n",
      "Down: x.shape: torch.Size([1, 128, 16, 16]), emb.shape: torch.Size([1, 128, 16, 16])\n",
      "Down: x.shape: torch.Size([1, 64, 32, 32]), emb.shape: torch.Size([1, 64, 32, 32])\n",
      "Down: x.shape: torch.Size([1, 64, 64, 64]), emb.shape: torch.Size([1, 64, 64, 64])\n",
      "Down: x.shape: torch.Size([1, 128, 32, 32]), emb.shape: torch.Size([1, 128, 32, 32])\n",
      "Down: x.shape: torch.Size([1, 256, 16, 16]), emb.shape: torch.Size([1, 256, 16, 16])\n",
      "Down: x.shape: torch.Size([1, 256, 8, 8]), emb.shape: torch.Size([1, 256, 8, 8])\n",
      "Down: x.shape: torch.Size([1, 128, 16, 16]), emb.shape: torch.Size([1, 128, 16, 16])\n",
      "Down: x.shape: torch.Size([1, 64, 32, 32]), emb.shape: torch.Size([1, 64, 32, 32])\n",
      "Down: x.shape: torch.Size([1, 64, 64, 64]), emb.shape: torch.Size([1, 64, 64, 64])\n"
     ]
    },
    {
     "name": "stderr",
     "output_type": "stream",
     "text": [
      "397it [00:18, 22.27it/s]"
     ]
    },
    {
     "name": "stdout",
     "output_type": "stream",
     "text": [
      "Down: x.shape: torch.Size([1, 128, 32, 32]), emb.shape: torch.Size([1, 128, 32, 32])\n",
      "Down: x.shape: torch.Size([1, 256, 16, 16]), emb.shape: torch.Size([1, 256, 16, 16])\n",
      "Down: x.shape: torch.Size([1, 256, 8, 8]), emb.shape: torch.Size([1, 256, 8, 8])\n",
      "Down: x.shape: torch.Size([1, 128, 16, 16]), emb.shape: torch.Size([1, 128, 16, 16])\n",
      "Down: x.shape: torch.Size([1, 64, 32, 32]), emb.shape: torch.Size([1, 64, 32, 32])\n",
      "Down: x.shape: torch.Size([1, 64, 64, 64]), emb.shape: torch.Size([1, 64, 64, 64])\n",
      "Down: x.shape: torch.Size([1, 128, 32, 32]), emb.shape: torch.Size([1, 128, 32, 32])\n",
      "Down: x.shape: torch.Size([1, 256, 16, 16]), emb.shape: torch.Size([1, 256, 16, 16])\n",
      "Down: x.shape: torch.Size([1, 256, 8, 8]), emb.shape: torch.Size([1, 256, 8, 8])\n",
      "Down: x.shape: torch.Size([1, 128, 16, 16]), emb.shape: torch.Size([1, 128, 16, 16])\n",
      "Down: x.shape: torch.Size([1, 64, 32, 32]), emb.shape: torch.Size([1, 64, 32, 32])\n",
      "Down: x.shape: torch.Size([1, 64, 64, 64]), emb.shape: torch.Size([1, 64, 64, 64])\n",
      "Down: x.shape: torch.Size([1, 128, 32, 32]), emb.shape: torch.Size([1, 128, 32, 32])\n",
      "Down: x.shape: torch.Size([1, 256, 16, 16]), emb.shape: torch.Size([1, 256, 16, 16])\n",
      "Down: x.shape: torch.Size([1, 256, 8, 8]), emb.shape: torch.Size([1, 256, 8, 8])\n",
      "Down: x.shape: torch.Size([1, 128, 16, 16]), emb.shape: torch.Size([1, 128, 16, 16])\n",
      "Down: x.shape: torch.Size([1, 64, 32, 32]), emb.shape: torch.Size([1, 64, 32, 32])\n",
      "Down: x.shape: torch.Size([1, 64, 64, 64]), emb.shape: torch.Size([1, 64, 64, 64])\n",
      "Down: x.shape: torch.Size([1, 128, 32, 32]), emb.shape: torch.Size([1, 128, 32, 32])\n",
      "Down: x.shape: torch.Size([1, 256, 16, 16]), emb.shape: torch.Size([1, 256, 16, 16])\n",
      "Down: x.shape: torch.Size([1, 256, 8, 8]), emb.shape: torch.Size([1, 256, 8, 8])\n",
      "Down: x.shape: torch.Size([1, 128, 16, 16]), emb.shape: torch.Size([1, 128, 16, 16])\n",
      "Down: x.shape: torch.Size([1, 64, 32, 32]), emb.shape: torch.Size([1, 64, 32, 32])\n",
      "Down: x.shape: torch.Size([1, 64, 64, 64]), emb.shape: torch.Size([1, 64, 64, 64])\n",
      "Down: x.shape: torch.Size([1, 128, 32, 32]), emb.shape: torch.Size([1, 128, 32, 32])\n",
      "Down: x.shape: torch.Size([1, 256, 16, 16]), emb.shape: torch.Size([1, 256, 16, 16])\n",
      "Down: x.shape: torch.Size([1, 256, 8, 8]), emb.shape: torch.Size([1, 256, 8, 8])\n",
      "Down: x.shape: torch.Size([1, 128, 16, 16]), emb.shape: torch.Size([1, 128, 16, 16])\n",
      "Down: x.shape: torch.Size([1, 64, 32, 32]), emb.shape: torch.Size([1, 64, 32, 32])\n",
      "Down: x.shape: torch.Size([1, 64, 64, 64]), emb.shape: torch.Size([1, 64, 64, 64])\n"
     ]
    },
    {
     "name": "stderr",
     "output_type": "stream",
     "text": [
      "400it [00:18, 22.08it/s]"
     ]
    },
    {
     "name": "stdout",
     "output_type": "stream",
     "text": [
      "Down: x.shape: torch.Size([1, 128, 32, 32]), emb.shape: torch.Size([1, 128, 32, 32])\n",
      "Down: x.shape: torch.Size([1, 256, 16, 16]), emb.shape: torch.Size([1, 256, 16, 16])\n",
      "Down: x.shape: torch.Size([1, 256, 8, 8]), emb.shape: torch.Size([1, 256, 8, 8])\n",
      "Down: x.shape: torch.Size([1, 128, 16, 16]), emb.shape: torch.Size([1, 128, 16, 16])\n",
      "Down: x.shape: torch.Size([1, 64, 32, 32]), emb.shape: torch.Size([1, 64, 32, 32])\n",
      "Down: x.shape: torch.Size([1, 64, 64, 64]), emb.shape: torch.Size([1, 64, 64, 64])\n",
      "Down: x.shape: torch.Size([1, 128, 32, 32]), emb.shape: torch.Size([1, 128, 32, 32])\n",
      "Down: x.shape: torch.Size([1, 256, 16, 16]), emb.shape: torch.Size([1, 256, 16, 16])\n",
      "Down: x.shape: torch.Size([1, 256, 8, 8]), emb.shape: torch.Size([1, 256, 8, 8])\n",
      "Down: x.shape: torch.Size([1, 128, 16, 16]), emb.shape: torch.Size([1, 128, 16, 16])\n",
      "Down: x.shape: torch.Size([1, 64, 32, 32]), emb.shape: torch.Size([1, 64, 32, 32])\n",
      "Down: x.shape: torch.Size([1, 64, 64, 64]), emb.shape: torch.Size([1, 64, 64, 64])\n",
      "Down: x.shape: torch.Size([1, 128, 32, 32]), emb.shape: torch.Size([1, 128, 32, 32])\n",
      "Down: x.shape: torch.Size([1, 256, 16, 16]), emb.shape: torch.Size([1, 256, 16, 16])\n",
      "Down: x.shape: torch.Size([1, 256, 8, 8]), emb.shape: torch.Size([1, 256, 8, 8])\n",
      "Down: x.shape: torch.Size([1, 128, 16, 16]), emb.shape: torch.Size([1, 128, 16, 16])\n",
      "Down: x.shape: torch.Size([1, 64, 32, 32]), emb.shape: torch.Size([1, 64, 32, 32])\n",
      "Down: x.shape: torch.Size([1, 64, 64, 64]), emb.shape: torch.Size([1, 64, 64, 64])\n",
      "Down: x.shape: torch.Size([1, 128, 32, 32]), emb.shape: torch.Size([1, 128, 32, 32])\n",
      "Down: x.shape: torch.Size([1, 256, 16, 16]), emb.shape: torch.Size([1, 256, 16, 16])\n",
      "Down: x.shape: torch.Size([1, 256, 8, 8]), emb.shape: torch.Size([1, 256, 8, 8])\n",
      "Down: x.shape: torch.Size([1, 128, 16, 16]), emb.shape: torch.Size([1, 128, 16, 16])\n",
      "Down: x.shape: torch.Size([1, 64, 32, 32]), emb.shape: torch.Size([1, 64, 32, 32])\n",
      "Down: x.shape: torch.Size([1, 64, 64, 64]), emb.shape: torch.Size([1, 64, 64, 64])\n",
      "Down: x.shape: torch.Size([1, 128, 32, 32]), emb.shape: torch.Size([1, 128, 32, 32])\n",
      "Down: x.shape: torch.Size([1, 256, 16, 16]), emb.shape: torch.Size([1, 256, 16, 16])\n",
      "Down: x.shape: torch.Size([1, 256, 8, 8]), emb.shape: torch.Size([1, 256, 8, 8])\n",
      "Down: x.shape: torch.Size([1, 128, 16, 16]), emb.shape: torch.Size([1, 128, 16, 16])\n",
      "Down: x.shape: torch.Size([1, 64, 32, 32]), emb.shape: torch.Size([1, 64, 32, 32])\n",
      "Down: x.shape: torch.Size([1, 64, 64, 64]), emb.shape: torch.Size([1, 64, 64, 64])\n"
     ]
    },
    {
     "name": "stderr",
     "output_type": "stream",
     "text": [
      "406it [00:18, 22.17it/s]"
     ]
    },
    {
     "name": "stdout",
     "output_type": "stream",
     "text": [
      "Down: x.shape: torch.Size([1, 128, 32, 32]), emb.shape: torch.Size([1, 128, 32, 32])\n",
      "Down: x.shape: torch.Size([1, 256, 16, 16]), emb.shape: torch.Size([1, 256, 16, 16])\n",
      "Down: x.shape: torch.Size([1, 256, 8, 8]), emb.shape: torch.Size([1, 256, 8, 8])\n",
      "Down: x.shape: torch.Size([1, 128, 16, 16]), emb.shape: torch.Size([1, 128, 16, 16])\n",
      "Down: x.shape: torch.Size([1, 64, 32, 32]), emb.shape: torch.Size([1, 64, 32, 32])\n",
      "Down: x.shape: torch.Size([1, 64, 64, 64]), emb.shape: torch.Size([1, 64, 64, 64])\n",
      "Down: x.shape: torch.Size([1, 128, 32, 32]), emb.shape: torch.Size([1, 128, 32, 32])\n",
      "Down: x.shape: torch.Size([1, 256, 16, 16]), emb.shape: torch.Size([1, 256, 16, 16])\n",
      "Down: x.shape: torch.Size([1, 256, 8, 8]), emb.shape: torch.Size([1, 256, 8, 8])\n",
      "Down: x.shape: torch.Size([1, 128, 16, 16]), emb.shape: torch.Size([1, 128, 16, 16])\n",
      "Down: x.shape: torch.Size([1, 64, 32, 32]), emb.shape: torch.Size([1, 64, 32, 32])\n",
      "Down: x.shape: torch.Size([1, 64, 64, 64]), emb.shape: torch.Size([1, 64, 64, 64])\n",
      "Down: x.shape: torch.Size([1, 128, 32, 32]), emb.shape: torch.Size([1, 128, 32, 32])\n",
      "Down: x.shape: torch.Size([1, 256, 16, 16]), emb.shape: torch.Size([1, 256, 16, 16])\n",
      "Down: x.shape: torch.Size([1, 256, 8, 8]), emb.shape: torch.Size([1, 256, 8, 8])\n",
      "Down: x.shape: torch.Size([1, 128, 16, 16]), emb.shape: torch.Size([1, 128, 16, 16])\n",
      "Down: x.shape: torch.Size([1, 64, 32, 32]), emb.shape: torch.Size([1, 64, 32, 32])\n",
      "Down: x.shape: torch.Size([1, 64, 64, 64]), emb.shape: torch.Size([1, 64, 64, 64])\n",
      "Down: x.shape: torch.Size([1, 128, 32, 32]), emb.shape: torch.Size([1, 128, 32, 32])\n",
      "Down: x.shape: torch.Size([1, 256, 16, 16]), emb.shape: torch.Size([1, 256, 16, 16])\n",
      "Down: x.shape: torch.Size([1, 256, 8, 8]), emb.shape: torch.Size([1, 256, 8, 8])\n",
      "Down: x.shape: torch.Size([1, 128, 16, 16]), emb.shape: torch.Size([1, 128, 16, 16])\n",
      "Down: x.shape: torch.Size([1, 64, 32, 32]), emb.shape: torch.Size([1, 64, 32, 32])\n",
      "Down: x.shape: torch.Size([1, 64, 64, 64]), emb.shape: torch.Size([1, 64, 64, 64])\n",
      "Down: x.shape: torch.Size([1, 128, 32, 32]), emb.shape: torch.Size([1, 128, 32, 32])\n",
      "Down: x.shape: torch.Size([1, 256, 16, 16]), emb.shape: torch.Size([1, 256, 16, 16])\n",
      "Down: x.shape: torch.Size([1, 256, 8, 8]), emb.shape: torch.Size([1, 256, 8, 8])\n",
      "Down: x.shape: torch.Size([1, 128, 16, 16]), emb.shape: torch.Size([1, 128, 16, 16])\n",
      "Down: x.shape: torch.Size([1, 64, 32, 32]), emb.shape: torch.Size([1, 64, 32, 32])\n",
      "Down: x.shape: torch.Size([1, 64, 64, 64]), emb.shape: torch.Size([1, 64, 64, 64])\n"
     ]
    },
    {
     "name": "stderr",
     "output_type": "stream",
     "text": [
      "409it [00:19, 22.12it/s]"
     ]
    },
    {
     "name": "stdout",
     "output_type": "stream",
     "text": [
      "Down: x.shape: torch.Size([1, 128, 32, 32]), emb.shape: torch.Size([1, 128, 32, 32])\n",
      "Down: x.shape: torch.Size([1, 256, 16, 16]), emb.shape: torch.Size([1, 256, 16, 16])\n",
      "Down: x.shape: torch.Size([1, 256, 8, 8]), emb.shape: torch.Size([1, 256, 8, 8])\n",
      "Down: x.shape: torch.Size([1, 128, 16, 16]), emb.shape: torch.Size([1, 128, 16, 16])\n",
      "Down: x.shape: torch.Size([1, 64, 32, 32]), emb.shape: torch.Size([1, 64, 32, 32])\n",
      "Down: x.shape: torch.Size([1, 64, 64, 64]), emb.shape: torch.Size([1, 64, 64, 64])\n",
      "Down: x.shape: torch.Size([1, 128, 32, 32]), emb.shape: torch.Size([1, 128, 32, 32])\n",
      "Down: x.shape: torch.Size([1, 256, 16, 16]), emb.shape: torch.Size([1, 256, 16, 16])\n",
      "Down: x.shape: torch.Size([1, 256, 8, 8]), emb.shape: torch.Size([1, 256, 8, 8])\n",
      "Down: x.shape: torch.Size([1, 128, 16, 16]), emb.shape: torch.Size([1, 128, 16, 16])\n",
      "Down: x.shape: torch.Size([1, 64, 32, 32]), emb.shape: torch.Size([1, 64, 32, 32])\n",
      "Down: x.shape: torch.Size([1, 64, 64, 64]), emb.shape: torch.Size([1, 64, 64, 64])\n",
      "Down: x.shape: torch.Size([1, 128, 32, 32]), emb.shape: torch.Size([1, 128, 32, 32])\n",
      "Down: x.shape: torch.Size([1, 256, 16, 16]), emb.shape: torch.Size([1, 256, 16, 16])\n",
      "Down: x.shape: torch.Size([1, 256, 8, 8]), emb.shape: torch.Size([1, 256, 8, 8])\n",
      "Down: x.shape: torch.Size([1, 128, 16, 16]), emb.shape: torch.Size([1, 128, 16, 16])\n",
      "Down: x.shape: torch.Size([1, 64, 32, 32]), emb.shape: torch.Size([1, 64, 32, 32])\n",
      "Down: x.shape: torch.Size([1, 64, 64, 64]), emb.shape: torch.Size([1, 64, 64, 64])\n",
      "Down: x.shape: torch.Size([1, 128, 32, 32]), emb.shape: torch.Size([1, 128, 32, 32])\n",
      "Down: x.shape: torch.Size([1, 256, 16, 16]), emb.shape: torch.Size([1, 256, 16, 16])\n",
      "Down: x.shape: torch.Size([1, 256, 8, 8]), emb.shape: torch.Size([1, 256, 8, 8])\n",
      "Down: x.shape: torch.Size([1, 128, 16, 16]), emb.shape: torch.Size([1, 128, 16, 16])\n",
      "Down: x.shape: torch.Size([1, 64, 32, 32]), emb.shape: torch.Size([1, 64, 32, 32])\n",
      "Down: x.shape: torch.Size([1, 64, 64, 64]), emb.shape: torch.Size([1, 64, 64, 64])\n",
      "Down: x.shape: torch.Size([1, 128, 32, 32]), emb.shape: torch.Size([1, 128, 32, 32])\n",
      "Down: x.shape: torch.Size([1, 256, 16, 16]), emb.shape: torch.Size([1, 256, 16, 16])\n",
      "Down: x.shape: torch.Size([1, 256, 8, 8]), emb.shape: torch.Size([1, 256, 8, 8])\n",
      "Down: x.shape: torch.Size([1, 128, 16, 16]), emb.shape: torch.Size([1, 128, 16, 16])\n",
      "Down: x.shape: torch.Size([1, 64, 32, 32]), emb.shape: torch.Size([1, 64, 32, 32])\n",
      "Down: x.shape: torch.Size([1, 64, 64, 64]), emb.shape: torch.Size([1, 64, 64, 64])\n"
     ]
    },
    {
     "name": "stderr",
     "output_type": "stream",
     "text": [
      "415it [00:19, 22.10it/s]"
     ]
    },
    {
     "name": "stdout",
     "output_type": "stream",
     "text": [
      "Down: x.shape: torch.Size([1, 128, 32, 32]), emb.shape: torch.Size([1, 128, 32, 32])\n",
      "Down: x.shape: torch.Size([1, 256, 16, 16]), emb.shape: torch.Size([1, 256, 16, 16])\n",
      "Down: x.shape: torch.Size([1, 256, 8, 8]), emb.shape: torch.Size([1, 256, 8, 8])\n",
      "Down: x.shape: torch.Size([1, 128, 16, 16]), emb.shape: torch.Size([1, 128, 16, 16])\n",
      "Down: x.shape: torch.Size([1, 64, 32, 32]), emb.shape: torch.Size([1, 64, 32, 32])\n",
      "Down: x.shape: torch.Size([1, 64, 64, 64]), emb.shape: torch.Size([1, 64, 64, 64])\n",
      "Down: x.shape: torch.Size([1, 128, 32, 32]), emb.shape: torch.Size([1, 128, 32, 32])\n",
      "Down: x.shape: torch.Size([1, 256, 16, 16]), emb.shape: torch.Size([1, 256, 16, 16])\n",
      "Down: x.shape: torch.Size([1, 256, 8, 8]), emb.shape: torch.Size([1, 256, 8, 8])\n",
      "Down: x.shape: torch.Size([1, 128, 16, 16]), emb.shape: torch.Size([1, 128, 16, 16])\n",
      "Down: x.shape: torch.Size([1, 64, 32, 32]), emb.shape: torch.Size([1, 64, 32, 32])\n",
      "Down: x.shape: torch.Size([1, 64, 64, 64]), emb.shape: torch.Size([1, 64, 64, 64])\n",
      "Down: x.shape: torch.Size([1, 128, 32, 32]), emb.shape: torch.Size([1, 128, 32, 32])\n",
      "Down: x.shape: torch.Size([1, 256, 16, 16]), emb.shape: torch.Size([1, 256, 16, 16])\n",
      "Down: x.shape: torch.Size([1, 256, 8, 8]), emb.shape: torch.Size([1, 256, 8, 8])\n",
      "Down: x.shape: torch.Size([1, 128, 16, 16]), emb.shape: torch.Size([1, 128, 16, 16])\n",
      "Down: x.shape: torch.Size([1, 64, 32, 32]), emb.shape: torch.Size([1, 64, 32, 32])\n",
      "Down: x.shape: torch.Size([1, 64, 64, 64]), emb.shape: torch.Size([1, 64, 64, 64])\n",
      "Down: x.shape: torch.Size([1, 128, 32, 32]), emb.shape: torch.Size([1, 128, 32, 32])\n",
      "Down: x.shape: torch.Size([1, 256, 16, 16]), emb.shape: torch.Size([1, 256, 16, 16])\n",
      "Down: x.shape: torch.Size([1, 256, 8, 8]), emb.shape: torch.Size([1, 256, 8, 8])\n",
      "Down: x.shape: torch.Size([1, 128, 16, 16]), emb.shape: torch.Size([1, 128, 16, 16])\n",
      "Down: x.shape: torch.Size([1, 64, 32, 32]), emb.shape: torch.Size([1, 64, 32, 32])\n",
      "Down: x.shape: torch.Size([1, 64, 64, 64]), emb.shape: torch.Size([1, 64, 64, 64])\n",
      "Down: x.shape: torch.Size([1, 128, 32, 32]), emb.shape: torch.Size([1, 128, 32, 32])\n",
      "Down: x.shape: torch.Size([1, 256, 16, 16]), emb.shape: torch.Size([1, 256, 16, 16])\n",
      "Down: x.shape: torch.Size([1, 256, 8, 8]), emb.shape: torch.Size([1, 256, 8, 8])\n",
      "Down: x.shape: torch.Size([1, 128, 16, 16]), emb.shape: torch.Size([1, 128, 16, 16])\n",
      "Down: x.shape: torch.Size([1, 64, 32, 32]), emb.shape: torch.Size([1, 64, 32, 32])\n",
      "Down: x.shape: torch.Size([1, 64, 64, 64]), emb.shape: torch.Size([1, 64, 64, 64])\n"
     ]
    },
    {
     "name": "stderr",
     "output_type": "stream",
     "text": [
      "421it [00:19, 22.13it/s]"
     ]
    },
    {
     "name": "stdout",
     "output_type": "stream",
     "text": [
      "Down: x.shape: torch.Size([1, 128, 32, 32]), emb.shape: torch.Size([1, 128, 32, 32])\n",
      "Down: x.shape: torch.Size([1, 256, 16, 16]), emb.shape: torch.Size([1, 256, 16, 16])\n",
      "Down: x.shape: torch.Size([1, 256, 8, 8]), emb.shape: torch.Size([1, 256, 8, 8])\n",
      "Down: x.shape: torch.Size([1, 128, 16, 16]), emb.shape: torch.Size([1, 128, 16, 16])\n",
      "Down: x.shape: torch.Size([1, 64, 32, 32]), emb.shape: torch.Size([1, 64, 32, 32])\n",
      "Down: x.shape: torch.Size([1, 64, 64, 64]), emb.shape: torch.Size([1, 64, 64, 64])\n",
      "Down: x.shape: torch.Size([1, 128, 32, 32]), emb.shape: torch.Size([1, 128, 32, 32])\n",
      "Down: x.shape: torch.Size([1, 256, 16, 16]), emb.shape: torch.Size([1, 256, 16, 16])\n",
      "Down: x.shape: torch.Size([1, 256, 8, 8]), emb.shape: torch.Size([1, 256, 8, 8])\n",
      "Down: x.shape: torch.Size([1, 128, 16, 16]), emb.shape: torch.Size([1, 128, 16, 16])\n",
      "Down: x.shape: torch.Size([1, 64, 32, 32]), emb.shape: torch.Size([1, 64, 32, 32])\n",
      "Down: x.shape: torch.Size([1, 64, 64, 64]), emb.shape: torch.Size([1, 64, 64, 64])\n",
      "Down: x.shape: torch.Size([1, 128, 32, 32]), emb.shape: torch.Size([1, 128, 32, 32])\n",
      "Down: x.shape: torch.Size([1, 256, 16, 16]), emb.shape: torch.Size([1, 256, 16, 16])\n",
      "Down: x.shape: torch.Size([1, 256, 8, 8]), emb.shape: torch.Size([1, 256, 8, 8])\n",
      "Down: x.shape: torch.Size([1, 128, 16, 16]), emb.shape: torch.Size([1, 128, 16, 16])\n",
      "Down: x.shape: torch.Size([1, 64, 32, 32]), emb.shape: torch.Size([1, 64, 32, 32])\n",
      "Down: x.shape: torch.Size([1, 64, 64, 64]), emb.shape: torch.Size([1, 64, 64, 64])\n",
      "Down: x.shape: torch.Size([1, 128, 32, 32]), emb.shape: torch.Size([1, 128, 32, 32])\n",
      "Down: x.shape: torch.Size([1, 256, 16, 16]), emb.shape: torch.Size([1, 256, 16, 16])\n",
      "Down: x.shape: torch.Size([1, 256, 8, 8]), emb.shape: torch.Size([1, 256, 8, 8])\n",
      "Down: x.shape: torch.Size([1, 128, 16, 16]), emb.shape: torch.Size([1, 128, 16, 16])\n",
      "Down: x.shape: torch.Size([1, 64, 32, 32]), emb.shape: torch.Size([1, 64, 32, 32])\n",
      "Down: x.shape: torch.Size([1, 64, 64, 64]), emb.shape: torch.Size([1, 64, 64, 64])\n",
      "Down: x.shape: torch.Size([1, 128, 32, 32]), emb.shape: torch.Size([1, 128, 32, 32])\n",
      "Down: x.shape: torch.Size([1, 256, 16, 16]), emb.shape: torch.Size([1, 256, 16, 16])\n",
      "Down: x.shape: torch.Size([1, 256, 8, 8]), emb.shape: torch.Size([1, 256, 8, 8])\n",
      "Down: x.shape: torch.Size([1, 128, 16, 16]), emb.shape: torch.Size([1, 128, 16, 16])\n",
      "Down: x.shape: torch.Size([1, 64, 32, 32]), emb.shape: torch.Size([1, 64, 32, 32])\n",
      "Down: x.shape: torch.Size([1, 64, 64, 64]), emb.shape: torch.Size([1, 64, 64, 64])\n"
     ]
    },
    {
     "name": "stderr",
     "output_type": "stream",
     "text": [
      "424it [00:19, 22.12it/s]"
     ]
    },
    {
     "name": "stdout",
     "output_type": "stream",
     "text": [
      "Down: x.shape: torch.Size([1, 128, 32, 32]), emb.shape: torch.Size([1, 128, 32, 32])\n",
      "Down: x.shape: torch.Size([1, 256, 16, 16]), emb.shape: torch.Size([1, 256, 16, 16])\n",
      "Down: x.shape: torch.Size([1, 256, 8, 8]), emb.shape: torch.Size([1, 256, 8, 8])\n",
      "Down: x.shape: torch.Size([1, 128, 16, 16]), emb.shape: torch.Size([1, 128, 16, 16])\n",
      "Down: x.shape: torch.Size([1, 64, 32, 32]), emb.shape: torch.Size([1, 64, 32, 32])\n",
      "Down: x.shape: torch.Size([1, 64, 64, 64]), emb.shape: torch.Size([1, 64, 64, 64])\n",
      "Down: x.shape: torch.Size([1, 128, 32, 32]), emb.shape: torch.Size([1, 128, 32, 32])\n",
      "Down: x.shape: torch.Size([1, 256, 16, 16]), emb.shape: torch.Size([1, 256, 16, 16])\n",
      "Down: x.shape: torch.Size([1, 256, 8, 8]), emb.shape: torch.Size([1, 256, 8, 8])\n",
      "Down: x.shape: torch.Size([1, 128, 16, 16]), emb.shape: torch.Size([1, 128, 16, 16])\n",
      "Down: x.shape: torch.Size([1, 64, 32, 32]), emb.shape: torch.Size([1, 64, 32, 32])\n",
      "Down: x.shape: torch.Size([1, 64, 64, 64]), emb.shape: torch.Size([1, 64, 64, 64])\n",
      "Down: x.shape: torch.Size([1, 128, 32, 32]), emb.shape: torch.Size([1, 128, 32, 32])\n",
      "Down: x.shape: torch.Size([1, 256, 16, 16]), emb.shape: torch.Size([1, 256, 16, 16])\n",
      "Down: x.shape: torch.Size([1, 256, 8, 8]), emb.shape: torch.Size([1, 256, 8, 8])\n",
      "Down: x.shape: torch.Size([1, 128, 16, 16]), emb.shape: torch.Size([1, 128, 16, 16])\n",
      "Down: x.shape: torch.Size([1, 64, 32, 32]), emb.shape: torch.Size([1, 64, 32, 32])\n",
      "Down: x.shape: torch.Size([1, 64, 64, 64]), emb.shape: torch.Size([1, 64, 64, 64])\n",
      "Down: x.shape: torch.Size([1, 128, 32, 32]), emb.shape: torch.Size([1, 128, 32, 32])\n",
      "Down: x.shape: torch.Size([1, 256, 16, 16]), emb.shape: torch.Size([1, 256, 16, 16])\n",
      "Down: x.shape: torch.Size([1, 256, 8, 8]), emb.shape: torch.Size([1, 256, 8, 8])\n",
      "Down: x.shape: torch.Size([1, 128, 16, 16]), emb.shape: torch.Size([1, 128, 16, 16])\n",
      "Down: x.shape: torch.Size([1, 64, 32, 32]), emb.shape: torch.Size([1, 64, 32, 32])\n",
      "Down: x.shape: torch.Size([1, 64, 64, 64]), emb.shape: torch.Size([1, 64, 64, 64])\n",
      "Down: x.shape: torch.Size([1, 128, 32, 32]), emb.shape: torch.Size([1, 128, 32, 32])\n",
      "Down: x.shape: torch.Size([1, 256, 16, 16]), emb.shape: torch.Size([1, 256, 16, 16])\n",
      "Down: x.shape: torch.Size([1, 256, 8, 8]), emb.shape: torch.Size([1, 256, 8, 8])\n",
      "Down: x.shape: torch.Size([1, 128, 16, 16]), emb.shape: torch.Size([1, 128, 16, 16])\n",
      "Down: x.shape: torch.Size([1, 64, 32, 32]), emb.shape: torch.Size([1, 64, 32, 32])\n"
     ]
    },
    {
     "name": "stderr",
     "output_type": "stream",
     "text": [
      "430it [00:20, 22.24it/s]"
     ]
    },
    {
     "name": "stdout",
     "output_type": "stream",
     "text": [
      "Down: x.shape: torch.Size([1, 64, 64, 64]), emb.shape: torch.Size([1, 64, 64, 64])\n",
      "Down: x.shape: torch.Size([1, 128, 32, 32]), emb.shape: torch.Size([1, 128, 32, 32])\n",
      "Down: x.shape: torch.Size([1, 256, 16, 16]), emb.shape: torch.Size([1, 256, 16, 16])\n",
      "Down: x.shape: torch.Size([1, 256, 8, 8]), emb.shape: torch.Size([1, 256, 8, 8])\n",
      "Down: x.shape: torch.Size([1, 128, 16, 16]), emb.shape: torch.Size([1, 128, 16, 16])\n",
      "Down: x.shape: torch.Size([1, 64, 32, 32]), emb.shape: torch.Size([1, 64, 32, 32])\n",
      "Down: x.shape: torch.Size([1, 64, 64, 64]), emb.shape: torch.Size([1, 64, 64, 64])\n",
      "Down: x.shape: torch.Size([1, 128, 32, 32]), emb.shape: torch.Size([1, 128, 32, 32])\n",
      "Down: x.shape: torch.Size([1, 256, 16, 16]), emb.shape: torch.Size([1, 256, 16, 16])\n",
      "Down: x.shape: torch.Size([1, 256, 8, 8]), emb.shape: torch.Size([1, 256, 8, 8])\n",
      "Down: x.shape: torch.Size([1, 128, 16, 16]), emb.shape: torch.Size([1, 128, 16, 16])\n",
      "Down: x.shape: torch.Size([1, 64, 32, 32]), emb.shape: torch.Size([1, 64, 32, 32])\n",
      "Down: x.shape: torch.Size([1, 64, 64, 64]), emb.shape: torch.Size([1, 64, 64, 64])\n",
      "Down: x.shape: torch.Size([1, 128, 32, 32]), emb.shape: torch.Size([1, 128, 32, 32])\n",
      "Down: x.shape: torch.Size([1, 256, 16, 16]), emb.shape: torch.Size([1, 256, 16, 16])\n",
      "Down: x.shape: torch.Size([1, 256, 8, 8]), emb.shape: torch.Size([1, 256, 8, 8])\n",
      "Down: x.shape: torch.Size([1, 128, 16, 16]), emb.shape: torch.Size([1, 128, 16, 16])\n",
      "Down: x.shape: torch.Size([1, 64, 32, 32]), emb.shape: torch.Size([1, 64, 32, 32])\n",
      "Down: x.shape: torch.Size([1, 64, 64, 64]), emb.shape: torch.Size([1, 64, 64, 64])\n",
      "Down: x.shape: torch.Size([1, 128, 32, 32]), emb.shape: torch.Size([1, 128, 32, 32])\n",
      "Down: x.shape: torch.Size([1, 256, 16, 16]), emb.shape: torch.Size([1, 256, 16, 16])\n",
      "Down: x.shape: torch.Size([1, 256, 8, 8]), emb.shape: torch.Size([1, 256, 8, 8])\n",
      "Down: x.shape: torch.Size([1, 128, 16, 16]), emb.shape: torch.Size([1, 128, 16, 16])\n",
      "Down: x.shape: torch.Size([1, 64, 32, 32]), emb.shape: torch.Size([1, 64, 32, 32])\n",
      "Down: x.shape: torch.Size([1, 64, 64, 64]), emb.shape: torch.Size([1, 64, 64, 64])\n",
      "Down: x.shape: torch.Size([1, 128, 32, 32]), emb.shape: torch.Size([1, 128, 32, 32])\n",
      "Down: x.shape: torch.Size([1, 256, 16, 16]), emb.shape: torch.Size([1, 256, 16, 16])\n",
      "Down: x.shape: torch.Size([1, 256, 8, 8]), emb.shape: torch.Size([1, 256, 8, 8])\n"
     ]
    },
    {
     "name": "stderr",
     "output_type": "stream",
     "text": [
      "436it [00:20, 22.27it/s]"
     ]
    },
    {
     "name": "stdout",
     "output_type": "stream",
     "text": [
      "Down: x.shape: torch.Size([1, 128, 16, 16]), emb.shape: torch.Size([1, 128, 16, 16])\n",
      "Down: x.shape: torch.Size([1, 64, 32, 32]), emb.shape: torch.Size([1, 64, 32, 32])\n",
      "Down: x.shape: torch.Size([1, 64, 64, 64]), emb.shape: torch.Size([1, 64, 64, 64])\n",
      "Down: x.shape: torch.Size([1, 128, 32, 32]), emb.shape: torch.Size([1, 128, 32, 32])\n",
      "Down: x.shape: torch.Size([1, 256, 16, 16]), emb.shape: torch.Size([1, 256, 16, 16])\n",
      "Down: x.shape: torch.Size([1, 256, 8, 8]), emb.shape: torch.Size([1, 256, 8, 8])\n",
      "Down: x.shape: torch.Size([1, 128, 16, 16]), emb.shape: torch.Size([1, 128, 16, 16])\n",
      "Down: x.shape: torch.Size([1, 64, 32, 32]), emb.shape: torch.Size([1, 64, 32, 32])\n",
      "Down: x.shape: torch.Size([1, 64, 64, 64]), emb.shape: torch.Size([1, 64, 64, 64])\n",
      "Down: x.shape: torch.Size([1, 128, 32, 32]), emb.shape: torch.Size([1, 128, 32, 32])\n",
      "Down: x.shape: torch.Size([1, 256, 16, 16]), emb.shape: torch.Size([1, 256, 16, 16])\n",
      "Down: x.shape: torch.Size([1, 256, 8, 8]), emb.shape: torch.Size([1, 256, 8, 8])\n",
      "Down: x.shape: torch.Size([1, 128, 16, 16]), emb.shape: torch.Size([1, 128, 16, 16])\n",
      "Down: x.shape: torch.Size([1, 64, 32, 32]), emb.shape: torch.Size([1, 64, 32, 32])\n",
      "Down: x.shape: torch.Size([1, 64, 64, 64]), emb.shape: torch.Size([1, 64, 64, 64])\n",
      "Down: x.shape: torch.Size([1, 128, 32, 32]), emb.shape: torch.Size([1, 128, 32, 32])\n",
      "Down: x.shape: torch.Size([1, 256, 16, 16]), emb.shape: torch.Size([1, 256, 16, 16])\n",
      "Down: x.shape: torch.Size([1, 256, 8, 8]), emb.shape: torch.Size([1, 256, 8, 8])\n",
      "Down: x.shape: torch.Size([1, 128, 16, 16]), emb.shape: torch.Size([1, 128, 16, 16])\n",
      "Down: x.shape: torch.Size([1, 64, 32, 32]), emb.shape: torch.Size([1, 64, 32, 32])\n",
      "Down: x.shape: torch.Size([1, 64, 64, 64]), emb.shape: torch.Size([1, 64, 64, 64])\n",
      "Down: x.shape: torch.Size([1, 128, 32, 32]), emb.shape: torch.Size([1, 128, 32, 32])\n",
      "Down: x.shape: torch.Size([1, 256, 16, 16]), emb.shape: torch.Size([1, 256, 16, 16])\n",
      "Down: x.shape: torch.Size([1, 256, 8, 8]), emb.shape: torch.Size([1, 256, 8, 8])\n",
      "Down: x.shape: torch.Size([1, 128, 16, 16]), emb.shape: torch.Size([1, 128, 16, 16])\n",
      "Down: x.shape: torch.Size([1, 64, 32, 32]), emb.shape: torch.Size([1, 64, 32, 32])\n",
      "Down: x.shape: torch.Size([1, 64, 64, 64]), emb.shape: torch.Size([1, 64, 64, 64])\n"
     ]
    },
    {
     "name": "stderr",
     "output_type": "stream",
     "text": [
      "439it [00:20, 22.19it/s]"
     ]
    },
    {
     "name": "stdout",
     "output_type": "stream",
     "text": [
      "Down: x.shape: torch.Size([1, 128, 32, 32]), emb.shape: torch.Size([1, 128, 32, 32])\n",
      "Down: x.shape: torch.Size([1, 256, 16, 16]), emb.shape: torch.Size([1, 256, 16, 16])\n",
      "Down: x.shape: torch.Size([1, 256, 8, 8]), emb.shape: torch.Size([1, 256, 8, 8])\n",
      "Down: x.shape: torch.Size([1, 128, 16, 16]), emb.shape: torch.Size([1, 128, 16, 16])\n",
      "Down: x.shape: torch.Size([1, 64, 32, 32]), emb.shape: torch.Size([1, 64, 32, 32])\n",
      "Down: x.shape: torch.Size([1, 64, 64, 64]), emb.shape: torch.Size([1, 64, 64, 64])\n",
      "Down: x.shape: torch.Size([1, 128, 32, 32]), emb.shape: torch.Size([1, 128, 32, 32])\n",
      "Down: x.shape: torch.Size([1, 256, 16, 16]), emb.shape: torch.Size([1, 256, 16, 16])\n",
      "Down: x.shape: torch.Size([1, 256, 8, 8]), emb.shape: torch.Size([1, 256, 8, 8])\n",
      "Down: x.shape: torch.Size([1, 128, 16, 16]), emb.shape: torch.Size([1, 128, 16, 16])\n",
      "Down: x.shape: torch.Size([1, 64, 32, 32]), emb.shape: torch.Size([1, 64, 32, 32])\n",
      "Down: x.shape: torch.Size([1, 64, 64, 64]), emb.shape: torch.Size([1, 64, 64, 64])\n",
      "Down: x.shape: torch.Size([1, 128, 32, 32]), emb.shape: torch.Size([1, 128, 32, 32])\n",
      "Down: x.shape: torch.Size([1, 256, 16, 16]), emb.shape: torch.Size([1, 256, 16, 16])\n",
      "Down: x.shape: torch.Size([1, 256, 8, 8]), emb.shape: torch.Size([1, 256, 8, 8])\n",
      "Down: x.shape: torch.Size([1, 128, 16, 16]), emb.shape: torch.Size([1, 128, 16, 16])\n",
      "Down: x.shape: torch.Size([1, 64, 32, 32]), emb.shape: torch.Size([1, 64, 32, 32])\n",
      "Down: x.shape: torch.Size([1, 64, 64, 64]), emb.shape: torch.Size([1, 64, 64, 64])\n",
      "Down: x.shape: torch.Size([1, 128, 32, 32]), emb.shape: torch.Size([1, 128, 32, 32])\n",
      "Down: x.shape: torch.Size([1, 256, 16, 16]), emb.shape: torch.Size([1, 256, 16, 16])\n",
      "Down: x.shape: torch.Size([1, 256, 8, 8]), emb.shape: torch.Size([1, 256, 8, 8])\n",
      "Down: x.shape: torch.Size([1, 128, 16, 16]), emb.shape: torch.Size([1, 128, 16, 16])\n",
      "Down: x.shape: torch.Size([1, 64, 32, 32]), emb.shape: torch.Size([1, 64, 32, 32])\n",
      "Down: x.shape: torch.Size([1, 64, 64, 64]), emb.shape: torch.Size([1, 64, 64, 64])\n",
      "Down: x.shape: torch.Size([1, 128, 32, 32]), emb.shape: torch.Size([1, 128, 32, 32])\n",
      "Down: x.shape: torch.Size([1, 256, 16, 16]), emb.shape: torch.Size([1, 256, 16, 16])\n",
      "Down: x.shape: torch.Size([1, 256, 8, 8]), emb.shape: torch.Size([1, 256, 8, 8])\n"
     ]
    },
    {
     "name": "stderr",
     "output_type": "stream",
     "text": [
      "445it [00:20, 22.27it/s]"
     ]
    },
    {
     "name": "stdout",
     "output_type": "stream",
     "text": [
      "Down: x.shape: torch.Size([1, 128, 16, 16]), emb.shape: torch.Size([1, 128, 16, 16])\n",
      "Down: x.shape: torch.Size([1, 64, 32, 32]), emb.shape: torch.Size([1, 64, 32, 32])\n",
      "Down: x.shape: torch.Size([1, 64, 64, 64]), emb.shape: torch.Size([1, 64, 64, 64])\n",
      "Down: x.shape: torch.Size([1, 128, 32, 32]), emb.shape: torch.Size([1, 128, 32, 32])\n",
      "Down: x.shape: torch.Size([1, 256, 16, 16]), emb.shape: torch.Size([1, 256, 16, 16])\n",
      "Down: x.shape: torch.Size([1, 256, 8, 8]), emb.shape: torch.Size([1, 256, 8, 8])\n",
      "Down: x.shape: torch.Size([1, 128, 16, 16]), emb.shape: torch.Size([1, 128, 16, 16])\n",
      "Down: x.shape: torch.Size([1, 64, 32, 32]), emb.shape: torch.Size([1, 64, 32, 32])\n",
      "Down: x.shape: torch.Size([1, 64, 64, 64]), emb.shape: torch.Size([1, 64, 64, 64])\n",
      "Down: x.shape: torch.Size([1, 128, 32, 32]), emb.shape: torch.Size([1, 128, 32, 32])\n",
      "Down: x.shape: torch.Size([1, 256, 16, 16]), emb.shape: torch.Size([1, 256, 16, 16])\n",
      "Down: x.shape: torch.Size([1, 256, 8, 8]), emb.shape: torch.Size([1, 256, 8, 8])\n",
      "Down: x.shape: torch.Size([1, 128, 16, 16]), emb.shape: torch.Size([1, 128, 16, 16])\n",
      "Down: x.shape: torch.Size([1, 64, 32, 32]), emb.shape: torch.Size([1, 64, 32, 32])\n",
      "Down: x.shape: torch.Size([1, 64, 64, 64]), emb.shape: torch.Size([1, 64, 64, 64])\n",
      "Down: x.shape: torch.Size([1, 128, 32, 32]), emb.shape: torch.Size([1, 128, 32, 32])\n",
      "Down: x.shape: torch.Size([1, 256, 16, 16]), emb.shape: torch.Size([1, 256, 16, 16])\n",
      "Down: x.shape: torch.Size([1, 256, 8, 8]), emb.shape: torch.Size([1, 256, 8, 8])\n",
      "Down: x.shape: torch.Size([1, 128, 16, 16]), emb.shape: torch.Size([1, 128, 16, 16])\n",
      "Down: x.shape: torch.Size([1, 64, 32, 32]), emb.shape: torch.Size([1, 64, 32, 32])\n",
      "Down: x.shape: torch.Size([1, 64, 64, 64]), emb.shape: torch.Size([1, 64, 64, 64])\n",
      "Down: x.shape: torch.Size([1, 128, 32, 32]), emb.shape: torch.Size([1, 128, 32, 32])\n",
      "Down: x.shape: torch.Size([1, 256, 16, 16]), emb.shape: torch.Size([1, 256, 16, 16])\n",
      "Down: x.shape: torch.Size([1, 256, 8, 8]), emb.shape: torch.Size([1, 256, 8, 8])\n",
      "Down: x.shape: torch.Size([1, 128, 16, 16]), emb.shape: torch.Size([1, 128, 16, 16])\n",
      "Down: x.shape: torch.Size([1, 64, 32, 32]), emb.shape: torch.Size([1, 64, 32, 32])\n",
      "Down: x.shape: torch.Size([1, 64, 64, 64]), emb.shape: torch.Size([1, 64, 64, 64])\n"
     ]
    },
    {
     "name": "stderr",
     "output_type": "stream",
     "text": [
      "448it [00:20, 22.22it/s]"
     ]
    },
    {
     "name": "stdout",
     "output_type": "stream",
     "text": [
      "Down: x.shape: torch.Size([1, 128, 32, 32]), emb.shape: torch.Size([1, 128, 32, 32])\n",
      "Down: x.shape: torch.Size([1, 256, 16, 16]), emb.shape: torch.Size([1, 256, 16, 16])\n",
      "Down: x.shape: torch.Size([1, 256, 8, 8]), emb.shape: torch.Size([1, 256, 8, 8])\n",
      "Down: x.shape: torch.Size([1, 128, 16, 16]), emb.shape: torch.Size([1, 128, 16, 16])\n",
      "Down: x.shape: torch.Size([1, 64, 32, 32]), emb.shape: torch.Size([1, 64, 32, 32])\n",
      "Down: x.shape: torch.Size([1, 64, 64, 64]), emb.shape: torch.Size([1, 64, 64, 64])\n",
      "Down: x.shape: torch.Size([1, 128, 32, 32]), emb.shape: torch.Size([1, 128, 32, 32])\n",
      "Down: x.shape: torch.Size([1, 256, 16, 16]), emb.shape: torch.Size([1, 256, 16, 16])\n",
      "Down: x.shape: torch.Size([1, 256, 8, 8]), emb.shape: torch.Size([1, 256, 8, 8])\n",
      "Down: x.shape: torch.Size([1, 128, 16, 16]), emb.shape: torch.Size([1, 128, 16, 16])\n",
      "Down: x.shape: torch.Size([1, 64, 32, 32]), emb.shape: torch.Size([1, 64, 32, 32])\n",
      "Down: x.shape: torch.Size([1, 64, 64, 64]), emb.shape: torch.Size([1, 64, 64, 64])\n",
      "Down: x.shape: torch.Size([1, 128, 32, 32]), emb.shape: torch.Size([1, 128, 32, 32])\n",
      "Down: x.shape: torch.Size([1, 256, 16, 16]), emb.shape: torch.Size([1, 256, 16, 16])\n",
      "Down: x.shape: torch.Size([1, 256, 8, 8]), emb.shape: torch.Size([1, 256, 8, 8])\n",
      "Down: x.shape: torch.Size([1, 128, 16, 16]), emb.shape: torch.Size([1, 128, 16, 16])\n",
      "Down: x.shape: torch.Size([1, 64, 32, 32]), emb.shape: torch.Size([1, 64, 32, 32])\n",
      "Down: x.shape: torch.Size([1, 64, 64, 64]), emb.shape: torch.Size([1, 64, 64, 64])\n",
      "Down: x.shape: torch.Size([1, 128, 32, 32]), emb.shape: torch.Size([1, 128, 32, 32])\n",
      "Down: x.shape: torch.Size([1, 256, 16, 16]), emb.shape: torch.Size([1, 256, 16, 16])\n",
      "Down: x.shape: torch.Size([1, 256, 8, 8]), emb.shape: torch.Size([1, 256, 8, 8])\n",
      "Down: x.shape: torch.Size([1, 128, 16, 16]), emb.shape: torch.Size([1, 128, 16, 16])\n",
      "Down: x.shape: torch.Size([1, 64, 32, 32]), emb.shape: torch.Size([1, 64, 32, 32])\n",
      "Down: x.shape: torch.Size([1, 64, 64, 64]), emb.shape: torch.Size([1, 64, 64, 64])\n",
      "Down: x.shape: torch.Size([1, 128, 32, 32]), emb.shape: torch.Size([1, 128, 32, 32])\n",
      "Down: x.shape: torch.Size([1, 256, 16, 16]), emb.shape: torch.Size([1, 256, 16, 16])\n",
      "Down: x.shape: torch.Size([1, 256, 8, 8]), emb.shape: torch.Size([1, 256, 8, 8])\n",
      "Down: x.shape: torch.Size([1, 128, 16, 16]), emb.shape: torch.Size([1, 128, 16, 16])\n",
      "Down: x.shape: torch.Size([1, 64, 32, 32]), emb.shape: torch.Size([1, 64, 32, 32])\n",
      "Down: x.shape: torch.Size([1, 64, 64, 64]), emb.shape: torch.Size([1, 64, 64, 64])\n"
     ]
    },
    {
     "name": "stderr",
     "output_type": "stream",
     "text": [
      "454it [00:21, 22.24it/s]"
     ]
    },
    {
     "name": "stdout",
     "output_type": "stream",
     "text": [
      "Down: x.shape: torch.Size([1, 128, 32, 32]), emb.shape: torch.Size([1, 128, 32, 32])\n",
      "Down: x.shape: torch.Size([1, 256, 16, 16]), emb.shape: torch.Size([1, 256, 16, 16])\n",
      "Down: x.shape: torch.Size([1, 256, 8, 8]), emb.shape: torch.Size([1, 256, 8, 8])\n",
      "Down: x.shape: torch.Size([1, 128, 16, 16]), emb.shape: torch.Size([1, 128, 16, 16])\n",
      "Down: x.shape: torch.Size([1, 64, 32, 32]), emb.shape: torch.Size([1, 64, 32, 32])\n",
      "Down: x.shape: torch.Size([1, 64, 64, 64]), emb.shape: torch.Size([1, 64, 64, 64])\n",
      "Down: x.shape: torch.Size([1, 128, 32, 32]), emb.shape: torch.Size([1, 128, 32, 32])\n",
      "Down: x.shape: torch.Size([1, 256, 16, 16]), emb.shape: torch.Size([1, 256, 16, 16])\n",
      "Down: x.shape: torch.Size([1, 256, 8, 8]), emb.shape: torch.Size([1, 256, 8, 8])\n",
      "Down: x.shape: torch.Size([1, 128, 16, 16]), emb.shape: torch.Size([1, 128, 16, 16])\n",
      "Down: x.shape: torch.Size([1, 64, 32, 32]), emb.shape: torch.Size([1, 64, 32, 32])\n",
      "Down: x.shape: torch.Size([1, 64, 64, 64]), emb.shape: torch.Size([1, 64, 64, 64])\n",
      "Down: x.shape: torch.Size([1, 128, 32, 32]), emb.shape: torch.Size([1, 128, 32, 32])\n",
      "Down: x.shape: torch.Size([1, 256, 16, 16]), emb.shape: torch.Size([1, 256, 16, 16])\n",
      "Down: x.shape: torch.Size([1, 256, 8, 8]), emb.shape: torch.Size([1, 256, 8, 8])\n",
      "Down: x.shape: torch.Size([1, 128, 16, 16]), emb.shape: torch.Size([1, 128, 16, 16])\n",
      "Down: x.shape: torch.Size([1, 64, 32, 32]), emb.shape: torch.Size([1, 64, 32, 32])\n",
      "Down: x.shape: torch.Size([1, 64, 64, 64]), emb.shape: torch.Size([1, 64, 64, 64])\n",
      "Down: x.shape: torch.Size([1, 128, 32, 32]), emb.shape: torch.Size([1, 128, 32, 32])\n",
      "Down: x.shape: torch.Size([1, 256, 16, 16]), emb.shape: torch.Size([1, 256, 16, 16])\n",
      "Down: x.shape: torch.Size([1, 256, 8, 8]), emb.shape: torch.Size([1, 256, 8, 8])\n",
      "Down: x.shape: torch.Size([1, 128, 16, 16]), emb.shape: torch.Size([1, 128, 16, 16])\n",
      "Down: x.shape: torch.Size([1, 64, 32, 32]), emb.shape: torch.Size([1, 64, 32, 32])\n",
      "Down: x.shape: torch.Size([1, 64, 64, 64]), emb.shape: torch.Size([1, 64, 64, 64])\n",
      "Down: x.shape: torch.Size([1, 128, 32, 32]), emb.shape: torch.Size([1, 128, 32, 32])\n",
      "Down: x.shape: torch.Size([1, 256, 16, 16]), emb.shape: torch.Size([1, 256, 16, 16])\n",
      "Down: x.shape: torch.Size([1, 256, 8, 8]), emb.shape: torch.Size([1, 256, 8, 8])\n",
      "Down: x.shape: torch.Size([1, 128, 16, 16]), emb.shape: torch.Size([1, 128, 16, 16])\n",
      "Down: x.shape: torch.Size([1, 64, 32, 32]), emb.shape: torch.Size([1, 64, 32, 32])\n",
      "Down: x.shape: torch.Size([1, 64, 64, 64]), emb.shape: torch.Size([1, 64, 64, 64])\n"
     ]
    },
    {
     "name": "stderr",
     "output_type": "stream",
     "text": [
      "457it [00:21, 22.27it/s]"
     ]
    },
    {
     "name": "stdout",
     "output_type": "stream",
     "text": [
      "Down: x.shape: torch.Size([1, 128, 32, 32]), emb.shape: torch.Size([1, 128, 32, 32])\n",
      "Down: x.shape: torch.Size([1, 256, 16, 16]), emb.shape: torch.Size([1, 256, 16, 16])\n",
      "Down: x.shape: torch.Size([1, 256, 8, 8]), emb.shape: torch.Size([1, 256, 8, 8])\n",
      "Down: x.shape: torch.Size([1, 128, 16, 16]), emb.shape: torch.Size([1, 128, 16, 16])\n",
      "Down: x.shape: torch.Size([1, 64, 32, 32]), emb.shape: torch.Size([1, 64, 32, 32])\n",
      "Down: x.shape: torch.Size([1, 64, 64, 64]), emb.shape: torch.Size([1, 64, 64, 64])\n",
      "Down: x.shape: torch.Size([1, 128, 32, 32]), emb.shape: torch.Size([1, 128, 32, 32])\n",
      "Down: x.shape: torch.Size([1, 256, 16, 16]), emb.shape: torch.Size([1, 256, 16, 16])\n",
      "Down: x.shape: torch.Size([1, 256, 8, 8]), emb.shape: torch.Size([1, 256, 8, 8])\n",
      "Down: x.shape: torch.Size([1, 128, 16, 16]), emb.shape: torch.Size([1, 128, 16, 16])\n",
      "Down: x.shape: torch.Size([1, 64, 32, 32]), emb.shape: torch.Size([1, 64, 32, 32])\n",
      "Down: x.shape: torch.Size([1, 64, 64, 64]), emb.shape: torch.Size([1, 64, 64, 64])\n",
      "Down: x.shape: torch.Size([1, 128, 32, 32]), emb.shape: torch.Size([1, 128, 32, 32])\n",
      "Down: x.shape: torch.Size([1, 256, 16, 16]), emb.shape: torch.Size([1, 256, 16, 16])\n",
      "Down: x.shape: torch.Size([1, 256, 8, 8]), emb.shape: torch.Size([1, 256, 8, 8])\n",
      "Down: x.shape: torch.Size([1, 128, 16, 16]), emb.shape: torch.Size([1, 128, 16, 16])\n",
      "Down: x.shape: torch.Size([1, 64, 32, 32]), emb.shape: torch.Size([1, 64, 32, 32])\n",
      "Down: x.shape: torch.Size([1, 64, 64, 64]), emb.shape: torch.Size([1, 64, 64, 64])\n",
      "Down: x.shape: torch.Size([1, 128, 32, 32]), emb.shape: torch.Size([1, 128, 32, 32])\n",
      "Down: x.shape: torch.Size([1, 256, 16, 16]), emb.shape: torch.Size([1, 256, 16, 16])\n",
      "Down: x.shape: torch.Size([1, 256, 8, 8]), emb.shape: torch.Size([1, 256, 8, 8])\n",
      "Down: x.shape: torch.Size([1, 128, 16, 16]), emb.shape: torch.Size([1, 128, 16, 16])\n",
      "Down: x.shape: torch.Size([1, 64, 32, 32]), emb.shape: torch.Size([1, 64, 32, 32])\n",
      "Down: x.shape: torch.Size([1, 64, 64, 64]), emb.shape: torch.Size([1, 64, 64, 64])\n",
      "Down: x.shape: torch.Size([1, 128, 32, 32]), emb.shape: torch.Size([1, 128, 32, 32])\n",
      "Down: x.shape: torch.Size([1, 256, 16, 16]), emb.shape: torch.Size([1, 256, 16, 16])\n",
      "Down: x.shape: torch.Size([1, 256, 8, 8]), emb.shape: torch.Size([1, 256, 8, 8])\n",
      "Down: x.shape: torch.Size([1, 128, 16, 16]), emb.shape: torch.Size([1, 128, 16, 16])\n",
      "Down: x.shape: torch.Size([1, 64, 32, 32]), emb.shape: torch.Size([1, 64, 32, 32])\n",
      "Down: x.shape: torch.Size([1, 64, 64, 64]), emb.shape: torch.Size([1, 64, 64, 64])\n"
     ]
    },
    {
     "name": "stderr",
     "output_type": "stream",
     "text": [
      "463it [00:21, 22.08it/s]"
     ]
    },
    {
     "name": "stdout",
     "output_type": "stream",
     "text": [
      "Down: x.shape: torch.Size([1, 128, 32, 32]), emb.shape: torch.Size([1, 128, 32, 32])\n",
      "Down: x.shape: torch.Size([1, 256, 16, 16]), emb.shape: torch.Size([1, 256, 16, 16])\n",
      "Down: x.shape: torch.Size([1, 256, 8, 8]), emb.shape: torch.Size([1, 256, 8, 8])\n",
      "Down: x.shape: torch.Size([1, 128, 16, 16]), emb.shape: torch.Size([1, 128, 16, 16])\n",
      "Down: x.shape: torch.Size([1, 64, 32, 32]), emb.shape: torch.Size([1, 64, 32, 32])\n",
      "Down: x.shape: torch.Size([1, 64, 64, 64]), emb.shape: torch.Size([1, 64, 64, 64])\n",
      "Down: x.shape: torch.Size([1, 128, 32, 32]), emb.shape: torch.Size([1, 128, 32, 32])\n",
      "Down: x.shape: torch.Size([1, 256, 16, 16]), emb.shape: torch.Size([1, 256, 16, 16])\n",
      "Down: x.shape: torch.Size([1, 256, 8, 8]), emb.shape: torch.Size([1, 256, 8, 8])\n",
      "Down: x.shape: torch.Size([1, 128, 16, 16]), emb.shape: torch.Size([1, 128, 16, 16])\n",
      "Down: x.shape: torch.Size([1, 64, 32, 32]), emb.shape: torch.Size([1, 64, 32, 32])\n",
      "Down: x.shape: torch.Size([1, 64, 64, 64]), emb.shape: torch.Size([1, 64, 64, 64])\n",
      "Down: x.shape: torch.Size([1, 128, 32, 32]), emb.shape: torch.Size([1, 128, 32, 32])\n",
      "Down: x.shape: torch.Size([1, 256, 16, 16]), emb.shape: torch.Size([1, 256, 16, 16])\n",
      "Down: x.shape: torch.Size([1, 256, 8, 8]), emb.shape: torch.Size([1, 256, 8, 8])\n",
      "Down: x.shape: torch.Size([1, 128, 16, 16]), emb.shape: torch.Size([1, 128, 16, 16])\n",
      "Down: x.shape: torch.Size([1, 64, 32, 32]), emb.shape: torch.Size([1, 64, 32, 32])\n",
      "Down: x.shape: torch.Size([1, 64, 64, 64]), emb.shape: torch.Size([1, 64, 64, 64])\n",
      "Down: x.shape: torch.Size([1, 128, 32, 32]), emb.shape: torch.Size([1, 128, 32, 32])\n",
      "Down: x.shape: torch.Size([1, 256, 16, 16]), emb.shape: torch.Size([1, 256, 16, 16])\n",
      "Down: x.shape: torch.Size([1, 256, 8, 8]), emb.shape: torch.Size([1, 256, 8, 8])\n",
      "Down: x.shape: torch.Size([1, 128, 16, 16]), emb.shape: torch.Size([1, 128, 16, 16])\n",
      "Down: x.shape: torch.Size([1, 64, 32, 32]), emb.shape: torch.Size([1, 64, 32, 32])\n",
      "Down: x.shape: torch.Size([1, 64, 64, 64]), emb.shape: torch.Size([1, 64, 64, 64])\n",
      "Down: x.shape: torch.Size([1, 128, 32, 32]), emb.shape: torch.Size([1, 128, 32, 32])\n",
      "Down: x.shape: torch.Size([1, 256, 16, 16]), emb.shape: torch.Size([1, 256, 16, 16])\n",
      "Down: x.shape: torch.Size([1, 256, 8, 8]), emb.shape: torch.Size([1, 256, 8, 8])\n",
      "Down: x.shape: torch.Size([1, 128, 16, 16]), emb.shape: torch.Size([1, 128, 16, 16])\n",
      "Down: x.shape: torch.Size([1, 64, 32, 32]), emb.shape: torch.Size([1, 64, 32, 32])\n",
      "Down: x.shape: torch.Size([1, 64, 64, 64]), emb.shape: torch.Size([1, 64, 64, 64])\n"
     ]
    },
    {
     "name": "stderr",
     "output_type": "stream",
     "text": [
      "469it [00:21, 22.18it/s]"
     ]
    },
    {
     "name": "stdout",
     "output_type": "stream",
     "text": [
      "Down: x.shape: torch.Size([1, 128, 32, 32]), emb.shape: torch.Size([1, 128, 32, 32])\n",
      "Down: x.shape: torch.Size([1, 256, 16, 16]), emb.shape: torch.Size([1, 256, 16, 16])\n",
      "Down: x.shape: torch.Size([1, 256, 8, 8]), emb.shape: torch.Size([1, 256, 8, 8])\n",
      "Down: x.shape: torch.Size([1, 128, 16, 16]), emb.shape: torch.Size([1, 128, 16, 16])\n",
      "Down: x.shape: torch.Size([1, 64, 32, 32]), emb.shape: torch.Size([1, 64, 32, 32])\n",
      "Down: x.shape: torch.Size([1, 64, 64, 64]), emb.shape: torch.Size([1, 64, 64, 64])\n",
      "Down: x.shape: torch.Size([1, 128, 32, 32]), emb.shape: torch.Size([1, 128, 32, 32])\n",
      "Down: x.shape: torch.Size([1, 256, 16, 16]), emb.shape: torch.Size([1, 256, 16, 16])\n",
      "Down: x.shape: torch.Size([1, 256, 8, 8]), emb.shape: torch.Size([1, 256, 8, 8])\n",
      "Down: x.shape: torch.Size([1, 128, 16, 16]), emb.shape: torch.Size([1, 128, 16, 16])\n",
      "Down: x.shape: torch.Size([1, 64, 32, 32]), emb.shape: torch.Size([1, 64, 32, 32])\n",
      "Down: x.shape: torch.Size([1, 64, 64, 64]), emb.shape: torch.Size([1, 64, 64, 64])\n",
      "Down: x.shape: torch.Size([1, 128, 32, 32]), emb.shape: torch.Size([1, 128, 32, 32])\n",
      "Down: x.shape: torch.Size([1, 256, 16, 16]), emb.shape: torch.Size([1, 256, 16, 16])\n",
      "Down: x.shape: torch.Size([1, 256, 8, 8]), emb.shape: torch.Size([1, 256, 8, 8])\n",
      "Down: x.shape: torch.Size([1, 128, 16, 16]), emb.shape: torch.Size([1, 128, 16, 16])\n",
      "Down: x.shape: torch.Size([1, 64, 32, 32]), emb.shape: torch.Size([1, 64, 32, 32])\n",
      "Down: x.shape: torch.Size([1, 64, 64, 64]), emb.shape: torch.Size([1, 64, 64, 64])\n",
      "Down: x.shape: torch.Size([1, 128, 32, 32]), emb.shape: torch.Size([1, 128, 32, 32])\n",
      "Down: x.shape: torch.Size([1, 256, 16, 16]), emb.shape: torch.Size([1, 256, 16, 16])\n",
      "Down: x.shape: torch.Size([1, 256, 8, 8]), emb.shape: torch.Size([1, 256, 8, 8])\n",
      "Down: x.shape: torch.Size([1, 128, 16, 16]), emb.shape: torch.Size([1, 128, 16, 16])\n",
      "Down: x.shape: torch.Size([1, 64, 32, 32]), emb.shape: torch.Size([1, 64, 32, 32])\n",
      "Down: x.shape: torch.Size([1, 64, 64, 64]), emb.shape: torch.Size([1, 64, 64, 64])\n",
      "Down: x.shape: torch.Size([1, 128, 32, 32]), emb.shape: torch.Size([1, 128, 32, 32])\n",
      "Down: x.shape: torch.Size([1, 256, 16, 16]), emb.shape: torch.Size([1, 256, 16, 16])\n",
      "Down: x.shape: torch.Size([1, 256, 8, 8]), emb.shape: torch.Size([1, 256, 8, 8])\n",
      "Down: x.shape: torch.Size([1, 128, 16, 16]), emb.shape: torch.Size([1, 128, 16, 16])\n",
      "Down: x.shape: torch.Size([1, 64, 32, 32]), emb.shape: torch.Size([1, 64, 32, 32])\n",
      "Down: x.shape: torch.Size([1, 64, 64, 64]), emb.shape: torch.Size([1, 64, 64, 64])\n"
     ]
    },
    {
     "name": "stderr",
     "output_type": "stream",
     "text": [
      "472it [00:21, 22.15it/s]"
     ]
    },
    {
     "name": "stdout",
     "output_type": "stream",
     "text": [
      "Down: x.shape: torch.Size([1, 128, 32, 32]), emb.shape: torch.Size([1, 128, 32, 32])\n",
      "Down: x.shape: torch.Size([1, 256, 16, 16]), emb.shape: torch.Size([1, 256, 16, 16])\n",
      "Down: x.shape: torch.Size([1, 256, 8, 8]), emb.shape: torch.Size([1, 256, 8, 8])\n",
      "Down: x.shape: torch.Size([1, 128, 16, 16]), emb.shape: torch.Size([1, 128, 16, 16])\n",
      "Down: x.shape: torch.Size([1, 64, 32, 32]), emb.shape: torch.Size([1, 64, 32, 32])\n",
      "Down: x.shape: torch.Size([1, 64, 64, 64]), emb.shape: torch.Size([1, 64, 64, 64])\n",
      "Down: x.shape: torch.Size([1, 128, 32, 32]), emb.shape: torch.Size([1, 128, 32, 32])\n",
      "Down: x.shape: torch.Size([1, 256, 16, 16]), emb.shape: torch.Size([1, 256, 16, 16])\n",
      "Down: x.shape: torch.Size([1, 256, 8, 8]), emb.shape: torch.Size([1, 256, 8, 8])\n",
      "Down: x.shape: torch.Size([1, 128, 16, 16]), emb.shape: torch.Size([1, 128, 16, 16])\n",
      "Down: x.shape: torch.Size([1, 64, 32, 32]), emb.shape: torch.Size([1, 64, 32, 32])\n",
      "Down: x.shape: torch.Size([1, 64, 64, 64]), emb.shape: torch.Size([1, 64, 64, 64])\n",
      "Down: x.shape: torch.Size([1, 128, 32, 32]), emb.shape: torch.Size([1, 128, 32, 32])\n",
      "Down: x.shape: torch.Size([1, 256, 16, 16]), emb.shape: torch.Size([1, 256, 16, 16])\n",
      "Down: x.shape: torch.Size([1, 256, 8, 8]), emb.shape: torch.Size([1, 256, 8, 8])\n",
      "Down: x.shape: torch.Size([1, 128, 16, 16]), emb.shape: torch.Size([1, 128, 16, 16])\n",
      "Down: x.shape: torch.Size([1, 64, 32, 32]), emb.shape: torch.Size([1, 64, 32, 32])\n",
      "Down: x.shape: torch.Size([1, 64, 64, 64]), emb.shape: torch.Size([1, 64, 64, 64])\n",
      "Down: x.shape: torch.Size([1, 128, 32, 32]), emb.shape: torch.Size([1, 128, 32, 32])\n",
      "Down: x.shape: torch.Size([1, 256, 16, 16]), emb.shape: torch.Size([1, 256, 16, 16])\n",
      "Down: x.shape: torch.Size([1, 256, 8, 8]), emb.shape: torch.Size([1, 256, 8, 8])\n",
      "Down: x.shape: torch.Size([1, 128, 16, 16]), emb.shape: torch.Size([1, 128, 16, 16])\n",
      "Down: x.shape: torch.Size([1, 64, 32, 32]), emb.shape: torch.Size([1, 64, 32, 32])\n",
      "Down: x.shape: torch.Size([1, 64, 64, 64]), emb.shape: torch.Size([1, 64, 64, 64])\n",
      "Down: x.shape: torch.Size([1, 128, 32, 32]), emb.shape: torch.Size([1, 128, 32, 32])\n",
      "Down: x.shape: torch.Size([1, 256, 16, 16]), emb.shape: torch.Size([1, 256, 16, 16])\n",
      "Down: x.shape: torch.Size([1, 256, 8, 8]), emb.shape: torch.Size([1, 256, 8, 8])\n",
      "Down: x.shape: torch.Size([1, 128, 16, 16]), emb.shape: torch.Size([1, 128, 16, 16])\n",
      "Down: x.shape: torch.Size([1, 64, 32, 32]), emb.shape: torch.Size([1, 64, 32, 32])\n",
      "Down: x.shape: torch.Size([1, 64, 64, 64]), emb.shape: torch.Size([1, 64, 64, 64])\n"
     ]
    },
    {
     "name": "stderr",
     "output_type": "stream",
     "text": [
      "478it [00:22, 22.18it/s]"
     ]
    },
    {
     "name": "stdout",
     "output_type": "stream",
     "text": [
      "Down: x.shape: torch.Size([1, 128, 32, 32]), emb.shape: torch.Size([1, 128, 32, 32])\n",
      "Down: x.shape: torch.Size([1, 256, 16, 16]), emb.shape: torch.Size([1, 256, 16, 16])\n",
      "Down: x.shape: torch.Size([1, 256, 8, 8]), emb.shape: torch.Size([1, 256, 8, 8])\n",
      "Down: x.shape: torch.Size([1, 128, 16, 16]), emb.shape: torch.Size([1, 128, 16, 16])\n",
      "Down: x.shape: torch.Size([1, 64, 32, 32]), emb.shape: torch.Size([1, 64, 32, 32])\n",
      "Down: x.shape: torch.Size([1, 64, 64, 64]), emb.shape: torch.Size([1, 64, 64, 64])\n",
      "Down: x.shape: torch.Size([1, 128, 32, 32]), emb.shape: torch.Size([1, 128, 32, 32])\n",
      "Down: x.shape: torch.Size([1, 256, 16, 16]), emb.shape: torch.Size([1, 256, 16, 16])\n",
      "Down: x.shape: torch.Size([1, 256, 8, 8]), emb.shape: torch.Size([1, 256, 8, 8])\n",
      "Down: x.shape: torch.Size([1, 128, 16, 16]), emb.shape: torch.Size([1, 128, 16, 16])\n",
      "Down: x.shape: torch.Size([1, 64, 32, 32]), emb.shape: torch.Size([1, 64, 32, 32])\n",
      "Down: x.shape: torch.Size([1, 64, 64, 64]), emb.shape: torch.Size([1, 64, 64, 64])\n",
      "Down: x.shape: torch.Size([1, 128, 32, 32]), emb.shape: torch.Size([1, 128, 32, 32])\n",
      "Down: x.shape: torch.Size([1, 256, 16, 16]), emb.shape: torch.Size([1, 256, 16, 16])\n",
      "Down: x.shape: torch.Size([1, 256, 8, 8]), emb.shape: torch.Size([1, 256, 8, 8])\n",
      "Down: x.shape: torch.Size([1, 128, 16, 16]), emb.shape: torch.Size([1, 128, 16, 16])\n",
      "Down: x.shape: torch.Size([1, 64, 32, 32]), emb.shape: torch.Size([1, 64, 32, 32])\n",
      "Down: x.shape: torch.Size([1, 64, 64, 64]), emb.shape: torch.Size([1, 64, 64, 64])\n",
      "Down: x.shape: torch.Size([1, 128, 32, 32]), emb.shape: torch.Size([1, 128, 32, 32])\n",
      "Down: x.shape: torch.Size([1, 256, 16, 16]), emb.shape: torch.Size([1, 256, 16, 16])\n",
      "Down: x.shape: torch.Size([1, 256, 8, 8]), emb.shape: torch.Size([1, 256, 8, 8])\n",
      "Down: x.shape: torch.Size([1, 128, 16, 16]), emb.shape: torch.Size([1, 128, 16, 16])\n",
      "Down: x.shape: torch.Size([1, 64, 32, 32]), emb.shape: torch.Size([1, 64, 32, 32])\n",
      "Down: x.shape: torch.Size([1, 64, 64, 64]), emb.shape: torch.Size([1, 64, 64, 64])\n"
     ]
    },
    {
     "name": "stderr",
     "output_type": "stream",
     "text": [
      "484it [00:22, 22.23it/s]"
     ]
    },
    {
     "name": "stdout",
     "output_type": "stream",
     "text": [
      "Down: x.shape: torch.Size([1, 128, 32, 32]), emb.shape: torch.Size([1, 128, 32, 32])\n",
      "Down: x.shape: torch.Size([1, 256, 16, 16]), emb.shape: torch.Size([1, 256, 16, 16])\n",
      "Down: x.shape: torch.Size([1, 256, 8, 8]), emb.shape: torch.Size([1, 256, 8, 8])\n",
      "Down: x.shape: torch.Size([1, 128, 16, 16]), emb.shape: torch.Size([1, 128, 16, 16])\n",
      "Down: x.shape: torch.Size([1, 64, 32, 32]), emb.shape: torch.Size([1, 64, 32, 32])\n",
      "Down: x.shape: torch.Size([1, 64, 64, 64]), emb.shape: torch.Size([1, 64, 64, 64])\n",
      "Down: x.shape: torch.Size([1, 128, 32, 32]), emb.shape: torch.Size([1, 128, 32, 32])\n",
      "Down: x.shape: torch.Size([1, 256, 16, 16]), emb.shape: torch.Size([1, 256, 16, 16])\n",
      "Down: x.shape: torch.Size([1, 256, 8, 8]), emb.shape: torch.Size([1, 256, 8, 8])\n",
      "Down: x.shape: torch.Size([1, 128, 16, 16]), emb.shape: torch.Size([1, 128, 16, 16])\n",
      "Down: x.shape: torch.Size([1, 64, 32, 32]), emb.shape: torch.Size([1, 64, 32, 32])\n",
      "Down: x.shape: torch.Size([1, 64, 64, 64]), emb.shape: torch.Size([1, 64, 64, 64])\n",
      "Down: x.shape: torch.Size([1, 128, 32, 32]), emb.shape: torch.Size([1, 128, 32, 32])\n",
      "Down: x.shape: torch.Size([1, 256, 16, 16]), emb.shape: torch.Size([1, 256, 16, 16])\n",
      "Down: x.shape: torch.Size([1, 256, 8, 8]), emb.shape: torch.Size([1, 256, 8, 8])\n",
      "Down: x.shape: torch.Size([1, 128, 16, 16]), emb.shape: torch.Size([1, 128, 16, 16])\n",
      "Down: x.shape: torch.Size([1, 64, 32, 32]), emb.shape: torch.Size([1, 64, 32, 32])\n",
      "Down: x.shape: torch.Size([1, 64, 64, 64]), emb.shape: torch.Size([1, 64, 64, 64])\n",
      "Down: x.shape: torch.Size([1, 128, 32, 32]), emb.shape: torch.Size([1, 128, 32, 32])\n",
      "Down: x.shape: torch.Size([1, 256, 16, 16]), emb.shape: torch.Size([1, 256, 16, 16])\n",
      "Down: x.shape: torch.Size([1, 256, 8, 8]), emb.shape: torch.Size([1, 256, 8, 8])\n",
      "Down: x.shape: torch.Size([1, 128, 16, 16]), emb.shape: torch.Size([1, 128, 16, 16])\n",
      "Down: x.shape: torch.Size([1, 64, 32, 32]), emb.shape: torch.Size([1, 64, 32, 32])\n",
      "Down: x.shape: torch.Size([1, 64, 64, 64]), emb.shape: torch.Size([1, 64, 64, 64])\n",
      "Down: x.shape: torch.Size([1, 128, 32, 32]), emb.shape: torch.Size([1, 128, 32, 32])\n",
      "Down: x.shape: torch.Size([1, 256, 16, 16]), emb.shape: torch.Size([1, 256, 16, 16])\n",
      "Down: x.shape: torch.Size([1, 256, 8, 8]), emb.shape: torch.Size([1, 256, 8, 8])\n",
      "Down: x.shape: torch.Size([1, 128, 16, 16]), emb.shape: torch.Size([1, 128, 16, 16])\n",
      "Down: x.shape: torch.Size([1, 64, 32, 32]), emb.shape: torch.Size([1, 64, 32, 32])\n",
      "Down: x.shape: torch.Size([1, 64, 64, 64]), emb.shape: torch.Size([1, 64, 64, 64])\n"
     ]
    },
    {
     "name": "stderr",
     "output_type": "stream",
     "text": [
      "487it [00:22, 22.24it/s]"
     ]
    },
    {
     "name": "stdout",
     "output_type": "stream",
     "text": [
      "Down: x.shape: torch.Size([1, 128, 32, 32]), emb.shape: torch.Size([1, 128, 32, 32])\n",
      "Down: x.shape: torch.Size([1, 256, 16, 16]), emb.shape: torch.Size([1, 256, 16, 16])\n",
      "Down: x.shape: torch.Size([1, 256, 8, 8]), emb.shape: torch.Size([1, 256, 8, 8])\n",
      "Down: x.shape: torch.Size([1, 128, 16, 16]), emb.shape: torch.Size([1, 128, 16, 16])\n",
      "Down: x.shape: torch.Size([1, 64, 32, 32]), emb.shape: torch.Size([1, 64, 32, 32])\n",
      "Down: x.shape: torch.Size([1, 64, 64, 64]), emb.shape: torch.Size([1, 64, 64, 64])\n",
      "Down: x.shape: torch.Size([1, 128, 32, 32]), emb.shape: torch.Size([1, 128, 32, 32])\n",
      "Down: x.shape: torch.Size([1, 256, 16, 16]), emb.shape: torch.Size([1, 256, 16, 16])\n",
      "Down: x.shape: torch.Size([1, 256, 8, 8]), emb.shape: torch.Size([1, 256, 8, 8])\n",
      "Down: x.shape: torch.Size([1, 128, 16, 16]), emb.shape: torch.Size([1, 128, 16, 16])\n",
      "Down: x.shape: torch.Size([1, 64, 32, 32]), emb.shape: torch.Size([1, 64, 32, 32])\n",
      "Down: x.shape: torch.Size([1, 64, 64, 64]), emb.shape: torch.Size([1, 64, 64, 64])\n",
      "Down: x.shape: torch.Size([1, 128, 32, 32]), emb.shape: torch.Size([1, 128, 32, 32])\n",
      "Down: x.shape: torch.Size([1, 256, 16, 16]), emb.shape: torch.Size([1, 256, 16, 16])\n",
      "Down: x.shape: torch.Size([1, 256, 8, 8]), emb.shape: torch.Size([1, 256, 8, 8])\n",
      "Down: x.shape: torch.Size([1, 128, 16, 16]), emb.shape: torch.Size([1, 128, 16, 16])\n",
      "Down: x.shape: torch.Size([1, 64, 32, 32]), emb.shape: torch.Size([1, 64, 32, 32])\n",
      "Down: x.shape: torch.Size([1, 64, 64, 64]), emb.shape: torch.Size([1, 64, 64, 64])\n",
      "Down: x.shape: torch.Size([1, 128, 32, 32]), emb.shape: torch.Size([1, 128, 32, 32])\n",
      "Down: x.shape: torch.Size([1, 256, 16, 16]), emb.shape: torch.Size([1, 256, 16, 16])\n",
      "Down: x.shape: torch.Size([1, 256, 8, 8]), emb.shape: torch.Size([1, 256, 8, 8])\n",
      "Down: x.shape: torch.Size([1, 128, 16, 16]), emb.shape: torch.Size([1, 128, 16, 16])\n",
      "Down: x.shape: torch.Size([1, 64, 32, 32]), emb.shape: torch.Size([1, 64, 32, 32])\n",
      "Down: x.shape: torch.Size([1, 64, 64, 64]), emb.shape: torch.Size([1, 64, 64, 64])\n",
      "Down: x.shape: torch.Size([1, 128, 32, 32]), emb.shape: torch.Size([1, 128, 32, 32])\n",
      "Down: x.shape: torch.Size([1, 256, 16, 16]), emb.shape: torch.Size([1, 256, 16, 16])\n",
      "Down: x.shape: torch.Size([1, 256, 8, 8]), emb.shape: torch.Size([1, 256, 8, 8])\n",
      "Down: x.shape: torch.Size([1, 128, 16, 16]), emb.shape: torch.Size([1, 128, 16, 16])\n",
      "Down: x.shape: torch.Size([1, 64, 32, 32]), emb.shape: torch.Size([1, 64, 32, 32])\n",
      "Down: x.shape: torch.Size([1, 64, 64, 64]), emb.shape: torch.Size([1, 64, 64, 64])\n"
     ]
    },
    {
     "name": "stderr",
     "output_type": "stream",
     "text": [
      "493it [00:22, 22.19it/s]"
     ]
    },
    {
     "name": "stdout",
     "output_type": "stream",
     "text": [
      "Down: x.shape: torch.Size([1, 128, 32, 32]), emb.shape: torch.Size([1, 128, 32, 32])\n",
      "Down: x.shape: torch.Size([1, 256, 16, 16]), emb.shape: torch.Size([1, 256, 16, 16])\n",
      "Down: x.shape: torch.Size([1, 256, 8, 8]), emb.shape: torch.Size([1, 256, 8, 8])\n",
      "Down: x.shape: torch.Size([1, 128, 16, 16]), emb.shape: torch.Size([1, 128, 16, 16])\n",
      "Down: x.shape: torch.Size([1, 64, 32, 32]), emb.shape: torch.Size([1, 64, 32, 32])\n",
      "Down: x.shape: torch.Size([1, 64, 64, 64]), emb.shape: torch.Size([1, 64, 64, 64])\n",
      "Down: x.shape: torch.Size([1, 128, 32, 32]), emb.shape: torch.Size([1, 128, 32, 32])\n",
      "Down: x.shape: torch.Size([1, 256, 16, 16]), emb.shape: torch.Size([1, 256, 16, 16])\n",
      "Down: x.shape: torch.Size([1, 256, 8, 8]), emb.shape: torch.Size([1, 256, 8, 8])\n",
      "Down: x.shape: torch.Size([1, 128, 16, 16]), emb.shape: torch.Size([1, 128, 16, 16])\n",
      "Down: x.shape: torch.Size([1, 64, 32, 32]), emb.shape: torch.Size([1, 64, 32, 32])\n",
      "Down: x.shape: torch.Size([1, 64, 64, 64]), emb.shape: torch.Size([1, 64, 64, 64])\n",
      "Down: x.shape: torch.Size([1, 128, 32, 32]), emb.shape: torch.Size([1, 128, 32, 32])\n",
      "Down: x.shape: torch.Size([1, 256, 16, 16]), emb.shape: torch.Size([1, 256, 16, 16])\n",
      "Down: x.shape: torch.Size([1, 256, 8, 8]), emb.shape: torch.Size([1, 256, 8, 8])\n",
      "Down: x.shape: torch.Size([1, 128, 16, 16]), emb.shape: torch.Size([1, 128, 16, 16])\n",
      "Down: x.shape: torch.Size([1, 64, 32, 32]), emb.shape: torch.Size([1, 64, 32, 32])\n",
      "Down: x.shape: torch.Size([1, 64, 64, 64]), emb.shape: torch.Size([1, 64, 64, 64])\n",
      "Down: x.shape: torch.Size([1, 128, 32, 32]), emb.shape: torch.Size([1, 128, 32, 32])\n",
      "Down: x.shape: torch.Size([1, 256, 16, 16]), emb.shape: torch.Size([1, 256, 16, 16])\n",
      "Down: x.shape: torch.Size([1, 256, 8, 8]), emb.shape: torch.Size([1, 256, 8, 8])\n",
      "Down: x.shape: torch.Size([1, 128, 16, 16]), emb.shape: torch.Size([1, 128, 16, 16])\n",
      "Down: x.shape: torch.Size([1, 64, 32, 32]), emb.shape: torch.Size([1, 64, 32, 32])\n",
      "Down: x.shape: torch.Size([1, 64, 64, 64]), emb.shape: torch.Size([1, 64, 64, 64])\n",
      "Down: x.shape: torch.Size([1, 128, 32, 32]), emb.shape: torch.Size([1, 128, 32, 32])\n",
      "Down: x.shape: torch.Size([1, 256, 16, 16]), emb.shape: torch.Size([1, 256, 16, 16])\n",
      "Down: x.shape: torch.Size([1, 256, 8, 8]), emb.shape: torch.Size([1, 256, 8, 8])\n",
      "Down: x.shape: torch.Size([1, 128, 16, 16]), emb.shape: torch.Size([1, 128, 16, 16])\n",
      "Down: x.shape: torch.Size([1, 64, 32, 32]), emb.shape: torch.Size([1, 64, 32, 32])\n",
      "Down: x.shape: torch.Size([1, 64, 64, 64]), emb.shape: torch.Size([1, 64, 64, 64])\n"
     ]
    },
    {
     "name": "stderr",
     "output_type": "stream",
     "text": [
      "499it [00:23, 22.07it/s]"
     ]
    },
    {
     "name": "stdout",
     "output_type": "stream",
     "text": [
      "Down: x.shape: torch.Size([1, 128, 32, 32]), emb.shape: torch.Size([1, 128, 32, 32])\n",
      "Down: x.shape: torch.Size([1, 256, 16, 16]), emb.shape: torch.Size([1, 256, 16, 16])\n",
      "Down: x.shape: torch.Size([1, 256, 8, 8]), emb.shape: torch.Size([1, 256, 8, 8])\n",
      "Down: x.shape: torch.Size([1, 128, 16, 16]), emb.shape: torch.Size([1, 128, 16, 16])\n",
      "Down: x.shape: torch.Size([1, 64, 32, 32]), emb.shape: torch.Size([1, 64, 32, 32])\n",
      "Down: x.shape: torch.Size([1, 64, 64, 64]), emb.shape: torch.Size([1, 64, 64, 64])\n",
      "Down: x.shape: torch.Size([1, 128, 32, 32]), emb.shape: torch.Size([1, 128, 32, 32])\n",
      "Down: x.shape: torch.Size([1, 256, 16, 16]), emb.shape: torch.Size([1, 256, 16, 16])\n",
      "Down: x.shape: torch.Size([1, 256, 8, 8]), emb.shape: torch.Size([1, 256, 8, 8])\n",
      "Down: x.shape: torch.Size([1, 128, 16, 16]), emb.shape: torch.Size([1, 128, 16, 16])\n",
      "Down: x.shape: torch.Size([1, 64, 32, 32]), emb.shape: torch.Size([1, 64, 32, 32])\n",
      "Down: x.shape: torch.Size([1, 64, 64, 64]), emb.shape: torch.Size([1, 64, 64, 64])\n",
      "Down: x.shape: torch.Size([1, 128, 32, 32]), emb.shape: torch.Size([1, 128, 32, 32])\n",
      "Down: x.shape: torch.Size([1, 256, 16, 16]), emb.shape: torch.Size([1, 256, 16, 16])\n",
      "Down: x.shape: torch.Size([1, 256, 8, 8]), emb.shape: torch.Size([1, 256, 8, 8])\n",
      "Down: x.shape: torch.Size([1, 128, 16, 16]), emb.shape: torch.Size([1, 128, 16, 16])\n",
      "Down: x.shape: torch.Size([1, 64, 32, 32]), emb.shape: torch.Size([1, 64, 32, 32])\n",
      "Down: x.shape: torch.Size([1, 64, 64, 64]), emb.shape: torch.Size([1, 64, 64, 64])\n",
      "Down: x.shape: torch.Size([1, 128, 32, 32]), emb.shape: torch.Size([1, 128, 32, 32])\n",
      "Down: x.shape: torch.Size([1, 256, 16, 16]), emb.shape: torch.Size([1, 256, 16, 16])\n",
      "Down: x.shape: torch.Size([1, 256, 8, 8]), emb.shape: torch.Size([1, 256, 8, 8])\n",
      "Down: x.shape: torch.Size([1, 128, 16, 16]), emb.shape: torch.Size([1, 128, 16, 16])\n",
      "Down: x.shape: torch.Size([1, 64, 32, 32]), emb.shape: torch.Size([1, 64, 32, 32])\n",
      "Down: x.shape: torch.Size([1, 64, 64, 64]), emb.shape: torch.Size([1, 64, 64, 64])\n",
      "Down: x.shape: torch.Size([1, 128, 32, 32]), emb.shape: torch.Size([1, 128, 32, 32])\n",
      "Down: x.shape: torch.Size([1, 256, 16, 16]), emb.shape: torch.Size([1, 256, 16, 16])\n",
      "Down: x.shape: torch.Size([1, 256, 8, 8]), emb.shape: torch.Size([1, 256, 8, 8])\n",
      "Down: x.shape: torch.Size([1, 128, 16, 16]), emb.shape: torch.Size([1, 128, 16, 16])\n",
      "Down: x.shape: torch.Size([1, 64, 32, 32]), emb.shape: torch.Size([1, 64, 32, 32])\n",
      "Down: x.shape: torch.Size([1, 64, 64, 64]), emb.shape: torch.Size([1, 64, 64, 64])\n"
     ]
    },
    {
     "name": "stderr",
     "output_type": "stream",
     "text": [
      "502it [00:23, 21.68it/s]"
     ]
    },
    {
     "name": "stdout",
     "output_type": "stream",
     "text": [
      "Down: x.shape: torch.Size([1, 128, 32, 32]), emb.shape: torch.Size([1, 128, 32, 32])\n",
      "Down: x.shape: torch.Size([1, 256, 16, 16]), emb.shape: torch.Size([1, 256, 16, 16])\n",
      "Down: x.shape: torch.Size([1, 256, 8, 8]), emb.shape: torch.Size([1, 256, 8, 8])\n",
      "Down: x.shape: torch.Size([1, 128, 16, 16]), emb.shape: torch.Size([1, 128, 16, 16])\n",
      "Down: x.shape: torch.Size([1, 64, 32, 32]), emb.shape: torch.Size([1, 64, 32, 32])\n",
      "Down: x.shape: torch.Size([1, 64, 64, 64]), emb.shape: torch.Size([1, 64, 64, 64])\n",
      "Down: x.shape: torch.Size([1, 128, 32, 32]), emb.shape: torch.Size([1, 128, 32, 32])\n",
      "Down: x.shape: torch.Size([1, 256, 16, 16]), emb.shape: torch.Size([1, 256, 16, 16])\n",
      "Down: x.shape: torch.Size([1, 256, 8, 8]), emb.shape: torch.Size([1, 256, 8, 8])\n",
      "Down: x.shape: torch.Size([1, 128, 16, 16]), emb.shape: torch.Size([1, 128, 16, 16])\n",
      "Down: x.shape: torch.Size([1, 64, 32, 32]), emb.shape: torch.Size([1, 64, 32, 32])\n",
      "Down: x.shape: torch.Size([1, 64, 64, 64]), emb.shape: torch.Size([1, 64, 64, 64])\n",
      "Down: x.shape: torch.Size([1, 128, 32, 32]), emb.shape: torch.Size([1, 128, 32, 32])\n",
      "Down: x.shape: torch.Size([1, 256, 16, 16]), emb.shape: torch.Size([1, 256, 16, 16])\n",
      "Down: x.shape: torch.Size([1, 256, 8, 8]), emb.shape: torch.Size([1, 256, 8, 8])\n",
      "Down: x.shape: torch.Size([1, 128, 16, 16]), emb.shape: torch.Size([1, 128, 16, 16])\n",
      "Down: x.shape: torch.Size([1, 64, 32, 32]), emb.shape: torch.Size([1, 64, 32, 32])\n",
      "Down: x.shape: torch.Size([1, 64, 64, 64]), emb.shape: torch.Size([1, 64, 64, 64])\n",
      "Down: x.shape: torch.Size([1, 128, 32, 32]), emb.shape: torch.Size([1, 128, 32, 32])\n",
      "Down: x.shape: torch.Size([1, 256, 16, 16]), emb.shape: torch.Size([1, 256, 16, 16])\n",
      "Down: x.shape: torch.Size([1, 256, 8, 8]), emb.shape: torch.Size([1, 256, 8, 8])\n",
      "Down: x.shape: torch.Size([1, 128, 16, 16]), emb.shape: torch.Size([1, 128, 16, 16])\n",
      "Down: x.shape: torch.Size([1, 64, 32, 32]), emb.shape: torch.Size([1, 64, 32, 32])\n",
      "Down: x.shape: torch.Size([1, 64, 64, 64]), emb.shape: torch.Size([1, 64, 64, 64])\n",
      "Down: x.shape: torch.Size([1, 128, 32, 32]), emb.shape: torch.Size([1, 128, 32, 32])\n",
      "Down: x.shape: torch.Size([1, 256, 16, 16]), emb.shape: torch.Size([1, 256, 16, 16])\n",
      "Down: x.shape: torch.Size([1, 256, 8, 8]), emb.shape: torch.Size([1, 256, 8, 8])\n",
      "Down: x.shape: torch.Size([1, 128, 16, 16]), emb.shape: torch.Size([1, 128, 16, 16])\n",
      "Down: x.shape: torch.Size([1, 64, 32, 32]), emb.shape: torch.Size([1, 64, 32, 32])\n",
      "Down: x.shape: torch.Size([1, 64, 64, 64]), emb.shape: torch.Size([1, 64, 64, 64])\n"
     ]
    },
    {
     "name": "stderr",
     "output_type": "stream",
     "text": [
      "508it [00:23, 21.99it/s]"
     ]
    },
    {
     "name": "stdout",
     "output_type": "stream",
     "text": [
      "Down: x.shape: torch.Size([1, 128, 32, 32]), emb.shape: torch.Size([1, 128, 32, 32])\n",
      "Down: x.shape: torch.Size([1, 256, 16, 16]), emb.shape: torch.Size([1, 256, 16, 16])\n",
      "Down: x.shape: torch.Size([1, 256, 8, 8]), emb.shape: torch.Size([1, 256, 8, 8])\n",
      "Down: x.shape: torch.Size([1, 128, 16, 16]), emb.shape: torch.Size([1, 128, 16, 16])\n",
      "Down: x.shape: torch.Size([1, 64, 32, 32]), emb.shape: torch.Size([1, 64, 32, 32])\n",
      "Down: x.shape: torch.Size([1, 64, 64, 64]), emb.shape: torch.Size([1, 64, 64, 64])\n",
      "Down: x.shape: torch.Size([1, 128, 32, 32]), emb.shape: torch.Size([1, 128, 32, 32])\n",
      "Down: x.shape: torch.Size([1, 256, 16, 16]), emb.shape: torch.Size([1, 256, 16, 16])\n",
      "Down: x.shape: torch.Size([1, 256, 8, 8]), emb.shape: torch.Size([1, 256, 8, 8])\n",
      "Down: x.shape: torch.Size([1, 128, 16, 16]), emb.shape: torch.Size([1, 128, 16, 16])\n",
      "Down: x.shape: torch.Size([1, 64, 32, 32]), emb.shape: torch.Size([1, 64, 32, 32])\n",
      "Down: x.shape: torch.Size([1, 64, 64, 64]), emb.shape: torch.Size([1, 64, 64, 64])\n",
      "Down: x.shape: torch.Size([1, 128, 32, 32]), emb.shape: torch.Size([1, 128, 32, 32])\n",
      "Down: x.shape: torch.Size([1, 256, 16, 16]), emb.shape: torch.Size([1, 256, 16, 16])\n",
      "Down: x.shape: torch.Size([1, 256, 8, 8]), emb.shape: torch.Size([1, 256, 8, 8])\n",
      "Down: x.shape: torch.Size([1, 128, 16, 16]), emb.shape: torch.Size([1, 128, 16, 16])\n",
      "Down: x.shape: torch.Size([1, 64, 32, 32]), emb.shape: torch.Size([1, 64, 32, 32])\n",
      "Down: x.shape: torch.Size([1, 64, 64, 64]), emb.shape: torch.Size([1, 64, 64, 64])\n",
      "Down: x.shape: torch.Size([1, 128, 32, 32]), emb.shape: torch.Size([1, 128, 32, 32])\n",
      "Down: x.shape: torch.Size([1, 256, 16, 16]), emb.shape: torch.Size([1, 256, 16, 16])\n",
      "Down: x.shape: torch.Size([1, 256, 8, 8]), emb.shape: torch.Size([1, 256, 8, 8])\n",
      "Down: x.shape: torch.Size([1, 128, 16, 16]), emb.shape: torch.Size([1, 128, 16, 16])\n",
      "Down: x.shape: torch.Size([1, 64, 32, 32]), emb.shape: torch.Size([1, 64, 32, 32])\n",
      "Down: x.shape: torch.Size([1, 64, 64, 64]), emb.shape: torch.Size([1, 64, 64, 64])\n",
      "Down: x.shape: torch.Size([1, 128, 32, 32]), emb.shape: torch.Size([1, 128, 32, 32])\n",
      "Down: x.shape: torch.Size([1, 256, 16, 16]), emb.shape: torch.Size([1, 256, 16, 16])\n",
      "Down: x.shape: torch.Size([1, 256, 8, 8]), emb.shape: torch.Size([1, 256, 8, 8])\n",
      "Down: x.shape: torch.Size([1, 128, 16, 16]), emb.shape: torch.Size([1, 128, 16, 16])\n",
      "Down: x.shape: torch.Size([1, 64, 32, 32]), emb.shape: torch.Size([1, 64, 32, 32])\n",
      "Down: x.shape: torch.Size([1, 64, 64, 64]), emb.shape: torch.Size([1, 64, 64, 64])\n"
     ]
    },
    {
     "name": "stderr",
     "output_type": "stream",
     "text": [
      "514it [00:23, 22.14it/s]"
     ]
    },
    {
     "name": "stdout",
     "output_type": "stream",
     "text": [
      "Down: x.shape: torch.Size([1, 128, 32, 32]), emb.shape: torch.Size([1, 128, 32, 32])\n",
      "Down: x.shape: torch.Size([1, 256, 16, 16]), emb.shape: torch.Size([1, 256, 16, 16])\n",
      "Down: x.shape: torch.Size([1, 256, 8, 8]), emb.shape: torch.Size([1, 256, 8, 8])\n",
      "Down: x.shape: torch.Size([1, 128, 16, 16]), emb.shape: torch.Size([1, 128, 16, 16])\n",
      "Down: x.shape: torch.Size([1, 64, 32, 32]), emb.shape: torch.Size([1, 64, 32, 32])\n",
      "Down: x.shape: torch.Size([1, 64, 64, 64]), emb.shape: torch.Size([1, 64, 64, 64])\n",
      "Down: x.shape: torch.Size([1, 128, 32, 32]), emb.shape: torch.Size([1, 128, 32, 32])\n",
      "Down: x.shape: torch.Size([1, 256, 16, 16]), emb.shape: torch.Size([1, 256, 16, 16])\n",
      "Down: x.shape: torch.Size([1, 256, 8, 8]), emb.shape: torch.Size([1, 256, 8, 8])\n",
      "Down: x.shape: torch.Size([1, 128, 16, 16]), emb.shape: torch.Size([1, 128, 16, 16])\n",
      "Down: x.shape: torch.Size([1, 64, 32, 32]), emb.shape: torch.Size([1, 64, 32, 32])\n",
      "Down: x.shape: torch.Size([1, 64, 64, 64]), emb.shape: torch.Size([1, 64, 64, 64])\n",
      "Down: x.shape: torch.Size([1, 128, 32, 32]), emb.shape: torch.Size([1, 128, 32, 32])\n",
      "Down: x.shape: torch.Size([1, 256, 16, 16]), emb.shape: torch.Size([1, 256, 16, 16])\n",
      "Down: x.shape: torch.Size([1, 256, 8, 8]), emb.shape: torch.Size([1, 256, 8, 8])\n",
      "Down: x.shape: torch.Size([1, 128, 16, 16]), emb.shape: torch.Size([1, 128, 16, 16])\n",
      "Down: x.shape: torch.Size([1, 64, 32, 32]), emb.shape: torch.Size([1, 64, 32, 32])\n",
      "Down: x.shape: torch.Size([1, 64, 64, 64]), emb.shape: torch.Size([1, 64, 64, 64])\n",
      "Down: x.shape: torch.Size([1, 128, 32, 32]), emb.shape: torch.Size([1, 128, 32, 32])\n",
      "Down: x.shape: torch.Size([1, 256, 16, 16]), emb.shape: torch.Size([1, 256, 16, 16])\n",
      "Down: x.shape: torch.Size([1, 256, 8, 8]), emb.shape: torch.Size([1, 256, 8, 8])\n",
      "Down: x.shape: torch.Size([1, 128, 16, 16]), emb.shape: torch.Size([1, 128, 16, 16])\n",
      "Down: x.shape: torch.Size([1, 64, 32, 32]), emb.shape: torch.Size([1, 64, 32, 32])\n",
      "Down: x.shape: torch.Size([1, 64, 64, 64]), emb.shape: torch.Size([1, 64, 64, 64])\n",
      "Down: x.shape: torch.Size([1, 128, 32, 32]), emb.shape: torch.Size([1, 128, 32, 32])\n",
      "Down: x.shape: torch.Size([1, 256, 16, 16]), emb.shape: torch.Size([1, 256, 16, 16])\n",
      "Down: x.shape: torch.Size([1, 256, 8, 8]), emb.shape: torch.Size([1, 256, 8, 8])\n",
      "Down: x.shape: torch.Size([1, 128, 16, 16]), emb.shape: torch.Size([1, 128, 16, 16])\n",
      "Down: x.shape: torch.Size([1, 64, 32, 32]), emb.shape: torch.Size([1, 64, 32, 32])\n",
      "Down: x.shape: torch.Size([1, 64, 64, 64]), emb.shape: torch.Size([1, 64, 64, 64])\n"
     ]
    },
    {
     "name": "stderr",
     "output_type": "stream",
     "text": [
      "517it [00:24, 22.21it/s]"
     ]
    },
    {
     "name": "stdout",
     "output_type": "stream",
     "text": [
      "Down: x.shape: torch.Size([1, 128, 32, 32]), emb.shape: torch.Size([1, 128, 32, 32])\n",
      "Down: x.shape: torch.Size([1, 256, 16, 16]), emb.shape: torch.Size([1, 256, 16, 16])\n",
      "Down: x.shape: torch.Size([1, 256, 8, 8]), emb.shape: torch.Size([1, 256, 8, 8])\n",
      "Down: x.shape: torch.Size([1, 128, 16, 16]), emb.shape: torch.Size([1, 128, 16, 16])\n",
      "Down: x.shape: torch.Size([1, 64, 32, 32]), emb.shape: torch.Size([1, 64, 32, 32])\n",
      "Down: x.shape: torch.Size([1, 64, 64, 64]), emb.shape: torch.Size([1, 64, 64, 64])\n",
      "Down: x.shape: torch.Size([1, 128, 32, 32]), emb.shape: torch.Size([1, 128, 32, 32])\n",
      "Down: x.shape: torch.Size([1, 256, 16, 16]), emb.shape: torch.Size([1, 256, 16, 16])\n",
      "Down: x.shape: torch.Size([1, 256, 8, 8]), emb.shape: torch.Size([1, 256, 8, 8])\n",
      "Down: x.shape: torch.Size([1, 128, 16, 16]), emb.shape: torch.Size([1, 128, 16, 16])\n",
      "Down: x.shape: torch.Size([1, 64, 32, 32]), emb.shape: torch.Size([1, 64, 32, 32])\n",
      "Down: x.shape: torch.Size([1, 64, 64, 64]), emb.shape: torch.Size([1, 64, 64, 64])\n",
      "Down: x.shape: torch.Size([1, 128, 32, 32]), emb.shape: torch.Size([1, 128, 32, 32])\n",
      "Down: x.shape: torch.Size([1, 256, 16, 16]), emb.shape: torch.Size([1, 256, 16, 16])\n",
      "Down: x.shape: torch.Size([1, 256, 8, 8]), emb.shape: torch.Size([1, 256, 8, 8])\n",
      "Down: x.shape: torch.Size([1, 128, 16, 16]), emb.shape: torch.Size([1, 128, 16, 16])\n",
      "Down: x.shape: torch.Size([1, 64, 32, 32]), emb.shape: torch.Size([1, 64, 32, 32])\n",
      "Down: x.shape: torch.Size([1, 64, 64, 64]), emb.shape: torch.Size([1, 64, 64, 64])\n",
      "Down: x.shape: torch.Size([1, 128, 32, 32]), emb.shape: torch.Size([1, 128, 32, 32])\n",
      "Down: x.shape: torch.Size([1, 256, 16, 16]), emb.shape: torch.Size([1, 256, 16, 16])\n",
      "Down: x.shape: torch.Size([1, 256, 8, 8]), emb.shape: torch.Size([1, 256, 8, 8])\n",
      "Down: x.shape: torch.Size([1, 128, 16, 16]), emb.shape: torch.Size([1, 128, 16, 16])\n",
      "Down: x.shape: torch.Size([1, 64, 32, 32]), emb.shape: torch.Size([1, 64, 32, 32])\n",
      "Down: x.shape: torch.Size([1, 64, 64, 64]), emb.shape: torch.Size([1, 64, 64, 64])\n",
      "Down: x.shape: torch.Size([1, 128, 32, 32]), emb.shape: torch.Size([1, 128, 32, 32])\n",
      "Down: x.shape: torch.Size([1, 256, 16, 16]), emb.shape: torch.Size([1, 256, 16, 16])\n",
      "Down: x.shape: torch.Size([1, 256, 8, 8]), emb.shape: torch.Size([1, 256, 8, 8])\n",
      "Down: x.shape: torch.Size([1, 128, 16, 16]), emb.shape: torch.Size([1, 128, 16, 16])\n",
      "Down: x.shape: torch.Size([1, 64, 32, 32]), emb.shape: torch.Size([1, 64, 32, 32])\n",
      "Down: x.shape: torch.Size([1, 64, 64, 64]), emb.shape: torch.Size([1, 64, 64, 64])\n"
     ]
    },
    {
     "name": "stderr",
     "output_type": "stream",
     "text": [
      "523it [00:24, 22.01it/s]"
     ]
    },
    {
     "name": "stdout",
     "output_type": "stream",
     "text": [
      "Down: x.shape: torch.Size([1, 128, 32, 32]), emb.shape: torch.Size([1, 128, 32, 32])\n",
      "Down: x.shape: torch.Size([1, 256, 16, 16]), emb.shape: torch.Size([1, 256, 16, 16])\n",
      "Down: x.shape: torch.Size([1, 256, 8, 8]), emb.shape: torch.Size([1, 256, 8, 8])\n",
      "Down: x.shape: torch.Size([1, 128, 16, 16]), emb.shape: torch.Size([1, 128, 16, 16])\n",
      "Down: x.shape: torch.Size([1, 64, 32, 32]), emb.shape: torch.Size([1, 64, 32, 32])\n",
      "Down: x.shape: torch.Size([1, 64, 64, 64]), emb.shape: torch.Size([1, 64, 64, 64])\n",
      "Down: x.shape: torch.Size([1, 128, 32, 32]), emb.shape: torch.Size([1, 128, 32, 32])\n",
      "Down: x.shape: torch.Size([1, 256, 16, 16]), emb.shape: torch.Size([1, 256, 16, 16])\n",
      "Down: x.shape: torch.Size([1, 256, 8, 8]), emb.shape: torch.Size([1, 256, 8, 8])\n",
      "Down: x.shape: torch.Size([1, 128, 16, 16]), emb.shape: torch.Size([1, 128, 16, 16])\n",
      "Down: x.shape: torch.Size([1, 64, 32, 32]), emb.shape: torch.Size([1, 64, 32, 32])\n",
      "Down: x.shape: torch.Size([1, 64, 64, 64]), emb.shape: torch.Size([1, 64, 64, 64])\n",
      "Down: x.shape: torch.Size([1, 128, 32, 32]), emb.shape: torch.Size([1, 128, 32, 32])\n",
      "Down: x.shape: torch.Size([1, 256, 16, 16]), emb.shape: torch.Size([1, 256, 16, 16])\n",
      "Down: x.shape: torch.Size([1, 256, 8, 8]), emb.shape: torch.Size([1, 256, 8, 8])\n",
      "Down: x.shape: torch.Size([1, 128, 16, 16]), emb.shape: torch.Size([1, 128, 16, 16])\n",
      "Down: x.shape: torch.Size([1, 64, 32, 32]), emb.shape: torch.Size([1, 64, 32, 32])\n",
      "Down: x.shape: torch.Size([1, 64, 64, 64]), emb.shape: torch.Size([1, 64, 64, 64])\n",
      "Down: x.shape: torch.Size([1, 128, 32, 32]), emb.shape: torch.Size([1, 128, 32, 32])\n",
      "Down: x.shape: torch.Size([1, 256, 16, 16]), emb.shape: torch.Size([1, 256, 16, 16])\n",
      "Down: x.shape: torch.Size([1, 256, 8, 8]), emb.shape: torch.Size([1, 256, 8, 8])\n",
      "Down: x.shape: torch.Size([1, 128, 16, 16]), emb.shape: torch.Size([1, 128, 16, 16])\n",
      "Down: x.shape: torch.Size([1, 64, 32, 32]), emb.shape: torch.Size([1, 64, 32, 32])\n",
      "Down: x.shape: torch.Size([1, 64, 64, 64]), emb.shape: torch.Size([1, 64, 64, 64])\n",
      "Down: x.shape: torch.Size([1, 128, 32, 32]), emb.shape: torch.Size([1, 128, 32, 32])\n",
      "Down: x.shape: torch.Size([1, 256, 16, 16]), emb.shape: torch.Size([1, 256, 16, 16])\n",
      "Down: x.shape: torch.Size([1, 256, 8, 8]), emb.shape: torch.Size([1, 256, 8, 8])\n",
      "Down: x.shape: torch.Size([1, 128, 16, 16]), emb.shape: torch.Size([1, 128, 16, 16])\n",
      "Down: x.shape: torch.Size([1, 64, 32, 32]), emb.shape: torch.Size([1, 64, 32, 32])\n",
      "Down: x.shape: torch.Size([1, 64, 64, 64]), emb.shape: torch.Size([1, 64, 64, 64])\n"
     ]
    },
    {
     "name": "stderr",
     "output_type": "stream",
     "text": [
      "526it [00:24, 22.18it/s]"
     ]
    },
    {
     "name": "stdout",
     "output_type": "stream",
     "text": [
      "Down: x.shape: torch.Size([1, 128, 32, 32]), emb.shape: torch.Size([1, 128, 32, 32])\n",
      "Down: x.shape: torch.Size([1, 256, 16, 16]), emb.shape: torch.Size([1, 256, 16, 16])\n",
      "Down: x.shape: torch.Size([1, 256, 8, 8]), emb.shape: torch.Size([1, 256, 8, 8])\n",
      "Down: x.shape: torch.Size([1, 128, 16, 16]), emb.shape: torch.Size([1, 128, 16, 16])\n",
      "Down: x.shape: torch.Size([1, 64, 32, 32]), emb.shape: torch.Size([1, 64, 32, 32])\n",
      "Down: x.shape: torch.Size([1, 64, 64, 64]), emb.shape: torch.Size([1, 64, 64, 64])\n",
      "Down: x.shape: torch.Size([1, 128, 32, 32]), emb.shape: torch.Size([1, 128, 32, 32])\n",
      "Down: x.shape: torch.Size([1, 256, 16, 16]), emb.shape: torch.Size([1, 256, 16, 16])\n",
      "Down: x.shape: torch.Size([1, 256, 8, 8]), emb.shape: torch.Size([1, 256, 8, 8])\n",
      "Down: x.shape: torch.Size([1, 128, 16, 16]), emb.shape: torch.Size([1, 128, 16, 16])\n",
      "Down: x.shape: torch.Size([1, 64, 32, 32]), emb.shape: torch.Size([1, 64, 32, 32])\n",
      "Down: x.shape: torch.Size([1, 64, 64, 64]), emb.shape: torch.Size([1, 64, 64, 64])\n",
      "Down: x.shape: torch.Size([1, 128, 32, 32]), emb.shape: torch.Size([1, 128, 32, 32])\n",
      "Down: x.shape: torch.Size([1, 256, 16, 16]), emb.shape: torch.Size([1, 256, 16, 16])\n",
      "Down: x.shape: torch.Size([1, 256, 8, 8]), emb.shape: torch.Size([1, 256, 8, 8])\n",
      "Down: x.shape: torch.Size([1, 128, 16, 16]), emb.shape: torch.Size([1, 128, 16, 16])\n",
      "Down: x.shape: torch.Size([1, 64, 32, 32]), emb.shape: torch.Size([1, 64, 32, 32])\n",
      "Down: x.shape: torch.Size([1, 64, 64, 64]), emb.shape: torch.Size([1, 64, 64, 64])\n",
      "Down: x.shape: torch.Size([1, 128, 32, 32]), emb.shape: torch.Size([1, 128, 32, 32])\n",
      "Down: x.shape: torch.Size([1, 256, 16, 16]), emb.shape: torch.Size([1, 256, 16, 16])\n",
      "Down: x.shape: torch.Size([1, 256, 8, 8]), emb.shape: torch.Size([1, 256, 8, 8])\n",
      "Down: x.shape: torch.Size([1, 128, 16, 16]), emb.shape: torch.Size([1, 128, 16, 16])\n",
      "Down: x.shape: torch.Size([1, 64, 32, 32]), emb.shape: torch.Size([1, 64, 32, 32])\n",
      "Down: x.shape: torch.Size([1, 64, 64, 64]), emb.shape: torch.Size([1, 64, 64, 64])\n",
      "Down: x.shape: torch.Size([1, 128, 32, 32]), emb.shape: torch.Size([1, 128, 32, 32])\n",
      "Down: x.shape: torch.Size([1, 256, 16, 16]), emb.shape: torch.Size([1, 256, 16, 16])\n",
      "Down: x.shape: torch.Size([1, 256, 8, 8]), emb.shape: torch.Size([1, 256, 8, 8])\n",
      "Down: x.shape: torch.Size([1, 128, 16, 16]), emb.shape: torch.Size([1, 128, 16, 16])\n",
      "Down: x.shape: torch.Size([1, 64, 32, 32]), emb.shape: torch.Size([1, 64, 32, 32])\n"
     ]
    },
    {
     "name": "stderr",
     "output_type": "stream",
     "text": [
      "532it [00:24, 22.15it/s]"
     ]
    },
    {
     "name": "stdout",
     "output_type": "stream",
     "text": [
      "Down: x.shape: torch.Size([1, 64, 64, 64]), emb.shape: torch.Size([1, 64, 64, 64])\n",
      "Down: x.shape: torch.Size([1, 128, 32, 32]), emb.shape: torch.Size([1, 128, 32, 32])\n",
      "Down: x.shape: torch.Size([1, 256, 16, 16]), emb.shape: torch.Size([1, 256, 16, 16])\n",
      "Down: x.shape: torch.Size([1, 256, 8, 8]), emb.shape: torch.Size([1, 256, 8, 8])\n",
      "Down: x.shape: torch.Size([1, 128, 16, 16]), emb.shape: torch.Size([1, 128, 16, 16])\n",
      "Down: x.shape: torch.Size([1, 64, 32, 32]), emb.shape: torch.Size([1, 64, 32, 32])\n",
      "Down: x.shape: torch.Size([1, 64, 64, 64]), emb.shape: torch.Size([1, 64, 64, 64])\n",
      "Down: x.shape: torch.Size([1, 128, 32, 32]), emb.shape: torch.Size([1, 128, 32, 32])\n",
      "Down: x.shape: torch.Size([1, 256, 16, 16]), emb.shape: torch.Size([1, 256, 16, 16])\n",
      "Down: x.shape: torch.Size([1, 256, 8, 8]), emb.shape: torch.Size([1, 256, 8, 8])\n",
      "Down: x.shape: torch.Size([1, 128, 16, 16]), emb.shape: torch.Size([1, 128, 16, 16])\n",
      "Down: x.shape: torch.Size([1, 64, 32, 32]), emb.shape: torch.Size([1, 64, 32, 32])\n",
      "Down: x.shape: torch.Size([1, 64, 64, 64]), emb.shape: torch.Size([1, 64, 64, 64])\n",
      "Down: x.shape: torch.Size([1, 128, 32, 32]), emb.shape: torch.Size([1, 128, 32, 32])\n",
      "Down: x.shape: torch.Size([1, 256, 16, 16]), emb.shape: torch.Size([1, 256, 16, 16])\n",
      "Down: x.shape: torch.Size([1, 256, 8, 8]), emb.shape: torch.Size([1, 256, 8, 8])\n",
      "Down: x.shape: torch.Size([1, 128, 16, 16]), emb.shape: torch.Size([1, 128, 16, 16])\n",
      "Down: x.shape: torch.Size([1, 64, 32, 32]), emb.shape: torch.Size([1, 64, 32, 32])\n",
      "Down: x.shape: torch.Size([1, 64, 64, 64]), emb.shape: torch.Size([1, 64, 64, 64])\n",
      "Down: x.shape: torch.Size([1, 128, 32, 32]), emb.shape: torch.Size([1, 128, 32, 32])\n",
      "Down: x.shape: torch.Size([1, 256, 16, 16]), emb.shape: torch.Size([1, 256, 16, 16])\n",
      "Down: x.shape: torch.Size([1, 256, 8, 8]), emb.shape: torch.Size([1, 256, 8, 8])\n",
      "Down: x.shape: torch.Size([1, 128, 16, 16]), emb.shape: torch.Size([1, 128, 16, 16])\n",
      "Down: x.shape: torch.Size([1, 64, 32, 32]), emb.shape: torch.Size([1, 64, 32, 32])\n",
      "Down: x.shape: torch.Size([1, 64, 64, 64]), emb.shape: torch.Size([1, 64, 64, 64])\n",
      "Down: x.shape: torch.Size([1, 128, 32, 32]), emb.shape: torch.Size([1, 128, 32, 32])\n",
      "Down: x.shape: torch.Size([1, 256, 16, 16]), emb.shape: torch.Size([1, 256, 16, 16])\n"
     ]
    },
    {
     "name": "stderr",
     "output_type": "stream",
     "text": [
      "538it [00:24, 22.10it/s]"
     ]
    },
    {
     "name": "stdout",
     "output_type": "stream",
     "text": [
      "Down: x.shape: torch.Size([1, 256, 8, 8]), emb.shape: torch.Size([1, 256, 8, 8])\n",
      "Down: x.shape: torch.Size([1, 128, 16, 16]), emb.shape: torch.Size([1, 128, 16, 16])\n",
      "Down: x.shape: torch.Size([1, 64, 32, 32]), emb.shape: torch.Size([1, 64, 32, 32])\n",
      "Down: x.shape: torch.Size([1, 64, 64, 64]), emb.shape: torch.Size([1, 64, 64, 64])\n",
      "Down: x.shape: torch.Size([1, 128, 32, 32]), emb.shape: torch.Size([1, 128, 32, 32])\n",
      "Down: x.shape: torch.Size([1, 256, 16, 16]), emb.shape: torch.Size([1, 256, 16, 16])\n",
      "Down: x.shape: torch.Size([1, 256, 8, 8]), emb.shape: torch.Size([1, 256, 8, 8])\n",
      "Down: x.shape: torch.Size([1, 128, 16, 16]), emb.shape: torch.Size([1, 128, 16, 16])\n",
      "Down: x.shape: torch.Size([1, 64, 32, 32]), emb.shape: torch.Size([1, 64, 32, 32])\n",
      "Down: x.shape: torch.Size([1, 64, 64, 64]), emb.shape: torch.Size([1, 64, 64, 64])\n",
      "Down: x.shape: torch.Size([1, 128, 32, 32]), emb.shape: torch.Size([1, 128, 32, 32])\n",
      "Down: x.shape: torch.Size([1, 256, 16, 16]), emb.shape: torch.Size([1, 256, 16, 16])\n",
      "Down: x.shape: torch.Size([1, 256, 8, 8]), emb.shape: torch.Size([1, 256, 8, 8])\n",
      "Down: x.shape: torch.Size([1, 128, 16, 16]), emb.shape: torch.Size([1, 128, 16, 16])\n",
      "Down: x.shape: torch.Size([1, 64, 32, 32]), emb.shape: torch.Size([1, 64, 32, 32])\n",
      "Down: x.shape: torch.Size([1, 64, 64, 64]), emb.shape: torch.Size([1, 64, 64, 64])\n",
      "Down: x.shape: torch.Size([1, 128, 32, 32]), emb.shape: torch.Size([1, 128, 32, 32])\n",
      "Down: x.shape: torch.Size([1, 256, 16, 16]), emb.shape: torch.Size([1, 256, 16, 16])\n",
      "Down: x.shape: torch.Size([1, 256, 8, 8]), emb.shape: torch.Size([1, 256, 8, 8])\n",
      "Down: x.shape: torch.Size([1, 128, 16, 16]), emb.shape: torch.Size([1, 128, 16, 16])\n",
      "Down: x.shape: torch.Size([1, 64, 32, 32]), emb.shape: torch.Size([1, 64, 32, 32])\n",
      "Down: x.shape: torch.Size([1, 64, 64, 64]), emb.shape: torch.Size([1, 64, 64, 64])\n",
      "Down: x.shape: torch.Size([1, 128, 32, 32]), emb.shape: torch.Size([1, 128, 32, 32])\n",
      "Down: x.shape: torch.Size([1, 256, 16, 16]), emb.shape: torch.Size([1, 256, 16, 16])\n",
      "Down: x.shape: torch.Size([1, 256, 8, 8]), emb.shape: torch.Size([1, 256, 8, 8])\n",
      "Down: x.shape: torch.Size([1, 128, 16, 16]), emb.shape: torch.Size([1, 128, 16, 16])\n",
      "Down: x.shape: torch.Size([1, 64, 32, 32]), emb.shape: torch.Size([1, 64, 32, 32])\n",
      "Down: x.shape: torch.Size([1, 64, 64, 64]), emb.shape: torch.Size([1, 64, 64, 64])\n"
     ]
    },
    {
     "name": "stderr",
     "output_type": "stream",
     "text": [
      "541it [00:25, 21.97it/s]"
     ]
    },
    {
     "name": "stdout",
     "output_type": "stream",
     "text": [
      "Down: x.shape: torch.Size([1, 128, 32, 32]), emb.shape: torch.Size([1, 128, 32, 32])\n",
      "Down: x.shape: torch.Size([1, 256, 16, 16]), emb.shape: torch.Size([1, 256, 16, 16])\n",
      "Down: x.shape: torch.Size([1, 256, 8, 8]), emb.shape: torch.Size([1, 256, 8, 8])\n",
      "Down: x.shape: torch.Size([1, 128, 16, 16]), emb.shape: torch.Size([1, 128, 16, 16])\n",
      "Down: x.shape: torch.Size([1, 64, 32, 32]), emb.shape: torch.Size([1, 64, 32, 32])\n",
      "Down: x.shape: torch.Size([1, 64, 64, 64]), emb.shape: torch.Size([1, 64, 64, 64])\n",
      "Down: x.shape: torch.Size([1, 128, 32, 32]), emb.shape: torch.Size([1, 128, 32, 32])\n",
      "Down: x.shape: torch.Size([1, 256, 16, 16]), emb.shape: torch.Size([1, 256, 16, 16])\n",
      "Down: x.shape: torch.Size([1, 256, 8, 8]), emb.shape: torch.Size([1, 256, 8, 8])\n",
      "Down: x.shape: torch.Size([1, 128, 16, 16]), emb.shape: torch.Size([1, 128, 16, 16])\n",
      "Down: x.shape: torch.Size([1, 64, 32, 32]), emb.shape: torch.Size([1, 64, 32, 32])\n",
      "Down: x.shape: torch.Size([1, 64, 64, 64]), emb.shape: torch.Size([1, 64, 64, 64])\n",
      "Down: x.shape: torch.Size([1, 128, 32, 32]), emb.shape: torch.Size([1, 128, 32, 32])\n",
      "Down: x.shape: torch.Size([1, 256, 16, 16]), emb.shape: torch.Size([1, 256, 16, 16])\n",
      "Down: x.shape: torch.Size([1, 256, 8, 8]), emb.shape: torch.Size([1, 256, 8, 8])\n",
      "Down: x.shape: torch.Size([1, 128, 16, 16]), emb.shape: torch.Size([1, 128, 16, 16])\n",
      "Down: x.shape: torch.Size([1, 64, 32, 32]), emb.shape: torch.Size([1, 64, 32, 32])\n",
      "Down: x.shape: torch.Size([1, 64, 64, 64]), emb.shape: torch.Size([1, 64, 64, 64])\n",
      "Down: x.shape: torch.Size([1, 128, 32, 32]), emb.shape: torch.Size([1, 128, 32, 32])\n",
      "Down: x.shape: torch.Size([1, 256, 16, 16]), emb.shape: torch.Size([1, 256, 16, 16])\n",
      "Down: x.shape: torch.Size([1, 256, 8, 8]), emb.shape: torch.Size([1, 256, 8, 8])\n",
      "Down: x.shape: torch.Size([1, 128, 16, 16]), emb.shape: torch.Size([1, 128, 16, 16])\n",
      "Down: x.shape: torch.Size([1, 64, 32, 32]), emb.shape: torch.Size([1, 64, 32, 32])\n",
      "Down: x.shape: torch.Size([1, 64, 64, 64]), emb.shape: torch.Size([1, 64, 64, 64])\n",
      "Down: x.shape: torch.Size([1, 128, 32, 32]), emb.shape: torch.Size([1, 128, 32, 32])\n",
      "Down: x.shape: torch.Size([1, 256, 16, 16]), emb.shape: torch.Size([1, 256, 16, 16])\n",
      "Down: x.shape: torch.Size([1, 256, 8, 8]), emb.shape: torch.Size([1, 256, 8, 8])\n",
      "Down: x.shape: torch.Size([1, 128, 16, 16]), emb.shape: torch.Size([1, 128, 16, 16])\n",
      "Down: x.shape: torch.Size([1, 64, 32, 32]), emb.shape: torch.Size([1, 64, 32, 32])\n",
      "Down: x.shape: torch.Size([1, 64, 64, 64]), emb.shape: torch.Size([1, 64, 64, 64])\n"
     ]
    },
    {
     "name": "stderr",
     "output_type": "stream",
     "text": [
      "547it [00:25, 22.25it/s]"
     ]
    },
    {
     "name": "stdout",
     "output_type": "stream",
     "text": [
      "Down: x.shape: torch.Size([1, 128, 32, 32]), emb.shape: torch.Size([1, 128, 32, 32])\n",
      "Down: x.shape: torch.Size([1, 256, 16, 16]), emb.shape: torch.Size([1, 256, 16, 16])\n",
      "Down: x.shape: torch.Size([1, 256, 8, 8]), emb.shape: torch.Size([1, 256, 8, 8])\n",
      "Down: x.shape: torch.Size([1, 128, 16, 16]), emb.shape: torch.Size([1, 128, 16, 16])\n",
      "Down: x.shape: torch.Size([1, 64, 32, 32]), emb.shape: torch.Size([1, 64, 32, 32])\n",
      "Down: x.shape: torch.Size([1, 64, 64, 64]), emb.shape: torch.Size([1, 64, 64, 64])\n",
      "Down: x.shape: torch.Size([1, 128, 32, 32]), emb.shape: torch.Size([1, 128, 32, 32])\n",
      "Down: x.shape: torch.Size([1, 256, 16, 16]), emb.shape: torch.Size([1, 256, 16, 16])\n",
      "Down: x.shape: torch.Size([1, 256, 8, 8]), emb.shape: torch.Size([1, 256, 8, 8])\n",
      "Down: x.shape: torch.Size([1, 128, 16, 16]), emb.shape: torch.Size([1, 128, 16, 16])\n",
      "Down: x.shape: torch.Size([1, 64, 32, 32]), emb.shape: torch.Size([1, 64, 32, 32])\n",
      "Down: x.shape: torch.Size([1, 64, 64, 64]), emb.shape: torch.Size([1, 64, 64, 64])\n",
      "Down: x.shape: torch.Size([1, 128, 32, 32]), emb.shape: torch.Size([1, 128, 32, 32])\n",
      "Down: x.shape: torch.Size([1, 256, 16, 16]), emb.shape: torch.Size([1, 256, 16, 16])\n",
      "Down: x.shape: torch.Size([1, 256, 8, 8]), emb.shape: torch.Size([1, 256, 8, 8])\n",
      "Down: x.shape: torch.Size([1, 128, 16, 16]), emb.shape: torch.Size([1, 128, 16, 16])\n",
      "Down: x.shape: torch.Size([1, 64, 32, 32]), emb.shape: torch.Size([1, 64, 32, 32])\n",
      "Down: x.shape: torch.Size([1, 64, 64, 64]), emb.shape: torch.Size([1, 64, 64, 64])\n",
      "Down: x.shape: torch.Size([1, 128, 32, 32]), emb.shape: torch.Size([1, 128, 32, 32])\n",
      "Down: x.shape: torch.Size([1, 256, 16, 16]), emb.shape: torch.Size([1, 256, 16, 16])\n",
      "Down: x.shape: torch.Size([1, 256, 8, 8]), emb.shape: torch.Size([1, 256, 8, 8])\n",
      "Down: x.shape: torch.Size([1, 128, 16, 16]), emb.shape: torch.Size([1, 128, 16, 16])\n",
      "Down: x.shape: torch.Size([1, 64, 32, 32]), emb.shape: torch.Size([1, 64, 32, 32])\n",
      "Down: x.shape: torch.Size([1, 64, 64, 64]), emb.shape: torch.Size([1, 64, 64, 64])\n",
      "Down: x.shape: torch.Size([1, 128, 32, 32]), emb.shape: torch.Size([1, 128, 32, 32])\n",
      "Down: x.shape: torch.Size([1, 256, 16, 16]), emb.shape: torch.Size([1, 256, 16, 16])\n",
      "Down: x.shape: torch.Size([1, 256, 8, 8]), emb.shape: torch.Size([1, 256, 8, 8])\n",
      "Down: x.shape: torch.Size([1, 128, 16, 16]), emb.shape: torch.Size([1, 128, 16, 16])\n",
      "Down: x.shape: torch.Size([1, 64, 32, 32]), emb.shape: torch.Size([1, 64, 32, 32])\n",
      "Down: x.shape: torch.Size([1, 64, 64, 64]), emb.shape: torch.Size([1, 64, 64, 64])\n"
     ]
    },
    {
     "name": "stderr",
     "output_type": "stream",
     "text": [
      "550it [00:25, 22.18it/s]"
     ]
    },
    {
     "name": "stdout",
     "output_type": "stream",
     "text": [
      "Down: x.shape: torch.Size([1, 128, 32, 32]), emb.shape: torch.Size([1, 128, 32, 32])\n",
      "Down: x.shape: torch.Size([1, 256, 16, 16]), emb.shape: torch.Size([1, 256, 16, 16])\n",
      "Down: x.shape: torch.Size([1, 256, 8, 8]), emb.shape: torch.Size([1, 256, 8, 8])\n",
      "Down: x.shape: torch.Size([1, 128, 16, 16]), emb.shape: torch.Size([1, 128, 16, 16])\n",
      "Down: x.shape: torch.Size([1, 64, 32, 32]), emb.shape: torch.Size([1, 64, 32, 32])\n",
      "Down: x.shape: torch.Size([1, 64, 64, 64]), emb.shape: torch.Size([1, 64, 64, 64])\n",
      "Down: x.shape: torch.Size([1, 128, 32, 32]), emb.shape: torch.Size([1, 128, 32, 32])\n",
      "Down: x.shape: torch.Size([1, 256, 16, 16]), emb.shape: torch.Size([1, 256, 16, 16])\n",
      "Down: x.shape: torch.Size([1, 256, 8, 8]), emb.shape: torch.Size([1, 256, 8, 8])\n",
      "Down: x.shape: torch.Size([1, 128, 16, 16]), emb.shape: torch.Size([1, 128, 16, 16])\n",
      "Down: x.shape: torch.Size([1, 64, 32, 32]), emb.shape: torch.Size([1, 64, 32, 32])\n",
      "Down: x.shape: torch.Size([1, 64, 64, 64]), emb.shape: torch.Size([1, 64, 64, 64])\n",
      "Down: x.shape: torch.Size([1, 128, 32, 32]), emb.shape: torch.Size([1, 128, 32, 32])\n",
      "Down: x.shape: torch.Size([1, 256, 16, 16]), emb.shape: torch.Size([1, 256, 16, 16])\n",
      "Down: x.shape: torch.Size([1, 256, 8, 8]), emb.shape: torch.Size([1, 256, 8, 8])\n",
      "Down: x.shape: torch.Size([1, 128, 16, 16]), emb.shape: torch.Size([1, 128, 16, 16])\n",
      "Down: x.shape: torch.Size([1, 64, 32, 32]), emb.shape: torch.Size([1, 64, 32, 32])\n",
      "Down: x.shape: torch.Size([1, 64, 64, 64]), emb.shape: torch.Size([1, 64, 64, 64])\n",
      "Down: x.shape: torch.Size([1, 128, 32, 32]), emb.shape: torch.Size([1, 128, 32, 32])\n",
      "Down: x.shape: torch.Size([1, 256, 16, 16]), emb.shape: torch.Size([1, 256, 16, 16])\n",
      "Down: x.shape: torch.Size([1, 256, 8, 8]), emb.shape: torch.Size([1, 256, 8, 8])\n",
      "Down: x.shape: torch.Size([1, 128, 16, 16]), emb.shape: torch.Size([1, 128, 16, 16])\n",
      "Down: x.shape: torch.Size([1, 64, 32, 32]), emb.shape: torch.Size([1, 64, 32, 32])\n",
      "Down: x.shape: torch.Size([1, 64, 64, 64]), emb.shape: torch.Size([1, 64, 64, 64])\n",
      "Down: x.shape: torch.Size([1, 128, 32, 32]), emb.shape: torch.Size([1, 128, 32, 32])\n",
      "Down: x.shape: torch.Size([1, 256, 16, 16]), emb.shape: torch.Size([1, 256, 16, 16])\n",
      "Down: x.shape: torch.Size([1, 256, 8, 8]), emb.shape: torch.Size([1, 256, 8, 8])\n",
      "Down: x.shape: torch.Size([1, 128, 16, 16]), emb.shape: torch.Size([1, 128, 16, 16])\n",
      "Down: x.shape: torch.Size([1, 64, 32, 32]), emb.shape: torch.Size([1, 64, 32, 32])\n",
      "Down: x.shape: torch.Size([1, 64, 64, 64]), emb.shape: torch.Size([1, 64, 64, 64])\n"
     ]
    },
    {
     "name": "stderr",
     "output_type": "stream",
     "text": [
      "556it [00:25, 22.27it/s]"
     ]
    },
    {
     "name": "stdout",
     "output_type": "stream",
     "text": [
      "Down: x.shape: torch.Size([1, 128, 32, 32]), emb.shape: torch.Size([1, 128, 32, 32])\n",
      "Down: x.shape: torch.Size([1, 256, 16, 16]), emb.shape: torch.Size([1, 256, 16, 16])\n",
      "Down: x.shape: torch.Size([1, 256, 8, 8]), emb.shape: torch.Size([1, 256, 8, 8])\n",
      "Down: x.shape: torch.Size([1, 128, 16, 16]), emb.shape: torch.Size([1, 128, 16, 16])\n",
      "Down: x.shape: torch.Size([1, 64, 32, 32]), emb.shape: torch.Size([1, 64, 32, 32])\n",
      "Down: x.shape: torch.Size([1, 64, 64, 64]), emb.shape: torch.Size([1, 64, 64, 64])\n",
      "Down: x.shape: torch.Size([1, 128, 32, 32]), emb.shape: torch.Size([1, 128, 32, 32])\n",
      "Down: x.shape: torch.Size([1, 256, 16, 16]), emb.shape: torch.Size([1, 256, 16, 16])\n",
      "Down: x.shape: torch.Size([1, 256, 8, 8]), emb.shape: torch.Size([1, 256, 8, 8])\n",
      "Down: x.shape: torch.Size([1, 128, 16, 16]), emb.shape: torch.Size([1, 128, 16, 16])\n",
      "Down: x.shape: torch.Size([1, 64, 32, 32]), emb.shape: torch.Size([1, 64, 32, 32])\n",
      "Down: x.shape: torch.Size([1, 64, 64, 64]), emb.shape: torch.Size([1, 64, 64, 64])\n",
      "Down: x.shape: torch.Size([1, 128, 32, 32]), emb.shape: torch.Size([1, 128, 32, 32])\n",
      "Down: x.shape: torch.Size([1, 256, 16, 16]), emb.shape: torch.Size([1, 256, 16, 16])\n",
      "Down: x.shape: torch.Size([1, 256, 8, 8]), emb.shape: torch.Size([1, 256, 8, 8])\n",
      "Down: x.shape: torch.Size([1, 128, 16, 16]), emb.shape: torch.Size([1, 128, 16, 16])\n",
      "Down: x.shape: torch.Size([1, 64, 32, 32]), emb.shape: torch.Size([1, 64, 32, 32])\n",
      "Down: x.shape: torch.Size([1, 64, 64, 64]), emb.shape: torch.Size([1, 64, 64, 64])\n",
      "Down: x.shape: torch.Size([1, 128, 32, 32]), emb.shape: torch.Size([1, 128, 32, 32])\n",
      "Down: x.shape: torch.Size([1, 256, 16, 16]), emb.shape: torch.Size([1, 256, 16, 16])\n",
      "Down: x.shape: torch.Size([1, 256, 8, 8]), emb.shape: torch.Size([1, 256, 8, 8])\n",
      "Down: x.shape: torch.Size([1, 128, 16, 16]), emb.shape: torch.Size([1, 128, 16, 16])\n",
      "Down: x.shape: torch.Size([1, 64, 32, 32]), emb.shape: torch.Size([1, 64, 32, 32])\n",
      "Down: x.shape: torch.Size([1, 64, 64, 64]), emb.shape: torch.Size([1, 64, 64, 64])\n",
      "Down: x.shape: torch.Size([1, 128, 32, 32]), emb.shape: torch.Size([1, 128, 32, 32])\n",
      "Down: x.shape: torch.Size([1, 256, 16, 16]), emb.shape: torch.Size([1, 256, 16, 16])\n",
      "Down: x.shape: torch.Size([1, 256, 8, 8]), emb.shape: torch.Size([1, 256, 8, 8])\n",
      "Down: x.shape: torch.Size([1, 128, 16, 16]), emb.shape: torch.Size([1, 128, 16, 16])\n",
      "Down: x.shape: torch.Size([1, 64, 32, 32]), emb.shape: torch.Size([1, 64, 32, 32])\n",
      "Down: x.shape: torch.Size([1, 64, 64, 64]), emb.shape: torch.Size([1, 64, 64, 64])\n"
     ]
    },
    {
     "name": "stderr",
     "output_type": "stream",
     "text": [
      "562it [00:26, 22.23it/s]"
     ]
    },
    {
     "name": "stdout",
     "output_type": "stream",
     "text": [
      "Down: x.shape: torch.Size([1, 128, 32, 32]), emb.shape: torch.Size([1, 128, 32, 32])\n",
      "Down: x.shape: torch.Size([1, 256, 16, 16]), emb.shape: torch.Size([1, 256, 16, 16])\n",
      "Down: x.shape: torch.Size([1, 256, 8, 8]), emb.shape: torch.Size([1, 256, 8, 8])\n",
      "Down: x.shape: torch.Size([1, 128, 16, 16]), emb.shape: torch.Size([1, 128, 16, 16])\n",
      "Down: x.shape: torch.Size([1, 64, 32, 32]), emb.shape: torch.Size([1, 64, 32, 32])\n",
      "Down: x.shape: torch.Size([1, 64, 64, 64]), emb.shape: torch.Size([1, 64, 64, 64])\n",
      "Down: x.shape: torch.Size([1, 128, 32, 32]), emb.shape: torch.Size([1, 128, 32, 32])\n",
      "Down: x.shape: torch.Size([1, 256, 16, 16]), emb.shape: torch.Size([1, 256, 16, 16])\n",
      "Down: x.shape: torch.Size([1, 256, 8, 8]), emb.shape: torch.Size([1, 256, 8, 8])\n",
      "Down: x.shape: torch.Size([1, 128, 16, 16]), emb.shape: torch.Size([1, 128, 16, 16])\n",
      "Down: x.shape: torch.Size([1, 64, 32, 32]), emb.shape: torch.Size([1, 64, 32, 32])\n",
      "Down: x.shape: torch.Size([1, 64, 64, 64]), emb.shape: torch.Size([1, 64, 64, 64])\n",
      "Down: x.shape: torch.Size([1, 128, 32, 32]), emb.shape: torch.Size([1, 128, 32, 32])\n",
      "Down: x.shape: torch.Size([1, 256, 16, 16]), emb.shape: torch.Size([1, 256, 16, 16])\n",
      "Down: x.shape: torch.Size([1, 256, 8, 8]), emb.shape: torch.Size([1, 256, 8, 8])\n",
      "Down: x.shape: torch.Size([1, 128, 16, 16]), emb.shape: torch.Size([1, 128, 16, 16])\n",
      "Down: x.shape: torch.Size([1, 64, 32, 32]), emb.shape: torch.Size([1, 64, 32, 32])\n",
      "Down: x.shape: torch.Size([1, 64, 64, 64]), emb.shape: torch.Size([1, 64, 64, 64])\n",
      "Down: x.shape: torch.Size([1, 128, 32, 32]), emb.shape: torch.Size([1, 128, 32, 32])\n",
      "Down: x.shape: torch.Size([1, 256, 16, 16]), emb.shape: torch.Size([1, 256, 16, 16])\n",
      "Down: x.shape: torch.Size([1, 256, 8, 8]), emb.shape: torch.Size([1, 256, 8, 8])\n",
      "Down: x.shape: torch.Size([1, 128, 16, 16]), emb.shape: torch.Size([1, 128, 16, 16])\n",
      "Down: x.shape: torch.Size([1, 64, 32, 32]), emb.shape: torch.Size([1, 64, 32, 32])\n",
      "Down: x.shape: torch.Size([1, 64, 64, 64]), emb.shape: torch.Size([1, 64, 64, 64])\n",
      "Down: x.shape: torch.Size([1, 128, 32, 32]), emb.shape: torch.Size([1, 128, 32, 32])\n",
      "Down: x.shape: torch.Size([1, 256, 16, 16]), emb.shape: torch.Size([1, 256, 16, 16])\n",
      "Down: x.shape: torch.Size([1, 256, 8, 8]), emb.shape: torch.Size([1, 256, 8, 8])\n",
      "Down: x.shape: torch.Size([1, 128, 16, 16]), emb.shape: torch.Size([1, 128, 16, 16])\n",
      "Down: x.shape: torch.Size([1, 64, 32, 32]), emb.shape: torch.Size([1, 64, 32, 32])\n",
      "Down: x.shape: torch.Size([1, 64, 64, 64]), emb.shape: torch.Size([1, 64, 64, 64])\n"
     ]
    },
    {
     "name": "stderr",
     "output_type": "stream",
     "text": [
      "568it [00:26, 22.26it/s]"
     ]
    },
    {
     "name": "stdout",
     "output_type": "stream",
     "text": [
      "Down: x.shape: torch.Size([1, 128, 32, 32]), emb.shape: torch.Size([1, 128, 32, 32])\n",
      "Down: x.shape: torch.Size([1, 256, 16, 16]), emb.shape: torch.Size([1, 256, 16, 16])\n",
      "Down: x.shape: torch.Size([1, 256, 8, 8]), emb.shape: torch.Size([1, 256, 8, 8])\n",
      "Down: x.shape: torch.Size([1, 128, 16, 16]), emb.shape: torch.Size([1, 128, 16, 16])\n",
      "Down: x.shape: torch.Size([1, 64, 32, 32]), emb.shape: torch.Size([1, 64, 32, 32])\n",
      "Down: x.shape: torch.Size([1, 64, 64, 64]), emb.shape: torch.Size([1, 64, 64, 64])\n",
      "Down: x.shape: torch.Size([1, 128, 32, 32]), emb.shape: torch.Size([1, 128, 32, 32])\n",
      "Down: x.shape: torch.Size([1, 256, 16, 16]), emb.shape: torch.Size([1, 256, 16, 16])\n",
      "Down: x.shape: torch.Size([1, 256, 8, 8]), emb.shape: torch.Size([1, 256, 8, 8])\n",
      "Down: x.shape: torch.Size([1, 128, 16, 16]), emb.shape: torch.Size([1, 128, 16, 16])\n",
      "Down: x.shape: torch.Size([1, 64, 32, 32]), emb.shape: torch.Size([1, 64, 32, 32])\n",
      "Down: x.shape: torch.Size([1, 64, 64, 64]), emb.shape: torch.Size([1, 64, 64, 64])\n",
      "Down: x.shape: torch.Size([1, 128, 32, 32]), emb.shape: torch.Size([1, 128, 32, 32])\n",
      "Down: x.shape: torch.Size([1, 256, 16, 16]), emb.shape: torch.Size([1, 256, 16, 16])\n",
      "Down: x.shape: torch.Size([1, 256, 8, 8]), emb.shape: torch.Size([1, 256, 8, 8])\n",
      "Down: x.shape: torch.Size([1, 128, 16, 16]), emb.shape: torch.Size([1, 128, 16, 16])\n",
      "Down: x.shape: torch.Size([1, 64, 32, 32]), emb.shape: torch.Size([1, 64, 32, 32])\n",
      "Down: x.shape: torch.Size([1, 64, 64, 64]), emb.shape: torch.Size([1, 64, 64, 64])\n",
      "Down: x.shape: torch.Size([1, 128, 32, 32]), emb.shape: torch.Size([1, 128, 32, 32])\n",
      "Down: x.shape: torch.Size([1, 256, 16, 16]), emb.shape: torch.Size([1, 256, 16, 16])\n",
      "Down: x.shape: torch.Size([1, 256, 8, 8]), emb.shape: torch.Size([1, 256, 8, 8])\n",
      "Down: x.shape: torch.Size([1, 128, 16, 16]), emb.shape: torch.Size([1, 128, 16, 16])\n",
      "Down: x.shape: torch.Size([1, 64, 32, 32]), emb.shape: torch.Size([1, 64, 32, 32])\n",
      "Down: x.shape: torch.Size([1, 64, 64, 64]), emb.shape: torch.Size([1, 64, 64, 64])\n",
      "Down: x.shape: torch.Size([1, 128, 32, 32]), emb.shape: torch.Size([1, 128, 32, 32])\n",
      "Down: x.shape: torch.Size([1, 256, 16, 16]), emb.shape: torch.Size([1, 256, 16, 16])\n",
      "Down: x.shape: torch.Size([1, 256, 8, 8]), emb.shape: torch.Size([1, 256, 8, 8])\n",
      "Down: x.shape: torch.Size([1, 128, 16, 16]), emb.shape: torch.Size([1, 128, 16, 16])\n",
      "Down: x.shape: torch.Size([1, 64, 32, 32]), emb.shape: torch.Size([1, 64, 32, 32])\n",
      "Down: x.shape: torch.Size([1, 64, 64, 64]), emb.shape: torch.Size([1, 64, 64, 64])\n"
     ]
    },
    {
     "name": "stderr",
     "output_type": "stream",
     "text": [
      "571it [00:26, 22.24it/s]"
     ]
    },
    {
     "name": "stdout",
     "output_type": "stream",
     "text": [
      "Down: x.shape: torch.Size([1, 128, 32, 32]), emb.shape: torch.Size([1, 128, 32, 32])\n",
      "Down: x.shape: torch.Size([1, 256, 16, 16]), emb.shape: torch.Size([1, 256, 16, 16])\n",
      "Down: x.shape: torch.Size([1, 256, 8, 8]), emb.shape: torch.Size([1, 256, 8, 8])\n",
      "Down: x.shape: torch.Size([1, 128, 16, 16]), emb.shape: torch.Size([1, 128, 16, 16])\n",
      "Down: x.shape: torch.Size([1, 64, 32, 32]), emb.shape: torch.Size([1, 64, 32, 32])\n",
      "Down: x.shape: torch.Size([1, 64, 64, 64]), emb.shape: torch.Size([1, 64, 64, 64])\n",
      "Down: x.shape: torch.Size([1, 128, 32, 32]), emb.shape: torch.Size([1, 128, 32, 32])\n",
      "Down: x.shape: torch.Size([1, 256, 16, 16]), emb.shape: torch.Size([1, 256, 16, 16])\n",
      "Down: x.shape: torch.Size([1, 256, 8, 8]), emb.shape: torch.Size([1, 256, 8, 8])\n",
      "Down: x.shape: torch.Size([1, 128, 16, 16]), emb.shape: torch.Size([1, 128, 16, 16])\n",
      "Down: x.shape: torch.Size([1, 64, 32, 32]), emb.shape: torch.Size([1, 64, 32, 32])\n",
      "Down: x.shape: torch.Size([1, 64, 64, 64]), emb.shape: torch.Size([1, 64, 64, 64])\n",
      "Down: x.shape: torch.Size([1, 128, 32, 32]), emb.shape: torch.Size([1, 128, 32, 32])\n",
      "Down: x.shape: torch.Size([1, 256, 16, 16]), emb.shape: torch.Size([1, 256, 16, 16])\n",
      "Down: x.shape: torch.Size([1, 256, 8, 8]), emb.shape: torch.Size([1, 256, 8, 8])\n",
      "Down: x.shape: torch.Size([1, 128, 16, 16]), emb.shape: torch.Size([1, 128, 16, 16])\n",
      "Down: x.shape: torch.Size([1, 64, 32, 32]), emb.shape: torch.Size([1, 64, 32, 32])\n",
      "Down: x.shape: torch.Size([1, 64, 64, 64]), emb.shape: torch.Size([1, 64, 64, 64])\n",
      "Down: x.shape: torch.Size([1, 128, 32, 32]), emb.shape: torch.Size([1, 128, 32, 32])\n",
      "Down: x.shape: torch.Size([1, 256, 16, 16]), emb.shape: torch.Size([1, 256, 16, 16])\n",
      "Down: x.shape: torch.Size([1, 256, 8, 8]), emb.shape: torch.Size([1, 256, 8, 8])\n",
      "Down: x.shape: torch.Size([1, 128, 16, 16]), emb.shape: torch.Size([1, 128, 16, 16])\n",
      "Down: x.shape: torch.Size([1, 64, 32, 32]), emb.shape: torch.Size([1, 64, 32, 32])\n",
      "Down: x.shape: torch.Size([1, 64, 64, 64]), emb.shape: torch.Size([1, 64, 64, 64])\n"
     ]
    },
    {
     "name": "stderr",
     "output_type": "stream",
     "text": [
      "577it [00:26, 22.24it/s]"
     ]
    },
    {
     "name": "stdout",
     "output_type": "stream",
     "text": [
      "Down: x.shape: torch.Size([1, 128, 32, 32]), emb.shape: torch.Size([1, 128, 32, 32])\n",
      "Down: x.shape: torch.Size([1, 256, 16, 16]), emb.shape: torch.Size([1, 256, 16, 16])\n",
      "Down: x.shape: torch.Size([1, 256, 8, 8]), emb.shape: torch.Size([1, 256, 8, 8])\n",
      "Down: x.shape: torch.Size([1, 128, 16, 16]), emb.shape: torch.Size([1, 128, 16, 16])\n",
      "Down: x.shape: torch.Size([1, 64, 32, 32]), emb.shape: torch.Size([1, 64, 32, 32])\n",
      "Down: x.shape: torch.Size([1, 64, 64, 64]), emb.shape: torch.Size([1, 64, 64, 64])\n",
      "Down: x.shape: torch.Size([1, 128, 32, 32]), emb.shape: torch.Size([1, 128, 32, 32])\n",
      "Down: x.shape: torch.Size([1, 256, 16, 16]), emb.shape: torch.Size([1, 256, 16, 16])\n",
      "Down: x.shape: torch.Size([1, 256, 8, 8]), emb.shape: torch.Size([1, 256, 8, 8])\n",
      "Down: x.shape: torch.Size([1, 128, 16, 16]), emb.shape: torch.Size([1, 128, 16, 16])\n",
      "Down: x.shape: torch.Size([1, 64, 32, 32]), emb.shape: torch.Size([1, 64, 32, 32])\n",
      "Down: x.shape: torch.Size([1, 64, 64, 64]), emb.shape: torch.Size([1, 64, 64, 64])\n",
      "Down: x.shape: torch.Size([1, 128, 32, 32]), emb.shape: torch.Size([1, 128, 32, 32])\n",
      "Down: x.shape: torch.Size([1, 256, 16, 16]), emb.shape: torch.Size([1, 256, 16, 16])\n",
      "Down: x.shape: torch.Size([1, 256, 8, 8]), emb.shape: torch.Size([1, 256, 8, 8])\n",
      "Down: x.shape: torch.Size([1, 128, 16, 16]), emb.shape: torch.Size([1, 128, 16, 16])\n",
      "Down: x.shape: torch.Size([1, 64, 32, 32]), emb.shape: torch.Size([1, 64, 32, 32])\n",
      "Down: x.shape: torch.Size([1, 64, 64, 64]), emb.shape: torch.Size([1, 64, 64, 64])\n",
      "Down: x.shape: torch.Size([1, 128, 32, 32]), emb.shape: torch.Size([1, 128, 32, 32])\n",
      "Down: x.shape: torch.Size([1, 256, 16, 16]), emb.shape: torch.Size([1, 256, 16, 16])\n",
      "Down: x.shape: torch.Size([1, 256, 8, 8]), emb.shape: torch.Size([1, 256, 8, 8])\n",
      "Down: x.shape: torch.Size([1, 128, 16, 16]), emb.shape: torch.Size([1, 128, 16, 16])\n",
      "Down: x.shape: torch.Size([1, 64, 32, 32]), emb.shape: torch.Size([1, 64, 32, 32])\n",
      "Down: x.shape: torch.Size([1, 64, 64, 64]), emb.shape: torch.Size([1, 64, 64, 64])\n",
      "Down: x.shape: torch.Size([1, 128, 32, 32]), emb.shape: torch.Size([1, 128, 32, 32])\n",
      "Down: x.shape: torch.Size([1, 256, 16, 16]), emb.shape: torch.Size([1, 256, 16, 16])\n",
      "Down: x.shape: torch.Size([1, 256, 8, 8]), emb.shape: torch.Size([1, 256, 8, 8])\n",
      "Down: x.shape: torch.Size([1, 128, 16, 16]), emb.shape: torch.Size([1, 128, 16, 16])\n",
      "Down: x.shape: torch.Size([1, 64, 32, 32]), emb.shape: torch.Size([1, 64, 32, 32])\n",
      "Down: x.shape: torch.Size([1, 64, 64, 64]), emb.shape: torch.Size([1, 64, 64, 64])\n"
     ]
    },
    {
     "name": "stderr",
     "output_type": "stream",
     "text": [
      "580it [00:26, 22.31it/s]"
     ]
    },
    {
     "name": "stdout",
     "output_type": "stream",
     "text": [
      "Down: x.shape: torch.Size([1, 128, 32, 32]), emb.shape: torch.Size([1, 128, 32, 32])\n",
      "Down: x.shape: torch.Size([1, 256, 16, 16]), emb.shape: torch.Size([1, 256, 16, 16])\n",
      "Down: x.shape: torch.Size([1, 256, 8, 8]), emb.shape: torch.Size([1, 256, 8, 8])\n",
      "Down: x.shape: torch.Size([1, 128, 16, 16]), emb.shape: torch.Size([1, 128, 16, 16])\n",
      "Down: x.shape: torch.Size([1, 64, 32, 32]), emb.shape: torch.Size([1, 64, 32, 32])\n",
      "Down: x.shape: torch.Size([1, 64, 64, 64]), emb.shape: torch.Size([1, 64, 64, 64])\n",
      "Down: x.shape: torch.Size([1, 128, 32, 32]), emb.shape: torch.Size([1, 128, 32, 32])\n",
      "Down: x.shape: torch.Size([1, 256, 16, 16]), emb.shape: torch.Size([1, 256, 16, 16])\n",
      "Down: x.shape: torch.Size([1, 256, 8, 8]), emb.shape: torch.Size([1, 256, 8, 8])\n",
      "Down: x.shape: torch.Size([1, 128, 16, 16]), emb.shape: torch.Size([1, 128, 16, 16])\n",
      "Down: x.shape: torch.Size([1, 64, 32, 32]), emb.shape: torch.Size([1, 64, 32, 32])\n",
      "Down: x.shape: torch.Size([1, 64, 64, 64]), emb.shape: torch.Size([1, 64, 64, 64])\n",
      "Down: x.shape: torch.Size([1, 128, 32, 32]), emb.shape: torch.Size([1, 128, 32, 32])\n",
      "Down: x.shape: torch.Size([1, 256, 16, 16]), emb.shape: torch.Size([1, 256, 16, 16])\n",
      "Down: x.shape: torch.Size([1, 256, 8, 8]), emb.shape: torch.Size([1, 256, 8, 8])\n",
      "Down: x.shape: torch.Size([1, 128, 16, 16]), emb.shape: torch.Size([1, 128, 16, 16])\n",
      "Down: x.shape: torch.Size([1, 64, 32, 32]), emb.shape: torch.Size([1, 64, 32, 32])\n",
      "Down: x.shape: torch.Size([1, 64, 64, 64]), emb.shape: torch.Size([1, 64, 64, 64])\n",
      "Down: x.shape: torch.Size([1, 128, 32, 32]), emb.shape: torch.Size([1, 128, 32, 32])\n",
      "Down: x.shape: torch.Size([1, 256, 16, 16]), emb.shape: torch.Size([1, 256, 16, 16])\n",
      "Down: x.shape: torch.Size([1, 256, 8, 8]), emb.shape: torch.Size([1, 256, 8, 8])\n",
      "Down: x.shape: torch.Size([1, 128, 16, 16]), emb.shape: torch.Size([1, 128, 16, 16])\n",
      "Down: x.shape: torch.Size([1, 64, 32, 32]), emb.shape: torch.Size([1, 64, 32, 32])\n",
      "Down: x.shape: torch.Size([1, 64, 64, 64]), emb.shape: torch.Size([1, 64, 64, 64])\n",
      "Down: x.shape: torch.Size([1, 128, 32, 32]), emb.shape: torch.Size([1, 128, 32, 32])\n",
      "Down: x.shape: torch.Size([1, 256, 16, 16]), emb.shape: torch.Size([1, 256, 16, 16])\n",
      "Down: x.shape: torch.Size([1, 256, 8, 8]), emb.shape: torch.Size([1, 256, 8, 8])\n",
      "Down: x.shape: torch.Size([1, 128, 16, 16]), emb.shape: torch.Size([1, 128, 16, 16])\n",
      "Down: x.shape: torch.Size([1, 64, 32, 32]), emb.shape: torch.Size([1, 64, 32, 32])\n",
      "Down: x.shape: torch.Size([1, 64, 64, 64]), emb.shape: torch.Size([1, 64, 64, 64])\n"
     ]
    },
    {
     "name": "stderr",
     "output_type": "stream",
     "text": [
      "586it [00:27, 22.19it/s]"
     ]
    },
    {
     "name": "stdout",
     "output_type": "stream",
     "text": [
      "Down: x.shape: torch.Size([1, 128, 32, 32]), emb.shape: torch.Size([1, 128, 32, 32])\n",
      "Down: x.shape: torch.Size([1, 256, 16, 16]), emb.shape: torch.Size([1, 256, 16, 16])\n",
      "Down: x.shape: torch.Size([1, 256, 8, 8]), emb.shape: torch.Size([1, 256, 8, 8])\n",
      "Down: x.shape: torch.Size([1, 128, 16, 16]), emb.shape: torch.Size([1, 128, 16, 16])\n",
      "Down: x.shape: torch.Size([1, 64, 32, 32]), emb.shape: torch.Size([1, 64, 32, 32])\n",
      "Down: x.shape: torch.Size([1, 64, 64, 64]), emb.shape: torch.Size([1, 64, 64, 64])\n",
      "Down: x.shape: torch.Size([1, 128, 32, 32]), emb.shape: torch.Size([1, 128, 32, 32])\n",
      "Down: x.shape: torch.Size([1, 256, 16, 16]), emb.shape: torch.Size([1, 256, 16, 16])\n",
      "Down: x.shape: torch.Size([1, 256, 8, 8]), emb.shape: torch.Size([1, 256, 8, 8])\n",
      "Down: x.shape: torch.Size([1, 128, 16, 16]), emb.shape: torch.Size([1, 128, 16, 16])\n",
      "Down: x.shape: torch.Size([1, 64, 32, 32]), emb.shape: torch.Size([1, 64, 32, 32])\n",
      "Down: x.shape: torch.Size([1, 64, 64, 64]), emb.shape: torch.Size([1, 64, 64, 64])\n",
      "Down: x.shape: torch.Size([1, 128, 32, 32]), emb.shape: torch.Size([1, 128, 32, 32])\n",
      "Down: x.shape: torch.Size([1, 256, 16, 16]), emb.shape: torch.Size([1, 256, 16, 16])\n",
      "Down: x.shape: torch.Size([1, 256, 8, 8]), emb.shape: torch.Size([1, 256, 8, 8])\n",
      "Down: x.shape: torch.Size([1, 128, 16, 16]), emb.shape: torch.Size([1, 128, 16, 16])\n",
      "Down: x.shape: torch.Size([1, 64, 32, 32]), emb.shape: torch.Size([1, 64, 32, 32])\n",
      "Down: x.shape: torch.Size([1, 64, 64, 64]), emb.shape: torch.Size([1, 64, 64, 64])\n",
      "Down: x.shape: torch.Size([1, 128, 32, 32]), emb.shape: torch.Size([1, 128, 32, 32])\n",
      "Down: x.shape: torch.Size([1, 256, 16, 16]), emb.shape: torch.Size([1, 256, 16, 16])\n",
      "Down: x.shape: torch.Size([1, 256, 8, 8]), emb.shape: torch.Size([1, 256, 8, 8])\n",
      "Down: x.shape: torch.Size([1, 128, 16, 16]), emb.shape: torch.Size([1, 128, 16, 16])\n",
      "Down: x.shape: torch.Size([1, 64, 32, 32]), emb.shape: torch.Size([1, 64, 32, 32])\n",
      "Down: x.shape: torch.Size([1, 64, 64, 64]), emb.shape: torch.Size([1, 64, 64, 64])\n",
      "Down: x.shape: torch.Size([1, 128, 32, 32]), emb.shape: torch.Size([1, 128, 32, 32])\n",
      "Down: x.shape: torch.Size([1, 256, 16, 16]), emb.shape: torch.Size([1, 256, 16, 16])\n",
      "Down: x.shape: torch.Size([1, 256, 8, 8]), emb.shape: torch.Size([1, 256, 8, 8])\n",
      "Down: x.shape: torch.Size([1, 128, 16, 16]), emb.shape: torch.Size([1, 128, 16, 16])\n",
      "Down: x.shape: torch.Size([1, 64, 32, 32]), emb.shape: torch.Size([1, 64, 32, 32])\n",
      "Down: x.shape: torch.Size([1, 64, 64, 64]), emb.shape: torch.Size([1, 64, 64, 64])\n"
     ]
    },
    {
     "name": "stderr",
     "output_type": "stream",
     "text": [
      "589it [00:27, 22.03it/s]"
     ]
    },
    {
     "name": "stdout",
     "output_type": "stream",
     "text": [
      "Down: x.shape: torch.Size([1, 128, 32, 32]), emb.shape: torch.Size([1, 128, 32, 32])\n",
      "Down: x.shape: torch.Size([1, 256, 16, 16]), emb.shape: torch.Size([1, 256, 16, 16])\n",
      "Down: x.shape: torch.Size([1, 256, 8, 8]), emb.shape: torch.Size([1, 256, 8, 8])\n",
      "Down: x.shape: torch.Size([1, 128, 16, 16]), emb.shape: torch.Size([1, 128, 16, 16])\n",
      "Down: x.shape: torch.Size([1, 64, 32, 32]), emb.shape: torch.Size([1, 64, 32, 32])\n",
      "Down: x.shape: torch.Size([1, 64, 64, 64]), emb.shape: torch.Size([1, 64, 64, 64])\n",
      "Down: x.shape: torch.Size([1, 128, 32, 32]), emb.shape: torch.Size([1, 128, 32, 32])\n",
      "Down: x.shape: torch.Size([1, 256, 16, 16]), emb.shape: torch.Size([1, 256, 16, 16])\n",
      "Down: x.shape: torch.Size([1, 256, 8, 8]), emb.shape: torch.Size([1, 256, 8, 8])\n",
      "Down: x.shape: torch.Size([1, 128, 16, 16]), emb.shape: torch.Size([1, 128, 16, 16])\n",
      "Down: x.shape: torch.Size([1, 64, 32, 32]), emb.shape: torch.Size([1, 64, 32, 32])\n",
      "Down: x.shape: torch.Size([1, 64, 64, 64]), emb.shape: torch.Size([1, 64, 64, 64])\n",
      "Down: x.shape: torch.Size([1, 128, 32, 32]), emb.shape: torch.Size([1, 128, 32, 32])\n",
      "Down: x.shape: torch.Size([1, 256, 16, 16]), emb.shape: torch.Size([1, 256, 16, 16])\n",
      "Down: x.shape: torch.Size([1, 256, 8, 8]), emb.shape: torch.Size([1, 256, 8, 8])\n",
      "Down: x.shape: torch.Size([1, 128, 16, 16]), emb.shape: torch.Size([1, 128, 16, 16])\n",
      "Down: x.shape: torch.Size([1, 64, 32, 32]), emb.shape: torch.Size([1, 64, 32, 32])\n",
      "Down: x.shape: torch.Size([1, 64, 64, 64]), emb.shape: torch.Size([1, 64, 64, 64])\n",
      "Down: x.shape: torch.Size([1, 128, 32, 32]), emb.shape: torch.Size([1, 128, 32, 32])\n",
      "Down: x.shape: torch.Size([1, 256, 16, 16]), emb.shape: torch.Size([1, 256, 16, 16])\n",
      "Down: x.shape: torch.Size([1, 256, 8, 8]), emb.shape: torch.Size([1, 256, 8, 8])\n",
      "Down: x.shape: torch.Size([1, 128, 16, 16]), emb.shape: torch.Size([1, 128, 16, 16])\n",
      "Down: x.shape: torch.Size([1, 64, 32, 32]), emb.shape: torch.Size([1, 64, 32, 32])\n",
      "Down: x.shape: torch.Size([1, 64, 64, 64]), emb.shape: torch.Size([1, 64, 64, 64])\n",
      "Down: x.shape: torch.Size([1, 128, 32, 32]), emb.shape: torch.Size([1, 128, 32, 32])\n",
      "Down: x.shape: torch.Size([1, 256, 16, 16]), emb.shape: torch.Size([1, 256, 16, 16])\n",
      "Down: x.shape: torch.Size([1, 256, 8, 8]), emb.shape: torch.Size([1, 256, 8, 8])\n",
      "Down: x.shape: torch.Size([1, 128, 16, 16]), emb.shape: torch.Size([1, 128, 16, 16])\n",
      "Down: x.shape: torch.Size([1, 64, 32, 32]), emb.shape: torch.Size([1, 64, 32, 32])\n",
      "Down: x.shape: torch.Size([1, 64, 64, 64]), emb.shape: torch.Size([1, 64, 64, 64])\n"
     ]
    },
    {
     "name": "stderr",
     "output_type": "stream",
     "text": [
      "595it [00:27, 22.00it/s]"
     ]
    },
    {
     "name": "stdout",
     "output_type": "stream",
     "text": [
      "Down: x.shape: torch.Size([1, 128, 32, 32]), emb.shape: torch.Size([1, 128, 32, 32])\n",
      "Down: x.shape: torch.Size([1, 256, 16, 16]), emb.shape: torch.Size([1, 256, 16, 16])\n",
      "Down: x.shape: torch.Size([1, 256, 8, 8]), emb.shape: torch.Size([1, 256, 8, 8])\n",
      "Down: x.shape: torch.Size([1, 128, 16, 16]), emb.shape: torch.Size([1, 128, 16, 16])\n",
      "Down: x.shape: torch.Size([1, 64, 32, 32]), emb.shape: torch.Size([1, 64, 32, 32])\n",
      "Down: x.shape: torch.Size([1, 64, 64, 64]), emb.shape: torch.Size([1, 64, 64, 64])\n",
      "Down: x.shape: torch.Size([1, 128, 32, 32]), emb.shape: torch.Size([1, 128, 32, 32])\n",
      "Down: x.shape: torch.Size([1, 256, 16, 16]), emb.shape: torch.Size([1, 256, 16, 16])\n",
      "Down: x.shape: torch.Size([1, 256, 8, 8]), emb.shape: torch.Size([1, 256, 8, 8])\n",
      "Down: x.shape: torch.Size([1, 128, 16, 16]), emb.shape: torch.Size([1, 128, 16, 16])\n",
      "Down: x.shape: torch.Size([1, 64, 32, 32]), emb.shape: torch.Size([1, 64, 32, 32])\n",
      "Down: x.shape: torch.Size([1, 64, 64, 64]), emb.shape: torch.Size([1, 64, 64, 64])\n",
      "Down: x.shape: torch.Size([1, 128, 32, 32]), emb.shape: torch.Size([1, 128, 32, 32])\n",
      "Down: x.shape: torch.Size([1, 256, 16, 16]), emb.shape: torch.Size([1, 256, 16, 16])\n",
      "Down: x.shape: torch.Size([1, 256, 8, 8]), emb.shape: torch.Size([1, 256, 8, 8])\n",
      "Down: x.shape: torch.Size([1, 128, 16, 16]), emb.shape: torch.Size([1, 128, 16, 16])\n",
      "Down: x.shape: torch.Size([1, 64, 32, 32]), emb.shape: torch.Size([1, 64, 32, 32])\n",
      "Down: x.shape: torch.Size([1, 64, 64, 64]), emb.shape: torch.Size([1, 64, 64, 64])\n",
      "Down: x.shape: torch.Size([1, 128, 32, 32]), emb.shape: torch.Size([1, 128, 32, 32])\n",
      "Down: x.shape: torch.Size([1, 256, 16, 16]), emb.shape: torch.Size([1, 256, 16, 16])\n",
      "Down: x.shape: torch.Size([1, 256, 8, 8]), emb.shape: torch.Size([1, 256, 8, 8])\n",
      "Down: x.shape: torch.Size([1, 128, 16, 16]), emb.shape: torch.Size([1, 128, 16, 16])\n",
      "Down: x.shape: torch.Size([1, 64, 32, 32]), emb.shape: torch.Size([1, 64, 32, 32])\n",
      "Down: x.shape: torch.Size([1, 64, 64, 64]), emb.shape: torch.Size([1, 64, 64, 64])\n",
      "Down: x.shape: torch.Size([1, 128, 32, 32]), emb.shape: torch.Size([1, 128, 32, 32])\n",
      "Down: x.shape: torch.Size([1, 256, 16, 16]), emb.shape: torch.Size([1, 256, 16, 16])\n",
      "Down: x.shape: torch.Size([1, 256, 8, 8]), emb.shape: torch.Size([1, 256, 8, 8])\n",
      "Down: x.shape: torch.Size([1, 128, 16, 16]), emb.shape: torch.Size([1, 128, 16, 16])\n",
      "Down: x.shape: torch.Size([1, 64, 32, 32]), emb.shape: torch.Size([1, 64, 32, 32])\n",
      "Down: x.shape: torch.Size([1, 64, 64, 64]), emb.shape: torch.Size([1, 64, 64, 64])\n"
     ]
    },
    {
     "name": "stderr",
     "output_type": "stream",
     "text": [
      "601it [00:27, 22.00it/s]"
     ]
    },
    {
     "name": "stdout",
     "output_type": "stream",
     "text": [
      "Down: x.shape: torch.Size([1, 128, 32, 32]), emb.shape: torch.Size([1, 128, 32, 32])\n",
      "Down: x.shape: torch.Size([1, 256, 16, 16]), emb.shape: torch.Size([1, 256, 16, 16])\n",
      "Down: x.shape: torch.Size([1, 256, 8, 8]), emb.shape: torch.Size([1, 256, 8, 8])\n",
      "Down: x.shape: torch.Size([1, 128, 16, 16]), emb.shape: torch.Size([1, 128, 16, 16])\n",
      "Down: x.shape: torch.Size([1, 64, 32, 32]), emb.shape: torch.Size([1, 64, 32, 32])\n",
      "Down: x.shape: torch.Size([1, 64, 64, 64]), emb.shape: torch.Size([1, 64, 64, 64])\n",
      "Down: x.shape: torch.Size([1, 128, 32, 32]), emb.shape: torch.Size([1, 128, 32, 32])\n",
      "Down: x.shape: torch.Size([1, 256, 16, 16]), emb.shape: torch.Size([1, 256, 16, 16])\n",
      "Down: x.shape: torch.Size([1, 256, 8, 8]), emb.shape: torch.Size([1, 256, 8, 8])\n",
      "Down: x.shape: torch.Size([1, 128, 16, 16]), emb.shape: torch.Size([1, 128, 16, 16])\n",
      "Down: x.shape: torch.Size([1, 64, 32, 32]), emb.shape: torch.Size([1, 64, 32, 32])\n",
      "Down: x.shape: torch.Size([1, 64, 64, 64]), emb.shape: torch.Size([1, 64, 64, 64])\n",
      "Down: x.shape: torch.Size([1, 128, 32, 32]), emb.shape: torch.Size([1, 128, 32, 32])\n",
      "Down: x.shape: torch.Size([1, 256, 16, 16]), emb.shape: torch.Size([1, 256, 16, 16])\n",
      "Down: x.shape: torch.Size([1, 256, 8, 8]), emb.shape: torch.Size([1, 256, 8, 8])\n",
      "Down: x.shape: torch.Size([1, 128, 16, 16]), emb.shape: torch.Size([1, 128, 16, 16])\n",
      "Down: x.shape: torch.Size([1, 64, 32, 32]), emb.shape: torch.Size([1, 64, 32, 32])\n",
      "Down: x.shape: torch.Size([1, 64, 64, 64]), emb.shape: torch.Size([1, 64, 64, 64])\n",
      "Down: x.shape: torch.Size([1, 128, 32, 32]), emb.shape: torch.Size([1, 128, 32, 32])\n",
      "Down: x.shape: torch.Size([1, 256, 16, 16]), emb.shape: torch.Size([1, 256, 16, 16])\n",
      "Down: x.shape: torch.Size([1, 256, 8, 8]), emb.shape: torch.Size([1, 256, 8, 8])\n",
      "Down: x.shape: torch.Size([1, 128, 16, 16]), emb.shape: torch.Size([1, 128, 16, 16])\n",
      "Down: x.shape: torch.Size([1, 64, 32, 32]), emb.shape: torch.Size([1, 64, 32, 32])\n",
      "Down: x.shape: torch.Size([1, 64, 64, 64]), emb.shape: torch.Size([1, 64, 64, 64])\n",
      "Down: x.shape: torch.Size([1, 128, 32, 32]), emb.shape: torch.Size([1, 128, 32, 32])\n",
      "Down: x.shape: torch.Size([1, 256, 16, 16]), emb.shape: torch.Size([1, 256, 16, 16])\n",
      "Down: x.shape: torch.Size([1, 256, 8, 8]), emb.shape: torch.Size([1, 256, 8, 8])\n",
      "Down: x.shape: torch.Size([1, 128, 16, 16]), emb.shape: torch.Size([1, 128, 16, 16])\n",
      "Down: x.shape: torch.Size([1, 64, 32, 32]), emb.shape: torch.Size([1, 64, 32, 32])\n",
      "Down: x.shape: torch.Size([1, 64, 64, 64]), emb.shape: torch.Size([1, 64, 64, 64])\n"
     ]
    },
    {
     "name": "stderr",
     "output_type": "stream",
     "text": [
      "607it [00:28, 22.21it/s]"
     ]
    },
    {
     "name": "stdout",
     "output_type": "stream",
     "text": [
      "Down: x.shape: torch.Size([1, 128, 32, 32]), emb.shape: torch.Size([1, 128, 32, 32])\n",
      "Down: x.shape: torch.Size([1, 256, 16, 16]), emb.shape: torch.Size([1, 256, 16, 16])\n",
      "Down: x.shape: torch.Size([1, 256, 8, 8]), emb.shape: torch.Size([1, 256, 8, 8])\n",
      "Down: x.shape: torch.Size([1, 128, 16, 16]), emb.shape: torch.Size([1, 128, 16, 16])\n",
      "Down: x.shape: torch.Size([1, 64, 32, 32]), emb.shape: torch.Size([1, 64, 32, 32])\n",
      "Down: x.shape: torch.Size([1, 64, 64, 64]), emb.shape: torch.Size([1, 64, 64, 64])\n",
      "Down: x.shape: torch.Size([1, 128, 32, 32]), emb.shape: torch.Size([1, 128, 32, 32])\n",
      "Down: x.shape: torch.Size([1, 256, 16, 16]), emb.shape: torch.Size([1, 256, 16, 16])\n",
      "Down: x.shape: torch.Size([1, 256, 8, 8]), emb.shape: torch.Size([1, 256, 8, 8])\n",
      "Down: x.shape: torch.Size([1, 128, 16, 16]), emb.shape: torch.Size([1, 128, 16, 16])\n",
      "Down: x.shape: torch.Size([1, 64, 32, 32]), emb.shape: torch.Size([1, 64, 32, 32])\n",
      "Down: x.shape: torch.Size([1, 64, 64, 64]), emb.shape: torch.Size([1, 64, 64, 64])\n",
      "Down: x.shape: torch.Size([1, 128, 32, 32]), emb.shape: torch.Size([1, 128, 32, 32])\n",
      "Down: x.shape: torch.Size([1, 256, 16, 16]), emb.shape: torch.Size([1, 256, 16, 16])\n",
      "Down: x.shape: torch.Size([1, 256, 8, 8]), emb.shape: torch.Size([1, 256, 8, 8])\n",
      "Down: x.shape: torch.Size([1, 128, 16, 16]), emb.shape: torch.Size([1, 128, 16, 16])\n",
      "Down: x.shape: torch.Size([1, 64, 32, 32]), emb.shape: torch.Size([1, 64, 32, 32])\n",
      "Down: x.shape: torch.Size([1, 64, 64, 64]), emb.shape: torch.Size([1, 64, 64, 64])\n",
      "Down: x.shape: torch.Size([1, 128, 32, 32]), emb.shape: torch.Size([1, 128, 32, 32])\n",
      "Down: x.shape: torch.Size([1, 256, 16, 16]), emb.shape: torch.Size([1, 256, 16, 16])\n",
      "Down: x.shape: torch.Size([1, 256, 8, 8]), emb.shape: torch.Size([1, 256, 8, 8])\n",
      "Down: x.shape: torch.Size([1, 128, 16, 16]), emb.shape: torch.Size([1, 128, 16, 16])\n",
      "Down: x.shape: torch.Size([1, 64, 32, 32]), emb.shape: torch.Size([1, 64, 32, 32])\n",
      "Down: x.shape: torch.Size([1, 64, 64, 64]), emb.shape: torch.Size([1, 64, 64, 64])\n",
      "Down: x.shape: torch.Size([1, 128, 32, 32]), emb.shape: torch.Size([1, 128, 32, 32])\n",
      "Down: x.shape: torch.Size([1, 256, 16, 16]), emb.shape: torch.Size([1, 256, 16, 16])\n",
      "Down: x.shape: torch.Size([1, 256, 8, 8]), emb.shape: torch.Size([1, 256, 8, 8])\n",
      "Down: x.shape: torch.Size([1, 128, 16, 16]), emb.shape: torch.Size([1, 128, 16, 16])\n",
      "Down: x.shape: torch.Size([1, 64, 32, 32]), emb.shape: torch.Size([1, 64, 32, 32])\n",
      "Down: x.shape: torch.Size([1, 64, 64, 64]), emb.shape: torch.Size([1, 64, 64, 64])\n"
     ]
    },
    {
     "name": "stderr",
     "output_type": "stream",
     "text": [
      "610it [00:28, 21.95it/s]"
     ]
    },
    {
     "name": "stdout",
     "output_type": "stream",
     "text": [
      "Down: x.shape: torch.Size([1, 128, 32, 32]), emb.shape: torch.Size([1, 128, 32, 32])\n",
      "Down: x.shape: torch.Size([1, 256, 16, 16]), emb.shape: torch.Size([1, 256, 16, 16])\n",
      "Down: x.shape: torch.Size([1, 256, 8, 8]), emb.shape: torch.Size([1, 256, 8, 8])\n",
      "Down: x.shape: torch.Size([1, 128, 16, 16]), emb.shape: torch.Size([1, 128, 16, 16])\n",
      "Down: x.shape: torch.Size([1, 64, 32, 32]), emb.shape: torch.Size([1, 64, 32, 32])\n",
      "Down: x.shape: torch.Size([1, 64, 64, 64]), emb.shape: torch.Size([1, 64, 64, 64])\n",
      "Down: x.shape: torch.Size([1, 128, 32, 32]), emb.shape: torch.Size([1, 128, 32, 32])\n",
      "Down: x.shape: torch.Size([1, 256, 16, 16]), emb.shape: torch.Size([1, 256, 16, 16])\n",
      "Down: x.shape: torch.Size([1, 256, 8, 8]), emb.shape: torch.Size([1, 256, 8, 8])\n",
      "Down: x.shape: torch.Size([1, 128, 16, 16]), emb.shape: torch.Size([1, 128, 16, 16])\n",
      "Down: x.shape: torch.Size([1, 64, 32, 32]), emb.shape: torch.Size([1, 64, 32, 32])\n",
      "Down: x.shape: torch.Size([1, 64, 64, 64]), emb.shape: torch.Size([1, 64, 64, 64])\n",
      "Down: x.shape: torch.Size([1, 128, 32, 32]), emb.shape: torch.Size([1, 128, 32, 32])\n",
      "Down: x.shape: torch.Size([1, 256, 16, 16]), emb.shape: torch.Size([1, 256, 16, 16])\n",
      "Down: x.shape: torch.Size([1, 256, 8, 8]), emb.shape: torch.Size([1, 256, 8, 8])\n",
      "Down: x.shape: torch.Size([1, 128, 16, 16]), emb.shape: torch.Size([1, 128, 16, 16])\n",
      "Down: x.shape: torch.Size([1, 64, 32, 32]), emb.shape: torch.Size([1, 64, 32, 32])\n",
      "Down: x.shape: torch.Size([1, 64, 64, 64]), emb.shape: torch.Size([1, 64, 64, 64])\n",
      "Down: x.shape: torch.Size([1, 128, 32, 32]), emb.shape: torch.Size([1, 128, 32, 32])\n",
      "Down: x.shape: torch.Size([1, 256, 16, 16]), emb.shape: torch.Size([1, 256, 16, 16])\n",
      "Down: x.shape: torch.Size([1, 256, 8, 8]), emb.shape: torch.Size([1, 256, 8, 8])\n",
      "Down: x.shape: torch.Size([1, 128, 16, 16]), emb.shape: torch.Size([1, 128, 16, 16])\n",
      "Down: x.shape: torch.Size([1, 64, 32, 32]), emb.shape: torch.Size([1, 64, 32, 32])\n",
      "Down: x.shape: torch.Size([1, 64, 64, 64]), emb.shape: torch.Size([1, 64, 64, 64])\n"
     ]
    },
    {
     "name": "stderr",
     "output_type": "stream",
     "text": [
      "613it [00:28, 22.01it/s]"
     ]
    },
    {
     "name": "stdout",
     "output_type": "stream",
     "text": [
      "Down: x.shape: torch.Size([1, 128, 32, 32]), emb.shape: torch.Size([1, 128, 32, 32])\n",
      "Down: x.shape: torch.Size([1, 256, 16, 16]), emb.shape: torch.Size([1, 256, 16, 16])\n",
      "Down: x.shape: torch.Size([1, 256, 8, 8]), emb.shape: torch.Size([1, 256, 8, 8])\n",
      "Down: x.shape: torch.Size([1, 128, 16, 16]), emb.shape: torch.Size([1, 128, 16, 16])\n",
      "Down: x.shape: torch.Size([1, 64, 32, 32]), emb.shape: torch.Size([1, 64, 32, 32])\n",
      "Down: x.shape: torch.Size([1, 64, 64, 64]), emb.shape: torch.Size([1, 64, 64, 64])\n",
      "Down: x.shape: torch.Size([1, 128, 32, 32]), emb.shape: torch.Size([1, 128, 32, 32])\n",
      "Down: x.shape: torch.Size([1, 256, 16, 16]), emb.shape: torch.Size([1, 256, 16, 16])\n",
      "Down: x.shape: torch.Size([1, 256, 8, 8]), emb.shape: torch.Size([1, 256, 8, 8])\n",
      "Down: x.shape: torch.Size([1, 128, 16, 16]), emb.shape: torch.Size([1, 128, 16, 16])\n",
      "Down: x.shape: torch.Size([1, 64, 32, 32]), emb.shape: torch.Size([1, 64, 32, 32])\n",
      "Down: x.shape: torch.Size([1, 64, 64, 64]), emb.shape: torch.Size([1, 64, 64, 64])\n",
      "Down: x.shape: torch.Size([1, 128, 32, 32]), emb.shape: torch.Size([1, 128, 32, 32])\n",
      "Down: x.shape: torch.Size([1, 256, 16, 16]), emb.shape: torch.Size([1, 256, 16, 16])\n",
      "Down: x.shape: torch.Size([1, 256, 8, 8]), emb.shape: torch.Size([1, 256, 8, 8])\n",
      "Down: x.shape: torch.Size([1, 128, 16, 16]), emb.shape: torch.Size([1, 128, 16, 16])\n",
      "Down: x.shape: torch.Size([1, 64, 32, 32]), emb.shape: torch.Size([1, 64, 32, 32])\n",
      "Down: x.shape: torch.Size([1, 64, 64, 64]), emb.shape: torch.Size([1, 64, 64, 64])\n",
      "Down: x.shape: torch.Size([1, 128, 32, 32]), emb.shape: torch.Size([1, 128, 32, 32])\n",
      "Down: x.shape: torch.Size([1, 256, 16, 16]), emb.shape: torch.Size([1, 256, 16, 16])\n",
      "Down: x.shape: torch.Size([1, 256, 8, 8]), emb.shape: torch.Size([1, 256, 8, 8])\n",
      "Down: x.shape: torch.Size([1, 128, 16, 16]), emb.shape: torch.Size([1, 128, 16, 16])\n",
      "Down: x.shape: torch.Size([1, 64, 32, 32]), emb.shape: torch.Size([1, 64, 32, 32])\n",
      "Down: x.shape: torch.Size([1, 64, 64, 64]), emb.shape: torch.Size([1, 64, 64, 64])\n",
      "Down: x.shape: torch.Size([1, 128, 32, 32]), emb.shape: torch.Size([1, 128, 32, 32])\n",
      "Down: x.shape: torch.Size([1, 256, 16, 16]), emb.shape: torch.Size([1, 256, 16, 16])\n",
      "Down: x.shape: torch.Size([1, 256, 8, 8]), emb.shape: torch.Size([1, 256, 8, 8])\n",
      "Down: x.shape: torch.Size([1, 128, 16, 16]), emb.shape: torch.Size([1, 128, 16, 16])\n",
      "Down: x.shape: torch.Size([1, 64, 32, 32]), emb.shape: torch.Size([1, 64, 32, 32])\n",
      "Down: x.shape: torch.Size([1, 64, 64, 64]), emb.shape: torch.Size([1, 64, 64, 64])\n"
     ]
    },
    {
     "name": "stderr",
     "output_type": "stream",
     "text": [
      "619it [00:28, 21.36it/s]"
     ]
    },
    {
     "name": "stdout",
     "output_type": "stream",
     "text": [
      "Down: x.shape: torch.Size([1, 128, 32, 32]), emb.shape: torch.Size([1, 128, 32, 32])\n",
      "Down: x.shape: torch.Size([1, 256, 16, 16]), emb.shape: torch.Size([1, 256, 16, 16])\n",
      "Down: x.shape: torch.Size([1, 256, 8, 8]), emb.shape: torch.Size([1, 256, 8, 8])\n",
      "Down: x.shape: torch.Size([1, 128, 16, 16]), emb.shape: torch.Size([1, 128, 16, 16])\n",
      "Down: x.shape: torch.Size([1, 64, 32, 32]), emb.shape: torch.Size([1, 64, 32, 32])\n",
      "Down: x.shape: torch.Size([1, 64, 64, 64]), emb.shape: torch.Size([1, 64, 64, 64])\n",
      "Down: x.shape: torch.Size([1, 128, 32, 32]), emb.shape: torch.Size([1, 128, 32, 32])\n",
      "Down: x.shape: torch.Size([1, 256, 16, 16]), emb.shape: torch.Size([1, 256, 16, 16])\n",
      "Down: x.shape: torch.Size([1, 256, 8, 8]), emb.shape: torch.Size([1, 256, 8, 8])\n",
      "Down: x.shape: torch.Size([1, 128, 16, 16]), emb.shape: torch.Size([1, 128, 16, 16])\n",
      "Down: x.shape: torch.Size([1, 64, 32, 32]), emb.shape: torch.Size([1, 64, 32, 32])\n",
      "Down: x.shape: torch.Size([1, 64, 64, 64]), emb.shape: torch.Size([1, 64, 64, 64])\n",
      "Down: x.shape: torch.Size([1, 128, 32, 32]), emb.shape: torch.Size([1, 128, 32, 32])\n",
      "Down: x.shape: torch.Size([1, 256, 16, 16]), emb.shape: torch.Size([1, 256, 16, 16])\n",
      "Down: x.shape: torch.Size([1, 256, 8, 8]), emb.shape: torch.Size([1, 256, 8, 8])\n",
      "Down: x.shape: torch.Size([1, 128, 16, 16]), emb.shape: torch.Size([1, 128, 16, 16])\n",
      "Down: x.shape: torch.Size([1, 64, 32, 32]), emb.shape: torch.Size([1, 64, 32, 32])\n",
      "Down: x.shape: torch.Size([1, 64, 64, 64]), emb.shape: torch.Size([1, 64, 64, 64])\n",
      "Down: x.shape: torch.Size([1, 128, 32, 32]), emb.shape: torch.Size([1, 128, 32, 32])\n",
      "Down: x.shape: torch.Size([1, 256, 16, 16]), emb.shape: torch.Size([1, 256, 16, 16])\n",
      "Down: x.shape: torch.Size([1, 256, 8, 8]), emb.shape: torch.Size([1, 256, 8, 8])\n",
      "Down: x.shape: torch.Size([1, 128, 16, 16]), emb.shape: torch.Size([1, 128, 16, 16])\n",
      "Down: x.shape: torch.Size([1, 64, 32, 32]), emb.shape: torch.Size([1, 64, 32, 32])\n",
      "Down: x.shape: torch.Size([1, 64, 64, 64]), emb.shape: torch.Size([1, 64, 64, 64])\n",
      "Down: x.shape: torch.Size([1, 128, 32, 32]), emb.shape: torch.Size([1, 128, 32, 32])\n",
      "Down: x.shape: torch.Size([1, 256, 16, 16]), emb.shape: torch.Size([1, 256, 16, 16])\n",
      "Down: x.shape: torch.Size([1, 256, 8, 8]), emb.shape: torch.Size([1, 256, 8, 8])\n",
      "Down: x.shape: torch.Size([1, 128, 16, 16]), emb.shape: torch.Size([1, 128, 16, 16])\n",
      "Down: x.shape: torch.Size([1, 64, 32, 32]), emb.shape: torch.Size([1, 64, 32, 32])\n",
      "Down: x.shape: torch.Size([1, 64, 64, 64]), emb.shape: torch.Size([1, 64, 64, 64])\n"
     ]
    },
    {
     "name": "stderr",
     "output_type": "stream",
     "text": [
      "625it [00:28, 22.00it/s]"
     ]
    },
    {
     "name": "stdout",
     "output_type": "stream",
     "text": [
      "Down: x.shape: torch.Size([1, 128, 32, 32]), emb.shape: torch.Size([1, 128, 32, 32])\n",
      "Down: x.shape: torch.Size([1, 256, 16, 16]), emb.shape: torch.Size([1, 256, 16, 16])\n",
      "Down: x.shape: torch.Size([1, 256, 8, 8]), emb.shape: torch.Size([1, 256, 8, 8])\n",
      "Down: x.shape: torch.Size([1, 128, 16, 16]), emb.shape: torch.Size([1, 128, 16, 16])\n",
      "Down: x.shape: torch.Size([1, 64, 32, 32]), emb.shape: torch.Size([1, 64, 32, 32])\n",
      "Down: x.shape: torch.Size([1, 64, 64, 64]), emb.shape: torch.Size([1, 64, 64, 64])\n",
      "Down: x.shape: torch.Size([1, 128, 32, 32]), emb.shape: torch.Size([1, 128, 32, 32])\n",
      "Down: x.shape: torch.Size([1, 256, 16, 16]), emb.shape: torch.Size([1, 256, 16, 16])\n",
      "Down: x.shape: torch.Size([1, 256, 8, 8]), emb.shape: torch.Size([1, 256, 8, 8])\n",
      "Down: x.shape: torch.Size([1, 128, 16, 16]), emb.shape: torch.Size([1, 128, 16, 16])\n",
      "Down: x.shape: torch.Size([1, 64, 32, 32]), emb.shape: torch.Size([1, 64, 32, 32])\n",
      "Down: x.shape: torch.Size([1, 64, 64, 64]), emb.shape: torch.Size([1, 64, 64, 64])\n",
      "Down: x.shape: torch.Size([1, 128, 32, 32]), emb.shape: torch.Size([1, 128, 32, 32])\n",
      "Down: x.shape: torch.Size([1, 256, 16, 16]), emb.shape: torch.Size([1, 256, 16, 16])\n",
      "Down: x.shape: torch.Size([1, 256, 8, 8]), emb.shape: torch.Size([1, 256, 8, 8])\n",
      "Down: x.shape: torch.Size([1, 128, 16, 16]), emb.shape: torch.Size([1, 128, 16, 16])\n",
      "Down: x.shape: torch.Size([1, 64, 32, 32]), emb.shape: torch.Size([1, 64, 32, 32])\n",
      "Down: x.shape: torch.Size([1, 64, 64, 64]), emb.shape: torch.Size([1, 64, 64, 64])\n",
      "Down: x.shape: torch.Size([1, 128, 32, 32]), emb.shape: torch.Size([1, 128, 32, 32])\n",
      "Down: x.shape: torch.Size([1, 256, 16, 16]), emb.shape: torch.Size([1, 256, 16, 16])\n",
      "Down: x.shape: torch.Size([1, 256, 8, 8]), emb.shape: torch.Size([1, 256, 8, 8])\n",
      "Down: x.shape: torch.Size([1, 128, 16, 16]), emb.shape: torch.Size([1, 128, 16, 16])\n",
      "Down: x.shape: torch.Size([1, 64, 32, 32]), emb.shape: torch.Size([1, 64, 32, 32])\n",
      "Down: x.shape: torch.Size([1, 64, 64, 64]), emb.shape: torch.Size([1, 64, 64, 64])\n",
      "Down: x.shape: torch.Size([1, 128, 32, 32]), emb.shape: torch.Size([1, 128, 32, 32])\n",
      "Down: x.shape: torch.Size([1, 256, 16, 16]), emb.shape: torch.Size([1, 256, 16, 16])\n",
      "Down: x.shape: torch.Size([1, 256, 8, 8]), emb.shape: torch.Size([1, 256, 8, 8])\n",
      "Down: x.shape: torch.Size([1, 128, 16, 16]), emb.shape: torch.Size([1, 128, 16, 16])\n",
      "Down: x.shape: torch.Size([1, 64, 32, 32]), emb.shape: torch.Size([1, 64, 32, 32])\n",
      "Down: x.shape: torch.Size([1, 64, 64, 64]), emb.shape: torch.Size([1, 64, 64, 64])\n"
     ]
    },
    {
     "name": "stderr",
     "output_type": "stream",
     "text": [
      "631it [00:29, 21.40it/s]"
     ]
    },
    {
     "name": "stdout",
     "output_type": "stream",
     "text": [
      "Down: x.shape: torch.Size([1, 128, 32, 32]), emb.shape: torch.Size([1, 128, 32, 32])\n",
      "Down: x.shape: torch.Size([1, 256, 16, 16]), emb.shape: torch.Size([1, 256, 16, 16])\n",
      "Down: x.shape: torch.Size([1, 256, 8, 8]), emb.shape: torch.Size([1, 256, 8, 8])\n",
      "Down: x.shape: torch.Size([1, 128, 16, 16]), emb.shape: torch.Size([1, 128, 16, 16])\n",
      "Down: x.shape: torch.Size([1, 64, 32, 32]), emb.shape: torch.Size([1, 64, 32, 32])\n",
      "Down: x.shape: torch.Size([1, 64, 64, 64]), emb.shape: torch.Size([1, 64, 64, 64])\n",
      "Down: x.shape: torch.Size([1, 128, 32, 32]), emb.shape: torch.Size([1, 128, 32, 32])\n",
      "Down: x.shape: torch.Size([1, 256, 16, 16]), emb.shape: torch.Size([1, 256, 16, 16])\n",
      "Down: x.shape: torch.Size([1, 256, 8, 8]), emb.shape: torch.Size([1, 256, 8, 8])\n",
      "Down: x.shape: torch.Size([1, 128, 16, 16]), emb.shape: torch.Size([1, 128, 16, 16])\n",
      "Down: x.shape: torch.Size([1, 64, 32, 32]), emb.shape: torch.Size([1, 64, 32, 32])\n",
      "Down: x.shape: torch.Size([1, 64, 64, 64]), emb.shape: torch.Size([1, 64, 64, 64])\n",
      "Down: x.shape: torch.Size([1, 128, 32, 32]), emb.shape: torch.Size([1, 128, 32, 32])\n",
      "Down: x.shape: torch.Size([1, 256, 16, 16]), emb.shape: torch.Size([1, 256, 16, 16])\n",
      "Down: x.shape: torch.Size([1, 256, 8, 8]), emb.shape: torch.Size([1, 256, 8, 8])\n",
      "Down: x.shape: torch.Size([1, 128, 16, 16]), emb.shape: torch.Size([1, 128, 16, 16])\n",
      "Down: x.shape: torch.Size([1, 64, 32, 32]), emb.shape: torch.Size([1, 64, 32, 32])\n",
      "Down: x.shape: torch.Size([1, 64, 64, 64]), emb.shape: torch.Size([1, 64, 64, 64])\n",
      "Down: x.shape: torch.Size([1, 128, 32, 32]), emb.shape: torch.Size([1, 128, 32, 32])\n",
      "Down: x.shape: torch.Size([1, 256, 16, 16]), emb.shape: torch.Size([1, 256, 16, 16])\n",
      "Down: x.shape: torch.Size([1, 256, 8, 8]), emb.shape: torch.Size([1, 256, 8, 8])\n",
      "Down: x.shape: torch.Size([1, 128, 16, 16]), emb.shape: torch.Size([1, 128, 16, 16])\n",
      "Down: x.shape: torch.Size([1, 64, 32, 32]), emb.shape: torch.Size([1, 64, 32, 32])\n",
      "Down: x.shape: torch.Size([1, 64, 64, 64]), emb.shape: torch.Size([1, 64, 64, 64])\n",
      "Down: x.shape: torch.Size([1, 128, 32, 32]), emb.shape: torch.Size([1, 128, 32, 32])\n",
      "Down: x.shape: torch.Size([1, 256, 16, 16]), emb.shape: torch.Size([1, 256, 16, 16])\n",
      "Down: x.shape: torch.Size([1, 256, 8, 8]), emb.shape: torch.Size([1, 256, 8, 8])\n",
      "Down: x.shape: torch.Size([1, 128, 16, 16]), emb.shape: torch.Size([1, 128, 16, 16])\n",
      "Down: x.shape: torch.Size([1, 64, 32, 32]), emb.shape: torch.Size([1, 64, 32, 32])\n",
      "Down: x.shape: torch.Size([1, 64, 64, 64]), emb.shape: torch.Size([1, 64, 64, 64])\n"
     ]
    },
    {
     "name": "stderr",
     "output_type": "stream",
     "text": [
      "634it [00:29, 21.63it/s]"
     ]
    },
    {
     "name": "stdout",
     "output_type": "stream",
     "text": [
      "Down: x.shape: torch.Size([1, 128, 32, 32]), emb.shape: torch.Size([1, 128, 32, 32])\n",
      "Down: x.shape: torch.Size([1, 256, 16, 16]), emb.shape: torch.Size([1, 256, 16, 16])\n",
      "Down: x.shape: torch.Size([1, 256, 8, 8]), emb.shape: torch.Size([1, 256, 8, 8])\n",
      "Down: x.shape: torch.Size([1, 128, 16, 16]), emb.shape: torch.Size([1, 128, 16, 16])\n",
      "Down: x.shape: torch.Size([1, 64, 32, 32]), emb.shape: torch.Size([1, 64, 32, 32])\n",
      "Down: x.shape: torch.Size([1, 64, 64, 64]), emb.shape: torch.Size([1, 64, 64, 64])\n",
      "Down: x.shape: torch.Size([1, 128, 32, 32]), emb.shape: torch.Size([1, 128, 32, 32])\n",
      "Down: x.shape: torch.Size([1, 256, 16, 16]), emb.shape: torch.Size([1, 256, 16, 16])\n",
      "Down: x.shape: torch.Size([1, 256, 8, 8]), emb.shape: torch.Size([1, 256, 8, 8])\n",
      "Down: x.shape: torch.Size([1, 128, 16, 16]), emb.shape: torch.Size([1, 128, 16, 16])\n",
      "Down: x.shape: torch.Size([1, 64, 32, 32]), emb.shape: torch.Size([1, 64, 32, 32])\n",
      "Down: x.shape: torch.Size([1, 64, 64, 64]), emb.shape: torch.Size([1, 64, 64, 64])\n",
      "Down: x.shape: torch.Size([1, 128, 32, 32]), emb.shape: torch.Size([1, 128, 32, 32])\n",
      "Down: x.shape: torch.Size([1, 256, 16, 16]), emb.shape: torch.Size([1, 256, 16, 16])\n",
      "Down: x.shape: torch.Size([1, 256, 8, 8]), emb.shape: torch.Size([1, 256, 8, 8])\n",
      "Down: x.shape: torch.Size([1, 128, 16, 16]), emb.shape: torch.Size([1, 128, 16, 16])\n",
      "Down: x.shape: torch.Size([1, 64, 32, 32]), emb.shape: torch.Size([1, 64, 32, 32])\n",
      "Down: x.shape: torch.Size([1, 64, 64, 64]), emb.shape: torch.Size([1, 64, 64, 64])\n",
      "Down: x.shape: torch.Size([1, 128, 32, 32]), emb.shape: torch.Size([1, 128, 32, 32])\n",
      "Down: x.shape: torch.Size([1, 256, 16, 16]), emb.shape: torch.Size([1, 256, 16, 16])\n",
      "Down: x.shape: torch.Size([1, 256, 8, 8]), emb.shape: torch.Size([1, 256, 8, 8])\n",
      "Down: x.shape: torch.Size([1, 128, 16, 16]), emb.shape: torch.Size([1, 128, 16, 16])\n",
      "Down: x.shape: torch.Size([1, 64, 32, 32]), emb.shape: torch.Size([1, 64, 32, 32])\n",
      "Down: x.shape: torch.Size([1, 64, 64, 64]), emb.shape: torch.Size([1, 64, 64, 64])\n",
      "Down: x.shape: torch.Size([1, 128, 32, 32]), emb.shape: torch.Size([1, 128, 32, 32])\n",
      "Down: x.shape: torch.Size([1, 256, 16, 16]), emb.shape: torch.Size([1, 256, 16, 16])\n",
      "Down: x.shape: torch.Size([1, 256, 8, 8]), emb.shape: torch.Size([1, 256, 8, 8])\n",
      "Down: x.shape: torch.Size([1, 128, 16, 16]), emb.shape: torch.Size([1, 128, 16, 16])\n",
      "Down: x.shape: torch.Size([1, 64, 32, 32]), emb.shape: torch.Size([1, 64, 32, 32])\n",
      "Down: x.shape: torch.Size([1, 64, 64, 64]), emb.shape: torch.Size([1, 64, 64, 64])\n"
     ]
    },
    {
     "name": "stderr",
     "output_type": "stream",
     "text": [
      "640it [00:29, 21.54it/s]"
     ]
    },
    {
     "name": "stdout",
     "output_type": "stream",
     "text": [
      "Down: x.shape: torch.Size([1, 128, 32, 32]), emb.shape: torch.Size([1, 128, 32, 32])\n",
      "Down: x.shape: torch.Size([1, 256, 16, 16]), emb.shape: torch.Size([1, 256, 16, 16])\n",
      "Down: x.shape: torch.Size([1, 256, 8, 8]), emb.shape: torch.Size([1, 256, 8, 8])\n",
      "Down: x.shape: torch.Size([1, 128, 16, 16]), emb.shape: torch.Size([1, 128, 16, 16])\n",
      "Down: x.shape: torch.Size([1, 64, 32, 32]), emb.shape: torch.Size([1, 64, 32, 32])\n",
      "Down: x.shape: torch.Size([1, 64, 64, 64]), emb.shape: torch.Size([1, 64, 64, 64])\n",
      "Down: x.shape: torch.Size([1, 128, 32, 32]), emb.shape: torch.Size([1, 128, 32, 32])\n",
      "Down: x.shape: torch.Size([1, 256, 16, 16]), emb.shape: torch.Size([1, 256, 16, 16])\n",
      "Down: x.shape: torch.Size([1, 256, 8, 8]), emb.shape: torch.Size([1, 256, 8, 8])\n",
      "Down: x.shape: torch.Size([1, 128, 16, 16]), emb.shape: torch.Size([1, 128, 16, 16])\n",
      "Down: x.shape: torch.Size([1, 64, 32, 32]), emb.shape: torch.Size([1, 64, 32, 32])\n",
      "Down: x.shape: torch.Size([1, 64, 64, 64]), emb.shape: torch.Size([1, 64, 64, 64])\n",
      "Down: x.shape: torch.Size([1, 128, 32, 32]), emb.shape: torch.Size([1, 128, 32, 32])\n",
      "Down: x.shape: torch.Size([1, 256, 16, 16]), emb.shape: torch.Size([1, 256, 16, 16])\n",
      "Down: x.shape: torch.Size([1, 256, 8, 8]), emb.shape: torch.Size([1, 256, 8, 8])\n",
      "Down: x.shape: torch.Size([1, 128, 16, 16]), emb.shape: torch.Size([1, 128, 16, 16])\n",
      "Down: x.shape: torch.Size([1, 64, 32, 32]), emb.shape: torch.Size([1, 64, 32, 32])\n",
      "Down: x.shape: torch.Size([1, 64, 64, 64]), emb.shape: torch.Size([1, 64, 64, 64])\n",
      "Down: x.shape: torch.Size([1, 128, 32, 32]), emb.shape: torch.Size([1, 128, 32, 32])\n",
      "Down: x.shape: torch.Size([1, 256, 16, 16]), emb.shape: torch.Size([1, 256, 16, 16])\n",
      "Down: x.shape: torch.Size([1, 256, 8, 8]), emb.shape: torch.Size([1, 256, 8, 8])\n",
      "Down: x.shape: torch.Size([1, 128, 16, 16]), emb.shape: torch.Size([1, 128, 16, 16])\n",
      "Down: x.shape: torch.Size([1, 64, 32, 32]), emb.shape: torch.Size([1, 64, 32, 32])\n",
      "Down: x.shape: torch.Size([1, 64, 64, 64]), emb.shape: torch.Size([1, 64, 64, 64])\n",
      "Down: x.shape: torch.Size([1, 128, 32, 32]), emb.shape: torch.Size([1, 128, 32, 32])\n",
      "Down: x.shape: torch.Size([1, 256, 16, 16]), emb.shape: torch.Size([1, 256, 16, 16])\n",
      "Down: x.shape: torch.Size([1, 256, 8, 8]), emb.shape: torch.Size([1, 256, 8, 8])\n",
      "Down: x.shape: torch.Size([1, 128, 16, 16]), emb.shape: torch.Size([1, 128, 16, 16])\n",
      "Down: x.shape: torch.Size([1, 64, 32, 32]), emb.shape: torch.Size([1, 64, 32, 32])\n",
      "Down: x.shape: torch.Size([1, 64, 64, 64]), emb.shape: torch.Size([1, 64, 64, 64])\n"
     ]
    },
    {
     "name": "stderr",
     "output_type": "stream",
     "text": [
      "646it [00:29, 22.00it/s]"
     ]
    },
    {
     "name": "stdout",
     "output_type": "stream",
     "text": [
      "Down: x.shape: torch.Size([1, 128, 32, 32]), emb.shape: torch.Size([1, 128, 32, 32])\n",
      "Down: x.shape: torch.Size([1, 256, 16, 16]), emb.shape: torch.Size([1, 256, 16, 16])\n",
      "Down: x.shape: torch.Size([1, 256, 8, 8]), emb.shape: torch.Size([1, 256, 8, 8])\n",
      "Down: x.shape: torch.Size([1, 128, 16, 16]), emb.shape: torch.Size([1, 128, 16, 16])\n",
      "Down: x.shape: torch.Size([1, 64, 32, 32]), emb.shape: torch.Size([1, 64, 32, 32])\n",
      "Down: x.shape: torch.Size([1, 64, 64, 64]), emb.shape: torch.Size([1, 64, 64, 64])\n",
      "Down: x.shape: torch.Size([1, 128, 32, 32]), emb.shape: torch.Size([1, 128, 32, 32])\n",
      "Down: x.shape: torch.Size([1, 256, 16, 16]), emb.shape: torch.Size([1, 256, 16, 16])\n",
      "Down: x.shape: torch.Size([1, 256, 8, 8]), emb.shape: torch.Size([1, 256, 8, 8])\n",
      "Down: x.shape: torch.Size([1, 128, 16, 16]), emb.shape: torch.Size([1, 128, 16, 16])\n",
      "Down: x.shape: torch.Size([1, 64, 32, 32]), emb.shape: torch.Size([1, 64, 32, 32])\n",
      "Down: x.shape: torch.Size([1, 64, 64, 64]), emb.shape: torch.Size([1, 64, 64, 64])\n",
      "Down: x.shape: torch.Size([1, 128, 32, 32]), emb.shape: torch.Size([1, 128, 32, 32])\n",
      "Down: x.shape: torch.Size([1, 256, 16, 16]), emb.shape: torch.Size([1, 256, 16, 16])\n",
      "Down: x.shape: torch.Size([1, 256, 8, 8]), emb.shape: torch.Size([1, 256, 8, 8])\n",
      "Down: x.shape: torch.Size([1, 128, 16, 16]), emb.shape: torch.Size([1, 128, 16, 16])\n",
      "Down: x.shape: torch.Size([1, 64, 32, 32]), emb.shape: torch.Size([1, 64, 32, 32])\n",
      "Down: x.shape: torch.Size([1, 64, 64, 64]), emb.shape: torch.Size([1, 64, 64, 64])\n",
      "Down: x.shape: torch.Size([1, 128, 32, 32]), emb.shape: torch.Size([1, 128, 32, 32])\n",
      "Down: x.shape: torch.Size([1, 256, 16, 16]), emb.shape: torch.Size([1, 256, 16, 16])\n",
      "Down: x.shape: torch.Size([1, 256, 8, 8]), emb.shape: torch.Size([1, 256, 8, 8])\n",
      "Down: x.shape: torch.Size([1, 128, 16, 16]), emb.shape: torch.Size([1, 128, 16, 16])\n",
      "Down: x.shape: torch.Size([1, 64, 32, 32]), emb.shape: torch.Size([1, 64, 32, 32])\n",
      "Down: x.shape: torch.Size([1, 64, 64, 64]), emb.shape: torch.Size([1, 64, 64, 64])\n",
      "Down: x.shape: torch.Size([1, 128, 32, 32]), emb.shape: torch.Size([1, 128, 32, 32])\n",
      "Down: x.shape: torch.Size([1, 256, 16, 16]), emb.shape: torch.Size([1, 256, 16, 16])\n",
      "Down: x.shape: torch.Size([1, 256, 8, 8]), emb.shape: torch.Size([1, 256, 8, 8])\n",
      "Down: x.shape: torch.Size([1, 128, 16, 16]), emb.shape: torch.Size([1, 128, 16, 16])\n",
      "Down: x.shape: torch.Size([1, 64, 32, 32]), emb.shape: torch.Size([1, 64, 32, 32])\n",
      "Down: x.shape: torch.Size([1, 64, 64, 64]), emb.shape: torch.Size([1, 64, 64, 64])\n"
     ]
    },
    {
     "name": "stderr",
     "output_type": "stream",
     "text": [
      "649it [00:30, 21.94it/s]"
     ]
    },
    {
     "name": "stdout",
     "output_type": "stream",
     "text": [
      "Down: x.shape: torch.Size([1, 128, 32, 32]), emb.shape: torch.Size([1, 128, 32, 32])\n",
      "Down: x.shape: torch.Size([1, 256, 16, 16]), emb.shape: torch.Size([1, 256, 16, 16])\n",
      "Down: x.shape: torch.Size([1, 256, 8, 8]), emb.shape: torch.Size([1, 256, 8, 8])\n",
      "Down: x.shape: torch.Size([1, 128, 16, 16]), emb.shape: torch.Size([1, 128, 16, 16])\n",
      "Down: x.shape: torch.Size([1, 64, 32, 32]), emb.shape: torch.Size([1, 64, 32, 32])\n",
      "Down: x.shape: torch.Size([1, 64, 64, 64]), emb.shape: torch.Size([1, 64, 64, 64])\n",
      "Down: x.shape: torch.Size([1, 128, 32, 32]), emb.shape: torch.Size([1, 128, 32, 32])\n",
      "Down: x.shape: torch.Size([1, 256, 16, 16]), emb.shape: torch.Size([1, 256, 16, 16])\n",
      "Down: x.shape: torch.Size([1, 256, 8, 8]), emb.shape: torch.Size([1, 256, 8, 8])\n",
      "Down: x.shape: torch.Size([1, 128, 16, 16]), emb.shape: torch.Size([1, 128, 16, 16])\n",
      "Down: x.shape: torch.Size([1, 64, 32, 32]), emb.shape: torch.Size([1, 64, 32, 32])\n",
      "Down: x.shape: torch.Size([1, 64, 64, 64]), emb.shape: torch.Size([1, 64, 64, 64])\n",
      "Down: x.shape: torch.Size([1, 128, 32, 32]), emb.shape: torch.Size([1, 128, 32, 32])\n",
      "Down: x.shape: torch.Size([1, 256, 16, 16]), emb.shape: torch.Size([1, 256, 16, 16])\n",
      "Down: x.shape: torch.Size([1, 256, 8, 8]), emb.shape: torch.Size([1, 256, 8, 8])\n",
      "Down: x.shape: torch.Size([1, 128, 16, 16]), emb.shape: torch.Size([1, 128, 16, 16])\n",
      "Down: x.shape: torch.Size([1, 64, 32, 32]), emb.shape: torch.Size([1, 64, 32, 32])\n",
      "Down: x.shape: torch.Size([1, 64, 64, 64]), emb.shape: torch.Size([1, 64, 64, 64])\n",
      "Down: x.shape: torch.Size([1, 128, 32, 32]), emb.shape: torch.Size([1, 128, 32, 32])\n",
      "Down: x.shape: torch.Size([1, 256, 16, 16]), emb.shape: torch.Size([1, 256, 16, 16])\n",
      "Down: x.shape: torch.Size([1, 256, 8, 8]), emb.shape: torch.Size([1, 256, 8, 8])\n",
      "Down: x.shape: torch.Size([1, 128, 16, 16]), emb.shape: torch.Size([1, 128, 16, 16])\n",
      "Down: x.shape: torch.Size([1, 64, 32, 32]), emb.shape: torch.Size([1, 64, 32, 32])\n",
      "Down: x.shape: torch.Size([1, 64, 64, 64]), emb.shape: torch.Size([1, 64, 64, 64])\n",
      "Down: x.shape: torch.Size([1, 128, 32, 32]), emb.shape: torch.Size([1, 128, 32, 32])\n",
      "Down: x.shape: torch.Size([1, 256, 16, 16]), emb.shape: torch.Size([1, 256, 16, 16])\n",
      "Down: x.shape: torch.Size([1, 256, 8, 8]), emb.shape: torch.Size([1, 256, 8, 8])\n",
      "Down: x.shape: torch.Size([1, 128, 16, 16]), emb.shape: torch.Size([1, 128, 16, 16])\n",
      "Down: x.shape: torch.Size([1, 64, 32, 32]), emb.shape: torch.Size([1, 64, 32, 32])\n",
      "Down: x.shape: torch.Size([1, 64, 64, 64]), emb.shape: torch.Size([1, 64, 64, 64])\n"
     ]
    },
    {
     "name": "stderr",
     "output_type": "stream",
     "text": [
      "655it [00:30, 22.21it/s]"
     ]
    },
    {
     "name": "stdout",
     "output_type": "stream",
     "text": [
      "Down: x.shape: torch.Size([1, 128, 32, 32]), emb.shape: torch.Size([1, 128, 32, 32])\n",
      "Down: x.shape: torch.Size([1, 256, 16, 16]), emb.shape: torch.Size([1, 256, 16, 16])\n",
      "Down: x.shape: torch.Size([1, 256, 8, 8]), emb.shape: torch.Size([1, 256, 8, 8])\n",
      "Down: x.shape: torch.Size([1, 128, 16, 16]), emb.shape: torch.Size([1, 128, 16, 16])\n",
      "Down: x.shape: torch.Size([1, 64, 32, 32]), emb.shape: torch.Size([1, 64, 32, 32])\n",
      "Down: x.shape: torch.Size([1, 64, 64, 64]), emb.shape: torch.Size([1, 64, 64, 64])\n",
      "Down: x.shape: torch.Size([1, 128, 32, 32]), emb.shape: torch.Size([1, 128, 32, 32])\n",
      "Down: x.shape: torch.Size([1, 256, 16, 16]), emb.shape: torch.Size([1, 256, 16, 16])\n",
      "Down: x.shape: torch.Size([1, 256, 8, 8]), emb.shape: torch.Size([1, 256, 8, 8])\n",
      "Down: x.shape: torch.Size([1, 128, 16, 16]), emb.shape: torch.Size([1, 128, 16, 16])\n",
      "Down: x.shape: torch.Size([1, 64, 32, 32]), emb.shape: torch.Size([1, 64, 32, 32])\n",
      "Down: x.shape: torch.Size([1, 64, 64, 64]), emb.shape: torch.Size([1, 64, 64, 64])\n",
      "Down: x.shape: torch.Size([1, 128, 32, 32]), emb.shape: torch.Size([1, 128, 32, 32])\n",
      "Down: x.shape: torch.Size([1, 256, 16, 16]), emb.shape: torch.Size([1, 256, 16, 16])\n",
      "Down: x.shape: torch.Size([1, 256, 8, 8]), emb.shape: torch.Size([1, 256, 8, 8])\n",
      "Down: x.shape: torch.Size([1, 128, 16, 16]), emb.shape: torch.Size([1, 128, 16, 16])\n",
      "Down: x.shape: torch.Size([1, 64, 32, 32]), emb.shape: torch.Size([1, 64, 32, 32])\n",
      "Down: x.shape: torch.Size([1, 64, 64, 64]), emb.shape: torch.Size([1, 64, 64, 64])\n",
      "Down: x.shape: torch.Size([1, 128, 32, 32]), emb.shape: torch.Size([1, 128, 32, 32])\n",
      "Down: x.shape: torch.Size([1, 256, 16, 16]), emb.shape: torch.Size([1, 256, 16, 16])\n",
      "Down: x.shape: torch.Size([1, 256, 8, 8]), emb.shape: torch.Size([1, 256, 8, 8])\n",
      "Down: x.shape: torch.Size([1, 128, 16, 16]), emb.shape: torch.Size([1, 128, 16, 16])\n",
      "Down: x.shape: torch.Size([1, 64, 32, 32]), emb.shape: torch.Size([1, 64, 32, 32])\n",
      "Down: x.shape: torch.Size([1, 64, 64, 64]), emb.shape: torch.Size([1, 64, 64, 64])\n",
      "Down: x.shape: torch.Size([1, 128, 32, 32]), emb.shape: torch.Size([1, 128, 32, 32])\n",
      "Down: x.shape: torch.Size([1, 256, 16, 16]), emb.shape: torch.Size([1, 256, 16, 16])\n",
      "Down: x.shape: torch.Size([1, 256, 8, 8]), emb.shape: torch.Size([1, 256, 8, 8])\n",
      "Down: x.shape: torch.Size([1, 128, 16, 16]), emb.shape: torch.Size([1, 128, 16, 16])\n",
      "Down: x.shape: torch.Size([1, 64, 32, 32]), emb.shape: torch.Size([1, 64, 32, 32])\n",
      "Down: x.shape: torch.Size([1, 64, 64, 64]), emb.shape: torch.Size([1, 64, 64, 64])\n"
     ]
    },
    {
     "name": "stderr",
     "output_type": "stream",
     "text": [
      "661it [00:30, 22.09it/s]"
     ]
    },
    {
     "name": "stdout",
     "output_type": "stream",
     "text": [
      "Down: x.shape: torch.Size([1, 128, 32, 32]), emb.shape: torch.Size([1, 128, 32, 32])\n",
      "Down: x.shape: torch.Size([1, 256, 16, 16]), emb.shape: torch.Size([1, 256, 16, 16])\n",
      "Down: x.shape: torch.Size([1, 256, 8, 8]), emb.shape: torch.Size([1, 256, 8, 8])\n",
      "Down: x.shape: torch.Size([1, 128, 16, 16]), emb.shape: torch.Size([1, 128, 16, 16])\n",
      "Down: x.shape: torch.Size([1, 64, 32, 32]), emb.shape: torch.Size([1, 64, 32, 32])\n",
      "Down: x.shape: torch.Size([1, 64, 64, 64]), emb.shape: torch.Size([1, 64, 64, 64])\n",
      "Down: x.shape: torch.Size([1, 128, 32, 32]), emb.shape: torch.Size([1, 128, 32, 32])\n",
      "Down: x.shape: torch.Size([1, 256, 16, 16]), emb.shape: torch.Size([1, 256, 16, 16])\n",
      "Down: x.shape: torch.Size([1, 256, 8, 8]), emb.shape: torch.Size([1, 256, 8, 8])\n",
      "Down: x.shape: torch.Size([1, 128, 16, 16]), emb.shape: torch.Size([1, 128, 16, 16])\n",
      "Down: x.shape: torch.Size([1, 64, 32, 32]), emb.shape: torch.Size([1, 64, 32, 32])\n",
      "Down: x.shape: torch.Size([1, 64, 64, 64]), emb.shape: torch.Size([1, 64, 64, 64])\n",
      "Down: x.shape: torch.Size([1, 128, 32, 32]), emb.shape: torch.Size([1, 128, 32, 32])\n",
      "Down: x.shape: torch.Size([1, 256, 16, 16]), emb.shape: torch.Size([1, 256, 16, 16])\n",
      "Down: x.shape: torch.Size([1, 256, 8, 8]), emb.shape: torch.Size([1, 256, 8, 8])\n",
      "Down: x.shape: torch.Size([1, 128, 16, 16]), emb.shape: torch.Size([1, 128, 16, 16])\n",
      "Down: x.shape: torch.Size([1, 64, 32, 32]), emb.shape: torch.Size([1, 64, 32, 32])\n",
      "Down: x.shape: torch.Size([1, 64, 64, 64]), emb.shape: torch.Size([1, 64, 64, 64])\n",
      "Down: x.shape: torch.Size([1, 128, 32, 32]), emb.shape: torch.Size([1, 128, 32, 32])\n",
      "Down: x.shape: torch.Size([1, 256, 16, 16]), emb.shape: torch.Size([1, 256, 16, 16])\n",
      "Down: x.shape: torch.Size([1, 256, 8, 8]), emb.shape: torch.Size([1, 256, 8, 8])\n",
      "Down: x.shape: torch.Size([1, 128, 16, 16]), emb.shape: torch.Size([1, 128, 16, 16])\n",
      "Down: x.shape: torch.Size([1, 64, 32, 32]), emb.shape: torch.Size([1, 64, 32, 32])\n",
      "Down: x.shape: torch.Size([1, 64, 64, 64]), emb.shape: torch.Size([1, 64, 64, 64])\n",
      "Down: x.shape: torch.Size([1, 128, 32, 32]), emb.shape: torch.Size([1, 128, 32, 32])\n",
      "Down: x.shape: torch.Size([1, 256, 16, 16]), emb.shape: torch.Size([1, 256, 16, 16])\n",
      "Down: x.shape: torch.Size([1, 256, 8, 8]), emb.shape: torch.Size([1, 256, 8, 8])\n",
      "Down: x.shape: torch.Size([1, 128, 16, 16]), emb.shape: torch.Size([1, 128, 16, 16])\n",
      "Down: x.shape: torch.Size([1, 64, 32, 32]), emb.shape: torch.Size([1, 64, 32, 32])\n",
      "Down: x.shape: torch.Size([1, 64, 64, 64]), emb.shape: torch.Size([1, 64, 64, 64])\n"
     ]
    },
    {
     "name": "stderr",
     "output_type": "stream",
     "text": [
      "664it [00:30, 22.17it/s]"
     ]
    },
    {
     "name": "stdout",
     "output_type": "stream",
     "text": [
      "Down: x.shape: torch.Size([1, 128, 32, 32]), emb.shape: torch.Size([1, 128, 32, 32])\n",
      "Down: x.shape: torch.Size([1, 256, 16, 16]), emb.shape: torch.Size([1, 256, 16, 16])\n",
      "Down: x.shape: torch.Size([1, 256, 8, 8]), emb.shape: torch.Size([1, 256, 8, 8])\n",
      "Down: x.shape: torch.Size([1, 128, 16, 16]), emb.shape: torch.Size([1, 128, 16, 16])\n",
      "Down: x.shape: torch.Size([1, 64, 32, 32]), emb.shape: torch.Size([1, 64, 32, 32])\n",
      "Down: x.shape: torch.Size([1, 64, 64, 64]), emb.shape: torch.Size([1, 64, 64, 64])\n",
      "Down: x.shape: torch.Size([1, 128, 32, 32]), emb.shape: torch.Size([1, 128, 32, 32])\n",
      "Down: x.shape: torch.Size([1, 256, 16, 16]), emb.shape: torch.Size([1, 256, 16, 16])\n",
      "Down: x.shape: torch.Size([1, 256, 8, 8]), emb.shape: torch.Size([1, 256, 8, 8])\n",
      "Down: x.shape: torch.Size([1, 128, 16, 16]), emb.shape: torch.Size([1, 128, 16, 16])\n",
      "Down: x.shape: torch.Size([1, 64, 32, 32]), emb.shape: torch.Size([1, 64, 32, 32])\n",
      "Down: x.shape: torch.Size([1, 64, 64, 64]), emb.shape: torch.Size([1, 64, 64, 64])\n",
      "Down: x.shape: torch.Size([1, 128, 32, 32]), emb.shape: torch.Size([1, 128, 32, 32])\n",
      "Down: x.shape: torch.Size([1, 256, 16, 16]), emb.shape: torch.Size([1, 256, 16, 16])\n",
      "Down: x.shape: torch.Size([1, 256, 8, 8]), emb.shape: torch.Size([1, 256, 8, 8])\n",
      "Down: x.shape: torch.Size([1, 128, 16, 16]), emb.shape: torch.Size([1, 128, 16, 16])\n",
      "Down: x.shape: torch.Size([1, 64, 32, 32]), emb.shape: torch.Size([1, 64, 32, 32])\n",
      "Down: x.shape: torch.Size([1, 64, 64, 64]), emb.shape: torch.Size([1, 64, 64, 64])\n",
      "Down: x.shape: torch.Size([1, 128, 32, 32]), emb.shape: torch.Size([1, 128, 32, 32])\n",
      "Down: x.shape: torch.Size([1, 256, 16, 16]), emb.shape: torch.Size([1, 256, 16, 16])\n",
      "Down: x.shape: torch.Size([1, 256, 8, 8]), emb.shape: torch.Size([1, 256, 8, 8])\n",
      "Down: x.shape: torch.Size([1, 128, 16, 16]), emb.shape: torch.Size([1, 128, 16, 16])\n",
      "Down: x.shape: torch.Size([1, 64, 32, 32]), emb.shape: torch.Size([1, 64, 32, 32])\n",
      "Down: x.shape: torch.Size([1, 64, 64, 64]), emb.shape: torch.Size([1, 64, 64, 64])\n",
      "Down: x.shape: torch.Size([1, 128, 32, 32]), emb.shape: torch.Size([1, 128, 32, 32])\n",
      "Down: x.shape: torch.Size([1, 256, 16, 16]), emb.shape: torch.Size([1, 256, 16, 16])\n",
      "Down: x.shape: torch.Size([1, 256, 8, 8]), emb.shape: torch.Size([1, 256, 8, 8])\n",
      "Down: x.shape: torch.Size([1, 128, 16, 16]), emb.shape: torch.Size([1, 128, 16, 16])\n",
      "Down: x.shape: torch.Size([1, 64, 32, 32]), emb.shape: torch.Size([1, 64, 32, 32])\n",
      "Down: x.shape: torch.Size([1, 64, 64, 64]), emb.shape: torch.Size([1, 64, 64, 64])\n"
     ]
    },
    {
     "name": "stderr",
     "output_type": "stream",
     "text": [
      "670it [00:30, 22.20it/s]"
     ]
    },
    {
     "name": "stdout",
     "output_type": "stream",
     "text": [
      "Down: x.shape: torch.Size([1, 128, 32, 32]), emb.shape: torch.Size([1, 128, 32, 32])\n",
      "Down: x.shape: torch.Size([1, 256, 16, 16]), emb.shape: torch.Size([1, 256, 16, 16])\n",
      "Down: x.shape: torch.Size([1, 256, 8, 8]), emb.shape: torch.Size([1, 256, 8, 8])\n",
      "Down: x.shape: torch.Size([1, 128, 16, 16]), emb.shape: torch.Size([1, 128, 16, 16])\n",
      "Down: x.shape: torch.Size([1, 64, 32, 32]), emb.shape: torch.Size([1, 64, 32, 32])\n",
      "Down: x.shape: torch.Size([1, 64, 64, 64]), emb.shape: torch.Size([1, 64, 64, 64])\n",
      "Down: x.shape: torch.Size([1, 128, 32, 32]), emb.shape: torch.Size([1, 128, 32, 32])\n",
      "Down: x.shape: torch.Size([1, 256, 16, 16]), emb.shape: torch.Size([1, 256, 16, 16])\n",
      "Down: x.shape: torch.Size([1, 256, 8, 8]), emb.shape: torch.Size([1, 256, 8, 8])\n",
      "Down: x.shape: torch.Size([1, 128, 16, 16]), emb.shape: torch.Size([1, 128, 16, 16])\n",
      "Down: x.shape: torch.Size([1, 64, 32, 32]), emb.shape: torch.Size([1, 64, 32, 32])\n",
      "Down: x.shape: torch.Size([1, 64, 64, 64]), emb.shape: torch.Size([1, 64, 64, 64])\n",
      "Down: x.shape: torch.Size([1, 128, 32, 32]), emb.shape: torch.Size([1, 128, 32, 32])\n",
      "Down: x.shape: torch.Size([1, 256, 16, 16]), emb.shape: torch.Size([1, 256, 16, 16])\n",
      "Down: x.shape: torch.Size([1, 256, 8, 8]), emb.shape: torch.Size([1, 256, 8, 8])\n",
      "Down: x.shape: torch.Size([1, 128, 16, 16]), emb.shape: torch.Size([1, 128, 16, 16])\n",
      "Down: x.shape: torch.Size([1, 64, 32, 32]), emb.shape: torch.Size([1, 64, 32, 32])\n",
      "Down: x.shape: torch.Size([1, 64, 64, 64]), emb.shape: torch.Size([1, 64, 64, 64])\n",
      "Down: x.shape: torch.Size([1, 128, 32, 32]), emb.shape: torch.Size([1, 128, 32, 32])\n",
      "Down: x.shape: torch.Size([1, 256, 16, 16]), emb.shape: torch.Size([1, 256, 16, 16])\n",
      "Down: x.shape: torch.Size([1, 256, 8, 8]), emb.shape: torch.Size([1, 256, 8, 8])\n",
      "Down: x.shape: torch.Size([1, 128, 16, 16]), emb.shape: torch.Size([1, 128, 16, 16])\n",
      "Down: x.shape: torch.Size([1, 64, 32, 32]), emb.shape: torch.Size([1, 64, 32, 32])\n",
      "Down: x.shape: torch.Size([1, 64, 64, 64]), emb.shape: torch.Size([1, 64, 64, 64])\n",
      "Down: x.shape: torch.Size([1, 128, 32, 32]), emb.shape: torch.Size([1, 128, 32, 32])\n",
      "Down: x.shape: torch.Size([1, 256, 16, 16]), emb.shape: torch.Size([1, 256, 16, 16])\n",
      "Down: x.shape: torch.Size([1, 256, 8, 8]), emb.shape: torch.Size([1, 256, 8, 8])\n",
      "Down: x.shape: torch.Size([1, 128, 16, 16]), emb.shape: torch.Size([1, 128, 16, 16])\n",
      "Down: x.shape: torch.Size([1, 64, 32, 32]), emb.shape: torch.Size([1, 64, 32, 32])\n",
      "Down: x.shape: torch.Size([1, 64, 64, 64]), emb.shape: torch.Size([1, 64, 64, 64])\n"
     ]
    },
    {
     "name": "stderr",
     "output_type": "stream",
     "text": [
      "676it [00:31, 22.21it/s]"
     ]
    },
    {
     "name": "stdout",
     "output_type": "stream",
     "text": [
      "Down: x.shape: torch.Size([1, 128, 32, 32]), emb.shape: torch.Size([1, 128, 32, 32])\n",
      "Down: x.shape: torch.Size([1, 256, 16, 16]), emb.shape: torch.Size([1, 256, 16, 16])\n",
      "Down: x.shape: torch.Size([1, 256, 8, 8]), emb.shape: torch.Size([1, 256, 8, 8])\n",
      "Down: x.shape: torch.Size([1, 128, 16, 16]), emb.shape: torch.Size([1, 128, 16, 16])\n",
      "Down: x.shape: torch.Size([1, 64, 32, 32]), emb.shape: torch.Size([1, 64, 32, 32])\n",
      "Down: x.shape: torch.Size([1, 64, 64, 64]), emb.shape: torch.Size([1, 64, 64, 64])\n",
      "Down: x.shape: torch.Size([1, 128, 32, 32]), emb.shape: torch.Size([1, 128, 32, 32])\n",
      "Down: x.shape: torch.Size([1, 256, 16, 16]), emb.shape: torch.Size([1, 256, 16, 16])\n",
      "Down: x.shape: torch.Size([1, 256, 8, 8]), emb.shape: torch.Size([1, 256, 8, 8])\n",
      "Down: x.shape: torch.Size([1, 128, 16, 16]), emb.shape: torch.Size([1, 128, 16, 16])\n",
      "Down: x.shape: torch.Size([1, 64, 32, 32]), emb.shape: torch.Size([1, 64, 32, 32])\n",
      "Down: x.shape: torch.Size([1, 64, 64, 64]), emb.shape: torch.Size([1, 64, 64, 64])\n",
      "Down: x.shape: torch.Size([1, 128, 32, 32]), emb.shape: torch.Size([1, 128, 32, 32])\n",
      "Down: x.shape: torch.Size([1, 256, 16, 16]), emb.shape: torch.Size([1, 256, 16, 16])\n",
      "Down: x.shape: torch.Size([1, 256, 8, 8]), emb.shape: torch.Size([1, 256, 8, 8])\n",
      "Down: x.shape: torch.Size([1, 128, 16, 16]), emb.shape: torch.Size([1, 128, 16, 16])\n",
      "Down: x.shape: torch.Size([1, 64, 32, 32]), emb.shape: torch.Size([1, 64, 32, 32])\n",
      "Down: x.shape: torch.Size([1, 64, 64, 64]), emb.shape: torch.Size([1, 64, 64, 64])\n",
      "Down: x.shape: torch.Size([1, 128, 32, 32]), emb.shape: torch.Size([1, 128, 32, 32])\n",
      "Down: x.shape: torch.Size([1, 256, 16, 16]), emb.shape: torch.Size([1, 256, 16, 16])\n",
      "Down: x.shape: torch.Size([1, 256, 8, 8]), emb.shape: torch.Size([1, 256, 8, 8])\n",
      "Down: x.shape: torch.Size([1, 128, 16, 16]), emb.shape: torch.Size([1, 128, 16, 16])\n",
      "Down: x.shape: torch.Size([1, 64, 32, 32]), emb.shape: torch.Size([1, 64, 32, 32])\n",
      "Down: x.shape: torch.Size([1, 64, 64, 64]), emb.shape: torch.Size([1, 64, 64, 64])\n",
      "Down: x.shape: torch.Size([1, 128, 32, 32]), emb.shape: torch.Size([1, 128, 32, 32])\n",
      "Down: x.shape: torch.Size([1, 256, 16, 16]), emb.shape: torch.Size([1, 256, 16, 16])\n",
      "Down: x.shape: torch.Size([1, 256, 8, 8]), emb.shape: torch.Size([1, 256, 8, 8])\n",
      "Down: x.shape: torch.Size([1, 128, 16, 16]), emb.shape: torch.Size([1, 128, 16, 16])\n",
      "Down: x.shape: torch.Size([1, 64, 32, 32]), emb.shape: torch.Size([1, 64, 32, 32])\n",
      "Down: x.shape: torch.Size([1, 64, 64, 64]), emb.shape: torch.Size([1, 64, 64, 64])\n"
     ]
    },
    {
     "name": "stderr",
     "output_type": "stream",
     "text": [
      "679it [00:31, 22.20it/s]"
     ]
    },
    {
     "name": "stdout",
     "output_type": "stream",
     "text": [
      "Down: x.shape: torch.Size([1, 128, 32, 32]), emb.shape: torch.Size([1, 128, 32, 32])\n",
      "Down: x.shape: torch.Size([1, 256, 16, 16]), emb.shape: torch.Size([1, 256, 16, 16])\n",
      "Down: x.shape: torch.Size([1, 256, 8, 8]), emb.shape: torch.Size([1, 256, 8, 8])\n",
      "Down: x.shape: torch.Size([1, 128, 16, 16]), emb.shape: torch.Size([1, 128, 16, 16])\n",
      "Down: x.shape: torch.Size([1, 64, 32, 32]), emb.shape: torch.Size([1, 64, 32, 32])\n",
      "Down: x.shape: torch.Size([1, 64, 64, 64]), emb.shape: torch.Size([1, 64, 64, 64])\n",
      "Down: x.shape: torch.Size([1, 128, 32, 32]), emb.shape: torch.Size([1, 128, 32, 32])\n",
      "Down: x.shape: torch.Size([1, 256, 16, 16]), emb.shape: torch.Size([1, 256, 16, 16])\n",
      "Down: x.shape: torch.Size([1, 256, 8, 8]), emb.shape: torch.Size([1, 256, 8, 8])\n",
      "Down: x.shape: torch.Size([1, 128, 16, 16]), emb.shape: torch.Size([1, 128, 16, 16])\n",
      "Down: x.shape: torch.Size([1, 64, 32, 32]), emb.shape: torch.Size([1, 64, 32, 32])\n",
      "Down: x.shape: torch.Size([1, 64, 64, 64]), emb.shape: torch.Size([1, 64, 64, 64])\n",
      "Down: x.shape: torch.Size([1, 128, 32, 32]), emb.shape: torch.Size([1, 128, 32, 32])\n",
      "Down: x.shape: torch.Size([1, 256, 16, 16]), emb.shape: torch.Size([1, 256, 16, 16])\n",
      "Down: x.shape: torch.Size([1, 256, 8, 8]), emb.shape: torch.Size([1, 256, 8, 8])\n",
      "Down: x.shape: torch.Size([1, 128, 16, 16]), emb.shape: torch.Size([1, 128, 16, 16])\n",
      "Down: x.shape: torch.Size([1, 64, 32, 32]), emb.shape: torch.Size([1, 64, 32, 32])\n",
      "Down: x.shape: torch.Size([1, 64, 64, 64]), emb.shape: torch.Size([1, 64, 64, 64])\n",
      "Down: x.shape: torch.Size([1, 128, 32, 32]), emb.shape: torch.Size([1, 128, 32, 32])\n",
      "Down: x.shape: torch.Size([1, 256, 16, 16]), emb.shape: torch.Size([1, 256, 16, 16])\n",
      "Down: x.shape: torch.Size([1, 256, 8, 8]), emb.shape: torch.Size([1, 256, 8, 8])\n",
      "Down: x.shape: torch.Size([1, 128, 16, 16]), emb.shape: torch.Size([1, 128, 16, 16])\n",
      "Down: x.shape: torch.Size([1, 64, 32, 32]), emb.shape: torch.Size([1, 64, 32, 32])\n",
      "Down: x.shape: torch.Size([1, 64, 64, 64]), emb.shape: torch.Size([1, 64, 64, 64])\n",
      "Down: x.shape: torch.Size([1, 128, 32, 32]), emb.shape: torch.Size([1, 128, 32, 32])\n",
      "Down: x.shape: torch.Size([1, 256, 16, 16]), emb.shape: torch.Size([1, 256, 16, 16])\n",
      "Down: x.shape: torch.Size([1, 256, 8, 8]), emb.shape: torch.Size([1, 256, 8, 8])\n",
      "Down: x.shape: torch.Size([1, 128, 16, 16]), emb.shape: torch.Size([1, 128, 16, 16])\n"
     ]
    },
    {
     "name": "stderr",
     "output_type": "stream",
     "text": [
      "685it [00:31, 22.20it/s]"
     ]
    },
    {
     "name": "stdout",
     "output_type": "stream",
     "text": [
      "Down: x.shape: torch.Size([1, 64, 32, 32]), emb.shape: torch.Size([1, 64, 32, 32])\n",
      "Down: x.shape: torch.Size([1, 64, 64, 64]), emb.shape: torch.Size([1, 64, 64, 64])\n",
      "Down: x.shape: torch.Size([1, 128, 32, 32]), emb.shape: torch.Size([1, 128, 32, 32])\n",
      "Down: x.shape: torch.Size([1, 256, 16, 16]), emb.shape: torch.Size([1, 256, 16, 16])\n",
      "Down: x.shape: torch.Size([1, 256, 8, 8]), emb.shape: torch.Size([1, 256, 8, 8])\n",
      "Down: x.shape: torch.Size([1, 128, 16, 16]), emb.shape: torch.Size([1, 128, 16, 16])\n",
      "Down: x.shape: torch.Size([1, 64, 32, 32]), emb.shape: torch.Size([1, 64, 32, 32])\n",
      "Down: x.shape: torch.Size([1, 64, 64, 64]), emb.shape: torch.Size([1, 64, 64, 64])\n",
      "Down: x.shape: torch.Size([1, 128, 32, 32]), emb.shape: torch.Size([1, 128, 32, 32])\n",
      "Down: x.shape: torch.Size([1, 256, 16, 16]), emb.shape: torch.Size([1, 256, 16, 16])\n",
      "Down: x.shape: torch.Size([1, 256, 8, 8]), emb.shape: torch.Size([1, 256, 8, 8])\n",
      "Down: x.shape: torch.Size([1, 128, 16, 16]), emb.shape: torch.Size([1, 128, 16, 16])\n",
      "Down: x.shape: torch.Size([1, 64, 32, 32]), emb.shape: torch.Size([1, 64, 32, 32])\n",
      "Down: x.shape: torch.Size([1, 64, 64, 64]), emb.shape: torch.Size([1, 64, 64, 64])\n",
      "Down: x.shape: torch.Size([1, 128, 32, 32]), emb.shape: torch.Size([1, 128, 32, 32])\n",
      "Down: x.shape: torch.Size([1, 256, 16, 16]), emb.shape: torch.Size([1, 256, 16, 16])\n",
      "Down: x.shape: torch.Size([1, 256, 8, 8]), emb.shape: torch.Size([1, 256, 8, 8])\n",
      "Down: x.shape: torch.Size([1, 128, 16, 16]), emb.shape: torch.Size([1, 128, 16, 16])\n",
      "Down: x.shape: torch.Size([1, 64, 32, 32]), emb.shape: torch.Size([1, 64, 32, 32])\n",
      "Down: x.shape: torch.Size([1, 64, 64, 64]), emb.shape: torch.Size([1, 64, 64, 64])\n",
      "Down: x.shape: torch.Size([1, 128, 32, 32]), emb.shape: torch.Size([1, 128, 32, 32])\n",
      "Down: x.shape: torch.Size([1, 256, 16, 16]), emb.shape: torch.Size([1, 256, 16, 16])\n",
      "Down: x.shape: torch.Size([1, 256, 8, 8]), emb.shape: torch.Size([1, 256, 8, 8])\n",
      "Down: x.shape: torch.Size([1, 128, 16, 16]), emb.shape: torch.Size([1, 128, 16, 16])\n",
      "Down: x.shape: torch.Size([1, 64, 32, 32]), emb.shape: torch.Size([1, 64, 32, 32])\n",
      "Down: x.shape: torch.Size([1, 64, 64, 64]), emb.shape: torch.Size([1, 64, 64, 64])\n"
     ]
    },
    {
     "name": "stderr",
     "output_type": "stream",
     "text": [
      "688it [00:31, 22.09it/s]"
     ]
    },
    {
     "name": "stdout",
     "output_type": "stream",
     "text": [
      "Down: x.shape: torch.Size([1, 128, 32, 32]), emb.shape: torch.Size([1, 128, 32, 32])\n",
      "Down: x.shape: torch.Size([1, 256, 16, 16]), emb.shape: torch.Size([1, 256, 16, 16])\n",
      "Down: x.shape: torch.Size([1, 256, 8, 8]), emb.shape: torch.Size([1, 256, 8, 8])\n",
      "Down: x.shape: torch.Size([1, 128, 16, 16]), emb.shape: torch.Size([1, 128, 16, 16])\n",
      "Down: x.shape: torch.Size([1, 64, 32, 32]), emb.shape: torch.Size([1, 64, 32, 32])\n",
      "Down: x.shape: torch.Size([1, 64, 64, 64]), emb.shape: torch.Size([1, 64, 64, 64])\n",
      "Down: x.shape: torch.Size([1, 128, 32, 32]), emb.shape: torch.Size([1, 128, 32, 32])\n",
      "Down: x.shape: torch.Size([1, 256, 16, 16]), emb.shape: torch.Size([1, 256, 16, 16])\n",
      "Down: x.shape: torch.Size([1, 256, 8, 8]), emb.shape: torch.Size([1, 256, 8, 8])\n",
      "Down: x.shape: torch.Size([1, 128, 16, 16]), emb.shape: torch.Size([1, 128, 16, 16])\n",
      "Down: x.shape: torch.Size([1, 64, 32, 32]), emb.shape: torch.Size([1, 64, 32, 32])\n",
      "Down: x.shape: torch.Size([1, 64, 64, 64]), emb.shape: torch.Size([1, 64, 64, 64])\n",
      "Down: x.shape: torch.Size([1, 128, 32, 32]), emb.shape: torch.Size([1, 128, 32, 32])\n",
      "Down: x.shape: torch.Size([1, 256, 16, 16]), emb.shape: torch.Size([1, 256, 16, 16])\n",
      "Down: x.shape: torch.Size([1, 256, 8, 8]), emb.shape: torch.Size([1, 256, 8, 8])\n",
      "Down: x.shape: torch.Size([1, 128, 16, 16]), emb.shape: torch.Size([1, 128, 16, 16])\n",
      "Down: x.shape: torch.Size([1, 64, 32, 32]), emb.shape: torch.Size([1, 64, 32, 32])\n",
      "Down: x.shape: torch.Size([1, 64, 64, 64]), emb.shape: torch.Size([1, 64, 64, 64])\n",
      "Down: x.shape: torch.Size([1, 128, 32, 32]), emb.shape: torch.Size([1, 128, 32, 32])\n",
      "Down: x.shape: torch.Size([1, 256, 16, 16]), emb.shape: torch.Size([1, 256, 16, 16])\n",
      "Down: x.shape: torch.Size([1, 256, 8, 8]), emb.shape: torch.Size([1, 256, 8, 8])\n",
      "Down: x.shape: torch.Size([1, 128, 16, 16]), emb.shape: torch.Size([1, 128, 16, 16])\n",
      "Down: x.shape: torch.Size([1, 64, 32, 32]), emb.shape: torch.Size([1, 64, 32, 32])\n",
      "Down: x.shape: torch.Size([1, 64, 64, 64]), emb.shape: torch.Size([1, 64, 64, 64])\n",
      "Down: x.shape: torch.Size([1, 128, 32, 32]), emb.shape: torch.Size([1, 128, 32, 32])\n",
      "Down: x.shape: torch.Size([1, 256, 16, 16]), emb.shape: torch.Size([1, 256, 16, 16])\n",
      "Down: x.shape: torch.Size([1, 256, 8, 8]), emb.shape: torch.Size([1, 256, 8, 8])\n",
      "Down: x.shape: torch.Size([1, 128, 16, 16]), emb.shape: torch.Size([1, 128, 16, 16])\n"
     ]
    },
    {
     "name": "stderr",
     "output_type": "stream",
     "text": [
      "694it [00:32, 22.25it/s]"
     ]
    },
    {
     "name": "stdout",
     "output_type": "stream",
     "text": [
      "Down: x.shape: torch.Size([1, 64, 32, 32]), emb.shape: torch.Size([1, 64, 32, 32])\n",
      "Down: x.shape: torch.Size([1, 64, 64, 64]), emb.shape: torch.Size([1, 64, 64, 64])\n",
      "Down: x.shape: torch.Size([1, 128, 32, 32]), emb.shape: torch.Size([1, 128, 32, 32])\n",
      "Down: x.shape: torch.Size([1, 256, 16, 16]), emb.shape: torch.Size([1, 256, 16, 16])\n",
      "Down: x.shape: torch.Size([1, 256, 8, 8]), emb.shape: torch.Size([1, 256, 8, 8])\n",
      "Down: x.shape: torch.Size([1, 128, 16, 16]), emb.shape: torch.Size([1, 128, 16, 16])\n",
      "Down: x.shape: torch.Size([1, 64, 32, 32]), emb.shape: torch.Size([1, 64, 32, 32])\n",
      "Down: x.shape: torch.Size([1, 64, 64, 64]), emb.shape: torch.Size([1, 64, 64, 64])\n",
      "Down: x.shape: torch.Size([1, 128, 32, 32]), emb.shape: torch.Size([1, 128, 32, 32])\n",
      "Down: x.shape: torch.Size([1, 256, 16, 16]), emb.shape: torch.Size([1, 256, 16, 16])\n",
      "Down: x.shape: torch.Size([1, 256, 8, 8]), emb.shape: torch.Size([1, 256, 8, 8])\n",
      "Down: x.shape: torch.Size([1, 128, 16, 16]), emb.shape: torch.Size([1, 128, 16, 16])\n",
      "Down: x.shape: torch.Size([1, 64, 32, 32]), emb.shape: torch.Size([1, 64, 32, 32])\n",
      "Down: x.shape: torch.Size([1, 64, 64, 64]), emb.shape: torch.Size([1, 64, 64, 64])\n",
      "Down: x.shape: torch.Size([1, 128, 32, 32]), emb.shape: torch.Size([1, 128, 32, 32])\n",
      "Down: x.shape: torch.Size([1, 256, 16, 16]), emb.shape: torch.Size([1, 256, 16, 16])\n",
      "Down: x.shape: torch.Size([1, 256, 8, 8]), emb.shape: torch.Size([1, 256, 8, 8])\n",
      "Down: x.shape: torch.Size([1, 128, 16, 16]), emb.shape: torch.Size([1, 128, 16, 16])\n",
      "Down: x.shape: torch.Size([1, 64, 32, 32]), emb.shape: torch.Size([1, 64, 32, 32])\n",
      "Down: x.shape: torch.Size([1, 64, 64, 64]), emb.shape: torch.Size([1, 64, 64, 64])\n",
      "Down: x.shape: torch.Size([1, 128, 32, 32]), emb.shape: torch.Size([1, 128, 32, 32])\n",
      "Down: x.shape: torch.Size([1, 256, 16, 16]), emb.shape: torch.Size([1, 256, 16, 16])\n",
      "Down: x.shape: torch.Size([1, 256, 8, 8]), emb.shape: torch.Size([1, 256, 8, 8])\n",
      "Down: x.shape: torch.Size([1, 128, 16, 16]), emb.shape: torch.Size([1, 128, 16, 16])\n",
      "Down: x.shape: torch.Size([1, 64, 32, 32]), emb.shape: torch.Size([1, 64, 32, 32])\n",
      "Down: x.shape: torch.Size([1, 64, 64, 64]), emb.shape: torch.Size([1, 64, 64, 64])\n"
     ]
    },
    {
     "name": "stderr",
     "output_type": "stream",
     "text": [
      "697it [00:32, 22.28it/s]"
     ]
    },
    {
     "name": "stdout",
     "output_type": "stream",
     "text": [
      "Down: x.shape: torch.Size([1, 128, 32, 32]), emb.shape: torch.Size([1, 128, 32, 32])\n",
      "Down: x.shape: torch.Size([1, 256, 16, 16]), emb.shape: torch.Size([1, 256, 16, 16])\n",
      "Down: x.shape: torch.Size([1, 256, 8, 8]), emb.shape: torch.Size([1, 256, 8, 8])\n",
      "Down: x.shape: torch.Size([1, 128, 16, 16]), emb.shape: torch.Size([1, 128, 16, 16])\n",
      "Down: x.shape: torch.Size([1, 64, 32, 32]), emb.shape: torch.Size([1, 64, 32, 32])\n",
      "Down: x.shape: torch.Size([1, 64, 64, 64]), emb.shape: torch.Size([1, 64, 64, 64])\n",
      "Down: x.shape: torch.Size([1, 128, 32, 32]), emb.shape: torch.Size([1, 128, 32, 32])\n",
      "Down: x.shape: torch.Size([1, 256, 16, 16]), emb.shape: torch.Size([1, 256, 16, 16])\n",
      "Down: x.shape: torch.Size([1, 256, 8, 8]), emb.shape: torch.Size([1, 256, 8, 8])\n",
      "Down: x.shape: torch.Size([1, 128, 16, 16]), emb.shape: torch.Size([1, 128, 16, 16])\n",
      "Down: x.shape: torch.Size([1, 64, 32, 32]), emb.shape: torch.Size([1, 64, 32, 32])\n",
      "Down: x.shape: torch.Size([1, 64, 64, 64]), emb.shape: torch.Size([1, 64, 64, 64])\n",
      "Down: x.shape: torch.Size([1, 128, 32, 32]), emb.shape: torch.Size([1, 128, 32, 32])\n",
      "Down: x.shape: torch.Size([1, 256, 16, 16]), emb.shape: torch.Size([1, 256, 16, 16])\n",
      "Down: x.shape: torch.Size([1, 256, 8, 8]), emb.shape: torch.Size([1, 256, 8, 8])\n",
      "Down: x.shape: torch.Size([1, 128, 16, 16]), emb.shape: torch.Size([1, 128, 16, 16])\n",
      "Down: x.shape: torch.Size([1, 64, 32, 32]), emb.shape: torch.Size([1, 64, 32, 32])\n",
      "Down: x.shape: torch.Size([1, 64, 64, 64]), emb.shape: torch.Size([1, 64, 64, 64])\n",
      "Down: x.shape: torch.Size([1, 128, 32, 32]), emb.shape: torch.Size([1, 128, 32, 32])\n",
      "Down: x.shape: torch.Size([1, 256, 16, 16]), emb.shape: torch.Size([1, 256, 16, 16])\n",
      "Down: x.shape: torch.Size([1, 256, 8, 8]), emb.shape: torch.Size([1, 256, 8, 8])\n",
      "Down: x.shape: torch.Size([1, 128, 16, 16]), emb.shape: torch.Size([1, 128, 16, 16])\n",
      "Down: x.shape: torch.Size([1, 64, 32, 32]), emb.shape: torch.Size([1, 64, 32, 32])\n",
      "Down: x.shape: torch.Size([1, 64, 64, 64]), emb.shape: torch.Size([1, 64, 64, 64])\n",
      "Down: x.shape: torch.Size([1, 128, 32, 32]), emb.shape: torch.Size([1, 128, 32, 32])\n",
      "Down: x.shape: torch.Size([1, 256, 16, 16]), emb.shape: torch.Size([1, 256, 16, 16])\n",
      "Down: x.shape: torch.Size([1, 256, 8, 8]), emb.shape: torch.Size([1, 256, 8, 8])\n",
      "Down: x.shape: torch.Size([1, 128, 16, 16]), emb.shape: torch.Size([1, 128, 16, 16])\n",
      "Down: x.shape: torch.Size([1, 64, 32, 32]), emb.shape: torch.Size([1, 64, 32, 32])\n",
      "Down: x.shape: torch.Size([1, 64, 64, 64]), emb.shape: torch.Size([1, 64, 64, 64])\n"
     ]
    },
    {
     "name": "stderr",
     "output_type": "stream",
     "text": [
      "703it [00:32, 22.15it/s]"
     ]
    },
    {
     "name": "stdout",
     "output_type": "stream",
     "text": [
      "Down: x.shape: torch.Size([1, 128, 32, 32]), emb.shape: torch.Size([1, 128, 32, 32])\n",
      "Down: x.shape: torch.Size([1, 256, 16, 16]), emb.shape: torch.Size([1, 256, 16, 16])\n",
      "Down: x.shape: torch.Size([1, 256, 8, 8]), emb.shape: torch.Size([1, 256, 8, 8])\n",
      "Down: x.shape: torch.Size([1, 128, 16, 16]), emb.shape: torch.Size([1, 128, 16, 16])\n",
      "Down: x.shape: torch.Size([1, 64, 32, 32]), emb.shape: torch.Size([1, 64, 32, 32])\n",
      "Down: x.shape: torch.Size([1, 64, 64, 64]), emb.shape: torch.Size([1, 64, 64, 64])\n",
      "Down: x.shape: torch.Size([1, 128, 32, 32]), emb.shape: torch.Size([1, 128, 32, 32])\n",
      "Down: x.shape: torch.Size([1, 256, 16, 16]), emb.shape: torch.Size([1, 256, 16, 16])\n",
      "Down: x.shape: torch.Size([1, 256, 8, 8]), emb.shape: torch.Size([1, 256, 8, 8])\n",
      "Down: x.shape: torch.Size([1, 128, 16, 16]), emb.shape: torch.Size([1, 128, 16, 16])\n",
      "Down: x.shape: torch.Size([1, 64, 32, 32]), emb.shape: torch.Size([1, 64, 32, 32])\n",
      "Down: x.shape: torch.Size([1, 64, 64, 64]), emb.shape: torch.Size([1, 64, 64, 64])\n",
      "Down: x.shape: torch.Size([1, 128, 32, 32]), emb.shape: torch.Size([1, 128, 32, 32])\n",
      "Down: x.shape: torch.Size([1, 256, 16, 16]), emb.shape: torch.Size([1, 256, 16, 16])\n",
      "Down: x.shape: torch.Size([1, 256, 8, 8]), emb.shape: torch.Size([1, 256, 8, 8])\n",
      "Down: x.shape: torch.Size([1, 128, 16, 16]), emb.shape: torch.Size([1, 128, 16, 16])\n",
      "Down: x.shape: torch.Size([1, 64, 32, 32]), emb.shape: torch.Size([1, 64, 32, 32])\n",
      "Down: x.shape: torch.Size([1, 64, 64, 64]), emb.shape: torch.Size([1, 64, 64, 64])\n",
      "Down: x.shape: torch.Size([1, 128, 32, 32]), emb.shape: torch.Size([1, 128, 32, 32])\n",
      "Down: x.shape: torch.Size([1, 256, 16, 16]), emb.shape: torch.Size([1, 256, 16, 16])\n",
      "Down: x.shape: torch.Size([1, 256, 8, 8]), emb.shape: torch.Size([1, 256, 8, 8])\n",
      "Down: x.shape: torch.Size([1, 128, 16, 16]), emb.shape: torch.Size([1, 128, 16, 16])\n",
      "Down: x.shape: torch.Size([1, 64, 32, 32]), emb.shape: torch.Size([1, 64, 32, 32])\n",
      "Down: x.shape: torch.Size([1, 64, 64, 64]), emb.shape: torch.Size([1, 64, 64, 64])\n",
      "Down: x.shape: torch.Size([1, 128, 32, 32]), emb.shape: torch.Size([1, 128, 32, 32])\n",
      "Down: x.shape: torch.Size([1, 256, 16, 16]), emb.shape: torch.Size([1, 256, 16, 16])\n",
      "Down: x.shape: torch.Size([1, 256, 8, 8]), emb.shape: torch.Size([1, 256, 8, 8])\n",
      "Down: x.shape: torch.Size([1, 128, 16, 16]), emb.shape: torch.Size([1, 128, 16, 16])\n",
      "Down: x.shape: torch.Size([1, 64, 32, 32]), emb.shape: torch.Size([1, 64, 32, 32])\n",
      "Down: x.shape: torch.Size([1, 64, 64, 64]), emb.shape: torch.Size([1, 64, 64, 64])\n"
     ]
    },
    {
     "name": "stderr",
     "output_type": "stream",
     "text": [
      "709it [00:32, 22.33it/s]"
     ]
    },
    {
     "name": "stdout",
     "output_type": "stream",
     "text": [
      "Down: x.shape: torch.Size([1, 128, 32, 32]), emb.shape: torch.Size([1, 128, 32, 32])\n",
      "Down: x.shape: torch.Size([1, 256, 16, 16]), emb.shape: torch.Size([1, 256, 16, 16])\n",
      "Down: x.shape: torch.Size([1, 256, 8, 8]), emb.shape: torch.Size([1, 256, 8, 8])\n",
      "Down: x.shape: torch.Size([1, 128, 16, 16]), emb.shape: torch.Size([1, 128, 16, 16])\n",
      "Down: x.shape: torch.Size([1, 64, 32, 32]), emb.shape: torch.Size([1, 64, 32, 32])\n",
      "Down: x.shape: torch.Size([1, 64, 64, 64]), emb.shape: torch.Size([1, 64, 64, 64])\n",
      "Down: x.shape: torch.Size([1, 128, 32, 32]), emb.shape: torch.Size([1, 128, 32, 32])\n",
      "Down: x.shape: torch.Size([1, 256, 16, 16]), emb.shape: torch.Size([1, 256, 16, 16])\n",
      "Down: x.shape: torch.Size([1, 256, 8, 8]), emb.shape: torch.Size([1, 256, 8, 8])\n",
      "Down: x.shape: torch.Size([1, 128, 16, 16]), emb.shape: torch.Size([1, 128, 16, 16])\n",
      "Down: x.shape: torch.Size([1, 64, 32, 32]), emb.shape: torch.Size([1, 64, 32, 32])\n",
      "Down: x.shape: torch.Size([1, 64, 64, 64]), emb.shape: torch.Size([1, 64, 64, 64])\n",
      "Down: x.shape: torch.Size([1, 128, 32, 32]), emb.shape: torch.Size([1, 128, 32, 32])\n",
      "Down: x.shape: torch.Size([1, 256, 16, 16]), emb.shape: torch.Size([1, 256, 16, 16])\n",
      "Down: x.shape: torch.Size([1, 256, 8, 8]), emb.shape: torch.Size([1, 256, 8, 8])\n",
      "Down: x.shape: torch.Size([1, 128, 16, 16]), emb.shape: torch.Size([1, 128, 16, 16])\n",
      "Down: x.shape: torch.Size([1, 64, 32, 32]), emb.shape: torch.Size([1, 64, 32, 32])\n",
      "Down: x.shape: torch.Size([1, 64, 64, 64]), emb.shape: torch.Size([1, 64, 64, 64])\n",
      "Down: x.shape: torch.Size([1, 128, 32, 32]), emb.shape: torch.Size([1, 128, 32, 32])\n",
      "Down: x.shape: torch.Size([1, 256, 16, 16]), emb.shape: torch.Size([1, 256, 16, 16])\n",
      "Down: x.shape: torch.Size([1, 256, 8, 8]), emb.shape: torch.Size([1, 256, 8, 8])\n",
      "Down: x.shape: torch.Size([1, 128, 16, 16]), emb.shape: torch.Size([1, 128, 16, 16])\n",
      "Down: x.shape: torch.Size([1, 64, 32, 32]), emb.shape: torch.Size([1, 64, 32, 32])\n",
      "Down: x.shape: torch.Size([1, 64, 64, 64]), emb.shape: torch.Size([1, 64, 64, 64])\n",
      "Down: x.shape: torch.Size([1, 128, 32, 32]), emb.shape: torch.Size([1, 128, 32, 32])\n",
      "Down: x.shape: torch.Size([1, 256, 16, 16]), emb.shape: torch.Size([1, 256, 16, 16])\n",
      "Down: x.shape: torch.Size([1, 256, 8, 8]), emb.shape: torch.Size([1, 256, 8, 8])\n",
      "Down: x.shape: torch.Size([1, 128, 16, 16]), emb.shape: torch.Size([1, 128, 16, 16])\n",
      "Down: x.shape: torch.Size([1, 64, 32, 32]), emb.shape: torch.Size([1, 64, 32, 32])\n",
      "Down: x.shape: torch.Size([1, 64, 64, 64]), emb.shape: torch.Size([1, 64, 64, 64])\n"
     ]
    },
    {
     "name": "stderr",
     "output_type": "stream",
     "text": [
      "712it [00:32, 22.24it/s]"
     ]
    },
    {
     "name": "stdout",
     "output_type": "stream",
     "text": [
      "Down: x.shape: torch.Size([1, 128, 32, 32]), emb.shape: torch.Size([1, 128, 32, 32])\n",
      "Down: x.shape: torch.Size([1, 256, 16, 16]), emb.shape: torch.Size([1, 256, 16, 16])\n",
      "Down: x.shape: torch.Size([1, 256, 8, 8]), emb.shape: torch.Size([1, 256, 8, 8])\n",
      "Down: x.shape: torch.Size([1, 128, 16, 16]), emb.shape: torch.Size([1, 128, 16, 16])\n",
      "Down: x.shape: torch.Size([1, 64, 32, 32]), emb.shape: torch.Size([1, 64, 32, 32])\n",
      "Down: x.shape: torch.Size([1, 64, 64, 64]), emb.shape: torch.Size([1, 64, 64, 64])\n",
      "Down: x.shape: torch.Size([1, 128, 32, 32]), emb.shape: torch.Size([1, 128, 32, 32])\n",
      "Down: x.shape: torch.Size([1, 256, 16, 16]), emb.shape: torch.Size([1, 256, 16, 16])\n",
      "Down: x.shape: torch.Size([1, 256, 8, 8]), emb.shape: torch.Size([1, 256, 8, 8])\n",
      "Down: x.shape: torch.Size([1, 128, 16, 16]), emb.shape: torch.Size([1, 128, 16, 16])\n",
      "Down: x.shape: torch.Size([1, 64, 32, 32]), emb.shape: torch.Size([1, 64, 32, 32])\n",
      "Down: x.shape: torch.Size([1, 64, 64, 64]), emb.shape: torch.Size([1, 64, 64, 64])\n",
      "Down: x.shape: torch.Size([1, 128, 32, 32]), emb.shape: torch.Size([1, 128, 32, 32])\n",
      "Down: x.shape: torch.Size([1, 256, 16, 16]), emb.shape: torch.Size([1, 256, 16, 16])\n",
      "Down: x.shape: torch.Size([1, 256, 8, 8]), emb.shape: torch.Size([1, 256, 8, 8])\n",
      "Down: x.shape: torch.Size([1, 128, 16, 16]), emb.shape: torch.Size([1, 128, 16, 16])\n",
      "Down: x.shape: torch.Size([1, 64, 32, 32]), emb.shape: torch.Size([1, 64, 32, 32])\n",
      "Down: x.shape: torch.Size([1, 64, 64, 64]), emb.shape: torch.Size([1, 64, 64, 64])\n",
      "Down: x.shape: torch.Size([1, 128, 32, 32]), emb.shape: torch.Size([1, 128, 32, 32])\n",
      "Down: x.shape: torch.Size([1, 256, 16, 16]), emb.shape: torch.Size([1, 256, 16, 16])\n",
      "Down: x.shape: torch.Size([1, 256, 8, 8]), emb.shape: torch.Size([1, 256, 8, 8])\n",
      "Down: x.shape: torch.Size([1, 128, 16, 16]), emb.shape: torch.Size([1, 128, 16, 16])\n",
      "Down: x.shape: torch.Size([1, 64, 32, 32]), emb.shape: torch.Size([1, 64, 32, 32])\n",
      "Down: x.shape: torch.Size([1, 64, 64, 64]), emb.shape: torch.Size([1, 64, 64, 64])\n",
      "Down: x.shape: torch.Size([1, 128, 32, 32]), emb.shape: torch.Size([1, 128, 32, 32])\n",
      "Down: x.shape: torch.Size([1, 256, 16, 16]), emb.shape: torch.Size([1, 256, 16, 16])\n"
     ]
    },
    {
     "name": "stderr",
     "output_type": "stream",
     "text": [
      "718it [00:33, 22.25it/s]"
     ]
    },
    {
     "name": "stdout",
     "output_type": "stream",
     "text": [
      "Down: x.shape: torch.Size([1, 256, 8, 8]), emb.shape: torch.Size([1, 256, 8, 8])\n",
      "Down: x.shape: torch.Size([1, 128, 16, 16]), emb.shape: torch.Size([1, 128, 16, 16])\n",
      "Down: x.shape: torch.Size([1, 64, 32, 32]), emb.shape: torch.Size([1, 64, 32, 32])\n",
      "Down: x.shape: torch.Size([1, 64, 64, 64]), emb.shape: torch.Size([1, 64, 64, 64])\n",
      "Down: x.shape: torch.Size([1, 128, 32, 32]), emb.shape: torch.Size([1, 128, 32, 32])\n",
      "Down: x.shape: torch.Size([1, 256, 16, 16]), emb.shape: torch.Size([1, 256, 16, 16])\n",
      "Down: x.shape: torch.Size([1, 256, 8, 8]), emb.shape: torch.Size([1, 256, 8, 8])\n",
      "Down: x.shape: torch.Size([1, 128, 16, 16]), emb.shape: torch.Size([1, 128, 16, 16])\n",
      "Down: x.shape: torch.Size([1, 64, 32, 32]), emb.shape: torch.Size([1, 64, 32, 32])\n",
      "Down: x.shape: torch.Size([1, 64, 64, 64]), emb.shape: torch.Size([1, 64, 64, 64])\n",
      "Down: x.shape: torch.Size([1, 128, 32, 32]), emb.shape: torch.Size([1, 128, 32, 32])\n",
      "Down: x.shape: torch.Size([1, 256, 16, 16]), emb.shape: torch.Size([1, 256, 16, 16])\n",
      "Down: x.shape: torch.Size([1, 256, 8, 8]), emb.shape: torch.Size([1, 256, 8, 8])\n",
      "Down: x.shape: torch.Size([1, 128, 16, 16]), emb.shape: torch.Size([1, 128, 16, 16])\n",
      "Down: x.shape: torch.Size([1, 64, 32, 32]), emb.shape: torch.Size([1, 64, 32, 32])\n",
      "Down: x.shape: torch.Size([1, 64, 64, 64]), emb.shape: torch.Size([1, 64, 64, 64])\n",
      "Down: x.shape: torch.Size([1, 128, 32, 32]), emb.shape: torch.Size([1, 128, 32, 32])\n",
      "Down: x.shape: torch.Size([1, 256, 16, 16]), emb.shape: torch.Size([1, 256, 16, 16])\n",
      "Down: x.shape: torch.Size([1, 256, 8, 8]), emb.shape: torch.Size([1, 256, 8, 8])\n",
      "Down: x.shape: torch.Size([1, 128, 16, 16]), emb.shape: torch.Size([1, 128, 16, 16])\n",
      "Down: x.shape: torch.Size([1, 64, 32, 32]), emb.shape: torch.Size([1, 64, 32, 32])\n",
      "Down: x.shape: torch.Size([1, 64, 64, 64]), emb.shape: torch.Size([1, 64, 64, 64])\n",
      "Down: x.shape: torch.Size([1, 128, 32, 32]), emb.shape: torch.Size([1, 128, 32, 32])\n",
      "Down: x.shape: torch.Size([1, 256, 16, 16]), emb.shape: torch.Size([1, 256, 16, 16])\n",
      "Down: x.shape: torch.Size([1, 256, 8, 8]), emb.shape: torch.Size([1, 256, 8, 8])\n",
      "Down: x.shape: torch.Size([1, 128, 16, 16]), emb.shape: torch.Size([1, 128, 16, 16])\n",
      "Down: x.shape: torch.Size([1, 64, 32, 32]), emb.shape: torch.Size([1, 64, 32, 32])\n",
      "Down: x.shape: torch.Size([1, 64, 64, 64]), emb.shape: torch.Size([1, 64, 64, 64])\n"
     ]
    },
    {
     "name": "stderr",
     "output_type": "stream",
     "text": [
      "721it [00:33, 22.26it/s]"
     ]
    },
    {
     "name": "stdout",
     "output_type": "stream",
     "text": [
      "Down: x.shape: torch.Size([1, 128, 32, 32]), emb.shape: torch.Size([1, 128, 32, 32])\n",
      "Down: x.shape: torch.Size([1, 256, 16, 16]), emb.shape: torch.Size([1, 256, 16, 16])\n",
      "Down: x.shape: torch.Size([1, 256, 8, 8]), emb.shape: torch.Size([1, 256, 8, 8])\n",
      "Down: x.shape: torch.Size([1, 128, 16, 16]), emb.shape: torch.Size([1, 128, 16, 16])\n",
      "Down: x.shape: torch.Size([1, 64, 32, 32]), emb.shape: torch.Size([1, 64, 32, 32])\n",
      "Down: x.shape: torch.Size([1, 64, 64, 64]), emb.shape: torch.Size([1, 64, 64, 64])\n",
      "Down: x.shape: torch.Size([1, 128, 32, 32]), emb.shape: torch.Size([1, 128, 32, 32])\n",
      "Down: x.shape: torch.Size([1, 256, 16, 16]), emb.shape: torch.Size([1, 256, 16, 16])\n",
      "Down: x.shape: torch.Size([1, 256, 8, 8]), emb.shape: torch.Size([1, 256, 8, 8])\n",
      "Down: x.shape: torch.Size([1, 128, 16, 16]), emb.shape: torch.Size([1, 128, 16, 16])\n",
      "Down: x.shape: torch.Size([1, 64, 32, 32]), emb.shape: torch.Size([1, 64, 32, 32])\n",
      "Down: x.shape: torch.Size([1, 64, 64, 64]), emb.shape: torch.Size([1, 64, 64, 64])\n",
      "Down: x.shape: torch.Size([1, 128, 32, 32]), emb.shape: torch.Size([1, 128, 32, 32])\n",
      "Down: x.shape: torch.Size([1, 256, 16, 16]), emb.shape: torch.Size([1, 256, 16, 16])\n",
      "Down: x.shape: torch.Size([1, 256, 8, 8]), emb.shape: torch.Size([1, 256, 8, 8])\n",
      "Down: x.shape: torch.Size([1, 128, 16, 16]), emb.shape: torch.Size([1, 128, 16, 16])\n",
      "Down: x.shape: torch.Size([1, 64, 32, 32]), emb.shape: torch.Size([1, 64, 32, 32])\n",
      "Down: x.shape: torch.Size([1, 64, 64, 64]), emb.shape: torch.Size([1, 64, 64, 64])\n",
      "Down: x.shape: torch.Size([1, 128, 32, 32]), emb.shape: torch.Size([1, 128, 32, 32])\n",
      "Down: x.shape: torch.Size([1, 256, 16, 16]), emb.shape: torch.Size([1, 256, 16, 16])\n",
      "Down: x.shape: torch.Size([1, 256, 8, 8]), emb.shape: torch.Size([1, 256, 8, 8])\n",
      "Down: x.shape: torch.Size([1, 128, 16, 16]), emb.shape: torch.Size([1, 128, 16, 16])\n",
      "Down: x.shape: torch.Size([1, 64, 32, 32]), emb.shape: torch.Size([1, 64, 32, 32])\n",
      "Down: x.shape: torch.Size([1, 64, 64, 64]), emb.shape: torch.Size([1, 64, 64, 64])\n",
      "Down: x.shape: torch.Size([1, 128, 32, 32]), emb.shape: torch.Size([1, 128, 32, 32])\n",
      "Down: x.shape: torch.Size([1, 256, 16, 16]), emb.shape: torch.Size([1, 256, 16, 16])\n",
      "Down: x.shape: torch.Size([1, 256, 8, 8]), emb.shape: torch.Size([1, 256, 8, 8])\n",
      "Down: x.shape: torch.Size([1, 128, 16, 16]), emb.shape: torch.Size([1, 128, 16, 16])\n",
      "Down: x.shape: torch.Size([1, 64, 32, 32]), emb.shape: torch.Size([1, 64, 32, 32])\n",
      "Down: x.shape: torch.Size([1, 64, 64, 64]), emb.shape: torch.Size([1, 64, 64, 64])\n"
     ]
    },
    {
     "name": "stderr",
     "output_type": "stream",
     "text": [
      "727it [00:33, 22.29it/s]"
     ]
    },
    {
     "name": "stdout",
     "output_type": "stream",
     "text": [
      "Down: x.shape: torch.Size([1, 128, 32, 32]), emb.shape: torch.Size([1, 128, 32, 32])\n",
      "Down: x.shape: torch.Size([1, 256, 16, 16]), emb.shape: torch.Size([1, 256, 16, 16])\n",
      "Down: x.shape: torch.Size([1, 256, 8, 8]), emb.shape: torch.Size([1, 256, 8, 8])\n",
      "Down: x.shape: torch.Size([1, 128, 16, 16]), emb.shape: torch.Size([1, 128, 16, 16])\n",
      "Down: x.shape: torch.Size([1, 64, 32, 32]), emb.shape: torch.Size([1, 64, 32, 32])\n",
      "Down: x.shape: torch.Size([1, 64, 64, 64]), emb.shape: torch.Size([1, 64, 64, 64])\n",
      "Down: x.shape: torch.Size([1, 128, 32, 32]), emb.shape: torch.Size([1, 128, 32, 32])\n",
      "Down: x.shape: torch.Size([1, 256, 16, 16]), emb.shape: torch.Size([1, 256, 16, 16])\n",
      "Down: x.shape: torch.Size([1, 256, 8, 8]), emb.shape: torch.Size([1, 256, 8, 8])\n",
      "Down: x.shape: torch.Size([1, 128, 16, 16]), emb.shape: torch.Size([1, 128, 16, 16])\n",
      "Down: x.shape: torch.Size([1, 64, 32, 32]), emb.shape: torch.Size([1, 64, 32, 32])\n",
      "Down: x.shape: torch.Size([1, 64, 64, 64]), emb.shape: torch.Size([1, 64, 64, 64])\n",
      "Down: x.shape: torch.Size([1, 128, 32, 32]), emb.shape: torch.Size([1, 128, 32, 32])\n",
      "Down: x.shape: torch.Size([1, 256, 16, 16]), emb.shape: torch.Size([1, 256, 16, 16])\n",
      "Down: x.shape: torch.Size([1, 256, 8, 8]), emb.shape: torch.Size([1, 256, 8, 8])\n",
      "Down: x.shape: torch.Size([1, 128, 16, 16]), emb.shape: torch.Size([1, 128, 16, 16])\n",
      "Down: x.shape: torch.Size([1, 64, 32, 32]), emb.shape: torch.Size([1, 64, 32, 32])\n",
      "Down: x.shape: torch.Size([1, 64, 64, 64]), emb.shape: torch.Size([1, 64, 64, 64])\n",
      "Down: x.shape: torch.Size([1, 128, 32, 32]), emb.shape: torch.Size([1, 128, 32, 32])\n",
      "Down: x.shape: torch.Size([1, 256, 16, 16]), emb.shape: torch.Size([1, 256, 16, 16])\n",
      "Down: x.shape: torch.Size([1, 256, 8, 8]), emb.shape: torch.Size([1, 256, 8, 8])\n",
      "Down: x.shape: torch.Size([1, 128, 16, 16]), emb.shape: torch.Size([1, 128, 16, 16])\n",
      "Down: x.shape: torch.Size([1, 64, 32, 32]), emb.shape: torch.Size([1, 64, 32, 32])\n",
      "Down: x.shape: torch.Size([1, 64, 64, 64]), emb.shape: torch.Size([1, 64, 64, 64])\n",
      "Down: x.shape: torch.Size([1, 128, 32, 32]), emb.shape: torch.Size([1, 128, 32, 32])\n",
      "Down: x.shape: torch.Size([1, 256, 16, 16]), emb.shape: torch.Size([1, 256, 16, 16])\n",
      "Down: x.shape: torch.Size([1, 256, 8, 8]), emb.shape: torch.Size([1, 256, 8, 8])\n",
      "Down: x.shape: torch.Size([1, 128, 16, 16]), emb.shape: torch.Size([1, 128, 16, 16])\n",
      "Down: x.shape: torch.Size([1, 64, 32, 32]), emb.shape: torch.Size([1, 64, 32, 32])\n",
      "Down: x.shape: torch.Size([1, 64, 64, 64]), emb.shape: torch.Size([1, 64, 64, 64])\n"
     ]
    },
    {
     "name": "stderr",
     "output_type": "stream",
     "text": [
      "733it [00:33, 22.28it/s]"
     ]
    },
    {
     "name": "stdout",
     "output_type": "stream",
     "text": [
      "Down: x.shape: torch.Size([1, 128, 32, 32]), emb.shape: torch.Size([1, 128, 32, 32])\n",
      "Down: x.shape: torch.Size([1, 256, 16, 16]), emb.shape: torch.Size([1, 256, 16, 16])\n",
      "Down: x.shape: torch.Size([1, 256, 8, 8]), emb.shape: torch.Size([1, 256, 8, 8])\n",
      "Down: x.shape: torch.Size([1, 128, 16, 16]), emb.shape: torch.Size([1, 128, 16, 16])\n",
      "Down: x.shape: torch.Size([1, 64, 32, 32]), emb.shape: torch.Size([1, 64, 32, 32])\n",
      "Down: x.shape: torch.Size([1, 64, 64, 64]), emb.shape: torch.Size([1, 64, 64, 64])\n",
      "Down: x.shape: torch.Size([1, 128, 32, 32]), emb.shape: torch.Size([1, 128, 32, 32])\n",
      "Down: x.shape: torch.Size([1, 256, 16, 16]), emb.shape: torch.Size([1, 256, 16, 16])\n",
      "Down: x.shape: torch.Size([1, 256, 8, 8]), emb.shape: torch.Size([1, 256, 8, 8])\n",
      "Down: x.shape: torch.Size([1, 128, 16, 16]), emb.shape: torch.Size([1, 128, 16, 16])\n",
      "Down: x.shape: torch.Size([1, 64, 32, 32]), emb.shape: torch.Size([1, 64, 32, 32])\n",
      "Down: x.shape: torch.Size([1, 64, 64, 64]), emb.shape: torch.Size([1, 64, 64, 64])\n",
      "Down: x.shape: torch.Size([1, 128, 32, 32]), emb.shape: torch.Size([1, 128, 32, 32])\n",
      "Down: x.shape: torch.Size([1, 256, 16, 16]), emb.shape: torch.Size([1, 256, 16, 16])\n",
      "Down: x.shape: torch.Size([1, 256, 8, 8]), emb.shape: torch.Size([1, 256, 8, 8])\n",
      "Down: x.shape: torch.Size([1, 128, 16, 16]), emb.shape: torch.Size([1, 128, 16, 16])\n",
      "Down: x.shape: torch.Size([1, 64, 32, 32]), emb.shape: torch.Size([1, 64, 32, 32])\n",
      "Down: x.shape: torch.Size([1, 64, 64, 64]), emb.shape: torch.Size([1, 64, 64, 64])\n",
      "Down: x.shape: torch.Size([1, 128, 32, 32]), emb.shape: torch.Size([1, 128, 32, 32])\n",
      "Down: x.shape: torch.Size([1, 256, 16, 16]), emb.shape: torch.Size([1, 256, 16, 16])\n",
      "Down: x.shape: torch.Size([1, 256, 8, 8]), emb.shape: torch.Size([1, 256, 8, 8])\n",
      "Down: x.shape: torch.Size([1, 128, 16, 16]), emb.shape: torch.Size([1, 128, 16, 16])\n",
      "Down: x.shape: torch.Size([1, 64, 32, 32]), emb.shape: torch.Size([1, 64, 32, 32])\n",
      "Down: x.shape: torch.Size([1, 64, 64, 64]), emb.shape: torch.Size([1, 64, 64, 64])\n",
      "Down: x.shape: torch.Size([1, 128, 32, 32]), emb.shape: torch.Size([1, 128, 32, 32])\n",
      "Down: x.shape: torch.Size([1, 256, 16, 16]), emb.shape: torch.Size([1, 256, 16, 16])\n",
      "Down: x.shape: torch.Size([1, 256, 8, 8]), emb.shape: torch.Size([1, 256, 8, 8])\n",
      "Down: x.shape: torch.Size([1, 128, 16, 16]), emb.shape: torch.Size([1, 128, 16, 16])\n",
      "Down: x.shape: torch.Size([1, 64, 32, 32]), emb.shape: torch.Size([1, 64, 32, 32])\n",
      "Down: x.shape: torch.Size([1, 64, 64, 64]), emb.shape: torch.Size([1, 64, 64, 64])\n"
     ]
    },
    {
     "name": "stderr",
     "output_type": "stream",
     "text": [
      "736it [00:33, 22.08it/s]"
     ]
    },
    {
     "name": "stdout",
     "output_type": "stream",
     "text": [
      "Down: x.shape: torch.Size([1, 128, 32, 32]), emb.shape: torch.Size([1, 128, 32, 32])\n",
      "Down: x.shape: torch.Size([1, 256, 16, 16]), emb.shape: torch.Size([1, 256, 16, 16])\n",
      "Down: x.shape: torch.Size([1, 256, 8, 8]), emb.shape: torch.Size([1, 256, 8, 8])\n",
      "Down: x.shape: torch.Size([1, 128, 16, 16]), emb.shape: torch.Size([1, 128, 16, 16])\n",
      "Down: x.shape: torch.Size([1, 64, 32, 32]), emb.shape: torch.Size([1, 64, 32, 32])\n",
      "Down: x.shape: torch.Size([1, 64, 64, 64]), emb.shape: torch.Size([1, 64, 64, 64])\n",
      "Down: x.shape: torch.Size([1, 128, 32, 32]), emb.shape: torch.Size([1, 128, 32, 32])\n",
      "Down: x.shape: torch.Size([1, 256, 16, 16]), emb.shape: torch.Size([1, 256, 16, 16])\n",
      "Down: x.shape: torch.Size([1, 256, 8, 8]), emb.shape: torch.Size([1, 256, 8, 8])\n",
      "Down: x.shape: torch.Size([1, 128, 16, 16]), emb.shape: torch.Size([1, 128, 16, 16])\n",
      "Down: x.shape: torch.Size([1, 64, 32, 32]), emb.shape: torch.Size([1, 64, 32, 32])\n",
      "Down: x.shape: torch.Size([1, 64, 64, 64]), emb.shape: torch.Size([1, 64, 64, 64])\n",
      "Down: x.shape: torch.Size([1, 128, 32, 32]), emb.shape: torch.Size([1, 128, 32, 32])\n",
      "Down: x.shape: torch.Size([1, 256, 16, 16]), emb.shape: torch.Size([1, 256, 16, 16])\n",
      "Down: x.shape: torch.Size([1, 256, 8, 8]), emb.shape: torch.Size([1, 256, 8, 8])\n",
      "Down: x.shape: torch.Size([1, 128, 16, 16]), emb.shape: torch.Size([1, 128, 16, 16])\n",
      "Down: x.shape: torch.Size([1, 64, 32, 32]), emb.shape: torch.Size([1, 64, 32, 32])\n",
      "Down: x.shape: torch.Size([1, 64, 64, 64]), emb.shape: torch.Size([1, 64, 64, 64])\n",
      "Down: x.shape: torch.Size([1, 128, 32, 32]), emb.shape: torch.Size([1, 128, 32, 32])\n",
      "Down: x.shape: torch.Size([1, 256, 16, 16]), emb.shape: torch.Size([1, 256, 16, 16])\n",
      "Down: x.shape: torch.Size([1, 256, 8, 8]), emb.shape: torch.Size([1, 256, 8, 8])\n",
      "Down: x.shape: torch.Size([1, 128, 16, 16]), emb.shape: torch.Size([1, 128, 16, 16])\n",
      "Down: x.shape: torch.Size([1, 64, 32, 32]), emb.shape: torch.Size([1, 64, 32, 32])\n",
      "Down: x.shape: torch.Size([1, 64, 64, 64]), emb.shape: torch.Size([1, 64, 64, 64])\n",
      "Down: x.shape: torch.Size([1, 128, 32, 32]), emb.shape: torch.Size([1, 128, 32, 32])\n",
      "Down: x.shape: torch.Size([1, 256, 16, 16]), emb.shape: torch.Size([1, 256, 16, 16])\n",
      "Down: x.shape: torch.Size([1, 256, 8, 8]), emb.shape: torch.Size([1, 256, 8, 8])\n",
      "Down: x.shape: torch.Size([1, 128, 16, 16]), emb.shape: torch.Size([1, 128, 16, 16])\n",
      "Down: x.shape: torch.Size([1, 64, 32, 32]), emb.shape: torch.Size([1, 64, 32, 32])\n",
      "Down: x.shape: torch.Size([1, 64, 64, 64]), emb.shape: torch.Size([1, 64, 64, 64])\n"
     ]
    },
    {
     "name": "stderr",
     "output_type": "stream",
     "text": [
      "742it [00:34, 22.26it/s]"
     ]
    },
    {
     "name": "stdout",
     "output_type": "stream",
     "text": [
      "Down: x.shape: torch.Size([1, 128, 32, 32]), emb.shape: torch.Size([1, 128, 32, 32])\n",
      "Down: x.shape: torch.Size([1, 256, 16, 16]), emb.shape: torch.Size([1, 256, 16, 16])\n",
      "Down: x.shape: torch.Size([1, 256, 8, 8]), emb.shape: torch.Size([1, 256, 8, 8])\n",
      "Down: x.shape: torch.Size([1, 128, 16, 16]), emb.shape: torch.Size([1, 128, 16, 16])\n",
      "Down: x.shape: torch.Size([1, 64, 32, 32]), emb.shape: torch.Size([1, 64, 32, 32])\n",
      "Down: x.shape: torch.Size([1, 64, 64, 64]), emb.shape: torch.Size([1, 64, 64, 64])\n",
      "Down: x.shape: torch.Size([1, 128, 32, 32]), emb.shape: torch.Size([1, 128, 32, 32])\n",
      "Down: x.shape: torch.Size([1, 256, 16, 16]), emb.shape: torch.Size([1, 256, 16, 16])\n",
      "Down: x.shape: torch.Size([1, 256, 8, 8]), emb.shape: torch.Size([1, 256, 8, 8])\n",
      "Down: x.shape: torch.Size([1, 128, 16, 16]), emb.shape: torch.Size([1, 128, 16, 16])\n",
      "Down: x.shape: torch.Size([1, 64, 32, 32]), emb.shape: torch.Size([1, 64, 32, 32])\n",
      "Down: x.shape: torch.Size([1, 64, 64, 64]), emb.shape: torch.Size([1, 64, 64, 64])\n",
      "Down: x.shape: torch.Size([1, 128, 32, 32]), emb.shape: torch.Size([1, 128, 32, 32])\n",
      "Down: x.shape: torch.Size([1, 256, 16, 16]), emb.shape: torch.Size([1, 256, 16, 16])\n",
      "Down: x.shape: torch.Size([1, 256, 8, 8]), emb.shape: torch.Size([1, 256, 8, 8])\n",
      "Down: x.shape: torch.Size([1, 128, 16, 16]), emb.shape: torch.Size([1, 128, 16, 16])\n",
      "Down: x.shape: torch.Size([1, 64, 32, 32]), emb.shape: torch.Size([1, 64, 32, 32])\n",
      "Down: x.shape: torch.Size([1, 64, 64, 64]), emb.shape: torch.Size([1, 64, 64, 64])\n",
      "Down: x.shape: torch.Size([1, 128, 32, 32]), emb.shape: torch.Size([1, 128, 32, 32])\n",
      "Down: x.shape: torch.Size([1, 256, 16, 16]), emb.shape: torch.Size([1, 256, 16, 16])\n",
      "Down: x.shape: torch.Size([1, 256, 8, 8]), emb.shape: torch.Size([1, 256, 8, 8])\n",
      "Down: x.shape: torch.Size([1, 128, 16, 16]), emb.shape: torch.Size([1, 128, 16, 16])\n",
      "Down: x.shape: torch.Size([1, 64, 32, 32]), emb.shape: torch.Size([1, 64, 32, 32])\n",
      "Down: x.shape: torch.Size([1, 64, 64, 64]), emb.shape: torch.Size([1, 64, 64, 64])\n",
      "Down: x.shape: torch.Size([1, 128, 32, 32]), emb.shape: torch.Size([1, 128, 32, 32])\n",
      "Down: x.shape: torch.Size([1, 256, 16, 16]), emb.shape: torch.Size([1, 256, 16, 16])\n",
      "Down: x.shape: torch.Size([1, 256, 8, 8]), emb.shape: torch.Size([1, 256, 8, 8])\n",
      "Down: x.shape: torch.Size([1, 128, 16, 16]), emb.shape: torch.Size([1, 128, 16, 16])\n",
      "Down: x.shape: torch.Size([1, 64, 32, 32]), emb.shape: torch.Size([1, 64, 32, 32])\n",
      "Down: x.shape: torch.Size([1, 64, 64, 64]), emb.shape: torch.Size([1, 64, 64, 64])\n"
     ]
    },
    {
     "name": "stderr",
     "output_type": "stream",
     "text": [
      "748it [00:34, 22.35it/s]"
     ]
    },
    {
     "name": "stdout",
     "output_type": "stream",
     "text": [
      "Down: x.shape: torch.Size([1, 128, 32, 32]), emb.shape: torch.Size([1, 128, 32, 32])\n",
      "Down: x.shape: torch.Size([1, 256, 16, 16]), emb.shape: torch.Size([1, 256, 16, 16])\n",
      "Down: x.shape: torch.Size([1, 256, 8, 8]), emb.shape: torch.Size([1, 256, 8, 8])\n",
      "Down: x.shape: torch.Size([1, 128, 16, 16]), emb.shape: torch.Size([1, 128, 16, 16])\n",
      "Down: x.shape: torch.Size([1, 64, 32, 32]), emb.shape: torch.Size([1, 64, 32, 32])\n",
      "Down: x.shape: torch.Size([1, 64, 64, 64]), emb.shape: torch.Size([1, 64, 64, 64])\n",
      "Down: x.shape: torch.Size([1, 128, 32, 32]), emb.shape: torch.Size([1, 128, 32, 32])\n",
      "Down: x.shape: torch.Size([1, 256, 16, 16]), emb.shape: torch.Size([1, 256, 16, 16])\n",
      "Down: x.shape: torch.Size([1, 256, 8, 8]), emb.shape: torch.Size([1, 256, 8, 8])\n",
      "Down: x.shape: torch.Size([1, 128, 16, 16]), emb.shape: torch.Size([1, 128, 16, 16])\n",
      "Down: x.shape: torch.Size([1, 64, 32, 32]), emb.shape: torch.Size([1, 64, 32, 32])\n",
      "Down: x.shape: torch.Size([1, 64, 64, 64]), emb.shape: torch.Size([1, 64, 64, 64])\n",
      "Down: x.shape: torch.Size([1, 128, 32, 32]), emb.shape: torch.Size([1, 128, 32, 32])\n",
      "Down: x.shape: torch.Size([1, 256, 16, 16]), emb.shape: torch.Size([1, 256, 16, 16])\n",
      "Down: x.shape: torch.Size([1, 256, 8, 8]), emb.shape: torch.Size([1, 256, 8, 8])\n",
      "Down: x.shape: torch.Size([1, 128, 16, 16]), emb.shape: torch.Size([1, 128, 16, 16])\n",
      "Down: x.shape: torch.Size([1, 64, 32, 32]), emb.shape: torch.Size([1, 64, 32, 32])\n",
      "Down: x.shape: torch.Size([1, 64, 64, 64]), emb.shape: torch.Size([1, 64, 64, 64])\n",
      "Down: x.shape: torch.Size([1, 128, 32, 32]), emb.shape: torch.Size([1, 128, 32, 32])\n",
      "Down: x.shape: torch.Size([1, 256, 16, 16]), emb.shape: torch.Size([1, 256, 16, 16])\n",
      "Down: x.shape: torch.Size([1, 256, 8, 8]), emb.shape: torch.Size([1, 256, 8, 8])\n",
      "Down: x.shape: torch.Size([1, 128, 16, 16]), emb.shape: torch.Size([1, 128, 16, 16])\n",
      "Down: x.shape: torch.Size([1, 64, 32, 32]), emb.shape: torch.Size([1, 64, 32, 32])\n",
      "Down: x.shape: torch.Size([1, 64, 64, 64]), emb.shape: torch.Size([1, 64, 64, 64])\n",
      "Down: x.shape: torch.Size([1, 128, 32, 32]), emb.shape: torch.Size([1, 128, 32, 32])\n",
      "Down: x.shape: torch.Size([1, 256, 16, 16]), emb.shape: torch.Size([1, 256, 16, 16])\n",
      "Down: x.shape: torch.Size([1, 256, 8, 8]), emb.shape: torch.Size([1, 256, 8, 8])\n",
      "Down: x.shape: torch.Size([1, 128, 16, 16]), emb.shape: torch.Size([1, 128, 16, 16])\n",
      "Down: x.shape: torch.Size([1, 64, 32, 32]), emb.shape: torch.Size([1, 64, 32, 32])\n",
      "Down: x.shape: torch.Size([1, 64, 64, 64]), emb.shape: torch.Size([1, 64, 64, 64])\n"
     ]
    },
    {
     "name": "stderr",
     "output_type": "stream",
     "text": [
      "751it [00:34, 22.30it/s]"
     ]
    },
    {
     "name": "stdout",
     "output_type": "stream",
     "text": [
      "Down: x.shape: torch.Size([1, 128, 32, 32]), emb.shape: torch.Size([1, 128, 32, 32])\n",
      "Down: x.shape: torch.Size([1, 256, 16, 16]), emb.shape: torch.Size([1, 256, 16, 16])\n",
      "Down: x.shape: torch.Size([1, 256, 8, 8]), emb.shape: torch.Size([1, 256, 8, 8])\n",
      "Down: x.shape: torch.Size([1, 128, 16, 16]), emb.shape: torch.Size([1, 128, 16, 16])\n",
      "Down: x.shape: torch.Size([1, 64, 32, 32]), emb.shape: torch.Size([1, 64, 32, 32])\n",
      "Down: x.shape: torch.Size([1, 64, 64, 64]), emb.shape: torch.Size([1, 64, 64, 64])\n",
      "Down: x.shape: torch.Size([1, 128, 32, 32]), emb.shape: torch.Size([1, 128, 32, 32])\n",
      "Down: x.shape: torch.Size([1, 256, 16, 16]), emb.shape: torch.Size([1, 256, 16, 16])\n",
      "Down: x.shape: torch.Size([1, 256, 8, 8]), emb.shape: torch.Size([1, 256, 8, 8])\n",
      "Down: x.shape: torch.Size([1, 128, 16, 16]), emb.shape: torch.Size([1, 128, 16, 16])\n",
      "Down: x.shape: torch.Size([1, 64, 32, 32]), emb.shape: torch.Size([1, 64, 32, 32])\n",
      "Down: x.shape: torch.Size([1, 64, 64, 64]), emb.shape: torch.Size([1, 64, 64, 64])\n",
      "Down: x.shape: torch.Size([1, 128, 32, 32]), emb.shape: torch.Size([1, 128, 32, 32])\n",
      "Down: x.shape: torch.Size([1, 256, 16, 16]), emb.shape: torch.Size([1, 256, 16, 16])\n",
      "Down: x.shape: torch.Size([1, 256, 8, 8]), emb.shape: torch.Size([1, 256, 8, 8])\n",
      "Down: x.shape: torch.Size([1, 128, 16, 16]), emb.shape: torch.Size([1, 128, 16, 16])\n",
      "Down: x.shape: torch.Size([1, 64, 32, 32]), emb.shape: torch.Size([1, 64, 32, 32])\n",
      "Down: x.shape: torch.Size([1, 64, 64, 64]), emb.shape: torch.Size([1, 64, 64, 64])\n",
      "Down: x.shape: torch.Size([1, 128, 32, 32]), emb.shape: torch.Size([1, 128, 32, 32])\n",
      "Down: x.shape: torch.Size([1, 256, 16, 16]), emb.shape: torch.Size([1, 256, 16, 16])\n",
      "Down: x.shape: torch.Size([1, 256, 8, 8]), emb.shape: torch.Size([1, 256, 8, 8])\n",
      "Down: x.shape: torch.Size([1, 128, 16, 16]), emb.shape: torch.Size([1, 128, 16, 16])\n",
      "Down: x.shape: torch.Size([1, 64, 32, 32]), emb.shape: torch.Size([1, 64, 32, 32])\n",
      "Down: x.shape: torch.Size([1, 64, 64, 64]), emb.shape: torch.Size([1, 64, 64, 64])\n",
      "Down: x.shape: torch.Size([1, 128, 32, 32]), emb.shape: torch.Size([1, 128, 32, 32])\n",
      "Down: x.shape: torch.Size([1, 256, 16, 16]), emb.shape: torch.Size([1, 256, 16, 16])\n",
      "Down: x.shape: torch.Size([1, 256, 8, 8]), emb.shape: torch.Size([1, 256, 8, 8])\n",
      "Down: x.shape: torch.Size([1, 128, 16, 16]), emb.shape: torch.Size([1, 128, 16, 16])\n",
      "Down: x.shape: torch.Size([1, 64, 32, 32]), emb.shape: torch.Size([1, 64, 32, 32])\n",
      "Down: x.shape: torch.Size([1, 64, 64, 64]), emb.shape: torch.Size([1, 64, 64, 64])\n"
     ]
    },
    {
     "name": "stderr",
     "output_type": "stream",
     "text": [
      "757it [00:34, 22.35it/s]"
     ]
    },
    {
     "name": "stdout",
     "output_type": "stream",
     "text": [
      "Down: x.shape: torch.Size([1, 128, 32, 32]), emb.shape: torch.Size([1, 128, 32, 32])\n",
      "Down: x.shape: torch.Size([1, 256, 16, 16]), emb.shape: torch.Size([1, 256, 16, 16])\n",
      "Down: x.shape: torch.Size([1, 256, 8, 8]), emb.shape: torch.Size([1, 256, 8, 8])\n",
      "Down: x.shape: torch.Size([1, 128, 16, 16]), emb.shape: torch.Size([1, 128, 16, 16])\n",
      "Down: x.shape: torch.Size([1, 64, 32, 32]), emb.shape: torch.Size([1, 64, 32, 32])\n",
      "Down: x.shape: torch.Size([1, 64, 64, 64]), emb.shape: torch.Size([1, 64, 64, 64])\n",
      "Down: x.shape: torch.Size([1, 128, 32, 32]), emb.shape: torch.Size([1, 128, 32, 32])\n",
      "Down: x.shape: torch.Size([1, 256, 16, 16]), emb.shape: torch.Size([1, 256, 16, 16])\n",
      "Down: x.shape: torch.Size([1, 256, 8, 8]), emb.shape: torch.Size([1, 256, 8, 8])\n",
      "Down: x.shape: torch.Size([1, 128, 16, 16]), emb.shape: torch.Size([1, 128, 16, 16])\n",
      "Down: x.shape: torch.Size([1, 64, 32, 32]), emb.shape: torch.Size([1, 64, 32, 32])\n",
      "Down: x.shape: torch.Size([1, 64, 64, 64]), emb.shape: torch.Size([1, 64, 64, 64])\n",
      "Down: x.shape: torch.Size([1, 128, 32, 32]), emb.shape: torch.Size([1, 128, 32, 32])\n",
      "Down: x.shape: torch.Size([1, 256, 16, 16]), emb.shape: torch.Size([1, 256, 16, 16])\n",
      "Down: x.shape: torch.Size([1, 256, 8, 8]), emb.shape: torch.Size([1, 256, 8, 8])\n",
      "Down: x.shape: torch.Size([1, 128, 16, 16]), emb.shape: torch.Size([1, 128, 16, 16])\n",
      "Down: x.shape: torch.Size([1, 64, 32, 32]), emb.shape: torch.Size([1, 64, 32, 32])\n",
      "Down: x.shape: torch.Size([1, 64, 64, 64]), emb.shape: torch.Size([1, 64, 64, 64])\n",
      "Down: x.shape: torch.Size([1, 128, 32, 32]), emb.shape: torch.Size([1, 128, 32, 32])\n",
      "Down: x.shape: torch.Size([1, 256, 16, 16]), emb.shape: torch.Size([1, 256, 16, 16])\n",
      "Down: x.shape: torch.Size([1, 256, 8, 8]), emb.shape: torch.Size([1, 256, 8, 8])\n",
      "Down: x.shape: torch.Size([1, 128, 16, 16]), emb.shape: torch.Size([1, 128, 16, 16])\n",
      "Down: x.shape: torch.Size([1, 64, 32, 32]), emb.shape: torch.Size([1, 64, 32, 32])\n",
      "Down: x.shape: torch.Size([1, 64, 64, 64]), emb.shape: torch.Size([1, 64, 64, 64])\n",
      "Down: x.shape: torch.Size([1, 128, 32, 32]), emb.shape: torch.Size([1, 128, 32, 32])\n",
      "Down: x.shape: torch.Size([1, 256, 16, 16]), emb.shape: torch.Size([1, 256, 16, 16])\n",
      "Down: x.shape: torch.Size([1, 256, 8, 8]), emb.shape: torch.Size([1, 256, 8, 8])\n",
      "Down: x.shape: torch.Size([1, 128, 16, 16]), emb.shape: torch.Size([1, 128, 16, 16])\n",
      "Down: x.shape: torch.Size([1, 64, 32, 32]), emb.shape: torch.Size([1, 64, 32, 32])\n",
      "Down: x.shape: torch.Size([1, 64, 64, 64]), emb.shape: torch.Size([1, 64, 64, 64])\n"
     ]
    },
    {
     "name": "stderr",
     "output_type": "stream",
     "text": [
      "760it [00:35, 22.25it/s]"
     ]
    },
    {
     "name": "stdout",
     "output_type": "stream",
     "text": [
      "Down: x.shape: torch.Size([1, 128, 32, 32]), emb.shape: torch.Size([1, 128, 32, 32])\n",
      "Down: x.shape: torch.Size([1, 256, 16, 16]), emb.shape: torch.Size([1, 256, 16, 16])\n",
      "Down: x.shape: torch.Size([1, 256, 8, 8]), emb.shape: torch.Size([1, 256, 8, 8])\n",
      "Down: x.shape: torch.Size([1, 128, 16, 16]), emb.shape: torch.Size([1, 128, 16, 16])\n",
      "Down: x.shape: torch.Size([1, 64, 32, 32]), emb.shape: torch.Size([1, 64, 32, 32])\n",
      "Down: x.shape: torch.Size([1, 64, 64, 64]), emb.shape: torch.Size([1, 64, 64, 64])\n",
      "Down: x.shape: torch.Size([1, 128, 32, 32]), emb.shape: torch.Size([1, 128, 32, 32])\n",
      "Down: x.shape: torch.Size([1, 256, 16, 16]), emb.shape: torch.Size([1, 256, 16, 16])\n",
      "Down: x.shape: torch.Size([1, 256, 8, 8]), emb.shape: torch.Size([1, 256, 8, 8])\n",
      "Down: x.shape: torch.Size([1, 128, 16, 16]), emb.shape: torch.Size([1, 128, 16, 16])\n",
      "Down: x.shape: torch.Size([1, 64, 32, 32]), emb.shape: torch.Size([1, 64, 32, 32])\n",
      "Down: x.shape: torch.Size([1, 64, 64, 64]), emb.shape: torch.Size([1, 64, 64, 64])\n",
      "Down: x.shape: torch.Size([1, 128, 32, 32]), emb.shape: torch.Size([1, 128, 32, 32])\n",
      "Down: x.shape: torch.Size([1, 256, 16, 16]), emb.shape: torch.Size([1, 256, 16, 16])\n",
      "Down: x.shape: torch.Size([1, 256, 8, 8]), emb.shape: torch.Size([1, 256, 8, 8])\n",
      "Down: x.shape: torch.Size([1, 128, 16, 16]), emb.shape: torch.Size([1, 128, 16, 16])\n",
      "Down: x.shape: torch.Size([1, 64, 32, 32]), emb.shape: torch.Size([1, 64, 32, 32])\n",
      "Down: x.shape: torch.Size([1, 64, 64, 64]), emb.shape: torch.Size([1, 64, 64, 64])\n",
      "Down: x.shape: torch.Size([1, 128, 32, 32]), emb.shape: torch.Size([1, 128, 32, 32])\n",
      "Down: x.shape: torch.Size([1, 256, 16, 16]), emb.shape: torch.Size([1, 256, 16, 16])\n",
      "Down: x.shape: torch.Size([1, 256, 8, 8]), emb.shape: torch.Size([1, 256, 8, 8])\n",
      "Down: x.shape: torch.Size([1, 128, 16, 16]), emb.shape: torch.Size([1, 128, 16, 16])\n",
      "Down: x.shape: torch.Size([1, 64, 32, 32]), emb.shape: torch.Size([1, 64, 32, 32])\n",
      "Down: x.shape: torch.Size([1, 64, 64, 64]), emb.shape: torch.Size([1, 64, 64, 64])\n",
      "Down: x.shape: torch.Size([1, 128, 32, 32]), emb.shape: torch.Size([1, 128, 32, 32])\n",
      "Down: x.shape: torch.Size([1, 256, 16, 16]), emb.shape: torch.Size([1, 256, 16, 16])\n",
      "Down: x.shape: torch.Size([1, 256, 8, 8]), emb.shape: torch.Size([1, 256, 8, 8])\n",
      "Down: x.shape: torch.Size([1, 128, 16, 16]), emb.shape: torch.Size([1, 128, 16, 16])\n",
      "Down: x.shape: torch.Size([1, 64, 32, 32]), emb.shape: torch.Size([1, 64, 32, 32])\n",
      "Down: x.shape: torch.Size([1, 64, 64, 64]), emb.shape: torch.Size([1, 64, 64, 64])\n"
     ]
    },
    {
     "name": "stderr",
     "output_type": "stream",
     "text": [
      "766it [00:35, 22.24it/s]"
     ]
    },
    {
     "name": "stdout",
     "output_type": "stream",
     "text": [
      "Down: x.shape: torch.Size([1, 128, 32, 32]), emb.shape: torch.Size([1, 128, 32, 32])\n",
      "Down: x.shape: torch.Size([1, 256, 16, 16]), emb.shape: torch.Size([1, 256, 16, 16])\n",
      "Down: x.shape: torch.Size([1, 256, 8, 8]), emb.shape: torch.Size([1, 256, 8, 8])\n",
      "Down: x.shape: torch.Size([1, 128, 16, 16]), emb.shape: torch.Size([1, 128, 16, 16])\n",
      "Down: x.shape: torch.Size([1, 64, 32, 32]), emb.shape: torch.Size([1, 64, 32, 32])\n",
      "Down: x.shape: torch.Size([1, 64, 64, 64]), emb.shape: torch.Size([1, 64, 64, 64])\n",
      "Down: x.shape: torch.Size([1, 128, 32, 32]), emb.shape: torch.Size([1, 128, 32, 32])\n",
      "Down: x.shape: torch.Size([1, 256, 16, 16]), emb.shape: torch.Size([1, 256, 16, 16])\n",
      "Down: x.shape: torch.Size([1, 256, 8, 8]), emb.shape: torch.Size([1, 256, 8, 8])\n",
      "Down: x.shape: torch.Size([1, 128, 16, 16]), emb.shape: torch.Size([1, 128, 16, 16])\n",
      "Down: x.shape: torch.Size([1, 64, 32, 32]), emb.shape: torch.Size([1, 64, 32, 32])\n",
      "Down: x.shape: torch.Size([1, 64, 64, 64]), emb.shape: torch.Size([1, 64, 64, 64])\n",
      "Down: x.shape: torch.Size([1, 128, 32, 32]), emb.shape: torch.Size([1, 128, 32, 32])\n",
      "Down: x.shape: torch.Size([1, 256, 16, 16]), emb.shape: torch.Size([1, 256, 16, 16])\n",
      "Down: x.shape: torch.Size([1, 256, 8, 8]), emb.shape: torch.Size([1, 256, 8, 8])\n",
      "Down: x.shape: torch.Size([1, 128, 16, 16]), emb.shape: torch.Size([1, 128, 16, 16])\n",
      "Down: x.shape: torch.Size([1, 64, 32, 32]), emb.shape: torch.Size([1, 64, 32, 32])\n",
      "Down: x.shape: torch.Size([1, 64, 64, 64]), emb.shape: torch.Size([1, 64, 64, 64])\n",
      "Down: x.shape: torch.Size([1, 128, 32, 32]), emb.shape: torch.Size([1, 128, 32, 32])\n",
      "Down: x.shape: torch.Size([1, 256, 16, 16]), emb.shape: torch.Size([1, 256, 16, 16])\n",
      "Down: x.shape: torch.Size([1, 256, 8, 8]), emb.shape: torch.Size([1, 256, 8, 8])\n",
      "Down: x.shape: torch.Size([1, 128, 16, 16]), emb.shape: torch.Size([1, 128, 16, 16])\n",
      "Down: x.shape: torch.Size([1, 64, 32, 32]), emb.shape: torch.Size([1, 64, 32, 32])\n",
      "Down: x.shape: torch.Size([1, 64, 64, 64]), emb.shape: torch.Size([1, 64, 64, 64])\n",
      "Down: x.shape: torch.Size([1, 128, 32, 32]), emb.shape: torch.Size([1, 128, 32, 32])\n",
      "Down: x.shape: torch.Size([1, 256, 16, 16]), emb.shape: torch.Size([1, 256, 16, 16])\n",
      "Down: x.shape: torch.Size([1, 256, 8, 8]), emb.shape: torch.Size([1, 256, 8, 8])\n",
      "Down: x.shape: torch.Size([1, 128, 16, 16]), emb.shape: torch.Size([1, 128, 16, 16])\n",
      "Down: x.shape: torch.Size([1, 64, 32, 32]), emb.shape: torch.Size([1, 64, 32, 32])\n",
      "Down: x.shape: torch.Size([1, 64, 64, 64]), emb.shape: torch.Size([1, 64, 64, 64])\n"
     ]
    },
    {
     "name": "stderr",
     "output_type": "stream",
     "text": [
      "772it [00:35, 22.24it/s]"
     ]
    },
    {
     "name": "stdout",
     "output_type": "stream",
     "text": [
      "Down: x.shape: torch.Size([1, 128, 32, 32]), emb.shape: torch.Size([1, 128, 32, 32])\n",
      "Down: x.shape: torch.Size([1, 256, 16, 16]), emb.shape: torch.Size([1, 256, 16, 16])\n",
      "Down: x.shape: torch.Size([1, 256, 8, 8]), emb.shape: torch.Size([1, 256, 8, 8])\n",
      "Down: x.shape: torch.Size([1, 128, 16, 16]), emb.shape: torch.Size([1, 128, 16, 16])\n",
      "Down: x.shape: torch.Size([1, 64, 32, 32]), emb.shape: torch.Size([1, 64, 32, 32])\n",
      "Down: x.shape: torch.Size([1, 64, 64, 64]), emb.shape: torch.Size([1, 64, 64, 64])\n",
      "Down: x.shape: torch.Size([1, 128, 32, 32]), emb.shape: torch.Size([1, 128, 32, 32])\n",
      "Down: x.shape: torch.Size([1, 256, 16, 16]), emb.shape: torch.Size([1, 256, 16, 16])\n",
      "Down: x.shape: torch.Size([1, 256, 8, 8]), emb.shape: torch.Size([1, 256, 8, 8])\n",
      "Down: x.shape: torch.Size([1, 128, 16, 16]), emb.shape: torch.Size([1, 128, 16, 16])\n",
      "Down: x.shape: torch.Size([1, 64, 32, 32]), emb.shape: torch.Size([1, 64, 32, 32])\n",
      "Down: x.shape: torch.Size([1, 64, 64, 64]), emb.shape: torch.Size([1, 64, 64, 64])\n",
      "Down: x.shape: torch.Size([1, 128, 32, 32]), emb.shape: torch.Size([1, 128, 32, 32])\n",
      "Down: x.shape: torch.Size([1, 256, 16, 16]), emb.shape: torch.Size([1, 256, 16, 16])\n",
      "Down: x.shape: torch.Size([1, 256, 8, 8]), emb.shape: torch.Size([1, 256, 8, 8])\n",
      "Down: x.shape: torch.Size([1, 128, 16, 16]), emb.shape: torch.Size([1, 128, 16, 16])\n",
      "Down: x.shape: torch.Size([1, 64, 32, 32]), emb.shape: torch.Size([1, 64, 32, 32])\n",
      "Down: x.shape: torch.Size([1, 64, 64, 64]), emb.shape: torch.Size([1, 64, 64, 64])\n",
      "Down: x.shape: torch.Size([1, 128, 32, 32]), emb.shape: torch.Size([1, 128, 32, 32])\n",
      "Down: x.shape: torch.Size([1, 256, 16, 16]), emb.shape: torch.Size([1, 256, 16, 16])\n",
      "Down: x.shape: torch.Size([1, 256, 8, 8]), emb.shape: torch.Size([1, 256, 8, 8])\n",
      "Down: x.shape: torch.Size([1, 128, 16, 16]), emb.shape: torch.Size([1, 128, 16, 16])\n",
      "Down: x.shape: torch.Size([1, 64, 32, 32]), emb.shape: torch.Size([1, 64, 32, 32])\n",
      "Down: x.shape: torch.Size([1, 64, 64, 64]), emb.shape: torch.Size([1, 64, 64, 64])\n",
      "Down: x.shape: torch.Size([1, 128, 32, 32]), emb.shape: torch.Size([1, 128, 32, 32])\n",
      "Down: x.shape: torch.Size([1, 256, 16, 16]), emb.shape: torch.Size([1, 256, 16, 16])\n",
      "Down: x.shape: torch.Size([1, 256, 8, 8]), emb.shape: torch.Size([1, 256, 8, 8])\n",
      "Down: x.shape: torch.Size([1, 128, 16, 16]), emb.shape: torch.Size([1, 128, 16, 16])\n",
      "Down: x.shape: torch.Size([1, 64, 32, 32]), emb.shape: torch.Size([1, 64, 32, 32])\n",
      "Down: x.shape: torch.Size([1, 64, 64, 64]), emb.shape: torch.Size([1, 64, 64, 64])\n"
     ]
    },
    {
     "name": "stderr",
     "output_type": "stream",
     "text": [
      "775it [00:35, 22.28it/s]"
     ]
    },
    {
     "name": "stdout",
     "output_type": "stream",
     "text": [
      "Down: x.shape: torch.Size([1, 128, 32, 32]), emb.shape: torch.Size([1, 128, 32, 32])\n",
      "Down: x.shape: torch.Size([1, 256, 16, 16]), emb.shape: torch.Size([1, 256, 16, 16])\n",
      "Down: x.shape: torch.Size([1, 256, 8, 8]), emb.shape: torch.Size([1, 256, 8, 8])\n",
      "Down: x.shape: torch.Size([1, 128, 16, 16]), emb.shape: torch.Size([1, 128, 16, 16])\n",
      "Down: x.shape: torch.Size([1, 64, 32, 32]), emb.shape: torch.Size([1, 64, 32, 32])\n",
      "Down: x.shape: torch.Size([1, 64, 64, 64]), emb.shape: torch.Size([1, 64, 64, 64])\n",
      "Down: x.shape: torch.Size([1, 128, 32, 32]), emb.shape: torch.Size([1, 128, 32, 32])\n",
      "Down: x.shape: torch.Size([1, 256, 16, 16]), emb.shape: torch.Size([1, 256, 16, 16])\n",
      "Down: x.shape: torch.Size([1, 256, 8, 8]), emb.shape: torch.Size([1, 256, 8, 8])\n",
      "Down: x.shape: torch.Size([1, 128, 16, 16]), emb.shape: torch.Size([1, 128, 16, 16])\n",
      "Down: x.shape: torch.Size([1, 64, 32, 32]), emb.shape: torch.Size([1, 64, 32, 32])\n",
      "Down: x.shape: torch.Size([1, 64, 64, 64]), emb.shape: torch.Size([1, 64, 64, 64])\n",
      "Down: x.shape: torch.Size([1, 128, 32, 32]), emb.shape: torch.Size([1, 128, 32, 32])\n",
      "Down: x.shape: torch.Size([1, 256, 16, 16]), emb.shape: torch.Size([1, 256, 16, 16])\n",
      "Down: x.shape: torch.Size([1, 256, 8, 8]), emb.shape: torch.Size([1, 256, 8, 8])\n",
      "Down: x.shape: torch.Size([1, 128, 16, 16]), emb.shape: torch.Size([1, 128, 16, 16])\n",
      "Down: x.shape: torch.Size([1, 64, 32, 32]), emb.shape: torch.Size([1, 64, 32, 32])\n",
      "Down: x.shape: torch.Size([1, 64, 64, 64]), emb.shape: torch.Size([1, 64, 64, 64])\n",
      "Down: x.shape: torch.Size([1, 128, 32, 32]), emb.shape: torch.Size([1, 128, 32, 32])\n",
      "Down: x.shape: torch.Size([1, 256, 16, 16]), emb.shape: torch.Size([1, 256, 16, 16])\n",
      "Down: x.shape: torch.Size([1, 256, 8, 8]), emb.shape: torch.Size([1, 256, 8, 8])\n",
      "Down: x.shape: torch.Size([1, 128, 16, 16]), emb.shape: torch.Size([1, 128, 16, 16])\n",
      "Down: x.shape: torch.Size([1, 64, 32, 32]), emb.shape: torch.Size([1, 64, 32, 32])\n",
      "Down: x.shape: torch.Size([1, 64, 64, 64]), emb.shape: torch.Size([1, 64, 64, 64])\n",
      "Down: x.shape: torch.Size([1, 128, 32, 32]), emb.shape: torch.Size([1, 128, 32, 32])\n",
      "Down: x.shape: torch.Size([1, 256, 16, 16]), emb.shape: torch.Size([1, 256, 16, 16])\n",
      "Down: x.shape: torch.Size([1, 256, 8, 8]), emb.shape: torch.Size([1, 256, 8, 8])\n",
      "Down: x.shape: torch.Size([1, 128, 16, 16]), emb.shape: torch.Size([1, 128, 16, 16])\n",
      "Down: x.shape: torch.Size([1, 64, 32, 32]), emb.shape: torch.Size([1, 64, 32, 32])\n",
      "Down: x.shape: torch.Size([1, 64, 64, 64]), emb.shape: torch.Size([1, 64, 64, 64])\n"
     ]
    },
    {
     "name": "stderr",
     "output_type": "stream",
     "text": [
      "781it [00:35, 22.24it/s]"
     ]
    },
    {
     "name": "stdout",
     "output_type": "stream",
     "text": [
      "Down: x.shape: torch.Size([1, 128, 32, 32]), emb.shape: torch.Size([1, 128, 32, 32])\n",
      "Down: x.shape: torch.Size([1, 256, 16, 16]), emb.shape: torch.Size([1, 256, 16, 16])\n",
      "Down: x.shape: torch.Size([1, 256, 8, 8]), emb.shape: torch.Size([1, 256, 8, 8])\n",
      "Down: x.shape: torch.Size([1, 128, 16, 16]), emb.shape: torch.Size([1, 128, 16, 16])\n",
      "Down: x.shape: torch.Size([1, 64, 32, 32]), emb.shape: torch.Size([1, 64, 32, 32])\n",
      "Down: x.shape: torch.Size([1, 64, 64, 64]), emb.shape: torch.Size([1, 64, 64, 64])\n",
      "Down: x.shape: torch.Size([1, 128, 32, 32]), emb.shape: torch.Size([1, 128, 32, 32])\n",
      "Down: x.shape: torch.Size([1, 256, 16, 16]), emb.shape: torch.Size([1, 256, 16, 16])\n",
      "Down: x.shape: torch.Size([1, 256, 8, 8]), emb.shape: torch.Size([1, 256, 8, 8])\n",
      "Down: x.shape: torch.Size([1, 128, 16, 16]), emb.shape: torch.Size([1, 128, 16, 16])\n",
      "Down: x.shape: torch.Size([1, 64, 32, 32]), emb.shape: torch.Size([1, 64, 32, 32])\n",
      "Down: x.shape: torch.Size([1, 64, 64, 64]), emb.shape: torch.Size([1, 64, 64, 64])\n",
      "Down: x.shape: torch.Size([1, 128, 32, 32]), emb.shape: torch.Size([1, 128, 32, 32])\n",
      "Down: x.shape: torch.Size([1, 256, 16, 16]), emb.shape: torch.Size([1, 256, 16, 16])\n",
      "Down: x.shape: torch.Size([1, 256, 8, 8]), emb.shape: torch.Size([1, 256, 8, 8])\n",
      "Down: x.shape: torch.Size([1, 128, 16, 16]), emb.shape: torch.Size([1, 128, 16, 16])\n",
      "Down: x.shape: torch.Size([1, 64, 32, 32]), emb.shape: torch.Size([1, 64, 32, 32])\n",
      "Down: x.shape: torch.Size([1, 64, 64, 64]), emb.shape: torch.Size([1, 64, 64, 64])\n",
      "Down: x.shape: torch.Size([1, 128, 32, 32]), emb.shape: torch.Size([1, 128, 32, 32])\n",
      "Down: x.shape: torch.Size([1, 256, 16, 16]), emb.shape: torch.Size([1, 256, 16, 16])\n",
      "Down: x.shape: torch.Size([1, 256, 8, 8]), emb.shape: torch.Size([1, 256, 8, 8])\n",
      "Down: x.shape: torch.Size([1, 128, 16, 16]), emb.shape: torch.Size([1, 128, 16, 16])\n",
      "Down: x.shape: torch.Size([1, 64, 32, 32]), emb.shape: torch.Size([1, 64, 32, 32])\n",
      "Down: x.shape: torch.Size([1, 64, 64, 64]), emb.shape: torch.Size([1, 64, 64, 64])\n"
     ]
    },
    {
     "name": "stderr",
     "output_type": "stream",
     "text": [
      "787it [00:36, 21.94it/s]"
     ]
    },
    {
     "name": "stdout",
     "output_type": "stream",
     "text": [
      "Down: x.shape: torch.Size([1, 128, 32, 32]), emb.shape: torch.Size([1, 128, 32, 32])\n",
      "Down: x.shape: torch.Size([1, 256, 16, 16]), emb.shape: torch.Size([1, 256, 16, 16])\n",
      "Down: x.shape: torch.Size([1, 256, 8, 8]), emb.shape: torch.Size([1, 256, 8, 8])\n",
      "Down: x.shape: torch.Size([1, 128, 16, 16]), emb.shape: torch.Size([1, 128, 16, 16])\n",
      "Down: x.shape: torch.Size([1, 64, 32, 32]), emb.shape: torch.Size([1, 64, 32, 32])\n",
      "Down: x.shape: torch.Size([1, 64, 64, 64]), emb.shape: torch.Size([1, 64, 64, 64])\n",
      "Down: x.shape: torch.Size([1, 128, 32, 32]), emb.shape: torch.Size([1, 128, 32, 32])\n",
      "Down: x.shape: torch.Size([1, 256, 16, 16]), emb.shape: torch.Size([1, 256, 16, 16])\n",
      "Down: x.shape: torch.Size([1, 256, 8, 8]), emb.shape: torch.Size([1, 256, 8, 8])\n",
      "Down: x.shape: torch.Size([1, 128, 16, 16]), emb.shape: torch.Size([1, 128, 16, 16])\n",
      "Down: x.shape: torch.Size([1, 64, 32, 32]), emb.shape: torch.Size([1, 64, 32, 32])\n",
      "Down: x.shape: torch.Size([1, 64, 64, 64]), emb.shape: torch.Size([1, 64, 64, 64])\n",
      "Down: x.shape: torch.Size([1, 128, 32, 32]), emb.shape: torch.Size([1, 128, 32, 32])\n",
      "Down: x.shape: torch.Size([1, 256, 16, 16]), emb.shape: torch.Size([1, 256, 16, 16])\n",
      "Down: x.shape: torch.Size([1, 256, 8, 8]), emb.shape: torch.Size([1, 256, 8, 8])\n",
      "Down: x.shape: torch.Size([1, 128, 16, 16]), emb.shape: torch.Size([1, 128, 16, 16])\n",
      "Down: x.shape: torch.Size([1, 64, 32, 32]), emb.shape: torch.Size([1, 64, 32, 32])\n",
      "Down: x.shape: torch.Size([1, 64, 64, 64]), emb.shape: torch.Size([1, 64, 64, 64])\n",
      "Down: x.shape: torch.Size([1, 128, 32, 32]), emb.shape: torch.Size([1, 128, 32, 32])\n",
      "Down: x.shape: torch.Size([1, 256, 16, 16]), emb.shape: torch.Size([1, 256, 16, 16])\n",
      "Down: x.shape: torch.Size([1, 256, 8, 8]), emb.shape: torch.Size([1, 256, 8, 8])\n",
      "Down: x.shape: torch.Size([1, 128, 16, 16]), emb.shape: torch.Size([1, 128, 16, 16])\n",
      "Down: x.shape: torch.Size([1, 64, 32, 32]), emb.shape: torch.Size([1, 64, 32, 32])\n",
      "Down: x.shape: torch.Size([1, 64, 64, 64]), emb.shape: torch.Size([1, 64, 64, 64])\n",
      "Down: x.shape: torch.Size([1, 128, 32, 32]), emb.shape: torch.Size([1, 128, 32, 32])\n",
      "Down: x.shape: torch.Size([1, 256, 16, 16]), emb.shape: torch.Size([1, 256, 16, 16])\n",
      "Down: x.shape: torch.Size([1, 256, 8, 8]), emb.shape: torch.Size([1, 256, 8, 8])\n",
      "Down: x.shape: torch.Size([1, 128, 16, 16]), emb.shape: torch.Size([1, 128, 16, 16])\n",
      "Down: x.shape: torch.Size([1, 64, 32, 32]), emb.shape: torch.Size([1, 64, 32, 32])\n",
      "Down: x.shape: torch.Size([1, 64, 64, 64]), emb.shape: torch.Size([1, 64, 64, 64])\n"
     ]
    },
    {
     "name": "stderr",
     "output_type": "stream",
     "text": [
      "790it [00:36, 22.13it/s]"
     ]
    },
    {
     "name": "stdout",
     "output_type": "stream",
     "text": [
      "Down: x.shape: torch.Size([1, 128, 32, 32]), emb.shape: torch.Size([1, 128, 32, 32])\n",
      "Down: x.shape: torch.Size([1, 256, 16, 16]), emb.shape: torch.Size([1, 256, 16, 16])\n",
      "Down: x.shape: torch.Size([1, 256, 8, 8]), emb.shape: torch.Size([1, 256, 8, 8])\n",
      "Down: x.shape: torch.Size([1, 128, 16, 16]), emb.shape: torch.Size([1, 128, 16, 16])\n",
      "Down: x.shape: torch.Size([1, 64, 32, 32]), emb.shape: torch.Size([1, 64, 32, 32])\n",
      "Down: x.shape: torch.Size([1, 64, 64, 64]), emb.shape: torch.Size([1, 64, 64, 64])\n",
      "Down: x.shape: torch.Size([1, 128, 32, 32]), emb.shape: torch.Size([1, 128, 32, 32])\n",
      "Down: x.shape: torch.Size([1, 256, 16, 16]), emb.shape: torch.Size([1, 256, 16, 16])\n",
      "Down: x.shape: torch.Size([1, 256, 8, 8]), emb.shape: torch.Size([1, 256, 8, 8])\n",
      "Down: x.shape: torch.Size([1, 128, 16, 16]), emb.shape: torch.Size([1, 128, 16, 16])\n",
      "Down: x.shape: torch.Size([1, 64, 32, 32]), emb.shape: torch.Size([1, 64, 32, 32])\n",
      "Down: x.shape: torch.Size([1, 64, 64, 64]), emb.shape: torch.Size([1, 64, 64, 64])\n",
      "Down: x.shape: torch.Size([1, 128, 32, 32]), emb.shape: torch.Size([1, 128, 32, 32])\n",
      "Down: x.shape: torch.Size([1, 256, 16, 16]), emb.shape: torch.Size([1, 256, 16, 16])\n",
      "Down: x.shape: torch.Size([1, 256, 8, 8]), emb.shape: torch.Size([1, 256, 8, 8])\n",
      "Down: x.shape: torch.Size([1, 128, 16, 16]), emb.shape: torch.Size([1, 128, 16, 16])\n",
      "Down: x.shape: torch.Size([1, 64, 32, 32]), emb.shape: torch.Size([1, 64, 32, 32])\n",
      "Down: x.shape: torch.Size([1, 64, 64, 64]), emb.shape: torch.Size([1, 64, 64, 64])\n",
      "Down: x.shape: torch.Size([1, 128, 32, 32]), emb.shape: torch.Size([1, 128, 32, 32])\n",
      "Down: x.shape: torch.Size([1, 256, 16, 16]), emb.shape: torch.Size([1, 256, 16, 16])\n",
      "Down: x.shape: torch.Size([1, 256, 8, 8]), emb.shape: torch.Size([1, 256, 8, 8])\n",
      "Down: x.shape: torch.Size([1, 128, 16, 16]), emb.shape: torch.Size([1, 128, 16, 16])\n",
      "Down: x.shape: torch.Size([1, 64, 32, 32]), emb.shape: torch.Size([1, 64, 32, 32])\n",
      "Down: x.shape: torch.Size([1, 64, 64, 64]), emb.shape: torch.Size([1, 64, 64, 64])\n"
     ]
    },
    {
     "name": "stderr",
     "output_type": "stream",
     "text": [
      "793it [00:36, 22.00it/s]"
     ]
    },
    {
     "name": "stdout",
     "output_type": "stream",
     "text": [
      "Down: x.shape: torch.Size([1, 128, 32, 32]), emb.shape: torch.Size([1, 128, 32, 32])\n",
      "Down: x.shape: torch.Size([1, 256, 16, 16]), emb.shape: torch.Size([1, 256, 16, 16])\n",
      "Down: x.shape: torch.Size([1, 256, 8, 8]), emb.shape: torch.Size([1, 256, 8, 8])\n",
      "Down: x.shape: torch.Size([1, 128, 16, 16]), emb.shape: torch.Size([1, 128, 16, 16])\n",
      "Down: x.shape: torch.Size([1, 64, 32, 32]), emb.shape: torch.Size([1, 64, 32, 32])\n",
      "Down: x.shape: torch.Size([1, 64, 64, 64]), emb.shape: torch.Size([1, 64, 64, 64])\n",
      "Down: x.shape: torch.Size([1, 128, 32, 32]), emb.shape: torch.Size([1, 128, 32, 32])\n",
      "Down: x.shape: torch.Size([1, 256, 16, 16]), emb.shape: torch.Size([1, 256, 16, 16])\n",
      "Down: x.shape: torch.Size([1, 256, 8, 8]), emb.shape: torch.Size([1, 256, 8, 8])\n",
      "Down: x.shape: torch.Size([1, 128, 16, 16]), emb.shape: torch.Size([1, 128, 16, 16])\n",
      "Down: x.shape: torch.Size([1, 64, 32, 32]), emb.shape: torch.Size([1, 64, 32, 32])\n",
      "Down: x.shape: torch.Size([1, 64, 64, 64]), emb.shape: torch.Size([1, 64, 64, 64])\n",
      "Down: x.shape: torch.Size([1, 128, 32, 32]), emb.shape: torch.Size([1, 128, 32, 32])\n",
      "Down: x.shape: torch.Size([1, 256, 16, 16]), emb.shape: torch.Size([1, 256, 16, 16])\n",
      "Down: x.shape: torch.Size([1, 256, 8, 8]), emb.shape: torch.Size([1, 256, 8, 8])\n",
      "Down: x.shape: torch.Size([1, 128, 16, 16]), emb.shape: torch.Size([1, 128, 16, 16])\n",
      "Down: x.shape: torch.Size([1, 64, 32, 32]), emb.shape: torch.Size([1, 64, 32, 32])\n",
      "Down: x.shape: torch.Size([1, 64, 64, 64]), emb.shape: torch.Size([1, 64, 64, 64])\n",
      "Down: x.shape: torch.Size([1, 128, 32, 32]), emb.shape: torch.Size([1, 128, 32, 32])\n",
      "Down: x.shape: torch.Size([1, 256, 16, 16]), emb.shape: torch.Size([1, 256, 16, 16])\n",
      "Down: x.shape: torch.Size([1, 256, 8, 8]), emb.shape: torch.Size([1, 256, 8, 8])\n",
      "Down: x.shape: torch.Size([1, 128, 16, 16]), emb.shape: torch.Size([1, 128, 16, 16])\n",
      "Down: x.shape: torch.Size([1, 64, 32, 32]), emb.shape: torch.Size([1, 64, 32, 32])\n",
      "Down: x.shape: torch.Size([1, 64, 64, 64]), emb.shape: torch.Size([1, 64, 64, 64])\n",
      "Down: x.shape: torch.Size([1, 128, 32, 32]), emb.shape: torch.Size([1, 128, 32, 32])\n",
      "Down: x.shape: torch.Size([1, 256, 16, 16]), emb.shape: torch.Size([1, 256, 16, 16])\n",
      "Down: x.shape: torch.Size([1, 256, 8, 8]), emb.shape: torch.Size([1, 256, 8, 8])\n",
      "Down: x.shape: torch.Size([1, 128, 16, 16]), emb.shape: torch.Size([1, 128, 16, 16])\n",
      "Down: x.shape: torch.Size([1, 64, 32, 32]), emb.shape: torch.Size([1, 64, 32, 32])\n",
      "Down: x.shape: torch.Size([1, 64, 64, 64]), emb.shape: torch.Size([1, 64, 64, 64])\n"
     ]
    },
    {
     "name": "stderr",
     "output_type": "stream",
     "text": [
      "799it [00:36, 22.02it/s]"
     ]
    },
    {
     "name": "stdout",
     "output_type": "stream",
     "text": [
      "Down: x.shape: torch.Size([1, 128, 32, 32]), emb.shape: torch.Size([1, 128, 32, 32])\n",
      "Down: x.shape: torch.Size([1, 256, 16, 16]), emb.shape: torch.Size([1, 256, 16, 16])\n",
      "Down: x.shape: torch.Size([1, 256, 8, 8]), emb.shape: torch.Size([1, 256, 8, 8])\n",
      "Down: x.shape: torch.Size([1, 128, 16, 16]), emb.shape: torch.Size([1, 128, 16, 16])\n",
      "Down: x.shape: torch.Size([1, 64, 32, 32]), emb.shape: torch.Size([1, 64, 32, 32])\n",
      "Down: x.shape: torch.Size([1, 64, 64, 64]), emb.shape: torch.Size([1, 64, 64, 64])\n",
      "Down: x.shape: torch.Size([1, 128, 32, 32]), emb.shape: torch.Size([1, 128, 32, 32])\n",
      "Down: x.shape: torch.Size([1, 256, 16, 16]), emb.shape: torch.Size([1, 256, 16, 16])\n",
      "Down: x.shape: torch.Size([1, 256, 8, 8]), emb.shape: torch.Size([1, 256, 8, 8])\n",
      "Down: x.shape: torch.Size([1, 128, 16, 16]), emb.shape: torch.Size([1, 128, 16, 16])\n",
      "Down: x.shape: torch.Size([1, 64, 32, 32]), emb.shape: torch.Size([1, 64, 32, 32])\n",
      "Down: x.shape: torch.Size([1, 64, 64, 64]), emb.shape: torch.Size([1, 64, 64, 64])\n",
      "Down: x.shape: torch.Size([1, 128, 32, 32]), emb.shape: torch.Size([1, 128, 32, 32])\n",
      "Down: x.shape: torch.Size([1, 256, 16, 16]), emb.shape: torch.Size([1, 256, 16, 16])\n",
      "Down: x.shape: torch.Size([1, 256, 8, 8]), emb.shape: torch.Size([1, 256, 8, 8])\n",
      "Down: x.shape: torch.Size([1, 128, 16, 16]), emb.shape: torch.Size([1, 128, 16, 16])\n",
      "Down: x.shape: torch.Size([1, 64, 32, 32]), emb.shape: torch.Size([1, 64, 32, 32])\n",
      "Down: x.shape: torch.Size([1, 64, 64, 64]), emb.shape: torch.Size([1, 64, 64, 64])\n",
      "Down: x.shape: torch.Size([1, 128, 32, 32]), emb.shape: torch.Size([1, 128, 32, 32])\n",
      "Down: x.shape: torch.Size([1, 256, 16, 16]), emb.shape: torch.Size([1, 256, 16, 16])\n",
      "Down: x.shape: torch.Size([1, 256, 8, 8]), emb.shape: torch.Size([1, 256, 8, 8])\n",
      "Down: x.shape: torch.Size([1, 128, 16, 16]), emb.shape: torch.Size([1, 128, 16, 16])\n",
      "Down: x.shape: torch.Size([1, 64, 32, 32]), emb.shape: torch.Size([1, 64, 32, 32])\n",
      "Down: x.shape: torch.Size([1, 64, 64, 64]), emb.shape: torch.Size([1, 64, 64, 64])\n",
      "Down: x.shape: torch.Size([1, 128, 32, 32]), emb.shape: torch.Size([1, 128, 32, 32])\n",
      "Down: x.shape: torch.Size([1, 256, 16, 16]), emb.shape: torch.Size([1, 256, 16, 16])\n",
      "Down: x.shape: torch.Size([1, 256, 8, 8]), emb.shape: torch.Size([1, 256, 8, 8])\n",
      "Down: x.shape: torch.Size([1, 128, 16, 16]), emb.shape: torch.Size([1, 128, 16, 16])\n",
      "Down: x.shape: torch.Size([1, 64, 32, 32]), emb.shape: torch.Size([1, 64, 32, 32])\n",
      "Down: x.shape: torch.Size([1, 64, 64, 64]), emb.shape: torch.Size([1, 64, 64, 64])\n"
     ]
    },
    {
     "name": "stderr",
     "output_type": "stream",
     "text": [
      "805it [00:37, 22.09it/s]"
     ]
    },
    {
     "name": "stdout",
     "output_type": "stream",
     "text": [
      "Down: x.shape: torch.Size([1, 128, 32, 32]), emb.shape: torch.Size([1, 128, 32, 32])\n",
      "Down: x.shape: torch.Size([1, 256, 16, 16]), emb.shape: torch.Size([1, 256, 16, 16])\n",
      "Down: x.shape: torch.Size([1, 256, 8, 8]), emb.shape: torch.Size([1, 256, 8, 8])\n",
      "Down: x.shape: torch.Size([1, 128, 16, 16]), emb.shape: torch.Size([1, 128, 16, 16])\n",
      "Down: x.shape: torch.Size([1, 64, 32, 32]), emb.shape: torch.Size([1, 64, 32, 32])\n",
      "Down: x.shape: torch.Size([1, 64, 64, 64]), emb.shape: torch.Size([1, 64, 64, 64])\n",
      "Down: x.shape: torch.Size([1, 128, 32, 32]), emb.shape: torch.Size([1, 128, 32, 32])\n",
      "Down: x.shape: torch.Size([1, 256, 16, 16]), emb.shape: torch.Size([1, 256, 16, 16])\n",
      "Down: x.shape: torch.Size([1, 256, 8, 8]), emb.shape: torch.Size([1, 256, 8, 8])\n",
      "Down: x.shape: torch.Size([1, 128, 16, 16]), emb.shape: torch.Size([1, 128, 16, 16])\n",
      "Down: x.shape: torch.Size([1, 64, 32, 32]), emb.shape: torch.Size([1, 64, 32, 32])\n",
      "Down: x.shape: torch.Size([1, 64, 64, 64]), emb.shape: torch.Size([1, 64, 64, 64])\n",
      "Down: x.shape: torch.Size([1, 128, 32, 32]), emb.shape: torch.Size([1, 128, 32, 32])\n",
      "Down: x.shape: torch.Size([1, 256, 16, 16]), emb.shape: torch.Size([1, 256, 16, 16])\n",
      "Down: x.shape: torch.Size([1, 256, 8, 8]), emb.shape: torch.Size([1, 256, 8, 8])\n",
      "Down: x.shape: torch.Size([1, 128, 16, 16]), emb.shape: torch.Size([1, 128, 16, 16])\n",
      "Down: x.shape: torch.Size([1, 64, 32, 32]), emb.shape: torch.Size([1, 64, 32, 32])\n",
      "Down: x.shape: torch.Size([1, 64, 64, 64]), emb.shape: torch.Size([1, 64, 64, 64])\n",
      "Down: x.shape: torch.Size([1, 128, 32, 32]), emb.shape: torch.Size([1, 128, 32, 32])\n",
      "Down: x.shape: torch.Size([1, 256, 16, 16]), emb.shape: torch.Size([1, 256, 16, 16])\n",
      "Down: x.shape: torch.Size([1, 256, 8, 8]), emb.shape: torch.Size([1, 256, 8, 8])\n",
      "Down: x.shape: torch.Size([1, 128, 16, 16]), emb.shape: torch.Size([1, 128, 16, 16])\n",
      "Down: x.shape: torch.Size([1, 64, 32, 32]), emb.shape: torch.Size([1, 64, 32, 32])\n",
      "Down: x.shape: torch.Size([1, 64, 64, 64]), emb.shape: torch.Size([1, 64, 64, 64])\n",
      "Down: x.shape: torch.Size([1, 128, 32, 32]), emb.shape: torch.Size([1, 128, 32, 32])\n",
      "Down: x.shape: torch.Size([1, 256, 16, 16]), emb.shape: torch.Size([1, 256, 16, 16])\n",
      "Down: x.shape: torch.Size([1, 256, 8, 8]), emb.shape: torch.Size([1, 256, 8, 8])\n",
      "Down: x.shape: torch.Size([1, 128, 16, 16]), emb.shape: torch.Size([1, 128, 16, 16])\n",
      "Down: x.shape: torch.Size([1, 64, 32, 32]), emb.shape: torch.Size([1, 64, 32, 32])\n",
      "Down: x.shape: torch.Size([1, 64, 64, 64]), emb.shape: torch.Size([1, 64, 64, 64])\n"
     ]
    },
    {
     "name": "stderr",
     "output_type": "stream",
     "text": [
      "811it [00:37, 22.21it/s]"
     ]
    },
    {
     "name": "stdout",
     "output_type": "stream",
     "text": [
      "Down: x.shape: torch.Size([1, 128, 32, 32]), emb.shape: torch.Size([1, 128, 32, 32])\n",
      "Down: x.shape: torch.Size([1, 256, 16, 16]), emb.shape: torch.Size([1, 256, 16, 16])\n",
      "Down: x.shape: torch.Size([1, 256, 8, 8]), emb.shape: torch.Size([1, 256, 8, 8])\n",
      "Down: x.shape: torch.Size([1, 128, 16, 16]), emb.shape: torch.Size([1, 128, 16, 16])\n",
      "Down: x.shape: torch.Size([1, 64, 32, 32]), emb.shape: torch.Size([1, 64, 32, 32])\n",
      "Down: x.shape: torch.Size([1, 64, 64, 64]), emb.shape: torch.Size([1, 64, 64, 64])\n",
      "Down: x.shape: torch.Size([1, 128, 32, 32]), emb.shape: torch.Size([1, 128, 32, 32])\n",
      "Down: x.shape: torch.Size([1, 256, 16, 16]), emb.shape: torch.Size([1, 256, 16, 16])\n",
      "Down: x.shape: torch.Size([1, 256, 8, 8]), emb.shape: torch.Size([1, 256, 8, 8])\n",
      "Down: x.shape: torch.Size([1, 128, 16, 16]), emb.shape: torch.Size([1, 128, 16, 16])\n",
      "Down: x.shape: torch.Size([1, 64, 32, 32]), emb.shape: torch.Size([1, 64, 32, 32])\n",
      "Down: x.shape: torch.Size([1, 64, 64, 64]), emb.shape: torch.Size([1, 64, 64, 64])\n",
      "Down: x.shape: torch.Size([1, 128, 32, 32]), emb.shape: torch.Size([1, 128, 32, 32])\n",
      "Down: x.shape: torch.Size([1, 256, 16, 16]), emb.shape: torch.Size([1, 256, 16, 16])\n",
      "Down: x.shape: torch.Size([1, 256, 8, 8]), emb.shape: torch.Size([1, 256, 8, 8])\n",
      "Down: x.shape: torch.Size([1, 128, 16, 16]), emb.shape: torch.Size([1, 128, 16, 16])\n",
      "Down: x.shape: torch.Size([1, 64, 32, 32]), emb.shape: torch.Size([1, 64, 32, 32])\n",
      "Down: x.shape: torch.Size([1, 64, 64, 64]), emb.shape: torch.Size([1, 64, 64, 64])\n",
      "Down: x.shape: torch.Size([1, 128, 32, 32]), emb.shape: torch.Size([1, 128, 32, 32])\n",
      "Down: x.shape: torch.Size([1, 256, 16, 16]), emb.shape: torch.Size([1, 256, 16, 16])\n",
      "Down: x.shape: torch.Size([1, 256, 8, 8]), emb.shape: torch.Size([1, 256, 8, 8])\n",
      "Down: x.shape: torch.Size([1, 128, 16, 16]), emb.shape: torch.Size([1, 128, 16, 16])\n",
      "Down: x.shape: torch.Size([1, 64, 32, 32]), emb.shape: torch.Size([1, 64, 32, 32])\n",
      "Down: x.shape: torch.Size([1, 64, 64, 64]), emb.shape: torch.Size([1, 64, 64, 64])\n",
      "Down: x.shape: torch.Size([1, 128, 32, 32]), emb.shape: torch.Size([1, 128, 32, 32])\n",
      "Down: x.shape: torch.Size([1, 256, 16, 16]), emb.shape: torch.Size([1, 256, 16, 16])\n",
      "Down: x.shape: torch.Size([1, 256, 8, 8]), emb.shape: torch.Size([1, 256, 8, 8])\n",
      "Down: x.shape: torch.Size([1, 128, 16, 16]), emb.shape: torch.Size([1, 128, 16, 16])\n",
      "Down: x.shape: torch.Size([1, 64, 32, 32]), emb.shape: torch.Size([1, 64, 32, 32])\n",
      "Down: x.shape: torch.Size([1, 64, 64, 64]), emb.shape: torch.Size([1, 64, 64, 64])\n"
     ]
    },
    {
     "name": "stderr",
     "output_type": "stream",
     "text": [
      "814it [00:37, 21.96it/s]"
     ]
    },
    {
     "name": "stdout",
     "output_type": "stream",
     "text": [
      "Down: x.shape: torch.Size([1, 128, 32, 32]), emb.shape: torch.Size([1, 128, 32, 32])\n",
      "Down: x.shape: torch.Size([1, 256, 16, 16]), emb.shape: torch.Size([1, 256, 16, 16])\n",
      "Down: x.shape: torch.Size([1, 256, 8, 8]), emb.shape: torch.Size([1, 256, 8, 8])\n",
      "Down: x.shape: torch.Size([1, 128, 16, 16]), emb.shape: torch.Size([1, 128, 16, 16])\n",
      "Down: x.shape: torch.Size([1, 64, 32, 32]), emb.shape: torch.Size([1, 64, 32, 32])\n",
      "Down: x.shape: torch.Size([1, 64, 64, 64]), emb.shape: torch.Size([1, 64, 64, 64])\n",
      "Down: x.shape: torch.Size([1, 128, 32, 32]), emb.shape: torch.Size([1, 128, 32, 32])\n",
      "Down: x.shape: torch.Size([1, 256, 16, 16]), emb.shape: torch.Size([1, 256, 16, 16])\n",
      "Down: x.shape: torch.Size([1, 256, 8, 8]), emb.shape: torch.Size([1, 256, 8, 8])\n",
      "Down: x.shape: torch.Size([1, 128, 16, 16]), emb.shape: torch.Size([1, 128, 16, 16])\n",
      "Down: x.shape: torch.Size([1, 64, 32, 32]), emb.shape: torch.Size([1, 64, 32, 32])\n",
      "Down: x.shape: torch.Size([1, 64, 64, 64]), emb.shape: torch.Size([1, 64, 64, 64])\n",
      "Down: x.shape: torch.Size([1, 128, 32, 32]), emb.shape: torch.Size([1, 128, 32, 32])\n",
      "Down: x.shape: torch.Size([1, 256, 16, 16]), emb.shape: torch.Size([1, 256, 16, 16])\n",
      "Down: x.shape: torch.Size([1, 256, 8, 8]), emb.shape: torch.Size([1, 256, 8, 8])\n",
      "Down: x.shape: torch.Size([1, 128, 16, 16]), emb.shape: torch.Size([1, 128, 16, 16])\n",
      "Down: x.shape: torch.Size([1, 64, 32, 32]), emb.shape: torch.Size([1, 64, 32, 32])\n",
      "Down: x.shape: torch.Size([1, 64, 64, 64]), emb.shape: torch.Size([1, 64, 64, 64])\n",
      "Down: x.shape: torch.Size([1, 128, 32, 32]), emb.shape: torch.Size([1, 128, 32, 32])\n",
      "Down: x.shape: torch.Size([1, 256, 16, 16]), emb.shape: torch.Size([1, 256, 16, 16])\n",
      "Down: x.shape: torch.Size([1, 256, 8, 8]), emb.shape: torch.Size([1, 256, 8, 8])\n",
      "Down: x.shape: torch.Size([1, 128, 16, 16]), emb.shape: torch.Size([1, 128, 16, 16])\n",
      "Down: x.shape: torch.Size([1, 64, 32, 32]), emb.shape: torch.Size([1, 64, 32, 32])\n",
      "Down: x.shape: torch.Size([1, 64, 64, 64]), emb.shape: torch.Size([1, 64, 64, 64])\n",
      "Down: x.shape: torch.Size([1, 128, 32, 32]), emb.shape: torch.Size([1, 128, 32, 32])\n",
      "Down: x.shape: torch.Size([1, 256, 16, 16]), emb.shape: torch.Size([1, 256, 16, 16])\n",
      "Down: x.shape: torch.Size([1, 256, 8, 8]), emb.shape: torch.Size([1, 256, 8, 8])\n",
      "Down: x.shape: torch.Size([1, 128, 16, 16]), emb.shape: torch.Size([1, 128, 16, 16])\n",
      "Down: x.shape: torch.Size([1, 64, 32, 32]), emb.shape: torch.Size([1, 64, 32, 32])\n",
      "Down: x.shape: torch.Size([1, 64, 64, 64]), emb.shape: torch.Size([1, 64, 64, 64])\n"
     ]
    },
    {
     "name": "stderr",
     "output_type": "stream",
     "text": [
      "820it [00:37, 22.07it/s]"
     ]
    },
    {
     "name": "stdout",
     "output_type": "stream",
     "text": [
      "Down: x.shape: torch.Size([1, 128, 32, 32]), emb.shape: torch.Size([1, 128, 32, 32])\n",
      "Down: x.shape: torch.Size([1, 256, 16, 16]), emb.shape: torch.Size([1, 256, 16, 16])\n",
      "Down: x.shape: torch.Size([1, 256, 8, 8]), emb.shape: torch.Size([1, 256, 8, 8])\n",
      "Down: x.shape: torch.Size([1, 128, 16, 16]), emb.shape: torch.Size([1, 128, 16, 16])\n",
      "Down: x.shape: torch.Size([1, 64, 32, 32]), emb.shape: torch.Size([1, 64, 32, 32])\n",
      "Down: x.shape: torch.Size([1, 64, 64, 64]), emb.shape: torch.Size([1, 64, 64, 64])\n",
      "Down: x.shape: torch.Size([1, 128, 32, 32]), emb.shape: torch.Size([1, 128, 32, 32])\n",
      "Down: x.shape: torch.Size([1, 256, 16, 16]), emb.shape: torch.Size([1, 256, 16, 16])\n",
      "Down: x.shape: torch.Size([1, 256, 8, 8]), emb.shape: torch.Size([1, 256, 8, 8])\n",
      "Down: x.shape: torch.Size([1, 128, 16, 16]), emb.shape: torch.Size([1, 128, 16, 16])\n",
      "Down: x.shape: torch.Size([1, 64, 32, 32]), emb.shape: torch.Size([1, 64, 32, 32])\n",
      "Down: x.shape: torch.Size([1, 64, 64, 64]), emb.shape: torch.Size([1, 64, 64, 64])\n",
      "Down: x.shape: torch.Size([1, 128, 32, 32]), emb.shape: torch.Size([1, 128, 32, 32])\n",
      "Down: x.shape: torch.Size([1, 256, 16, 16]), emb.shape: torch.Size([1, 256, 16, 16])\n",
      "Down: x.shape: torch.Size([1, 256, 8, 8]), emb.shape: torch.Size([1, 256, 8, 8])\n",
      "Down: x.shape: torch.Size([1, 128, 16, 16]), emb.shape: torch.Size([1, 128, 16, 16])\n",
      "Down: x.shape: torch.Size([1, 64, 32, 32]), emb.shape: torch.Size([1, 64, 32, 32])\n",
      "Down: x.shape: torch.Size([1, 64, 64, 64]), emb.shape: torch.Size([1, 64, 64, 64])\n",
      "Down: x.shape: torch.Size([1, 128, 32, 32]), emb.shape: torch.Size([1, 128, 32, 32])\n",
      "Down: x.shape: torch.Size([1, 256, 16, 16]), emb.shape: torch.Size([1, 256, 16, 16])\n",
      "Down: x.shape: torch.Size([1, 256, 8, 8]), emb.shape: torch.Size([1, 256, 8, 8])\n",
      "Down: x.shape: torch.Size([1, 128, 16, 16]), emb.shape: torch.Size([1, 128, 16, 16])\n",
      "Down: x.shape: torch.Size([1, 64, 32, 32]), emb.shape: torch.Size([1, 64, 32, 32])\n",
      "Down: x.shape: torch.Size([1, 64, 64, 64]), emb.shape: torch.Size([1, 64, 64, 64])\n",
      "Down: x.shape: torch.Size([1, 128, 32, 32]), emb.shape: torch.Size([1, 128, 32, 32])\n",
      "Down: x.shape: torch.Size([1, 256, 16, 16]), emb.shape: torch.Size([1, 256, 16, 16])\n",
      "Down: x.shape: torch.Size([1, 256, 8, 8]), emb.shape: torch.Size([1, 256, 8, 8])\n",
      "Down: x.shape: torch.Size([1, 128, 16, 16]), emb.shape: torch.Size([1, 128, 16, 16])\n",
      "Down: x.shape: torch.Size([1, 64, 32, 32]), emb.shape: torch.Size([1, 64, 32, 32])\n",
      "Down: x.shape: torch.Size([1, 64, 64, 64]), emb.shape: torch.Size([1, 64, 64, 64])\n"
     ]
    },
    {
     "name": "stderr",
     "output_type": "stream",
     "text": [
      "823it [00:37, 22.24it/s]"
     ]
    },
    {
     "name": "stdout",
     "output_type": "stream",
     "text": [
      "Down: x.shape: torch.Size([1, 128, 32, 32]), emb.shape: torch.Size([1, 128, 32, 32])\n",
      "Down: x.shape: torch.Size([1, 256, 16, 16]), emb.shape: torch.Size([1, 256, 16, 16])\n",
      "Down: x.shape: torch.Size([1, 256, 8, 8]), emb.shape: torch.Size([1, 256, 8, 8])\n",
      "Down: x.shape: torch.Size([1, 128, 16, 16]), emb.shape: torch.Size([1, 128, 16, 16])\n",
      "Down: x.shape: torch.Size([1, 64, 32, 32]), emb.shape: torch.Size([1, 64, 32, 32])\n",
      "Down: x.shape: torch.Size([1, 64, 64, 64]), emb.shape: torch.Size([1, 64, 64, 64])\n",
      "Down: x.shape: torch.Size([1, 128, 32, 32]), emb.shape: torch.Size([1, 128, 32, 32])\n",
      "Down: x.shape: torch.Size([1, 256, 16, 16]), emb.shape: torch.Size([1, 256, 16, 16])\n",
      "Down: x.shape: torch.Size([1, 256, 8, 8]), emb.shape: torch.Size([1, 256, 8, 8])\n",
      "Down: x.shape: torch.Size([1, 128, 16, 16]), emb.shape: torch.Size([1, 128, 16, 16])\n",
      "Down: x.shape: torch.Size([1, 64, 32, 32]), emb.shape: torch.Size([1, 64, 32, 32])\n",
      "Down: x.shape: torch.Size([1, 64, 64, 64]), emb.shape: torch.Size([1, 64, 64, 64])\n",
      "Down: x.shape: torch.Size([1, 128, 32, 32]), emb.shape: torch.Size([1, 128, 32, 32])\n",
      "Down: x.shape: torch.Size([1, 256, 16, 16]), emb.shape: torch.Size([1, 256, 16, 16])\n",
      "Down: x.shape: torch.Size([1, 256, 8, 8]), emb.shape: torch.Size([1, 256, 8, 8])\n",
      "Down: x.shape: torch.Size([1, 128, 16, 16]), emb.shape: torch.Size([1, 128, 16, 16])\n",
      "Down: x.shape: torch.Size([1, 64, 32, 32]), emb.shape: torch.Size([1, 64, 32, 32])\n",
      "Down: x.shape: torch.Size([1, 64, 64, 64]), emb.shape: torch.Size([1, 64, 64, 64])\n",
      "Down: x.shape: torch.Size([1, 128, 32, 32]), emb.shape: torch.Size([1, 128, 32, 32])\n",
      "Down: x.shape: torch.Size([1, 256, 16, 16]), emb.shape: torch.Size([1, 256, 16, 16])\n",
      "Down: x.shape: torch.Size([1, 256, 8, 8]), emb.shape: torch.Size([1, 256, 8, 8])\n",
      "Down: x.shape: torch.Size([1, 128, 16, 16]), emb.shape: torch.Size([1, 128, 16, 16])\n",
      "Down: x.shape: torch.Size([1, 64, 32, 32]), emb.shape: torch.Size([1, 64, 32, 32])\n",
      "Down: x.shape: torch.Size([1, 64, 64, 64]), emb.shape: torch.Size([1, 64, 64, 64])\n",
      "Down: x.shape: torch.Size([1, 128, 32, 32]), emb.shape: torch.Size([1, 128, 32, 32])\n",
      "Down: x.shape: torch.Size([1, 256, 16, 16]), emb.shape: torch.Size([1, 256, 16, 16])\n",
      "Down: x.shape: torch.Size([1, 256, 8, 8]), emb.shape: torch.Size([1, 256, 8, 8])\n",
      "Down: x.shape: torch.Size([1, 128, 16, 16]), emb.shape: torch.Size([1, 128, 16, 16])\n",
      "Down: x.shape: torch.Size([1, 64, 32, 32]), emb.shape: torch.Size([1, 64, 32, 32])\n",
      "Down: x.shape: torch.Size([1, 64, 64, 64]), emb.shape: torch.Size([1, 64, 64, 64])\n"
     ]
    },
    {
     "name": "stderr",
     "output_type": "stream",
     "text": [
      "829it [00:38, 22.24it/s]"
     ]
    },
    {
     "name": "stdout",
     "output_type": "stream",
     "text": [
      "Down: x.shape: torch.Size([1, 128, 32, 32]), emb.shape: torch.Size([1, 128, 32, 32])\n",
      "Down: x.shape: torch.Size([1, 256, 16, 16]), emb.shape: torch.Size([1, 256, 16, 16])\n",
      "Down: x.shape: torch.Size([1, 256, 8, 8]), emb.shape: torch.Size([1, 256, 8, 8])\n",
      "Down: x.shape: torch.Size([1, 128, 16, 16]), emb.shape: torch.Size([1, 128, 16, 16])\n",
      "Down: x.shape: torch.Size([1, 64, 32, 32]), emb.shape: torch.Size([1, 64, 32, 32])\n",
      "Down: x.shape: torch.Size([1, 64, 64, 64]), emb.shape: torch.Size([1, 64, 64, 64])\n",
      "Down: x.shape: torch.Size([1, 128, 32, 32]), emb.shape: torch.Size([1, 128, 32, 32])\n",
      "Down: x.shape: torch.Size([1, 256, 16, 16]), emb.shape: torch.Size([1, 256, 16, 16])\n",
      "Down: x.shape: torch.Size([1, 256, 8, 8]), emb.shape: torch.Size([1, 256, 8, 8])\n",
      "Down: x.shape: torch.Size([1, 128, 16, 16]), emb.shape: torch.Size([1, 128, 16, 16])\n",
      "Down: x.shape: torch.Size([1, 64, 32, 32]), emb.shape: torch.Size([1, 64, 32, 32])\n",
      "Down: x.shape: torch.Size([1, 64, 64, 64]), emb.shape: torch.Size([1, 64, 64, 64])\n",
      "Down: x.shape: torch.Size([1, 128, 32, 32]), emb.shape: torch.Size([1, 128, 32, 32])\n",
      "Down: x.shape: torch.Size([1, 256, 16, 16]), emb.shape: torch.Size([1, 256, 16, 16])\n",
      "Down: x.shape: torch.Size([1, 256, 8, 8]), emb.shape: torch.Size([1, 256, 8, 8])\n",
      "Down: x.shape: torch.Size([1, 128, 16, 16]), emb.shape: torch.Size([1, 128, 16, 16])\n",
      "Down: x.shape: torch.Size([1, 64, 32, 32]), emb.shape: torch.Size([1, 64, 32, 32])\n",
      "Down: x.shape: torch.Size([1, 64, 64, 64]), emb.shape: torch.Size([1, 64, 64, 64])\n",
      "Down: x.shape: torch.Size([1, 128, 32, 32]), emb.shape: torch.Size([1, 128, 32, 32])\n",
      "Down: x.shape: torch.Size([1, 256, 16, 16]), emb.shape: torch.Size([1, 256, 16, 16])\n",
      "Down: x.shape: torch.Size([1, 256, 8, 8]), emb.shape: torch.Size([1, 256, 8, 8])\n",
      "Down: x.shape: torch.Size([1, 128, 16, 16]), emb.shape: torch.Size([1, 128, 16, 16])\n",
      "Down: x.shape: torch.Size([1, 64, 32, 32]), emb.shape: torch.Size([1, 64, 32, 32])\n",
      "Down: x.shape: torch.Size([1, 64, 64, 64]), emb.shape: torch.Size([1, 64, 64, 64])\n",
      "Down: x.shape: torch.Size([1, 128, 32, 32]), emb.shape: torch.Size([1, 128, 32, 32])\n",
      "Down: x.shape: torch.Size([1, 256, 16, 16]), emb.shape: torch.Size([1, 256, 16, 16])\n",
      "Down: x.shape: torch.Size([1, 256, 8, 8]), emb.shape: torch.Size([1, 256, 8, 8])\n",
      "Down: x.shape: torch.Size([1, 128, 16, 16]), emb.shape: torch.Size([1, 128, 16, 16])\n",
      "Down: x.shape: torch.Size([1, 64, 32, 32]), emb.shape: torch.Size([1, 64, 32, 32])\n",
      "Down: x.shape: torch.Size([1, 64, 64, 64]), emb.shape: torch.Size([1, 64, 64, 64])\n"
     ]
    },
    {
     "name": "stderr",
     "output_type": "stream",
     "text": [
      "835it [00:38, 22.29it/s]"
     ]
    },
    {
     "name": "stdout",
     "output_type": "stream",
     "text": [
      "Down: x.shape: torch.Size([1, 128, 32, 32]), emb.shape: torch.Size([1, 128, 32, 32])\n",
      "Down: x.shape: torch.Size([1, 256, 16, 16]), emb.shape: torch.Size([1, 256, 16, 16])\n",
      "Down: x.shape: torch.Size([1, 256, 8, 8]), emb.shape: torch.Size([1, 256, 8, 8])\n",
      "Down: x.shape: torch.Size([1, 128, 16, 16]), emb.shape: torch.Size([1, 128, 16, 16])\n",
      "Down: x.shape: torch.Size([1, 64, 32, 32]), emb.shape: torch.Size([1, 64, 32, 32])\n",
      "Down: x.shape: torch.Size([1, 64, 64, 64]), emb.shape: torch.Size([1, 64, 64, 64])\n",
      "Down: x.shape: torch.Size([1, 128, 32, 32]), emb.shape: torch.Size([1, 128, 32, 32])\n",
      "Down: x.shape: torch.Size([1, 256, 16, 16]), emb.shape: torch.Size([1, 256, 16, 16])\n",
      "Down: x.shape: torch.Size([1, 256, 8, 8]), emb.shape: torch.Size([1, 256, 8, 8])\n",
      "Down: x.shape: torch.Size([1, 128, 16, 16]), emb.shape: torch.Size([1, 128, 16, 16])\n",
      "Down: x.shape: torch.Size([1, 64, 32, 32]), emb.shape: torch.Size([1, 64, 32, 32])\n",
      "Down: x.shape: torch.Size([1, 64, 64, 64]), emb.shape: torch.Size([1, 64, 64, 64])\n",
      "Down: x.shape: torch.Size([1, 128, 32, 32]), emb.shape: torch.Size([1, 128, 32, 32])\n",
      "Down: x.shape: torch.Size([1, 256, 16, 16]), emb.shape: torch.Size([1, 256, 16, 16])\n",
      "Down: x.shape: torch.Size([1, 256, 8, 8]), emb.shape: torch.Size([1, 256, 8, 8])\n",
      "Down: x.shape: torch.Size([1, 128, 16, 16]), emb.shape: torch.Size([1, 128, 16, 16])\n",
      "Down: x.shape: torch.Size([1, 64, 32, 32]), emb.shape: torch.Size([1, 64, 32, 32])\n",
      "Down: x.shape: torch.Size([1, 64, 64, 64]), emb.shape: torch.Size([1, 64, 64, 64])\n",
      "Down: x.shape: torch.Size([1, 128, 32, 32]), emb.shape: torch.Size([1, 128, 32, 32])\n",
      "Down: x.shape: torch.Size([1, 256, 16, 16]), emb.shape: torch.Size([1, 256, 16, 16])\n",
      "Down: x.shape: torch.Size([1, 256, 8, 8]), emb.shape: torch.Size([1, 256, 8, 8])\n",
      "Down: x.shape: torch.Size([1, 128, 16, 16]), emb.shape: torch.Size([1, 128, 16, 16])\n",
      "Down: x.shape: torch.Size([1, 64, 32, 32]), emb.shape: torch.Size([1, 64, 32, 32])\n",
      "Down: x.shape: torch.Size([1, 64, 64, 64]), emb.shape: torch.Size([1, 64, 64, 64])\n",
      "Down: x.shape: torch.Size([1, 128, 32, 32]), emb.shape: torch.Size([1, 128, 32, 32])\n",
      "Down: x.shape: torch.Size([1, 256, 16, 16]), emb.shape: torch.Size([1, 256, 16, 16])\n",
      "Down: x.shape: torch.Size([1, 256, 8, 8]), emb.shape: torch.Size([1, 256, 8, 8])\n",
      "Down: x.shape: torch.Size([1, 128, 16, 16]), emb.shape: torch.Size([1, 128, 16, 16])\n",
      "Down: x.shape: torch.Size([1, 64, 32, 32]), emb.shape: torch.Size([1, 64, 32, 32])\n",
      "Down: x.shape: torch.Size([1, 64, 64, 64]), emb.shape: torch.Size([1, 64, 64, 64])\n"
     ]
    },
    {
     "name": "stderr",
     "output_type": "stream",
     "text": [
      "841it [00:38, 22.25it/s]"
     ]
    },
    {
     "name": "stdout",
     "output_type": "stream",
     "text": [
      "Down: x.shape: torch.Size([1, 128, 32, 32]), emb.shape: torch.Size([1, 128, 32, 32])\n",
      "Down: x.shape: torch.Size([1, 256, 16, 16]), emb.shape: torch.Size([1, 256, 16, 16])\n",
      "Down: x.shape: torch.Size([1, 256, 8, 8]), emb.shape: torch.Size([1, 256, 8, 8])\n",
      "Down: x.shape: torch.Size([1, 128, 16, 16]), emb.shape: torch.Size([1, 128, 16, 16])\n",
      "Down: x.shape: torch.Size([1, 64, 32, 32]), emb.shape: torch.Size([1, 64, 32, 32])\n",
      "Down: x.shape: torch.Size([1, 64, 64, 64]), emb.shape: torch.Size([1, 64, 64, 64])\n",
      "Down: x.shape: torch.Size([1, 128, 32, 32]), emb.shape: torch.Size([1, 128, 32, 32])\n",
      "Down: x.shape: torch.Size([1, 256, 16, 16]), emb.shape: torch.Size([1, 256, 16, 16])\n",
      "Down: x.shape: torch.Size([1, 256, 8, 8]), emb.shape: torch.Size([1, 256, 8, 8])\n",
      "Down: x.shape: torch.Size([1, 128, 16, 16]), emb.shape: torch.Size([1, 128, 16, 16])\n",
      "Down: x.shape: torch.Size([1, 64, 32, 32]), emb.shape: torch.Size([1, 64, 32, 32])\n",
      "Down: x.shape: torch.Size([1, 64, 64, 64]), emb.shape: torch.Size([1, 64, 64, 64])\n",
      "Down: x.shape: torch.Size([1, 128, 32, 32]), emb.shape: torch.Size([1, 128, 32, 32])\n",
      "Down: x.shape: torch.Size([1, 256, 16, 16]), emb.shape: torch.Size([1, 256, 16, 16])\n",
      "Down: x.shape: torch.Size([1, 256, 8, 8]), emb.shape: torch.Size([1, 256, 8, 8])\n",
      "Down: x.shape: torch.Size([1, 128, 16, 16]), emb.shape: torch.Size([1, 128, 16, 16])\n",
      "Down: x.shape: torch.Size([1, 64, 32, 32]), emb.shape: torch.Size([1, 64, 32, 32])\n",
      "Down: x.shape: torch.Size([1, 64, 64, 64]), emb.shape: torch.Size([1, 64, 64, 64])\n",
      "Down: x.shape: torch.Size([1, 128, 32, 32]), emb.shape: torch.Size([1, 128, 32, 32])\n",
      "Down: x.shape: torch.Size([1, 256, 16, 16]), emb.shape: torch.Size([1, 256, 16, 16])\n",
      "Down: x.shape: torch.Size([1, 256, 8, 8]), emb.shape: torch.Size([1, 256, 8, 8])\n",
      "Down: x.shape: torch.Size([1, 128, 16, 16]), emb.shape: torch.Size([1, 128, 16, 16])\n",
      "Down: x.shape: torch.Size([1, 64, 32, 32]), emb.shape: torch.Size([1, 64, 32, 32])\n",
      "Down: x.shape: torch.Size([1, 64, 64, 64]), emb.shape: torch.Size([1, 64, 64, 64])\n",
      "Down: x.shape: torch.Size([1, 128, 32, 32]), emb.shape: torch.Size([1, 128, 32, 32])\n",
      "Down: x.shape: torch.Size([1, 256, 16, 16]), emb.shape: torch.Size([1, 256, 16, 16])\n",
      "Down: x.shape: torch.Size([1, 256, 8, 8]), emb.shape: torch.Size([1, 256, 8, 8])\n",
      "Down: x.shape: torch.Size([1, 128, 16, 16]), emb.shape: torch.Size([1, 128, 16, 16])\n",
      "Down: x.shape: torch.Size([1, 64, 32, 32]), emb.shape: torch.Size([1, 64, 32, 32])\n",
      "Down: x.shape: torch.Size([1, 64, 64, 64]), emb.shape: torch.Size([1, 64, 64, 64])\n"
     ]
    },
    {
     "name": "stderr",
     "output_type": "stream",
     "text": [
      "844it [00:38, 22.24it/s]"
     ]
    },
    {
     "name": "stdout",
     "output_type": "stream",
     "text": [
      "Down: x.shape: torch.Size([1, 128, 32, 32]), emb.shape: torch.Size([1, 128, 32, 32])\n",
      "Down: x.shape: torch.Size([1, 256, 16, 16]), emb.shape: torch.Size([1, 256, 16, 16])\n",
      "Down: x.shape: torch.Size([1, 256, 8, 8]), emb.shape: torch.Size([1, 256, 8, 8])\n",
      "Down: x.shape: torch.Size([1, 128, 16, 16]), emb.shape: torch.Size([1, 128, 16, 16])\n",
      "Down: x.shape: torch.Size([1, 64, 32, 32]), emb.shape: torch.Size([1, 64, 32, 32])\n",
      "Down: x.shape: torch.Size([1, 64, 64, 64]), emb.shape: torch.Size([1, 64, 64, 64])\n",
      "Down: x.shape: torch.Size([1, 128, 32, 32]), emb.shape: torch.Size([1, 128, 32, 32])\n",
      "Down: x.shape: torch.Size([1, 256, 16, 16]), emb.shape: torch.Size([1, 256, 16, 16])\n",
      "Down: x.shape: torch.Size([1, 256, 8, 8]), emb.shape: torch.Size([1, 256, 8, 8])\n",
      "Down: x.shape: torch.Size([1, 128, 16, 16]), emb.shape: torch.Size([1, 128, 16, 16])\n",
      "Down: x.shape: torch.Size([1, 64, 32, 32]), emb.shape: torch.Size([1, 64, 32, 32])\n",
      "Down: x.shape: torch.Size([1, 64, 64, 64]), emb.shape: torch.Size([1, 64, 64, 64])\n",
      "Down: x.shape: torch.Size([1, 128, 32, 32]), emb.shape: torch.Size([1, 128, 32, 32])\n",
      "Down: x.shape: torch.Size([1, 256, 16, 16]), emb.shape: torch.Size([1, 256, 16, 16])\n",
      "Down: x.shape: torch.Size([1, 256, 8, 8]), emb.shape: torch.Size([1, 256, 8, 8])\n",
      "Down: x.shape: torch.Size([1, 128, 16, 16]), emb.shape: torch.Size([1, 128, 16, 16])\n",
      "Down: x.shape: torch.Size([1, 64, 32, 32]), emb.shape: torch.Size([1, 64, 32, 32])\n",
      "Down: x.shape: torch.Size([1, 64, 64, 64]), emb.shape: torch.Size([1, 64, 64, 64])\n",
      "Down: x.shape: torch.Size([1, 128, 32, 32]), emb.shape: torch.Size([1, 128, 32, 32])\n",
      "Down: x.shape: torch.Size([1, 256, 16, 16]), emb.shape: torch.Size([1, 256, 16, 16])\n",
      "Down: x.shape: torch.Size([1, 256, 8, 8]), emb.shape: torch.Size([1, 256, 8, 8])\n",
      "Down: x.shape: torch.Size([1, 128, 16, 16]), emb.shape: torch.Size([1, 128, 16, 16])\n",
      "Down: x.shape: torch.Size([1, 64, 32, 32]), emb.shape: torch.Size([1, 64, 32, 32])\n",
      "Down: x.shape: torch.Size([1, 64, 64, 64]), emb.shape: torch.Size([1, 64, 64, 64])\n",
      "Down: x.shape: torch.Size([1, 128, 32, 32]), emb.shape: torch.Size([1, 128, 32, 32])\n",
      "Down: x.shape: torch.Size([1, 256, 16, 16]), emb.shape: torch.Size([1, 256, 16, 16])\n",
      "Down: x.shape: torch.Size([1, 256, 8, 8]), emb.shape: torch.Size([1, 256, 8, 8])\n",
      "Down: x.shape: torch.Size([1, 128, 16, 16]), emb.shape: torch.Size([1, 128, 16, 16])\n",
      "Down: x.shape: torch.Size([1, 64, 32, 32]), emb.shape: torch.Size([1, 64, 32, 32])\n",
      "Down: x.shape: torch.Size([1, 64, 64, 64]), emb.shape: torch.Size([1, 64, 64, 64])\n"
     ]
    },
    {
     "name": "stderr",
     "output_type": "stream",
     "text": [
      "850it [00:39, 22.25it/s]"
     ]
    },
    {
     "name": "stdout",
     "output_type": "stream",
     "text": [
      "Down: x.shape: torch.Size([1, 128, 32, 32]), emb.shape: torch.Size([1, 128, 32, 32])\n",
      "Down: x.shape: torch.Size([1, 256, 16, 16]), emb.shape: torch.Size([1, 256, 16, 16])\n",
      "Down: x.shape: torch.Size([1, 256, 8, 8]), emb.shape: torch.Size([1, 256, 8, 8])\n",
      "Down: x.shape: torch.Size([1, 128, 16, 16]), emb.shape: torch.Size([1, 128, 16, 16])\n",
      "Down: x.shape: torch.Size([1, 64, 32, 32]), emb.shape: torch.Size([1, 64, 32, 32])\n",
      "Down: x.shape: torch.Size([1, 64, 64, 64]), emb.shape: torch.Size([1, 64, 64, 64])\n",
      "Down: x.shape: torch.Size([1, 128, 32, 32]), emb.shape: torch.Size([1, 128, 32, 32])\n",
      "Down: x.shape: torch.Size([1, 256, 16, 16]), emb.shape: torch.Size([1, 256, 16, 16])\n",
      "Down: x.shape: torch.Size([1, 256, 8, 8]), emb.shape: torch.Size([1, 256, 8, 8])\n",
      "Down: x.shape: torch.Size([1, 128, 16, 16]), emb.shape: torch.Size([1, 128, 16, 16])\n",
      "Down: x.shape: torch.Size([1, 64, 32, 32]), emb.shape: torch.Size([1, 64, 32, 32])\n",
      "Down: x.shape: torch.Size([1, 64, 64, 64]), emb.shape: torch.Size([1, 64, 64, 64])\n",
      "Down: x.shape: torch.Size([1, 128, 32, 32]), emb.shape: torch.Size([1, 128, 32, 32])\n",
      "Down: x.shape: torch.Size([1, 256, 16, 16]), emb.shape: torch.Size([1, 256, 16, 16])\n",
      "Down: x.shape: torch.Size([1, 256, 8, 8]), emb.shape: torch.Size([1, 256, 8, 8])\n",
      "Down: x.shape: torch.Size([1, 128, 16, 16]), emb.shape: torch.Size([1, 128, 16, 16])\n",
      "Down: x.shape: torch.Size([1, 64, 32, 32]), emb.shape: torch.Size([1, 64, 32, 32])\n",
      "Down: x.shape: torch.Size([1, 64, 64, 64]), emb.shape: torch.Size([1, 64, 64, 64])\n",
      "Down: x.shape: torch.Size([1, 128, 32, 32]), emb.shape: torch.Size([1, 128, 32, 32])\n",
      "Down: x.shape: torch.Size([1, 256, 16, 16]), emb.shape: torch.Size([1, 256, 16, 16])\n",
      "Down: x.shape: torch.Size([1, 256, 8, 8]), emb.shape: torch.Size([1, 256, 8, 8])\n",
      "Down: x.shape: torch.Size([1, 128, 16, 16]), emb.shape: torch.Size([1, 128, 16, 16])\n",
      "Down: x.shape: torch.Size([1, 64, 32, 32]), emb.shape: torch.Size([1, 64, 32, 32])\n",
      "Down: x.shape: torch.Size([1, 64, 64, 64]), emb.shape: torch.Size([1, 64, 64, 64])\n",
      "Down: x.shape: torch.Size([1, 128, 32, 32]), emb.shape: torch.Size([1, 128, 32, 32])\n",
      "Down: x.shape: torch.Size([1, 256, 16, 16]), emb.shape: torch.Size([1, 256, 16, 16])\n",
      "Down: x.shape: torch.Size([1, 256, 8, 8]), emb.shape: torch.Size([1, 256, 8, 8])\n",
      "Down: x.shape: torch.Size([1, 128, 16, 16]), emb.shape: torch.Size([1, 128, 16, 16])\n",
      "Down: x.shape: torch.Size([1, 64, 32, 32]), emb.shape: torch.Size([1, 64, 32, 32])\n",
      "Down: x.shape: torch.Size([1, 64, 64, 64]), emb.shape: torch.Size([1, 64, 64, 64])\n"
     ]
    },
    {
     "name": "stderr",
     "output_type": "stream",
     "text": [
      "853it [00:39, 21.82it/s]"
     ]
    },
    {
     "name": "stdout",
     "output_type": "stream",
     "text": [
      "Down: x.shape: torch.Size([1, 128, 32, 32]), emb.shape: torch.Size([1, 128, 32, 32])\n",
      "Down: x.shape: torch.Size([1, 256, 16, 16]), emb.shape: torch.Size([1, 256, 16, 16])\n",
      "Down: x.shape: torch.Size([1, 256, 8, 8]), emb.shape: torch.Size([1, 256, 8, 8])\n",
      "Down: x.shape: torch.Size([1, 128, 16, 16]), emb.shape: torch.Size([1, 128, 16, 16])\n",
      "Down: x.shape: torch.Size([1, 64, 32, 32]), emb.shape: torch.Size([1, 64, 32, 32])\n",
      "Down: x.shape: torch.Size([1, 64, 64, 64]), emb.shape: torch.Size([1, 64, 64, 64])\n",
      "Down: x.shape: torch.Size([1, 128, 32, 32]), emb.shape: torch.Size([1, 128, 32, 32])\n",
      "Down: x.shape: torch.Size([1, 256, 16, 16]), emb.shape: torch.Size([1, 256, 16, 16])\n",
      "Down: x.shape: torch.Size([1, 256, 8, 8]), emb.shape: torch.Size([1, 256, 8, 8])\n",
      "Down: x.shape: torch.Size([1, 128, 16, 16]), emb.shape: torch.Size([1, 128, 16, 16])\n",
      "Down: x.shape: torch.Size([1, 64, 32, 32]), emb.shape: torch.Size([1, 64, 32, 32])\n",
      "Down: x.shape: torch.Size([1, 64, 64, 64]), emb.shape: torch.Size([1, 64, 64, 64])\n",
      "Down: x.shape: torch.Size([1, 128, 32, 32]), emb.shape: torch.Size([1, 128, 32, 32])\n",
      "Down: x.shape: torch.Size([1, 256, 16, 16]), emb.shape: torch.Size([1, 256, 16, 16])\n",
      "Down: x.shape: torch.Size([1, 256, 8, 8]), emb.shape: torch.Size([1, 256, 8, 8])\n",
      "Down: x.shape: torch.Size([1, 128, 16, 16]), emb.shape: torch.Size([1, 128, 16, 16])\n",
      "Down: x.shape: torch.Size([1, 64, 32, 32]), emb.shape: torch.Size([1, 64, 32, 32])\n",
      "Down: x.shape: torch.Size([1, 64, 64, 64]), emb.shape: torch.Size([1, 64, 64, 64])\n",
      "Down: x.shape: torch.Size([1, 128, 32, 32]), emb.shape: torch.Size([1, 128, 32, 32])\n",
      "Down: x.shape: torch.Size([1, 256, 16, 16]), emb.shape: torch.Size([1, 256, 16, 16])\n",
      "Down: x.shape: torch.Size([1, 256, 8, 8]), emb.shape: torch.Size([1, 256, 8, 8])\n",
      "Down: x.shape: torch.Size([1, 128, 16, 16]), emb.shape: torch.Size([1, 128, 16, 16])\n",
      "Down: x.shape: torch.Size([1, 64, 32, 32]), emb.shape: torch.Size([1, 64, 32, 32])\n",
      "Down: x.shape: torch.Size([1, 64, 64, 64]), emb.shape: torch.Size([1, 64, 64, 64])\n",
      "Down: x.shape: torch.Size([1, 128, 32, 32]), emb.shape: torch.Size([1, 128, 32, 32])\n",
      "Down: x.shape: torch.Size([1, 256, 16, 16]), emb.shape: torch.Size([1, 256, 16, 16])\n",
      "Down: x.shape: torch.Size([1, 256, 8, 8]), emb.shape: torch.Size([1, 256, 8, 8])\n",
      "Down: x.shape: torch.Size([1, 128, 16, 16]), emb.shape: torch.Size([1, 128, 16, 16])\n",
      "Down: x.shape: torch.Size([1, 64, 32, 32]), emb.shape: torch.Size([1, 64, 32, 32])\n"
     ]
    },
    {
     "name": "stderr",
     "output_type": "stream",
     "text": [
      "859it [00:39, 22.31it/s]"
     ]
    },
    {
     "name": "stdout",
     "output_type": "stream",
     "text": [
      "Down: x.shape: torch.Size([1, 64, 64, 64]), emb.shape: torch.Size([1, 64, 64, 64])\n",
      "Down: x.shape: torch.Size([1, 128, 32, 32]), emb.shape: torch.Size([1, 128, 32, 32])\n",
      "Down: x.shape: torch.Size([1, 256, 16, 16]), emb.shape: torch.Size([1, 256, 16, 16])\n",
      "Down: x.shape: torch.Size([1, 256, 8, 8]), emb.shape: torch.Size([1, 256, 8, 8])\n",
      "Down: x.shape: torch.Size([1, 128, 16, 16]), emb.shape: torch.Size([1, 128, 16, 16])\n",
      "Down: x.shape: torch.Size([1, 64, 32, 32]), emb.shape: torch.Size([1, 64, 32, 32])\n",
      "Down: x.shape: torch.Size([1, 64, 64, 64]), emb.shape: torch.Size([1, 64, 64, 64])\n",
      "Down: x.shape: torch.Size([1, 128, 32, 32]), emb.shape: torch.Size([1, 128, 32, 32])\n",
      "Down: x.shape: torch.Size([1, 256, 16, 16]), emb.shape: torch.Size([1, 256, 16, 16])\n",
      "Down: x.shape: torch.Size([1, 256, 8, 8]), emb.shape: torch.Size([1, 256, 8, 8])\n",
      "Down: x.shape: torch.Size([1, 128, 16, 16]), emb.shape: torch.Size([1, 128, 16, 16])\n",
      "Down: x.shape: torch.Size([1, 64, 32, 32]), emb.shape: torch.Size([1, 64, 32, 32])\n",
      "Down: x.shape: torch.Size([1, 64, 64, 64]), emb.shape: torch.Size([1, 64, 64, 64])\n",
      "Down: x.shape: torch.Size([1, 128, 32, 32]), emb.shape: torch.Size([1, 128, 32, 32])\n",
      "Down: x.shape: torch.Size([1, 256, 16, 16]), emb.shape: torch.Size([1, 256, 16, 16])\n",
      "Down: x.shape: torch.Size([1, 256, 8, 8]), emb.shape: torch.Size([1, 256, 8, 8])\n",
      "Down: x.shape: torch.Size([1, 128, 16, 16]), emb.shape: torch.Size([1, 128, 16, 16])\n",
      "Down: x.shape: torch.Size([1, 64, 32, 32]), emb.shape: torch.Size([1, 64, 32, 32])\n",
      "Down: x.shape: torch.Size([1, 64, 64, 64]), emb.shape: torch.Size([1, 64, 64, 64])\n",
      "Down: x.shape: torch.Size([1, 128, 32, 32]), emb.shape: torch.Size([1, 128, 32, 32])\n",
      "Down: x.shape: torch.Size([1, 256, 16, 16]), emb.shape: torch.Size([1, 256, 16, 16])\n",
      "Down: x.shape: torch.Size([1, 256, 8, 8]), emb.shape: torch.Size([1, 256, 8, 8])\n",
      "Down: x.shape: torch.Size([1, 128, 16, 16]), emb.shape: torch.Size([1, 128, 16, 16])\n",
      "Down: x.shape: torch.Size([1, 64, 32, 32]), emb.shape: torch.Size([1, 64, 32, 32])\n",
      "Down: x.shape: torch.Size([1, 64, 64, 64]), emb.shape: torch.Size([1, 64, 64, 64])\n",
      "Down: x.shape: torch.Size([1, 128, 32, 32]), emb.shape: torch.Size([1, 128, 32, 32])\n",
      "Down: x.shape: torch.Size([1, 256, 16, 16]), emb.shape: torch.Size([1, 256, 16, 16])\n",
      "Down: x.shape: torch.Size([1, 256, 8, 8]), emb.shape: torch.Size([1, 256, 8, 8])\n",
      "Down: x.shape: torch.Size([1, 128, 16, 16]), emb.shape: torch.Size([1, 128, 16, 16])\n",
      "Down: x.shape: torch.Size([1, 64, 32, 32]), emb.shape: torch.Size([1, 64, 32, 32])\n",
      "Down: x.shape: torch.Size([1, 64, 64, 64]), emb.shape: torch.Size([1, 64, 64, 64])\n"
     ]
    },
    {
     "name": "stderr",
     "output_type": "stream",
     "text": [
      "865it [00:39, 22.28it/s]"
     ]
    },
    {
     "name": "stdout",
     "output_type": "stream",
     "text": [
      "Down: x.shape: torch.Size([1, 128, 32, 32]), emb.shape: torch.Size([1, 128, 32, 32])\n",
      "Down: x.shape: torch.Size([1, 256, 16, 16]), emb.shape: torch.Size([1, 256, 16, 16])\n",
      "Down: x.shape: torch.Size([1, 256, 8, 8]), emb.shape: torch.Size([1, 256, 8, 8])\n",
      "Down: x.shape: torch.Size([1, 128, 16, 16]), emb.shape: torch.Size([1, 128, 16, 16])\n",
      "Down: x.shape: torch.Size([1, 64, 32, 32]), emb.shape: torch.Size([1, 64, 32, 32])\n",
      "Down: x.shape: torch.Size([1, 64, 64, 64]), emb.shape: torch.Size([1, 64, 64, 64])\n",
      "Down: x.shape: torch.Size([1, 128, 32, 32]), emb.shape: torch.Size([1, 128, 32, 32])\n",
      "Down: x.shape: torch.Size([1, 256, 16, 16]), emb.shape: torch.Size([1, 256, 16, 16])\n",
      "Down: x.shape: torch.Size([1, 256, 8, 8]), emb.shape: torch.Size([1, 256, 8, 8])\n",
      "Down: x.shape: torch.Size([1, 128, 16, 16]), emb.shape: torch.Size([1, 128, 16, 16])\n",
      "Down: x.shape: torch.Size([1, 64, 32, 32]), emb.shape: torch.Size([1, 64, 32, 32])\n",
      "Down: x.shape: torch.Size([1, 64, 64, 64]), emb.shape: torch.Size([1, 64, 64, 64])\n",
      "Down: x.shape: torch.Size([1, 128, 32, 32]), emb.shape: torch.Size([1, 128, 32, 32])\n",
      "Down: x.shape: torch.Size([1, 256, 16, 16]), emb.shape: torch.Size([1, 256, 16, 16])\n",
      "Down: x.shape: torch.Size([1, 256, 8, 8]), emb.shape: torch.Size([1, 256, 8, 8])\n",
      "Down: x.shape: torch.Size([1, 128, 16, 16]), emb.shape: torch.Size([1, 128, 16, 16])\n",
      "Down: x.shape: torch.Size([1, 64, 32, 32]), emb.shape: torch.Size([1, 64, 32, 32])\n",
      "Down: x.shape: torch.Size([1, 64, 64, 64]), emb.shape: torch.Size([1, 64, 64, 64])\n",
      "Down: x.shape: torch.Size([1, 128, 32, 32]), emb.shape: torch.Size([1, 128, 32, 32])\n",
      "Down: x.shape: torch.Size([1, 256, 16, 16]), emb.shape: torch.Size([1, 256, 16, 16])\n",
      "Down: x.shape: torch.Size([1, 256, 8, 8]), emb.shape: torch.Size([1, 256, 8, 8])\n",
      "Down: x.shape: torch.Size([1, 128, 16, 16]), emb.shape: torch.Size([1, 128, 16, 16])\n",
      "Down: x.shape: torch.Size([1, 64, 32, 32]), emb.shape: torch.Size([1, 64, 32, 32])\n",
      "Down: x.shape: torch.Size([1, 64, 64, 64]), emb.shape: torch.Size([1, 64, 64, 64])\n",
      "Down: x.shape: torch.Size([1, 128, 32, 32]), emb.shape: torch.Size([1, 128, 32, 32])\n",
      "Down: x.shape: torch.Size([1, 256, 16, 16]), emb.shape: torch.Size([1, 256, 16, 16])\n",
      "Down: x.shape: torch.Size([1, 256, 8, 8]), emb.shape: torch.Size([1, 256, 8, 8])\n",
      "Down: x.shape: torch.Size([1, 128, 16, 16]), emb.shape: torch.Size([1, 128, 16, 16])\n",
      "Down: x.shape: torch.Size([1, 64, 32, 32]), emb.shape: torch.Size([1, 64, 32, 32])\n",
      "Down: x.shape: torch.Size([1, 64, 64, 64]), emb.shape: torch.Size([1, 64, 64, 64])\n"
     ]
    },
    {
     "name": "stderr",
     "output_type": "stream",
     "text": [
      "871it [00:40, 22.28it/s]"
     ]
    },
    {
     "name": "stdout",
     "output_type": "stream",
     "text": [
      "Down: x.shape: torch.Size([1, 128, 32, 32]), emb.shape: torch.Size([1, 128, 32, 32])\n",
      "Down: x.shape: torch.Size([1, 256, 16, 16]), emb.shape: torch.Size([1, 256, 16, 16])\n",
      "Down: x.shape: torch.Size([1, 256, 8, 8]), emb.shape: torch.Size([1, 256, 8, 8])\n",
      "Down: x.shape: torch.Size([1, 128, 16, 16]), emb.shape: torch.Size([1, 128, 16, 16])\n",
      "Down: x.shape: torch.Size([1, 64, 32, 32]), emb.shape: torch.Size([1, 64, 32, 32])\n",
      "Down: x.shape: torch.Size([1, 64, 64, 64]), emb.shape: torch.Size([1, 64, 64, 64])\n",
      "Down: x.shape: torch.Size([1, 128, 32, 32]), emb.shape: torch.Size([1, 128, 32, 32])\n",
      "Down: x.shape: torch.Size([1, 256, 16, 16]), emb.shape: torch.Size([1, 256, 16, 16])\n",
      "Down: x.shape: torch.Size([1, 256, 8, 8]), emb.shape: torch.Size([1, 256, 8, 8])\n",
      "Down: x.shape: torch.Size([1, 128, 16, 16]), emb.shape: torch.Size([1, 128, 16, 16])\n",
      "Down: x.shape: torch.Size([1, 64, 32, 32]), emb.shape: torch.Size([1, 64, 32, 32])\n",
      "Down: x.shape: torch.Size([1, 64, 64, 64]), emb.shape: torch.Size([1, 64, 64, 64])\n",
      "Down: x.shape: torch.Size([1, 128, 32, 32]), emb.shape: torch.Size([1, 128, 32, 32])\n",
      "Down: x.shape: torch.Size([1, 256, 16, 16]), emb.shape: torch.Size([1, 256, 16, 16])\n",
      "Down: x.shape: torch.Size([1, 256, 8, 8]), emb.shape: torch.Size([1, 256, 8, 8])\n",
      "Down: x.shape: torch.Size([1, 128, 16, 16]), emb.shape: torch.Size([1, 128, 16, 16])\n",
      "Down: x.shape: torch.Size([1, 64, 32, 32]), emb.shape: torch.Size([1, 64, 32, 32])\n",
      "Down: x.shape: torch.Size([1, 64, 64, 64]), emb.shape: torch.Size([1, 64, 64, 64])\n",
      "Down: x.shape: torch.Size([1, 128, 32, 32]), emb.shape: torch.Size([1, 128, 32, 32])\n",
      "Down: x.shape: torch.Size([1, 256, 16, 16]), emb.shape: torch.Size([1, 256, 16, 16])\n",
      "Down: x.shape: torch.Size([1, 256, 8, 8]), emb.shape: torch.Size([1, 256, 8, 8])\n",
      "Down: x.shape: torch.Size([1, 128, 16, 16]), emb.shape: torch.Size([1, 128, 16, 16])\n",
      "Down: x.shape: torch.Size([1, 64, 32, 32]), emb.shape: torch.Size([1, 64, 32, 32])\n",
      "Down: x.shape: torch.Size([1, 64, 64, 64]), emb.shape: torch.Size([1, 64, 64, 64])\n",
      "Down: x.shape: torch.Size([1, 128, 32, 32]), emb.shape: torch.Size([1, 128, 32, 32])\n",
      "Down: x.shape: torch.Size([1, 256, 16, 16]), emb.shape: torch.Size([1, 256, 16, 16])\n",
      "Down: x.shape: torch.Size([1, 256, 8, 8]), emb.shape: torch.Size([1, 256, 8, 8])\n",
      "Down: x.shape: torch.Size([1, 128, 16, 16]), emb.shape: torch.Size([1, 128, 16, 16])\n",
      "Down: x.shape: torch.Size([1, 64, 32, 32]), emb.shape: torch.Size([1, 64, 32, 32])\n",
      "Down: x.shape: torch.Size([1, 64, 64, 64]), emb.shape: torch.Size([1, 64, 64, 64])\n"
     ]
    },
    {
     "name": "stderr",
     "output_type": "stream",
     "text": [
      "874it [00:40, 22.15it/s]"
     ]
    },
    {
     "name": "stdout",
     "output_type": "stream",
     "text": [
      "Down: x.shape: torch.Size([1, 128, 32, 32]), emb.shape: torch.Size([1, 128, 32, 32])\n",
      "Down: x.shape: torch.Size([1, 256, 16, 16]), emb.shape: torch.Size([1, 256, 16, 16])\n",
      "Down: x.shape: torch.Size([1, 256, 8, 8]), emb.shape: torch.Size([1, 256, 8, 8])\n",
      "Down: x.shape: torch.Size([1, 128, 16, 16]), emb.shape: torch.Size([1, 128, 16, 16])\n",
      "Down: x.shape: torch.Size([1, 64, 32, 32]), emb.shape: torch.Size([1, 64, 32, 32])\n",
      "Down: x.shape: torch.Size([1, 64, 64, 64]), emb.shape: torch.Size([1, 64, 64, 64])\n",
      "Down: x.shape: torch.Size([1, 128, 32, 32]), emb.shape: torch.Size([1, 128, 32, 32])\n",
      "Down: x.shape: torch.Size([1, 256, 16, 16]), emb.shape: torch.Size([1, 256, 16, 16])\n",
      "Down: x.shape: torch.Size([1, 256, 8, 8]), emb.shape: torch.Size([1, 256, 8, 8])\n",
      "Down: x.shape: torch.Size([1, 128, 16, 16]), emb.shape: torch.Size([1, 128, 16, 16])\n",
      "Down: x.shape: torch.Size([1, 64, 32, 32]), emb.shape: torch.Size([1, 64, 32, 32])\n",
      "Down: x.shape: torch.Size([1, 64, 64, 64]), emb.shape: torch.Size([1, 64, 64, 64])\n",
      "Down: x.shape: torch.Size([1, 128, 32, 32]), emb.shape: torch.Size([1, 128, 32, 32])\n",
      "Down: x.shape: torch.Size([1, 256, 16, 16]), emb.shape: torch.Size([1, 256, 16, 16])\n",
      "Down: x.shape: torch.Size([1, 256, 8, 8]), emb.shape: torch.Size([1, 256, 8, 8])\n",
      "Down: x.shape: torch.Size([1, 128, 16, 16]), emb.shape: torch.Size([1, 128, 16, 16])\n",
      "Down: x.shape: torch.Size([1, 64, 32, 32]), emb.shape: torch.Size([1, 64, 32, 32])\n",
      "Down: x.shape: torch.Size([1, 64, 64, 64]), emb.shape: torch.Size([1, 64, 64, 64])\n",
      "Down: x.shape: torch.Size([1, 128, 32, 32]), emb.shape: torch.Size([1, 128, 32, 32])\n",
      "Down: x.shape: torch.Size([1, 256, 16, 16]), emb.shape: torch.Size([1, 256, 16, 16])\n",
      "Down: x.shape: torch.Size([1, 256, 8, 8]), emb.shape: torch.Size([1, 256, 8, 8])\n",
      "Down: x.shape: torch.Size([1, 128, 16, 16]), emb.shape: torch.Size([1, 128, 16, 16])\n",
      "Down: x.shape: torch.Size([1, 64, 32, 32]), emb.shape: torch.Size([1, 64, 32, 32])\n",
      "Down: x.shape: torch.Size([1, 64, 64, 64]), emb.shape: torch.Size([1, 64, 64, 64])\n",
      "Down: x.shape: torch.Size([1, 128, 32, 32]), emb.shape: torch.Size([1, 128, 32, 32])\n",
      "Down: x.shape: torch.Size([1, 256, 16, 16]), emb.shape: torch.Size([1, 256, 16, 16])\n",
      "Down: x.shape: torch.Size([1, 256, 8, 8]), emb.shape: torch.Size([1, 256, 8, 8])\n",
      "Down: x.shape: torch.Size([1, 128, 16, 16]), emb.shape: torch.Size([1, 128, 16, 16])\n",
      "Down: x.shape: torch.Size([1, 64, 32, 32]), emb.shape: torch.Size([1, 64, 32, 32])\n",
      "Down: x.shape: torch.Size([1, 64, 64, 64]), emb.shape: torch.Size([1, 64, 64, 64])\n"
     ]
    },
    {
     "name": "stderr",
     "output_type": "stream",
     "text": [
      "880it [00:40, 22.28it/s]"
     ]
    },
    {
     "name": "stdout",
     "output_type": "stream",
     "text": [
      "Down: x.shape: torch.Size([1, 128, 32, 32]), emb.shape: torch.Size([1, 128, 32, 32])\n",
      "Down: x.shape: torch.Size([1, 256, 16, 16]), emb.shape: torch.Size([1, 256, 16, 16])\n",
      "Down: x.shape: torch.Size([1, 256, 8, 8]), emb.shape: torch.Size([1, 256, 8, 8])\n",
      "Down: x.shape: torch.Size([1, 128, 16, 16]), emb.shape: torch.Size([1, 128, 16, 16])\n",
      "Down: x.shape: torch.Size([1, 64, 32, 32]), emb.shape: torch.Size([1, 64, 32, 32])\n",
      "Down: x.shape: torch.Size([1, 64, 64, 64]), emb.shape: torch.Size([1, 64, 64, 64])\n",
      "Down: x.shape: torch.Size([1, 128, 32, 32]), emb.shape: torch.Size([1, 128, 32, 32])\n",
      "Down: x.shape: torch.Size([1, 256, 16, 16]), emb.shape: torch.Size([1, 256, 16, 16])\n",
      "Down: x.shape: torch.Size([1, 256, 8, 8]), emb.shape: torch.Size([1, 256, 8, 8])\n",
      "Down: x.shape: torch.Size([1, 128, 16, 16]), emb.shape: torch.Size([1, 128, 16, 16])\n",
      "Down: x.shape: torch.Size([1, 64, 32, 32]), emb.shape: torch.Size([1, 64, 32, 32])\n",
      "Down: x.shape: torch.Size([1, 64, 64, 64]), emb.shape: torch.Size([1, 64, 64, 64])\n",
      "Down: x.shape: torch.Size([1, 128, 32, 32]), emb.shape: torch.Size([1, 128, 32, 32])\n",
      "Down: x.shape: torch.Size([1, 256, 16, 16]), emb.shape: torch.Size([1, 256, 16, 16])\n",
      "Down: x.shape: torch.Size([1, 256, 8, 8]), emb.shape: torch.Size([1, 256, 8, 8])\n",
      "Down: x.shape: torch.Size([1, 128, 16, 16]), emb.shape: torch.Size([1, 128, 16, 16])\n",
      "Down: x.shape: torch.Size([1, 64, 32, 32]), emb.shape: torch.Size([1, 64, 32, 32])\n",
      "Down: x.shape: torch.Size([1, 64, 64, 64]), emb.shape: torch.Size([1, 64, 64, 64])\n",
      "Down: x.shape: torch.Size([1, 128, 32, 32]), emb.shape: torch.Size([1, 128, 32, 32])\n",
      "Down: x.shape: torch.Size([1, 256, 16, 16]), emb.shape: torch.Size([1, 256, 16, 16])\n",
      "Down: x.shape: torch.Size([1, 256, 8, 8]), emb.shape: torch.Size([1, 256, 8, 8])\n",
      "Down: x.shape: torch.Size([1, 128, 16, 16]), emb.shape: torch.Size([1, 128, 16, 16])\n",
      "Down: x.shape: torch.Size([1, 64, 32, 32]), emb.shape: torch.Size([1, 64, 32, 32])\n",
      "Down: x.shape: torch.Size([1, 64, 64, 64]), emb.shape: torch.Size([1, 64, 64, 64])\n",
      "Down: x.shape: torch.Size([1, 128, 32, 32]), emb.shape: torch.Size([1, 128, 32, 32])\n",
      "Down: x.shape: torch.Size([1, 256, 16, 16]), emb.shape: torch.Size([1, 256, 16, 16])\n",
      "Down: x.shape: torch.Size([1, 256, 8, 8]), emb.shape: torch.Size([1, 256, 8, 8])\n",
      "Down: x.shape: torch.Size([1, 128, 16, 16]), emb.shape: torch.Size([1, 128, 16, 16])\n",
      "Down: x.shape: torch.Size([1, 64, 32, 32]), emb.shape: torch.Size([1, 64, 32, 32])\n",
      "Down: x.shape: torch.Size([1, 64, 64, 64]), emb.shape: torch.Size([1, 64, 64, 64])\n"
     ]
    },
    {
     "name": "stderr",
     "output_type": "stream",
     "text": [
      "883it [00:40, 22.28it/s]"
     ]
    },
    {
     "name": "stdout",
     "output_type": "stream",
     "text": [
      "Down: x.shape: torch.Size([1, 128, 32, 32]), emb.shape: torch.Size([1, 128, 32, 32])\n",
      "Down: x.shape: torch.Size([1, 256, 16, 16]), emb.shape: torch.Size([1, 256, 16, 16])\n",
      "Down: x.shape: torch.Size([1, 256, 8, 8]), emb.shape: torch.Size([1, 256, 8, 8])\n",
      "Down: x.shape: torch.Size([1, 128, 16, 16]), emb.shape: torch.Size([1, 128, 16, 16])\n",
      "Down: x.shape: torch.Size([1, 64, 32, 32]), emb.shape: torch.Size([1, 64, 32, 32])\n",
      "Down: x.shape: torch.Size([1, 64, 64, 64]), emb.shape: torch.Size([1, 64, 64, 64])\n",
      "Down: x.shape: torch.Size([1, 128, 32, 32]), emb.shape: torch.Size([1, 128, 32, 32])\n",
      "Down: x.shape: torch.Size([1, 256, 16, 16]), emb.shape: torch.Size([1, 256, 16, 16])\n",
      "Down: x.shape: torch.Size([1, 256, 8, 8]), emb.shape: torch.Size([1, 256, 8, 8])\n",
      "Down: x.shape: torch.Size([1, 128, 16, 16]), emb.shape: torch.Size([1, 128, 16, 16])\n",
      "Down: x.shape: torch.Size([1, 64, 32, 32]), emb.shape: torch.Size([1, 64, 32, 32])\n",
      "Down: x.shape: torch.Size([1, 64, 64, 64]), emb.shape: torch.Size([1, 64, 64, 64])\n",
      "Down: x.shape: torch.Size([1, 128, 32, 32]), emb.shape: torch.Size([1, 128, 32, 32])\n",
      "Down: x.shape: torch.Size([1, 256, 16, 16]), emb.shape: torch.Size([1, 256, 16, 16])\n",
      "Down: x.shape: torch.Size([1, 256, 8, 8]), emb.shape: torch.Size([1, 256, 8, 8])\n",
      "Down: x.shape: torch.Size([1, 128, 16, 16]), emb.shape: torch.Size([1, 128, 16, 16])\n",
      "Down: x.shape: torch.Size([1, 64, 32, 32]), emb.shape: torch.Size([1, 64, 32, 32])\n",
      "Down: x.shape: torch.Size([1, 64, 64, 64]), emb.shape: torch.Size([1, 64, 64, 64])\n",
      "Down: x.shape: torch.Size([1, 128, 32, 32]), emb.shape: torch.Size([1, 128, 32, 32])\n",
      "Down: x.shape: torch.Size([1, 256, 16, 16]), emb.shape: torch.Size([1, 256, 16, 16])\n",
      "Down: x.shape: torch.Size([1, 256, 8, 8]), emb.shape: torch.Size([1, 256, 8, 8])\n",
      "Down: x.shape: torch.Size([1, 128, 16, 16]), emb.shape: torch.Size([1, 128, 16, 16])\n",
      "Down: x.shape: torch.Size([1, 64, 32, 32]), emb.shape: torch.Size([1, 64, 32, 32])\n",
      "Down: x.shape: torch.Size([1, 64, 64, 64]), emb.shape: torch.Size([1, 64, 64, 64])\n",
      "Down: x.shape: torch.Size([1, 128, 32, 32]), emb.shape: torch.Size([1, 128, 32, 32])\n",
      "Down: x.shape: torch.Size([1, 256, 16, 16]), emb.shape: torch.Size([1, 256, 16, 16])\n",
      "Down: x.shape: torch.Size([1, 256, 8, 8]), emb.shape: torch.Size([1, 256, 8, 8])\n",
      "Down: x.shape: torch.Size([1, 128, 16, 16]), emb.shape: torch.Size([1, 128, 16, 16])\n",
      "Down: x.shape: torch.Size([1, 64, 32, 32]), emb.shape: torch.Size([1, 64, 32, 32])\n",
      "Down: x.shape: torch.Size([1, 64, 64, 64]), emb.shape: torch.Size([1, 64, 64, 64])\n"
     ]
    },
    {
     "name": "stderr",
     "output_type": "stream",
     "text": [
      "889it [00:40, 22.22it/s]"
     ]
    },
    {
     "name": "stdout",
     "output_type": "stream",
     "text": [
      "Down: x.shape: torch.Size([1, 128, 32, 32]), emb.shape: torch.Size([1, 128, 32, 32])\n",
      "Down: x.shape: torch.Size([1, 256, 16, 16]), emb.shape: torch.Size([1, 256, 16, 16])\n",
      "Down: x.shape: torch.Size([1, 256, 8, 8]), emb.shape: torch.Size([1, 256, 8, 8])\n",
      "Down: x.shape: torch.Size([1, 128, 16, 16]), emb.shape: torch.Size([1, 128, 16, 16])\n",
      "Down: x.shape: torch.Size([1, 64, 32, 32]), emb.shape: torch.Size([1, 64, 32, 32])\n",
      "Down: x.shape: torch.Size([1, 64, 64, 64]), emb.shape: torch.Size([1, 64, 64, 64])\n",
      "Down: x.shape: torch.Size([1, 128, 32, 32]), emb.shape: torch.Size([1, 128, 32, 32])\n",
      "Down: x.shape: torch.Size([1, 256, 16, 16]), emb.shape: torch.Size([1, 256, 16, 16])\n",
      "Down: x.shape: torch.Size([1, 256, 8, 8]), emb.shape: torch.Size([1, 256, 8, 8])\n",
      "Down: x.shape: torch.Size([1, 128, 16, 16]), emb.shape: torch.Size([1, 128, 16, 16])\n",
      "Down: x.shape: torch.Size([1, 64, 32, 32]), emb.shape: torch.Size([1, 64, 32, 32])\n",
      "Down: x.shape: torch.Size([1, 64, 64, 64]), emb.shape: torch.Size([1, 64, 64, 64])\n",
      "Down: x.shape: torch.Size([1, 128, 32, 32]), emb.shape: torch.Size([1, 128, 32, 32])\n",
      "Down: x.shape: torch.Size([1, 256, 16, 16]), emb.shape: torch.Size([1, 256, 16, 16])\n",
      "Down: x.shape: torch.Size([1, 256, 8, 8]), emb.shape: torch.Size([1, 256, 8, 8])\n",
      "Down: x.shape: torch.Size([1, 128, 16, 16]), emb.shape: torch.Size([1, 128, 16, 16])\n",
      "Down: x.shape: torch.Size([1, 64, 32, 32]), emb.shape: torch.Size([1, 64, 32, 32])\n",
      "Down: x.shape: torch.Size([1, 64, 64, 64]), emb.shape: torch.Size([1, 64, 64, 64])\n",
      "Down: x.shape: torch.Size([1, 128, 32, 32]), emb.shape: torch.Size([1, 128, 32, 32])\n",
      "Down: x.shape: torch.Size([1, 256, 16, 16]), emb.shape: torch.Size([1, 256, 16, 16])\n",
      "Down: x.shape: torch.Size([1, 256, 8, 8]), emb.shape: torch.Size([1, 256, 8, 8])\n",
      "Down: x.shape: torch.Size([1, 128, 16, 16]), emb.shape: torch.Size([1, 128, 16, 16])\n",
      "Down: x.shape: torch.Size([1, 64, 32, 32]), emb.shape: torch.Size([1, 64, 32, 32])\n",
      "Down: x.shape: torch.Size([1, 64, 64, 64]), emb.shape: torch.Size([1, 64, 64, 64])\n",
      "Down: x.shape: torch.Size([1, 128, 32, 32]), emb.shape: torch.Size([1, 128, 32, 32])\n",
      "Down: x.shape: torch.Size([1, 256, 16, 16]), emb.shape: torch.Size([1, 256, 16, 16])\n",
      "Down: x.shape: torch.Size([1, 256, 8, 8]), emb.shape: torch.Size([1, 256, 8, 8])\n",
      "Down: x.shape: torch.Size([1, 128, 16, 16]), emb.shape: torch.Size([1, 128, 16, 16])\n",
      "Down: x.shape: torch.Size([1, 64, 32, 32]), emb.shape: torch.Size([1, 64, 32, 32])\n",
      "Down: x.shape: torch.Size([1, 64, 64, 64]), emb.shape: torch.Size([1, 64, 64, 64])\n"
     ]
    },
    {
     "name": "stderr",
     "output_type": "stream",
     "text": [
      "895it [00:41, 22.30it/s]"
     ]
    },
    {
     "name": "stdout",
     "output_type": "stream",
     "text": [
      "Down: x.shape: torch.Size([1, 128, 32, 32]), emb.shape: torch.Size([1, 128, 32, 32])\n",
      "Down: x.shape: torch.Size([1, 256, 16, 16]), emb.shape: torch.Size([1, 256, 16, 16])\n",
      "Down: x.shape: torch.Size([1, 256, 8, 8]), emb.shape: torch.Size([1, 256, 8, 8])\n",
      "Down: x.shape: torch.Size([1, 128, 16, 16]), emb.shape: torch.Size([1, 128, 16, 16])\n",
      "Down: x.shape: torch.Size([1, 64, 32, 32]), emb.shape: torch.Size([1, 64, 32, 32])\n",
      "Down: x.shape: torch.Size([1, 64, 64, 64]), emb.shape: torch.Size([1, 64, 64, 64])\n",
      "Down: x.shape: torch.Size([1, 128, 32, 32]), emb.shape: torch.Size([1, 128, 32, 32])\n",
      "Down: x.shape: torch.Size([1, 256, 16, 16]), emb.shape: torch.Size([1, 256, 16, 16])\n",
      "Down: x.shape: torch.Size([1, 256, 8, 8]), emb.shape: torch.Size([1, 256, 8, 8])\n",
      "Down: x.shape: torch.Size([1, 128, 16, 16]), emb.shape: torch.Size([1, 128, 16, 16])\n",
      "Down: x.shape: torch.Size([1, 64, 32, 32]), emb.shape: torch.Size([1, 64, 32, 32])\n",
      "Down: x.shape: torch.Size([1, 64, 64, 64]), emb.shape: torch.Size([1, 64, 64, 64])\n",
      "Down: x.shape: torch.Size([1, 128, 32, 32]), emb.shape: torch.Size([1, 128, 32, 32])\n",
      "Down: x.shape: torch.Size([1, 256, 16, 16]), emb.shape: torch.Size([1, 256, 16, 16])\n",
      "Down: x.shape: torch.Size([1, 256, 8, 8]), emb.shape: torch.Size([1, 256, 8, 8])\n",
      "Down: x.shape: torch.Size([1, 128, 16, 16]), emb.shape: torch.Size([1, 128, 16, 16])\n",
      "Down: x.shape: torch.Size([1, 64, 32, 32]), emb.shape: torch.Size([1, 64, 32, 32])\n",
      "Down: x.shape: torch.Size([1, 64, 64, 64]), emb.shape: torch.Size([1, 64, 64, 64])\n",
      "Down: x.shape: torch.Size([1, 128, 32, 32]), emb.shape: torch.Size([1, 128, 32, 32])\n",
      "Down: x.shape: torch.Size([1, 256, 16, 16]), emb.shape: torch.Size([1, 256, 16, 16])\n",
      "Down: x.shape: torch.Size([1, 256, 8, 8]), emb.shape: torch.Size([1, 256, 8, 8])\n",
      "Down: x.shape: torch.Size([1, 128, 16, 16]), emb.shape: torch.Size([1, 128, 16, 16])\n",
      "Down: x.shape: torch.Size([1, 64, 32, 32]), emb.shape: torch.Size([1, 64, 32, 32])\n",
      "Down: x.shape: torch.Size([1, 64, 64, 64]), emb.shape: torch.Size([1, 64, 64, 64])\n",
      "Down: x.shape: torch.Size([1, 128, 32, 32]), emb.shape: torch.Size([1, 128, 32, 32])\n",
      "Down: x.shape: torch.Size([1, 256, 16, 16]), emb.shape: torch.Size([1, 256, 16, 16])\n",
      "Down: x.shape: torch.Size([1, 256, 8, 8]), emb.shape: torch.Size([1, 256, 8, 8])\n",
      "Down: x.shape: torch.Size([1, 128, 16, 16]), emb.shape: torch.Size([1, 128, 16, 16])\n",
      "Down: x.shape: torch.Size([1, 64, 32, 32]), emb.shape: torch.Size([1, 64, 32, 32])\n",
      "Down: x.shape: torch.Size([1, 64, 64, 64]), emb.shape: torch.Size([1, 64, 64, 64])\n"
     ]
    },
    {
     "name": "stderr",
     "output_type": "stream",
     "text": [
      "898it [00:41, 22.22it/s]"
     ]
    },
    {
     "name": "stdout",
     "output_type": "stream",
     "text": [
      "Down: x.shape: torch.Size([1, 128, 32, 32]), emb.shape: torch.Size([1, 128, 32, 32])\n",
      "Down: x.shape: torch.Size([1, 256, 16, 16]), emb.shape: torch.Size([1, 256, 16, 16])\n",
      "Down: x.shape: torch.Size([1, 256, 8, 8]), emb.shape: torch.Size([1, 256, 8, 8])\n",
      "Down: x.shape: torch.Size([1, 128, 16, 16]), emb.shape: torch.Size([1, 128, 16, 16])\n",
      "Down: x.shape: torch.Size([1, 64, 32, 32]), emb.shape: torch.Size([1, 64, 32, 32])\n",
      "Down: x.shape: torch.Size([1, 64, 64, 64]), emb.shape: torch.Size([1, 64, 64, 64])\n",
      "Down: x.shape: torch.Size([1, 128, 32, 32]), emb.shape: torch.Size([1, 128, 32, 32])\n",
      "Down: x.shape: torch.Size([1, 256, 16, 16]), emb.shape: torch.Size([1, 256, 16, 16])\n",
      "Down: x.shape: torch.Size([1, 256, 8, 8]), emb.shape: torch.Size([1, 256, 8, 8])\n",
      "Down: x.shape: torch.Size([1, 128, 16, 16]), emb.shape: torch.Size([1, 128, 16, 16])\n",
      "Down: x.shape: torch.Size([1, 64, 32, 32]), emb.shape: torch.Size([1, 64, 32, 32])\n",
      "Down: x.shape: torch.Size([1, 64, 64, 64]), emb.shape: torch.Size([1, 64, 64, 64])\n",
      "Down: x.shape: torch.Size([1, 128, 32, 32]), emb.shape: torch.Size([1, 128, 32, 32])\n",
      "Down: x.shape: torch.Size([1, 256, 16, 16]), emb.shape: torch.Size([1, 256, 16, 16])\n",
      "Down: x.shape: torch.Size([1, 256, 8, 8]), emb.shape: torch.Size([1, 256, 8, 8])\n",
      "Down: x.shape: torch.Size([1, 128, 16, 16]), emb.shape: torch.Size([1, 128, 16, 16])\n",
      "Down: x.shape: torch.Size([1, 64, 32, 32]), emb.shape: torch.Size([1, 64, 32, 32])\n",
      "Down: x.shape: torch.Size([1, 64, 64, 64]), emb.shape: torch.Size([1, 64, 64, 64])\n",
      "Down: x.shape: torch.Size([1, 128, 32, 32]), emb.shape: torch.Size([1, 128, 32, 32])\n",
      "Down: x.shape: torch.Size([1, 256, 16, 16]), emb.shape: torch.Size([1, 256, 16, 16])\n",
      "Down: x.shape: torch.Size([1, 256, 8, 8]), emb.shape: torch.Size([1, 256, 8, 8])\n",
      "Down: x.shape: torch.Size([1, 128, 16, 16]), emb.shape: torch.Size([1, 128, 16, 16])\n",
      "Down: x.shape: torch.Size([1, 64, 32, 32]), emb.shape: torch.Size([1, 64, 32, 32])\n",
      "Down: x.shape: torch.Size([1, 64, 64, 64]), emb.shape: torch.Size([1, 64, 64, 64])\n",
      "Down: x.shape: torch.Size([1, 128, 32, 32]), emb.shape: torch.Size([1, 128, 32, 32])\n"
     ]
    },
    {
     "name": "stderr",
     "output_type": "stream",
     "text": [
      "904it [00:41, 19.23it/s]"
     ]
    },
    {
     "name": "stdout",
     "output_type": "stream",
     "text": [
      "Down: x.shape: torch.Size([1, 256, 16, 16]), emb.shape: torch.Size([1, 256, 16, 16])\n",
      "Down: x.shape: torch.Size([1, 256, 8, 8]), emb.shape: torch.Size([1, 256, 8, 8])\n",
      "Down: x.shape: torch.Size([1, 128, 16, 16]), emb.shape: torch.Size([1, 128, 16, 16])\n",
      "Down: x.shape: torch.Size([1, 64, 32, 32]), emb.shape: torch.Size([1, 64, 32, 32])\n",
      "Down: x.shape: torch.Size([1, 64, 64, 64]), emb.shape: torch.Size([1, 64, 64, 64])\n",
      "Down: x.shape: torch.Size([1, 128, 32, 32]), emb.shape: torch.Size([1, 128, 32, 32])\n",
      "Down: x.shape: torch.Size([1, 256, 16, 16]), emb.shape: torch.Size([1, 256, 16, 16])\n",
      "Down: x.shape: torch.Size([1, 256, 8, 8]), emb.shape: torch.Size([1, 256, 8, 8])\n",
      "Down: x.shape: torch.Size([1, 128, 16, 16]), emb.shape: torch.Size([1, 128, 16, 16])\n",
      "Down: x.shape: torch.Size([1, 64, 32, 32]), emb.shape: torch.Size([1, 64, 32, 32])\n",
      "Down: x.shape: torch.Size([1, 64, 64, 64]), emb.shape: torch.Size([1, 64, 64, 64])\n",
      "Down: x.shape: torch.Size([1, 128, 32, 32]), emb.shape: torch.Size([1, 128, 32, 32])\n",
      "Down: x.shape: torch.Size([1, 256, 16, 16]), emb.shape: torch.Size([1, 256, 16, 16])\n",
      "Down: x.shape: torch.Size([1, 256, 8, 8]), emb.shape: torch.Size([1, 256, 8, 8])\n",
      "Down: x.shape: torch.Size([1, 128, 16, 16]), emb.shape: torch.Size([1, 128, 16, 16])\n",
      "Down: x.shape: torch.Size([1, 64, 32, 32]), emb.shape: torch.Size([1, 64, 32, 32])\n",
      "Down: x.shape: torch.Size([1, 64, 64, 64]), emb.shape: torch.Size([1, 64, 64, 64])\n",
      "Down: x.shape: torch.Size([1, 128, 32, 32]), emb.shape: torch.Size([1, 128, 32, 32])\n",
      "Down: x.shape: torch.Size([1, 256, 16, 16]), emb.shape: torch.Size([1, 256, 16, 16])\n",
      "Down: x.shape: torch.Size([1, 256, 8, 8]), emb.shape: torch.Size([1, 256, 8, 8])\n",
      "Down: x.shape: torch.Size([1, 128, 16, 16]), emb.shape: torch.Size([1, 128, 16, 16])\n",
      "Down: x.shape: torch.Size([1, 64, 32, 32]), emb.shape: torch.Size([1, 64, 32, 32])\n",
      "Down: x.shape: torch.Size([1, 64, 64, 64]), emb.shape: torch.Size([1, 64, 64, 64])\n",
      "Down: x.shape: torch.Size([1, 128, 32, 32]), emb.shape: torch.Size([1, 128, 32, 32])\n",
      "Down: x.shape: torch.Size([1, 256, 16, 16]), emb.shape: torch.Size([1, 256, 16, 16])\n"
     ]
    },
    {
     "name": "stderr",
     "output_type": "stream",
     "text": [
      "908it [00:41, 18.28it/s]"
     ]
    },
    {
     "name": "stdout",
     "output_type": "stream",
     "text": [
      "Down: x.shape: torch.Size([1, 256, 8, 8]), emb.shape: torch.Size([1, 256, 8, 8])\n",
      "Down: x.shape: torch.Size([1, 128, 16, 16]), emb.shape: torch.Size([1, 128, 16, 16])\n",
      "Down: x.shape: torch.Size([1, 64, 32, 32]), emb.shape: torch.Size([1, 64, 32, 32])\n",
      "Down: x.shape: torch.Size([1, 64, 64, 64]), emb.shape: torch.Size([1, 64, 64, 64])\n",
      "Down: x.shape: torch.Size([1, 128, 32, 32]), emb.shape: torch.Size([1, 128, 32, 32])\n",
      "Down: x.shape: torch.Size([1, 256, 16, 16]), emb.shape: torch.Size([1, 256, 16, 16])\n",
      "Down: x.shape: torch.Size([1, 256, 8, 8]), emb.shape: torch.Size([1, 256, 8, 8])\n",
      "Down: x.shape: torch.Size([1, 128, 16, 16]), emb.shape: torch.Size([1, 128, 16, 16])\n",
      "Down: x.shape: torch.Size([1, 64, 32, 32]), emb.shape: torch.Size([1, 64, 32, 32])\n",
      "Down: x.shape: torch.Size([1, 64, 64, 64]), emb.shape: torch.Size([1, 64, 64, 64])\n",
      "Down: x.shape: torch.Size([1, 128, 32, 32]), emb.shape: torch.Size([1, 128, 32, 32])\n",
      "Down: x.shape: torch.Size([1, 256, 16, 16]), emb.shape: torch.Size([1, 256, 16, 16])\n",
      "Down: x.shape: torch.Size([1, 256, 8, 8]), emb.shape: torch.Size([1, 256, 8, 8])\n",
      "Down: x.shape: torch.Size([1, 128, 16, 16]), emb.shape: torch.Size([1, 128, 16, 16])\n",
      "Down: x.shape: torch.Size([1, 64, 32, 32]), emb.shape: torch.Size([1, 64, 32, 32])\n",
      "Down: x.shape: torch.Size([1, 64, 64, 64]), emb.shape: torch.Size([1, 64, 64, 64])\n",
      "Down: x.shape: torch.Size([1, 128, 32, 32]), emb.shape: torch.Size([1, 128, 32, 32])\n",
      "Down: x.shape: torch.Size([1, 256, 16, 16]), emb.shape: torch.Size([1, 256, 16, 16])\n",
      "Down: x.shape: torch.Size([1, 256, 8, 8]), emb.shape: torch.Size([1, 256, 8, 8])\n",
      "Down: x.shape: torch.Size([1, 128, 16, 16]), emb.shape: torch.Size([1, 128, 16, 16])\n",
      "Down: x.shape: torch.Size([1, 64, 32, 32]), emb.shape: torch.Size([1, 64, 32, 32])\n",
      "Down: x.shape: torch.Size([1, 64, 64, 64]), emb.shape: torch.Size([1, 64, 64, 64])\n"
     ]
    },
    {
     "name": "stderr",
     "output_type": "stream",
     "text": [
      "912it [00:42, 18.26it/s]"
     ]
    },
    {
     "name": "stdout",
     "output_type": "stream",
     "text": [
      "Down: x.shape: torch.Size([1, 128, 32, 32]), emb.shape: torch.Size([1, 128, 32, 32])\n",
      "Down: x.shape: torch.Size([1, 256, 16, 16]), emb.shape: torch.Size([1, 256, 16, 16])\n",
      "Down: x.shape: torch.Size([1, 256, 8, 8]), emb.shape: torch.Size([1, 256, 8, 8])\n",
      "Down: x.shape: torch.Size([1, 128, 16, 16]), emb.shape: torch.Size([1, 128, 16, 16])\n",
      "Down: x.shape: torch.Size([1, 64, 32, 32]), emb.shape: torch.Size([1, 64, 32, 32])\n",
      "Down: x.shape: torch.Size([1, 64, 64, 64]), emb.shape: torch.Size([1, 64, 64, 64])\n",
      "Down: x.shape: torch.Size([1, 128, 32, 32]), emb.shape: torch.Size([1, 128, 32, 32])\n",
      "Down: x.shape: torch.Size([1, 256, 16, 16]), emb.shape: torch.Size([1, 256, 16, 16])\n",
      "Down: x.shape: torch.Size([1, 256, 8, 8]), emb.shape: torch.Size([1, 256, 8, 8])\n",
      "Down: x.shape: torch.Size([1, 128, 16, 16]), emb.shape: torch.Size([1, 128, 16, 16])\n",
      "Down: x.shape: torch.Size([1, 64, 32, 32]), emb.shape: torch.Size([1, 64, 32, 32])\n",
      "Down: x.shape: torch.Size([1, 64, 64, 64]), emb.shape: torch.Size([1, 64, 64, 64])\n",
      "Down: x.shape: torch.Size([1, 128, 32, 32]), emb.shape: torch.Size([1, 128, 32, 32])\n",
      "Down: x.shape: torch.Size([1, 256, 16, 16]), emb.shape: torch.Size([1, 256, 16, 16])\n",
      "Down: x.shape: torch.Size([1, 256, 8, 8]), emb.shape: torch.Size([1, 256, 8, 8])\n",
      "Down: x.shape: torch.Size([1, 128, 16, 16]), emb.shape: torch.Size([1, 128, 16, 16])\n",
      "Down: x.shape: torch.Size([1, 64, 32, 32]), emb.shape: torch.Size([1, 64, 32, 32])\n",
      "Down: x.shape: torch.Size([1, 64, 64, 64]), emb.shape: torch.Size([1, 64, 64, 64])\n",
      "Down: x.shape: torch.Size([1, 128, 32, 32]), emb.shape: torch.Size([1, 128, 32, 32])\n",
      "Down: x.shape: torch.Size([1, 256, 16, 16]), emb.shape: torch.Size([1, 256, 16, 16])\n",
      "Down: x.shape: torch.Size([1, 256, 8, 8]), emb.shape: torch.Size([1, 256, 8, 8])\n",
      "Down: x.shape: torch.Size([1, 128, 16, 16]), emb.shape: torch.Size([1, 128, 16, 16])\n",
      "Down: x.shape: torch.Size([1, 64, 32, 32]), emb.shape: torch.Size([1, 64, 32, 32])\n",
      "Down: x.shape: torch.Size([1, 64, 64, 64]), emb.shape: torch.Size([1, 64, 64, 64])\n"
     ]
    },
    {
     "name": "stderr",
     "output_type": "stream",
     "text": [
      "914it [00:42, 17.94it/s]"
     ]
    },
    {
     "name": "stdout",
     "output_type": "stream",
     "text": [
      "Down: x.shape: torch.Size([1, 128, 32, 32]), emb.shape: torch.Size([1, 128, 32, 32])\n",
      "Down: x.shape: torch.Size([1, 256, 16, 16]), emb.shape: torch.Size([1, 256, 16, 16])\n",
      "Down: x.shape: torch.Size([1, 256, 8, 8]), emb.shape: torch.Size([1, 256, 8, 8])\n",
      "Down: x.shape: torch.Size([1, 128, 16, 16]), emb.shape: torch.Size([1, 128, 16, 16])\n",
      "Down: x.shape: torch.Size([1, 64, 32, 32]), emb.shape: torch.Size([1, 64, 32, 32])\n",
      "Down: x.shape: torch.Size([1, 64, 64, 64]), emb.shape: torch.Size([1, 64, 64, 64])\n",
      "Down: x.shape: torch.Size([1, 128, 32, 32]), emb.shape: torch.Size([1, 128, 32, 32])\n",
      "Down: x.shape: torch.Size([1, 256, 16, 16]), emb.shape: torch.Size([1, 256, 16, 16])\n",
      "Down: x.shape: torch.Size([1, 256, 8, 8]), emb.shape: torch.Size([1, 256, 8, 8])\n",
      "Down: x.shape: torch.Size([1, 128, 16, 16]), emb.shape: torch.Size([1, 128, 16, 16])\n",
      "Down: x.shape: torch.Size([1, 64, 32, 32]), emb.shape: torch.Size([1, 64, 32, 32])\n",
      "Down: x.shape: torch.Size([1, 64, 64, 64]), emb.shape: torch.Size([1, 64, 64, 64])\n",
      "Down: x.shape: torch.Size([1, 128, 32, 32]), emb.shape: torch.Size([1, 128, 32, 32])\n",
      "Down: x.shape: torch.Size([1, 256, 16, 16]), emb.shape: torch.Size([1, 256, 16, 16])\n",
      "Down: x.shape: torch.Size([1, 256, 8, 8]), emb.shape: torch.Size([1, 256, 8, 8])\n",
      "Down: x.shape: torch.Size([1, 128, 16, 16]), emb.shape: torch.Size([1, 128, 16, 16])\n",
      "Down: x.shape: torch.Size([1, 64, 32, 32]), emb.shape: torch.Size([1, 64, 32, 32])\n",
      "Down: x.shape: torch.Size([1, 64, 64, 64]), emb.shape: torch.Size([1, 64, 64, 64])\n",
      "Down: x.shape: torch.Size([1, 128, 32, 32]), emb.shape: torch.Size([1, 128, 32, 32])\n",
      "Down: x.shape: torch.Size([1, 256, 16, 16]), emb.shape: torch.Size([1, 256, 16, 16])\n",
      "Down: x.shape: torch.Size([1, 256, 8, 8]), emb.shape: torch.Size([1, 256, 8, 8])\n",
      "Down: x.shape: torch.Size([1, 128, 16, 16]), emb.shape: torch.Size([1, 128, 16, 16])\n",
      "Down: x.shape: torch.Size([1, 64, 32, 32]), emb.shape: torch.Size([1, 64, 32, 32])\n"
     ]
    },
    {
     "name": "stderr",
     "output_type": "stream",
     "text": [
      "918it [00:42, 17.70it/s]"
     ]
    },
    {
     "name": "stdout",
     "output_type": "stream",
     "text": [
      "Down: x.shape: torch.Size([1, 64, 64, 64]), emb.shape: torch.Size([1, 64, 64, 64])\n",
      "Down: x.shape: torch.Size([1, 128, 32, 32]), emb.shape: torch.Size([1, 128, 32, 32])\n",
      "Down: x.shape: torch.Size([1, 256, 16, 16]), emb.shape: torch.Size([1, 256, 16, 16])\n",
      "Down: x.shape: torch.Size([1, 256, 8, 8]), emb.shape: torch.Size([1, 256, 8, 8])\n",
      "Down: x.shape: torch.Size([1, 128, 16, 16]), emb.shape: torch.Size([1, 128, 16, 16])\n",
      "Down: x.shape: torch.Size([1, 64, 32, 32]), emb.shape: torch.Size([1, 64, 32, 32])\n",
      "Down: x.shape: torch.Size([1, 64, 64, 64]), emb.shape: torch.Size([1, 64, 64, 64])\n",
      "Down: x.shape: torch.Size([1, 128, 32, 32]), emb.shape: torch.Size([1, 128, 32, 32])\n",
      "Down: x.shape: torch.Size([1, 256, 16, 16]), emb.shape: torch.Size([1, 256, 16, 16])\n",
      "Down: x.shape: torch.Size([1, 256, 8, 8]), emb.shape: torch.Size([1, 256, 8, 8])\n",
      "Down: x.shape: torch.Size([1, 128, 16, 16]), emb.shape: torch.Size([1, 128, 16, 16])\n",
      "Down: x.shape: torch.Size([1, 64, 32, 32]), emb.shape: torch.Size([1, 64, 32, 32])\n",
      "Down: x.shape: torch.Size([1, 64, 64, 64]), emb.shape: torch.Size([1, 64, 64, 64])\n",
      "Down: x.shape: torch.Size([1, 128, 32, 32]), emb.shape: torch.Size([1, 128, 32, 32])\n",
      "Down: x.shape: torch.Size([1, 256, 16, 16]), emb.shape: torch.Size([1, 256, 16, 16])\n",
      "Down: x.shape: torch.Size([1, 256, 8, 8]), emb.shape: torch.Size([1, 256, 8, 8])\n",
      "Down: x.shape: torch.Size([1, 128, 16, 16]), emb.shape: torch.Size([1, 128, 16, 16])\n",
      "Down: x.shape: torch.Size([1, 64, 32, 32]), emb.shape: torch.Size([1, 64, 32, 32])\n",
      "Down: x.shape: torch.Size([1, 64, 64, 64]), emb.shape: torch.Size([1, 64, 64, 64])\n"
     ]
    },
    {
     "name": "stderr",
     "output_type": "stream",
     "text": [
      "922it [00:42, 16.09it/s]"
     ]
    },
    {
     "name": "stdout",
     "output_type": "stream",
     "text": [
      "Down: x.shape: torch.Size([1, 128, 32, 32]), emb.shape: torch.Size([1, 128, 32, 32])\n",
      "Down: x.shape: torch.Size([1, 256, 16, 16]), emb.shape: torch.Size([1, 256, 16, 16])\n",
      "Down: x.shape: torch.Size([1, 256, 8, 8]), emb.shape: torch.Size([1, 256, 8, 8])\n",
      "Down: x.shape: torch.Size([1, 128, 16, 16]), emb.shape: torch.Size([1, 128, 16, 16])\n",
      "Down: x.shape: torch.Size([1, 64, 32, 32]), emb.shape: torch.Size([1, 64, 32, 32])\n",
      "Down: x.shape: torch.Size([1, 64, 64, 64]), emb.shape: torch.Size([1, 64, 64, 64])\n",
      "Down: x.shape: torch.Size([1, 128, 32, 32]), emb.shape: torch.Size([1, 128, 32, 32])\n",
      "Down: x.shape: torch.Size([1, 256, 16, 16]), emb.shape: torch.Size([1, 256, 16, 16])\n",
      "Down: x.shape: torch.Size([1, 256, 8, 8]), emb.shape: torch.Size([1, 256, 8, 8])\n",
      "Down: x.shape: torch.Size([1, 128, 16, 16]), emb.shape: torch.Size([1, 128, 16, 16])\n",
      "Down: x.shape: torch.Size([1, 64, 32, 32]), emb.shape: torch.Size([1, 64, 32, 32])\n",
      "Down: x.shape: torch.Size([1, 64, 64, 64]), emb.shape: torch.Size([1, 64, 64, 64])\n",
      "Down: x.shape: torch.Size([1, 128, 32, 32]), emb.shape: torch.Size([1, 128, 32, 32])\n",
      "Down: x.shape: torch.Size([1, 256, 16, 16]), emb.shape: torch.Size([1, 256, 16, 16])\n",
      "Down: x.shape: torch.Size([1, 256, 8, 8]), emb.shape: torch.Size([1, 256, 8, 8])\n",
      "Down: x.shape: torch.Size([1, 128, 16, 16]), emb.shape: torch.Size([1, 128, 16, 16])\n",
      "Down: x.shape: torch.Size([1, 64, 32, 32]), emb.shape: torch.Size([1, 64, 32, 32])\n",
      "Down: x.shape: torch.Size([1, 64, 64, 64]), emb.shape: torch.Size([1, 64, 64, 64])\n",
      "Down: x.shape: torch.Size([1, 128, 32, 32]), emb.shape: torch.Size([1, 128, 32, 32])\n",
      "Down: x.shape: torch.Size([1, 256, 16, 16]), emb.shape: torch.Size([1, 256, 16, 16])\n"
     ]
    },
    {
     "name": "stderr",
     "output_type": "stream",
     "text": [
      "926it [00:42, 16.04it/s]"
     ]
    },
    {
     "name": "stdout",
     "output_type": "stream",
     "text": [
      "Down: x.shape: torch.Size([1, 256, 8, 8]), emb.shape: torch.Size([1, 256, 8, 8])\n",
      "Down: x.shape: torch.Size([1, 128, 16, 16]), emb.shape: torch.Size([1, 128, 16, 16])\n",
      "Down: x.shape: torch.Size([1, 64, 32, 32]), emb.shape: torch.Size([1, 64, 32, 32])\n",
      "Down: x.shape: torch.Size([1, 64, 64, 64]), emb.shape: torch.Size([1, 64, 64, 64])\n",
      "Down: x.shape: torch.Size([1, 128, 32, 32]), emb.shape: torch.Size([1, 128, 32, 32])\n",
      "Down: x.shape: torch.Size([1, 256, 16, 16]), emb.shape: torch.Size([1, 256, 16, 16])\n",
      "Down: x.shape: torch.Size([1, 256, 8, 8]), emb.shape: torch.Size([1, 256, 8, 8])\n",
      "Down: x.shape: torch.Size([1, 128, 16, 16]), emb.shape: torch.Size([1, 128, 16, 16])\n",
      "Down: x.shape: torch.Size([1, 64, 32, 32]), emb.shape: torch.Size([1, 64, 32, 32])\n",
      "Down: x.shape: torch.Size([1, 64, 64, 64]), emb.shape: torch.Size([1, 64, 64, 64])\n",
      "Down: x.shape: torch.Size([1, 128, 32, 32]), emb.shape: torch.Size([1, 128, 32, 32])\n",
      "Down: x.shape: torch.Size([1, 256, 16, 16]), emb.shape: torch.Size([1, 256, 16, 16])\n",
      "Down: x.shape: torch.Size([1, 256, 8, 8]), emb.shape: torch.Size([1, 256, 8, 8])\n",
      "Down: x.shape: torch.Size([1, 128, 16, 16]), emb.shape: torch.Size([1, 128, 16, 16])\n",
      "Down: x.shape: torch.Size([1, 64, 32, 32]), emb.shape: torch.Size([1, 64, 32, 32])\n",
      "Down: x.shape: torch.Size([1, 64, 64, 64]), emb.shape: torch.Size([1, 64, 64, 64])\n",
      "Down: x.shape: torch.Size([1, 128, 32, 32]), emb.shape: torch.Size([1, 128, 32, 32])\n",
      "Down: x.shape: torch.Size([1, 256, 16, 16]), emb.shape: torch.Size([1, 256, 16, 16])\n",
      "Down: x.shape: torch.Size([1, 256, 8, 8]), emb.shape: torch.Size([1, 256, 8, 8])\n",
      "Down: x.shape: torch.Size([1, 128, 16, 16]), emb.shape: torch.Size([1, 128, 16, 16])\n",
      "Down: x.shape: torch.Size([1, 64, 32, 32]), emb.shape: torch.Size([1, 64, 32, 32])\n",
      "Down: x.shape: torch.Size([1, 64, 64, 64]), emb.shape: torch.Size([1, 64, 64, 64])\n"
     ]
    },
    {
     "name": "stderr",
     "output_type": "stream",
     "text": [
      "928it [00:43, 14.17it/s]"
     ]
    },
    {
     "name": "stdout",
     "output_type": "stream",
     "text": [
      "Down: x.shape: torch.Size([1, 128, 32, 32]), emb.shape: torch.Size([1, 128, 32, 32])\n",
      "Down: x.shape: torch.Size([1, 256, 16, 16]), emb.shape: torch.Size([1, 256, 16, 16])\n",
      "Down: x.shape: torch.Size([1, 256, 8, 8]), emb.shape: torch.Size([1, 256, 8, 8])\n",
      "Down: x.shape: torch.Size([1, 128, 16, 16]), emb.shape: torch.Size([1, 128, 16, 16])\n",
      "Down: x.shape: torch.Size([1, 64, 32, 32]), emb.shape: torch.Size([1, 64, 32, 32])\n",
      "Down: x.shape: torch.Size([1, 64, 64, 64]), emb.shape: torch.Size([1, 64, 64, 64])\n",
      "Down: x.shape: torch.Size([1, 128, 32, 32]), emb.shape: torch.Size([1, 128, 32, 32])\n",
      "Down: x.shape: torch.Size([1, 256, 16, 16]), emb.shape: torch.Size([1, 256, 16, 16])\n",
      "Down: x.shape: torch.Size([1, 256, 8, 8]), emb.shape: torch.Size([1, 256, 8, 8])\n",
      "Down: x.shape: torch.Size([1, 128, 16, 16]), emb.shape: torch.Size([1, 128, 16, 16])\n",
      "Down: x.shape: torch.Size([1, 64, 32, 32]), emb.shape: torch.Size([1, 64, 32, 32])\n",
      "Down: x.shape: torch.Size([1, 64, 64, 64]), emb.shape: torch.Size([1, 64, 64, 64])\n",
      "Down: x.shape: torch.Size([1, 128, 32, 32]), emb.shape: torch.Size([1, 128, 32, 32])\n",
      "Down: x.shape: torch.Size([1, 256, 16, 16]), emb.shape: torch.Size([1, 256, 16, 16])\n",
      "Down: x.shape: torch.Size([1, 256, 8, 8]), emb.shape: torch.Size([1, 256, 8, 8])\n"
     ]
    },
    {
     "name": "stderr",
     "output_type": "stream",
     "text": [
      "930it [00:43, 12.79it/s]"
     ]
    },
    {
     "name": "stdout",
     "output_type": "stream",
     "text": [
      "Down: x.shape: torch.Size([1, 128, 16, 16]), emb.shape: torch.Size([1, 128, 16, 16])\n",
      "Down: x.shape: torch.Size([1, 64, 32, 32]), emb.shape: torch.Size([1, 64, 32, 32])\n",
      "Down: x.shape: torch.Size([1, 64, 64, 64]), emb.shape: torch.Size([1, 64, 64, 64])\n",
      "Down: x.shape: torch.Size([1, 128, 32, 32]), emb.shape: torch.Size([1, 128, 32, 32])\n",
      "Down: x.shape: torch.Size([1, 256, 16, 16]), emb.shape: torch.Size([1, 256, 16, 16])\n",
      "Down: x.shape: torch.Size([1, 256, 8, 8]), emb.shape: torch.Size([1, 256, 8, 8])\n",
      "Down: x.shape: torch.Size([1, 128, 16, 16]), emb.shape: torch.Size([1, 128, 16, 16])\n",
      "Down: x.shape: torch.Size([1, 64, 32, 32]), emb.shape: torch.Size([1, 64, 32, 32])\n",
      "Down: x.shape: torch.Size([1, 64, 64, 64]), emb.shape: torch.Size([1, 64, 64, 64])\n",
      "Down: x.shape: torch.Size([1, 128, 32, 32]), emb.shape: torch.Size([1, 128, 32, 32])\n",
      "Down: x.shape: torch.Size([1, 256, 16, 16]), emb.shape: torch.Size([1, 256, 16, 16])\n",
      "Down: x.shape: torch.Size([1, 256, 8, 8]), emb.shape: torch.Size([1, 256, 8, 8])\n",
      "Down: x.shape: torch.Size([1, 128, 16, 16]), emb.shape: torch.Size([1, 128, 16, 16])\n"
     ]
    },
    {
     "name": "stderr",
     "output_type": "stream",
     "text": [
      "932it [00:43, 11.18it/s]"
     ]
    },
    {
     "name": "stdout",
     "output_type": "stream",
     "text": [
      "Down: x.shape: torch.Size([1, 64, 32, 32]), emb.shape: torch.Size([1, 64, 32, 32])\n",
      "Down: x.shape: torch.Size([1, 64, 64, 64]), emb.shape: torch.Size([1, 64, 64, 64])\n",
      "Down: x.shape: torch.Size([1, 128, 32, 32]), emb.shape: torch.Size([1, 128, 32, 32])\n",
      "Down: x.shape: torch.Size([1, 256, 16, 16]), emb.shape: torch.Size([1, 256, 16, 16])\n",
      "Down: x.shape: torch.Size([1, 256, 8, 8]), emb.shape: torch.Size([1, 256, 8, 8])\n",
      "Down: x.shape: torch.Size([1, 128, 16, 16]), emb.shape: torch.Size([1, 128, 16, 16])\n",
      "Down: x.shape: torch.Size([1, 64, 32, 32]), emb.shape: torch.Size([1, 64, 32, 32])\n",
      "Down: x.shape: torch.Size([1, 64, 64, 64]), emb.shape: torch.Size([1, 64, 64, 64])\n",
      "Down: x.shape: torch.Size([1, 128, 32, 32]), emb.shape: torch.Size([1, 128, 32, 32])\n",
      "Down: x.shape: torch.Size([1, 256, 16, 16]), emb.shape: torch.Size([1, 256, 16, 16])\n",
      "Down: x.shape: torch.Size([1, 256, 8, 8]), emb.shape: torch.Size([1, 256, 8, 8])\n",
      "Down: x.shape: torch.Size([1, 128, 16, 16]), emb.shape: torch.Size([1, 128, 16, 16])\n",
      "Down: x.shape: torch.Size([1, 64, 32, 32]), emb.shape: torch.Size([1, 64, 32, 32])\n",
      "Down: x.shape: torch.Size([1, 64, 64, 64]), emb.shape: torch.Size([1, 64, 64, 64])\n"
     ]
    },
    {
     "name": "stderr",
     "output_type": "stream",
     "text": [
      "936it [00:43, 12.22it/s]"
     ]
    },
    {
     "name": "stdout",
     "output_type": "stream",
     "text": [
      "Down: x.shape: torch.Size([1, 128, 32, 32]), emb.shape: torch.Size([1, 128, 32, 32])\n",
      "Down: x.shape: torch.Size([1, 256, 16, 16]), emb.shape: torch.Size([1, 256, 16, 16])\n",
      "Down: x.shape: torch.Size([1, 256, 8, 8]), emb.shape: torch.Size([1, 256, 8, 8])\n",
      "Down: x.shape: torch.Size([1, 128, 16, 16]), emb.shape: torch.Size([1, 128, 16, 16])\n",
      "Down: x.shape: torch.Size([1, 64, 32, 32]), emb.shape: torch.Size([1, 64, 32, 32])\n",
      "Down: x.shape: torch.Size([1, 64, 64, 64]), emb.shape: torch.Size([1, 64, 64, 64])\n",
      "Down: x.shape: torch.Size([1, 128, 32, 32]), emb.shape: torch.Size([1, 128, 32, 32])\n",
      "Down: x.shape: torch.Size([1, 256, 16, 16]), emb.shape: torch.Size([1, 256, 16, 16])\n",
      "Down: x.shape: torch.Size([1, 256, 8, 8]), emb.shape: torch.Size([1, 256, 8, 8])\n",
      "Down: x.shape: torch.Size([1, 128, 16, 16]), emb.shape: torch.Size([1, 128, 16, 16])\n",
      "Down: x.shape: torch.Size([1, 64, 32, 32]), emb.shape: torch.Size([1, 64, 32, 32])\n",
      "Down: x.shape: torch.Size([1, 64, 64, 64]), emb.shape: torch.Size([1, 64, 64, 64])\n",
      "Down: x.shape: torch.Size([1, 128, 32, 32]), emb.shape: torch.Size([1, 128, 32, 32])\n",
      "Down: x.shape: torch.Size([1, 256, 16, 16]), emb.shape: torch.Size([1, 256, 16, 16])\n",
      "Down: x.shape: torch.Size([1, 256, 8, 8]), emb.shape: torch.Size([1, 256, 8, 8])\n",
      "Down: x.shape: torch.Size([1, 128, 16, 16]), emb.shape: torch.Size([1, 128, 16, 16])\n",
      "Down: x.shape: torch.Size([1, 64, 32, 32]), emb.shape: torch.Size([1, 64, 32, 32])\n",
      "Down: x.shape: torch.Size([1, 64, 64, 64]), emb.shape: torch.Size([1, 64, 64, 64])\n"
     ]
    },
    {
     "name": "stderr",
     "output_type": "stream",
     "text": [
      "938it [00:43, 12.33it/s]"
     ]
    },
    {
     "name": "stdout",
     "output_type": "stream",
     "text": [
      "Down: x.shape: torch.Size([1, 128, 32, 32]), emb.shape: torch.Size([1, 128, 32, 32])\n",
      "Down: x.shape: torch.Size([1, 256, 16, 16]), emb.shape: torch.Size([1, 256, 16, 16])\n",
      "Down: x.shape: torch.Size([1, 256, 8, 8]), emb.shape: torch.Size([1, 256, 8, 8])\n",
      "Down: x.shape: torch.Size([1, 128, 16, 16]), emb.shape: torch.Size([1, 128, 16, 16])\n",
      "Down: x.shape: torch.Size([1, 64, 32, 32]), emb.shape: torch.Size([1, 64, 32, 32])\n",
      "Down: x.shape: torch.Size([1, 64, 64, 64]), emb.shape: torch.Size([1, 64, 64, 64])\n",
      "Down: x.shape: torch.Size([1, 128, 32, 32]), emb.shape: torch.Size([1, 128, 32, 32])\n",
      "Down: x.shape: torch.Size([1, 256, 16, 16]), emb.shape: torch.Size([1, 256, 16, 16])\n",
      "Down: x.shape: torch.Size([1, 256, 8, 8]), emb.shape: torch.Size([1, 256, 8, 8])\n",
      "Down: x.shape: torch.Size([1, 128, 16, 16]), emb.shape: torch.Size([1, 128, 16, 16])\n",
      "Down: x.shape: torch.Size([1, 64, 32, 32]), emb.shape: torch.Size([1, 64, 32, 32])\n",
      "Down: x.shape: torch.Size([1, 64, 64, 64]), emb.shape: torch.Size([1, 64, 64, 64])\n",
      "Down: x.shape: torch.Size([1, 128, 32, 32]), emb.shape: torch.Size([1, 128, 32, 32])\n",
      "Down: x.shape: torch.Size([1, 256, 16, 16]), emb.shape: torch.Size([1, 256, 16, 16])\n",
      "Down: x.shape: torch.Size([1, 256, 8, 8]), emb.shape: torch.Size([1, 256, 8, 8])\n"
     ]
    },
    {
     "name": "stderr",
     "output_type": "stream",
     "text": [
      "940it [00:44, 12.29it/s]"
     ]
    },
    {
     "name": "stdout",
     "output_type": "stream",
     "text": [
      "Down: x.shape: torch.Size([1, 128, 16, 16]), emb.shape: torch.Size([1, 128, 16, 16])\n",
      "Down: x.shape: torch.Size([1, 64, 32, 32]), emb.shape: torch.Size([1, 64, 32, 32])\n",
      "Down: x.shape: torch.Size([1, 64, 64, 64]), emb.shape: torch.Size([1, 64, 64, 64])\n",
      "Down: x.shape: torch.Size([1, 128, 32, 32]), emb.shape: torch.Size([1, 128, 32, 32])\n",
      "Down: x.shape: torch.Size([1, 256, 16, 16]), emb.shape: torch.Size([1, 256, 16, 16])\n",
      "Down: x.shape: torch.Size([1, 256, 8, 8]), emb.shape: torch.Size([1, 256, 8, 8])\n",
      "Down: x.shape: torch.Size([1, 128, 16, 16]), emb.shape: torch.Size([1, 128, 16, 16])\n",
      "Down: x.shape: torch.Size([1, 64, 32, 32]), emb.shape: torch.Size([1, 64, 32, 32])\n",
      "Down: x.shape: torch.Size([1, 64, 64, 64]), emb.shape: torch.Size([1, 64, 64, 64])\n",
      "Down: x.shape: torch.Size([1, 128, 32, 32]), emb.shape: torch.Size([1, 128, 32, 32])\n",
      "Down: x.shape: torch.Size([1, 256, 16, 16]), emb.shape: torch.Size([1, 256, 16, 16])\n",
      "Down: x.shape: torch.Size([1, 256, 8, 8]), emb.shape: torch.Size([1, 256, 8, 8])\n",
      "Down: x.shape: torch.Size([1, 128, 16, 16]), emb.shape: torch.Size([1, 128, 16, 16])\n",
      "Down: x.shape: torch.Size([1, 64, 32, 32]), emb.shape: torch.Size([1, 64, 32, 32])\n",
      "Down: x.shape: torch.Size([1, 64, 64, 64]), emb.shape: torch.Size([1, 64, 64, 64])\n"
     ]
    },
    {
     "name": "stderr",
     "output_type": "stream",
     "text": [
      "944it [00:44, 13.11it/s]"
     ]
    },
    {
     "name": "stdout",
     "output_type": "stream",
     "text": [
      "Down: x.shape: torch.Size([1, 128, 32, 32]), emb.shape: torch.Size([1, 128, 32, 32])\n",
      "Down: x.shape: torch.Size([1, 256, 16, 16]), emb.shape: torch.Size([1, 256, 16, 16])\n",
      "Down: x.shape: torch.Size([1, 256, 8, 8]), emb.shape: torch.Size([1, 256, 8, 8])\n",
      "Down: x.shape: torch.Size([1, 128, 16, 16]), emb.shape: torch.Size([1, 128, 16, 16])\n",
      "Down: x.shape: torch.Size([1, 64, 32, 32]), emb.shape: torch.Size([1, 64, 32, 32])\n",
      "Down: x.shape: torch.Size([1, 64, 64, 64]), emb.shape: torch.Size([1, 64, 64, 64])\n",
      "Down: x.shape: torch.Size([1, 128, 32, 32]), emb.shape: torch.Size([1, 128, 32, 32])\n",
      "Down: x.shape: torch.Size([1, 256, 16, 16]), emb.shape: torch.Size([1, 256, 16, 16])\n",
      "Down: x.shape: torch.Size([1, 256, 8, 8]), emb.shape: torch.Size([1, 256, 8, 8])\n",
      "Down: x.shape: torch.Size([1, 128, 16, 16]), emb.shape: torch.Size([1, 128, 16, 16])\n",
      "Down: x.shape: torch.Size([1, 64, 32, 32]), emb.shape: torch.Size([1, 64, 32, 32])\n",
      "Down: x.shape: torch.Size([1, 64, 64, 64]), emb.shape: torch.Size([1, 64, 64, 64])\n",
      "Down: x.shape: torch.Size([1, 128, 32, 32]), emb.shape: torch.Size([1, 128, 32, 32])\n",
      "Down: x.shape: torch.Size([1, 256, 16, 16]), emb.shape: torch.Size([1, 256, 16, 16])\n",
      "Down: x.shape: torch.Size([1, 256, 8, 8]), emb.shape: torch.Size([1, 256, 8, 8])\n",
      "Down: x.shape: torch.Size([1, 128, 16, 16]), emb.shape: torch.Size([1, 128, 16, 16])\n",
      "Down: x.shape: torch.Size([1, 64, 32, 32]), emb.shape: torch.Size([1, 64, 32, 32])\n",
      "Down: x.shape: torch.Size([1, 64, 64, 64]), emb.shape: torch.Size([1, 64, 64, 64])\n"
     ]
    },
    {
     "name": "stderr",
     "output_type": "stream",
     "text": [
      "946it [00:44, 14.38it/s]"
     ]
    },
    {
     "name": "stdout",
     "output_type": "stream",
     "text": [
      "Down: x.shape: torch.Size([1, 128, 32, 32]), emb.shape: torch.Size([1, 128, 32, 32])\n",
      "Down: x.shape: torch.Size([1, 256, 16, 16]), emb.shape: torch.Size([1, 256, 16, 16])\n",
      "Down: x.shape: torch.Size([1, 256, 8, 8]), emb.shape: torch.Size([1, 256, 8, 8])\n",
      "Down: x.shape: torch.Size([1, 128, 16, 16]), emb.shape: torch.Size([1, 128, 16, 16])\n",
      "Down: x.shape: torch.Size([1, 64, 32, 32]), emb.shape: torch.Size([1, 64, 32, 32])\n",
      "Down: x.shape: torch.Size([1, 64, 64, 64]), emb.shape: torch.Size([1, 64, 64, 64])\n",
      "Down: x.shape: torch.Size([1, 128, 32, 32]), emb.shape: torch.Size([1, 128, 32, 32])\n",
      "Down: x.shape: torch.Size([1, 256, 16, 16]), emb.shape: torch.Size([1, 256, 16, 16])\n",
      "Down: x.shape: torch.Size([1, 256, 8, 8]), emb.shape: torch.Size([1, 256, 8, 8])\n",
      "Down: x.shape: torch.Size([1, 128, 16, 16]), emb.shape: torch.Size([1, 128, 16, 16])\n",
      "Down: x.shape: torch.Size([1, 64, 32, 32]), emb.shape: torch.Size([1, 64, 32, 32])\n",
      "Down: x.shape: torch.Size([1, 64, 64, 64]), emb.shape: torch.Size([1, 64, 64, 64])\n",
      "Down: x.shape: torch.Size([1, 128, 32, 32]), emb.shape: torch.Size([1, 128, 32, 32])\n",
      "Down: x.shape: torch.Size([1, 256, 16, 16]), emb.shape: torch.Size([1, 256, 16, 16])\n",
      "Down: x.shape: torch.Size([1, 256, 8, 8]), emb.shape: torch.Size([1, 256, 8, 8])\n",
      "Down: x.shape: torch.Size([1, 128, 16, 16]), emb.shape: torch.Size([1, 128, 16, 16])\n",
      "Down: x.shape: torch.Size([1, 64, 32, 32]), emb.shape: torch.Size([1, 64, 32, 32])\n",
      "Down: x.shape: torch.Size([1, 64, 64, 64]), emb.shape: torch.Size([1, 64, 64, 64])\n",
      "Down: x.shape: torch.Size([1, 128, 32, 32]), emb.shape: torch.Size([1, 128, 32, 32])\n",
      "Down: x.shape: torch.Size([1, 256, 16, 16]), emb.shape: torch.Size([1, 256, 16, 16])\n",
      "Down: x.shape: torch.Size([1, 256, 8, 8]), emb.shape: torch.Size([1, 256, 8, 8])\n",
      "Down: x.shape: torch.Size([1, 128, 16, 16]), emb.shape: torch.Size([1, 128, 16, 16])\n",
      "Down: x.shape: torch.Size([1, 64, 32, 32]), emb.shape: torch.Size([1, 64, 32, 32])\n"
     ]
    },
    {
     "name": "stderr",
     "output_type": "stream",
     "text": [
      "950it [00:44, 15.41it/s]"
     ]
    },
    {
     "name": "stdout",
     "output_type": "stream",
     "text": [
      "Down: x.shape: torch.Size([1, 64, 64, 64]), emb.shape: torch.Size([1, 64, 64, 64])\n",
      "Down: x.shape: torch.Size([1, 128, 32, 32]), emb.shape: torch.Size([1, 128, 32, 32])\n",
      "Down: x.shape: torch.Size([1, 256, 16, 16]), emb.shape: torch.Size([1, 256, 16, 16])\n",
      "Down: x.shape: torch.Size([1, 256, 8, 8]), emb.shape: torch.Size([1, 256, 8, 8])\n",
      "Down: x.shape: torch.Size([1, 128, 16, 16]), emb.shape: torch.Size([1, 128, 16, 16])\n",
      "Down: x.shape: torch.Size([1, 64, 32, 32]), emb.shape: torch.Size([1, 64, 32, 32])\n",
      "Down: x.shape: torch.Size([1, 64, 64, 64]), emb.shape: torch.Size([1, 64, 64, 64])\n",
      "Down: x.shape: torch.Size([1, 128, 32, 32]), emb.shape: torch.Size([1, 128, 32, 32])\n",
      "Down: x.shape: torch.Size([1, 256, 16, 16]), emb.shape: torch.Size([1, 256, 16, 16])\n",
      "Down: x.shape: torch.Size([1, 256, 8, 8]), emb.shape: torch.Size([1, 256, 8, 8])\n",
      "Down: x.shape: torch.Size([1, 128, 16, 16]), emb.shape: torch.Size([1, 128, 16, 16])\n",
      "Down: x.shape: torch.Size([1, 64, 32, 32]), emb.shape: torch.Size([1, 64, 32, 32])\n",
      "Down: x.shape: torch.Size([1, 64, 64, 64]), emb.shape: torch.Size([1, 64, 64, 64])\n",
      "Down: x.shape: torch.Size([1, 128, 32, 32]), emb.shape: torch.Size([1, 128, 32, 32])\n",
      "Down: x.shape: torch.Size([1, 256, 16, 16]), emb.shape: torch.Size([1, 256, 16, 16])\n",
      "Down: x.shape: torch.Size([1, 256, 8, 8]), emb.shape: torch.Size([1, 256, 8, 8])\n",
      "Down: x.shape: torch.Size([1, 128, 16, 16]), emb.shape: torch.Size([1, 128, 16, 16])\n",
      "Down: x.shape: torch.Size([1, 64, 32, 32]), emb.shape: torch.Size([1, 64, 32, 32])\n",
      "Down: x.shape: torch.Size([1, 64, 64, 64]), emb.shape: torch.Size([1, 64, 64, 64])\n",
      "Down: x.shape: torch.Size([1, 128, 32, 32]), emb.shape: torch.Size([1, 128, 32, 32])\n",
      "Down: x.shape: torch.Size([1, 256, 16, 16]), emb.shape: torch.Size([1, 256, 16, 16])\n",
      "Down: x.shape: torch.Size([1, 256, 8, 8]), emb.shape: torch.Size([1, 256, 8, 8])\n",
      "Down: x.shape: torch.Size([1, 128, 16, 16]), emb.shape: torch.Size([1, 128, 16, 16])\n"
     ]
    },
    {
     "name": "stderr",
     "output_type": "stream",
     "text": [
      "954it [00:45, 15.26it/s]"
     ]
    },
    {
     "name": "stdout",
     "output_type": "stream",
     "text": [
      "Down: x.shape: torch.Size([1, 64, 32, 32]), emb.shape: torch.Size([1, 64, 32, 32])\n",
      "Down: x.shape: torch.Size([1, 64, 64, 64]), emb.shape: torch.Size([1, 64, 64, 64])\n",
      "Down: x.shape: torch.Size([1, 128, 32, 32]), emb.shape: torch.Size([1, 128, 32, 32])\n",
      "Down: x.shape: torch.Size([1, 256, 16, 16]), emb.shape: torch.Size([1, 256, 16, 16])\n",
      "Down: x.shape: torch.Size([1, 256, 8, 8]), emb.shape: torch.Size([1, 256, 8, 8])\n",
      "Down: x.shape: torch.Size([1, 128, 16, 16]), emb.shape: torch.Size([1, 128, 16, 16])\n",
      "Down: x.shape: torch.Size([1, 64, 32, 32]), emb.shape: torch.Size([1, 64, 32, 32])\n",
      "Down: x.shape: torch.Size([1, 64, 64, 64]), emb.shape: torch.Size([1, 64, 64, 64])\n",
      "Down: x.shape: torch.Size([1, 128, 32, 32]), emb.shape: torch.Size([1, 128, 32, 32])\n",
      "Down: x.shape: torch.Size([1, 256, 16, 16]), emb.shape: torch.Size([1, 256, 16, 16])\n",
      "Down: x.shape: torch.Size([1, 256, 8, 8]), emb.shape: torch.Size([1, 256, 8, 8])\n",
      "Down: x.shape: torch.Size([1, 128, 16, 16]), emb.shape: torch.Size([1, 128, 16, 16])\n",
      "Down: x.shape: torch.Size([1, 64, 32, 32]), emb.shape: torch.Size([1, 64, 32, 32])\n",
      "Down: x.shape: torch.Size([1, 64, 64, 64]), emb.shape: torch.Size([1, 64, 64, 64])\n",
      "Down: x.shape: torch.Size([1, 128, 32, 32]), emb.shape: torch.Size([1, 128, 32, 32])\n",
      "Down: x.shape: torch.Size([1, 256, 16, 16]), emb.shape: torch.Size([1, 256, 16, 16])\n",
      "Down: x.shape: torch.Size([1, 256, 8, 8]), emb.shape: torch.Size([1, 256, 8, 8])\n"
     ]
    },
    {
     "name": "stderr",
     "output_type": "stream",
     "text": [
      "956it [00:45, 15.11it/s]"
     ]
    },
    {
     "name": "stdout",
     "output_type": "stream",
     "text": [
      "Down: x.shape: torch.Size([1, 128, 16, 16]), emb.shape: torch.Size([1, 128, 16, 16])\n",
      "Down: x.shape: torch.Size([1, 64, 32, 32]), emb.shape: torch.Size([1, 64, 32, 32])\n",
      "Down: x.shape: torch.Size([1, 64, 64, 64]), emb.shape: torch.Size([1, 64, 64, 64])\n",
      "Down: x.shape: torch.Size([1, 128, 32, 32]), emb.shape: torch.Size([1, 128, 32, 32])\n",
      "Down: x.shape: torch.Size([1, 256, 16, 16]), emb.shape: torch.Size([1, 256, 16, 16])\n",
      "Down: x.shape: torch.Size([1, 256, 8, 8]), emb.shape: torch.Size([1, 256, 8, 8])\n",
      "Down: x.shape: torch.Size([1, 128, 16, 16]), emb.shape: torch.Size([1, 128, 16, 16])\n",
      "Down: x.shape: torch.Size([1, 64, 32, 32]), emb.shape: torch.Size([1, 64, 32, 32])\n",
      "Down: x.shape: torch.Size([1, 64, 64, 64]), emb.shape: torch.Size([1, 64, 64, 64])\n",
      "Down: x.shape: torch.Size([1, 128, 32, 32]), emb.shape: torch.Size([1, 128, 32, 32])\n",
      "Down: x.shape: torch.Size([1, 256, 16, 16]), emb.shape: torch.Size([1, 256, 16, 16])\n",
      "Down: x.shape: torch.Size([1, 256, 8, 8]), emb.shape: torch.Size([1, 256, 8, 8])\n",
      "Down: x.shape: torch.Size([1, 128, 16, 16]), emb.shape: torch.Size([1, 128, 16, 16])\n",
      "Down: x.shape: torch.Size([1, 64, 32, 32]), emb.shape: torch.Size([1, 64, 32, 32])\n",
      "Down: x.shape: torch.Size([1, 64, 64, 64]), emb.shape: torch.Size([1, 64, 64, 64])\n",
      "Down: x.shape: torch.Size([1, 128, 32, 32]), emb.shape: torch.Size([1, 128, 32, 32])\n",
      "Down: x.shape: torch.Size([1, 256, 16, 16]), emb.shape: torch.Size([1, 256, 16, 16])\n",
      "Down: x.shape: torch.Size([1, 256, 8, 8]), emb.shape: torch.Size([1, 256, 8, 8])\n",
      "Down: x.shape: torch.Size([1, 128, 16, 16]), emb.shape: torch.Size([1, 128, 16, 16])\n",
      "Down: x.shape: torch.Size([1, 64, 32, 32]), emb.shape: torch.Size([1, 64, 32, 32])\n",
      "Down: x.shape: torch.Size([1, 64, 64, 64]), emb.shape: torch.Size([1, 64, 64, 64])\n"
     ]
    },
    {
     "name": "stderr",
     "output_type": "stream",
     "text": [
      "960it [00:45, 15.49it/s]"
     ]
    },
    {
     "name": "stdout",
     "output_type": "stream",
     "text": [
      "Down: x.shape: torch.Size([1, 128, 32, 32]), emb.shape: torch.Size([1, 128, 32, 32])\n",
      "Down: x.shape: torch.Size([1, 256, 16, 16]), emb.shape: torch.Size([1, 256, 16, 16])\n",
      "Down: x.shape: torch.Size([1, 256, 8, 8]), emb.shape: torch.Size([1, 256, 8, 8])\n",
      "Down: x.shape: torch.Size([1, 128, 16, 16]), emb.shape: torch.Size([1, 128, 16, 16])\n",
      "Down: x.shape: torch.Size([1, 64, 32, 32]), emb.shape: torch.Size([1, 64, 32, 32])\n",
      "Down: x.shape: torch.Size([1, 64, 64, 64]), emb.shape: torch.Size([1, 64, 64, 64])\n",
      "Down: x.shape: torch.Size([1, 128, 32, 32]), emb.shape: torch.Size([1, 128, 32, 32])\n",
      "Down: x.shape: torch.Size([1, 256, 16, 16]), emb.shape: torch.Size([1, 256, 16, 16])\n",
      "Down: x.shape: torch.Size([1, 256, 8, 8]), emb.shape: torch.Size([1, 256, 8, 8])\n",
      "Down: x.shape: torch.Size([1, 128, 16, 16]), emb.shape: torch.Size([1, 128, 16, 16])\n",
      "Down: x.shape: torch.Size([1, 64, 32, 32]), emb.shape: torch.Size([1, 64, 32, 32])\n",
      "Down: x.shape: torch.Size([1, 64, 64, 64]), emb.shape: torch.Size([1, 64, 64, 64])\n",
      "Down: x.shape: torch.Size([1, 128, 32, 32]), emb.shape: torch.Size([1, 128, 32, 32])\n",
      "Down: x.shape: torch.Size([1, 256, 16, 16]), emb.shape: torch.Size([1, 256, 16, 16])\n",
      "Down: x.shape: torch.Size([1, 256, 8, 8]), emb.shape: torch.Size([1, 256, 8, 8])\n",
      "Down: x.shape: torch.Size([1, 128, 16, 16]), emb.shape: torch.Size([1, 128, 16, 16])\n",
      "Down: x.shape: torch.Size([1, 64, 32, 32]), emb.shape: torch.Size([1, 64, 32, 32])\n",
      "Down: x.shape: torch.Size([1, 64, 64, 64]), emb.shape: torch.Size([1, 64, 64, 64])\n"
     ]
    },
    {
     "name": "stderr",
     "output_type": "stream",
     "text": [
      "962it [00:45, 13.23it/s]"
     ]
    },
    {
     "name": "stdout",
     "output_type": "stream",
     "text": [
      "Down: x.shape: torch.Size([1, 128, 32, 32]), emb.shape: torch.Size([1, 128, 32, 32])\n",
      "Down: x.shape: torch.Size([1, 256, 16, 16]), emb.shape: torch.Size([1, 256, 16, 16])\n",
      "Down: x.shape: torch.Size([1, 256, 8, 8]), emb.shape: torch.Size([1, 256, 8, 8])\n",
      "Down: x.shape: torch.Size([1, 128, 16, 16]), emb.shape: torch.Size([1, 128, 16, 16])\n",
      "Down: x.shape: torch.Size([1, 64, 32, 32]), emb.shape: torch.Size([1, 64, 32, 32])\n",
      "Down: x.shape: torch.Size([1, 64, 64, 64]), emb.shape: torch.Size([1, 64, 64, 64])\n",
      "Down: x.shape: torch.Size([1, 128, 32, 32]), emb.shape: torch.Size([1, 128, 32, 32])\n",
      "Down: x.shape: torch.Size([1, 256, 16, 16]), emb.shape: torch.Size([1, 256, 16, 16])\n",
      "Down: x.shape: torch.Size([1, 256, 8, 8]), emb.shape: torch.Size([1, 256, 8, 8])\n",
      "Down: x.shape: torch.Size([1, 128, 16, 16]), emb.shape: torch.Size([1, 128, 16, 16])\n",
      "Down: x.shape: torch.Size([1, 64, 32, 32]), emb.shape: torch.Size([1, 64, 32, 32])\n",
      "Down: x.shape: torch.Size([1, 64, 64, 64]), emb.shape: torch.Size([1, 64, 64, 64])\n",
      "Down: x.shape: torch.Size([1, 128, 32, 32]), emb.shape: torch.Size([1, 128, 32, 32])\n",
      "Down: x.shape: torch.Size([1, 256, 16, 16]), emb.shape: torch.Size([1, 256, 16, 16])\n"
     ]
    },
    {
     "name": "stderr",
     "output_type": "stream",
     "text": [
      "964it [00:45, 12.51it/s]"
     ]
    },
    {
     "name": "stdout",
     "output_type": "stream",
     "text": [
      "Down: x.shape: torch.Size([1, 256, 8, 8]), emb.shape: torch.Size([1, 256, 8, 8])\n",
      "Down: x.shape: torch.Size([1, 128, 16, 16]), emb.shape: torch.Size([1, 128, 16, 16])\n",
      "Down: x.shape: torch.Size([1, 64, 32, 32]), emb.shape: torch.Size([1, 64, 32, 32])\n",
      "Down: x.shape: torch.Size([1, 64, 64, 64]), emb.shape: torch.Size([1, 64, 64, 64])\n",
      "Down: x.shape: torch.Size([1, 128, 32, 32]), emb.shape: torch.Size([1, 128, 32, 32])\n",
      "Down: x.shape: torch.Size([1, 256, 16, 16]), emb.shape: torch.Size([1, 256, 16, 16])\n",
      "Down: x.shape: torch.Size([1, 256, 8, 8]), emb.shape: torch.Size([1, 256, 8, 8])\n",
      "Down: x.shape: torch.Size([1, 128, 16, 16]), emb.shape: torch.Size([1, 128, 16, 16])\n",
      "Down: x.shape: torch.Size([1, 64, 32, 32]), emb.shape: torch.Size([1, 64, 32, 32])\n",
      "Down: x.shape: torch.Size([1, 64, 64, 64]), emb.shape: torch.Size([1, 64, 64, 64])\n",
      "Down: x.shape: torch.Size([1, 128, 32, 32]), emb.shape: torch.Size([1, 128, 32, 32])\n",
      "Down: x.shape: torch.Size([1, 256, 16, 16]), emb.shape: torch.Size([1, 256, 16, 16])\n",
      "Down: x.shape: torch.Size([1, 256, 8, 8]), emb.shape: torch.Size([1, 256, 8, 8])\n",
      "Down: x.shape: torch.Size([1, 128, 16, 16]), emb.shape: torch.Size([1, 128, 16, 16])\n",
      "Down: x.shape: torch.Size([1, 64, 32, 32]), emb.shape: torch.Size([1, 64, 32, 32])\n"
     ]
    },
    {
     "name": "stderr",
     "output_type": "stream",
     "text": [
      "968it [00:46, 11.75it/s]"
     ]
    },
    {
     "name": "stdout",
     "output_type": "stream",
     "text": [
      "Down: x.shape: torch.Size([1, 64, 64, 64]), emb.shape: torch.Size([1, 64, 64, 64])\n",
      "Down: x.shape: torch.Size([1, 128, 32, 32]), emb.shape: torch.Size([1, 128, 32, 32])\n",
      "Down: x.shape: torch.Size([1, 256, 16, 16]), emb.shape: torch.Size([1, 256, 16, 16])\n",
      "Down: x.shape: torch.Size([1, 256, 8, 8]), emb.shape: torch.Size([1, 256, 8, 8])\n",
      "Down: x.shape: torch.Size([1, 128, 16, 16]), emb.shape: torch.Size([1, 128, 16, 16])\n",
      "Down: x.shape: torch.Size([1, 64, 32, 32]), emb.shape: torch.Size([1, 64, 32, 32])\n",
      "Down: x.shape: torch.Size([1, 64, 64, 64]), emb.shape: torch.Size([1, 64, 64, 64])\n",
      "Down: x.shape: torch.Size([1, 128, 32, 32]), emb.shape: torch.Size([1, 128, 32, 32])\n",
      "Down: x.shape: torch.Size([1, 256, 16, 16]), emb.shape: torch.Size([1, 256, 16, 16])\n",
      "Down: x.shape: torch.Size([1, 256, 8, 8]), emb.shape: torch.Size([1, 256, 8, 8])\n",
      "Down: x.shape: torch.Size([1, 128, 16, 16]), emb.shape: torch.Size([1, 128, 16, 16])\n",
      "Down: x.shape: torch.Size([1, 64, 32, 32]), emb.shape: torch.Size([1, 64, 32, 32])\n",
      "Down: x.shape: torch.Size([1, 64, 64, 64]), emb.shape: torch.Size([1, 64, 64, 64])\n"
     ]
    },
    {
     "name": "stderr",
     "output_type": "stream",
     "text": [
      "970it [00:46, 12.96it/s]"
     ]
    },
    {
     "name": "stdout",
     "output_type": "stream",
     "text": [
      "Down: x.shape: torch.Size([1, 128, 32, 32]), emb.shape: torch.Size([1, 128, 32, 32])\n",
      "Down: x.shape: torch.Size([1, 256, 16, 16]), emb.shape: torch.Size([1, 256, 16, 16])\n",
      "Down: x.shape: torch.Size([1, 256, 8, 8]), emb.shape: torch.Size([1, 256, 8, 8])\n",
      "Down: x.shape: torch.Size([1, 128, 16, 16]), emb.shape: torch.Size([1, 128, 16, 16])\n",
      "Down: x.shape: torch.Size([1, 64, 32, 32]), emb.shape: torch.Size([1, 64, 32, 32])\n",
      "Down: x.shape: torch.Size([1, 64, 64, 64]), emb.shape: torch.Size([1, 64, 64, 64])\n",
      "Down: x.shape: torch.Size([1, 128, 32, 32]), emb.shape: torch.Size([1, 128, 32, 32])\n",
      "Down: x.shape: torch.Size([1, 256, 16, 16]), emb.shape: torch.Size([1, 256, 16, 16])\n",
      "Down: x.shape: torch.Size([1, 256, 8, 8]), emb.shape: torch.Size([1, 256, 8, 8])\n",
      "Down: x.shape: torch.Size([1, 128, 16, 16]), emb.shape: torch.Size([1, 128, 16, 16])\n",
      "Down: x.shape: torch.Size([1, 64, 32, 32]), emb.shape: torch.Size([1, 64, 32, 32])\n",
      "Down: x.shape: torch.Size([1, 64, 64, 64]), emb.shape: torch.Size([1, 64, 64, 64])\n",
      "Down: x.shape: torch.Size([1, 128, 32, 32]), emb.shape: torch.Size([1, 128, 32, 32])\n",
      "Down: x.shape: torch.Size([1, 256, 16, 16]), emb.shape: torch.Size([1, 256, 16, 16])\n",
      "Down: x.shape: torch.Size([1, 256, 8, 8]), emb.shape: torch.Size([1, 256, 8, 8])\n",
      "Down: x.shape: torch.Size([1, 128, 16, 16]), emb.shape: torch.Size([1, 128, 16, 16])\n",
      "Down: x.shape: torch.Size([1, 64, 32, 32]), emb.shape: torch.Size([1, 64, 32, 32])\n",
      "Down: x.shape: torch.Size([1, 64, 64, 64]), emb.shape: torch.Size([1, 64, 64, 64])\n",
      "Down: x.shape: torch.Size([1, 128, 32, 32]), emb.shape: torch.Size([1, 128, 32, 32])\n",
      "Down: x.shape: torch.Size([1, 256, 16, 16]), emb.shape: torch.Size([1, 256, 16, 16])\n",
      "Down: x.shape: torch.Size([1, 256, 8, 8]), emb.shape: torch.Size([1, 256, 8, 8])\n",
      "Down: x.shape: torch.Size([1, 128, 16, 16]), emb.shape: torch.Size([1, 128, 16, 16])\n",
      "Down: x.shape: torch.Size([1, 64, 32, 32]), emb.shape: torch.Size([1, 64, 32, 32])\n",
      "Down: x.shape: torch.Size([1, 64, 64, 64]), emb.shape: torch.Size([1, 64, 64, 64])\n"
     ]
    },
    {
     "name": "stderr",
     "output_type": "stream",
     "text": [
      "974it [00:46, 14.59it/s]"
     ]
    },
    {
     "name": "stdout",
     "output_type": "stream",
     "text": [
      "Down: x.shape: torch.Size([1, 128, 32, 32]), emb.shape: torch.Size([1, 128, 32, 32])\n",
      "Down: x.shape: torch.Size([1, 256, 16, 16]), emb.shape: torch.Size([1, 256, 16, 16])\n",
      "Down: x.shape: torch.Size([1, 256, 8, 8]), emb.shape: torch.Size([1, 256, 8, 8])\n",
      "Down: x.shape: torch.Size([1, 128, 16, 16]), emb.shape: torch.Size([1, 128, 16, 16])\n",
      "Down: x.shape: torch.Size([1, 64, 32, 32]), emb.shape: torch.Size([1, 64, 32, 32])\n",
      "Down: x.shape: torch.Size([1, 64, 64, 64]), emb.shape: torch.Size([1, 64, 64, 64])\n",
      "Down: x.shape: torch.Size([1, 128, 32, 32]), emb.shape: torch.Size([1, 128, 32, 32])\n",
      "Down: x.shape: torch.Size([1, 256, 16, 16]), emb.shape: torch.Size([1, 256, 16, 16])\n",
      "Down: x.shape: torch.Size([1, 256, 8, 8]), emb.shape: torch.Size([1, 256, 8, 8])\n",
      "Down: x.shape: torch.Size([1, 128, 16, 16]), emb.shape: torch.Size([1, 128, 16, 16])\n",
      "Down: x.shape: torch.Size([1, 64, 32, 32]), emb.shape: torch.Size([1, 64, 32, 32])\n",
      "Down: x.shape: torch.Size([1, 64, 64, 64]), emb.shape: torch.Size([1, 64, 64, 64])\n",
      "Down: x.shape: torch.Size([1, 128, 32, 32]), emb.shape: torch.Size([1, 128, 32, 32])\n",
      "Down: x.shape: torch.Size([1, 256, 16, 16]), emb.shape: torch.Size([1, 256, 16, 16])\n",
      "Down: x.shape: torch.Size([1, 256, 8, 8]), emb.shape: torch.Size([1, 256, 8, 8])\n",
      "Down: x.shape: torch.Size([1, 128, 16, 16]), emb.shape: torch.Size([1, 128, 16, 16])\n",
      "Down: x.shape: torch.Size([1, 64, 32, 32]), emb.shape: torch.Size([1, 64, 32, 32])\n",
      "Down: x.shape: torch.Size([1, 64, 64, 64]), emb.shape: torch.Size([1, 64, 64, 64])\n"
     ]
    },
    {
     "name": "stderr",
     "output_type": "stream",
     "text": [
      "979it [00:46, 16.51it/s]"
     ]
    },
    {
     "name": "stdout",
     "output_type": "stream",
     "text": [
      "Down: x.shape: torch.Size([1, 128, 32, 32]), emb.shape: torch.Size([1, 128, 32, 32])\n",
      "Down: x.shape: torch.Size([1, 256, 16, 16]), emb.shape: torch.Size([1, 256, 16, 16])\n",
      "Down: x.shape: torch.Size([1, 256, 8, 8]), emb.shape: torch.Size([1, 256, 8, 8])\n",
      "Down: x.shape: torch.Size([1, 128, 16, 16]), emb.shape: torch.Size([1, 128, 16, 16])\n",
      "Down: x.shape: torch.Size([1, 64, 32, 32]), emb.shape: torch.Size([1, 64, 32, 32])\n",
      "Down: x.shape: torch.Size([1, 64, 64, 64]), emb.shape: torch.Size([1, 64, 64, 64])\n",
      "Down: x.shape: torch.Size([1, 128, 32, 32]), emb.shape: torch.Size([1, 128, 32, 32])\n",
      "Down: x.shape: torch.Size([1, 256, 16, 16]), emb.shape: torch.Size([1, 256, 16, 16])\n",
      "Down: x.shape: torch.Size([1, 256, 8, 8]), emb.shape: torch.Size([1, 256, 8, 8])\n",
      "Down: x.shape: torch.Size([1, 128, 16, 16]), emb.shape: torch.Size([1, 128, 16, 16])\n",
      "Down: x.shape: torch.Size([1, 64, 32, 32]), emb.shape: torch.Size([1, 64, 32, 32])\n",
      "Down: x.shape: torch.Size([1, 64, 64, 64]), emb.shape: torch.Size([1, 64, 64, 64])\n",
      "Down: x.shape: torch.Size([1, 128, 32, 32]), emb.shape: torch.Size([1, 128, 32, 32])\n",
      "Down: x.shape: torch.Size([1, 256, 16, 16]), emb.shape: torch.Size([1, 256, 16, 16])\n",
      "Down: x.shape: torch.Size([1, 256, 8, 8]), emb.shape: torch.Size([1, 256, 8, 8])\n",
      "Down: x.shape: torch.Size([1, 128, 16, 16]), emb.shape: torch.Size([1, 128, 16, 16])\n",
      "Down: x.shape: torch.Size([1, 64, 32, 32]), emb.shape: torch.Size([1, 64, 32, 32])\n",
      "Down: x.shape: torch.Size([1, 64, 64, 64]), emb.shape: torch.Size([1, 64, 64, 64])\n",
      "Down: x.shape: torch.Size([1, 128, 32, 32]), emb.shape: torch.Size([1, 128, 32, 32])\n",
      "Down: x.shape: torch.Size([1, 256, 16, 16]), emb.shape: torch.Size([1, 256, 16, 16])\n",
      "Down: x.shape: torch.Size([1, 256, 8, 8]), emb.shape: torch.Size([1, 256, 8, 8])\n",
      "Down: x.shape: torch.Size([1, 128, 16, 16]), emb.shape: torch.Size([1, 128, 16, 16])\n",
      "Down: x.shape: torch.Size([1, 64, 32, 32]), emb.shape: torch.Size([1, 64, 32, 32])\n",
      "Down: x.shape: torch.Size([1, 64, 64, 64]), emb.shape: torch.Size([1, 64, 64, 64])\n"
     ]
    },
    {
     "name": "stderr",
     "output_type": "stream",
     "text": [
      "982it [00:46, 17.78it/s]"
     ]
    },
    {
     "name": "stdout",
     "output_type": "stream",
     "text": [
      "Down: x.shape: torch.Size([1, 128, 32, 32]), emb.shape: torch.Size([1, 128, 32, 32])\n",
      "Down: x.shape: torch.Size([1, 256, 16, 16]), emb.shape: torch.Size([1, 256, 16, 16])\n",
      "Down: x.shape: torch.Size([1, 256, 8, 8]), emb.shape: torch.Size([1, 256, 8, 8])\n",
      "Down: x.shape: torch.Size([1, 128, 16, 16]), emb.shape: torch.Size([1, 128, 16, 16])\n",
      "Down: x.shape: torch.Size([1, 64, 32, 32]), emb.shape: torch.Size([1, 64, 32, 32])\n",
      "Down: x.shape: torch.Size([1, 64, 64, 64]), emb.shape: torch.Size([1, 64, 64, 64])\n",
      "Down: x.shape: torch.Size([1, 128, 32, 32]), emb.shape: torch.Size([1, 128, 32, 32])\n",
      "Down: x.shape: torch.Size([1, 256, 16, 16]), emb.shape: torch.Size([1, 256, 16, 16])\n",
      "Down: x.shape: torch.Size([1, 256, 8, 8]), emb.shape: torch.Size([1, 256, 8, 8])\n",
      "Down: x.shape: torch.Size([1, 128, 16, 16]), emb.shape: torch.Size([1, 128, 16, 16])\n",
      "Down: x.shape: torch.Size([1, 64, 32, 32]), emb.shape: torch.Size([1, 64, 32, 32])\n",
      "Down: x.shape: torch.Size([1, 64, 64, 64]), emb.shape: torch.Size([1, 64, 64, 64])\n",
      "Down: x.shape: torch.Size([1, 128, 32, 32]), emb.shape: torch.Size([1, 128, 32, 32])\n",
      "Down: x.shape: torch.Size([1, 256, 16, 16]), emb.shape: torch.Size([1, 256, 16, 16])\n",
      "Down: x.shape: torch.Size([1, 256, 8, 8]), emb.shape: torch.Size([1, 256, 8, 8])\n",
      "Down: x.shape: torch.Size([1, 128, 16, 16]), emb.shape: torch.Size([1, 128, 16, 16])\n",
      "Down: x.shape: torch.Size([1, 64, 32, 32]), emb.shape: torch.Size([1, 64, 32, 32])\n",
      "Down: x.shape: torch.Size([1, 64, 64, 64]), emb.shape: torch.Size([1, 64, 64, 64])\n",
      "Down: x.shape: torch.Size([1, 128, 32, 32]), emb.shape: torch.Size([1, 128, 32, 32])\n",
      "Down: x.shape: torch.Size([1, 256, 16, 16]), emb.shape: torch.Size([1, 256, 16, 16])\n",
      "Down: x.shape: torch.Size([1, 256, 8, 8]), emb.shape: torch.Size([1, 256, 8, 8])\n",
      "Down: x.shape: torch.Size([1, 128, 16, 16]), emb.shape: torch.Size([1, 128, 16, 16])\n",
      "Down: x.shape: torch.Size([1, 64, 32, 32]), emb.shape: torch.Size([1, 64, 32, 32])\n",
      "Down: x.shape: torch.Size([1, 64, 64, 64]), emb.shape: torch.Size([1, 64, 64, 64])\n"
     ]
    },
    {
     "name": "stderr",
     "output_type": "stream",
     "text": [
      "987it [00:47, 18.53it/s]"
     ]
    },
    {
     "name": "stdout",
     "output_type": "stream",
     "text": [
      "Down: x.shape: torch.Size([1, 128, 32, 32]), emb.shape: torch.Size([1, 128, 32, 32])\n",
      "Down: x.shape: torch.Size([1, 256, 16, 16]), emb.shape: torch.Size([1, 256, 16, 16])\n",
      "Down: x.shape: torch.Size([1, 256, 8, 8]), emb.shape: torch.Size([1, 256, 8, 8])\n",
      "Down: x.shape: torch.Size([1, 128, 16, 16]), emb.shape: torch.Size([1, 128, 16, 16])\n",
      "Down: x.shape: torch.Size([1, 64, 32, 32]), emb.shape: torch.Size([1, 64, 32, 32])\n",
      "Down: x.shape: torch.Size([1, 64, 64, 64]), emb.shape: torch.Size([1, 64, 64, 64])\n",
      "Down: x.shape: torch.Size([1, 128, 32, 32]), emb.shape: torch.Size([1, 128, 32, 32])\n",
      "Down: x.shape: torch.Size([1, 256, 16, 16]), emb.shape: torch.Size([1, 256, 16, 16])\n",
      "Down: x.shape: torch.Size([1, 256, 8, 8]), emb.shape: torch.Size([1, 256, 8, 8])\n",
      "Down: x.shape: torch.Size([1, 128, 16, 16]), emb.shape: torch.Size([1, 128, 16, 16])\n",
      "Down: x.shape: torch.Size([1, 64, 32, 32]), emb.shape: torch.Size([1, 64, 32, 32])\n",
      "Down: x.shape: torch.Size([1, 64, 64, 64]), emb.shape: torch.Size([1, 64, 64, 64])\n",
      "Down: x.shape: torch.Size([1, 128, 32, 32]), emb.shape: torch.Size([1, 128, 32, 32])\n",
      "Down: x.shape: torch.Size([1, 256, 16, 16]), emb.shape: torch.Size([1, 256, 16, 16])\n",
      "Down: x.shape: torch.Size([1, 256, 8, 8]), emb.shape: torch.Size([1, 256, 8, 8])\n",
      "Down: x.shape: torch.Size([1, 128, 16, 16]), emb.shape: torch.Size([1, 128, 16, 16])\n",
      "Down: x.shape: torch.Size([1, 64, 32, 32]), emb.shape: torch.Size([1, 64, 32, 32])\n",
      "Down: x.shape: torch.Size([1, 64, 64, 64]), emb.shape: torch.Size([1, 64, 64, 64])\n",
      "Down: x.shape: torch.Size([1, 128, 32, 32]), emb.shape: torch.Size([1, 128, 32, 32])\n",
      "Down: x.shape: torch.Size([1, 256, 16, 16]), emb.shape: torch.Size([1, 256, 16, 16])\n",
      "Down: x.shape: torch.Size([1, 256, 8, 8]), emb.shape: torch.Size([1, 256, 8, 8])\n",
      "Down: x.shape: torch.Size([1, 128, 16, 16]), emb.shape: torch.Size([1, 128, 16, 16])\n",
      "Down: x.shape: torch.Size([1, 64, 32, 32]), emb.shape: torch.Size([1, 64, 32, 32])\n",
      "Down: x.shape: torch.Size([1, 64, 64, 64]), emb.shape: torch.Size([1, 64, 64, 64])\n"
     ]
    },
    {
     "name": "stderr",
     "output_type": "stream",
     "text": [
      "989it [00:47, 18.81it/s]"
     ]
    },
    {
     "name": "stdout",
     "output_type": "stream",
     "text": [
      "Down: x.shape: torch.Size([1, 128, 32, 32]), emb.shape: torch.Size([1, 128, 32, 32])\n",
      "Down: x.shape: torch.Size([1, 256, 16, 16]), emb.shape: torch.Size([1, 256, 16, 16])\n",
      "Down: x.shape: torch.Size([1, 256, 8, 8]), emb.shape: torch.Size([1, 256, 8, 8])\n",
      "Down: x.shape: torch.Size([1, 128, 16, 16]), emb.shape: torch.Size([1, 128, 16, 16])\n",
      "Down: x.shape: torch.Size([1, 64, 32, 32]), emb.shape: torch.Size([1, 64, 32, 32])\n",
      "Down: x.shape: torch.Size([1, 64, 64, 64]), emb.shape: torch.Size([1, 64, 64, 64])\n",
      "Down: x.shape: torch.Size([1, 128, 32, 32]), emb.shape: torch.Size([1, 128, 32, 32])\n",
      "Down: x.shape: torch.Size([1, 256, 16, 16]), emb.shape: torch.Size([1, 256, 16, 16])\n",
      "Down: x.shape: torch.Size([1, 256, 8, 8]), emb.shape: torch.Size([1, 256, 8, 8])\n",
      "Down: x.shape: torch.Size([1, 128, 16, 16]), emb.shape: torch.Size([1, 128, 16, 16])\n",
      "Down: x.shape: torch.Size([1, 64, 32, 32]), emb.shape: torch.Size([1, 64, 32, 32])\n",
      "Down: x.shape: torch.Size([1, 64, 64, 64]), emb.shape: torch.Size([1, 64, 64, 64])\n",
      "Down: x.shape: torch.Size([1, 128, 32, 32]), emb.shape: torch.Size([1, 128, 32, 32])\n",
      "Down: x.shape: torch.Size([1, 256, 16, 16]), emb.shape: torch.Size([1, 256, 16, 16])\n",
      "Down: x.shape: torch.Size([1, 256, 8, 8]), emb.shape: torch.Size([1, 256, 8, 8])\n",
      "Down: x.shape: torch.Size([1, 128, 16, 16]), emb.shape: torch.Size([1, 128, 16, 16])\n",
      "Down: x.shape: torch.Size([1, 64, 32, 32]), emb.shape: torch.Size([1, 64, 32, 32])\n",
      "Down: x.shape: torch.Size([1, 64, 64, 64]), emb.shape: torch.Size([1, 64, 64, 64])\n",
      "Down: x.shape: torch.Size([1, 128, 32, 32]), emb.shape: torch.Size([1, 128, 32, 32])\n",
      "Down: x.shape: torch.Size([1, 256, 16, 16]), emb.shape: torch.Size([1, 256, 16, 16])\n",
      "Down: x.shape: torch.Size([1, 256, 8, 8]), emb.shape: torch.Size([1, 256, 8, 8])\n",
      "Down: x.shape: torch.Size([1, 128, 16, 16]), emb.shape: torch.Size([1, 128, 16, 16])\n",
      "Down: x.shape: torch.Size([1, 64, 32, 32]), emb.shape: torch.Size([1, 64, 32, 32])\n",
      "Down: x.shape: torch.Size([1, 64, 64, 64]), emb.shape: torch.Size([1, 64, 64, 64])\n"
     ]
    },
    {
     "name": "stderr",
     "output_type": "stream",
     "text": [
      "994it [00:47, 16.21it/s]"
     ]
    },
    {
     "name": "stdout",
     "output_type": "stream",
     "text": [
      "Down: x.shape: torch.Size([1, 128, 32, 32]), emb.shape: torch.Size([1, 128, 32, 32])\n",
      "Down: x.shape: torch.Size([1, 256, 16, 16]), emb.shape: torch.Size([1, 256, 16, 16])\n",
      "Down: x.shape: torch.Size([1, 256, 8, 8]), emb.shape: torch.Size([1, 256, 8, 8])\n",
      "Down: x.shape: torch.Size([1, 128, 16, 16]), emb.shape: torch.Size([1, 128, 16, 16])\n",
      "Down: x.shape: torch.Size([1, 64, 32, 32]), emb.shape: torch.Size([1, 64, 32, 32])\n",
      "Down: x.shape: torch.Size([1, 64, 64, 64]), emb.shape: torch.Size([1, 64, 64, 64])\n",
      "Down: x.shape: torch.Size([1, 128, 32, 32]), emb.shape: torch.Size([1, 128, 32, 32])\n",
      "Down: x.shape: torch.Size([1, 256, 16, 16]), emb.shape: torch.Size([1, 256, 16, 16])\n",
      "Down: x.shape: torch.Size([1, 256, 8, 8]), emb.shape: torch.Size([1, 256, 8, 8])\n",
      "Down: x.shape: torch.Size([1, 128, 16, 16]), emb.shape: torch.Size([1, 128, 16, 16])\n",
      "Down: x.shape: torch.Size([1, 64, 32, 32]), emb.shape: torch.Size([1, 64, 32, 32])\n",
      "Down: x.shape: torch.Size([1, 64, 64, 64]), emb.shape: torch.Size([1, 64, 64, 64])\n",
      "Down: x.shape: torch.Size([1, 128, 32, 32]), emb.shape: torch.Size([1, 128, 32, 32])\n",
      "Down: x.shape: torch.Size([1, 256, 16, 16]), emb.shape: torch.Size([1, 256, 16, 16])\n",
      "Down: x.shape: torch.Size([1, 256, 8, 8]), emb.shape: torch.Size([1, 256, 8, 8])\n",
      "Down: x.shape: torch.Size([1, 128, 16, 16]), emb.shape: torch.Size([1, 128, 16, 16])\n",
      "Down: x.shape: torch.Size([1, 64, 32, 32]), emb.shape: torch.Size([1, 64, 32, 32])\n",
      "Down: x.shape: torch.Size([1, 64, 64, 64]), emb.shape: torch.Size([1, 64, 64, 64])\n"
     ]
    },
    {
     "name": "stderr",
     "output_type": "stream",
     "text": [
      "996it [00:47, 14.46it/s]"
     ]
    },
    {
     "name": "stdout",
     "output_type": "stream",
     "text": [
      "Down: x.shape: torch.Size([1, 128, 32, 32]), emb.shape: torch.Size([1, 128, 32, 32])\n",
      "Down: x.shape: torch.Size([1, 256, 16, 16]), emb.shape: torch.Size([1, 256, 16, 16])\n",
      "Down: x.shape: torch.Size([1, 256, 8, 8]), emb.shape: torch.Size([1, 256, 8, 8])\n",
      "Down: x.shape: torch.Size([1, 128, 16, 16]), emb.shape: torch.Size([1, 128, 16, 16])\n",
      "Down: x.shape: torch.Size([1, 64, 32, 32]), emb.shape: torch.Size([1, 64, 32, 32])\n",
      "Down: x.shape: torch.Size([1, 64, 64, 64]), emb.shape: torch.Size([1, 64, 64, 64])\n",
      "Down: x.shape: torch.Size([1, 128, 32, 32]), emb.shape: torch.Size([1, 128, 32, 32])\n",
      "Down: x.shape: torch.Size([1, 256, 16, 16]), emb.shape: torch.Size([1, 256, 16, 16])\n",
      "Down: x.shape: torch.Size([1, 256, 8, 8]), emb.shape: torch.Size([1, 256, 8, 8])\n",
      "Down: x.shape: torch.Size([1, 128, 16, 16]), emb.shape: torch.Size([1, 128, 16, 16])\n",
      "Down: x.shape: torch.Size([1, 64, 32, 32]), emb.shape: torch.Size([1, 64, 32, 32])\n",
      "Down: x.shape: torch.Size([1, 64, 64, 64]), emb.shape: torch.Size([1, 64, 64, 64])\n",
      "Down: x.shape: torch.Size([1, 128, 32, 32]), emb.shape: torch.Size([1, 128, 32, 32])\n",
      "Down: x.shape: torch.Size([1, 256, 16, 16]), emb.shape: torch.Size([1, 256, 16, 16])\n"
     ]
    },
    {
     "name": "stderr",
     "output_type": "stream",
     "text": [
      "999it [00:48, 20.80it/s]"
     ]
    },
    {
     "name": "stdout",
     "output_type": "stream",
     "text": [
      "Down: x.shape: torch.Size([1, 256, 8, 8]), emb.shape: torch.Size([1, 256, 8, 8])\n",
      "Down: x.shape: torch.Size([1, 128, 16, 16]), emb.shape: torch.Size([1, 128, 16, 16])\n",
      "Down: x.shape: torch.Size([1, 64, 32, 32]), emb.shape: torch.Size([1, 64, 32, 32])\n",
      "Down: x.shape: torch.Size([1, 64, 64, 64]), emb.shape: torch.Size([1, 64, 64, 64])\n",
      "Down: x.shape: torch.Size([1, 128, 32, 32]), emb.shape: torch.Size([1, 128, 32, 32])\n",
      "Down: x.shape: torch.Size([1, 256, 16, 16]), emb.shape: torch.Size([1, 256, 16, 16])\n",
      "Down: x.shape: torch.Size([1, 256, 8, 8]), emb.shape: torch.Size([1, 256, 8, 8])\n",
      "Down: x.shape: torch.Size([1, 128, 16, 16]), emb.shape: torch.Size([1, 128, 16, 16])\n",
      "Down: x.shape: torch.Size([1, 64, 32, 32]), emb.shape: torch.Size([1, 64, 32, 32])\n",
      "Down: x.shape: torch.Size([1, 64, 64, 64]), emb.shape: torch.Size([1, 64, 64, 64])\n",
      "Down: x.shape: torch.Size([1, 128, 32, 32]), emb.shape: torch.Size([1, 128, 32, 32])\n",
      "Down: x.shape: torch.Size([1, 256, 16, 16]), emb.shape: torch.Size([1, 256, 16, 16])\n",
      "Down: x.shape: torch.Size([1, 256, 8, 8]), emb.shape: torch.Size([1, 256, 8, 8])\n",
      "Down: x.shape: torch.Size([1, 128, 16, 16]), emb.shape: torch.Size([1, 128, 16, 16])\n",
      "Down: x.shape: torch.Size([1, 64, 32, 32]), emb.shape: torch.Size([1, 64, 32, 32])\n",
      "Down: x.shape: torch.Size([1, 64, 64, 64]), emb.shape: torch.Size([1, 64, 64, 64])\n"
     ]
    },
    {
     "name": "stderr",
     "output_type": "stream",
     "text": [
      "\n"
     ]
    }
   ],
   "source": [
    "model.to(\"cuda\")\n",
    "diffusion = DiffusionTools(img_size=IMAGE_SIZE)\n",
    "image = diffusion.sample(model, 1)"
   ],
   "metadata": {
    "collapsed": false,
    "ExecuteTime": {
     "end_time": "2024-03-15T21:00:05.246085Z",
     "start_time": "2024-03-15T20:59:17.088047Z"
    }
   },
   "id": "c1e7defec30982cd",
   "execution_count": 3
  },
  {
   "cell_type": "code",
   "outputs": [],
   "source": [
    "save_images(image, r\"C:\\Users\\20202137\\OneDrive - TU Eindhoven\\Programming\\Python\\MachineLearning\\MachineLearningModels\\DDPM_improved1\\results\\DDPM_Unconditional_256\\result.png\")"
   ],
   "metadata": {
    "collapsed": false,
    "ExecuteTime": {
     "end_time": "2024-03-15T21:00:05.268242Z",
     "start_time": "2024-03-15T21:00:05.248185Z"
    }
   },
   "id": "f221c3e5b50acb44",
   "execution_count": 4
  },
  {
   "cell_type": "code",
   "outputs": [
    {
     "data": {
      "text/plain": "<matplotlib.image.AxesImage at 0x15367d96030>"
     },
     "execution_count": 5,
     "metadata": {},
     "output_type": "execute_result"
    },
    {
     "data": {
      "text/plain": "<Figure size 640x480 with 1 Axes>",
      "image/png": "[encoded data removed]"
     },
     "metadata": {},
     "output_type": "display_data"
    }
   ],
   "source": [
    "image = transforms.ToPILImage()(image[0])\n",
    "plt.imshow(image)"
   ],
   "metadata": {
    "collapsed": false,
    "ExecuteTime": {
     "end_time": "2024-03-15T21:00:05.574178Z",
     "start_time": "2024-03-15T21:00:05.272428Z"
    }
   },
   "id": "405fdb482087f2d9",
   "execution_count": 5
  },
  {
   "cell_type": "code",
   "outputs": [],
   "source": [
    "image.save(r\"C:\\Users\\20202137\\OneDrive - TU Eindhoven\\Programming\\Python\\MachineLearning\\MachineLearningModels\\DDPM_improved1\\results\\DDPM_Unconditional_64\\result2.png\")"
   ],
   "metadata": {
    "collapsed": false,
    "ExecuteTime": {
     "end_time": "2024-03-15T21:00:05.583594Z",
     "start_time": "2024-03-15T21:00:05.576320Z"
    }
   },
   "id": "a231f574a619c9f1",
   "execution_count": 6
  },
  {
   "cell_type": "code",
   "outputs": [],
   "source": [],
   "metadata": {
    "collapsed": false,
    "ExecuteTime": {
     "end_time": "2024-03-15T21:00:05.589953Z",
     "start_time": "2024-03-15T21:00:05.585920Z"
    }
   },
   "id": "1bafcf7439fe98ac",
   "execution_count": 6
  }
 ],
 "metadata": {
  "kernelspec": {
   "display_name": "Python 3",
   "language": "python",
   "name": "python3"
  },
  "language_info": {
   "codemirror_mode": {
    "name": "ipython",
    "version": 2
   },
   "file_extension": ".py",
   "mimetype": "text/x-python",
   "name": "python",
   "nbconvert_exporter": "python",
   "pygments_lexer": "ipython2",
   "version": "2.7.6"
  }
 },
 "nbformat": 4,
 "nbformat_minor": 5
}
